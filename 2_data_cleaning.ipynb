{
 "cells": [
  {
   "cell_type": "code",
   "execution_count": 1,
   "metadata": {},
   "outputs": [],
   "source": [
    "import pandas as pd\n",
    "import numpy as np\n",
    "import seaborn as sns\n",
    "import matplotlib.pyplot as plt"
   ]
  },
  {
   "cell_type": "code",
   "execution_count": 2,
   "metadata": {},
   "outputs": [],
   "source": [
    "# just checking to see how my pickle file reads into the notebook\n",
    "brfss_2009 = pd.read_pickle('./Pickled_Data/brfss_2009.pkl')\n",
    "brfss_2010 = pd.read_pickle('./Pickled_Data/brfss_2010.pkl')\n",
    "brfss_2011 = pd.read_pickle('./Pickled_Data/brfss_2011.pkl')\n",
    "brfss_2012 = pd.read_pickle('./Pickled_Data/brfss_2012.pkl')"
   ]
  },
  {
   "cell_type": "code",
   "execution_count": 3,
   "metadata": {},
   "outputs": [],
   "source": [
    "# since I'm interested specifically in ACE then any row with null values for those questions will be dropped\n",
    "brfss_2009.dropna(subset=['ACEDEPRS', 'ACEDRINK', 'ACEDRUGS', 'ACEPRISN', 'ACEDIVRC', 'ACEPUNCH', 'ACEHURT', 'ACESWEAR', \n",
    "                       'ACETOUCH', 'ACETTHEM', 'ACEHVSEX'], inplace=True)\n",
    "brfss_2010.dropna(subset=['ACEDEPRS', 'ACEDRINK', 'ACEDRUGS', 'ACEPRISN', 'ACEDIVRC', 'ACEPUNCH', 'ACEHURT', 'ACESWEAR', \n",
    "                       'ACETOUCH', 'ACETTHEM', 'ACEHVSEX'], inplace=True)\n",
    "brfss_2011.dropna(subset=['ACEDEPRS', 'ACEDRINK', 'ACEDRUGS', 'ACEPRISN', 'ACEDIVRC', 'ACEPUNCH', 'ACEHURT', 'ACESWEAR', \n",
    "                       'ACETOUCH', 'ACETTHEM', 'ACEHVSEX'], inplace=True)\n",
    "brfss_2012.dropna(subset=['ACEDEPRS', 'ACEDRINK', 'ACEDRUGS', 'ACEPRISN', 'ACEDIVRC', 'ACEPUNCH', 'ACEHURT', 'ACESWEAR', \n",
    "                       'ACETOUCH', 'ACETTHEM', 'ACEHVSEX'], inplace=True)"
   ]
  },
  {
   "cell_type": "code",
   "execution_count": 4,
   "metadata": {},
   "outputs": [],
   "source": [
    "# creating a dataframe with data from all years\n",
    "brfss_total = pd.concat([brfss_2009, brfss_2010, brfss_2011, brfss_2012], ignore_index=True)"
   ]
  },
  {
   "cell_type": "code",
   "execution_count": 5,
   "metadata": {},
   "outputs": [
    {
     "data": {
      "text/plain": [
       "_STATE           0\n",
       "DISPCODE         0\n",
       "GENHLTH          0\n",
       "PHYSHLTH         0\n",
       "MENTHLTH         0\n",
       "POORHLTH     57264\n",
       "SMOKE100         0\n",
       "SMOKDAY2     62010\n",
       "STOPSMK2     98296\n",
       "USENOW3          0\n",
       "AGE              0\n",
       "HISPANC2         0\n",
       "MRACE            0\n",
       "ORACE2      113943\n",
       "MARITAL          0\n",
       "CHILDREN        21\n",
       "EDUCA            0\n",
       "EMPLOY           0\n",
       "INCOME2         63\n",
       "RENTHOM1     28001\n",
       "SEX              0\n",
       "EXERANY2         0\n",
       "QLACTLM2         0\n",
       "AVEDRNK2     55672\n",
       "DRNK3GE5     55672\n",
       "QLREST2      67208\n",
       "SLEPTIME     81700\n",
       "SCNTMONY     92918\n",
       "SCNTMEAL     91209\n",
       "ACEDEPRS         0\n",
       "ACEDRINK         0\n",
       "ACEDRUGS         0\n",
       "ACEPRISN         0\n",
       "ACEDIVRC         0\n",
       "ACEPUNCH         0\n",
       "ACEHURT          0\n",
       "ACESWEAR         0\n",
       "ACETOUCH         0\n",
       "ACETTHEM         0\n",
       "ACEHVSEX         0\n",
       "MSCODE       14378\n",
       "_IMPAGE          0\n",
       "_RFHLTH          0\n",
       "_SMOKER3         0\n",
       "_RFSMOK3         0\n",
       "_PRACE           0\n",
       "_EDUCAG          0\n",
       "_INCOMG          0\n",
       "_TOTINDA         0\n",
       "dtype: int64"
      ]
     },
     "execution_count": 5,
     "metadata": {},
     "output_type": "execute_result"
    }
   ],
   "source": [
    "# only 11 columns have null values\n",
    "brfss_total.isna().sum()"
   ]
  },
  {
   "cell_type": "code",
   "execution_count": 6,
   "metadata": {},
   "outputs": [],
   "source": [
    "# will drop columns that are used to calculate other variables that I won't be dropping such as 'AGE', 'GENHLTH', 'SMOKE100', 'SMOKDAY2',\n",
    "# '_RFSMOK3', 'MRACE', 'ORACE2', 'EDUCA', 'INCOME2', 'EXERANY2' and any with 50_000 or more null values\n",
    "brfss_total.drop(columns = ['AGE', 'GENHLTH', 'SMOKE100', 'SMOKDAY2','_RFSMOK3', 'MRACE', 'ORACE2', 'EDUCA', 'INCOME2', 'EXERANY2', \n",
    "                            'SCNTMEAL', 'SCNTMONY', 'SLEPTIME', 'ORACE2', 'POORHLTH', 'QLREST2', 'AVEDRNK2', 'DRNK3GE5', 'STOPSMK2'],\n",
    "                            inplace=True)"
   ]
  },
  {
   "cell_type": "code",
   "execution_count": 7,
   "metadata": {},
   "outputs": [],
   "source": [
    "# replacing all don't knows, refused answers or none with zeros\n",
    "brfss_total = brfss_total.replace({77:0, 88:0, 99:0, 7:0, 8:0, 9:0})"
   ]
  },
  {
   "cell_type": "code",
   "execution_count": 8,
   "metadata": {},
   "outputs": [],
   "source": [
    "# will replace nulls with 0\n",
    "brfss_total['RENTHOM1'].fillna(0, inplace = True)"
   ]
  },
  {
   "cell_type": "code",
   "execution_count": 9,
   "metadata": {},
   "outputs": [],
   "source": [
    "brfss_total['CHILDREN'].fillna(0, inplace=True)"
   ]
  },
  {
   "cell_type": "code",
   "execution_count": 10,
   "metadata": {},
   "outputs": [],
   "source": [
    "brfss_total['MSCODE'].fillna(0, inplace=True)"
   ]
  },
  {
   "cell_type": "code",
   "execution_count": 11,
   "metadata": {},
   "outputs": [
    {
     "data": {
      "text/plain": [
       "_STATE      0\n",
       "DISPCODE    0\n",
       "PHYSHLTH    0\n",
       "MENTHLTH    0\n",
       "USENOW3     0\n",
       "HISPANC2    0\n",
       "MARITAL     0\n",
       "CHILDREN    0\n",
       "EMPLOY      0\n",
       "RENTHOM1    0\n",
       "SEX         0\n",
       "QLACTLM2    0\n",
       "ACEDEPRS    0\n",
       "ACEDRINK    0\n",
       "ACEDRUGS    0\n",
       "ACEPRISN    0\n",
       "ACEDIVRC    0\n",
       "ACEPUNCH    0\n",
       "ACEHURT     0\n",
       "ACESWEAR    0\n",
       "ACETOUCH    0\n",
       "ACETTHEM    0\n",
       "ACEHVSEX    0\n",
       "MSCODE      0\n",
       "_IMPAGE     0\n",
       "_RFHLTH     0\n",
       "_SMOKER3    0\n",
       "_PRACE      0\n",
       "_EDUCAG     0\n",
       "_INCOMG     0\n",
       "_TOTINDA    0\n",
       "dtype: int64"
      ]
     },
     "execution_count": 11,
     "metadata": {},
     "output_type": "execute_result"
    }
   ],
   "source": [
    "brfss_total.isna().sum()"
   ]
  },
  {
   "cell_type": "code",
   "execution_count": 12,
   "metadata": {},
   "outputs": [
    {
     "name": "stdout",
     "output_type": "stream",
     "text": [
      "<class 'pandas.core.frame.DataFrame'>\n",
      "RangeIndex: 117555 entries, 0 to 117554\n",
      "Data columns (total 31 columns):\n",
      " #   Column    Non-Null Count   Dtype  \n",
      "---  ------    --------------   -----  \n",
      " 0   _STATE    117555 non-null  float64\n",
      " 1   DISPCODE  117555 non-null  float64\n",
      " 2   PHYSHLTH  117555 non-null  float64\n",
      " 3   MENTHLTH  117555 non-null  float64\n",
      " 4   USENOW3   117555 non-null  float64\n",
      " 5   HISPANC2  117555 non-null  float64\n",
      " 6   MARITAL   117555 non-null  float64\n",
      " 7   CHILDREN  117555 non-null  float64\n",
      " 8   EMPLOY    117555 non-null  float64\n",
      " 9   RENTHOM1  117555 non-null  float64\n",
      " 10  SEX       117555 non-null  float64\n",
      " 11  QLACTLM2  117555 non-null  float64\n",
      " 12  ACEDEPRS  117555 non-null  float64\n",
      " 13  ACEDRINK  117555 non-null  float64\n",
      " 14  ACEDRUGS  117555 non-null  float64\n",
      " 15  ACEPRISN  117555 non-null  float64\n",
      " 16  ACEDIVRC  117555 non-null  float64\n",
      " 17  ACEPUNCH  117555 non-null  float64\n",
      " 18  ACEHURT   117555 non-null  float64\n",
      " 19  ACESWEAR  117555 non-null  float64\n",
      " 20  ACETOUCH  117555 non-null  float64\n",
      " 21  ACETTHEM  117555 non-null  float64\n",
      " 22  ACEHVSEX  117555 non-null  float64\n",
      " 23  MSCODE    117555 non-null  float64\n",
      " 24  _IMPAGE   117555 non-null  float64\n",
      " 25  _RFHLTH   117555 non-null  float64\n",
      " 26  _SMOKER3  117555 non-null  float64\n",
      " 27  _PRACE    117555 non-null  float64\n",
      " 28  _EDUCAG   117555 non-null  float64\n",
      " 29  _INCOMG   117555 non-null  float64\n",
      " 30  _TOTINDA  117555 non-null  float64\n",
      "dtypes: float64(31)\n",
      "memory usage: 27.8 MB\n"
     ]
    }
   ],
   "source": [
    "brfss_total.info()"
   ]
  },
  {
   "cell_type": "code",
   "execution_count": 13,
   "metadata": {},
   "outputs": [],
   "source": [
    "brfss_2009.drop(columns = ['AGE', 'GENHLTH', 'SMOKE100', 'SMOKDAY2','_RFSMOK3', 'MRACE', 'ORACE2', 'EDUCA', 'INCOME2', 'EXERANY2', \n",
    "                            'SCNTMEAL', 'SCNTMONY', 'SLEPTIME', 'ORACE2', 'POORHLTH', 'QLREST2', 'AVEDRNK2', 'DRNK3GE5', 'STOPSMK2'],\n",
    "                            inplace=True)\n",
    "brfss_2010.drop(columns = ['AGE', 'GENHLTH', 'SMOKE100', 'SMOKDAY2','_RFSMOK3', 'MRACE', 'ORACE2', 'EDUCA', 'INCOME2', 'EXERANY2', \n",
    "                            'SCNTMEAL', 'SCNTMONY', 'SLEPTIME', 'ORACE2', 'POORHLTH', 'QLREST2', 'AVEDRNK2', 'DRNK3GE5', 'STOPSMK2'],\n",
    "                            inplace=True)\n",
    "brfss_2011.drop(columns = ['AGE', 'GENHLTH', 'SMOKE100', 'SMOKDAY2','_RFSMOK3', 'MRACE', 'ORACE2', 'EDUCA', 'INCOME2', 'EXERANY2', \n",
    "                            'SCNTMEAL', 'SCNTMONY', 'SLEPTIME', 'ORACE2', 'POORHLTH', 'QLREST2', 'AVEDRNK2', 'DRNK3GE5', 'STOPSMK2'],\n",
    "                            inplace=True)\n",
    "brfss_2012.drop(columns = ['AGE', 'GENHLTH', 'SMOKE100', 'SMOKDAY2','_RFSMOK3', 'MRACE', 'ORACE2', 'EDUCA', 'INCOME2', 'EXERANY2', \n",
    "                            'SCNTMEAL', 'SCNTMONY', 'SLEPTIME', 'ORACE2', 'POORHLTH', 'QLREST2', 'AVEDRNK2', 'DRNK3GE5', 'STOPSMK2'],\n",
    "                            inplace=True)"
   ]
  },
  {
   "cell_type": "code",
   "execution_count": 14,
   "metadata": {},
   "outputs": [],
   "source": [
    "# replacing all don't knows, refused answers or none with zeros\n",
    "brfss_2009 = brfss_2009.replace({77:0, 88:0, 99:0, 7:0, 8:0, 9:0})\n",
    "# replacing all don't knows, refused answers or none with zeros\n",
    "brfss_2010 = brfss_2010.replace({77:0, 88:0, 99:0, 7:0, 8:0, 9:0})\n",
    "# replacing all don't knows, refused answers or none with zeros\n",
    "brfss_2011 = brfss_2011.replace({77:0, 88:0, 99:0, 7:0, 8:0, 9:0})\n",
    "# replacing all don't knows, refused answers or none with zeros\n",
    "brfss_2012 = brfss_2012.replace({77:0, 88:0, 99:0, 7:0, 8:0, 9:0})"
   ]
  },
  {
   "cell_type": "code",
   "execution_count": 15,
   "metadata": {},
   "outputs": [
    {
     "data": {
      "text/plain": [
       "_STATE         0\n",
       "DISPCODE       0\n",
       "PHYSHLTH       0\n",
       "MENTHLTH       0\n",
       "USENOW3        0\n",
       "HISPANC2       0\n",
       "MARITAL        0\n",
       "CHILDREN       0\n",
       "EMPLOY         0\n",
       "RENTHOM1    3681\n",
       "SEX            0\n",
       "QLACTLM2       0\n",
       "ACEDEPRS       0\n",
       "ACEDRINK       0\n",
       "ACEDRUGS       0\n",
       "ACEPRISN       0\n",
       "ACEDIVRC       0\n",
       "ACEPUNCH       0\n",
       "ACEHURT        0\n",
       "ACESWEAR       0\n",
       "ACETOUCH       0\n",
       "ACETTHEM       0\n",
       "ACEHVSEX       0\n",
       "MSCODE         0\n",
       "_IMPAGE        0\n",
       "_RFHLTH        0\n",
       "_SMOKER3       0\n",
       "_PRACE         0\n",
       "_EDUCAG        0\n",
       "_INCOMG        0\n",
       "_TOTINDA       0\n",
       "dtype: int64"
      ]
     },
     "execution_count": 15,
     "metadata": {},
     "output_type": "execute_result"
    }
   ],
   "source": [
    "brfss_2009.isna().sum()"
   ]
  },
  {
   "cell_type": "code",
   "execution_count": 16,
   "metadata": {},
   "outputs": [],
   "source": [
    "# will replace nulls with 0\n",
    "brfss_2009['RENTHOM1'].fillna(0, inplace = True)"
   ]
  },
  {
   "cell_type": "code",
   "execution_count": 17,
   "metadata": {},
   "outputs": [
    {
     "data": {
      "text/plain": [
       "_STATE      0\n",
       "DISPCODE    0\n",
       "PHYSHLTH    0\n",
       "MENTHLTH    0\n",
       "USENOW3     0\n",
       "HISPANC2    0\n",
       "MARITAL     0\n",
       "CHILDREN    0\n",
       "EMPLOY      0\n",
       "RENTHOM1    0\n",
       "SEX         0\n",
       "QLACTLM2    0\n",
       "ACEDEPRS    0\n",
       "ACEDRINK    0\n",
       "ACEDRUGS    0\n",
       "ACEPRISN    0\n",
       "ACEDIVRC    0\n",
       "ACEPUNCH    0\n",
       "ACEHURT     0\n",
       "ACESWEAR    0\n",
       "ACETOUCH    0\n",
       "ACETTHEM    0\n",
       "ACEHVSEX    0\n",
       "MSCODE      0\n",
       "_IMPAGE     0\n",
       "_RFHLTH     0\n",
       "_SMOKER3    0\n",
       "_PRACE      0\n",
       "_EDUCAG     0\n",
       "_INCOMG     0\n",
       "_TOTINDA    0\n",
       "dtype: int64"
      ]
     },
     "execution_count": 17,
     "metadata": {},
     "output_type": "execute_result"
    }
   ],
   "source": [
    "brfss_2009.isna().sum()"
   ]
  },
  {
   "cell_type": "code",
   "execution_count": 18,
   "metadata": {},
   "outputs": [
    {
     "data": {
      "text/plain": [
       "_STATE          0\n",
       "DISPCODE        0\n",
       "PHYSHLTH        0\n",
       "MENTHLTH        0\n",
       "USENOW3         0\n",
       "HISPANC2        0\n",
       "MARITAL         0\n",
       "CHILDREN        0\n",
       "EMPLOY          0\n",
       "RENTHOM1    24320\n",
       "SEX             0\n",
       "QLACTLM2        0\n",
       "ACEDEPRS        0\n",
       "ACEDRINK        0\n",
       "ACEDRUGS        0\n",
       "ACEPRISN        0\n",
       "ACEDIVRC        0\n",
       "ACEPUNCH        0\n",
       "ACEHURT         0\n",
       "ACESWEAR        0\n",
       "ACETOUCH        0\n",
       "ACETTHEM        0\n",
       "ACEHVSEX        0\n",
       "MSCODE          0\n",
       "_IMPAGE         0\n",
       "_RFHLTH         0\n",
       "_SMOKER3        0\n",
       "_PRACE          0\n",
       "_EDUCAG         0\n",
       "_INCOMG         0\n",
       "_TOTINDA        0\n",
       "dtype: int64"
      ]
     },
     "execution_count": 18,
     "metadata": {},
     "output_type": "execute_result"
    }
   ],
   "source": [
    "brfss_2010.isna().sum()"
   ]
  },
  {
   "cell_type": "code",
   "execution_count": 19,
   "metadata": {},
   "outputs": [
    {
     "data": {
      "text/plain": [
       "_STATE      0\n",
       "DISPCODE    0\n",
       "PHYSHLTH    0\n",
       "MENTHLTH    0\n",
       "USENOW3     0\n",
       "HISPANC2    0\n",
       "MARITAL     0\n",
       "CHILDREN    0\n",
       "EMPLOY      0\n",
       "RENTHOM1    0\n",
       "SEX         0\n",
       "QLACTLM2    0\n",
       "ACEDEPRS    0\n",
       "ACEDRINK    0\n",
       "ACEDRUGS    0\n",
       "ACEPRISN    0\n",
       "ACEDIVRC    0\n",
       "ACEPUNCH    0\n",
       "ACEHURT     0\n",
       "ACESWEAR    0\n",
       "ACETOUCH    0\n",
       "ACETTHEM    0\n",
       "ACEHVSEX    0\n",
       "MSCODE      0\n",
       "_IMPAGE     0\n",
       "_RFHLTH     0\n",
       "_SMOKER3    0\n",
       "_PRACE      0\n",
       "_EDUCAG     0\n",
       "_INCOMG     0\n",
       "_TOTINDA    0\n",
       "dtype: int64"
      ]
     },
     "execution_count": 19,
     "metadata": {},
     "output_type": "execute_result"
    }
   ],
   "source": [
    "brfss_2010['RENTHOM1'].fillna(0, inplace = True)\n",
    "brfss_2010.isna().sum()"
   ]
  },
  {
   "cell_type": "code",
   "execution_count": 20,
   "metadata": {},
   "outputs": [
    {
     "data": {
      "text/plain": [
       "_STATE         0\n",
       "DISPCODE       0\n",
       "PHYSHLTH       0\n",
       "MENTHLTH       0\n",
       "USENOW3        0\n",
       "HISPANC2       0\n",
       "MARITAL        0\n",
       "CHILDREN      21\n",
       "EMPLOY         0\n",
       "RENTHOM1       0\n",
       "SEX            0\n",
       "QLACTLM2       0\n",
       "ACEDEPRS       0\n",
       "ACEDRINK       0\n",
       "ACEDRUGS       0\n",
       "ACEPRISN       0\n",
       "ACEDIVRC       0\n",
       "ACEPUNCH       0\n",
       "ACEHURT        0\n",
       "ACESWEAR       0\n",
       "ACETOUCH       0\n",
       "ACETTHEM       0\n",
       "ACEHVSEX       0\n",
       "MSCODE      7359\n",
       "_IMPAGE        0\n",
       "_RFHLTH        0\n",
       "_SMOKER3       0\n",
       "_PRACE         0\n",
       "_EDUCAG        0\n",
       "_INCOMG        0\n",
       "_TOTINDA       0\n",
       "dtype: int64"
      ]
     },
     "execution_count": 20,
     "metadata": {},
     "output_type": "execute_result"
    }
   ],
   "source": [
    "brfss_2011.isna().sum()"
   ]
  },
  {
   "cell_type": "code",
   "execution_count": 21,
   "metadata": {},
   "outputs": [
    {
     "data": {
      "text/plain": [
       "_STATE      0\n",
       "DISPCODE    0\n",
       "PHYSHLTH    0\n",
       "MENTHLTH    0\n",
       "USENOW3     0\n",
       "HISPANC2    0\n",
       "MARITAL     0\n",
       "CHILDREN    0\n",
       "EMPLOY      0\n",
       "RENTHOM1    0\n",
       "SEX         0\n",
       "QLACTLM2    0\n",
       "ACEDEPRS    0\n",
       "ACEDRINK    0\n",
       "ACEDRUGS    0\n",
       "ACEPRISN    0\n",
       "ACEDIVRC    0\n",
       "ACEPUNCH    0\n",
       "ACEHURT     0\n",
       "ACESWEAR    0\n",
       "ACETOUCH    0\n",
       "ACETTHEM    0\n",
       "ACEHVSEX    0\n",
       "MSCODE      0\n",
       "_IMPAGE     0\n",
       "_RFHLTH     0\n",
       "_SMOKER3    0\n",
       "_PRACE      0\n",
       "_EDUCAG     0\n",
       "_INCOMG     0\n",
       "_TOTINDA    0\n",
       "dtype: int64"
      ]
     },
     "execution_count": 21,
     "metadata": {},
     "output_type": "execute_result"
    }
   ],
   "source": [
    "brfss_2011['CHILDREN'].fillna(0, inplace=True)\n",
    "brfss_2011['MSCODE'].fillna(0, inplace=True)\n",
    "brfss_2011.isna().sum()"
   ]
  },
  {
   "cell_type": "code",
   "execution_count": 22,
   "metadata": {},
   "outputs": [
    {
     "data": {
      "text/plain": [
       "_STATE         0\n",
       "DISPCODE       0\n",
       "PHYSHLTH       0\n",
       "MENTHLTH       0\n",
       "USENOW3        0\n",
       "HISPANC2       0\n",
       "MARITAL        0\n",
       "CHILDREN       0\n",
       "EMPLOY         0\n",
       "RENTHOM1       0\n",
       "SEX            0\n",
       "QLACTLM2       0\n",
       "ACEDEPRS       0\n",
       "ACEDRINK       0\n",
       "ACEDRUGS       0\n",
       "ACEPRISN       0\n",
       "ACEDIVRC       0\n",
       "ACEPUNCH       0\n",
       "ACEHURT        0\n",
       "ACESWEAR       0\n",
       "ACETOUCH       0\n",
       "ACETTHEM       0\n",
       "ACEHVSEX       0\n",
       "MSCODE      7019\n",
       "_IMPAGE        0\n",
       "_RFHLTH        0\n",
       "_SMOKER3       0\n",
       "_PRACE         0\n",
       "_EDUCAG        0\n",
       "_INCOMG        0\n",
       "_TOTINDA       0\n",
       "dtype: int64"
      ]
     },
     "execution_count": 22,
     "metadata": {},
     "output_type": "execute_result"
    }
   ],
   "source": [
    "brfss_2012.isna().sum()"
   ]
  },
  {
   "cell_type": "code",
   "execution_count": 23,
   "metadata": {},
   "outputs": [
    {
     "data": {
      "text/plain": [
       "_STATE      0\n",
       "DISPCODE    0\n",
       "PHYSHLTH    0\n",
       "MENTHLTH    0\n",
       "USENOW3     0\n",
       "HISPANC2    0\n",
       "MARITAL     0\n",
       "CHILDREN    0\n",
       "EMPLOY      0\n",
       "RENTHOM1    0\n",
       "SEX         0\n",
       "QLACTLM2    0\n",
       "ACEDEPRS    0\n",
       "ACEDRINK    0\n",
       "ACEDRUGS    0\n",
       "ACEPRISN    0\n",
       "ACEDIVRC    0\n",
       "ACEPUNCH    0\n",
       "ACEHURT     0\n",
       "ACESWEAR    0\n",
       "ACETOUCH    0\n",
       "ACETTHEM    0\n",
       "ACEHVSEX    0\n",
       "MSCODE      0\n",
       "_IMPAGE     0\n",
       "_RFHLTH     0\n",
       "_SMOKER3    0\n",
       "_PRACE      0\n",
       "_EDUCAG     0\n",
       "_INCOMG     0\n",
       "_TOTINDA    0\n",
       "dtype: int64"
      ]
     },
     "execution_count": 23,
     "metadata": {},
     "output_type": "execute_result"
    }
   ],
   "source": [
    "brfss_2012['MSCODE'].fillna(0, inplace=True)\n",
    "brfss_2012.isna().sum()"
   ]
  },
  {
   "cell_type": "code",
   "execution_count": 24,
   "metadata": {},
   "outputs": [],
   "source": [
    "# saving cleaned datasets to .csv files\n",
    "brfss_total.to_csv('./csv_data/brfss_total.csv')\n",
    "brfss_2009.to_csv('./csv_data/brfss_2009.csv')\n",
    "brfss_2010.to_csv('./csv_data/brfss_2010.csv')\n",
    "brfss_2011.to_csv('./csv_data/brfss_2011.csv')\n",
    "brfss_2012.to_csv('./csv_data/brfss_2012.csv')"
   ]
  },
  {
   "cell_type": "code",
   "execution_count": null,
   "metadata": {},
   "outputs": [],
   "source": []
  }
 ],
 "metadata": {
  "kernelspec": {
   "display_name": "Python 3",
   "language": "python",
   "name": "python3"
  },
  "language_info": {
   "codemirror_mode": {
    "name": "ipython",
    "version": 3
   },
   "file_extension": ".py",
   "mimetype": "text/x-python",
   "name": "python",
   "nbconvert_exporter": "python",
   "pygments_lexer": "ipython3",
   "version": "3.8.3"
  }
 },
 "nbformat": 4,
 "nbformat_minor": 4
}
