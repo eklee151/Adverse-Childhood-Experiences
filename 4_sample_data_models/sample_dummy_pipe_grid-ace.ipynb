{
 "cells": [
  {
   "cell_type": "code",
   "execution_count": 91,
   "metadata": {
    "collapsed": true,
    "jupyter": {
     "outputs_hidden": true
    }
   },
   "outputs": [
    {
     "name": "stdout",
     "output_type": "stream",
     "text": [
      "Collecting imblearn\n",
      "  Downloading imblearn-0.0-py2.py3-none-any.whl (1.9 kB)\n",
      "Collecting imbalanced-learn\n",
      "  Downloading imbalanced_learn-0.7.0-py3-none-any.whl (167 kB)\n",
      "Requirement already satisfied: joblib>=0.11 in c:\\users\\eboni\\anaconda3\\lib\\site-packages (from imbalanced-learn->imblearn) (0.16.0)\n",
      "Requirement already satisfied: scikit-learn>=0.23 in c:\\users\\eboni\\anaconda3\\lib\\site-packages (from imbalanced-learn->imblearn) (0.23.1)\n",
      "Requirement already satisfied: numpy>=1.13.3 in c:\\users\\eboni\\anaconda3\\lib\\site-packages (from imbalanced-learn->imblearn) (1.18.5)\n",
      "Requirement already satisfied: scipy>=0.19.1 in c:\\users\\eboni\\anaconda3\\lib\\site-packages (from imbalanced-learn->imblearn) (1.5.0)\n",
      "Requirement already satisfied: threadpoolctl>=2.0.0 in c:\\users\\eboni\\anaconda3\\lib\\site-packages (from scikit-learn>=0.23->imbalanced-learn->imblearn) (2.1.0)\n",
      "Installing collected packages: imbalanced-learn, imblearn\n",
      "Successfully installed imbalanced-learn-0.7.0 imblearn-0.0\n"
     ]
    }
   ],
   "source": [
    "#!pip install imblearn"
   ]
  },
  {
   "cell_type": "code",
   "execution_count": 1,
   "metadata": {
    "collapsed": true,
    "jupyter": {
     "outputs_hidden": true
    }
   },
   "outputs": [
    {
     "name": "stdout",
     "output_type": "stream",
     "text": [
      "Collecting xgboost\n",
      "  Downloading xgboost-1.2.1-py3-none-win_amd64.whl (86.5 MB)\n",
      "Requirement already satisfied: scipy in c:\\users\\eboni\\anaconda3\\lib\\site-packages (from xgboost) (1.5.0)\n",
      "Requirement already satisfied: numpy in c:\\users\\eboni\\anaconda3\\lib\\site-packages (from xgboost) (1.18.5)\n",
      "Installing collected packages: xgboost\n",
      "Successfully installed xgboost-1.2.1\n"
     ]
    }
   ],
   "source": [
    "#!pip install xgboost"
   ]
  },
  {
   "cell_type": "code",
   "execution_count": 2,
   "metadata": {},
   "outputs": [],
   "source": [
    "import pandas as pd\n",
    "import numpy as np\n",
    "import seaborn as sns\n",
    "import matplotlib.pyplot as plt\n",
    "\n",
    "from sklearn.model_selection import train_test_split, GridSearchCV\n",
    "from sklearn.preprocessing import StandardScaler\n",
    "from sklearn.feature_selection import SelectKBest, f_classif\n",
    "from sklearn.pipeline import make_pipeline\n",
    "from sklearn.linear_model import LogisticRegression\n",
    "from sklearn.metrics import confusion_matrix, plot_confusion_matrix, precision_score\n",
    "#from sklearn.preprocessing import PolynomialFeatures\n",
    "from sklearn.ensemble import RandomForestClassifier, ExtraTreesClassifier, AdaBoostClassifier, GradientBoostingClassifier\n",
    "\n",
    "from imblearn.over_sampling import SMOTE\n",
    "\n",
    "import xgboost as xgb"
   ]
  },
  {
   "cell_type": "code",
   "execution_count": 3,
   "metadata": {},
   "outputs": [],
   "source": [
    "# reading in full data set\n",
    "brfss_total = pd.read_csv(\"./brfss_total.csv\")"
   ]
  },
  {
   "cell_type": "code",
   "execution_count": 4,
   "metadata": {},
   "outputs": [
    {
     "data": {
      "text/html": [
       "<div>\n",
       "<style scoped>\n",
       "    .dataframe tbody tr th:only-of-type {\n",
       "        vertical-align: middle;\n",
       "    }\n",
       "\n",
       "    .dataframe tbody tr th {\n",
       "        vertical-align: top;\n",
       "    }\n",
       "\n",
       "    .dataframe thead th {\n",
       "        text-align: right;\n",
       "    }\n",
       "</style>\n",
       "<table border=\"1\" class=\"dataframe\">\n",
       "  <thead>\n",
       "    <tr style=\"text-align: right;\">\n",
       "      <th></th>\n",
       "      <th>_STATE</th>\n",
       "      <th>DISPCODE</th>\n",
       "      <th>PHYSHLTH</th>\n",
       "      <th>MENTHLTH</th>\n",
       "      <th>USENOW3</th>\n",
       "      <th>HISPANC2</th>\n",
       "      <th>MARITAL</th>\n",
       "      <th>CHILDREN</th>\n",
       "      <th>EMPLOY</th>\n",
       "      <th>RENTHOM1</th>\n",
       "      <th>...</th>\n",
       "      <th>ACETTHEM</th>\n",
       "      <th>ACEHVSEX</th>\n",
       "      <th>MSCODE</th>\n",
       "      <th>_IMPAGE</th>\n",
       "      <th>_RFHLTH</th>\n",
       "      <th>_SMOKER3</th>\n",
       "      <th>_PRACE</th>\n",
       "      <th>_EDUCAG</th>\n",
       "      <th>_INCOMG</th>\n",
       "      <th>_TOTINDA</th>\n",
       "    </tr>\n",
       "  </thead>\n",
       "  <tbody>\n",
       "    <tr>\n",
       "      <th>14697</th>\n",
       "      <td>5.0</td>\n",
       "      <td>110.0</td>\n",
       "      <td>0.0</td>\n",
       "      <td>0.0</td>\n",
       "      <td>3.0</td>\n",
       "      <td>2.0</td>\n",
       "      <td>1.0</td>\n",
       "      <td>1.0</td>\n",
       "      <td>2.0</td>\n",
       "      <td>0.0</td>\n",
       "      <td>...</td>\n",
       "      <td>1.0</td>\n",
       "      <td>1.0</td>\n",
       "      <td>5.0</td>\n",
       "      <td>53.0</td>\n",
       "      <td>1.0</td>\n",
       "      <td>4.0</td>\n",
       "      <td>1.0</td>\n",
       "      <td>3.0</td>\n",
       "      <td>5.0</td>\n",
       "      <td>1.0</td>\n",
       "    </tr>\n",
       "    <tr>\n",
       "      <th>14699</th>\n",
       "      <td>5.0</td>\n",
       "      <td>110.0</td>\n",
       "      <td>15.0</td>\n",
       "      <td>0.0</td>\n",
       "      <td>3.0</td>\n",
       "      <td>2.0</td>\n",
       "      <td>2.0</td>\n",
       "      <td>0.0</td>\n",
       "      <td>0.0</td>\n",
       "      <td>0.0</td>\n",
       "      <td>...</td>\n",
       "      <td>1.0</td>\n",
       "      <td>1.0</td>\n",
       "      <td>5.0</td>\n",
       "      <td>64.0</td>\n",
       "      <td>2.0</td>\n",
       "      <td>3.0</td>\n",
       "      <td>1.0</td>\n",
       "      <td>2.0</td>\n",
       "      <td>2.0</td>\n",
       "      <td>1.0</td>\n",
       "    </tr>\n",
       "    <tr>\n",
       "      <th>14700</th>\n",
       "      <td>5.0</td>\n",
       "      <td>110.0</td>\n",
       "      <td>6.0</td>\n",
       "      <td>0.0</td>\n",
       "      <td>3.0</td>\n",
       "      <td>2.0</td>\n",
       "      <td>1.0</td>\n",
       "      <td>0.0</td>\n",
       "      <td>0.0</td>\n",
       "      <td>0.0</td>\n",
       "      <td>...</td>\n",
       "      <td>1.0</td>\n",
       "      <td>1.0</td>\n",
       "      <td>5.0</td>\n",
       "      <td>58.0</td>\n",
       "      <td>1.0</td>\n",
       "      <td>4.0</td>\n",
       "      <td>1.0</td>\n",
       "      <td>3.0</td>\n",
       "      <td>2.0</td>\n",
       "      <td>1.0</td>\n",
       "    </tr>\n",
       "    <tr>\n",
       "      <th>14701</th>\n",
       "      <td>5.0</td>\n",
       "      <td>110.0</td>\n",
       "      <td>30.0</td>\n",
       "      <td>0.0</td>\n",
       "      <td>3.0</td>\n",
       "      <td>2.0</td>\n",
       "      <td>1.0</td>\n",
       "      <td>0.0</td>\n",
       "      <td>0.0</td>\n",
       "      <td>0.0</td>\n",
       "      <td>...</td>\n",
       "      <td>1.0</td>\n",
       "      <td>1.0</td>\n",
       "      <td>5.0</td>\n",
       "      <td>76.0</td>\n",
       "      <td>2.0</td>\n",
       "      <td>4.0</td>\n",
       "      <td>1.0</td>\n",
       "      <td>1.0</td>\n",
       "      <td>0.0</td>\n",
       "      <td>2.0</td>\n",
       "    </tr>\n",
       "    <tr>\n",
       "      <th>14704</th>\n",
       "      <td>5.0</td>\n",
       "      <td>110.0</td>\n",
       "      <td>13.0</td>\n",
       "      <td>0.0</td>\n",
       "      <td>3.0</td>\n",
       "      <td>2.0</td>\n",
       "      <td>3.0</td>\n",
       "      <td>0.0</td>\n",
       "      <td>0.0</td>\n",
       "      <td>0.0</td>\n",
       "      <td>...</td>\n",
       "      <td>1.0</td>\n",
       "      <td>0.0</td>\n",
       "      <td>5.0</td>\n",
       "      <td>82.0</td>\n",
       "      <td>2.0</td>\n",
       "      <td>3.0</td>\n",
       "      <td>1.0</td>\n",
       "      <td>2.0</td>\n",
       "      <td>0.0</td>\n",
       "      <td>2.0</td>\n",
       "    </tr>\n",
       "  </tbody>\n",
       "</table>\n",
       "<p>5 rows × 31 columns</p>\n",
       "</div>"
      ],
      "text/plain": [
       "       _STATE  DISPCODE  PHYSHLTH  MENTHLTH  USENOW3  HISPANC2  MARITAL  \\\n",
       "14697     5.0     110.0       0.0       0.0      3.0       2.0      1.0   \n",
       "14699     5.0     110.0      15.0       0.0      3.0       2.0      2.0   \n",
       "14700     5.0     110.0       6.0       0.0      3.0       2.0      1.0   \n",
       "14701     5.0     110.0      30.0       0.0      3.0       2.0      1.0   \n",
       "14704     5.0     110.0      13.0       0.0      3.0       2.0      3.0   \n",
       "\n",
       "       CHILDREN  EMPLOY  RENTHOM1  ...  ACETTHEM  ACEHVSEX  MSCODE  _IMPAGE  \\\n",
       "14697       1.0     2.0       0.0  ...       1.0       1.0     5.0     53.0   \n",
       "14699       0.0     0.0       0.0  ...       1.0       1.0     5.0     64.0   \n",
       "14700       0.0     0.0       0.0  ...       1.0       1.0     5.0     58.0   \n",
       "14701       0.0     0.0       0.0  ...       1.0       1.0     5.0     76.0   \n",
       "14704       0.0     0.0       0.0  ...       1.0       0.0     5.0     82.0   \n",
       "\n",
       "       _RFHLTH  _SMOKER3  _PRACE  _EDUCAG  _INCOMG  _TOTINDA  \n",
       "14697      1.0       4.0     1.0      3.0      5.0       1.0  \n",
       "14699      2.0       3.0     1.0      2.0      2.0       1.0  \n",
       "14700      1.0       4.0     1.0      3.0      2.0       1.0  \n",
       "14701      2.0       4.0     1.0      1.0      0.0       2.0  \n",
       "14704      2.0       3.0     1.0      2.0      0.0       2.0  \n",
       "\n",
       "[5 rows x 31 columns]"
      ]
     },
     "execution_count": 4,
     "metadata": {},
     "output_type": "execute_result"
    }
   ],
   "source": [
    "brfss_total.head()"
   ]
  },
  {
   "cell_type": "code",
   "execution_count": 5,
   "metadata": {},
   "outputs": [
    {
     "data": {
      "text/plain": [
       "_STATE      0\n",
       "DISPCODE    0\n",
       "PHYSHLTH    0\n",
       "MENTHLTH    0\n",
       "USENOW3     0\n",
       "HISPANC2    0\n",
       "MARITAL     0\n",
       "CHILDREN    0\n",
       "EMPLOY      0\n",
       "RENTHOM1    0\n",
       "SEX         0\n",
       "QLACTLM2    0\n",
       "ACEDEPRS    0\n",
       "ACEDRINK    0\n",
       "ACEDRUGS    0\n",
       "ACEPRISN    0\n",
       "ACEDIVRC    0\n",
       "ACEPUNCH    0\n",
       "ACEHURT     0\n",
       "ACESWEAR    0\n",
       "ACETOUCH    0\n",
       "ACETTHEM    0\n",
       "ACEHVSEX    0\n",
       "MSCODE      0\n",
       "_IMPAGE     0\n",
       "_RFHLTH     0\n",
       "_SMOKER3    0\n",
       "_PRACE      0\n",
       "_EDUCAG     0\n",
       "_INCOMG     0\n",
       "_TOTINDA    0\n",
       "dtype: int64"
      ]
     },
     "execution_count": 5,
     "metadata": {},
     "output_type": "execute_result"
    }
   ],
   "source": [
    "# just making sure no nulls are present\n",
    "brfss_total.isna().sum()"
   ]
  },
  {
   "cell_type": "code",
   "execution_count": 6,
   "metadata": {},
   "outputs": [
    {
     "data": {
      "text/html": [
       "<div>\n",
       "<style scoped>\n",
       "    .dataframe tbody tr th:only-of-type {\n",
       "        vertical-align: middle;\n",
       "    }\n",
       "\n",
       "    .dataframe tbody tr th {\n",
       "        vertical-align: top;\n",
       "    }\n",
       "\n",
       "    .dataframe thead th {\n",
       "        text-align: right;\n",
       "    }\n",
       "</style>\n",
       "<table border=\"1\" class=\"dataframe\">\n",
       "  <thead>\n",
       "    <tr style=\"text-align: right;\">\n",
       "      <th></th>\n",
       "      <th>_STATE</th>\n",
       "      <th>DISPCODE</th>\n",
       "      <th>PHYSHLTH</th>\n",
       "      <th>MENTHLTH</th>\n",
       "      <th>USENOW3</th>\n",
       "      <th>HISPANC2</th>\n",
       "      <th>MARITAL</th>\n",
       "      <th>CHILDREN</th>\n",
       "      <th>EMPLOY</th>\n",
       "      <th>RENTHOM1</th>\n",
       "      <th>...</th>\n",
       "      <th>ACETTHEM</th>\n",
       "      <th>ACEHVSEX</th>\n",
       "      <th>MSCODE</th>\n",
       "      <th>_IMPAGE</th>\n",
       "      <th>_RFHLTH</th>\n",
       "      <th>_SMOKER3</th>\n",
       "      <th>_PRACE</th>\n",
       "      <th>_EDUCAG</th>\n",
       "      <th>_INCOMG</th>\n",
       "      <th>_TOTINDA</th>\n",
       "    </tr>\n",
       "  </thead>\n",
       "  <tbody>\n",
       "    <tr>\n",
       "      <th>0</th>\n",
       "      <td>5.0</td>\n",
       "      <td>110.0</td>\n",
       "      <td>0.0</td>\n",
       "      <td>0.0</td>\n",
       "      <td>3.0</td>\n",
       "      <td>2.0</td>\n",
       "      <td>1.0</td>\n",
       "      <td>1.0</td>\n",
       "      <td>2.0</td>\n",
       "      <td>0.0</td>\n",
       "      <td>...</td>\n",
       "      <td>1.0</td>\n",
       "      <td>1.0</td>\n",
       "      <td>5.0</td>\n",
       "      <td>53.0</td>\n",
       "      <td>1.0</td>\n",
       "      <td>4.0</td>\n",
       "      <td>1.0</td>\n",
       "      <td>3.0</td>\n",
       "      <td>5.0</td>\n",
       "      <td>1.0</td>\n",
       "    </tr>\n",
       "    <tr>\n",
       "      <th>1</th>\n",
       "      <td>5.0</td>\n",
       "      <td>110.0</td>\n",
       "      <td>15.0</td>\n",
       "      <td>0.0</td>\n",
       "      <td>3.0</td>\n",
       "      <td>2.0</td>\n",
       "      <td>2.0</td>\n",
       "      <td>0.0</td>\n",
       "      <td>0.0</td>\n",
       "      <td>0.0</td>\n",
       "      <td>...</td>\n",
       "      <td>1.0</td>\n",
       "      <td>1.0</td>\n",
       "      <td>5.0</td>\n",
       "      <td>64.0</td>\n",
       "      <td>2.0</td>\n",
       "      <td>3.0</td>\n",
       "      <td>1.0</td>\n",
       "      <td>2.0</td>\n",
       "      <td>2.0</td>\n",
       "      <td>1.0</td>\n",
       "    </tr>\n",
       "    <tr>\n",
       "      <th>2</th>\n",
       "      <td>5.0</td>\n",
       "      <td>110.0</td>\n",
       "      <td>6.0</td>\n",
       "      <td>0.0</td>\n",
       "      <td>3.0</td>\n",
       "      <td>2.0</td>\n",
       "      <td>1.0</td>\n",
       "      <td>0.0</td>\n",
       "      <td>0.0</td>\n",
       "      <td>0.0</td>\n",
       "      <td>...</td>\n",
       "      <td>1.0</td>\n",
       "      <td>1.0</td>\n",
       "      <td>5.0</td>\n",
       "      <td>58.0</td>\n",
       "      <td>1.0</td>\n",
       "      <td>4.0</td>\n",
       "      <td>1.0</td>\n",
       "      <td>3.0</td>\n",
       "      <td>2.0</td>\n",
       "      <td>1.0</td>\n",
       "    </tr>\n",
       "    <tr>\n",
       "      <th>3</th>\n",
       "      <td>5.0</td>\n",
       "      <td>110.0</td>\n",
       "      <td>30.0</td>\n",
       "      <td>0.0</td>\n",
       "      <td>3.0</td>\n",
       "      <td>2.0</td>\n",
       "      <td>1.0</td>\n",
       "      <td>0.0</td>\n",
       "      <td>0.0</td>\n",
       "      <td>0.0</td>\n",
       "      <td>...</td>\n",
       "      <td>1.0</td>\n",
       "      <td>1.0</td>\n",
       "      <td>5.0</td>\n",
       "      <td>76.0</td>\n",
       "      <td>2.0</td>\n",
       "      <td>4.0</td>\n",
       "      <td>1.0</td>\n",
       "      <td>1.0</td>\n",
       "      <td>0.0</td>\n",
       "      <td>2.0</td>\n",
       "    </tr>\n",
       "    <tr>\n",
       "      <th>4</th>\n",
       "      <td>5.0</td>\n",
       "      <td>110.0</td>\n",
       "      <td>13.0</td>\n",
       "      <td>0.0</td>\n",
       "      <td>3.0</td>\n",
       "      <td>2.0</td>\n",
       "      <td>3.0</td>\n",
       "      <td>0.0</td>\n",
       "      <td>0.0</td>\n",
       "      <td>0.0</td>\n",
       "      <td>...</td>\n",
       "      <td>1.0</td>\n",
       "      <td>0.0</td>\n",
       "      <td>5.0</td>\n",
       "      <td>82.0</td>\n",
       "      <td>2.0</td>\n",
       "      <td>3.0</td>\n",
       "      <td>1.0</td>\n",
       "      <td>2.0</td>\n",
       "      <td>0.0</td>\n",
       "      <td>2.0</td>\n",
       "    </tr>\n",
       "    <tr>\n",
       "      <th>...</th>\n",
       "      <td>...</td>\n",
       "      <td>...</td>\n",
       "      <td>...</td>\n",
       "      <td>...</td>\n",
       "      <td>...</td>\n",
       "      <td>...</td>\n",
       "      <td>...</td>\n",
       "      <td>...</td>\n",
       "      <td>...</td>\n",
       "      <td>...</td>\n",
       "      <td>...</td>\n",
       "      <td>...</td>\n",
       "      <td>...</td>\n",
       "      <td>...</td>\n",
       "      <td>...</td>\n",
       "      <td>...</td>\n",
       "      <td>...</td>\n",
       "      <td>...</td>\n",
       "      <td>...</td>\n",
       "      <td>...</td>\n",
       "      <td>...</td>\n",
       "    </tr>\n",
       "    <tr>\n",
       "      <th>117550</th>\n",
       "      <td>55.0</td>\n",
       "      <td>1100.0</td>\n",
       "      <td>10.0</td>\n",
       "      <td>20.0</td>\n",
       "      <td>3.0</td>\n",
       "      <td>2.0</td>\n",
       "      <td>5.0</td>\n",
       "      <td>0.0</td>\n",
       "      <td>1.0</td>\n",
       "      <td>1.0</td>\n",
       "      <td>...</td>\n",
       "      <td>1.0</td>\n",
       "      <td>1.0</td>\n",
       "      <td>0.0</td>\n",
       "      <td>21.0</td>\n",
       "      <td>1.0</td>\n",
       "      <td>1.0</td>\n",
       "      <td>1.0</td>\n",
       "      <td>2.0</td>\n",
       "      <td>2.0</td>\n",
       "      <td>2.0</td>\n",
       "    </tr>\n",
       "    <tr>\n",
       "      <th>117551</th>\n",
       "      <td>55.0</td>\n",
       "      <td>1100.0</td>\n",
       "      <td>0.0</td>\n",
       "      <td>0.0</td>\n",
       "      <td>3.0</td>\n",
       "      <td>1.0</td>\n",
       "      <td>1.0</td>\n",
       "      <td>0.0</td>\n",
       "      <td>1.0</td>\n",
       "      <td>2.0</td>\n",
       "      <td>...</td>\n",
       "      <td>1.0</td>\n",
       "      <td>1.0</td>\n",
       "      <td>0.0</td>\n",
       "      <td>30.0</td>\n",
       "      <td>1.0</td>\n",
       "      <td>2.0</td>\n",
       "      <td>1.0</td>\n",
       "      <td>2.0</td>\n",
       "      <td>3.0</td>\n",
       "      <td>2.0</td>\n",
       "    </tr>\n",
       "    <tr>\n",
       "      <th>117552</th>\n",
       "      <td>55.0</td>\n",
       "      <td>1100.0</td>\n",
       "      <td>0.0</td>\n",
       "      <td>0.0</td>\n",
       "      <td>1.0</td>\n",
       "      <td>2.0</td>\n",
       "      <td>2.0</td>\n",
       "      <td>0.0</td>\n",
       "      <td>1.0</td>\n",
       "      <td>2.0</td>\n",
       "      <td>...</td>\n",
       "      <td>1.0</td>\n",
       "      <td>1.0</td>\n",
       "      <td>0.0</td>\n",
       "      <td>62.0</td>\n",
       "      <td>1.0</td>\n",
       "      <td>3.0</td>\n",
       "      <td>1.0</td>\n",
       "      <td>4.0</td>\n",
       "      <td>5.0</td>\n",
       "      <td>1.0</td>\n",
       "    </tr>\n",
       "    <tr>\n",
       "      <th>117553</th>\n",
       "      <td>55.0</td>\n",
       "      <td>1100.0</td>\n",
       "      <td>15.0</td>\n",
       "      <td>30.0</td>\n",
       "      <td>3.0</td>\n",
       "      <td>2.0</td>\n",
       "      <td>2.0</td>\n",
       "      <td>1.0</td>\n",
       "      <td>0.0</td>\n",
       "      <td>2.0</td>\n",
       "      <td>...</td>\n",
       "      <td>1.0</td>\n",
       "      <td>1.0</td>\n",
       "      <td>0.0</td>\n",
       "      <td>39.0</td>\n",
       "      <td>2.0</td>\n",
       "      <td>1.0</td>\n",
       "      <td>1.0</td>\n",
       "      <td>1.0</td>\n",
       "      <td>1.0</td>\n",
       "      <td>2.0</td>\n",
       "    </tr>\n",
       "    <tr>\n",
       "      <th>117554</th>\n",
       "      <td>55.0</td>\n",
       "      <td>1100.0</td>\n",
       "      <td>2.0</td>\n",
       "      <td>0.0</td>\n",
       "      <td>3.0</td>\n",
       "      <td>2.0</td>\n",
       "      <td>1.0</td>\n",
       "      <td>1.0</td>\n",
       "      <td>1.0</td>\n",
       "      <td>1.0</td>\n",
       "      <td>...</td>\n",
       "      <td>1.0</td>\n",
       "      <td>1.0</td>\n",
       "      <td>0.0</td>\n",
       "      <td>25.0</td>\n",
       "      <td>1.0</td>\n",
       "      <td>4.0</td>\n",
       "      <td>1.0</td>\n",
       "      <td>4.0</td>\n",
       "      <td>5.0</td>\n",
       "      <td>1.0</td>\n",
       "    </tr>\n",
       "  </tbody>\n",
       "</table>\n",
       "<p>117555 rows × 31 columns</p>\n",
       "</div>"
      ],
      "text/plain": [
       "        _STATE  DISPCODE  PHYSHLTH  MENTHLTH  USENOW3  HISPANC2  MARITAL  \\\n",
       "0          5.0     110.0       0.0       0.0      3.0       2.0      1.0   \n",
       "1          5.0     110.0      15.0       0.0      3.0       2.0      2.0   \n",
       "2          5.0     110.0       6.0       0.0      3.0       2.0      1.0   \n",
       "3          5.0     110.0      30.0       0.0      3.0       2.0      1.0   \n",
       "4          5.0     110.0      13.0       0.0      3.0       2.0      3.0   \n",
       "...        ...       ...       ...       ...      ...       ...      ...   \n",
       "117550    55.0    1100.0      10.0      20.0      3.0       2.0      5.0   \n",
       "117551    55.0    1100.0       0.0       0.0      3.0       1.0      1.0   \n",
       "117552    55.0    1100.0       0.0       0.0      1.0       2.0      2.0   \n",
       "117553    55.0    1100.0      15.0      30.0      3.0       2.0      2.0   \n",
       "117554    55.0    1100.0       2.0       0.0      3.0       2.0      1.0   \n",
       "\n",
       "        CHILDREN  EMPLOY  RENTHOM1  ...  ACETTHEM  ACEHVSEX  MSCODE  _IMPAGE  \\\n",
       "0            1.0     2.0       0.0  ...       1.0       1.0     5.0     53.0   \n",
       "1            0.0     0.0       0.0  ...       1.0       1.0     5.0     64.0   \n",
       "2            0.0     0.0       0.0  ...       1.0       1.0     5.0     58.0   \n",
       "3            0.0     0.0       0.0  ...       1.0       1.0     5.0     76.0   \n",
       "4            0.0     0.0       0.0  ...       1.0       0.0     5.0     82.0   \n",
       "...          ...     ...       ...  ...       ...       ...     ...      ...   \n",
       "117550       0.0     1.0       1.0  ...       1.0       1.0     0.0     21.0   \n",
       "117551       0.0     1.0       2.0  ...       1.0       1.0     0.0     30.0   \n",
       "117552       0.0     1.0       2.0  ...       1.0       1.0     0.0     62.0   \n",
       "117553       1.0     0.0       2.0  ...       1.0       1.0     0.0     39.0   \n",
       "117554       1.0     1.0       1.0  ...       1.0       1.0     0.0     25.0   \n",
       "\n",
       "        _RFHLTH  _SMOKER3  _PRACE  _EDUCAG  _INCOMG  _TOTINDA  \n",
       "0           1.0       4.0     1.0      3.0      5.0       1.0  \n",
       "1           2.0       3.0     1.0      2.0      2.0       1.0  \n",
       "2           1.0       4.0     1.0      3.0      2.0       1.0  \n",
       "3           2.0       4.0     1.0      1.0      0.0       2.0  \n",
       "4           2.0       3.0     1.0      2.0      0.0       2.0  \n",
       "...         ...       ...     ...      ...      ...       ...  \n",
       "117550      1.0       1.0     1.0      2.0      2.0       2.0  \n",
       "117551      1.0       2.0     1.0      2.0      3.0       2.0  \n",
       "117552      1.0       3.0     1.0      4.0      5.0       1.0  \n",
       "117553      2.0       1.0     1.0      1.0      1.0       2.0  \n",
       "117554      1.0       4.0     1.0      4.0      5.0       1.0  \n",
       "\n",
       "[117555 rows x 31 columns]"
      ]
     },
     "execution_count": 6,
     "metadata": {},
     "output_type": "execute_result"
    }
   ],
   "source": [
    "brfss_total.drop(columns=['Unnamed: 0', 'index'], inplace=True)\n",
    "brfss_total"
   ]
  },
  {
   "cell_type": "markdown",
   "metadata": {},
   "source": [
    "**Variables I will try to predict with my models:**\n",
    "- USENOW3: Do you currently use chewing tobacco, snuff, or snus every day, some days, or not at all?\n",
    "    - classification\n",
    "    - 0 = Don't know, Not sure or Refused, 1 = every day, 2 = some days, 3 = not at all\n",
    "- QLACTLM2: Are you limited in any way in any activities because of physical, mental, or emotional problems?\n",
    "    - classification\n",
    "    - 0 = Don't know, Not sure or Refused, 1 = yes, 2 = no\n",
    "- _RFHLTH: Adults with good or better health vs. fair or poor health\n",
    "    - classification\n",
    "    - based off of GENHLTH\n",
    "    - 0 = Don't know, Not sure or Refused, 1 = Good or Better Health, 2 = Fair or Poor Health\n",
    "- _SMOKER3: Four-level smoker status: Everyday smoker, Someday smoker, Former smoker, Non-smoker\n",
    "    - classification\n",
    "    - based off of SMOKE100 & SMOKEDAY\n",
    "    - 0 = Don't know, Not sure or Refused, 1 = Current smoker (now smokes every day), 2 = Current smoker (now smokes some days), 3 = Former smoker, 4 = Never smoked"
   ]
  },
  {
   "cell_type": "markdown",
   "metadata": {},
   "source": [
    "**Will make first three y's binary**\n",
    "- turning y's binary made it so that I couldn't stratify in train_test_split...so will not binarize my y's for now\n",
    "\n",
    "**Will OneHotEncode/ dummify ordinal/nominal features**\n",
    "\n",
    "**Will only use a sample of the data set for models so they can run faster**\n",
    "\n",
    "**Will use SMOTE to compensensate for imbalanced classes**\n",
    "\n",
    "**Will aggregate all ACEs into two groups: Abuse and Household Challenges**"
   ]
  },
  {
   "cell_type": "code",
   "execution_count": 7,
   "metadata": {},
   "outputs": [
    {
     "data": {
      "text/plain": [
       "(5878, 32)"
      ]
     },
     "execution_count": 7,
     "metadata": {},
     "output_type": "execute_result"
    }
   ],
   "source": [
    "# taking a small sample so that my models will run a little faster\n",
    "brfss_total_sample = brfss_total.sample(frac=0.05, axis=0)\n",
    "\n",
    "brfss_total_sample.shape"
   ]
  },
  {
   "cell_type": "code",
   "execution_count": 8,
   "metadata": {},
   "outputs": [],
   "source": [
    "# creating X variables for ACE and all features\n",
    "X_ace = brfss_total_sample[['ACEDEPRS', 'ACEDRINK', 'ACEDRUGS', 'ACEPRISN', 'ACEDIVRC', 'ACEPUNCH', 'ACEHURT', 'ACESWEAR', \n",
    "                       'ACETOUCH', 'ACETTHEM', 'ACEHVSEX']]"
   ]
  },
  {
   "cell_type": "code",
   "execution_count": 9,
   "metadata": {},
   "outputs": [],
   "source": [
    "# creating the 4 y's\n",
    "y_tobacco = brfss_total_sample['USENOW3']\n",
    "y_activity = brfss_total_sample['QLACTLM2']\n",
    "y_health = brfss_total_sample['_RFHLTH']\n",
    "y_smoker = brfss_total_sample['_SMOKER3']"
   ]
  },
  {
   "cell_type": "code",
   "execution_count": 10,
   "metadata": {},
   "outputs": [
    {
     "data": {
      "text/plain": [
       "3.0    0.964954\n",
       "1.0    0.017353\n",
       "2.0    0.014801\n",
       "0.0    0.002892\n",
       "Name: USENOW3, dtype: float64"
      ]
     },
     "execution_count": 10,
     "metadata": {},
     "output_type": "execute_result"
    }
   ],
   "source": [
    "#original baseline for tobacco\n",
    "y_tobacco.value_counts(normalize=True)"
   ]
  },
  {
   "cell_type": "code",
   "execution_count": 11,
   "metadata": {},
   "outputs": [
    {
     "data": {
      "text/plain": [
       "2.0    0.720823\n",
       "1.0    0.272372\n",
       "0.0    0.006805\n",
       "Name: QLACTLM2, dtype: float64"
      ]
     },
     "execution_count": 11,
     "metadata": {},
     "output_type": "execute_result"
    }
   ],
   "source": [
    "#original baseline for activity\n",
    "y_activity.value_counts(normalize=True)"
   ]
  },
  {
   "cell_type": "code",
   "execution_count": 12,
   "metadata": {},
   "outputs": [
    {
     "data": {
      "text/plain": [
       "1.0    0.810480\n",
       "2.0    0.185777\n",
       "0.0    0.003743\n",
       "Name: _RFHLTH, dtype: float64"
      ]
     },
     "execution_count": 12,
     "metadata": {},
     "output_type": "execute_result"
    }
   ],
   "source": [
    "#original baseline for health\n",
    "y_health.value_counts(normalize=True)"
   ]
  },
  {
   "cell_type": "code",
   "execution_count": 13,
   "metadata": {},
   "outputs": [
    {
     "data": {
      "text/plain": [
       "4.0    0.518374\n",
       "3.0    0.316094\n",
       "1.0    0.116366\n",
       "2.0    0.043552\n",
       "0.0    0.005614\n",
       "Name: _SMOKER3, dtype: float64"
      ]
     },
     "execution_count": 13,
     "metadata": {},
     "output_type": "execute_result"
    }
   ],
   "source": [
    "#original baseline for smoker\n",
    "y_smoker.value_counts(normalize=True)"
   ]
  },
  {
   "cell_type": "code",
   "execution_count": 14,
   "metadata": {},
   "outputs": [],
   "source": [
    "# changing variables to strings since ACE questions are nominal and so I could dummify them\n",
    "X_ace = X_ace.astype(str)"
   ]
  },
  {
   "cell_type": "code",
   "execution_count": 15,
   "metadata": {},
   "outputs": [],
   "source": [
    "# dummifying X_ace\n",
    "X_ace = pd.get_dummies(X_ace, drop_first=True)"
   ]
  },
  {
   "cell_type": "code",
   "execution_count": 16,
   "metadata": {},
   "outputs": [
    {
     "data": {
      "text/plain": [
       "(5878, 28)"
      ]
     },
     "execution_count": 16,
     "metadata": {},
     "output_type": "execute_result"
    }
   ],
   "source": [
    "X_ace.shape"
   ]
  },
  {
   "cell_type": "code",
   "execution_count": 17,
   "metadata": {},
   "outputs": [],
   "source": [
    "# to compensate for unbalanced classes in my y's will use SMOTE\n",
    "\n",
    "sm = SMOTE(random_state=151)\n",
    "X_ace1, y_tobacco = sm.fit_resample(X_ace, y_tobacco)\n",
    "\n",
    "sm2 = SMOTE(random_state=151)\n",
    "X_ace2, y_activity = sm2.fit_resample(X_ace, y_activity)\n",
    "\n",
    "sm3 = SMOTE(random_state=151)\n",
    "X_ace3, y_health = sm3.fit_resample(X_ace, y_health)\n",
    "\n",
    "sm4 = SMOTE(random_state=151)\n",
    "X_ace4, y_smoker = sm4.fit_resample(X_ace, y_smoker)"
   ]
  },
  {
   "cell_type": "code",
   "execution_count": 18,
   "metadata": {},
   "outputs": [
    {
     "data": {
      "text/plain": [
       "0.0    0.25\n",
       "1.0    0.25\n",
       "2.0    0.25\n",
       "3.0    0.25\n",
       "Name: USENOW3, dtype: float64"
      ]
     },
     "execution_count": 18,
     "metadata": {},
     "output_type": "execute_result"
    }
   ],
   "source": [
    "# new baseline for tobacco\n",
    "y_tobacco.value_counts(normalize=True)"
   ]
  },
  {
   "cell_type": "code",
   "execution_count": 19,
   "metadata": {},
   "outputs": [
    {
     "data": {
      "text/plain": [
       "(22688,)"
      ]
     },
     "execution_count": 19,
     "metadata": {},
     "output_type": "execute_result"
    }
   ],
   "source": [
    "# looks like SMOTE has increased the size of my y's more than 4x, so will probably take some time for models to run\n",
    "y_tobacco.shape"
   ]
  },
  {
   "cell_type": "code",
   "execution_count": 20,
   "metadata": {},
   "outputs": [
    {
     "data": {
      "text/plain": [
       "0.0    0.333333\n",
       "1.0    0.333333\n",
       "2.0    0.333333\n",
       "Name: QLACTLM2, dtype: float64"
      ]
     },
     "execution_count": 20,
     "metadata": {},
     "output_type": "execute_result"
    }
   ],
   "source": [
    "# new baseline for activity\n",
    "y_activity.value_counts(normalize=True)"
   ]
  },
  {
   "cell_type": "code",
   "execution_count": 21,
   "metadata": {},
   "outputs": [
    {
     "data": {
      "text/plain": [
       "0.0    0.333333\n",
       "2.0    0.333333\n",
       "1.0    0.333333\n",
       "Name: _RFHLTH, dtype: float64"
      ]
     },
     "execution_count": 21,
     "metadata": {},
     "output_type": "execute_result"
    }
   ],
   "source": [
    "# new baseline for health\n",
    "y_health.value_counts(normalize=True)"
   ]
  },
  {
   "cell_type": "code",
   "execution_count": 22,
   "metadata": {},
   "outputs": [
    {
     "data": {
      "text/plain": [
       "0.0    0.2\n",
       "2.0    0.2\n",
       "3.0    0.2\n",
       "1.0    0.2\n",
       "4.0    0.2\n",
       "Name: _SMOKER3, dtype: float64"
      ]
     },
     "execution_count": 22,
     "metadata": {},
     "output_type": "execute_result"
    }
   ],
   "source": [
    "# new baseline for smoker\n",
    "y_smoker.value_counts(normalize=True)"
   ]
  },
  {
   "cell_type": "code",
   "execution_count": 23,
   "metadata": {},
   "outputs": [
    {
     "data": {
      "text/plain": [
       "(22688, 28)"
      ]
     },
     "execution_count": 23,
     "metadata": {},
     "output_type": "execute_result"
    }
   ],
   "source": [
    "X_ace1.shape"
   ]
  },
  {
   "cell_type": "code",
   "execution_count": 24,
   "metadata": {},
   "outputs": [],
   "source": [
    "# creating training and testing sets for all y's (stratified on y, but since the classes are equal probably didn't have to)\n",
    "X_train_ace, X_test_ace, y_train_tobacco, y_test_tobacco = train_test_split(X_ace1, y_tobacco, random_state = 151, stratify=y_tobacco)\n",
    "X_train_ace2, X_test_ace2, y_train_activity, y_test_activity = train_test_split(X_ace2, y_activity, random_state = 151, stratify=y_activity)\n",
    "X_train_ace3, X_test_ace3, y_train_health, y_test_health = train_test_split(X_ace3, y_health, random_state = 151, stratify=y_health)\n",
    "X_train_ace4, X_test_ace4, y_train_smoker, y_test_smoker = train_test_split(X_ace4, y_smoker, random_state = 151, stratify=y_smoker)"
   ]
  },
  {
   "cell_type": "markdown",
   "metadata": {},
   "source": [
    "### Pipeline and Gridsearch with just ACE as predictors (Logistic Regression)"
   ]
  },
  {
   "cell_type": "code",
   "execution_count": 25,
   "metadata": {},
   "outputs": [
    {
     "data": {
      "text/plain": [
       "GridSearchCV(cv=5,\n",
       "             estimator=Pipeline(steps=[('selectkbest', SelectKBest()),\n",
       "                                       ('standardscaler', StandardScaler()),\n",
       "                                       ('logisticregression',\n",
       "                                        LogisticRegression(max_iter=10000))]),\n",
       "             n_jobs=-1,\n",
       "             param_grid={'logisticregression__C': [0.01, 0.5, 1],\n",
       "                         'selectkbest__k': range(1, 28)})"
      ]
     },
     "execution_count": 25,
     "metadata": {},
     "output_type": "execute_result"
    }
   ],
   "source": [
    "pipe_ace_log = make_pipeline(SelectKBest(f_classif), StandardScaler(), LogisticRegression(max_iter=10_000))\n",
    "\n",
    "params_ace_log = {'selectkbest__k': range(1, 28),\n",
    "         'logisticregression__C': [0.01, 0.5, 1]}\n",
    "\n",
    "gs_ace_log = GridSearchCV(pipe_ace_log, params_ace_log, n_jobs=-1, cv=5)\n",
    "\n",
    "gs_ace_log.fit(X_train_ace, y_train_tobacco)"
   ]
  },
  {
   "cell_type": "code",
   "execution_count": 26,
   "metadata": {},
   "outputs": [
    {
     "data": {
      "text/plain": [
       "GridSearchCV(cv=5,\n",
       "             estimator=Pipeline(steps=[('selectkbest', SelectKBest()),\n",
       "                                       ('standardscaler', StandardScaler()),\n",
       "                                       ('logisticregression',\n",
       "                                        LogisticRegression(max_iter=10000))]),\n",
       "             n_jobs=-1,\n",
       "             param_grid={'logisticregression__C': [0.01, 0.5, 1],\n",
       "                         'selectkbest__k': range(1, 28)})"
      ]
     },
     "execution_count": 26,
     "metadata": {},
     "output_type": "execute_result"
    }
   ],
   "source": [
    "pipe2_ace_log = make_pipeline(SelectKBest(f_classif), StandardScaler(), LogisticRegression(max_iter=10_000))\n",
    "\n",
    "gs2_ace_log = GridSearchCV(pipe2_ace_log, params_ace_log, n_jobs=-1, cv=5)\n",
    "\n",
    "gs2_ace_log.fit(X_train_ace2, y_train_activity)"
   ]
  },
  {
   "cell_type": "code",
   "execution_count": 27,
   "metadata": {},
   "outputs": [
    {
     "data": {
      "text/plain": [
       "GridSearchCV(cv=5,\n",
       "             estimator=Pipeline(steps=[('selectkbest', SelectKBest()),\n",
       "                                       ('standardscaler', StandardScaler()),\n",
       "                                       ('logisticregression',\n",
       "                                        LogisticRegression(max_iter=10000))]),\n",
       "             n_jobs=-1,\n",
       "             param_grid={'logisticregression__C': [0.01, 0.5, 1],\n",
       "                         'selectkbest__k': range(1, 28)})"
      ]
     },
     "execution_count": 27,
     "metadata": {},
     "output_type": "execute_result"
    }
   ],
   "source": [
    "pipe3_ace_log = make_pipeline(SelectKBest(f_classif), StandardScaler(), LogisticRegression(max_iter=10_000))\n",
    "\n",
    "gs3_ace_log = GridSearchCV(pipe3_ace_log, params_ace_log, n_jobs=-1, cv=5)\n",
    "\n",
    "gs3_ace_log.fit(X_train_ace3, y_train_health)"
   ]
  },
  {
   "cell_type": "code",
   "execution_count": 28,
   "metadata": {},
   "outputs": [
    {
     "data": {
      "text/plain": [
       "GridSearchCV(cv=5,\n",
       "             estimator=Pipeline(steps=[('selectkbest', SelectKBest()),\n",
       "                                       ('standardscaler', StandardScaler()),\n",
       "                                       ('logisticregression',\n",
       "                                        LogisticRegression(max_iter=10000))]),\n",
       "             n_jobs=-1,\n",
       "             param_grid={'logisticregression__C': [0.01, 0.5, 1],\n",
       "                         'selectkbest__k': range(1, 28)})"
      ]
     },
     "execution_count": 28,
     "metadata": {},
     "output_type": "execute_result"
    }
   ],
   "source": [
    "pipe4_ace_log = make_pipeline(SelectKBest(f_classif), StandardScaler(), LogisticRegression(max_iter=10_000))\n",
    "\n",
    "gs4_ace_log = GridSearchCV(pipe4_ace_log, params_ace_log, n_jobs=-1, cv=5)\n",
    "\n",
    "gs4_ace_log.fit(X_train_ace4, y_train_smoker)"
   ]
  },
  {
   "cell_type": "code",
   "execution_count": 29,
   "metadata": {},
   "outputs": [],
   "source": [
    "tobacco_ace_log_preds = gs_ace_log.predict(X_test_ace)\n",
    "activity_ace_log_preds = gs2_ace_log.predict(X_test_ace2)\n",
    "health_ace_log_preds = gs3_ace_log.predict(X_test_ace3)\n",
    "smoker_ace_log_preds = gs4_ace_log.predict(X_test_ace4)\n",
    "\n",
    "tobacco_ace_log_prec = precision_score(y_test_tobacco, tobacco_ace_log_preds, average='micro')\n",
    "activity_ace_log_prec = precision_score(y_test_activity, activity_ace_log_preds, average='micro')\n",
    "health_ace_log_prec = precision_score(y_test_health, health_ace_log_preds, average='micro')\n",
    "smoker_ace_log_prec = precision_score(y_test_smoker, smoker_ace_log_preds, average='micro')"
   ]
  },
  {
   "cell_type": "code",
   "execution_count": 30,
   "metadata": {},
   "outputs": [
    {
     "name": "stdout",
     "output_type": "stream",
     "text": [
      " training accuracy for tobacco: 0.5274447578749413\n",
      " training accuracy for activity: 0.5115913143816218\n",
      " training accuracy for health: 0.5453866965201978\n",
      " training accuracy for smoker: 0.3950638893751094\n"
     ]
    }
   ],
   "source": [
    "print(f' training accuracy for tobacco: {gs_ace_log.score(X_train_ace, y_train_tobacco)}')\n",
    "print(f' training accuracy for activity: {gs2_ace_log.score(X_train_ace2, y_train_activity)}')\n",
    "print(f' training accuracy for health: {gs3_ace_log.score(X_train_ace3, y_train_health)}')\n",
    "print(f' training accuracy for smoker: {gs4_ace_log.score(X_train_ace4, y_train_smoker)}')"
   ]
  },
  {
   "cell_type": "code",
   "execution_count": 31,
   "metadata": {},
   "outputs": [
    {
     "name": "stdout",
     "output_type": "stream",
     "text": [
      " testing accuracy for tobacco: 0.5357898448519041\n",
      " testing accuracy for activity: 0.513530522341095\n",
      " testing accuracy for health: 0.5519171564511615\n",
      " testing accuracy for smoker: 0.39590443686006827\n"
     ]
    }
   ],
   "source": [
    "print(f' testing accuracy for tobacco: {gs_ace_log.score(X_test_ace, y_test_tobacco)}')\n",
    "print(f' testing accuracy for activity: {gs2_ace_log.score(X_test_ace2, y_test_activity)}')\n",
    "print(f' testing accuracy for health: {gs3_ace_log.score(X_test_ace3, y_test_health)}')\n",
    "print(f' testing accuracy for smoker: {gs4_ace_log.score(X_test_ace4, y_test_smoker)}')"
   ]
  },
  {
   "cell_type": "code",
   "execution_count": 32,
   "metadata": {},
   "outputs": [
    {
     "name": "stdout",
     "output_type": "stream",
     "text": [
      "Precision for tobacco: 0.5357898448519041\n",
      "Precision for activity: 0.513530522341095\n",
      "Precision for health: 0.5519171564511615\n",
      "Precision for smoker: 0.39590443686006827\n"
     ]
    }
   ],
   "source": [
    "print(f'Precision for tobacco: {tobacco_ace_log_prec}')\n",
    "print(f'Precision for activity: {activity_ace_log_prec}')\n",
    "print(f'Precision for health: {health_ace_log_prec}')\n",
    "print(f'Precision for smoker: {smoker_ace_log_prec}')"
   ]
  },
  {
   "cell_type": "code",
   "execution_count": 33,
   "metadata": {},
   "outputs": [
    {
     "name": "stdout",
     "output_type": "stream",
     "text": [
      "{'logisticregression__C': 1, 'selectkbest__k': 27}\n",
      "{'logisticregression__C': 1, 'selectkbest__k': 27}\n",
      "{'logisticregression__C': 1, 'selectkbest__k': 27}\n",
      "{'logisticregression__C': 1, 'selectkbest__k': 26}\n"
     ]
    }
   ],
   "source": [
    "print(gs_ace_log.best_params_)\n",
    "print(gs2_ace_log.best_params_)\n",
    "print(gs3_ace_log.best_params_)\n",
    "print(gs4_ace_log.best_params_)"
   ]
  },
  {
   "cell_type": "markdown",
   "metadata": {},
   "source": [
    "**Looks like Logistic Regression, even with hyperparamater tuning, didn't improve the scores from baseline. Interesting that predicting tobacco at an almost 97% accuracy and 97% precision only used one ACE question as a predictor. Will explore more.**"
   ]
  },
  {
   "cell_type": "markdown",
   "metadata": {},
   "source": [
    "### Pipeline and Gridsearch with just ACE as predictors (Random Forest Classifier)"
   ]
  },
  {
   "cell_type": "code",
   "execution_count": 34,
   "metadata": {},
   "outputs": [
    {
     "data": {
      "text/plain": [
       "GridSearchCV(cv=3,\n",
       "             estimator=Pipeline(steps=[('selectkbest', SelectKBest()),\n",
       "                                       ('standardscaler', StandardScaler()),\n",
       "                                       ('randomforestclassifier',\n",
       "                                        RandomForestClassifier())]),\n",
       "             n_jobs=-1,\n",
       "             param_grid={'randomforestclassifier__max_depth': [None, 3, 5],\n",
       "                         'randomforestclassifier__n_estimators': [100, 300,\n",
       "                                                                  500],\n",
       "                         'selectkbest__k': range(1, 28, 4)})"
      ]
     },
     "execution_count": 34,
     "metadata": {},
     "output_type": "execute_result"
    }
   ],
   "source": [
    "pipe_ace_rfc = make_pipeline(SelectKBest(f_classif), StandardScaler(), RandomForestClassifier())\n",
    "\n",
    "params_ace_rfc = {'selectkbest__k': range(1, 28, 4),\n",
    "                  'randomforestclassifier__n_estimators': [100, 300, 500],\n",
    "                  'randomforestclassifier__max_depth': [None, 3, 5], }\n",
    "                 #'randomforestclassifier__min_samples_split': [1, 3, 5],\n",
    "                 #'randomforestclassifier__min_samples_leaf': [1, 3, 5]}\n",
    "\n",
    "gs_ace_rfc = GridSearchCV(pipe_ace_rfc, params_ace_rfc, n_jobs=-1, cv=3)\n",
    "\n",
    "gs_ace_rfc.fit(X_train_ace, y_train_tobacco)"
   ]
  },
  {
   "cell_type": "code",
   "execution_count": 35,
   "metadata": {},
   "outputs": [
    {
     "data": {
      "text/plain": [
       "GridSearchCV(cv=3,\n",
       "             estimator=Pipeline(steps=[('selectkbest', SelectKBest()),\n",
       "                                       ('standardscaler', StandardScaler()),\n",
       "                                       ('randomforestclassifier',\n",
       "                                        RandomForestClassifier())]),\n",
       "             n_jobs=-1,\n",
       "             param_grid={'randomforestclassifier__max_depth': [None, 3, 5],\n",
       "                         'randomforestclassifier__n_estimators': [100, 300,\n",
       "                                                                  500],\n",
       "                         'selectkbest__k': range(1, 28, 4)})"
      ]
     },
     "execution_count": 35,
     "metadata": {},
     "output_type": "execute_result"
    }
   ],
   "source": [
    "pipe2_ace_rfc = make_pipeline(SelectKBest(f_classif), StandardScaler(), RandomForestClassifier())\n",
    "\n",
    "gs2_ace_rfc = GridSearchCV(pipe2_ace_rfc, params_ace_rfc, n_jobs=-1, cv=3)\n",
    "\n",
    "gs2_ace_rfc.fit(X_train_ace2, y_train_activity)"
   ]
  },
  {
   "cell_type": "code",
   "execution_count": 36,
   "metadata": {},
   "outputs": [
    {
     "data": {
      "text/plain": [
       "GridSearchCV(cv=3,\n",
       "             estimator=Pipeline(steps=[('selectkbest', SelectKBest()),\n",
       "                                       ('standardscaler', StandardScaler()),\n",
       "                                       ('randomforestclassifier',\n",
       "                                        RandomForestClassifier())]),\n",
       "             n_jobs=-1,\n",
       "             param_grid={'randomforestclassifier__max_depth': [None, 3, 5],\n",
       "                         'randomforestclassifier__n_estimators': [100, 300,\n",
       "                                                                  500],\n",
       "                         'selectkbest__k': range(1, 28, 4)})"
      ]
     },
     "execution_count": 36,
     "metadata": {},
     "output_type": "execute_result"
    }
   ],
   "source": [
    "pipe3_ace_rfc = make_pipeline(SelectKBest(f_classif), StandardScaler(), RandomForestClassifier())\n",
    "\n",
    "gs3_ace_rfc = GridSearchCV(pipe3_ace_rfc, params_ace_rfc, n_jobs=-1, cv=3)\n",
    "\n",
    "gs3_ace_rfc.fit(X_train_ace3, y_train_health)"
   ]
  },
  {
   "cell_type": "code",
   "execution_count": 37,
   "metadata": {},
   "outputs": [
    {
     "data": {
      "text/plain": [
       "GridSearchCV(cv=3,\n",
       "             estimator=Pipeline(steps=[('selectkbest', SelectKBest()),\n",
       "                                       ('standardscaler', StandardScaler()),\n",
       "                                       ('randomforestclassifier',\n",
       "                                        RandomForestClassifier())]),\n",
       "             n_jobs=-1,\n",
       "             param_grid={'randomforestclassifier__max_depth': [None, 3, 5],\n",
       "                         'randomforestclassifier__n_estimators': [100, 300,\n",
       "                                                                  500],\n",
       "                         'selectkbest__k': range(1, 28, 4)})"
      ]
     },
     "execution_count": 37,
     "metadata": {},
     "output_type": "execute_result"
    }
   ],
   "source": [
    "pipe4_ace_rfc = make_pipeline(SelectKBest(f_classif), StandardScaler(), RandomForestClassifier())\n",
    "\n",
    "gs4_ace_rfc = GridSearchCV(pipe4_ace_rfc, params_ace_rfc, n_jobs=-1, cv=3)\n",
    "\n",
    "gs4_ace_rfc.fit(X_train_ace4, y_train_smoker)"
   ]
  },
  {
   "cell_type": "code",
   "execution_count": 38,
   "metadata": {},
   "outputs": [],
   "source": [
    "tobacco_ace_rfc_preds = gs_ace_rfc.predict(X_test_ace)\n",
    "activity_ace_rfc_preds = gs2_ace_rfc.predict(X_test_ace2)\n",
    "health_ace_rfc_preds = gs3_ace_rfc.predict(X_test_ace3)\n",
    "smoker_ace_rfc_preds = gs4_ace_rfc.predict(X_test_ace4)\n",
    "\n",
    "tobacco_ace_rfc_prec = precision_score(y_test_tobacco, tobacco_ace_rfc_preds, average='micro')\n",
    "activity_ace_rfc_prec = precision_score(y_test_activity, activity_ace_rfc_preds, average='micro')\n",
    "health_ace_rfc_prec = precision_score(y_test_health, health_ace_rfc_preds, average='micro')\n",
    "smoker_ace_rfc_prec = precision_score(y_test_smoker, smoker_ace_rfc_preds, average='micro')"
   ]
  },
  {
   "cell_type": "code",
   "execution_count": 39,
   "metadata": {},
   "outputs": [
    {
     "name": "stdout",
     "output_type": "stream",
     "text": [
      " training accuracy for tobacco: 0.7689821344616832\n",
      " training accuracy for activity: 0.7262142032938215\n",
      " training accuracy for health: 0.6503405168392574\n",
      " training accuracy for smoker: 0.6041484333975145\n"
     ]
    }
   ],
   "source": [
    "print(f' training accuracy for tobacco: {gs_ace_rfc.score(X_train_ace, y_train_tobacco)}')\n",
    "print(f' training accuracy for activity: {gs2_ace_rfc.score(X_train_ace2, y_train_activity)}')\n",
    "print(f' training accuracy for health: {gs3_ace_rfc.score(X_train_ace3, y_train_health)}')\n",
    "print(f' training accuracy for smoker: {gs4_ace_rfc.score(X_train_ace4, y_train_smoker)}')"
   ]
  },
  {
   "cell_type": "code",
   "execution_count": 40,
   "metadata": {},
   "outputs": [
    {
     "name": "stdout",
     "output_type": "stream",
     "text": [
      " testing accuracy for tobacco: 0.7581100141043724\n",
      " testing accuracy for activity: 0.7026431718061674\n",
      " testing accuracy for health: 0.6336411978729359\n",
      " testing accuracy for smoker: 0.5452874770280913\n"
     ]
    }
   ],
   "source": [
    "print(f' testing accuracy for tobacco: {gs_ace_rfc.score(X_test_ace, y_test_tobacco)}')\n",
    "print(f' testing accuracy for activity: {gs2_ace_rfc.score(X_test_ace2, y_test_activity)}')\n",
    "print(f' testing accuracy for health: {gs3_ace_rfc.score(X_test_ace3, y_test_health)}')\n",
    "print(f' testing accuracy for smoker: {gs4_ace_rfc.score(X_test_ace4, y_test_smoker)}')"
   ]
  },
  {
   "cell_type": "code",
   "execution_count": 41,
   "metadata": {},
   "outputs": [
    {
     "name": "stdout",
     "output_type": "stream",
     "text": [
      "Precision for tobacco: 0.7581100141043724\n",
      "Precision for activity: 0.7026431718061674\n",
      "Precision for health: 0.6336411978729359\n",
      "Precision for smoker: 0.5452874770280913\n"
     ]
    }
   ],
   "source": [
    "print(f'Precision for tobacco: {tobacco_ace_rfc_prec}')\n",
    "print(f'Precision for activity: {activity_ace_rfc_prec}')\n",
    "print(f'Precision for health: {health_ace_rfc_prec}')\n",
    "print(f'Precision for smoker: {smoker_ace_rfc_prec}')"
   ]
  },
  {
   "cell_type": "code",
   "execution_count": 42,
   "metadata": {},
   "outputs": [
    {
     "name": "stdout",
     "output_type": "stream",
     "text": [
      "{'randomforestclassifier__max_depth': None, 'randomforestclassifier__n_estimators': 500, 'selectkbest__k': 25}\n",
      "{'randomforestclassifier__max_depth': None, 'randomforestclassifier__n_estimators': 100, 'selectkbest__k': 25}\n",
      "{'randomforestclassifier__max_depth': None, 'randomforestclassifier__n_estimators': 500, 'selectkbest__k': 25}\n",
      "{'randomforestclassifier__max_depth': None, 'randomforestclassifier__n_estimators': 500, 'selectkbest__k': 25}\n"
     ]
    }
   ],
   "source": [
    "print(gs_ace_rfc.best_params_)\n",
    "print(gs2_ace_rfc.best_params_)\n",
    "print(gs3_ace_rfc.best_params_)\n",
    "print(gs4_ace_rfc.best_params_)"
   ]
  },
  {
   "cell_type": "markdown",
   "metadata": {},
   "source": [
    "### Pipeline and Gridsearch with just ACE as predictors (Extra Trees Classifier)"
   ]
  },
  {
   "cell_type": "code",
   "execution_count": 43,
   "metadata": {},
   "outputs": [
    {
     "data": {
      "text/plain": [
       "GridSearchCV(cv=3,\n",
       "             estimator=Pipeline(steps=[('selectkbest', SelectKBest()),\n",
       "                                       ('standardscaler', StandardScaler()),\n",
       "                                       ('extratreesclassifier',\n",
       "                                        ExtraTreesClassifier())]),\n",
       "             n_jobs=-1,\n",
       "             param_grid={'extratreesclassifier__max_depth': [None, 3, 5],\n",
       "                         'extratreesclassifier__n_estimators': [100, 300, 500],\n",
       "                         'selectkbest__k': range(1, 28, 4)})"
      ]
     },
     "execution_count": 43,
     "metadata": {},
     "output_type": "execute_result"
    }
   ],
   "source": [
    "pipe_ace_etc = make_pipeline(SelectKBest(f_classif), StandardScaler(), ExtraTreesClassifier())\n",
    "\n",
    "params_ace_etc = {'selectkbest__k': range(1, 28, 4),\n",
    "                  'extratreesclassifier__n_estimators': [100, 300, 500],\n",
    "                  'extratreesclassifier__max_depth': [None, 3, 5], }\n",
    "                 #'extratreesclassifier__min_samples_split': [1, 3, 5],\n",
    "                 #'extratreesclassifier__min_samples_leaf': [1, 3, 5]}\n",
    "\n",
    "gs_ace_etc = GridSearchCV(pipe_ace_etc, params_ace_etc, n_jobs=-1, cv=3)\n",
    "\n",
    "gs_ace_etc.fit(X_train_ace, y_train_tobacco)"
   ]
  },
  {
   "cell_type": "code",
   "execution_count": 44,
   "metadata": {},
   "outputs": [
    {
     "data": {
      "text/plain": [
       "GridSearchCV(cv=3,\n",
       "             estimator=Pipeline(steps=[('selectkbest', SelectKBest()),\n",
       "                                       ('standardscaler', StandardScaler()),\n",
       "                                       ('extratreesclassifier',\n",
       "                                        ExtraTreesClassifier())]),\n",
       "             n_jobs=-1,\n",
       "             param_grid={'extratreesclassifier__max_depth': [None, 3, 5],\n",
       "                         'extratreesclassifier__n_estimators': [100, 300, 500],\n",
       "                         'selectkbest__k': range(1, 28, 4)})"
      ]
     },
     "execution_count": 44,
     "metadata": {},
     "output_type": "execute_result"
    }
   ],
   "source": [
    "pipe2_ace_etc = make_pipeline(SelectKBest(f_classif), StandardScaler(), ExtraTreesClassifier())\n",
    "\n",
    "gs2_ace_etc = GridSearchCV(pipe2_ace_etc, params_ace_etc, n_jobs=-1, cv=3)\n",
    "\n",
    "gs2_ace_etc.fit(X_train_ace2, y_train_activity)"
   ]
  },
  {
   "cell_type": "code",
   "execution_count": 45,
   "metadata": {},
   "outputs": [
    {
     "data": {
      "text/plain": [
       "GridSearchCV(cv=3,\n",
       "             estimator=Pipeline(steps=[('selectkbest', SelectKBest()),\n",
       "                                       ('standardscaler', StandardScaler()),\n",
       "                                       ('extratreesclassifier',\n",
       "                                        ExtraTreesClassifier())]),\n",
       "             n_jobs=-1,\n",
       "             param_grid={'extratreesclassifier__max_depth': [None, 3, 5],\n",
       "                         'extratreesclassifier__n_estimators': [100, 300, 500],\n",
       "                         'selectkbest__k': range(1, 28, 4)})"
      ]
     },
     "execution_count": 45,
     "metadata": {},
     "output_type": "execute_result"
    }
   ],
   "source": [
    "pipe3_ace_etc = make_pipeline(SelectKBest(f_classif), StandardScaler(), ExtraTreesClassifier())\n",
    "\n",
    "gs3_ace_etc = GridSearchCV(pipe3_ace_etc, params_ace_etc, n_jobs=-1, cv=3)\n",
    "\n",
    "gs3_ace_etc.fit(X_train_ace3, y_train_health)"
   ]
  },
  {
   "cell_type": "code",
   "execution_count": 46,
   "metadata": {},
   "outputs": [
    {
     "data": {
      "text/plain": [
       "GridSearchCV(cv=3,\n",
       "             estimator=Pipeline(steps=[('selectkbest', SelectKBest()),\n",
       "                                       ('standardscaler', StandardScaler()),\n",
       "                                       ('extratreesclassifier',\n",
       "                                        ExtraTreesClassifier())]),\n",
       "             n_jobs=-1,\n",
       "             param_grid={'extratreesclassifier__max_depth': [None, 3, 5],\n",
       "                         'extratreesclassifier__n_estimators': [100, 300, 500],\n",
       "                         'selectkbest__k': range(1, 28, 4)})"
      ]
     },
     "execution_count": 46,
     "metadata": {},
     "output_type": "execute_result"
    }
   ],
   "source": [
    "pipe4_ace_etc = make_pipeline(SelectKBest(f_classif), StandardScaler(), ExtraTreesClassifier())\n",
    "\n",
    "gs4_ace_etc = GridSearchCV(pipe4_ace_etc, params_ace_etc, n_jobs=-1, cv=3)\n",
    "\n",
    "gs4_ace_etc.fit(X_train_ace4, y_train_smoker)"
   ]
  },
  {
   "cell_type": "code",
   "execution_count": 47,
   "metadata": {},
   "outputs": [],
   "source": [
    "tobacco_ace_etc_preds = gs_ace_etc.predict(X_test_ace)\n",
    "activity_ace_etc_preds = gs2_ace_etc.predict(X_test_ace2)\n",
    "health_ace_etc_preds = gs3_ace_etc.predict(X_test_ace3)\n",
    "smoker_ace_etc_preds = gs4_ace_etc.predict(X_test_ace4)\n",
    "\n",
    "tobacco_ace_etc_prec = precision_score(y_test_tobacco, tobacco_ace_etc_preds, average='micro')\n",
    "activity_ace_etc_prec = precision_score(y_test_activity, activity_ace_etc_preds, average='micro')\n",
    "health_ace_etc_prec = precision_score(y_test_health, health_ace_etc_preds, average='micro')\n",
    "smoker_ace_etc_prec = precision_score(y_test_smoker, smoker_ace_etc_preds, average='micro')"
   ]
  },
  {
   "cell_type": "code",
   "execution_count": 48,
   "metadata": {},
   "outputs": [
    {
     "name": "stdout",
     "output_type": "stream",
     "text": [
      " training accuracy for tobacco: 0.7689821344616832\n",
      " training accuracy for activity: 0.7262142032938215\n",
      " training accuracy for health: 0.6503405168392574\n",
      " training accuracy for smoker: 0.6041484333975145\n"
     ]
    }
   ],
   "source": [
    "print(f' training accuracy for tobacco: {gs_ace_etc.score(X_train_ace, y_train_tobacco)}')\n",
    "print(f' training accuracy for activity: {gs2_ace_etc.score(X_train_ace2, y_train_activity)}')\n",
    "print(f' training accuracy for health: {gs3_ace_etc.score(X_train_ace3, y_train_health)}')\n",
    "print(f' training accuracy for smoker: {gs4_ace_etc.score(X_train_ace4, y_train_smoker)}')"
   ]
  },
  {
   "cell_type": "code",
   "execution_count": 49,
   "metadata": {},
   "outputs": [
    {
     "name": "stdout",
     "output_type": "stream",
     "text": [
      " testing accuracy for tobacco: 0.7582863187588152\n",
      " testing accuracy for activity: 0.7007551919446192\n",
      " testing accuracy for health: 0.6322418136020151\n",
      " testing accuracy for smoker: 0.5410868994486742\n"
     ]
    }
   ],
   "source": [
    "print(f' testing accuracy for tobacco: {gs_ace_etc.score(X_test_ace, y_test_tobacco)}')\n",
    "print(f' testing accuracy for activity: {gs2_ace_etc.score(X_test_ace2, y_test_activity)}')\n",
    "print(f' testing accuracy for health: {gs3_ace_etc.score(X_test_ace3, y_test_health)}')\n",
    "print(f' testing accuracy for smoker: {gs4_ace_etc.score(X_test_ace4, y_test_smoker)}')"
   ]
  },
  {
   "cell_type": "code",
   "execution_count": 50,
   "metadata": {},
   "outputs": [
    {
     "name": "stdout",
     "output_type": "stream",
     "text": [
      "Precision for tobacco: 0.7582863187588152\n",
      "Precision for activity: 0.7007551919446192\n",
      "Precision for health: 0.6322418136020151\n",
      "Precision for smoker: 0.5410868994486742\n"
     ]
    }
   ],
   "source": [
    "print(f'Precision for tobacco: {tobacco_ace_etc_prec}')\n",
    "print(f'Precision for activity: {activity_ace_etc_prec}')\n",
    "print(f'Precision for health: {health_ace_etc_prec}')\n",
    "print(f'Precision for smoker: {smoker_ace_etc_prec}')"
   ]
  },
  {
   "cell_type": "code",
   "execution_count": 51,
   "metadata": {},
   "outputs": [
    {
     "name": "stdout",
     "output_type": "stream",
     "text": [
      "{'extratreesclassifier__max_depth': None, 'extratreesclassifier__n_estimators': 300, 'selectkbest__k': 25}\n",
      "{'extratreesclassifier__max_depth': None, 'extratreesclassifier__n_estimators': 500, 'selectkbest__k': 25}\n",
      "{'extratreesclassifier__max_depth': None, 'extratreesclassifier__n_estimators': 300, 'selectkbest__k': 25}\n",
      "{'extratreesclassifier__max_depth': None, 'extratreesclassifier__n_estimators': 100, 'selectkbest__k': 25}\n"
     ]
    }
   ],
   "source": [
    "print(gs_ace_etc.best_params_)\n",
    "print(gs2_ace_etc.best_params_)\n",
    "print(gs3_ace_etc.best_params_)\n",
    "print(gs4_ace_etc.best_params_)"
   ]
  },
  {
   "cell_type": "markdown",
   "metadata": {},
   "source": [
    "### Pipeline and Gridsearch with just ACE as predictors (Gradient Boost Classifier)"
   ]
  },
  {
   "cell_type": "code",
   "execution_count": 57,
   "metadata": {},
   "outputs": [
    {
     "data": {
      "text/plain": [
       "GridSearchCV(cv=3,\n",
       "             estimator=Pipeline(steps=[('selectkbest', SelectKBest()),\n",
       "                                       ('standardscaler', StandardScaler()),\n",
       "                                       ('gradientboostingclassifier',\n",
       "                                        GradientBoostingClassifier())]),\n",
       "             n_jobs=-1,\n",
       "             param_grid={'gradientboostingclassifier__learning_rate': [0.01,\n",
       "                                                                       0.1,\n",
       "                                                                       0.5],\n",
       "                         'gradientboostingclassifier__loss': ['deviance',\n",
       "                                                              'exponential'],\n",
       "                         'gradientboostingclassifier__max_depth': [3, 5],\n",
       "                         'gradientboostingclassifier__n_estimators': [100, 500],\n",
       "                         'selectkbest__k': range(1, 28, 4)})"
      ]
     },
     "execution_count": 57,
     "metadata": {},
     "output_type": "execute_result"
    }
   ],
   "source": [
    "pipe_ace_gbc = make_pipeline(SelectKBest(f_classif), StandardScaler(), GradientBoostingClassifier())\n",
    "\n",
    "params_ace_gbc = {'selectkbest__k': range(1, 28, 4),\n",
    "                  'gradientboostingclassifier__loss': ['deviance', 'exponential'],\n",
    "                  'gradientboostingclassifier__learning_rate': [0.01, 0.1, 0.5],\n",
    "                  'gradientboostingclassifier__n_estimators': [100, 500],\n",
    "                  'gradientboostingclassifier__max_depth': [3, 5]}\n",
    "\n",
    "gs_ace_gbc = GridSearchCV(pipe_ace_gbc, params_ace_gbc, n_jobs=-1, cv=3)\n",
    "\n",
    "gs_ace_gbc.fit(X_train_ace, y_train_tobacco)"
   ]
  },
  {
   "cell_type": "code",
   "execution_count": 58,
   "metadata": {},
   "outputs": [
    {
     "data": {
      "text/plain": [
       "GridSearchCV(cv=3,\n",
       "             estimator=Pipeline(steps=[('selectkbest', SelectKBest()),\n",
       "                                       ('standardscaler', StandardScaler()),\n",
       "                                       ('gradientboostingclassifier',\n",
       "                                        GradientBoostingClassifier())]),\n",
       "             n_jobs=-1,\n",
       "             param_grid={'gradientboostingclassifier__learning_rate': [0.01,\n",
       "                                                                       0.1,\n",
       "                                                                       0.5],\n",
       "                         'gradientboostingclassifier__loss': ['deviance',\n",
       "                                                              'exponential'],\n",
       "                         'gradientboostingclassifier__max_depth': [3, 5],\n",
       "                         'gradientboostingclassifier__n_estimators': [100, 500],\n",
       "                         'selectkbest__k': range(1, 28, 4)})"
      ]
     },
     "execution_count": 58,
     "metadata": {},
     "output_type": "execute_result"
    }
   ],
   "source": [
    "pipe2_ace_gbc = make_pipeline(SelectKBest(f_classif), StandardScaler(), GradientBoostingClassifier())\n",
    "\n",
    "gs2_ace_gbc = GridSearchCV(pipe2_ace_gbc, params_ace_gbc, n_jobs=-1, cv=3)\n",
    "\n",
    "gs2_ace_gbc.fit(X_train_ace2, y_train_activity)"
   ]
  },
  {
   "cell_type": "code",
   "execution_count": 59,
   "metadata": {},
   "outputs": [
    {
     "data": {
      "text/plain": [
       "GridSearchCV(cv=3,\n",
       "             estimator=Pipeline(steps=[('selectkbest', SelectKBest()),\n",
       "                                       ('standardscaler', StandardScaler()),\n",
       "                                       ('gradientboostingclassifier',\n",
       "                                        GradientBoostingClassifier())]),\n",
       "             n_jobs=-1,\n",
       "             param_grid={'gradientboostingclassifier__learning_rate': [0.01,\n",
       "                                                                       0.1,\n",
       "                                                                       0.5],\n",
       "                         'gradientboostingclassifier__loss': ['deviance',\n",
       "                                                              'exponential'],\n",
       "                         'gradientboostingclassifier__max_depth': [3, 5],\n",
       "                         'gradientboostingclassifier__n_estimators': [100, 500],\n",
       "                         'selectkbest__k': range(1, 28, 4)})"
      ]
     },
     "execution_count": 59,
     "metadata": {},
     "output_type": "execute_result"
    }
   ],
   "source": [
    "pipe3_ace_gbc = make_pipeline(SelectKBest(f_classif), StandardScaler(), GradientBoostingClassifier())\n",
    "\n",
    "gs3_ace_gbc = GridSearchCV(pipe3_ace_gbc, params_ace_gbc, n_jobs=-1, cv=3)\n",
    "\n",
    "gs3_ace_gbc.fit(X_train_ace3, y_train_health)"
   ]
  },
  {
   "cell_type": "code",
   "execution_count": 60,
   "metadata": {},
   "outputs": [
    {
     "data": {
      "text/plain": [
       "GridSearchCV(cv=3,\n",
       "             estimator=Pipeline(steps=[('selectkbest', SelectKBest()),\n",
       "                                       ('standardscaler', StandardScaler()),\n",
       "                                       ('gradientboostingclassifier',\n",
       "                                        GradientBoostingClassifier())]),\n",
       "             n_jobs=-1,\n",
       "             param_grid={'gradientboostingclassifier__learning_rate': [0.01,\n",
       "                                                                       0.1,\n",
       "                                                                       0.5],\n",
       "                         'gradientboostingclassifier__loss': ['deviance',\n",
       "                                                              'exponential'],\n",
       "                         'gradientboostingclassifier__max_depth': [3, 5],\n",
       "                         'gradientboostingclassifier__n_estimators': [100, 500],\n",
       "                         'selectkbest__k': range(1, 28, 4)})"
      ]
     },
     "execution_count": 60,
     "metadata": {},
     "output_type": "execute_result"
    }
   ],
   "source": [
    "pipe4_ace_gbc = make_pipeline(SelectKBest(f_classif), StandardScaler(), GradientBoostingClassifier())\n",
    "\n",
    "gs4_ace_gbc = GridSearchCV(pipe4_ace_gbc, params_ace_gbc, n_jobs=-1, cv=3)\n",
    "\n",
    "gs4_ace_gbc.fit(X_train_ace4, y_train_smoker)"
   ]
  },
  {
   "cell_type": "code",
   "execution_count": 61,
   "metadata": {},
   "outputs": [],
   "source": [
    "tobacco_ace_gbc_preds = gs_ace_gbc.predict(X_test_ace)\n",
    "activity_ace_gbc_preds = gs2_ace_gbc.predict(X_test_ace2)\n",
    "health_ace_gbc_preds = gs3_ace_gbc.predict(X_test_ace3)\n",
    "smoker_ace_gbc_preds = gs4_ace_gbc.predict(X_test_ace4)\n",
    "\n",
    "tobacco_ace_gbc_prec = precision_score(y_test_tobacco, tobacco_ace_gbc_preds, average='micro')\n",
    "activity_ace_gbc_prec = precision_score(y_test_activity, activity_ace_gbc_preds, average='micro')\n",
    "health_ace_gbc_prec = precision_score(y_test_health, health_ace_gbc_preds, average='micro')\n",
    "smoker_ace_gbc_prec = precision_score(y_test_smoker, smoker_ace_gbc_preds, average='micro')"
   ]
  },
  {
   "cell_type": "code",
   "execution_count": 62,
   "metadata": {},
   "outputs": [
    {
     "name": "stdout",
     "output_type": "stream",
     "text": [
      " training accuracy for tobacco: 0.7689821344616832\n",
      " training accuracy for activity: 0.7240113290674499\n",
      " training accuracy for health: 0.6484746711446964\n",
      " training accuracy for smoker: 0.6041484333975145\n"
     ]
    }
   ],
   "source": [
    "print(f' training accuracy for tobacco: {gs_ace_gbc.score(X_train_ace, y_train_tobacco)}')\n",
    "print(f' training accuracy for activity: {gs2_ace_gbc.score(X_train_ace2, y_train_activity)}')\n",
    "print(f' training accuracy for health: {gs3_ace_gbc.score(X_train_ace3, y_train_health)}')\n",
    "print(f' training accuracy for smoker: {gs4_ace_gbc.score(X_train_ace4, y_train_smoker)}')"
   ]
  },
  {
   "cell_type": "code",
   "execution_count": 63,
   "metadata": {},
   "outputs": [
    {
     "name": "stdout",
     "output_type": "stream",
     "text": [
      " testing accuracy for tobacco: 0.7588152327221439\n",
      " testing accuracy for activity: 0.6954059156702328\n",
      " testing accuracy for health: 0.6280436607892528\n",
      " testing accuracy for smoker: 0.5410868994486742\n"
     ]
    }
   ],
   "source": [
    "print(f' testing accuracy for tobacco: {gs_ace_gbc.score(X_test_ace, y_test_tobacco)}')\n",
    "print(f' testing accuracy for activity: {gs2_ace_gbc.score(X_test_ace2, y_test_activity)}')\n",
    "print(f' testing accuracy for health: {gs3_ace_gbc.score(X_test_ace3, y_test_health)}')\n",
    "print(f' testing accuracy for smoker: {gs4_ace_gbc.score(X_test_ace4, y_test_smoker)}')"
   ]
  },
  {
   "cell_type": "code",
   "execution_count": 64,
   "metadata": {},
   "outputs": [
    {
     "name": "stdout",
     "output_type": "stream",
     "text": [
      "Precision for tobacco: 0.7588152327221439\n",
      "Precision for activity: 0.6954059156702328\n",
      "Precision for health: 0.6280436607892528\n",
      "Precision for smoker: 0.5410868994486742\n"
     ]
    }
   ],
   "source": [
    "print(f'Precision for tobacco: {tobacco_ace_gbc_prec}')\n",
    "print(f'Precision for activity: {activity_ace_gbc_prec}')\n",
    "print(f'Precision for health: {health_ace_gbc_prec}')\n",
    "print(f'Precision for smoker: {smoker_ace_gbc_prec}')"
   ]
  },
  {
   "cell_type": "code",
   "execution_count": 65,
   "metadata": {},
   "outputs": [
    {
     "name": "stdout",
     "output_type": "stream",
     "text": [
      "{'gradientboostingclassifier__learning_rate': 0.5, 'gradientboostingclassifier__loss': 'deviance', 'gradientboostingclassifier__max_depth': 5, 'gradientboostingclassifier__n_estimators': 100, 'selectkbest__k': 25}\n",
      "{'gradientboostingclassifier__learning_rate': 0.5, 'gradientboostingclassifier__loss': 'deviance', 'gradientboostingclassifier__max_depth': 5, 'gradientboostingclassifier__n_estimators': 100, 'selectkbest__k': 25}\n",
      "{'gradientboostingclassifier__learning_rate': 0.1, 'gradientboostingclassifier__loss': 'deviance', 'gradientboostingclassifier__max_depth': 5, 'gradientboostingclassifier__n_estimators': 500, 'selectkbest__k': 25}\n",
      "{'gradientboostingclassifier__learning_rate': 0.5, 'gradientboostingclassifier__loss': 'deviance', 'gradientboostingclassifier__max_depth': 5, 'gradientboostingclassifier__n_estimators': 500, 'selectkbest__k': 25}\n"
     ]
    }
   ],
   "source": [
    "print(gs_ace_gbc.best_params_)\n",
    "print(gs2_ace_gbc.best_params_)\n",
    "print(gs3_ace_gbc.best_params_)\n",
    "print(gs4_ace_gbc.best_params_)"
   ]
  },
  {
   "cell_type": "markdown",
   "metadata": {},
   "source": [
    "### Pipeline and Gridsearch with just ACE as predictors (Ada Boost Classifier)"
   ]
  },
  {
   "cell_type": "code",
   "execution_count": 66,
   "metadata": {},
   "outputs": [
    {
     "data": {
      "text/plain": [
       "GridSearchCV(cv=3,\n",
       "             estimator=Pipeline(steps=[('selectkbest', SelectKBest()),\n",
       "                                       ('standardscaler', StandardScaler()),\n",
       "                                       ('adaboostclassifier',\n",
       "                                        AdaBoostClassifier())]),\n",
       "             n_jobs=-1,\n",
       "             param_grid={'adaboostclassifier__learning_rate': [0.5, 1.0],\n",
       "                         'adaboostclassifier__n_estimators': [10, 15, 20, 25],\n",
       "                         'selectkbest__k': range(1, 28, 4)})"
      ]
     },
     "execution_count": 66,
     "metadata": {},
     "output_type": "execute_result"
    }
   ],
   "source": [
    "pipe_ace_abc = make_pipeline(SelectKBest(f_classif), StandardScaler(), AdaBoostClassifier())\n",
    "\n",
    "params_ace_abc = {'selectkbest__k': range(1, 28, 4),\n",
    "                  'adaboostclassifier__learning_rate': [0.5, 1.0],\n",
    "                  'adaboostclassifier__n_estimators': [10, 15, 20, 25], }\n",
    "\n",
    "gs_ace_abc = GridSearchCV(pipe_ace_abc, params_ace_abc, n_jobs=-1, cv=3)\n",
    "\n",
    "gs_ace_abc.fit(X_train_ace, y_train_tobacco)"
   ]
  },
  {
   "cell_type": "code",
   "execution_count": 68,
   "metadata": {},
   "outputs": [
    {
     "data": {
      "text/plain": [
       "GridSearchCV(cv=3,\n",
       "             estimator=Pipeline(steps=[('selectkbest', SelectKBest()),\n",
       "                                       ('standardscaler', StandardScaler()),\n",
       "                                       ('adaboostclassifier',\n",
       "                                        AdaBoostClassifier())]),\n",
       "             n_jobs=-1,\n",
       "             param_grid={'adaboostclassifier__learning_rate': [0.5, 1.0],\n",
       "                         'adaboostclassifier__n_estimators': [10, 15, 20, 25],\n",
       "                         'selectkbest__k': range(1, 28, 4)})"
      ]
     },
     "execution_count": 68,
     "metadata": {},
     "output_type": "execute_result"
    }
   ],
   "source": [
    "pipe2_ace_abc = make_pipeline(SelectKBest(f_classif), StandardScaler(), AdaBoostClassifier())\n",
    "\n",
    "gs2_ace_abc = GridSearchCV(pipe2_ace_abc, params_ace_abc, n_jobs=-1, cv=3)\n",
    "\n",
    "gs2_ace_abc.fit(X_train_ace2, y_train_activity)"
   ]
  },
  {
   "cell_type": "code",
   "execution_count": 69,
   "metadata": {},
   "outputs": [
    {
     "data": {
      "text/plain": [
       "GridSearchCV(cv=3,\n",
       "             estimator=Pipeline(steps=[('selectkbest', SelectKBest()),\n",
       "                                       ('standardscaler', StandardScaler()),\n",
       "                                       ('adaboostclassifier',\n",
       "                                        AdaBoostClassifier())]),\n",
       "             n_jobs=-1,\n",
       "             param_grid={'adaboostclassifier__learning_rate': [0.5, 1.0],\n",
       "                         'adaboostclassifier__n_estimators': [10, 15, 20, 25],\n",
       "                         'selectkbest__k': range(1, 28, 4)})"
      ]
     },
     "execution_count": 69,
     "metadata": {},
     "output_type": "execute_result"
    }
   ],
   "source": [
    "pipe3_ace_abc = make_pipeline(SelectKBest(f_classif), StandardScaler(), AdaBoostClassifier())\n",
    "\n",
    "gs3_ace_abc = GridSearchCV(pipe3_ace_abc, params_ace_abc, n_jobs=-1, cv=3)\n",
    "\n",
    "gs3_ace_abc.fit(X_train_ace3, y_train_health)"
   ]
  },
  {
   "cell_type": "code",
   "execution_count": 70,
   "metadata": {},
   "outputs": [
    {
     "data": {
      "text/plain": [
       "GridSearchCV(cv=3,\n",
       "             estimator=Pipeline(steps=[('selectkbest', SelectKBest()),\n",
       "                                       ('standardscaler', StandardScaler()),\n",
       "                                       ('adaboostclassifier',\n",
       "                                        AdaBoostClassifier())]),\n",
       "             n_jobs=-1,\n",
       "             param_grid={'adaboostclassifier__learning_rate': [0.5, 1.0],\n",
       "                         'adaboostclassifier__n_estimators': [10, 15, 20, 25],\n",
       "                         'selectkbest__k': range(1, 28, 4)})"
      ]
     },
     "execution_count": 70,
     "metadata": {},
     "output_type": "execute_result"
    }
   ],
   "source": [
    "pipe4_ace_abc = make_pipeline(SelectKBest(f_classif), StandardScaler(), AdaBoostClassifier())\n",
    "\n",
    "gs4_ace_abc = GridSearchCV(pipe4_ace_abc, params_ace_abc, n_jobs=-1, cv=3)\n",
    "\n",
    "gs4_ace_abc.fit(X_train_ace4, y_train_smoker)"
   ]
  },
  {
   "cell_type": "code",
   "execution_count": 71,
   "metadata": {},
   "outputs": [],
   "source": [
    "tobacco_ace_abc_preds = gs_ace_abc.predict(X_test_ace)\n",
    "activity_ace_abc_preds = gs2_ace_abc.predict(X_test_ace2)\n",
    "health_ace_abc_preds = gs3_ace_abc.predict(X_test_ace3)\n",
    "smoker_ace_abc_preds = gs4_ace_abc.predict(X_test_ace4)\n",
    "\n",
    "tobacco_ace_abc_prec = precision_score(y_test_tobacco, tobacco_ace_abc_preds, average='micro')\n",
    "activity_ace_abc_prec = precision_score(y_test_activity, activity_ace_abc_preds, average='micro')\n",
    "health_ace_abc_prec = precision_score(y_test_health, health_ace_abc_preds, average='micro')\n",
    "smoker_ace_abc_prec = precision_score(y_test_smoker, smoker_ace_abc_preds, average='micro')"
   ]
  },
  {
   "cell_type": "code",
   "execution_count": 72,
   "metadata": {},
   "outputs": [
    {
     "name": "stdout",
     "output_type": "stream",
     "text": [
      " training accuracy for tobacco: 0.5980253878702397\n",
      " training accuracy for activity: 0.6180635686562467\n",
      " training accuracy for health: 0.4761638212519825\n",
      " training accuracy for smoker: 0.376597234377735\n"
     ]
    }
   ],
   "source": [
    "print(f' training accuracy for tobacco: {gs_ace_abc.score(X_train_ace, y_train_tobacco)}')\n",
    "print(f' training accuracy for activity: {gs2_ace_abc.score(X_train_ace2, y_train_activity)}')\n",
    "print(f' training accuracy for health: {gs3_ace_abc.score(X_train_ace3, y_train_health)}')\n",
    "print(f' training accuracy for smoker: {gs4_ace_abc.score(X_train_ace4, y_train_smoker)}')"
   ]
  },
  {
   "cell_type": "code",
   "execution_count": 73,
   "metadata": {},
   "outputs": [
    {
     "name": "stdout",
     "output_type": "stream",
     "text": [
      " testing accuracy for tobacco: 0.6020803949224259\n",
      " testing accuracy for activity: 0.6340465701699182\n",
      " testing accuracy for health: 0.49006437167646233\n",
      " testing accuracy for smoker: 0.3880283538986611\n"
     ]
    }
   ],
   "source": [
    "print(f' testing accuracy for tobacco: {gs_ace_abc.score(X_test_ace, y_test_tobacco)}')\n",
    "print(f' testing accuracy for activity: {gs2_ace_abc.score(X_test_ace2, y_test_activity)}')\n",
    "print(f' testing accuracy for health: {gs3_ace_abc.score(X_test_ace3, y_test_health)}')\n",
    "print(f' testing accuracy for smoker: {gs4_ace_abc.score(X_test_ace4, y_test_smoker)}')"
   ]
  },
  {
   "cell_type": "code",
   "execution_count": 74,
   "metadata": {},
   "outputs": [
    {
     "name": "stdout",
     "output_type": "stream",
     "text": [
      "Precision for tobacco: 0.6020803949224259\n",
      "Precision for activity: 0.6340465701699182\n",
      "Precision for health: 0.49006437167646233\n",
      "Precision for smoker: 0.3880283538986611\n"
     ]
    }
   ],
   "source": [
    "print(f'Precision for tobacco: {tobacco_ace_abc_prec}')\n",
    "print(f'Precision for activity: {activity_ace_abc_prec}')\n",
    "print(f'Precision for health: {health_ace_abc_prec}')\n",
    "print(f'Precision for smoker: {smoker_ace_abc_prec}')"
   ]
  },
  {
   "cell_type": "code",
   "execution_count": 75,
   "metadata": {},
   "outputs": [
    {
     "name": "stdout",
     "output_type": "stream",
     "text": [
      "{'adaboostclassifier__learning_rate': 1.0, 'adaboostclassifier__n_estimators': 25, 'selectkbest__k': 21}\n",
      "{'adaboostclassifier__learning_rate': 1.0, 'adaboostclassifier__n_estimators': 20, 'selectkbest__k': 25}\n",
      "{'adaboostclassifier__learning_rate': 1.0, 'adaboostclassifier__n_estimators': 10, 'selectkbest__k': 9}\n",
      "{'adaboostclassifier__learning_rate': 1.0, 'adaboostclassifier__n_estimators': 25, 'selectkbest__k': 25}\n"
     ]
    }
   ],
   "source": [
    "print(gs_ace_abc.best_params_)\n",
    "print(gs2_ace_abc.best_params_)\n",
    "print(gs3_ace_abc.best_params_)\n",
    "print(gs4_ace_abc.best_params_)"
   ]
  },
  {
   "cell_type": "markdown",
   "metadata": {},
   "source": [
    "### Pipeline and Gridsearch with just ACE as predictors (XG Boost Classifier)"
   ]
  },
  {
   "cell_type": "code",
   "execution_count": 79,
   "metadata": {},
   "outputs": [
    {
     "data": {
      "text/plain": [
       "GridSearchCV(cv=3,\n",
       "             estimator=Pipeline(steps=[('selectkbest', SelectKBest()),\n",
       "                                       ('standardscaler', StandardScaler()),\n",
       "                                       ('xgbclassifier',\n",
       "                                        XGBClassifier(base_score=None,\n",
       "                                                      booster=None,\n",
       "                                                      colsample_bylevel=None,\n",
       "                                                      colsample_bynode=None,\n",
       "                                                      colsample_bytree=None,\n",
       "                                                      gamma=None, gpu_id=None,\n",
       "                                                      importance_type='gain',\n",
       "                                                      interaction_constraints=None,\n",
       "                                                      learning_rate=None,\n",
       "                                                      max_delta_step=None...\n",
       "                                                      n_jobs=None,\n",
       "                                                      num_parallel_tree=None,\n",
       "                                                      random_state=None,\n",
       "                                                      reg_alpha=None,\n",
       "                                                      reg_lambda=None,\n",
       "                                                      scale_pos_weight=None,\n",
       "                                                      subsample=None,\n",
       "                                                      tree_method=None,\n",
       "                                                      validate_parameters=None,\n",
       "                                                      verbosity=None))]),\n",
       "             n_jobs=-1,\n",
       "             param_grid={'selectkbest__k': range(1, 28, 4),\n",
       "                         'xgbclassifier__learning_rate': [0.5, 1.0],\n",
       "                         'xgbclassifier__max_depth': [3, 5],\n",
       "                         'xgbclassifier__n_estimators': [10, 15, 20, 25]})"
      ]
     },
     "execution_count": 79,
     "metadata": {},
     "output_type": "execute_result"
    }
   ],
   "source": [
    "pipe_ace_xgb = make_pipeline(SelectKBest(f_classif), StandardScaler(), xgb.XGBClassifier())\n",
    "\n",
    "params_ace_xgb = {'selectkbest__k': range(1, 28, 4),\n",
    "                  'xgbclassifier__learning_rate': [0.5, 1.0],\n",
    "                  'xgbclassifier__n_estimators': [10, 15, 20, 25],\n",
    "                 'xgbclassifier__max_depth': [3, 5]}\n",
    "\n",
    "gs_ace_xgb = GridSearchCV(pipe_ace_xgb, params_ace_xgb, n_jobs=-1, cv=3)\n",
    "\n",
    "gs_ace_xgb.fit(X_train_ace, y_train_tobacco)"
   ]
  },
  {
   "cell_type": "code",
   "execution_count": 80,
   "metadata": {},
   "outputs": [
    {
     "data": {
      "text/plain": [
       "GridSearchCV(cv=3,\n",
       "             estimator=Pipeline(steps=[('selectkbest', SelectKBest()),\n",
       "                                       ('standardscaler', StandardScaler()),\n",
       "                                       ('xgbclassifier',\n",
       "                                        XGBClassifier(base_score=None,\n",
       "                                                      booster=None,\n",
       "                                                      colsample_bylevel=None,\n",
       "                                                      colsample_bynode=None,\n",
       "                                                      colsample_bytree=None,\n",
       "                                                      gamma=None, gpu_id=None,\n",
       "                                                      importance_type='gain',\n",
       "                                                      interaction_constraints=None,\n",
       "                                                      learning_rate=None,\n",
       "                                                      max_delta_step=None...\n",
       "                                                      n_jobs=None,\n",
       "                                                      num_parallel_tree=None,\n",
       "                                                      random_state=None,\n",
       "                                                      reg_alpha=None,\n",
       "                                                      reg_lambda=None,\n",
       "                                                      scale_pos_weight=None,\n",
       "                                                      subsample=None,\n",
       "                                                      tree_method=None,\n",
       "                                                      validate_parameters=None,\n",
       "                                                      verbosity=None))]),\n",
       "             n_jobs=-1,\n",
       "             param_grid={'selectkbest__k': range(1, 28, 4),\n",
       "                         'xgbclassifier__learning_rate': [0.5, 1.0],\n",
       "                         'xgbclassifier__max_depth': [3, 5],\n",
       "                         'xgbclassifier__n_estimators': [10, 15, 20, 25]})"
      ]
     },
     "execution_count": 80,
     "metadata": {},
     "output_type": "execute_result"
    }
   ],
   "source": [
    "pipe2_ace_xgb = make_pipeline(SelectKBest(f_classif), StandardScaler(), xgb.XGBClassifier())\n",
    "\n",
    "gs2_ace_xgb = GridSearchCV(pipe2_ace_xgb, params_ace_xgb, n_jobs=-1, cv=3)\n",
    "\n",
    "gs2_ace_xgb.fit(X_train_ace2, y_train_activity)"
   ]
  },
  {
   "cell_type": "code",
   "execution_count": 81,
   "metadata": {},
   "outputs": [
    {
     "data": {
      "text/plain": [
       "GridSearchCV(cv=3,\n",
       "             estimator=Pipeline(steps=[('selectkbest', SelectKBest()),\n",
       "                                       ('standardscaler', StandardScaler()),\n",
       "                                       ('xgbclassifier',\n",
       "                                        XGBClassifier(base_score=None,\n",
       "                                                      booster=None,\n",
       "                                                      colsample_bylevel=None,\n",
       "                                                      colsample_bynode=None,\n",
       "                                                      colsample_bytree=None,\n",
       "                                                      gamma=None, gpu_id=None,\n",
       "                                                      importance_type='gain',\n",
       "                                                      interaction_constraints=None,\n",
       "                                                      learning_rate=None,\n",
       "                                                      max_delta_step=None...\n",
       "                                                      n_jobs=None,\n",
       "                                                      num_parallel_tree=None,\n",
       "                                                      random_state=None,\n",
       "                                                      reg_alpha=None,\n",
       "                                                      reg_lambda=None,\n",
       "                                                      scale_pos_weight=None,\n",
       "                                                      subsample=None,\n",
       "                                                      tree_method=None,\n",
       "                                                      validate_parameters=None,\n",
       "                                                      verbosity=None))]),\n",
       "             n_jobs=-1,\n",
       "             param_grid={'selectkbest__k': range(1, 28, 4),\n",
       "                         'xgbclassifier__learning_rate': [0.5, 1.0],\n",
       "                         'xgbclassifier__max_depth': [3, 5],\n",
       "                         'xgbclassifier__n_estimators': [10, 15, 20, 25]})"
      ]
     },
     "execution_count": 81,
     "metadata": {},
     "output_type": "execute_result"
    }
   ],
   "source": [
    "pipe3_ace_xgb = make_pipeline(SelectKBest(f_classif), StandardScaler(), xgb.XGBClassifier())\n",
    "\n",
    "gs3_ace_xgb = GridSearchCV(pipe3_ace_xgb, params_ace_xgb, n_jobs=-1, cv=3)\n",
    "\n",
    "gs3_ace_xgb.fit(X_train_ace3, y_train_health)"
   ]
  },
  {
   "cell_type": "code",
   "execution_count": 82,
   "metadata": {},
   "outputs": [
    {
     "data": {
      "text/plain": [
       "GridSearchCV(cv=3,\n",
       "             estimator=Pipeline(steps=[('selectkbest', SelectKBest()),\n",
       "                                       ('standardscaler', StandardScaler()),\n",
       "                                       ('xgbclassifier',\n",
       "                                        XGBClassifier(base_score=None,\n",
       "                                                      booster=None,\n",
       "                                                      colsample_bylevel=None,\n",
       "                                                      colsample_bynode=None,\n",
       "                                                      colsample_bytree=None,\n",
       "                                                      gamma=None, gpu_id=None,\n",
       "                                                      importance_type='gain',\n",
       "                                                      interaction_constraints=None,\n",
       "                                                      learning_rate=None,\n",
       "                                                      max_delta_step=None...\n",
       "                                                      n_jobs=None,\n",
       "                                                      num_parallel_tree=None,\n",
       "                                                      random_state=None,\n",
       "                                                      reg_alpha=None,\n",
       "                                                      reg_lambda=None,\n",
       "                                                      scale_pos_weight=None,\n",
       "                                                      subsample=None,\n",
       "                                                      tree_method=None,\n",
       "                                                      validate_parameters=None,\n",
       "                                                      verbosity=None))]),\n",
       "             n_jobs=-1,\n",
       "             param_grid={'selectkbest__k': range(1, 28, 4),\n",
       "                         'xgbclassifier__learning_rate': [0.5, 1.0],\n",
       "                         'xgbclassifier__max_depth': [3, 5],\n",
       "                         'xgbclassifier__n_estimators': [10, 15, 20, 25]})"
      ]
     },
     "execution_count": 82,
     "metadata": {},
     "output_type": "execute_result"
    }
   ],
   "source": [
    "pipe4_ace_xgb = make_pipeline(SelectKBest(f_classif), StandardScaler(), xgb.XGBClassifier())\n",
    "\n",
    "gs4_ace_xgb = GridSearchCV(pipe4_ace_xgb, params_ace_xgb, n_jobs=-1, cv=3)\n",
    "\n",
    "gs4_ace_xgb.fit(X_train_ace4, y_train_smoker)"
   ]
  },
  {
   "cell_type": "code",
   "execution_count": 85,
   "metadata": {},
   "outputs": [],
   "source": [
    "tobacco_ace_xgb_preds = gs_ace_xgb.predict(X_test_ace)\n",
    "activity_ace_xgb_preds = gs2_ace_xgb.predict(X_test_ace2)\n",
    "health_ace_xgb_preds = gs3_ace_xgb.predict(X_test_ace3)\n",
    "smoker_ace_xgb_preds = gs4_ace_xgb.predict(X_test_ace4)\n",
    "\n",
    "tobacco_ace_xgb_prec = precision_score(y_test_tobacco, tobacco_ace_xgb_preds, average='micro')\n",
    "activity_ace_xgb_prec = precision_score(y_test_activity, activity_ace_xgb_preds, average='micro')\n",
    "health_ace_xgb_prec = precision_score(y_test_health, health_ace_xgb_preds, average='micro')\n",
    "smoker_ace_xgb_prec = precision_score(y_test_smoker, smoker_ace_xgb_preds, average='micro')"
   ]
  },
  {
   "cell_type": "code",
   "execution_count": 86,
   "metadata": {},
   "outputs": [
    {
     "name": "stdout",
     "output_type": "stream",
     "text": [
      " training accuracy for tobacco: 0.7594029149036201\n",
      " training accuracy for activity: 0.6930661911255638\n",
      " training accuracy for health: 0.6282302453587089\n",
      " training accuracy for smoker: 0.5292315771048486\n"
     ]
    }
   ],
   "source": [
    "print(f' training accuracy for tobacco: {gs_ace_xgb.score(X_train_ace, y_train_tobacco)}')\n",
    "print(f' training accuracy for activity: {gs2_ace_xgb.score(X_train_ace2, y_train_activity)}')\n",
    "print(f' training accuracy for health: {gs3_ace_xgb.score(X_train_ace3, y_train_health)}')\n",
    "print(f' training accuracy for smoker: {gs4_ace_xgb.score(X_train_ace4, y_train_smoker)}')"
   ]
  },
  {
   "cell_type": "code",
   "execution_count": 87,
   "metadata": {},
   "outputs": [
    {
     "name": "stdout",
     "output_type": "stream",
     "text": [
      " testing accuracy for tobacco: 0.7593441466854725\n",
      " testing accuracy for activity: 0.6869100062932662\n",
      " testing accuracy for health: 0.6238455079764903\n",
      " testing accuracy for smoker: 0.5161459700708847\n"
     ]
    }
   ],
   "source": [
    "print(f' testing accuracy for tobacco: {gs_ace_xgb.score(X_test_ace, y_test_tobacco)}')\n",
    "print(f' testing accuracy for activity: {gs2_ace_xgb.score(X_test_ace2, y_test_activity)}')\n",
    "print(f' testing accuracy for health: {gs3_ace_xgb.score(X_test_ace3, y_test_health)}')\n",
    "print(f' testing accuracy for smoker: {gs4_ace_xgb.score(X_test_ace4, y_test_smoker)}')"
   ]
  },
  {
   "cell_type": "code",
   "execution_count": 88,
   "metadata": {},
   "outputs": [
    {
     "name": "stdout",
     "output_type": "stream",
     "text": [
      "Precision for tobacco: 0.7593441466854725\n",
      "Precision for activity: 0.6869100062932662\n",
      "Precision for health: 0.6238455079764903\n",
      "Precision for smoker: 0.5161459700708847\n"
     ]
    }
   ],
   "source": [
    "print(f'Precision for tobacco: {tobacco_ace_xgb_prec}')\n",
    "print(f'Precision for activity: {activity_ace_xgb_prec}')\n",
    "print(f'Precision for health: {health_ace_xgb_prec}')\n",
    "print(f'Precision for smoker: {smoker_ace_xgb_prec}')"
   ]
  },
  {
   "cell_type": "code",
   "execution_count": 89,
   "metadata": {},
   "outputs": [
    {
     "name": "stdout",
     "output_type": "stream",
     "text": [
      "{'selectkbest__k': 25, 'xgbclassifier__learning_rate': 1.0, 'xgbclassifier__max_depth': 5, 'xgbclassifier__n_estimators': 25}\n",
      "{'selectkbest__k': 25, 'xgbclassifier__learning_rate': 1.0, 'xgbclassifier__max_depth': 5, 'xgbclassifier__n_estimators': 25}\n",
      "{'selectkbest__k': 25, 'xgbclassifier__learning_rate': 1.0, 'xgbclassifier__max_depth': 5, 'xgbclassifier__n_estimators': 25}\n",
      "{'selectkbest__k': 25, 'xgbclassifier__learning_rate': 0.5, 'xgbclassifier__max_depth': 5, 'xgbclassifier__n_estimators': 25}\n"
     ]
    }
   ],
   "source": [
    "print(gs_ace_xgb.best_params_)\n",
    "print(gs2_ace_xgb.best_params_)\n",
    "print(gs3_ace_xgb.best_params_)\n",
    "print(gs4_ace_xgb.best_params_)"
   ]
  },
  {
   "cell_type": "code",
   "execution_count": null,
   "metadata": {},
   "outputs": [],
   "source": []
  }
 ],
 "metadata": {
  "kernelspec": {
   "display_name": "Python 3",
   "language": "python",
   "name": "python3"
  },
  "language_info": {
   "codemirror_mode": {
    "name": "ipython",
    "version": 3
   },
   "file_extension": ".py",
   "mimetype": "text/x-python",
   "name": "python",
   "nbconvert_exporter": "python",
   "pygments_lexer": "ipython3",
   "version": "3.8.3"
  }
 },
 "nbformat": 4,
 "nbformat_minor": 4
}
