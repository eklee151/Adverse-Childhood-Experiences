{
 "cells": [
  {
   "cell_type": "code",
   "execution_count": 1,
   "metadata": {},
   "outputs": [],
   "source": [
    "#!pip install imblearn"
   ]
  },
  {
   "cell_type": "code",
   "execution_count": 2,
   "metadata": {},
   "outputs": [],
   "source": [
    "#!pip install xgboost"
   ]
  },
  {
   "cell_type": "code",
   "execution_count": 1,
   "metadata": {},
   "outputs": [],
   "source": [
    "import pandas as pd\n",
    "import numpy as np\n",
    "import seaborn as sns\n",
    "import matplotlib.pyplot as plt\n",
    "\n",
    "from sklearn.model_selection import train_test_split, GridSearchCV\n",
    "from sklearn.preprocessing import StandardScaler\n",
    "from sklearn.feature_selection import SelectKBest, f_classif\n",
    "from sklearn.pipeline import make_pipeline\n",
    "from sklearn.linear_model import LogisticRegression\n",
    "from sklearn.metrics import confusion_matrix, plot_confusion_matrix, precision_score\n",
    "from sklearn.ensemble import RandomForestClassifier, ExtraTreesClassifier, AdaBoostClassifier\n",
    "\n",
    "from imblearn.over_sampling import SMOTE\n",
    "\n",
    "import xgboost as xgb\n",
    "\n",
    "import warnings\n",
    "warnings.filterwarnings('ignore')"
   ]
  },
  {
   "cell_type": "code",
   "execution_count": 2,
   "metadata": {},
   "outputs": [],
   "source": [
    "# reading in full data set\n",
    "brfss_total = pd.read_csv(\"../csv_data/brfss_total.csv\")"
   ]
  },
  {
   "cell_type": "code",
   "execution_count": 3,
   "metadata": {},
   "outputs": [
    {
     "data": {
      "text/html": [
       "<div>\n",
       "<style scoped>\n",
       "    .dataframe tbody tr th:only-of-type {\n",
       "        vertical-align: middle;\n",
       "    }\n",
       "\n",
       "    .dataframe tbody tr th {\n",
       "        vertical-align: top;\n",
       "    }\n",
       "\n",
       "    .dataframe thead th {\n",
       "        text-align: right;\n",
       "    }\n",
       "</style>\n",
       "<table border=\"1\" class=\"dataframe\">\n",
       "  <thead>\n",
       "    <tr style=\"text-align: right;\">\n",
       "      <th></th>\n",
       "      <th>Unnamed: 0</th>\n",
       "      <th>_STATE</th>\n",
       "      <th>DISPCODE</th>\n",
       "      <th>PHYSHLTH</th>\n",
       "      <th>MENTHLTH</th>\n",
       "      <th>USENOW3</th>\n",
       "      <th>HISPANC2</th>\n",
       "      <th>MARITAL</th>\n",
       "      <th>CHILDREN</th>\n",
       "      <th>EMPLOY</th>\n",
       "      <th>...</th>\n",
       "      <th>ACETTHEM</th>\n",
       "      <th>ACEHVSEX</th>\n",
       "      <th>MSCODE</th>\n",
       "      <th>_IMPAGE</th>\n",
       "      <th>_RFHLTH</th>\n",
       "      <th>_SMOKER3</th>\n",
       "      <th>_PRACE</th>\n",
       "      <th>_EDUCAG</th>\n",
       "      <th>_INCOMG</th>\n",
       "      <th>_TOTINDA</th>\n",
       "    </tr>\n",
       "  </thead>\n",
       "  <tbody>\n",
       "    <tr>\n",
       "      <th>0</th>\n",
       "      <td>0</td>\n",
       "      <td>5.0</td>\n",
       "      <td>110.0</td>\n",
       "      <td>0.0</td>\n",
       "      <td>0.0</td>\n",
       "      <td>3.0</td>\n",
       "      <td>2.0</td>\n",
       "      <td>1.0</td>\n",
       "      <td>1.0</td>\n",
       "      <td>2.0</td>\n",
       "      <td>...</td>\n",
       "      <td>1.0</td>\n",
       "      <td>1.0</td>\n",
       "      <td>5.0</td>\n",
       "      <td>53.0</td>\n",
       "      <td>1.0</td>\n",
       "      <td>4.0</td>\n",
       "      <td>1.0</td>\n",
       "      <td>3.0</td>\n",
       "      <td>5.0</td>\n",
       "      <td>1.0</td>\n",
       "    </tr>\n",
       "    <tr>\n",
       "      <th>1</th>\n",
       "      <td>1</td>\n",
       "      <td>5.0</td>\n",
       "      <td>110.0</td>\n",
       "      <td>15.0</td>\n",
       "      <td>0.0</td>\n",
       "      <td>3.0</td>\n",
       "      <td>2.0</td>\n",
       "      <td>2.0</td>\n",
       "      <td>0.0</td>\n",
       "      <td>0.0</td>\n",
       "      <td>...</td>\n",
       "      <td>1.0</td>\n",
       "      <td>1.0</td>\n",
       "      <td>5.0</td>\n",
       "      <td>64.0</td>\n",
       "      <td>2.0</td>\n",
       "      <td>3.0</td>\n",
       "      <td>1.0</td>\n",
       "      <td>2.0</td>\n",
       "      <td>2.0</td>\n",
       "      <td>1.0</td>\n",
       "    </tr>\n",
       "    <tr>\n",
       "      <th>2</th>\n",
       "      <td>2</td>\n",
       "      <td>5.0</td>\n",
       "      <td>110.0</td>\n",
       "      <td>6.0</td>\n",
       "      <td>0.0</td>\n",
       "      <td>3.0</td>\n",
       "      <td>2.0</td>\n",
       "      <td>1.0</td>\n",
       "      <td>0.0</td>\n",
       "      <td>0.0</td>\n",
       "      <td>...</td>\n",
       "      <td>1.0</td>\n",
       "      <td>1.0</td>\n",
       "      <td>5.0</td>\n",
       "      <td>58.0</td>\n",
       "      <td>1.0</td>\n",
       "      <td>4.0</td>\n",
       "      <td>1.0</td>\n",
       "      <td>3.0</td>\n",
       "      <td>2.0</td>\n",
       "      <td>1.0</td>\n",
       "    </tr>\n",
       "    <tr>\n",
       "      <th>3</th>\n",
       "      <td>3</td>\n",
       "      <td>5.0</td>\n",
       "      <td>110.0</td>\n",
       "      <td>30.0</td>\n",
       "      <td>0.0</td>\n",
       "      <td>3.0</td>\n",
       "      <td>2.0</td>\n",
       "      <td>1.0</td>\n",
       "      <td>0.0</td>\n",
       "      <td>0.0</td>\n",
       "      <td>...</td>\n",
       "      <td>1.0</td>\n",
       "      <td>1.0</td>\n",
       "      <td>5.0</td>\n",
       "      <td>76.0</td>\n",
       "      <td>2.0</td>\n",
       "      <td>4.0</td>\n",
       "      <td>1.0</td>\n",
       "      <td>1.0</td>\n",
       "      <td>0.0</td>\n",
       "      <td>2.0</td>\n",
       "    </tr>\n",
       "    <tr>\n",
       "      <th>4</th>\n",
       "      <td>4</td>\n",
       "      <td>5.0</td>\n",
       "      <td>110.0</td>\n",
       "      <td>13.0</td>\n",
       "      <td>0.0</td>\n",
       "      <td>3.0</td>\n",
       "      <td>2.0</td>\n",
       "      <td>3.0</td>\n",
       "      <td>0.0</td>\n",
       "      <td>0.0</td>\n",
       "      <td>...</td>\n",
       "      <td>1.0</td>\n",
       "      <td>0.0</td>\n",
       "      <td>5.0</td>\n",
       "      <td>82.0</td>\n",
       "      <td>2.0</td>\n",
       "      <td>3.0</td>\n",
       "      <td>1.0</td>\n",
       "      <td>2.0</td>\n",
       "      <td>0.0</td>\n",
       "      <td>2.0</td>\n",
       "    </tr>\n",
       "  </tbody>\n",
       "</table>\n",
       "<p>5 rows × 32 columns</p>\n",
       "</div>"
      ],
      "text/plain": [
       "   Unnamed: 0  _STATE  DISPCODE  PHYSHLTH  MENTHLTH  USENOW3  HISPANC2  \\\n",
       "0           0     5.0     110.0       0.0       0.0      3.0       2.0   \n",
       "1           1     5.0     110.0      15.0       0.0      3.0       2.0   \n",
       "2           2     5.0     110.0       6.0       0.0      3.0       2.0   \n",
       "3           3     5.0     110.0      30.0       0.0      3.0       2.0   \n",
       "4           4     5.0     110.0      13.0       0.0      3.0       2.0   \n",
       "\n",
       "   MARITAL  CHILDREN  EMPLOY  ...  ACETTHEM  ACEHVSEX  MSCODE  _IMPAGE  \\\n",
       "0      1.0       1.0     2.0  ...       1.0       1.0     5.0     53.0   \n",
       "1      2.0       0.0     0.0  ...       1.0       1.0     5.0     64.0   \n",
       "2      1.0       0.0     0.0  ...       1.0       1.0     5.0     58.0   \n",
       "3      1.0       0.0     0.0  ...       1.0       1.0     5.0     76.0   \n",
       "4      3.0       0.0     0.0  ...       1.0       0.0     5.0     82.0   \n",
       "\n",
       "   _RFHLTH  _SMOKER3  _PRACE  _EDUCAG  _INCOMG  _TOTINDA  \n",
       "0      1.0       4.0     1.0      3.0      5.0       1.0  \n",
       "1      2.0       3.0     1.0      2.0      2.0       1.0  \n",
       "2      1.0       4.0     1.0      3.0      2.0       1.0  \n",
       "3      2.0       4.0     1.0      1.0      0.0       2.0  \n",
       "4      2.0       3.0     1.0      2.0      0.0       2.0  \n",
       "\n",
       "[5 rows x 32 columns]"
      ]
     },
     "execution_count": 3,
     "metadata": {},
     "output_type": "execute_result"
    }
   ],
   "source": [
    "brfss_total.head()"
   ]
  },
  {
   "cell_type": "code",
   "execution_count": 4,
   "metadata": {},
   "outputs": [
    {
     "data": {
      "text/plain": [
       "Unnamed: 0    0\n",
       "_STATE        0\n",
       "DISPCODE      0\n",
       "PHYSHLTH      0\n",
       "MENTHLTH      0\n",
       "USENOW3       0\n",
       "HISPANC2      0\n",
       "MARITAL       0\n",
       "CHILDREN      0\n",
       "EMPLOY        0\n",
       "RENTHOM1      0\n",
       "SEX           0\n",
       "QLACTLM2      0\n",
       "ACEDEPRS      0\n",
       "ACEDRINK      0\n",
       "ACEDRUGS      0\n",
       "ACEPRISN      0\n",
       "ACEDIVRC      0\n",
       "ACEPUNCH      0\n",
       "ACEHURT       0\n",
       "ACESWEAR      0\n",
       "ACETOUCH      0\n",
       "ACETTHEM      0\n",
       "ACEHVSEX      0\n",
       "MSCODE        0\n",
       "_IMPAGE       0\n",
       "_RFHLTH       0\n",
       "_SMOKER3      0\n",
       "_PRACE        0\n",
       "_EDUCAG       0\n",
       "_INCOMG       0\n",
       "_TOTINDA      0\n",
       "dtype: int64"
      ]
     },
     "execution_count": 4,
     "metadata": {},
     "output_type": "execute_result"
    }
   ],
   "source": [
    "# just making sure no nulls are present\n",
    "brfss_total.isna().sum()"
   ]
  },
  {
   "cell_type": "code",
   "execution_count": 5,
   "metadata": {},
   "outputs": [],
   "source": [
    "brfss_total.drop(columns=['Unnamed: 0'], inplace=True)"
   ]
  },
  {
   "cell_type": "markdown",
   "metadata": {},
   "source": [
    "**Variables I will try to predict with my models:**\n",
    "- USENOW3: Do you currently use chewing tobacco, snuff, or snus every day, some days, or not at all?\n",
    "    - classification\n",
    "    - 0 = Don't know, Not sure or Refused, 1 = every day, 2 = some days, 3 = not at all\n",
    "- QLACTLM2: Are you limited in any way in any activities because of physical, mental, or emotional problems?\n",
    "    - classification\n",
    "    - 0 = Don't know, Not sure or Refused, 1 = yes, 2 = no\n",
    "- _RFHLTH: Adults with good or better health vs. fair or poor health\n",
    "    - classification\n",
    "    - based off of GENHLTH\n",
    "    - 0 = Don't know, Not sure or Refused, 1 = Good or Better Health, 2 = Fair or Poor Health\n",
    "- _SMOKER3: Four-level smoker status: Everyday smoker, Someday smoker, Former smoker, Non-smoker\n",
    "    - classification\n",
    "    - based off of SMOKE100 & SMOKEDAY\n",
    "    - 0 = Don't know, Not sure or Refused, 1 = Current smoker (now smokes every day), 2 = Current smoker (now smokes some days), 3 = Former smoker, 4 = Never smoked"
   ]
  },
  {
   "cell_type": "markdown",
   "metadata": {},
   "source": [
    "**Will OneHotEncode/ dummify ordinal/nominal features**\n",
    "\n",
    "**Will only use a sample of the data set for models so they can run faster**\n",
    "\n",
    "**Will use SMOTE to compensensate for imbalanced classes**\n",
    "\n",
    "**Will aggregate all ACEs into two groups: Abuse and Household Challenges**"
   ]
  },
  {
   "cell_type": "code",
   "execution_count": 6,
   "metadata": {},
   "outputs": [],
   "source": [
    "np.random.seed(151)"
   ]
  },
  {
   "cell_type": "code",
   "execution_count": 7,
   "metadata": {},
   "outputs": [
    {
     "data": {
      "text/plain": [
       "(5878, 31)"
      ]
     },
     "execution_count": 7,
     "metadata": {},
     "output_type": "execute_result"
    }
   ],
   "source": [
    "# taking a small sample so that my models will run a little faster\n",
    "brfss_total_sample = brfss_total.sample(frac=0.05, axis=0)\n",
    "\n",
    "brfss_total_sample.shape"
   ]
  },
  {
   "cell_type": "code",
   "execution_count": 8,
   "metadata": {},
   "outputs": [],
   "source": [
    "# creating X variable with all features\n",
    "X_all = brfss_total_sample.drop(columns=['USENOW3', 'QLACTLM2', '_RFHLTH', '_SMOKER3'])"
   ]
  },
  {
   "cell_type": "code",
   "execution_count": 9,
   "metadata": {},
   "outputs": [],
   "source": [
    "# creating the 4 y's\n",
    "y_tobacco = brfss_total_sample['USENOW3']\n",
    "y_activity = brfss_total_sample['QLACTLM2']\n",
    "y_health = brfss_total_sample['_RFHLTH']\n",
    "y_smoker = brfss_total_sample['_SMOKER3']"
   ]
  },
  {
   "cell_type": "code",
   "execution_count": 10,
   "metadata": {},
   "outputs": [
    {
     "data": {
      "text/plain": [
       "3.0    0.966315\n",
       "1.0    0.019905\n",
       "2.0    0.011398\n",
       "0.0    0.002382\n",
       "Name: USENOW3, dtype: float64"
      ]
     },
     "execution_count": 10,
     "metadata": {},
     "output_type": "execute_result"
    }
   ],
   "source": [
    "#original baseline for tobacco\n",
    "y_tobacco.value_counts(normalize=True)"
   ]
  },
  {
   "cell_type": "code",
   "execution_count": 11,
   "metadata": {},
   "outputs": [
    {
     "data": {
      "text/plain": [
       "2.0    0.717251\n",
       "1.0    0.277305\n",
       "0.0    0.005444\n",
       "Name: QLACTLM2, dtype: float64"
      ]
     },
     "execution_count": 11,
     "metadata": {},
     "output_type": "execute_result"
    }
   ],
   "source": [
    "#original baseline for activity\n",
    "y_activity.value_counts(normalize=True)"
   ]
  },
  {
   "cell_type": "code",
   "execution_count": 12,
   "metadata": {},
   "outputs": [
    {
     "data": {
      "text/plain": [
       "1.0    0.815073\n",
       "2.0    0.182375\n",
       "0.0    0.002552\n",
       "Name: _RFHLTH, dtype: float64"
      ]
     },
     "execution_count": 12,
     "metadata": {},
     "output_type": "execute_result"
    }
   ],
   "source": [
    "#original baseline for health\n",
    "y_health.value_counts(normalize=True)"
   ]
  },
  {
   "cell_type": "code",
   "execution_count": 13,
   "metadata": {},
   "outputs": [
    {
     "data": {
      "text/plain": [
       "4.0    0.524498\n",
       "3.0    0.305376\n",
       "1.0    0.120449\n",
       "2.0    0.044063\n",
       "0.0    0.005614\n",
       "Name: _SMOKER3, dtype: float64"
      ]
     },
     "execution_count": 13,
     "metadata": {},
     "output_type": "execute_result"
    }
   ],
   "source": [
    "#original baseline for smoker\n",
    "y_smoker.value_counts(normalize=True)"
   ]
  },
  {
   "cell_type": "code",
   "execution_count": 14,
   "metadata": {},
   "outputs": [],
   "source": [
    "X_num = X_all[['PHYSHLTH', 'MENTHLTH', 'CHILDREN']]\n",
    "X_cat = X_all[['_STATE', 'DISPCODE', 'HISPANC2', 'MARITAL', 'EMPLOY', 'RENTHOM1', 'SEX', 'ACEDEPRS', 'ACEDRINK', 'ACEDRUGS', 'ACEPRISN', \n",
    "               'ACEDIVRC', 'ACEPUNCH', 'ACEHURT', 'ACESWEAR', 'ACETOUCH', 'ACETTHEM', 'ACEHVSEX', 'MSCODE', \n",
    "               '_IMPAGE', '_PRACE', '_EDUCAG', '_INCOMG','_TOTINDA']]"
   ]
  },
  {
   "cell_type": "code",
   "execution_count": 15,
   "metadata": {},
   "outputs": [
    {
     "data": {
      "text/html": [
       "<div>\n",
       "<style scoped>\n",
       "    .dataframe tbody tr th:only-of-type {\n",
       "        vertical-align: middle;\n",
       "    }\n",
       "\n",
       "    .dataframe tbody tr th {\n",
       "        vertical-align: top;\n",
       "    }\n",
       "\n",
       "    .dataframe thead th {\n",
       "        text-align: right;\n",
       "    }\n",
       "</style>\n",
       "<table border=\"1\" class=\"dataframe\">\n",
       "  <thead>\n",
       "    <tr style=\"text-align: right;\">\n",
       "      <th></th>\n",
       "      <th>PHYSHLTH</th>\n",
       "      <th>MENTHLTH</th>\n",
       "      <th>CHILDREN</th>\n",
       "    </tr>\n",
       "  </thead>\n",
       "  <tbody>\n",
       "    <tr>\n",
       "      <th>12235</th>\n",
       "      <td>0.0</td>\n",
       "      <td>0.0</td>\n",
       "      <td>0.0</td>\n",
       "    </tr>\n",
       "    <tr>\n",
       "      <th>55470</th>\n",
       "      <td>0.0</td>\n",
       "      <td>0.0</td>\n",
       "      <td>0.0</td>\n",
       "    </tr>\n",
       "    <tr>\n",
       "      <th>29353</th>\n",
       "      <td>0.0</td>\n",
       "      <td>0.0</td>\n",
       "      <td>0.0</td>\n",
       "    </tr>\n",
       "    <tr>\n",
       "      <th>44625</th>\n",
       "      <td>0.0</td>\n",
       "      <td>0.0</td>\n",
       "      <td>0.0</td>\n",
       "    </tr>\n",
       "    <tr>\n",
       "      <th>53217</th>\n",
       "      <td>0.0</td>\n",
       "      <td>0.0</td>\n",
       "      <td>0.0</td>\n",
       "    </tr>\n",
       "    <tr>\n",
       "      <th>...</th>\n",
       "      <td>...</td>\n",
       "      <td>...</td>\n",
       "      <td>...</td>\n",
       "    </tr>\n",
       "    <tr>\n",
       "      <th>93792</th>\n",
       "      <td>0.0</td>\n",
       "      <td>0.0</td>\n",
       "      <td>0.0</td>\n",
       "    </tr>\n",
       "    <tr>\n",
       "      <th>57356</th>\n",
       "      <td>0.0</td>\n",
       "      <td>30.0</td>\n",
       "      <td>0.0</td>\n",
       "    </tr>\n",
       "    <tr>\n",
       "      <th>42088</th>\n",
       "      <td>2.0</td>\n",
       "      <td>0.0</td>\n",
       "      <td>0.0</td>\n",
       "    </tr>\n",
       "    <tr>\n",
       "      <th>9335</th>\n",
       "      <td>0.0</td>\n",
       "      <td>0.0</td>\n",
       "      <td>0.0</td>\n",
       "    </tr>\n",
       "    <tr>\n",
       "      <th>70400</th>\n",
       "      <td>0.0</td>\n",
       "      <td>0.0</td>\n",
       "      <td>1.0</td>\n",
       "    </tr>\n",
       "  </tbody>\n",
       "</table>\n",
       "<p>5878 rows × 3 columns</p>\n",
       "</div>"
      ],
      "text/plain": [
       "       PHYSHLTH  MENTHLTH  CHILDREN\n",
       "12235       0.0       0.0       0.0\n",
       "55470       0.0       0.0       0.0\n",
       "29353       0.0       0.0       0.0\n",
       "44625       0.0       0.0       0.0\n",
       "53217       0.0       0.0       0.0\n",
       "...         ...       ...       ...\n",
       "93792       0.0       0.0       0.0\n",
       "57356       0.0      30.0       0.0\n",
       "42088       2.0       0.0       0.0\n",
       "9335        0.0       0.0       0.0\n",
       "70400       0.0       0.0       1.0\n",
       "\n",
       "[5878 rows x 3 columns]"
      ]
     },
     "execution_count": 15,
     "metadata": {},
     "output_type": "execute_result"
    }
   ],
   "source": [
    "X_num"
   ]
  },
  {
   "cell_type": "code",
   "execution_count": 16,
   "metadata": {},
   "outputs": [],
   "source": [
    "X_cat = X_cat.astype(str)"
   ]
  },
  {
   "cell_type": "code",
   "execution_count": 17,
   "metadata": {},
   "outputs": [
    {
     "data": {
      "text/html": [
       "<div>\n",
       "<style scoped>\n",
       "    .dataframe tbody tr th:only-of-type {\n",
       "        vertical-align: middle;\n",
       "    }\n",
       "\n",
       "    .dataframe tbody tr th {\n",
       "        vertical-align: top;\n",
       "    }\n",
       "\n",
       "    .dataframe thead th {\n",
       "        text-align: right;\n",
       "    }\n",
       "</style>\n",
       "<table border=\"1\" class=\"dataframe\">\n",
       "  <thead>\n",
       "    <tr style=\"text-align: right;\">\n",
       "      <th></th>\n",
       "      <th>_STATE_15.0</th>\n",
       "      <th>_STATE_19.0</th>\n",
       "      <th>_STATE_22.0</th>\n",
       "      <th>_STATE_27.0</th>\n",
       "      <th>_STATE_30.0</th>\n",
       "      <th>_STATE_32.0</th>\n",
       "      <th>_STATE_37.0</th>\n",
       "      <th>_STATE_40.0</th>\n",
       "      <th>_STATE_47.0</th>\n",
       "      <th>_STATE_5.0</th>\n",
       "      <th>...</th>\n",
       "      <th>_EDUCAG_2.0</th>\n",
       "      <th>_EDUCAG_3.0</th>\n",
       "      <th>_EDUCAG_4.0</th>\n",
       "      <th>_INCOMG_1.0</th>\n",
       "      <th>_INCOMG_2.0</th>\n",
       "      <th>_INCOMG_3.0</th>\n",
       "      <th>_INCOMG_4.0</th>\n",
       "      <th>_INCOMG_5.0</th>\n",
       "      <th>_TOTINDA_1.0</th>\n",
       "      <th>_TOTINDA_2.0</th>\n",
       "    </tr>\n",
       "  </thead>\n",
       "  <tbody>\n",
       "    <tr>\n",
       "      <th>12235</th>\n",
       "      <td>0</td>\n",
       "      <td>0</td>\n",
       "      <td>0</td>\n",
       "      <td>0</td>\n",
       "      <td>0</td>\n",
       "      <td>0</td>\n",
       "      <td>0</td>\n",
       "      <td>0</td>\n",
       "      <td>0</td>\n",
       "      <td>0</td>\n",
       "      <td>...</td>\n",
       "      <td>0</td>\n",
       "      <td>0</td>\n",
       "      <td>1</td>\n",
       "      <td>0</td>\n",
       "      <td>0</td>\n",
       "      <td>0</td>\n",
       "      <td>0</td>\n",
       "      <td>1</td>\n",
       "      <td>1</td>\n",
       "      <td>0</td>\n",
       "    </tr>\n",
       "    <tr>\n",
       "      <th>55470</th>\n",
       "      <td>0</td>\n",
       "      <td>0</td>\n",
       "      <td>0</td>\n",
       "      <td>0</td>\n",
       "      <td>1</td>\n",
       "      <td>0</td>\n",
       "      <td>0</td>\n",
       "      <td>0</td>\n",
       "      <td>0</td>\n",
       "      <td>0</td>\n",
       "      <td>...</td>\n",
       "      <td>0</td>\n",
       "      <td>0</td>\n",
       "      <td>1</td>\n",
       "      <td>0</td>\n",
       "      <td>0</td>\n",
       "      <td>0</td>\n",
       "      <td>0</td>\n",
       "      <td>1</td>\n",
       "      <td>1</td>\n",
       "      <td>0</td>\n",
       "    </tr>\n",
       "    <tr>\n",
       "      <th>29353</th>\n",
       "      <td>0</td>\n",
       "      <td>0</td>\n",
       "      <td>0</td>\n",
       "      <td>0</td>\n",
       "      <td>0</td>\n",
       "      <td>0</td>\n",
       "      <td>0</td>\n",
       "      <td>0</td>\n",
       "      <td>0</td>\n",
       "      <td>0</td>\n",
       "      <td>...</td>\n",
       "      <td>1</td>\n",
       "      <td>0</td>\n",
       "      <td>0</td>\n",
       "      <td>0</td>\n",
       "      <td>0</td>\n",
       "      <td>0</td>\n",
       "      <td>0</td>\n",
       "      <td>1</td>\n",
       "      <td>1</td>\n",
       "      <td>0</td>\n",
       "    </tr>\n",
       "    <tr>\n",
       "      <th>44625</th>\n",
       "      <td>0</td>\n",
       "      <td>0</td>\n",
       "      <td>0</td>\n",
       "      <td>1</td>\n",
       "      <td>0</td>\n",
       "      <td>0</td>\n",
       "      <td>0</td>\n",
       "      <td>0</td>\n",
       "      <td>0</td>\n",
       "      <td>0</td>\n",
       "      <td>...</td>\n",
       "      <td>0</td>\n",
       "      <td>0</td>\n",
       "      <td>1</td>\n",
       "      <td>0</td>\n",
       "      <td>0</td>\n",
       "      <td>0</td>\n",
       "      <td>1</td>\n",
       "      <td>0</td>\n",
       "      <td>1</td>\n",
       "      <td>0</td>\n",
       "    </tr>\n",
       "    <tr>\n",
       "      <th>53217</th>\n",
       "      <td>0</td>\n",
       "      <td>0</td>\n",
       "      <td>0</td>\n",
       "      <td>0</td>\n",
       "      <td>1</td>\n",
       "      <td>0</td>\n",
       "      <td>0</td>\n",
       "      <td>0</td>\n",
       "      <td>0</td>\n",
       "      <td>0</td>\n",
       "      <td>...</td>\n",
       "      <td>0</td>\n",
       "      <td>0</td>\n",
       "      <td>1</td>\n",
       "      <td>0</td>\n",
       "      <td>0</td>\n",
       "      <td>0</td>\n",
       "      <td>0</td>\n",
       "      <td>0</td>\n",
       "      <td>1</td>\n",
       "      <td>0</td>\n",
       "    </tr>\n",
       "  </tbody>\n",
       "</table>\n",
       "<p>5 rows × 161 columns</p>\n",
       "</div>"
      ],
      "text/plain": [
       "       _STATE_15.0  _STATE_19.0  _STATE_22.0  _STATE_27.0  _STATE_30.0  \\\n",
       "12235            0            0            0            0            0   \n",
       "55470            0            0            0            0            1   \n",
       "29353            0            0            0            0            0   \n",
       "44625            0            0            0            1            0   \n",
       "53217            0            0            0            0            1   \n",
       "\n",
       "       _STATE_32.0  _STATE_37.0  _STATE_40.0  _STATE_47.0  _STATE_5.0  ...  \\\n",
       "12235            0            0            0            0           0  ...   \n",
       "55470            0            0            0            0           0  ...   \n",
       "29353            0            0            0            0           0  ...   \n",
       "44625            0            0            0            0           0  ...   \n",
       "53217            0            0            0            0           0  ...   \n",
       "\n",
       "       _EDUCAG_2.0  _EDUCAG_3.0  _EDUCAG_4.0  _INCOMG_1.0  _INCOMG_2.0  \\\n",
       "12235            0            0            1            0            0   \n",
       "55470            0            0            1            0            0   \n",
       "29353            1            0            0            0            0   \n",
       "44625            0            0            1            0            0   \n",
       "53217            0            0            1            0            0   \n",
       "\n",
       "       _INCOMG_3.0  _INCOMG_4.0  _INCOMG_5.0  _TOTINDA_1.0  _TOTINDA_2.0  \n",
       "12235            0            0            1             1             0  \n",
       "55470            0            0            1             1             0  \n",
       "29353            0            0            1             1             0  \n",
       "44625            0            1            0             1             0  \n",
       "53217            0            0            0             1             0  \n",
       "\n",
       "[5 rows x 161 columns]"
      ]
     },
     "execution_count": 17,
     "metadata": {},
     "output_type": "execute_result"
    }
   ],
   "source": [
    "# dummifying nominal variables for X_all\n",
    "X_dummies = pd.get_dummies(X_cat, drop_first=True)\n",
    "X_dummies.head()"
   ]
  },
  {
   "cell_type": "code",
   "execution_count": 18,
   "metadata": {},
   "outputs": [],
   "source": [
    "# merging numerical and nominal data into one data frame\n",
    "X_all = X_num.merge(X_dummies, left_index=True, right_index=True)"
   ]
  },
  {
   "cell_type": "code",
   "execution_count": 19,
   "metadata": {},
   "outputs": [
    {
     "data": {
      "text/plain": [
       "(5878, 164)"
      ]
     },
     "execution_count": 19,
     "metadata": {},
     "output_type": "execute_result"
    }
   ],
   "source": [
    "X_all.shape"
   ]
  },
  {
   "cell_type": "code",
   "execution_count": 20,
   "metadata": {},
   "outputs": [],
   "source": [
    "# to compensate for unbalanced classes in my y's will use SMOTE\n",
    "\n",
    "sm = SMOTE(random_state=151)\n",
    "X_all1, y_tobacco = sm.fit_resample(X_all, y_tobacco)\n",
    "\n",
    "sm2 = SMOTE(random_state=151)\n",
    "X_all2, y_activity = sm2.fit_resample(X_all, y_activity)\n",
    "\n",
    "sm3 = SMOTE(random_state=151)\n",
    "X_all3, y_health = sm3.fit_resample(X_all, y_health)\n",
    "\n",
    "sm4 = SMOTE(random_state=151)\n",
    "X_all4, y_smoker = sm4.fit_resample(X_all, y_smoker)"
   ]
  },
  {
   "cell_type": "code",
   "execution_count": 21,
   "metadata": {},
   "outputs": [
    {
     "data": {
      "text/plain": [
       "0.0    0.25\n",
       "1.0    0.25\n",
       "2.0    0.25\n",
       "3.0    0.25\n",
       "Name: USENOW3, dtype: float64"
      ]
     },
     "execution_count": 21,
     "metadata": {},
     "output_type": "execute_result"
    }
   ],
   "source": [
    "# new baseline for tobacco\n",
    "y_tobacco.value_counts(normalize=True)"
   ]
  },
  {
   "cell_type": "code",
   "execution_count": 22,
   "metadata": {},
   "outputs": [
    {
     "data": {
      "text/plain": [
       "(22720,)"
      ]
     },
     "execution_count": 22,
     "metadata": {},
     "output_type": "execute_result"
    }
   ],
   "source": [
    "# looks like SMOTE has increased the size of my y's more than 4x, so will probably take some time for models to run\n",
    "y_tobacco.shape"
   ]
  },
  {
   "cell_type": "code",
   "execution_count": 23,
   "metadata": {},
   "outputs": [
    {
     "data": {
      "text/plain": [
       "0.0    0.333333\n",
       "1.0    0.333333\n",
       "2.0    0.333333\n",
       "Name: QLACTLM2, dtype: float64"
      ]
     },
     "execution_count": 23,
     "metadata": {},
     "output_type": "execute_result"
    }
   ],
   "source": [
    "# new baseline for activity\n",
    "y_activity.value_counts(normalize=True)"
   ]
  },
  {
   "cell_type": "code",
   "execution_count": 24,
   "metadata": {},
   "outputs": [
    {
     "data": {
      "text/plain": [
       "0.0    0.333333\n",
       "2.0    0.333333\n",
       "1.0    0.333333\n",
       "Name: _RFHLTH, dtype: float64"
      ]
     },
     "execution_count": 24,
     "metadata": {},
     "output_type": "execute_result"
    }
   ],
   "source": [
    "# new baseline for health\n",
    "y_health.value_counts(normalize=True)"
   ]
  },
  {
   "cell_type": "code",
   "execution_count": 25,
   "metadata": {},
   "outputs": [
    {
     "data": {
      "text/plain": [
       "0.0    0.2\n",
       "2.0    0.2\n",
       "1.0    0.2\n",
       "3.0    0.2\n",
       "4.0    0.2\n",
       "Name: _SMOKER3, dtype: float64"
      ]
     },
     "execution_count": 25,
     "metadata": {},
     "output_type": "execute_result"
    }
   ],
   "source": [
    "# new baseline for smoker\n",
    "y_smoker.value_counts(normalize=True)"
   ]
  },
  {
   "cell_type": "code",
   "execution_count": 26,
   "metadata": {},
   "outputs": [
    {
     "data": {
      "text/plain": [
       "(22720, 164)"
      ]
     },
     "execution_count": 26,
     "metadata": {},
     "output_type": "execute_result"
    }
   ],
   "source": [
    "X_all1.shape"
   ]
  },
  {
   "cell_type": "code",
   "execution_count": 27,
   "metadata": {},
   "outputs": [],
   "source": [
    "# creating training and testing sets for all y's (stratified on y, but since the classes are equal probably didn't have to)\n",
    "X_train_all, X_test_all, y_train_tobacco, y_test_tobacco = train_test_split(X_all1, y_tobacco, random_state = 151, stratify=y_tobacco)\n",
    "X_train_all2, X_test_all2, y_train_activity, y_test_activity = train_test_split(X_all2, y_activity, random_state = 151, stratify=y_activity)\n",
    "X_train_all3, X_test_all3, y_train_health, y_test_health = train_test_split(X_all3, y_health, random_state = 151, stratify=y_health)\n",
    "X_train_all4, X_test_all4, y_train_smoker, y_test_smoker = train_test_split(X_all4, y_smoker, random_state = 151, stratify=y_smoker)"
   ]
  },
  {
   "cell_type": "markdown",
   "metadata": {},
   "source": [
    "### Pipeline and Gridsearch with all features as predictors (Logistic Regression)"
   ]
  },
  {
   "cell_type": "code",
   "execution_count": 27,
   "metadata": {},
   "outputs": [
    {
     "data": {
      "text/plain": [
       "GridSearchCV(cv=3,\n",
       "             estimator=Pipeline(steps=[('selectkbest', SelectKBest()),\n",
       "                                       ('standardscaler', StandardScaler()),\n",
       "                                       ('logisticregression',\n",
       "                                        LogisticRegression(max_iter=10000))]),\n",
       "             param_grid={'logisticregression__C': [0.01, 0.5, 1],\n",
       "                         'selectkbest__k': range(1, 162, 15)})"
      ]
     },
     "execution_count": 27,
     "metadata": {},
     "output_type": "execute_result"
    }
   ],
   "source": [
    "pipe_all_log = make_pipeline(SelectKBest(f_classif), StandardScaler(), LogisticRegression(max_iter=10_000))\n",
    "\n",
    "params_all_log = {'selectkbest__k': range(1, 164, 15),\n",
    "         'logisticregression__C': [0.01, 0.5, 1]}\n",
    "\n",
    "gs_all_log = GridSearchCV(pipe_all_log, params_all_log, cv=3)\n",
    "\n",
    "gs_all_log.fit(X_train_all, y_train_tobacco)"
   ]
  },
  {
   "cell_type": "code",
   "execution_count": 28,
   "metadata": {},
   "outputs": [
    {
     "data": {
      "text/plain": [
       "GridSearchCV(cv=3,\n",
       "             estimator=Pipeline(steps=[('selectkbest', SelectKBest()),\n",
       "                                       ('standardscaler', StandardScaler()),\n",
       "                                       ('logisticregression',\n",
       "                                        LogisticRegression(max_iter=10000))]),\n",
       "             param_grid={'logisticregression__C': [0.01, 0.5, 1],\n",
       "                         'selectkbest__k': range(1, 162, 15)})"
      ]
     },
     "execution_count": 28,
     "metadata": {},
     "output_type": "execute_result"
    }
   ],
   "source": [
    "pipe2_all_log = make_pipeline(SelectKBest(f_classif), StandardScaler(), LogisticRegression(max_iter=10_000))\n",
    "\n",
    "gs2_all_log = GridSearchCV(pipe2_all_log, params_all_log, cv=3)\n",
    "\n",
    "gs2_all_log.fit(X_train_all2, y_train_activity)"
   ]
  },
  {
   "cell_type": "code",
   "execution_count": 29,
   "metadata": {},
   "outputs": [
    {
     "data": {
      "text/plain": [
       "GridSearchCV(cv=3,\n",
       "             estimator=Pipeline(steps=[('selectkbest', SelectKBest()),\n",
       "                                       ('standardscaler', StandardScaler()),\n",
       "                                       ('logisticregression',\n",
       "                                        LogisticRegression(max_iter=10000))]),\n",
       "             param_grid={'logisticregression__C': [0.01, 0.5, 1],\n",
       "                         'selectkbest__k': range(1, 162, 15)})"
      ]
     },
     "execution_count": 29,
     "metadata": {},
     "output_type": "execute_result"
    }
   ],
   "source": [
    "pipe3_all_log = make_pipeline(SelectKBest(f_classif), StandardScaler(), LogisticRegression(max_iter=10_000))\n",
    "\n",
    "gs3_all_log = GridSearchCV(pipe3_all_log, params_all_log, cv=3)\n",
    "\n",
    "gs3_all_log.fit(X_train_all3, y_train_health)"
   ]
  },
  {
   "cell_type": "code",
   "execution_count": 30,
   "metadata": {},
   "outputs": [
    {
     "data": {
      "text/plain": [
       "GridSearchCV(cv=3,\n",
       "             estimator=Pipeline(steps=[('selectkbest', SelectKBest()),\n",
       "                                       ('standardscaler', StandardScaler()),\n",
       "                                       ('logisticregression',\n",
       "                                        LogisticRegression(max_iter=10000))]),\n",
       "             param_grid={'logisticregression__C': [0.01, 0.5, 1],\n",
       "                         'selectkbest__k': range(1, 162, 15)})"
      ]
     },
     "execution_count": 30,
     "metadata": {},
     "output_type": "execute_result"
    }
   ],
   "source": [
    "pipe4_all_log = make_pipeline(SelectKBest(f_classif), StandardScaler(), LogisticRegression(max_iter=10_000))\n",
    "\n",
    "gs4_all_log = GridSearchCV(pipe4_all_log, params_all_log, cv=3)\n",
    "\n",
    "gs4_all_log.fit(X_train_all4, y_train_smoker)"
   ]
  },
  {
   "cell_type": "code",
   "execution_count": 31,
   "metadata": {},
   "outputs": [],
   "source": [
    "tobacco_all_log_preds = gs_all_log.predict(X_test_all)\n",
    "activity_all_log_preds = gs2_all_log.predict(X_test_all2)\n",
    "health_all_log_preds = gs3_all_log.predict(X_test_all3)\n",
    "smoker_all_log_preds = gs4_all_log.predict(X_test_all4)\n",
    "\n",
    "tobacco_all_log_prec = precision_score(y_test_tobacco, tobacco_all_log_preds, average='micro')\n",
    "activity_all_log_prec = precision_score(y_test_activity, activity_all_log_preds, average='micro')\n",
    "health_all_log_prec = precision_score(y_test_health, health_all_log_preds, average='micro')\n",
    "smoker_all_log_prec = precision_score(y_test_smoker, smoker_all_log_preds, average='micro')"
   ]
  },
  {
   "cell_type": "code",
   "execution_count": 32,
   "metadata": {},
   "outputs": [
    {
     "name": "stdout",
     "output_type": "stream",
     "text": [
      " training accuracy for tobacco: 0.8845185835528241\n",
      " training accuracy for activity: 0.8804155844155844\n",
      " training accuracy for health: 0.9251505326540065\n",
      " training accuracy for smoker: 0.6194049159120311\n"
     ]
    }
   ],
   "source": [
    "print(f' training accuracy for tobacco: {gs_all_log.score(X_train_all, y_train_tobacco)}')\n",
    "print(f' training accuracy for activity: {gs2_all_log.score(X_train_all2, y_train_activity)}')\n",
    "print(f' training accuracy for health: {gs3_all_log.score(X_train_all3, y_train_health)}')\n",
    "print(f' training accuracy for smoker: {gs4_all_log.score(X_train_all4, y_train_smoker)}')"
   ]
  },
  {
   "cell_type": "code",
   "execution_count": 33,
   "metadata": {},
   "outputs": [
    {
     "name": "stdout",
     "output_type": "stream",
     "text": [
      " testing accuracy for tobacco: 0.8719929762949956\n",
      " testing accuracy for activity: 0.8753505765035837\n",
      " testing accuracy for health: 0.9202556265629341\n",
      " testing accuracy for smoker: 0.6056921086675291\n"
     ]
    }
   ],
   "source": [
    "print(f' testing accuracy for tobacco: {gs_all_log.score(X_test_all, y_test_tobacco)}')\n",
    "print(f' testing accuracy for activity: {gs2_all_log.score(X_test_all2, y_test_activity)}')\n",
    "print(f' testing accuracy for health: {gs3_all_log.score(X_test_all3, y_test_health)}')\n",
    "print(f' testing accuracy for smoker: {gs4_all_log.score(X_test_all4, y_test_smoker)}')"
   ]
  },
  {
   "cell_type": "code",
   "execution_count": 34,
   "metadata": {},
   "outputs": [
    {
     "name": "stdout",
     "output_type": "stream",
     "text": [
      "Precision for tobacco: 0.8719929762949956\n",
      "Precision for activity: 0.8753505765035837\n",
      "Precision for health: 0.9202556265629341\n",
      "Precision for smoker: 0.6056921086675291\n"
     ]
    }
   ],
   "source": [
    "print(f'Precision for tobacco: {tobacco_all_log_prec}')\n",
    "print(f'Precision for activity: {activity_all_log_prec}')\n",
    "print(f'Precision for health: {health_all_log_prec}')\n",
    "print(f'Precision for smoker: {smoker_all_log_prec}')"
   ]
  },
  {
   "cell_type": "code",
   "execution_count": 35,
   "metadata": {},
   "outputs": [
    {
     "name": "stdout",
     "output_type": "stream",
     "text": [
      "{'logisticregression__C': 1, 'selectkbest__k': 151}\n",
      "{'logisticregression__C': 1, 'selectkbest__k': 151}\n",
      "{'logisticregression__C': 0.5, 'selectkbest__k': 151}\n",
      "{'logisticregression__C': 1, 'selectkbest__k': 151}\n"
     ]
    }
   ],
   "source": [
    "print(gs_all_log.best_params_)\n",
    "print(gs2_all_log.best_params_)\n",
    "print(gs3_all_log.best_params_)\n",
    "print(gs4_all_log.best_params_)"
   ]
  },
  {
   "cell_type": "markdown",
   "metadata": {},
   "source": [
    "**observations**"
   ]
  },
  {
   "cell_type": "markdown",
   "metadata": {},
   "source": [
    "### Pipeline and Gridsearch with just features as predictors (Random Forest Classifier)"
   ]
  },
  {
   "cell_type": "code",
   "execution_count": 36,
   "metadata": {},
   "outputs": [
    {
     "data": {
      "text/plain": [
       "GridSearchCV(cv=3,\n",
       "             estimator=Pipeline(steps=[('selectkbest', SelectKBest()),\n",
       "                                       ('standardscaler', StandardScaler()),\n",
       "                                       ('randomforestclassifier',\n",
       "                                        RandomForestClassifier())]),\n",
       "             param_grid={'randomforestclassifier__max_depth': [None, 3, 5],\n",
       "                         'randomforestclassifier__n_estimators': [100, 300,\n",
       "                                                                  500],\n",
       "                         'selectkbest__k': range(1, 162, 15)})"
      ]
     },
     "execution_count": 36,
     "metadata": {},
     "output_type": "execute_result"
    }
   ],
   "source": [
    "pipe_all_rfc = make_pipeline(SelectKBest(f_classif), StandardScaler(), RandomForestClassifier())\n",
    "\n",
    "params_all_rfc = {'selectkbest__k': range(1, 164, 15),\n",
    "                  'randomforestclassifier__n_estimators': [100, 300, 500],\n",
    "                  'randomforestclassifier__max_depth': [None, 3, 5], }\n",
    "                 #'randomforestclassifier__min_samples_split': [1, 3, 5],\n",
    "                 #'randomforestclassifier__min_samples_leaf': [1, 3, 5]}\n",
    "\n",
    "gs_all_rfc = GridSearchCV(pipe_all_rfc, params_all_rfc, cv=3)\n",
    "\n",
    "gs_all_rfc.fit(X_train_all, y_train_tobacco)"
   ]
  },
  {
   "cell_type": "code",
   "execution_count": 37,
   "metadata": {},
   "outputs": [
    {
     "data": {
      "text/plain": [
       "GridSearchCV(cv=3,\n",
       "             estimator=Pipeline(steps=[('selectkbest', SelectKBest()),\n",
       "                                       ('standardscaler', StandardScaler()),\n",
       "                                       ('randomforestclassifier',\n",
       "                                        RandomForestClassifier())]),\n",
       "             param_grid={'randomforestclassifier__max_depth': [None, 3, 5],\n",
       "                         'randomforestclassifier__n_estimators': [100, 300,\n",
       "                                                                  500],\n",
       "                         'selectkbest__k': range(1, 162, 15)})"
      ]
     },
     "execution_count": 37,
     "metadata": {},
     "output_type": "execute_result"
    }
   ],
   "source": [
    "pipe2_all_rfc = make_pipeline(SelectKBest(f_classif), StandardScaler(), RandomForestClassifier())\n",
    "\n",
    "gs2_all_rfc = GridSearchCV(pipe2_all_rfc, params_all_rfc, cv=3)\n",
    "\n",
    "gs2_all_rfc.fit(X_train_all2, y_train_activity)"
   ]
  },
  {
   "cell_type": "code",
   "execution_count": 38,
   "metadata": {},
   "outputs": [
    {
     "data": {
      "text/plain": [
       "GridSearchCV(cv=3,\n",
       "             estimator=Pipeline(steps=[('selectkbest', SelectKBest()),\n",
       "                                       ('standardscaler', StandardScaler()),\n",
       "                                       ('randomforestclassifier',\n",
       "                                        RandomForestClassifier())]),\n",
       "             param_grid={'randomforestclassifier__max_depth': [None, 3, 5],\n",
       "                         'randomforestclassifier__n_estimators': [100, 300,\n",
       "                                                                  500],\n",
       "                         'selectkbest__k': range(1, 162, 15)})"
      ]
     },
     "execution_count": 38,
     "metadata": {},
     "output_type": "execute_result"
    }
   ],
   "source": [
    "pipe3_all_rfc = make_pipeline(SelectKBest(f_classif), StandardScaler(), RandomForestClassifier())\n",
    "\n",
    "gs3_all_rfc = GridSearchCV(pipe3_all_rfc, params_all_rfc, cv=3)\n",
    "\n",
    "gs3_all_rfc.fit(X_train_all3, y_train_health)"
   ]
  },
  {
   "cell_type": "code",
   "execution_count": 39,
   "metadata": {},
   "outputs": [
    {
     "data": {
      "text/plain": [
       "GridSearchCV(cv=3,\n",
       "             estimator=Pipeline(steps=[('selectkbest', SelectKBest()),\n",
       "                                       ('standardscaler', StandardScaler()),\n",
       "                                       ('randomforestclassifier',\n",
       "                                        RandomForestClassifier())]),\n",
       "             param_grid={'randomforestclassifier__max_depth': [None, 3, 5],\n",
       "                         'randomforestclassifier__n_estimators': [100, 300,\n",
       "                                                                  500],\n",
       "                         'selectkbest__k': range(1, 162, 15)})"
      ]
     },
     "execution_count": 39,
     "metadata": {},
     "output_type": "execute_result"
    }
   ],
   "source": [
    "pipe4_all_rfc = make_pipeline(SelectKBest(f_classif), StandardScaler(), RandomForestClassifier())\n",
    "\n",
    "gs4_all_rfc = GridSearchCV(pipe4_all_rfc, params_all_rfc, cv=3)\n",
    "\n",
    "gs4_all_rfc.fit(X_train_all4, y_train_smoker)"
   ]
  },
  {
   "cell_type": "code",
   "execution_count": 40,
   "metadata": {},
   "outputs": [],
   "source": [
    "tobacco_all_rfc_preds = gs_all_rfc.predict(X_test_all)\n",
    "activity_all_rfc_preds = gs2_all_rfc.predict(X_test_all2)\n",
    "health_all_rfc_preds = gs3_all_rfc.predict(X_test_all3)\n",
    "smoker_all_rfc_preds = gs4_all_rfc.predict(X_test_all4)\n",
    "\n",
    "tobacco_all_rfc_prec = precision_score(y_test_tobacco, tobacco_all_rfc_preds, average='micro')\n",
    "activity_all_rfc_prec = precision_score(y_test_activity, activity_all_rfc_preds, average='micro')\n",
    "health_all_rfc_prec = precision_score(y_test_health, health_all_rfc_preds, average='micro')\n",
    "smoker_all_rfc_prec = precision_score(y_test_smoker, smoker_all_rfc_preds, average='micro')"
   ]
  },
  {
   "cell_type": "code",
   "execution_count": 41,
   "metadata": {},
   "outputs": [
    {
     "name": "stdout",
     "output_type": "stream",
     "text": [
      " training accuracy for tobacco: 0.9982440737489026\n",
      " training accuracy for activity: 0.9986493506493507\n",
      " training accuracy for health: 1.0\n",
      " training accuracy for smoker: 0.9987063389391979\n"
     ]
    }
   ],
   "source": [
    "print(f' training accuracy for tobacco: {gs_all_rfc.score(X_train_all, y_train_tobacco)}')\n",
    "print(f' training accuracy for activity: {gs2_all_rfc.score(X_train_all2, y_train_activity)}')\n",
    "print(f' training accuracy for health: {gs3_all_rfc.score(X_train_all3, y_train_health)}')\n",
    "print(f' training accuracy for smoker: {gs4_all_rfc.score(X_train_all4, y_train_smoker)}')"
   ]
  },
  {
   "cell_type": "code",
   "execution_count": 42,
   "metadata": {},
   "outputs": [
    {
     "name": "stdout",
     "output_type": "stream",
     "text": [
      " testing accuracy for tobacco: 0.9919227392449517\n",
      " testing accuracy for activity: 0.8980990962916796\n",
      " testing accuracy for health: 0.9474854126146152\n",
      " testing accuracy for smoker: 0.8090556274256145\n"
     ]
    }
   ],
   "source": [
    "print(f' testing accuracy for tobacco: {gs_all_rfc.score(X_test_all, y_test_tobacco)}')\n",
    "print(f' testing accuracy for activity: {gs2_all_rfc.score(X_test_all2, y_test_activity)}')\n",
    "print(f' testing accuracy for health: {gs3_all_rfc.score(X_test_all3, y_test_health)}')\n",
    "print(f' testing accuracy for smoker: {gs4_all_rfc.score(X_test_all4, y_test_smoker)}')"
   ]
  },
  {
   "cell_type": "code",
   "execution_count": 43,
   "metadata": {},
   "outputs": [
    {
     "name": "stdout",
     "output_type": "stream",
     "text": [
      "Precision for tobacco: 0.9919227392449517\n",
      "Precision for activity: 0.8980990962916796\n",
      "Precision for health: 0.9474854126146152\n",
      "Precision for smoker: 0.8090556274256145\n"
     ]
    }
   ],
   "source": [
    "print(f'Precision for tobacco: {tobacco_all_rfc_prec}')\n",
    "print(f'Precision for activity: {activity_all_rfc_prec}')\n",
    "print(f'Precision for health: {health_all_rfc_prec}')\n",
    "print(f'Precision for smoker: {smoker_all_rfc_prec}')"
   ]
  },
  {
   "cell_type": "code",
   "execution_count": 44,
   "metadata": {},
   "outputs": [
    {
     "name": "stdout",
     "output_type": "stream",
     "text": [
      "{'randomforestclassifier__max_depth': None, 'randomforestclassifier__n_estimators': 100, 'selectkbest__k': 151}\n",
      "{'randomforestclassifier__max_depth': None, 'randomforestclassifier__n_estimators': 300, 'selectkbest__k': 91}\n",
      "{'randomforestclassifier__max_depth': None, 'randomforestclassifier__n_estimators': 500, 'selectkbest__k': 151}\n",
      "{'randomforestclassifier__max_depth': None, 'randomforestclassifier__n_estimators': 500, 'selectkbest__k': 91}\n"
     ]
    }
   ],
   "source": [
    "print(gs_all_rfc.best_params_)\n",
    "print(gs2_all_rfc.best_params_)\n",
    "print(gs3_all_rfc.best_params_)\n",
    "print(gs4_all_rfc.best_params_)"
   ]
  },
  {
   "cell_type": "markdown",
   "metadata": {},
   "source": [
    "### Pipeline and Gridsearch with just features as predictors (Extra Trees Classifier)"
   ]
  },
  {
   "cell_type": "code",
   "execution_count": 45,
   "metadata": {},
   "outputs": [
    {
     "data": {
      "text/plain": [
       "GridSearchCV(cv=3,\n",
       "             estimator=Pipeline(steps=[('selectkbest', SelectKBest()),\n",
       "                                       ('standardscaler', StandardScaler()),\n",
       "                                       ('extratreesclassifier',\n",
       "                                        ExtraTreesClassifier())]),\n",
       "             param_grid={'extratreesclassifier__max_depth': [None, 3, 5],\n",
       "                         'extratreesclassifier__n_estimators': [100, 300, 500],\n",
       "                         'selectkbest__k': range(1, 162, 15)})"
      ]
     },
     "execution_count": 45,
     "metadata": {},
     "output_type": "execute_result"
    }
   ],
   "source": [
    "pipe_all_etc = make_pipeline(SelectKBest(f_classif), StandardScaler(), ExtraTreesClassifier())\n",
    "\n",
    "params_all_etc = {'selectkbest__k': range(1, 164, 15),\n",
    "                  'extratreesclassifier__n_estimators': [100, 300, 500],\n",
    "                  'extratreesclassifier__max_depth': [None, 3, 5], }\n",
    "                 #'extratreesclassifier__min_samples_split': [1, 3, 5],\n",
    "                 #'extratreesclassifier__min_samples_leaf': [1, 3, 5]}\n",
    "\n",
    "gs_all_etc = GridSearchCV(pipe_all_etc, params_all_etc, cv=3)\n",
    "\n",
    "gs_all_etc.fit(X_train_all, y_train_tobacco)"
   ]
  },
  {
   "cell_type": "code",
   "execution_count": 46,
   "metadata": {},
   "outputs": [
    {
     "data": {
      "text/plain": [
       "GridSearchCV(cv=3,\n",
       "             estimator=Pipeline(steps=[('selectkbest', SelectKBest()),\n",
       "                                       ('standardscaler', StandardScaler()),\n",
       "                                       ('extratreesclassifier',\n",
       "                                        ExtraTreesClassifier())]),\n",
       "             param_grid={'extratreesclassifier__max_depth': [None, 3, 5],\n",
       "                         'extratreesclassifier__n_estimators': [100, 300, 500],\n",
       "                         'selectkbest__k': range(1, 162, 15)})"
      ]
     },
     "execution_count": 46,
     "metadata": {},
     "output_type": "execute_result"
    }
   ],
   "source": [
    "pipe2_all_etc = make_pipeline(SelectKBest(f_classif), StandardScaler(), ExtraTreesClassifier())\n",
    "\n",
    "gs2_all_etc = GridSearchCV(pipe2_all_etc, params_all_etc, cv=3)\n",
    "\n",
    "gs2_all_etc.fit(X_train_all2, y_train_activity)"
   ]
  },
  {
   "cell_type": "code",
   "execution_count": 47,
   "metadata": {},
   "outputs": [
    {
     "data": {
      "text/plain": [
       "GridSearchCV(cv=3,\n",
       "             estimator=Pipeline(steps=[('selectkbest', SelectKBest()),\n",
       "                                       ('standardscaler', StandardScaler()),\n",
       "                                       ('extratreesclassifier',\n",
       "                                        ExtraTreesClassifier())]),\n",
       "             param_grid={'extratreesclassifier__max_depth': [None, 3, 5],\n",
       "                         'extratreesclassifier__n_estimators': [100, 300, 500],\n",
       "                         'selectkbest__k': range(1, 162, 15)})"
      ]
     },
     "execution_count": 47,
     "metadata": {},
     "output_type": "execute_result"
    }
   ],
   "source": [
    "pipe3_all_etc = make_pipeline(SelectKBest(f_classif), StandardScaler(), ExtraTreesClassifier())\n",
    "\n",
    "gs3_all_etc = GridSearchCV(pipe3_all_etc, params_all_etc, cv=3)\n",
    "\n",
    "gs3_all_etc.fit(X_train_all3, y_train_health)"
   ]
  },
  {
   "cell_type": "code",
   "execution_count": 48,
   "metadata": {},
   "outputs": [
    {
     "data": {
      "text/plain": [
       "GridSearchCV(cv=3,\n",
       "             estimator=Pipeline(steps=[('selectkbest', SelectKBest()),\n",
       "                                       ('standardscaler', StandardScaler()),\n",
       "                                       ('extratreesclassifier',\n",
       "                                        ExtraTreesClassifier())]),\n",
       "             param_grid={'extratreesclassifier__max_depth': [None, 3, 5],\n",
       "                         'extratreesclassifier__n_estimators': [100, 300, 500],\n",
       "                         'selectkbest__k': range(1, 162, 15)})"
      ]
     },
     "execution_count": 48,
     "metadata": {},
     "output_type": "execute_result"
    }
   ],
   "source": [
    "pipe4_all_etc = make_pipeline(SelectKBest(f_classif), StandardScaler(), ExtraTreesClassifier())\n",
    "\n",
    "gs4_all_etc = GridSearchCV(pipe4_all_etc, params_all_etc, cv=3)\n",
    "\n",
    "gs4_all_etc.fit(X_train_all4, y_train_smoker)"
   ]
  },
  {
   "cell_type": "code",
   "execution_count": 49,
   "metadata": {},
   "outputs": [],
   "source": [
    "tobacco_all_etc_preds = gs_all_etc.predict(X_test_all)\n",
    "activity_all_etc_preds = gs2_all_etc.predict(X_test_all2)\n",
    "health_all_etc_preds = gs3_all_etc.predict(X_test_all3)\n",
    "smoker_all_etc_preds = gs4_all_etc.predict(X_test_all4)\n",
    "\n",
    "tobacco_all_etc_prec = precision_score(y_test_tobacco, tobacco_all_etc_preds, average='micro')\n",
    "activity_all_etc_prec = precision_score(y_test_activity, activity_all_etc_preds, average='micro')\n",
    "health_all_etc_prec = precision_score(y_test_health, health_all_etc_preds, average='micro')\n",
    "smoker_all_etc_prec = precision_score(y_test_smoker, smoker_all_etc_preds, average='micro')"
   ]
  },
  {
   "cell_type": "code",
   "execution_count": 50,
   "metadata": {},
   "outputs": [
    {
     "name": "stdout",
     "output_type": "stream",
     "text": [
      " training accuracy for tobacco: 0.9982440737489026\n",
      " training accuracy for activity: 1.0\n",
      " training accuracy for health: 1.0\n",
      " training accuracy for smoker: 0.9995687796463993\n"
     ]
    }
   ],
   "source": [
    "print(f' training accuracy for tobacco: {gs_all_etc.score(X_train_all, y_train_tobacco)}')\n",
    "print(f' training accuracy for activity: {gs2_all_etc.score(X_train_all2, y_train_activity)}')\n",
    "print(f' training accuracy for health: {gs3_all_etc.score(X_train_all3, y_train_health)}')\n",
    "print(f' training accuracy for smoker: {gs4_all_etc.score(X_train_all4, y_train_smoker)}')"
   ]
  },
  {
   "cell_type": "code",
   "execution_count": 51,
   "metadata": {},
   "outputs": [
    {
     "name": "stdout",
     "output_type": "stream",
     "text": [
      " testing accuracy for tobacco: 0.9913959613696225\n",
      " testing accuracy for activity: 0.9043315674665005\n",
      " testing accuracy for health: 0.9477632675743262\n",
      " testing accuracy for smoker: 0.8028460543337645\n"
     ]
    }
   ],
   "source": [
    "print(f' testing accuracy for tobacco: {gs_all_etc.score(X_test_all, y_test_tobacco)}')\n",
    "print(f' testing accuracy for activity: {gs2_all_etc.score(X_test_all2, y_test_activity)}')\n",
    "print(f' testing accuracy for health: {gs3_all_etc.score(X_test_all3, y_test_health)}')\n",
    "print(f' testing accuracy for smoker: {gs4_all_etc.score(X_test_all4, y_test_smoker)}')"
   ]
  },
  {
   "cell_type": "code",
   "execution_count": 52,
   "metadata": {},
   "outputs": [
    {
     "name": "stdout",
     "output_type": "stream",
     "text": [
      "Precision for tobacco: 0.9913959613696225\n",
      "Precision for activity: 0.9043315674665005\n",
      "Precision for health: 0.9477632675743262\n",
      "Precision for smoker: 0.8028460543337645\n"
     ]
    }
   ],
   "source": [
    "print(f'Precision for tobacco: {tobacco_all_etc_prec}')\n",
    "print(f'Precision for activity: {activity_all_etc_prec}')\n",
    "print(f'Precision for health: {health_all_etc_prec}')\n",
    "print(f'Precision for smoker: {smoker_all_etc_prec}')"
   ]
  },
  {
   "cell_type": "code",
   "execution_count": 53,
   "metadata": {},
   "outputs": [
    {
     "name": "stdout",
     "output_type": "stream",
     "text": [
      "{'extratreesclassifier__max_depth': None, 'extratreesclassifier__n_estimators': 300, 'selectkbest__k': 151}\n",
      "{'extratreesclassifier__max_depth': None, 'extratreesclassifier__n_estimators': 500, 'selectkbest__k': 151}\n",
      "{'extratreesclassifier__max_depth': None, 'extratreesclassifier__n_estimators': 500, 'selectkbest__k': 151}\n",
      "{'extratreesclassifier__max_depth': None, 'extratreesclassifier__n_estimators': 300, 'selectkbest__k': 121}\n"
     ]
    }
   ],
   "source": [
    "print(gs_all_etc.best_params_)\n",
    "print(gs2_all_etc.best_params_)\n",
    "print(gs3_all_etc.best_params_)\n",
    "print(gs4_all_etc.best_params_)"
   ]
  },
  {
   "cell_type": "markdown",
   "metadata": {},
   "source": [
    "### Pipeline and Gridsearch with all features as predictors (Ada Boost Classifier)"
   ]
  },
  {
   "cell_type": "code",
   "execution_count": 54,
   "metadata": {},
   "outputs": [
    {
     "data": {
      "text/plain": [
       "GridSearchCV(cv=3,\n",
       "             estimator=Pipeline(steps=[('selectkbest', SelectKBest()),\n",
       "                                       ('standardscaler', StandardScaler()),\n",
       "                                       ('adaboostclassifier',\n",
       "                                        AdaBoostClassifier())]),\n",
       "             param_grid={'adaboostclassifier__learning_rate': [0.5, 1.0],\n",
       "                         'adaboostclassifier__n_estimators': [10, 15, 20, 25],\n",
       "                         'selectkbest__k': range(1, 162, 15)})"
      ]
     },
     "execution_count": 54,
     "metadata": {},
     "output_type": "execute_result"
    }
   ],
   "source": [
    "pipe_all_abc = make_pipeline(SelectKBest(f_classif), StandardScaler(), AdaBoostClassifier())\n",
    "\n",
    "params_all_abc = {'selectkbest__k': range(1, 164, 15),\n",
    "                  'adaboostclassifier__learning_rate': [0.5, 1.0],\n",
    "                  'adaboostclassifier__n_estimators': [10, 15, 20, 25], }\n",
    "\n",
    "gs_all_abc = GridSearchCV(pipe_all_abc, params_all_abc, cv=3)\n",
    "\n",
    "gs_all_abc.fit(X_train_all, y_train_tobacco)"
   ]
  },
  {
   "cell_type": "code",
   "execution_count": 55,
   "metadata": {},
   "outputs": [
    {
     "data": {
      "text/plain": [
       "GridSearchCV(cv=3,\n",
       "             estimator=Pipeline(steps=[('selectkbest', SelectKBest()),\n",
       "                                       ('standardscaler', StandardScaler()),\n",
       "                                       ('adaboostclassifier',\n",
       "                                        AdaBoostClassifier())]),\n",
       "             param_grid={'adaboostclassifier__learning_rate': [0.5, 1.0],\n",
       "                         'adaboostclassifier__n_estimators': [10, 15, 20, 25],\n",
       "                         'selectkbest__k': range(1, 162, 15)})"
      ]
     },
     "execution_count": 55,
     "metadata": {},
     "output_type": "execute_result"
    }
   ],
   "source": [
    "pipe2_all_abc = make_pipeline(SelectKBest(f_classif), StandardScaler(), AdaBoostClassifier())\n",
    "\n",
    "gs2_all_abc = GridSearchCV(pipe2_all_abc, params_all_abc, cv=3)\n",
    "\n",
    "gs2_all_abc.fit(X_train_all2, y_train_activity)"
   ]
  },
  {
   "cell_type": "code",
   "execution_count": 56,
   "metadata": {},
   "outputs": [
    {
     "data": {
      "text/plain": [
       "GridSearchCV(cv=3,\n",
       "             estimator=Pipeline(steps=[('selectkbest', SelectKBest()),\n",
       "                                       ('standardscaler', StandardScaler()),\n",
       "                                       ('adaboostclassifier',\n",
       "                                        AdaBoostClassifier())]),\n",
       "             param_grid={'adaboostclassifier__learning_rate': [0.5, 1.0],\n",
       "                         'adaboostclassifier__n_estimators': [10, 15, 20, 25],\n",
       "                         'selectkbest__k': range(1, 162, 15)})"
      ]
     },
     "execution_count": 56,
     "metadata": {},
     "output_type": "execute_result"
    }
   ],
   "source": [
    "pipe3_all_abc = make_pipeline(SelectKBest(f_classif), StandardScaler(), AdaBoostClassifier())\n",
    "\n",
    "gs3_all_abc = GridSearchCV(pipe3_all_abc, params_all_abc, cv=3)\n",
    "\n",
    "gs3_all_abc.fit(X_train_all3, y_train_health)"
   ]
  },
  {
   "cell_type": "code",
   "execution_count": 57,
   "metadata": {},
   "outputs": [
    {
     "data": {
      "text/plain": [
       "GridSearchCV(cv=3,\n",
       "             estimator=Pipeline(steps=[('selectkbest', SelectKBest()),\n",
       "                                       ('standardscaler', StandardScaler()),\n",
       "                                       ('adaboostclassifier',\n",
       "                                        AdaBoostClassifier())]),\n",
       "             param_grid={'adaboostclassifier__learning_rate': [0.5, 1.0],\n",
       "                         'adaboostclassifier__n_estimators': [10, 15, 20, 25],\n",
       "                         'selectkbest__k': range(1, 162, 15)})"
      ]
     },
     "execution_count": 57,
     "metadata": {},
     "output_type": "execute_result"
    }
   ],
   "source": [
    "pipe4_all_abc = make_pipeline(SelectKBest(f_classif), StandardScaler(), AdaBoostClassifier())\n",
    "\n",
    "gs4_all_abc = GridSearchCV(pipe4_all_abc, params_all_abc, cv=3)\n",
    "\n",
    "gs4_all_abc.fit(X_train_all4, y_train_smoker)"
   ]
  },
  {
   "cell_type": "code",
   "execution_count": 58,
   "metadata": {},
   "outputs": [],
   "source": [
    "tobacco_all_abc_preds = gs_all_abc.predict(X_test_all)\n",
    "activity_all_abc_preds = gs2_all_abc.predict(X_test_all2)\n",
    "health_all_abc_preds = gs3_all_abc.predict(X_test_all3)\n",
    "smoker_all_abc_preds = gs4_all_abc.predict(X_test_all4)\n",
    "\n",
    "tobacco_all_abc_prec = precision_score(y_test_tobacco, tobacco_all_abc_preds, average='micro')\n",
    "activity_all_abc_prec = precision_score(y_test_activity, activity_all_abc_preds, average='micro')\n",
    "health_all_abc_prec = precision_score(y_test_health, health_all_abc_preds, average='micro')\n",
    "smoker_all_abc_prec = precision_score(y_test_smoker, smoker_all_abc_preds, average='micro')"
   ]
  },
  {
   "cell_type": "code",
   "execution_count": 59,
   "metadata": {},
   "outputs": [
    {
     "name": "stdout",
     "output_type": "stream",
     "text": [
      " training accuracy for tobacco: 0.6839918056774948\n",
      " training accuracy for activity: 0.7844155844155845\n",
      " training accuracy for health: 0.8121352477999073\n",
      " training accuracy for smoker: 0.47917205692108666\n"
     ]
    }
   ],
   "source": [
    "print(f' training accuracy for tobacco: {gs_all_abc.score(X_train_all, y_train_tobacco)}')\n",
    "print(f' training accuracy for activity: {gs2_all_abc.score(X_train_all2, y_train_activity)}')\n",
    "print(f' training accuracy for health: {gs3_all_abc.score(X_train_all3, y_train_health)}')\n",
    "print(f' training accuracy for smoker: {gs4_all_abc.score(X_train_all4, y_train_smoker)}')"
   ]
  },
  {
   "cell_type": "code",
   "execution_count": 60,
   "metadata": {},
   "outputs": [
    {
     "name": "stdout",
     "output_type": "stream",
     "text": [
      " testing accuracy for tobacco: 0.6818261633011413\n",
      " testing accuracy for activity: 0.7840448737924587\n",
      " testing accuracy for health: 0.8210614059460961\n",
      " testing accuracy for smoker: 0.4595084087968952\n"
     ]
    }
   ],
   "source": [
    "print(f' testing accuracy for tobacco: {gs_all_abc.score(X_test_all, y_test_tobacco)}')\n",
    "print(f' testing accuracy for activity: {gs2_all_abc.score(X_test_all2, y_test_activity)}')\n",
    "print(f' testing accuracy for health: {gs3_all_abc.score(X_test_all3, y_test_health)}')\n",
    "print(f' testing accuracy for smoker: {gs4_all_abc.score(X_test_all4, y_test_smoker)}')"
   ]
  },
  {
   "cell_type": "code",
   "execution_count": 61,
   "metadata": {},
   "outputs": [
    {
     "name": "stdout",
     "output_type": "stream",
     "text": [
      "Precision for tobacco: 0.6818261633011413\n",
      "Precision for activity: 0.7840448737924587\n",
      "Precision for health: 0.8210614059460961\n",
      "Precision for smoker: 0.4595084087968952\n"
     ]
    }
   ],
   "source": [
    "print(f'Precision for tobacco: {tobacco_all_abc_prec}')\n",
    "print(f'Precision for activity: {activity_all_abc_prec}')\n",
    "print(f'Precision for health: {health_all_abc_prec}')\n",
    "print(f'Precision for smoker: {smoker_all_abc_prec}')"
   ]
  },
  {
   "cell_type": "code",
   "execution_count": 62,
   "metadata": {},
   "outputs": [
    {
     "name": "stdout",
     "output_type": "stream",
     "text": [
      "{'adaboostclassifier__learning_rate': 1.0, 'adaboostclassifier__n_estimators': 25, 'selectkbest__k': 31}\n",
      "{'adaboostclassifier__learning_rate': 1.0, 'adaboostclassifier__n_estimators': 25, 'selectkbest__k': 61}\n",
      "{'adaboostclassifier__learning_rate': 1.0, 'adaboostclassifier__n_estimators': 25, 'selectkbest__k': 151}\n",
      "{'adaboostclassifier__learning_rate': 0.5, 'adaboostclassifier__n_estimators': 25, 'selectkbest__k': 46}\n"
     ]
    }
   ],
   "source": [
    "print(gs_all_abc.best_params_)\n",
    "print(gs2_all_abc.best_params_)\n",
    "print(gs3_all_abc.best_params_)\n",
    "print(gs4_all_abc.best_params_)"
   ]
  },
  {
   "cell_type": "markdown",
   "metadata": {},
   "source": [
    "### Pipeline and Gridsearch with all features as predictors (XG Boost Classifier)"
   ]
  },
  {
   "cell_type": "code",
   "execution_count": 63,
   "metadata": {},
   "outputs": [
    {
     "data": {
      "text/plain": [
       "GridSearchCV(cv=3,\n",
       "             estimator=Pipeline(steps=[('selectkbest', SelectKBest()),\n",
       "                                       ('standardscaler', StandardScaler()),\n",
       "                                       ('xgbclassifier',\n",
       "                                        XGBClassifier(base_score=None,\n",
       "                                                      booster=None,\n",
       "                                                      colsample_bylevel=None,\n",
       "                                                      colsample_bynode=None,\n",
       "                                                      colsample_bytree=None,\n",
       "                                                      gamma=None, gpu_id=None,\n",
       "                                                      importance_type='gain',\n",
       "                                                      interaction_constraints=None,\n",
       "                                                      learning_rate=None,\n",
       "                                                      max_delta_step=None...\n",
       "                                                      n_estimators=100,\n",
       "                                                      n_jobs=None,\n",
       "                                                      num_parallel_tree=None,\n",
       "                                                      random_state=None,\n",
       "                                                      reg_alpha=None,\n",
       "                                                      reg_lambda=None,\n",
       "                                                      scale_pos_weight=None,\n",
       "                                                      subsample=None,\n",
       "                                                      tree_method=None,\n",
       "                                                      validate_parameters=None,\n",
       "                                                      verbosity=None))]),\n",
       "             param_grid={'selectkbest__k': range(1, 162, 15),\n",
       "                         'xgbclassifier__learning_rate': [0.5, 1.0],\n",
       "                         'xgbclassifier__max_depth': [3, 5],\n",
       "                         'xgbclassifier__n_estimators': [10, 15, 20, 25]})"
      ]
     },
     "execution_count": 63,
     "metadata": {},
     "output_type": "execute_result"
    }
   ],
   "source": [
    "pipe_all_xgb = make_pipeline(SelectKBest(f_classif), StandardScaler(), xgb.XGBClassifier())\n",
    "\n",
    "params_all_xgb = {'selectkbest__k': range(1, 164, 15),\n",
    "                  'xgbclassifier__learning_rate': [0.5, 1.0],\n",
    "                  'xgbclassifier__n_estimators': [10, 15, 20, 25],\n",
    "                 'xgbclassifier__max_depth': [3, 5]}\n",
    "\n",
    "gs_all_xgb = GridSearchCV(pipe_all_xgb, params_all_xgb, cv=3)\n",
    "\n",
    "gs_all_xgb.fit(X_train_all, y_train_tobacco)"
   ]
  },
  {
   "cell_type": "code",
   "execution_count": 64,
   "metadata": {},
   "outputs": [
    {
     "data": {
      "text/plain": [
       "GridSearchCV(cv=3,\n",
       "             estimator=Pipeline(steps=[('selectkbest', SelectKBest()),\n",
       "                                       ('standardscaler', StandardScaler()),\n",
       "                                       ('xgbclassifier',\n",
       "                                        XGBClassifier(base_score=None,\n",
       "                                                      booster=None,\n",
       "                                                      colsample_bylevel=None,\n",
       "                                                      colsample_bynode=None,\n",
       "                                                      colsample_bytree=None,\n",
       "                                                      gamma=None, gpu_id=None,\n",
       "                                                      importance_type='gain',\n",
       "                                                      interaction_constraints=None,\n",
       "                                                      learning_rate=None,\n",
       "                                                      max_delta_step=None...\n",
       "                                                      n_estimators=100,\n",
       "                                                      n_jobs=None,\n",
       "                                                      num_parallel_tree=None,\n",
       "                                                      random_state=None,\n",
       "                                                      reg_alpha=None,\n",
       "                                                      reg_lambda=None,\n",
       "                                                      scale_pos_weight=None,\n",
       "                                                      subsample=None,\n",
       "                                                      tree_method=None,\n",
       "                                                      validate_parameters=None,\n",
       "                                                      verbosity=None))]),\n",
       "             param_grid={'selectkbest__k': range(1, 162, 15),\n",
       "                         'xgbclassifier__learning_rate': [0.5, 1.0],\n",
       "                         'xgbclassifier__max_depth': [3, 5],\n",
       "                         'xgbclassifier__n_estimators': [10, 15, 20, 25]})"
      ]
     },
     "execution_count": 64,
     "metadata": {},
     "output_type": "execute_result"
    }
   ],
   "source": [
    "pipe2_all_xgb = make_pipeline(SelectKBest(f_classif), StandardScaler(), xgb.XGBClassifier())\n",
    "\n",
    "gs2_all_xgb = GridSearchCV(pipe2_all_xgb, params_all_xgb, cv=3)\n",
    "\n",
    "gs2_all_xgb.fit(X_train_all2, y_train_activity)"
   ]
  },
  {
   "cell_type": "code",
   "execution_count": 65,
   "metadata": {},
   "outputs": [
    {
     "data": {
      "text/plain": [
       "GridSearchCV(cv=3,\n",
       "             estimator=Pipeline(steps=[('selectkbest', SelectKBest()),\n",
       "                                       ('standardscaler', StandardScaler()),\n",
       "                                       ('xgbclassifier',\n",
       "                                        XGBClassifier(base_score=None,\n",
       "                                                      booster=None,\n",
       "                                                      colsample_bylevel=None,\n",
       "                                                      colsample_bynode=None,\n",
       "                                                      colsample_bytree=None,\n",
       "                                                      gamma=None, gpu_id=None,\n",
       "                                                      importance_type='gain',\n",
       "                                                      interaction_constraints=None,\n",
       "                                                      learning_rate=None,\n",
       "                                                      max_delta_step=None...\n",
       "                                                      n_estimators=100,\n",
       "                                                      n_jobs=None,\n",
       "                                                      num_parallel_tree=None,\n",
       "                                                      random_state=None,\n",
       "                                                      reg_alpha=None,\n",
       "                                                      reg_lambda=None,\n",
       "                                                      scale_pos_weight=None,\n",
       "                                                      subsample=None,\n",
       "                                                      tree_method=None,\n",
       "                                                      validate_parameters=None,\n",
       "                                                      verbosity=None))]),\n",
       "             param_grid={'selectkbest__k': range(1, 162, 15),\n",
       "                         'xgbclassifier__learning_rate': [0.5, 1.0],\n",
       "                         'xgbclassifier__max_depth': [3, 5],\n",
       "                         'xgbclassifier__n_estimators': [10, 15, 20, 25]})"
      ]
     },
     "execution_count": 65,
     "metadata": {},
     "output_type": "execute_result"
    }
   ],
   "source": [
    "pipe3_all_xgb = make_pipeline(SelectKBest(f_classif), StandardScaler(), xgb.XGBClassifier())\n",
    "\n",
    "gs3_all_xgb = GridSearchCV(pipe3_all_xgb, params_all_xgb, cv=3)\n",
    "\n",
    "gs3_all_xgb.fit(X_train_all3, y_train_health)"
   ]
  },
  {
   "cell_type": "code",
   "execution_count": 66,
   "metadata": {},
   "outputs": [
    {
     "data": {
      "text/plain": [
       "GridSearchCV(cv=3,\n",
       "             estimator=Pipeline(steps=[('selectkbest', SelectKBest()),\n",
       "                                       ('standardscaler', StandardScaler()),\n",
       "                                       ('xgbclassifier',\n",
       "                                        XGBClassifier(base_score=None,\n",
       "                                                      booster=None,\n",
       "                                                      colsample_bylevel=None,\n",
       "                                                      colsample_bynode=None,\n",
       "                                                      colsample_bytree=None,\n",
       "                                                      gamma=None, gpu_id=None,\n",
       "                                                      importance_type='gain',\n",
       "                                                      interaction_constraints=None,\n",
       "                                                      learning_rate=None,\n",
       "                                                      max_delta_step=None...\n",
       "                                                      n_estimators=100,\n",
       "                                                      n_jobs=None,\n",
       "                                                      num_parallel_tree=None,\n",
       "                                                      random_state=None,\n",
       "                                                      reg_alpha=None,\n",
       "                                                      reg_lambda=None,\n",
       "                                                      scale_pos_weight=None,\n",
       "                                                      subsample=None,\n",
       "                                                      tree_method=None,\n",
       "                                                      validate_parameters=None,\n",
       "                                                      verbosity=None))]),\n",
       "             param_grid={'selectkbest__k': range(1, 162, 15),\n",
       "                         'xgbclassifier__learning_rate': [0.5, 1.0],\n",
       "                         'xgbclassifier__max_depth': [3, 5],\n",
       "                         'xgbclassifier__n_estimators': [10, 15, 20, 25]})"
      ]
     },
     "execution_count": 66,
     "metadata": {},
     "output_type": "execute_result"
    }
   ],
   "source": [
    "pipe4_all_xgb = make_pipeline(SelectKBest(f_classif), StandardScaler(), xgb.XGBClassifier())\n",
    "\n",
    "gs4_all_xgb = GridSearchCV(pipe4_all_xgb, params_all_xgb, cv=3)\n",
    "\n",
    "gs4_all_xgb.fit(X_train_all4, y_train_smoker)"
   ]
  },
  {
   "cell_type": "code",
   "execution_count": 67,
   "metadata": {},
   "outputs": [],
   "source": [
    "tobacco_all_xgb_preds = gs_all_xgb.predict(X_test_all)\n",
    "activity_all_xgb_preds = gs2_all_xgb.predict(X_test_all2)\n",
    "health_all_xgb_preds = gs3_all_xgb.predict(X_test_all3)\n",
    "smoker_all_xgb_preds = gs4_all_xgb.predict(X_test_all4)\n",
    "\n",
    "tobacco_all_xgb_prec = precision_score(y_test_tobacco, tobacco_all_xgb_preds, average='micro')\n",
    "activity_all_xgb_prec = precision_score(y_test_activity, activity_all_xgb_preds, average='micro')\n",
    "health_all_xgb_prec = precision_score(y_test_health, health_all_xgb_preds, average='micro')\n",
    "smoker_all_xgb_prec = precision_score(y_test_smoker, smoker_all_xgb_preds, average='micro')"
   ]
  },
  {
   "cell_type": "code",
   "execution_count": 68,
   "metadata": {},
   "outputs": [
    {
     "name": "stdout",
     "output_type": "stream",
     "text": [
      " training accuracy for tobacco: 0.9935030728709394\n",
      " training accuracy for activity: 0.9478441558441558\n",
      " training accuracy for health: 0.9735062528948587\n",
      " training accuracy for smoker: 0.8536438119879258\n"
     ]
    }
   ],
   "source": [
    "print(f' training accuracy for tobacco: {gs_all_xgb.score(X_train_all, y_train_tobacco)}')\n",
    "print(f' training accuracy for activity: {gs2_all_xgb.score(X_train_all2, y_train_activity)}')\n",
    "print(f' training accuracy for health: {gs3_all_xgb.score(X_train_all3, y_train_health)}')\n",
    "print(f' training accuracy for smoker: {gs4_all_xgb.score(X_train_all4, y_train_smoker)}')"
   ]
  },
  {
   "cell_type": "code",
   "execution_count": 69,
   "metadata": {},
   "outputs": [
    {
     "name": "stdout",
     "output_type": "stream",
     "text": [
      " testing accuracy for tobacco: 0.982791922739245\n",
      " testing accuracy for activity: 0.8837644125895918\n",
      " testing accuracy for health: 0.9330369547096415\n",
      " testing accuracy for smoker: 0.7169469598965071\n"
     ]
    }
   ],
   "source": [
    "print(f' testing accuracy for tobacco: {gs_all_xgb.score(X_test_all, y_test_tobacco)}')\n",
    "print(f' testing accuracy for activity: {gs2_all_xgb.score(X_test_all2, y_test_activity)}')\n",
    "print(f' testing accuracy for health: {gs3_all_xgb.score(X_test_all3, y_test_health)}')\n",
    "print(f' testing accuracy for smoker: {gs4_all_xgb.score(X_test_all4, y_test_smoker)}')"
   ]
  },
  {
   "cell_type": "code",
   "execution_count": 70,
   "metadata": {},
   "outputs": [
    {
     "name": "stdout",
     "output_type": "stream",
     "text": [
      "Precision for tobacco: 0.982791922739245\n",
      "Precision for activity: 0.8837644125895918\n",
      "Precision for health: 0.9330369547096415\n",
      "Precision for smoker: 0.7169469598965071\n"
     ]
    }
   ],
   "source": [
    "print(f'Precision for tobacco: {tobacco_all_xgb_prec}')\n",
    "print(f'Precision for activity: {activity_all_xgb_prec}')\n",
    "print(f'Precision for health: {health_all_xgb_prec}')\n",
    "print(f'Precision for smoker: {smoker_all_xgb_prec}')"
   ]
  },
  {
   "cell_type": "code",
   "execution_count": 71,
   "metadata": {},
   "outputs": [
    {
     "name": "stdout",
     "output_type": "stream",
     "text": [
      "{'selectkbest__k': 151, 'xgbclassifier__learning_rate': 1.0, 'xgbclassifier__max_depth': 5, 'xgbclassifier__n_estimators': 25}\n",
      "{'selectkbest__k': 91, 'xgbclassifier__learning_rate': 1.0, 'xgbclassifier__max_depth': 5, 'xgbclassifier__n_estimators': 25}\n",
      "{'selectkbest__k': 151, 'xgbclassifier__learning_rate': 1.0, 'xgbclassifier__max_depth': 5, 'xgbclassifier__n_estimators': 25}\n",
      "{'selectkbest__k': 91, 'xgbclassifier__learning_rate': 1.0, 'xgbclassifier__max_depth': 5, 'xgbclassifier__n_estimators': 25}\n"
     ]
    }
   ],
   "source": [
    "print(gs_all_xgb.best_params_)\n",
    "print(gs2_all_xgb.best_params_)\n",
    "print(gs3_all_xgb.best_params_)\n",
    "print(gs4_all_xgb.best_params_)"
   ]
  },
  {
   "cell_type": "code",
   "execution_count": null,
   "metadata": {},
   "outputs": [],
   "source": []
  }
 ],
 "metadata": {
  "environment": {
   "name": "tf2-2-3-gpu.2-3.m58",
   "type": "gcloud",
   "uri": "gcr.io/deeplearning-platform-release/tf2-2-3-gpu.2-3:m58"
  },
  "kernelspec": {
   "display_name": "Python 3",
   "language": "python",
   "name": "python3"
  },
  "language_info": {
   "codemirror_mode": {
    "name": "ipython",
    "version": 3
   },
   "file_extension": ".py",
   "mimetype": "text/x-python",
   "name": "python",
   "nbconvert_exporter": "python",
   "pygments_lexer": "ipython3",
   "version": "3.8.3"
  }
 },
 "nbformat": 4,
 "nbformat_minor": 4
}
