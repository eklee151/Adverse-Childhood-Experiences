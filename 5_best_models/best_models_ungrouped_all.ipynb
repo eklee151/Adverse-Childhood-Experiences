{
  "nbformat": 4,
  "nbformat_minor": 0,
  "metadata": {
    "colab": {
      "name": "best_models_ungrouped_all.ipynb",
      "provenance": [],
      "collapsed_sections": [],
      "machine_shape": "hm"
    },
    "kernelspec": {
      "display_name": "Python 3",
      "language": "python",
      "name": "python3"
    },
    "language_info": {
      "codemirror_mode": {
        "name": "ipython",
        "version": 3
      },
      "file_extension": ".py",
      "mimetype": "text/x-python",
      "name": "python",
      "nbconvert_exporter": "python",
      "pygments_lexer": "ipython3",
      "version": "3.8.3"
    }
  },
  "cells": [
    {
      "cell_type": "code",
      "metadata": {
        "id": "58dN7HsfBJba"
      },
      "source": [
        "import pandas as pd\n",
        "import numpy as np\n",
        "import seaborn as sns\n",
        "import matplotlib.pyplot as plt\n",
        "\n",
        "from sklearn.model_selection import train_test_split, cross_val_score\n",
        "from sklearn.preprocessing import StandardScaler\n",
        "from sklearn.feature_selection import SelectKBest, f_classif\n",
        "from sklearn.pipeline import make_pipeline\n",
        "from sklearn.linear_model import LogisticRegression\n",
        "from sklearn.metrics import precision_score, average_precision_score\n",
        "from sklearn.ensemble import RandomForestClassifier, ExtraTreesClassifier\n",
        "\n",
        "from imblearn.over_sampling import SMOTE\n",
        "\n",
        "import xgboost as xgb\n",
        "\n",
        "import warnings\n",
        "warnings.filterwarnings('ignore')"
      ],
      "execution_count": 42,
      "outputs": []
    },
    {
      "cell_type": "code",
      "metadata": {
        "id": "uI-u7U3xBJbk"
      },
      "source": [
        "# reading in full data set\n",
        "# brfss_total = pd.read_csv(\"../csv_data/brfss_total.csv\")\n",
        "brfss_total = pd.read_csv(\"./brfss_total.csv\", index_col=0)"
      ],
      "execution_count": 8,
      "outputs": []
    },
    {
      "cell_type": "code",
      "metadata": {
        "id": "XPTL7V4PBJbo",
        "outputId": "a1c7b658-2b2f-49ce-d110-977122d58abf",
        "colab": {
          "base_uri": "https://localhost:8080/",
          "height": 217
        }
      },
      "source": [
        "brfss_total.head()"
      ],
      "execution_count": 9,
      "outputs": [
        {
          "output_type": "execute_result",
          "data": {
            "text/html": [
              "<div>\n",
              "<style scoped>\n",
              "    .dataframe tbody tr th:only-of-type {\n",
              "        vertical-align: middle;\n",
              "    }\n",
              "\n",
              "    .dataframe tbody tr th {\n",
              "        vertical-align: top;\n",
              "    }\n",
              "\n",
              "    .dataframe thead th {\n",
              "        text-align: right;\n",
              "    }\n",
              "</style>\n",
              "<table border=\"1\" class=\"dataframe\">\n",
              "  <thead>\n",
              "    <tr style=\"text-align: right;\">\n",
              "      <th></th>\n",
              "      <th>_STATE</th>\n",
              "      <th>DISPCODE</th>\n",
              "      <th>PHYSHLTH</th>\n",
              "      <th>MENTHLTH</th>\n",
              "      <th>USENOW3</th>\n",
              "      <th>HISPANC2</th>\n",
              "      <th>MARITAL</th>\n",
              "      <th>CHILDREN</th>\n",
              "      <th>EMPLOY</th>\n",
              "      <th>RENTHOM1</th>\n",
              "      <th>SEX</th>\n",
              "      <th>QLACTLM2</th>\n",
              "      <th>ACEDEPRS</th>\n",
              "      <th>ACEDRINK</th>\n",
              "      <th>ACEDRUGS</th>\n",
              "      <th>ACEPRISN</th>\n",
              "      <th>ACEDIVRC</th>\n",
              "      <th>ACEPUNCH</th>\n",
              "      <th>ACEHURT</th>\n",
              "      <th>ACESWEAR</th>\n",
              "      <th>ACETOUCH</th>\n",
              "      <th>ACETTHEM</th>\n",
              "      <th>ACEHVSEX</th>\n",
              "      <th>MSCODE</th>\n",
              "      <th>_IMPAGE</th>\n",
              "      <th>_RFHLTH</th>\n",
              "      <th>_SMOKER3</th>\n",
              "      <th>_PRACE</th>\n",
              "      <th>_EDUCAG</th>\n",
              "      <th>_INCOMG</th>\n",
              "      <th>_TOTINDA</th>\n",
              "    </tr>\n",
              "  </thead>\n",
              "  <tbody>\n",
              "    <tr>\n",
              "      <th>0</th>\n",
              "      <td>5.0</td>\n",
              "      <td>110.0</td>\n",
              "      <td>0.0</td>\n",
              "      <td>0.0</td>\n",
              "      <td>3.0</td>\n",
              "      <td>2.0</td>\n",
              "      <td>1.0</td>\n",
              "      <td>1.0</td>\n",
              "      <td>2.0</td>\n",
              "      <td>0.0</td>\n",
              "      <td>2.0</td>\n",
              "      <td>2.0</td>\n",
              "      <td>2.0</td>\n",
              "      <td>2.0</td>\n",
              "      <td>2.0</td>\n",
              "      <td>2.0</td>\n",
              "      <td>2.0</td>\n",
              "      <td>1.0</td>\n",
              "      <td>1.0</td>\n",
              "      <td>1.0</td>\n",
              "      <td>1.0</td>\n",
              "      <td>1.0</td>\n",
              "      <td>1.0</td>\n",
              "      <td>5.0</td>\n",
              "      <td>53.0</td>\n",
              "      <td>1.0</td>\n",
              "      <td>4.0</td>\n",
              "      <td>1.0</td>\n",
              "      <td>3.0</td>\n",
              "      <td>5.0</td>\n",
              "      <td>1.0</td>\n",
              "    </tr>\n",
              "    <tr>\n",
              "      <th>1</th>\n",
              "      <td>5.0</td>\n",
              "      <td>110.0</td>\n",
              "      <td>15.0</td>\n",
              "      <td>0.0</td>\n",
              "      <td>3.0</td>\n",
              "      <td>2.0</td>\n",
              "      <td>2.0</td>\n",
              "      <td>0.0</td>\n",
              "      <td>0.0</td>\n",
              "      <td>0.0</td>\n",
              "      <td>1.0</td>\n",
              "      <td>2.0</td>\n",
              "      <td>2.0</td>\n",
              "      <td>1.0</td>\n",
              "      <td>2.0</td>\n",
              "      <td>2.0</td>\n",
              "      <td>2.0</td>\n",
              "      <td>1.0</td>\n",
              "      <td>1.0</td>\n",
              "      <td>3.0</td>\n",
              "      <td>1.0</td>\n",
              "      <td>1.0</td>\n",
              "      <td>1.0</td>\n",
              "      <td>5.0</td>\n",
              "      <td>64.0</td>\n",
              "      <td>2.0</td>\n",
              "      <td>3.0</td>\n",
              "      <td>1.0</td>\n",
              "      <td>2.0</td>\n",
              "      <td>2.0</td>\n",
              "      <td>1.0</td>\n",
              "    </tr>\n",
              "    <tr>\n",
              "      <th>2</th>\n",
              "      <td>5.0</td>\n",
              "      <td>110.0</td>\n",
              "      <td>6.0</td>\n",
              "      <td>0.0</td>\n",
              "      <td>3.0</td>\n",
              "      <td>2.0</td>\n",
              "      <td>1.0</td>\n",
              "      <td>0.0</td>\n",
              "      <td>0.0</td>\n",
              "      <td>0.0</td>\n",
              "      <td>1.0</td>\n",
              "      <td>1.0</td>\n",
              "      <td>2.0</td>\n",
              "      <td>2.0</td>\n",
              "      <td>2.0</td>\n",
              "      <td>2.0</td>\n",
              "      <td>2.0</td>\n",
              "      <td>1.0</td>\n",
              "      <td>1.0</td>\n",
              "      <td>1.0</td>\n",
              "      <td>1.0</td>\n",
              "      <td>1.0</td>\n",
              "      <td>1.0</td>\n",
              "      <td>5.0</td>\n",
              "      <td>58.0</td>\n",
              "      <td>1.0</td>\n",
              "      <td>4.0</td>\n",
              "      <td>1.0</td>\n",
              "      <td>3.0</td>\n",
              "      <td>2.0</td>\n",
              "      <td>1.0</td>\n",
              "    </tr>\n",
              "    <tr>\n",
              "      <th>3</th>\n",
              "      <td>5.0</td>\n",
              "      <td>110.0</td>\n",
              "      <td>30.0</td>\n",
              "      <td>0.0</td>\n",
              "      <td>3.0</td>\n",
              "      <td>2.0</td>\n",
              "      <td>1.0</td>\n",
              "      <td>0.0</td>\n",
              "      <td>0.0</td>\n",
              "      <td>0.0</td>\n",
              "      <td>2.0</td>\n",
              "      <td>1.0</td>\n",
              "      <td>2.0</td>\n",
              "      <td>2.0</td>\n",
              "      <td>2.0</td>\n",
              "      <td>2.0</td>\n",
              "      <td>2.0</td>\n",
              "      <td>1.0</td>\n",
              "      <td>1.0</td>\n",
              "      <td>1.0</td>\n",
              "      <td>1.0</td>\n",
              "      <td>1.0</td>\n",
              "      <td>1.0</td>\n",
              "      <td>5.0</td>\n",
              "      <td>76.0</td>\n",
              "      <td>2.0</td>\n",
              "      <td>4.0</td>\n",
              "      <td>1.0</td>\n",
              "      <td>1.0</td>\n",
              "      <td>0.0</td>\n",
              "      <td>2.0</td>\n",
              "    </tr>\n",
              "    <tr>\n",
              "      <th>4</th>\n",
              "      <td>5.0</td>\n",
              "      <td>110.0</td>\n",
              "      <td>13.0</td>\n",
              "      <td>0.0</td>\n",
              "      <td>3.0</td>\n",
              "      <td>2.0</td>\n",
              "      <td>3.0</td>\n",
              "      <td>0.0</td>\n",
              "      <td>0.0</td>\n",
              "      <td>0.0</td>\n",
              "      <td>2.0</td>\n",
              "      <td>2.0</td>\n",
              "      <td>2.0</td>\n",
              "      <td>2.0</td>\n",
              "      <td>2.0</td>\n",
              "      <td>2.0</td>\n",
              "      <td>2.0</td>\n",
              "      <td>1.0</td>\n",
              "      <td>1.0</td>\n",
              "      <td>1.0</td>\n",
              "      <td>1.0</td>\n",
              "      <td>1.0</td>\n",
              "      <td>0.0</td>\n",
              "      <td>5.0</td>\n",
              "      <td>82.0</td>\n",
              "      <td>2.0</td>\n",
              "      <td>3.0</td>\n",
              "      <td>1.0</td>\n",
              "      <td>2.0</td>\n",
              "      <td>0.0</td>\n",
              "      <td>2.0</td>\n",
              "    </tr>\n",
              "  </tbody>\n",
              "</table>\n",
              "</div>"
            ],
            "text/plain": [
              "   _STATE  DISPCODE  PHYSHLTH  MENTHLTH  ...  _PRACE  _EDUCAG  _INCOMG  _TOTINDA\n",
              "0     5.0     110.0       0.0       0.0  ...     1.0      3.0      5.0       1.0\n",
              "1     5.0     110.0      15.0       0.0  ...     1.0      2.0      2.0       1.0\n",
              "2     5.0     110.0       6.0       0.0  ...     1.0      3.0      2.0       1.0\n",
              "3     5.0     110.0      30.0       0.0  ...     1.0      1.0      0.0       2.0\n",
              "4     5.0     110.0      13.0       0.0  ...     1.0      2.0      0.0       2.0\n",
              "\n",
              "[5 rows x 31 columns]"
            ]
          },
          "metadata": {
            "tags": []
          },
          "execution_count": 9
        }
      ]
    },
    {
      "cell_type": "code",
      "metadata": {
        "id": "dEtvuHYkBJbv",
        "outputId": "57db8bbf-ba14-47e1-a0c3-309a8b73e092",
        "colab": {
          "base_uri": "https://localhost:8080/"
        }
      },
      "source": [
        "# just making sure no nulls are present\n",
        "brfss_total.info()"
      ],
      "execution_count": 10,
      "outputs": [
        {
          "output_type": "stream",
          "text": [
            "<class 'pandas.core.frame.DataFrame'>\n",
            "Int64Index: 117555 entries, 0 to 117554\n",
            "Data columns (total 31 columns):\n",
            " #   Column    Non-Null Count   Dtype  \n",
            "---  ------    --------------   -----  \n",
            " 0   _STATE    117555 non-null  float64\n",
            " 1   DISPCODE  117555 non-null  float64\n",
            " 2   PHYSHLTH  117555 non-null  float64\n",
            " 3   MENTHLTH  117555 non-null  float64\n",
            " 4   USENOW3   117555 non-null  float64\n",
            " 5   HISPANC2  117555 non-null  float64\n",
            " 6   MARITAL   117555 non-null  float64\n",
            " 7   CHILDREN  117555 non-null  float64\n",
            " 8   EMPLOY    117555 non-null  float64\n",
            " 9   RENTHOM1  117555 non-null  float64\n",
            " 10  SEX       117555 non-null  float64\n",
            " 11  QLACTLM2  117555 non-null  float64\n",
            " 12  ACEDEPRS  117555 non-null  float64\n",
            " 13  ACEDRINK  117555 non-null  float64\n",
            " 14  ACEDRUGS  117555 non-null  float64\n",
            " 15  ACEPRISN  117555 non-null  float64\n",
            " 16  ACEDIVRC  117555 non-null  float64\n",
            " 17  ACEPUNCH  117555 non-null  float64\n",
            " 18  ACEHURT   117555 non-null  float64\n",
            " 19  ACESWEAR  117555 non-null  float64\n",
            " 20  ACETOUCH  117555 non-null  float64\n",
            " 21  ACETTHEM  117555 non-null  float64\n",
            " 22  ACEHVSEX  117555 non-null  float64\n",
            " 23  MSCODE    117555 non-null  float64\n",
            " 24  _IMPAGE   117555 non-null  float64\n",
            " 25  _RFHLTH   117555 non-null  float64\n",
            " 26  _SMOKER3  117555 non-null  float64\n",
            " 27  _PRACE    117555 non-null  float64\n",
            " 28  _EDUCAG   117555 non-null  float64\n",
            " 29  _INCOMG   117555 non-null  float64\n",
            " 30  _TOTINDA  117555 non-null  float64\n",
            "dtypes: float64(31)\n",
            "memory usage: 28.7 MB\n"
          ],
          "name": "stdout"
        }
      ]
    },
    {
      "cell_type": "code",
      "metadata": {
        "id": "PLL2XteABJb6"
      },
      "source": [
        "np.random.seed(151)"
      ],
      "execution_count": 11,
      "outputs": []
    },
    {
      "cell_type": "code",
      "metadata": {
        "id": "ujkwc55EBJb_"
      },
      "source": [
        "# creating X variable with all features\n",
        "X_all = brfss_total.drop(columns=['USENOW3', 'QLACTLM2', '_RFHLTH', '_SMOKER3'])"
      ],
      "execution_count": 12,
      "outputs": []
    },
    {
      "cell_type": "code",
      "metadata": {
        "id": "kBST9-j8BJcC"
      },
      "source": [
        "# creating the 4 y's\n",
        "y_tobacco = brfss_total['USENOW3']\n",
        "y_activity = brfss_total['QLACTLM2']\n",
        "y_health = brfss_total['_RFHLTH']\n",
        "y_smoker = brfss_total['_SMOKER3']"
      ],
      "execution_count": 13,
      "outputs": []
    },
    {
      "cell_type": "code",
      "metadata": {
        "id": "pxaLdYlaBJcH",
        "outputId": "b65aab11-fe41-47ff-9fe2-38223b7d173d",
        "colab": {
          "base_uri": "https://localhost:8080/"
        }
      },
      "source": [
        "#original baseline for tobacco\n",
        "y_tobacco.value_counts(normalize=True)"
      ],
      "execution_count": 14,
      "outputs": [
        {
          "output_type": "execute_result",
          "data": {
            "text/plain": [
              "3.0    0.966560\n",
              "1.0    0.017872\n",
              "2.0    0.012990\n",
              "0.0    0.002578\n",
              "Name: USENOW3, dtype: float64"
            ]
          },
          "metadata": {
            "tags": []
          },
          "execution_count": 14
        }
      ]
    },
    {
      "cell_type": "code",
      "metadata": {
        "id": "7jhgGYJVBJcK",
        "outputId": "67befe10-b67a-4ff3-e06b-9784987e4917",
        "colab": {
          "base_uri": "https://localhost:8080/"
        }
      },
      "source": [
        "#original baseline for activity\n",
        "y_activity.value_counts(normalize=True)"
      ],
      "execution_count": 15,
      "outputs": [
        {
          "output_type": "execute_result",
          "data": {
            "text/plain": [
              "2.0    0.724520\n",
              "1.0    0.268997\n",
              "0.0    0.006482\n",
              "Name: QLACTLM2, dtype: float64"
            ]
          },
          "metadata": {
            "tags": []
          },
          "execution_count": 15
        }
      ]
    },
    {
      "cell_type": "code",
      "metadata": {
        "id": "rz03nD_OBJcO",
        "outputId": "6a40704f-a078-4400-e9ee-f8c3a26e7660",
        "colab": {
          "base_uri": "https://localhost:8080/"
        }
      },
      "source": [
        "#original baseline for health\n",
        "y_health.value_counts(normalize=True)"
      ],
      "execution_count": 16,
      "outputs": [
        {
          "output_type": "execute_result",
          "data": {
            "text/plain": [
              "1.0    0.814742\n",
              "2.0    0.181991\n",
              "0.0    0.003267\n",
              "Name: _RFHLTH, dtype: float64"
            ]
          },
          "metadata": {
            "tags": []
          },
          "execution_count": 16
        }
      ]
    },
    {
      "cell_type": "code",
      "metadata": {
        "id": "6fkW-YfuBJcT",
        "outputId": "af76a22c-1b46-417d-911a-2fcfbaded3e5",
        "colab": {
          "base_uri": "https://localhost:8080/"
        }
      },
      "source": [
        "#original baseline for smoker\n",
        "y_smoker.value_counts(normalize=True)"
      ],
      "execution_count": 17,
      "outputs": [
        {
          "output_type": "execute_result",
          "data": {
            "text/plain": [
              "4.0    0.521569\n",
              "3.0    0.308324\n",
              "1.0    0.119604\n",
              "2.0    0.044226\n",
              "0.0    0.006278\n",
              "Name: _SMOKER3, dtype: float64"
            ]
          },
          "metadata": {
            "tags": []
          },
          "execution_count": 17
        }
      ]
    },
    {
      "cell_type": "code",
      "metadata": {
        "id": "R9dvezEZBJcW"
      },
      "source": [
        "# splitting X up so I can do some engineering on the nominal data and ACE columns\n",
        "X_num = X_all[['PHYSHLTH', 'MENTHLTH', 'CHILDREN']]\n",
        "X_cat = X_all[['_STATE', 'DISPCODE', 'HISPANC2', 'MARITAL', 'EMPLOY', 'RENTHOM1', 'SEX', 'ACEDEPRS', 'ACEDRINK', 'ACEDRUGS', 'ACEPRISN', \n",
        "               'ACEDIVRC', 'ACEPUNCH', 'ACEHURT', 'ACESWEAR', 'ACETOUCH', 'ACETTHEM', 'ACEHVSEX', 'MSCODE', \n",
        "               '_IMPAGE', '_PRACE', '_EDUCAG', '_INCOMG','_TOTINDA']]"
      ],
      "execution_count": 18,
      "outputs": []
    },
    {
      "cell_type": "code",
      "metadata": {
        "id": "c76WQIICBJci"
      },
      "source": [
        "# turning the nominal columns into strings so they can be dummified\n",
        "X_cat = X_cat.astype(str)"
      ],
      "execution_count": 19,
      "outputs": []
    },
    {
      "cell_type": "code",
      "metadata": {
        "id": "b_vTQmrlBJcm",
        "outputId": "069ac7d9-b3f5-4514-df20-314dc2bace03",
        "colab": {
          "base_uri": "https://localhost:8080/",
          "height": 246
        }
      },
      "source": [
        "# dummifying nominal variables for X_all\n",
        "X_dummies = pd.get_dummies(X_cat, drop_first=True)\n",
        "X_dummies.head()"
      ],
      "execution_count": 20,
      "outputs": [
        {
          "output_type": "execute_result",
          "data": {
            "text/html": [
              "<div>\n",
              "<style scoped>\n",
              "    .dataframe tbody tr th:only-of-type {\n",
              "        vertical-align: middle;\n",
              "    }\n",
              "\n",
              "    .dataframe tbody tr th {\n",
              "        vertical-align: top;\n",
              "    }\n",
              "\n",
              "    .dataframe thead th {\n",
              "        text-align: right;\n",
              "    }\n",
              "</style>\n",
              "<table border=\"1\" class=\"dataframe\">\n",
              "  <thead>\n",
              "    <tr style=\"text-align: right;\">\n",
              "      <th></th>\n",
              "      <th>_STATE_15.0</th>\n",
              "      <th>_STATE_19.0</th>\n",
              "      <th>_STATE_22.0</th>\n",
              "      <th>_STATE_27.0</th>\n",
              "      <th>_STATE_30.0</th>\n",
              "      <th>_STATE_32.0</th>\n",
              "      <th>_STATE_37.0</th>\n",
              "      <th>_STATE_40.0</th>\n",
              "      <th>_STATE_47.0</th>\n",
              "      <th>_STATE_5.0</th>\n",
              "      <th>_STATE_50.0</th>\n",
              "      <th>_STATE_53.0</th>\n",
              "      <th>_STATE_55.0</th>\n",
              "      <th>DISPCODE_1100.0</th>\n",
              "      <th>DISPCODE_120.0</th>\n",
              "      <th>DISPCODE_1200.0</th>\n",
              "      <th>HISPANC2_1.0</th>\n",
              "      <th>HISPANC2_2.0</th>\n",
              "      <th>MARITAL_1.0</th>\n",
              "      <th>MARITAL_2.0</th>\n",
              "      <th>MARITAL_3.0</th>\n",
              "      <th>MARITAL_4.0</th>\n",
              "      <th>MARITAL_5.0</th>\n",
              "      <th>MARITAL_6.0</th>\n",
              "      <th>EMPLOY_1.0</th>\n",
              "      <th>EMPLOY_2.0</th>\n",
              "      <th>EMPLOY_3.0</th>\n",
              "      <th>EMPLOY_4.0</th>\n",
              "      <th>EMPLOY_5.0</th>\n",
              "      <th>EMPLOY_6.0</th>\n",
              "      <th>RENTHOM1_1.0</th>\n",
              "      <th>RENTHOM1_2.0</th>\n",
              "      <th>RENTHOM1_3.0</th>\n",
              "      <th>SEX_2.0</th>\n",
              "      <th>ACEDEPRS_1.0</th>\n",
              "      <th>ACEDEPRS_2.0</th>\n",
              "      <th>ACEDRINK_1.0</th>\n",
              "      <th>ACEDRINK_2.0</th>\n",
              "      <th>ACEDRUGS_1.0</th>\n",
              "      <th>ACEDRUGS_2.0</th>\n",
              "      <th>...</th>\n",
              "      <th>_IMPAGE_74.0</th>\n",
              "      <th>_IMPAGE_75.0</th>\n",
              "      <th>_IMPAGE_76.0</th>\n",
              "      <th>_IMPAGE_78.0</th>\n",
              "      <th>_IMPAGE_79.0</th>\n",
              "      <th>_IMPAGE_80.0</th>\n",
              "      <th>_IMPAGE_81.0</th>\n",
              "      <th>_IMPAGE_82.0</th>\n",
              "      <th>_IMPAGE_83.0</th>\n",
              "      <th>_IMPAGE_84.0</th>\n",
              "      <th>_IMPAGE_85.0</th>\n",
              "      <th>_IMPAGE_86.0</th>\n",
              "      <th>_IMPAGE_87.0</th>\n",
              "      <th>_IMPAGE_89.0</th>\n",
              "      <th>_IMPAGE_90.0</th>\n",
              "      <th>_IMPAGE_91.0</th>\n",
              "      <th>_IMPAGE_92.0</th>\n",
              "      <th>_IMPAGE_93.0</th>\n",
              "      <th>_IMPAGE_94.0</th>\n",
              "      <th>_IMPAGE_95.0</th>\n",
              "      <th>_IMPAGE_96.0</th>\n",
              "      <th>_IMPAGE_97.0</th>\n",
              "      <th>_IMPAGE_98.0</th>\n",
              "      <th>_PRACE_1.0</th>\n",
              "      <th>_PRACE_2.0</th>\n",
              "      <th>_PRACE_3.0</th>\n",
              "      <th>_PRACE_4.0</th>\n",
              "      <th>_PRACE_5.0</th>\n",
              "      <th>_PRACE_6.0</th>\n",
              "      <th>_EDUCAG_1.0</th>\n",
              "      <th>_EDUCAG_2.0</th>\n",
              "      <th>_EDUCAG_3.0</th>\n",
              "      <th>_EDUCAG_4.0</th>\n",
              "      <th>_INCOMG_1.0</th>\n",
              "      <th>_INCOMG_2.0</th>\n",
              "      <th>_INCOMG_3.0</th>\n",
              "      <th>_INCOMG_4.0</th>\n",
              "      <th>_INCOMG_5.0</th>\n",
              "      <th>_TOTINDA_1.0</th>\n",
              "      <th>_TOTINDA_2.0</th>\n",
              "    </tr>\n",
              "  </thead>\n",
              "  <tbody>\n",
              "    <tr>\n",
              "      <th>0</th>\n",
              "      <td>0</td>\n",
              "      <td>0</td>\n",
              "      <td>0</td>\n",
              "      <td>0</td>\n",
              "      <td>0</td>\n",
              "      <td>0</td>\n",
              "      <td>0</td>\n",
              "      <td>0</td>\n",
              "      <td>0</td>\n",
              "      <td>1</td>\n",
              "      <td>0</td>\n",
              "      <td>0</td>\n",
              "      <td>0</td>\n",
              "      <td>0</td>\n",
              "      <td>0</td>\n",
              "      <td>0</td>\n",
              "      <td>0</td>\n",
              "      <td>1</td>\n",
              "      <td>1</td>\n",
              "      <td>0</td>\n",
              "      <td>0</td>\n",
              "      <td>0</td>\n",
              "      <td>0</td>\n",
              "      <td>0</td>\n",
              "      <td>0</td>\n",
              "      <td>1</td>\n",
              "      <td>0</td>\n",
              "      <td>0</td>\n",
              "      <td>0</td>\n",
              "      <td>0</td>\n",
              "      <td>0</td>\n",
              "      <td>0</td>\n",
              "      <td>0</td>\n",
              "      <td>1</td>\n",
              "      <td>0</td>\n",
              "      <td>1</td>\n",
              "      <td>0</td>\n",
              "      <td>1</td>\n",
              "      <td>0</td>\n",
              "      <td>1</td>\n",
              "      <td>...</td>\n",
              "      <td>0</td>\n",
              "      <td>0</td>\n",
              "      <td>0</td>\n",
              "      <td>0</td>\n",
              "      <td>0</td>\n",
              "      <td>0</td>\n",
              "      <td>0</td>\n",
              "      <td>0</td>\n",
              "      <td>0</td>\n",
              "      <td>0</td>\n",
              "      <td>0</td>\n",
              "      <td>0</td>\n",
              "      <td>0</td>\n",
              "      <td>0</td>\n",
              "      <td>0</td>\n",
              "      <td>0</td>\n",
              "      <td>0</td>\n",
              "      <td>0</td>\n",
              "      <td>0</td>\n",
              "      <td>0</td>\n",
              "      <td>0</td>\n",
              "      <td>0</td>\n",
              "      <td>0</td>\n",
              "      <td>1</td>\n",
              "      <td>0</td>\n",
              "      <td>0</td>\n",
              "      <td>0</td>\n",
              "      <td>0</td>\n",
              "      <td>0</td>\n",
              "      <td>0</td>\n",
              "      <td>0</td>\n",
              "      <td>1</td>\n",
              "      <td>0</td>\n",
              "      <td>0</td>\n",
              "      <td>0</td>\n",
              "      <td>0</td>\n",
              "      <td>0</td>\n",
              "      <td>1</td>\n",
              "      <td>1</td>\n",
              "      <td>0</td>\n",
              "    </tr>\n",
              "    <tr>\n",
              "      <th>1</th>\n",
              "      <td>0</td>\n",
              "      <td>0</td>\n",
              "      <td>0</td>\n",
              "      <td>0</td>\n",
              "      <td>0</td>\n",
              "      <td>0</td>\n",
              "      <td>0</td>\n",
              "      <td>0</td>\n",
              "      <td>0</td>\n",
              "      <td>1</td>\n",
              "      <td>0</td>\n",
              "      <td>0</td>\n",
              "      <td>0</td>\n",
              "      <td>0</td>\n",
              "      <td>0</td>\n",
              "      <td>0</td>\n",
              "      <td>0</td>\n",
              "      <td>1</td>\n",
              "      <td>0</td>\n",
              "      <td>1</td>\n",
              "      <td>0</td>\n",
              "      <td>0</td>\n",
              "      <td>0</td>\n",
              "      <td>0</td>\n",
              "      <td>0</td>\n",
              "      <td>0</td>\n",
              "      <td>0</td>\n",
              "      <td>0</td>\n",
              "      <td>0</td>\n",
              "      <td>0</td>\n",
              "      <td>0</td>\n",
              "      <td>0</td>\n",
              "      <td>0</td>\n",
              "      <td>0</td>\n",
              "      <td>0</td>\n",
              "      <td>1</td>\n",
              "      <td>1</td>\n",
              "      <td>0</td>\n",
              "      <td>0</td>\n",
              "      <td>1</td>\n",
              "      <td>...</td>\n",
              "      <td>0</td>\n",
              "      <td>0</td>\n",
              "      <td>0</td>\n",
              "      <td>0</td>\n",
              "      <td>0</td>\n",
              "      <td>0</td>\n",
              "      <td>0</td>\n",
              "      <td>0</td>\n",
              "      <td>0</td>\n",
              "      <td>0</td>\n",
              "      <td>0</td>\n",
              "      <td>0</td>\n",
              "      <td>0</td>\n",
              "      <td>0</td>\n",
              "      <td>0</td>\n",
              "      <td>0</td>\n",
              "      <td>0</td>\n",
              "      <td>0</td>\n",
              "      <td>0</td>\n",
              "      <td>0</td>\n",
              "      <td>0</td>\n",
              "      <td>0</td>\n",
              "      <td>0</td>\n",
              "      <td>1</td>\n",
              "      <td>0</td>\n",
              "      <td>0</td>\n",
              "      <td>0</td>\n",
              "      <td>0</td>\n",
              "      <td>0</td>\n",
              "      <td>0</td>\n",
              "      <td>1</td>\n",
              "      <td>0</td>\n",
              "      <td>0</td>\n",
              "      <td>0</td>\n",
              "      <td>1</td>\n",
              "      <td>0</td>\n",
              "      <td>0</td>\n",
              "      <td>0</td>\n",
              "      <td>1</td>\n",
              "      <td>0</td>\n",
              "    </tr>\n",
              "    <tr>\n",
              "      <th>2</th>\n",
              "      <td>0</td>\n",
              "      <td>0</td>\n",
              "      <td>0</td>\n",
              "      <td>0</td>\n",
              "      <td>0</td>\n",
              "      <td>0</td>\n",
              "      <td>0</td>\n",
              "      <td>0</td>\n",
              "      <td>0</td>\n",
              "      <td>1</td>\n",
              "      <td>0</td>\n",
              "      <td>0</td>\n",
              "      <td>0</td>\n",
              "      <td>0</td>\n",
              "      <td>0</td>\n",
              "      <td>0</td>\n",
              "      <td>0</td>\n",
              "      <td>1</td>\n",
              "      <td>1</td>\n",
              "      <td>0</td>\n",
              "      <td>0</td>\n",
              "      <td>0</td>\n",
              "      <td>0</td>\n",
              "      <td>0</td>\n",
              "      <td>0</td>\n",
              "      <td>0</td>\n",
              "      <td>0</td>\n",
              "      <td>0</td>\n",
              "      <td>0</td>\n",
              "      <td>0</td>\n",
              "      <td>0</td>\n",
              "      <td>0</td>\n",
              "      <td>0</td>\n",
              "      <td>0</td>\n",
              "      <td>0</td>\n",
              "      <td>1</td>\n",
              "      <td>0</td>\n",
              "      <td>1</td>\n",
              "      <td>0</td>\n",
              "      <td>1</td>\n",
              "      <td>...</td>\n",
              "      <td>0</td>\n",
              "      <td>0</td>\n",
              "      <td>0</td>\n",
              "      <td>0</td>\n",
              "      <td>0</td>\n",
              "      <td>0</td>\n",
              "      <td>0</td>\n",
              "      <td>0</td>\n",
              "      <td>0</td>\n",
              "      <td>0</td>\n",
              "      <td>0</td>\n",
              "      <td>0</td>\n",
              "      <td>0</td>\n",
              "      <td>0</td>\n",
              "      <td>0</td>\n",
              "      <td>0</td>\n",
              "      <td>0</td>\n",
              "      <td>0</td>\n",
              "      <td>0</td>\n",
              "      <td>0</td>\n",
              "      <td>0</td>\n",
              "      <td>0</td>\n",
              "      <td>0</td>\n",
              "      <td>1</td>\n",
              "      <td>0</td>\n",
              "      <td>0</td>\n",
              "      <td>0</td>\n",
              "      <td>0</td>\n",
              "      <td>0</td>\n",
              "      <td>0</td>\n",
              "      <td>0</td>\n",
              "      <td>1</td>\n",
              "      <td>0</td>\n",
              "      <td>0</td>\n",
              "      <td>1</td>\n",
              "      <td>0</td>\n",
              "      <td>0</td>\n",
              "      <td>0</td>\n",
              "      <td>1</td>\n",
              "      <td>0</td>\n",
              "    </tr>\n",
              "    <tr>\n",
              "      <th>3</th>\n",
              "      <td>0</td>\n",
              "      <td>0</td>\n",
              "      <td>0</td>\n",
              "      <td>0</td>\n",
              "      <td>0</td>\n",
              "      <td>0</td>\n",
              "      <td>0</td>\n",
              "      <td>0</td>\n",
              "      <td>0</td>\n",
              "      <td>1</td>\n",
              "      <td>0</td>\n",
              "      <td>0</td>\n",
              "      <td>0</td>\n",
              "      <td>0</td>\n",
              "      <td>0</td>\n",
              "      <td>0</td>\n",
              "      <td>0</td>\n",
              "      <td>1</td>\n",
              "      <td>1</td>\n",
              "      <td>0</td>\n",
              "      <td>0</td>\n",
              "      <td>0</td>\n",
              "      <td>0</td>\n",
              "      <td>0</td>\n",
              "      <td>0</td>\n",
              "      <td>0</td>\n",
              "      <td>0</td>\n",
              "      <td>0</td>\n",
              "      <td>0</td>\n",
              "      <td>0</td>\n",
              "      <td>0</td>\n",
              "      <td>0</td>\n",
              "      <td>0</td>\n",
              "      <td>1</td>\n",
              "      <td>0</td>\n",
              "      <td>1</td>\n",
              "      <td>0</td>\n",
              "      <td>1</td>\n",
              "      <td>0</td>\n",
              "      <td>1</td>\n",
              "      <td>...</td>\n",
              "      <td>0</td>\n",
              "      <td>0</td>\n",
              "      <td>1</td>\n",
              "      <td>0</td>\n",
              "      <td>0</td>\n",
              "      <td>0</td>\n",
              "      <td>0</td>\n",
              "      <td>0</td>\n",
              "      <td>0</td>\n",
              "      <td>0</td>\n",
              "      <td>0</td>\n",
              "      <td>0</td>\n",
              "      <td>0</td>\n",
              "      <td>0</td>\n",
              "      <td>0</td>\n",
              "      <td>0</td>\n",
              "      <td>0</td>\n",
              "      <td>0</td>\n",
              "      <td>0</td>\n",
              "      <td>0</td>\n",
              "      <td>0</td>\n",
              "      <td>0</td>\n",
              "      <td>0</td>\n",
              "      <td>1</td>\n",
              "      <td>0</td>\n",
              "      <td>0</td>\n",
              "      <td>0</td>\n",
              "      <td>0</td>\n",
              "      <td>0</td>\n",
              "      <td>1</td>\n",
              "      <td>0</td>\n",
              "      <td>0</td>\n",
              "      <td>0</td>\n",
              "      <td>0</td>\n",
              "      <td>0</td>\n",
              "      <td>0</td>\n",
              "      <td>0</td>\n",
              "      <td>0</td>\n",
              "      <td>0</td>\n",
              "      <td>1</td>\n",
              "    </tr>\n",
              "    <tr>\n",
              "      <th>4</th>\n",
              "      <td>0</td>\n",
              "      <td>0</td>\n",
              "      <td>0</td>\n",
              "      <td>0</td>\n",
              "      <td>0</td>\n",
              "      <td>0</td>\n",
              "      <td>0</td>\n",
              "      <td>0</td>\n",
              "      <td>0</td>\n",
              "      <td>1</td>\n",
              "      <td>0</td>\n",
              "      <td>0</td>\n",
              "      <td>0</td>\n",
              "      <td>0</td>\n",
              "      <td>0</td>\n",
              "      <td>0</td>\n",
              "      <td>0</td>\n",
              "      <td>1</td>\n",
              "      <td>0</td>\n",
              "      <td>0</td>\n",
              "      <td>1</td>\n",
              "      <td>0</td>\n",
              "      <td>0</td>\n",
              "      <td>0</td>\n",
              "      <td>0</td>\n",
              "      <td>0</td>\n",
              "      <td>0</td>\n",
              "      <td>0</td>\n",
              "      <td>0</td>\n",
              "      <td>0</td>\n",
              "      <td>0</td>\n",
              "      <td>0</td>\n",
              "      <td>0</td>\n",
              "      <td>1</td>\n",
              "      <td>0</td>\n",
              "      <td>1</td>\n",
              "      <td>0</td>\n",
              "      <td>1</td>\n",
              "      <td>0</td>\n",
              "      <td>1</td>\n",
              "      <td>...</td>\n",
              "      <td>0</td>\n",
              "      <td>0</td>\n",
              "      <td>0</td>\n",
              "      <td>0</td>\n",
              "      <td>0</td>\n",
              "      <td>0</td>\n",
              "      <td>0</td>\n",
              "      <td>1</td>\n",
              "      <td>0</td>\n",
              "      <td>0</td>\n",
              "      <td>0</td>\n",
              "      <td>0</td>\n",
              "      <td>0</td>\n",
              "      <td>0</td>\n",
              "      <td>0</td>\n",
              "      <td>0</td>\n",
              "      <td>0</td>\n",
              "      <td>0</td>\n",
              "      <td>0</td>\n",
              "      <td>0</td>\n",
              "      <td>0</td>\n",
              "      <td>0</td>\n",
              "      <td>0</td>\n",
              "      <td>1</td>\n",
              "      <td>0</td>\n",
              "      <td>0</td>\n",
              "      <td>0</td>\n",
              "      <td>0</td>\n",
              "      <td>0</td>\n",
              "      <td>0</td>\n",
              "      <td>1</td>\n",
              "      <td>0</td>\n",
              "      <td>0</td>\n",
              "      <td>0</td>\n",
              "      <td>0</td>\n",
              "      <td>0</td>\n",
              "      <td>0</td>\n",
              "      <td>0</td>\n",
              "      <td>0</td>\n",
              "      <td>1</td>\n",
              "    </tr>\n",
              "  </tbody>\n",
              "</table>\n",
              "<p>5 rows × 162 columns</p>\n",
              "</div>"
            ],
            "text/plain": [
              "   _STATE_15.0  _STATE_19.0  ...  _TOTINDA_1.0  _TOTINDA_2.0\n",
              "0            0            0  ...             1             0\n",
              "1            0            0  ...             1             0\n",
              "2            0            0  ...             1             0\n",
              "3            0            0  ...             0             1\n",
              "4            0            0  ...             0             1\n",
              "\n",
              "[5 rows x 162 columns]"
            ]
          },
          "metadata": {
            "tags": []
          },
          "execution_count": 20
        }
      ]
    },
    {
      "cell_type": "code",
      "metadata": {
        "id": "TsjTBEAFBJcp",
        "outputId": "694789af-dac8-4e02-c367-289a16aad663",
        "colab": {
          "base_uri": "https://localhost:8080/",
          "height": 197
        }
      },
      "source": [
        "X_num.head()"
      ],
      "execution_count": 21,
      "outputs": [
        {
          "output_type": "execute_result",
          "data": {
            "text/html": [
              "<div>\n",
              "<style scoped>\n",
              "    .dataframe tbody tr th:only-of-type {\n",
              "        vertical-align: middle;\n",
              "    }\n",
              "\n",
              "    .dataframe tbody tr th {\n",
              "        vertical-align: top;\n",
              "    }\n",
              "\n",
              "    .dataframe thead th {\n",
              "        text-align: right;\n",
              "    }\n",
              "</style>\n",
              "<table border=\"1\" class=\"dataframe\">\n",
              "  <thead>\n",
              "    <tr style=\"text-align: right;\">\n",
              "      <th></th>\n",
              "      <th>PHYSHLTH</th>\n",
              "      <th>MENTHLTH</th>\n",
              "      <th>CHILDREN</th>\n",
              "    </tr>\n",
              "  </thead>\n",
              "  <tbody>\n",
              "    <tr>\n",
              "      <th>0</th>\n",
              "      <td>0.0</td>\n",
              "      <td>0.0</td>\n",
              "      <td>1.0</td>\n",
              "    </tr>\n",
              "    <tr>\n",
              "      <th>1</th>\n",
              "      <td>15.0</td>\n",
              "      <td>0.0</td>\n",
              "      <td>0.0</td>\n",
              "    </tr>\n",
              "    <tr>\n",
              "      <th>2</th>\n",
              "      <td>6.0</td>\n",
              "      <td>0.0</td>\n",
              "      <td>0.0</td>\n",
              "    </tr>\n",
              "    <tr>\n",
              "      <th>3</th>\n",
              "      <td>30.0</td>\n",
              "      <td>0.0</td>\n",
              "      <td>0.0</td>\n",
              "    </tr>\n",
              "    <tr>\n",
              "      <th>4</th>\n",
              "      <td>13.0</td>\n",
              "      <td>0.0</td>\n",
              "      <td>0.0</td>\n",
              "    </tr>\n",
              "  </tbody>\n",
              "</table>\n",
              "</div>"
            ],
            "text/plain": [
              "   PHYSHLTH  MENTHLTH  CHILDREN\n",
              "0       0.0       0.0       1.0\n",
              "1      15.0       0.0       0.0\n",
              "2       6.0       0.0       0.0\n",
              "3      30.0       0.0       0.0\n",
              "4      13.0       0.0       0.0"
            ]
          },
          "metadata": {
            "tags": []
          },
          "execution_count": 21
        }
      ]
    },
    {
      "cell_type": "code",
      "metadata": {
        "id": "N7VjOHHPBJct"
      },
      "source": [
        "# merging numerical and nominal data into one data frame\n",
        "X_all = X_num.merge(X_dummies, left_index=True, right_index=True)"
      ],
      "execution_count": 22,
      "outputs": []
    },
    {
      "cell_type": "code",
      "metadata": {
        "id": "R6X7qLS8BJcx",
        "outputId": "aebcba0c-23a6-4b85-ab5b-6d0b0b9ab0de",
        "colab": {
          "base_uri": "https://localhost:8080/"
        }
      },
      "source": [
        "X_all.shape"
      ],
      "execution_count": 23,
      "outputs": [
        {
          "output_type": "execute_result",
          "data": {
            "text/plain": [
              "(117555, 165)"
            ]
          },
          "metadata": {
            "tags": []
          },
          "execution_count": 23
        }
      ]
    },
    {
      "cell_type": "code",
      "metadata": {
        "id": "6D70beubBJc0"
      },
      "source": [
        "# to compensate for unbalanced classes in my y's will use SMOTE\n",
        "\n",
        "sm = SMOTE(random_state=151)\n",
        "X_all1, y_tobacco = sm.fit_resample(X_all, y_tobacco)\n",
        "\n",
        "sm2 = SMOTE(random_state=151)\n",
        "X_all2, y_activity = sm2.fit_resample(X_all, y_activity)\n",
        "\n",
        "sm3 = SMOTE(random_state=151)\n",
        "X_all3, y_health = sm3.fit_resample(X_all, y_health)\n",
        "\n",
        "sm4 = SMOTE(random_state=151)\n",
        "X_all4, y_smoker = sm4.fit_resample(X_all, y_smoker)"
      ],
      "execution_count": 24,
      "outputs": []
    },
    {
      "cell_type": "code",
      "metadata": {
        "id": "fR_dMNR0hYQR"
      },
      "source": [
        "#y_tobacco.value_counts(normalize=True)"
      ],
      "execution_count": null,
      "outputs": []
    },
    {
      "cell_type": "code",
      "metadata": {
        "id": "bL1Wj1CIhYdc"
      },
      "source": [
        "#y_activity.value_counts(normalize=True)"
      ],
      "execution_count": null,
      "outputs": []
    },
    {
      "cell_type": "code",
      "metadata": {
        "id": "fJkFoCrShYoA"
      },
      "source": [
        "#y_health.value_counts(normalize=True)"
      ],
      "execution_count": null,
      "outputs": []
    },
    {
      "cell_type": "code",
      "metadata": {
        "id": "utKizj7GhYxx"
      },
      "source": [
        "#y_smoker.value_counts(normalize=True)"
      ],
      "execution_count": null,
      "outputs": []
    },
    {
      "cell_type": "code",
      "metadata": {
        "id": "NYisqTHTBJdG",
        "outputId": "c09a634b-d3d7-4abe-f3a0-72fe4c6e7214",
        "colab": {
          "base_uri": "https://localhost:8080/"
        }
      },
      "source": [
        "# looks like with SMOTE resampling, data set has increased about 4x\n",
        "X_all1.shape"
      ],
      "execution_count": 25,
      "outputs": [
        {
          "output_type": "execute_result",
          "data": {
            "text/plain": [
              "(454496, 165)"
            ]
          },
          "metadata": {
            "tags": []
          },
          "execution_count": 25
        }
      ]
    },
    {
      "cell_type": "code",
      "metadata": {
        "id": "v03zswnMBJdK"
      },
      "source": [
        "# creating training and testing sets for all y's\n",
        "X_train_all, X_test_all, y_train_tobacco, y_test_tobacco = train_test_split(X_all1, y_tobacco, random_state = 151, stratify=y_tobacco)\n",
        "X_train_all2, X_test_all2, y_train_activity, y_test_activity = train_test_split(X_all2, y_activity, random_state = 151, stratify=y_activity)\n",
        "X_train_all3, X_test_all3, y_train_health, y_test_health = train_test_split(X_all3, y_health, random_state = 151, stratify=y_health)\n",
        "X_train_all4, X_test_all4, y_train_smoker, y_test_smoker = train_test_split(X_all4, y_smoker, random_state = 151, stratify=y_smoker)"
      ],
      "execution_count": 26,
      "outputs": []
    },
    {
      "cell_type": "code",
      "metadata": {
        "id": "7TrnO2g5hOsr",
        "outputId": "c9b8a8e2-af6a-4186-b9fa-a27af88496c9",
        "colab": {
          "base_uri": "https://localhost:8080/"
        }
      },
      "source": [
        "X_train_all.shape"
      ],
      "execution_count": 27,
      "outputs": [
        {
          "output_type": "execute_result",
          "data": {
            "text/plain": [
              "(340872, 165)"
            ]
          },
          "metadata": {
            "tags": []
          },
          "execution_count": 27
        }
      ]
    },
    {
      "cell_type": "code",
      "metadata": {
        "id": "eiuJAPDnhCqZ",
        "outputId": "4586fb70-2a15-4368-fb0a-3070805be0a0",
        "colab": {
          "base_uri": "https://localhost:8080/"
        }
      },
      "source": [
        "y_train_tobacco.shape"
      ],
      "execution_count": 28,
      "outputs": [
        {
          "output_type": "execute_result",
          "data": {
            "text/plain": [
              "(340872,)"
            ]
          },
          "metadata": {
            "tags": []
          },
          "execution_count": 28
        }
      ]
    },
    {
      "cell_type": "code",
      "metadata": {
        "id": "3JPv2iTUBJdO",
        "outputId": "c1e56ef0-fcea-4ce6-e994-643c31ebec65",
        "colab": {
          "base_uri": "https://localhost:8080/"
        }
      },
      "source": [
        "pipe_all_tobacco = make_pipeline(StandardScaler(), RandomForestClassifier(max_depth=None, min_samples_leaf=1, min_samples_split=3, n_estimators=500))\n",
        "pipe_all_tobacco.fit(X_train_all, y_train_tobacco)"
      ],
      "execution_count": 29,
      "outputs": [
        {
          "output_type": "execute_result",
          "data": {
            "text/plain": [
              "Pipeline(memory=None,\n",
              "         steps=[('standardscaler',\n",
              "                 StandardScaler(copy=True, with_mean=True, with_std=True)),\n",
              "                ('randomforestclassifier',\n",
              "                 RandomForestClassifier(bootstrap=True, ccp_alpha=0.0,\n",
              "                                        class_weight=None, criterion='gini',\n",
              "                                        max_depth=None, max_features='auto',\n",
              "                                        max_leaf_nodes=None, max_samples=None,\n",
              "                                        min_impurity_decrease=0.0,\n",
              "                                        min_impurity_split=None,\n",
              "                                        min_samples_leaf=1, min_samples_split=3,\n",
              "                                        min_weight_fraction_leaf=0.0,\n",
              "                                        n_estimators=500, n_jobs=None,\n",
              "                                        oob_score=False, random_state=None,\n",
              "                                        verbose=0, warm_start=False))],\n",
              "         verbose=False)"
            ]
          },
          "metadata": {
            "tags": []
          },
          "execution_count": 29
        }
      ]
    },
    {
      "cell_type": "code",
      "metadata": {
        "id": "ZWq7LdkUBJdS",
        "outputId": "40c464a2-41fc-48ef-8025-feb446a5a885",
        "colab": {
          "base_uri": "https://localhost:8080/"
        }
      },
      "source": [
        "pipe_all_activity = make_pipeline(StandardScaler(), xgb.XGBClassifier(learning_rate = 1, max_depth = 5, n_estimators=25))\n",
        "pipe_all_activity.fit(X_train_all2, y_train_activity)"
      ],
      "execution_count": 30,
      "outputs": [
        {
          "output_type": "execute_result",
          "data": {
            "text/plain": [
              "Pipeline(memory=None,\n",
              "         steps=[('standardscaler',\n",
              "                 StandardScaler(copy=True, with_mean=True, with_std=True)),\n",
              "                ('xgbclassifier',\n",
              "                 XGBClassifier(base_score=0.5, booster='gbtree',\n",
              "                               colsample_bylevel=1, colsample_bynode=1,\n",
              "                               colsample_bytree=1, gamma=0, learning_rate=1,\n",
              "                               max_delta_step=0, max_depth=5,\n",
              "                               min_child_weight=1, missing=None,\n",
              "                               n_estimators=25, n_jobs=1, nthread=None,\n",
              "                               objective='multi:softprob', random_state=0,\n",
              "                               reg_alpha=0, reg_lambda=1, scale_pos_weight=1,\n",
              "                               seed=None, silent=None, subsample=1,\n",
              "                               verbosity=1))],\n",
              "         verbose=False)"
            ]
          },
          "metadata": {
            "tags": []
          },
          "execution_count": 30
        }
      ]
    },
    {
      "cell_type": "code",
      "metadata": {
        "id": "ak6wl0GUBJdU",
        "outputId": "95e2ee82-a87d-40b7-a1b8-5773b0c96893",
        "colab": {
          "base_uri": "https://localhost:8080/"
        }
      },
      "source": [
        "pipe_all_health = make_pipeline(SelectKBest(f_classif, k=151), StandardScaler(), ExtraTreesClassifier(max_depth=None, n_estimators=500))\n",
        "pipe_all_health.fit(X_train_all3, y_train_health)"
      ],
      "execution_count": 31,
      "outputs": [
        {
          "output_type": "execute_result",
          "data": {
            "text/plain": [
              "Pipeline(memory=None,\n",
              "         steps=[('selectkbest',\n",
              "                 SelectKBest(k=151,\n",
              "                             score_func=<function f_classif at 0x7f8f43b15d90>)),\n",
              "                ('standardscaler',\n",
              "                 StandardScaler(copy=True, with_mean=True, with_std=True)),\n",
              "                ('extratreesclassifier',\n",
              "                 ExtraTreesClassifier(bootstrap=False, ccp_alpha=0.0,\n",
              "                                      class_weight=None, criterion='gini',\n",
              "                                      max_depth=None, max_features='auto',\n",
              "                                      max_leaf_nodes=None, max_samples=None,\n",
              "                                      min_impurity_decrease=0.0,\n",
              "                                      min_impurity_split=None,\n",
              "                                      min_samples_leaf=1, min_samples_split=2,\n",
              "                                      min_weight_fraction_leaf=0.0,\n",
              "                                      n_estimators=500, n_jobs=None,\n",
              "                                      oob_score=False, random_state=None,\n",
              "                                      verbose=0, warm_start=False))],\n",
              "         verbose=False)"
            ]
          },
          "metadata": {
            "tags": []
          },
          "execution_count": 31
        }
      ]
    },
    {
      "cell_type": "code",
      "metadata": {
        "id": "PNaN1vcLBJdY",
        "outputId": "99c37b8a-24fb-4117-c75e-5156e7849443",
        "colab": {
          "base_uri": "https://localhost:8080/"
        }
      },
      "source": [
        "pipe_all_smoker = make_pipeline(StandardScaler(), RandomForestClassifier(max_depth=None, min_samples_leaf=1, min_samples_split=3, n_estimators=500))\n",
        "pipe_all_smoker.fit(X_train_all4, y_train_smoker)"
      ],
      "execution_count": 32,
      "outputs": [
        {
          "output_type": "execute_result",
          "data": {
            "text/plain": [
              "Pipeline(memory=None,\n",
              "         steps=[('standardscaler',\n",
              "                 StandardScaler(copy=True, with_mean=True, with_std=True)),\n",
              "                ('randomforestclassifier',\n",
              "                 RandomForestClassifier(bootstrap=True, ccp_alpha=0.0,\n",
              "                                        class_weight=None, criterion='gini',\n",
              "                                        max_depth=None, max_features='auto',\n",
              "                                        max_leaf_nodes=None, max_samples=None,\n",
              "                                        min_impurity_decrease=0.0,\n",
              "                                        min_impurity_split=None,\n",
              "                                        min_samples_leaf=1, min_samples_split=3,\n",
              "                                        min_weight_fraction_leaf=0.0,\n",
              "                                        n_estimators=500, n_jobs=None,\n",
              "                                        oob_score=False, random_state=None,\n",
              "                                        verbose=0, warm_start=False))],\n",
              "         verbose=False)"
            ]
          },
          "metadata": {
            "tags": []
          },
          "execution_count": 32
        }
      ]
    },
    {
      "cell_type": "code",
      "metadata": {
        "id": "eJLQuO9CBJdc"
      },
      "source": [
        "# getting predictions for each model\n",
        "tobacco_all_preds = pipe_all_tobacco.predict(X_test_all)\n",
        "activity_all_preds = pipe_all_activity.predict(X_test_all2)\n",
        "health_all_preds = pipe_all_health.predict(X_test_all3)\n",
        "smoker_all_preds = pipe_all_smoker.predict(X_test_all4)\n",
        "\n",
        "# calculating the precision score for each model\n",
        "tobacco_all_prec = precision_score(y_test_tobacco, tobacco_all_preds, average='micro')\n",
        "activity_all_prec = precision_score(y_test_activity, activity_all_preds, average='micro')\n",
        "health_all_prec = precision_score(y_test_health, health_all_preds, average='micro')\n",
        "smoker_all_prec = precision_score(y_test_smoker, smoker_all_preds, average='micro')"
      ],
      "execution_count": 33,
      "outputs": []
    },
    {
      "cell_type": "code",
      "metadata": {
        "id": "3zYSBJlL5wIf",
        "outputId": "9d892c2f-cc31-4fea-8ca4-dd81c7d0cc7c",
        "colab": {
          "base_uri": "https://localhost:8080/"
        }
      },
      "source": [
        "print(f'training accuracy for tobacco: {cross_val_score(pipe_all_tobacco, X_train_all, y_train_tobacco, cv=3).mean()}')\n",
        "print(f'testing accuracy for tobacco: {cross_val_score(pipe_all_tobacco, X_test_all, y_test_tobacco, cv=3).mean()}')\n",
        "print(f'Precision for tobacco: {tobacco_all_prec}')"
      ],
      "execution_count": 34,
      "outputs": [
        {
          "output_type": "stream",
          "text": [
            "training accuracy for tobacco: 0.9925162524349317\n",
            "testing accuracy for tobacco: 0.9881891111010029\n",
            "Precision for tobacco: 0.9923255650214743\n"
          ],
          "name": "stdout"
        }
      ]
    },
    {
      "cell_type": "code",
      "metadata": {
        "id": "EO5eIAP25wPJ",
        "outputId": "743058dc-d727-4d64-ee38-732d246eb4b3",
        "colab": {
          "base_uri": "https://localhost:8080/"
        }
      },
      "source": [
        "print(f'training accuracy for activity: {cross_val_score(pipe_all_activity, X_train_all2, y_train_activity, cv=3).mean()}')\n",
        "print(f'testing accuracy for activity: {cross_val_score(pipe_all_activity,X_test_all2, y_test_activity, cv=3).mean()}')\n",
        "print(f'Precision for activity: {activity_all_prec}')"
      ],
      "execution_count": 35,
      "outputs": [
        {
          "output_type": "stream",
          "text": [
            "training accuracy for activity: 0.8816702672803366\n",
            "testing accuracy for activity: 0.870880884171637\n",
            "Precision for activity: 0.8804928067126911\n"
          ],
          "name": "stdout"
        }
      ]
    },
    {
      "cell_type": "code",
      "metadata": {
        "id": "D8QQzjcUBJdg",
        "outputId": "2b7ff96d-b015-4ef7-e2e8-6a1cbe2c0080",
        "colab": {
          "base_uri": "https://localhost:8080/"
        }
      },
      "source": [
        "print(f'training accuracy for health: {cross_val_score(pipe_all_health, X_train_all3, y_train_health, cv=3).mean()}')\n",
        "print(f'testing accuracy for health: {cross_val_score(pipe_all_health, X_test_all3, y_test_health, cv=3).mean()}')\n",
        "print(f'Precision for health: {health_all_prec}')"
      ],
      "execution_count": 36,
      "outputs": [
        {
          "output_type": "stream",
          "text": [
            "training accuracy for health: 0.9520830845595206\n",
            "testing accuracy for health: 0.9295727547475048\n",
            "Precision for health: 0.9587376275527961\n"
          ],
          "name": "stdout"
        }
      ]
    },
    {
      "cell_type": "code",
      "metadata": {
        "id": "C9kwHOZbBJdk",
        "outputId": "8a186156-0355-452b-d4eb-a86a273cd8b6",
        "colab": {
          "base_uri": "https://localhost:8080/"
        }
      },
      "source": [
        "print(f'training accuracy for smoker: {cross_val_score(pipe_all_smoker, X_train_all4, y_train_smoker, cv=3).mean()}')\n",
        "print(f'testing accuracy for smoker: {cross_val_score(pipe_all_smoker, X_test_all4, y_test_smoker, cv=3).mean()}')\n",
        "print(f'Precision for smoker: {smoker_all_prec}')"
      ],
      "execution_count": 37,
      "outputs": [
        {
          "output_type": "stream",
          "text": [
            "training accuracy for smoker: 0.7984281694306355\n",
            "testing accuracy for smoker: 0.7264424533679987\n",
            "Precision for smoker: 0.8177631063907518\n"
          ],
          "name": "stdout"
        }
      ]
    },
    {
      "cell_type": "code",
      "metadata": {
        "id": "-hS47o3m5LHS"
      },
      "source": [
        "def no_k(pipe, model_name):\n",
        "  '''Function that takes in a pipe that has been fit without feature selection\n",
        "   to data and outputs a dataframe with feature importances\n",
        "   \n",
        "  model: model that has been fitted\n",
        "  model_name: string name of the model (should not include spaces between words)'''\n",
        "\n",
        "  #getting features importances\n",
        "  df = pd.DataFrame({'features': X_all.columns.values, 'importance':pipe.named_steps[model_name].feature_importances_})\n",
        "  df = df.sort_values('importance', ascending = False)\n",
        "\n",
        "  return df"
      ],
      "execution_count": 47,
      "outputs": []
    },
    {
      "cell_type": "code",
      "metadata": {
        "id": "R0SFL8uXfOI3"
      },
      "source": [
        "tobacco_all = no_k(pipe_all_tobacco, 'randomforestclassifier')"
      ],
      "execution_count": 48,
      "outputs": []
    },
    {
      "cell_type": "code",
      "metadata": {
        "id": "RjKSE8xz7B62",
        "outputId": "d762e843-6a91-4410-b535-5d91e5f960f3",
        "colab": {
          "base_uri": "https://localhost:8080/",
          "height": 347
        }
      },
      "source": [
        "tobacco_all.head(10)"
      ],
      "execution_count": 49,
      "outputs": [
        {
          "output_type": "execute_result",
          "data": {
            "text/html": [
              "<div>\n",
              "<style scoped>\n",
              "    .dataframe tbody tr th:only-of-type {\n",
              "        vertical-align: middle;\n",
              "    }\n",
              "\n",
              "    .dataframe tbody tr th {\n",
              "        vertical-align: top;\n",
              "    }\n",
              "\n",
              "    .dataframe thead th {\n",
              "        text-align: right;\n",
              "    }\n",
              "</style>\n",
              "<table border=\"1\" class=\"dataframe\">\n",
              "  <thead>\n",
              "    <tr style=\"text-align: right;\">\n",
              "      <th></th>\n",
              "      <th>features</th>\n",
              "      <th>importance</th>\n",
              "    </tr>\n",
              "  </thead>\n",
              "  <tbody>\n",
              "    <tr>\n",
              "      <th>36</th>\n",
              "      <td>SEX_2.0</td>\n",
              "      <td>0.074525</td>\n",
              "    </tr>\n",
              "    <tr>\n",
              "      <th>44</th>\n",
              "      <td>ACEPRISN_2.0</td>\n",
              "      <td>0.036039</td>\n",
              "    </tr>\n",
              "    <tr>\n",
              "      <th>62</th>\n",
              "      <td>ACEHVSEX_1.0</td>\n",
              "      <td>0.033530</td>\n",
              "    </tr>\n",
              "    <tr>\n",
              "      <th>59</th>\n",
              "      <td>ACETTHEM_1.0</td>\n",
              "      <td>0.031563</td>\n",
              "    </tr>\n",
              "    <tr>\n",
              "      <th>11</th>\n",
              "      <td>_STATE_47.0</td>\n",
              "      <td>0.031433</td>\n",
              "    </tr>\n",
              "    <tr>\n",
              "      <th>38</th>\n",
              "      <td>ACEDEPRS_2.0</td>\n",
              "      <td>0.023525</td>\n",
              "    </tr>\n",
              "    <tr>\n",
              "      <th>42</th>\n",
              "      <td>ACEDRUGS_2.0</td>\n",
              "      <td>0.022641</td>\n",
              "    </tr>\n",
              "    <tr>\n",
              "      <th>56</th>\n",
              "      <td>ACETOUCH_1.0</td>\n",
              "      <td>0.020875</td>\n",
              "    </tr>\n",
              "    <tr>\n",
              "      <th>47</th>\n",
              "      <td>ACEPUNCH_1.0</td>\n",
              "      <td>0.020193</td>\n",
              "    </tr>\n",
              "    <tr>\n",
              "      <th>50</th>\n",
              "      <td>ACEHURT_1.0</td>\n",
              "      <td>0.019651</td>\n",
              "    </tr>\n",
              "  </tbody>\n",
              "</table>\n",
              "</div>"
            ],
            "text/plain": [
              "        features  importance\n",
              "36       SEX_2.0    0.074525\n",
              "44  ACEPRISN_2.0    0.036039\n",
              "62  ACEHVSEX_1.0    0.033530\n",
              "59  ACETTHEM_1.0    0.031563\n",
              "11   _STATE_47.0    0.031433\n",
              "38  ACEDEPRS_2.0    0.023525\n",
              "42  ACEDRUGS_2.0    0.022641\n",
              "56  ACETOUCH_1.0    0.020875\n",
              "47  ACEPUNCH_1.0    0.020193\n",
              "50   ACEHURT_1.0    0.019651"
            ]
          },
          "metadata": {
            "tags": []
          },
          "execution_count": 49
        }
      ]
    },
    {
      "cell_type": "code",
      "metadata": {
        "id": "WnB7WpZqiCD2",
        "outputId": "7d40e9ad-f6ff-4982-f439-c71f843b54fd",
        "colab": {
          "base_uri": "https://localhost:8080/",
          "height": 347
        }
      },
      "source": [
        "# looking at last 10\n",
        "tobacco_all.tail(10)"
      ],
      "execution_count": 50,
      "outputs": [
        {
          "output_type": "execute_result",
          "data": {
            "text/html": [
              "<div>\n",
              "<style scoped>\n",
              "    .dataframe tbody tr th:only-of-type {\n",
              "        vertical-align: middle;\n",
              "    }\n",
              "\n",
              "    .dataframe tbody tr th {\n",
              "        vertical-align: top;\n",
              "    }\n",
              "\n",
              "    .dataframe thead th {\n",
              "        text-align: right;\n",
              "    }\n",
              "</style>\n",
              "<table border=\"1\" class=\"dataframe\">\n",
              "  <thead>\n",
              "    <tr style=\"text-align: right;\">\n",
              "      <th></th>\n",
              "      <th>features</th>\n",
              "      <th>importance</th>\n",
              "    </tr>\n",
              "  </thead>\n",
              "  <tbody>\n",
              "    <tr>\n",
              "      <th>134</th>\n",
              "      <td>_IMPAGE_84.0</td>\n",
              "      <td>3.152713e-04</td>\n",
              "    </tr>\n",
              "    <tr>\n",
              "      <th>136</th>\n",
              "      <td>_IMPAGE_86.0</td>\n",
              "      <td>1.803552e-04</td>\n",
              "    </tr>\n",
              "    <tr>\n",
              "      <th>138</th>\n",
              "      <td>_IMPAGE_89.0</td>\n",
              "      <td>1.497596e-04</td>\n",
              "    </tr>\n",
              "    <tr>\n",
              "      <th>141</th>\n",
              "      <td>_IMPAGE_92.0</td>\n",
              "      <td>1.269208e-04</td>\n",
              "    </tr>\n",
              "    <tr>\n",
              "      <th>142</th>\n",
              "      <td>_IMPAGE_93.0</td>\n",
              "      <td>9.877894e-05</td>\n",
              "    </tr>\n",
              "    <tr>\n",
              "      <th>144</th>\n",
              "      <td>_IMPAGE_95.0</td>\n",
              "      <td>5.636152e-05</td>\n",
              "    </tr>\n",
              "    <tr>\n",
              "      <th>143</th>\n",
              "      <td>_IMPAGE_94.0</td>\n",
              "      <td>4.917897e-06</td>\n",
              "    </tr>\n",
              "    <tr>\n",
              "      <th>145</th>\n",
              "      <td>_IMPAGE_96.0</td>\n",
              "      <td>8.844045e-07</td>\n",
              "    </tr>\n",
              "    <tr>\n",
              "      <th>146</th>\n",
              "      <td>_IMPAGE_97.0</td>\n",
              "      <td>8.234064e-07</td>\n",
              "    </tr>\n",
              "    <tr>\n",
              "      <th>147</th>\n",
              "      <td>_IMPAGE_98.0</td>\n",
              "      <td>2.010795e-07</td>\n",
              "    </tr>\n",
              "  </tbody>\n",
              "</table>\n",
              "</div>"
            ],
            "text/plain": [
              "         features    importance\n",
              "134  _IMPAGE_84.0  3.152713e-04\n",
              "136  _IMPAGE_86.0  1.803552e-04\n",
              "138  _IMPAGE_89.0  1.497596e-04\n",
              "141  _IMPAGE_92.0  1.269208e-04\n",
              "142  _IMPAGE_93.0  9.877894e-05\n",
              "144  _IMPAGE_95.0  5.636152e-05\n",
              "143  _IMPAGE_94.0  4.917897e-06\n",
              "145  _IMPAGE_96.0  8.844045e-07\n",
              "146  _IMPAGE_97.0  8.234064e-07\n",
              "147  _IMPAGE_98.0  2.010795e-07"
            ]
          },
          "metadata": {
            "tags": []
          },
          "execution_count": 50
        }
      ]
    },
    {
      "cell_type": "markdown",
      "metadata": {
        "id": "1xTApz4P93J4"
      },
      "source": [
        "**Looks like being a senior citizen has the least amount of influence on smokeless tobacco usage**"
      ]
    },
    {
      "cell_type": "code",
      "metadata": {
        "id": "fSAip80f4Wzl",
        "outputId": "a391ee11-4422-41e2-c0ff-e88e19eb5b31",
        "colab": {
          "base_uri": "https://localhost:8080/",
          "height": 566
        }
      },
      "source": [
        "def top_bottom(df, color):\n",
        "  ''' Function to graph Top 10 and Last 10 Features based on importance'''\n",
        "  top_bottom = pd.merge(df.head(10), df.tail(10), how='outer')\n",
        "  top_bottom.plot(kind='barh', figsize=(12, 9), color=color)\n",
        "  plt.yticks(ticks=top_bottom.index, labels=top_bottom.features)\n",
        "  plt.xlabel('Importance')\n",
        "  plt.ylabel('Feature')\n",
        "  plt.legend([]);\n",
        "  return\n",
        "\n",
        "top_bottom(tobacco_all, color = 'salmon')\n",
        "plt.title('Top 10 and Last 10 Features that are important to determining Smokeless Tobacco Usage');\n",
        "\n",
        "plt.savefig('tobacco_all_ungrouped.jpg')"
      ],
      "execution_count": 51,
      "outputs": [
        {
          "output_type": "display_data",
          "data": {
            "image/png": "[encoded data removed]",
            "text/plain": [
              "<Figure size 864x648 with 1 Axes>"
            ]
          },
          "metadata": {
            "tags": [],
            "needs_background": "light"
          }
        }
      ]
    },
    {
      "cell_type": "code",
      "metadata": {
        "id": "dpBnCAsC7JKm",
        "outputId": "c6fac55b-c69f-4bb2-b7c2-ddbd9c80fb54",
        "colab": {
          "base_uri": "https://localhost:8080/",
          "height": 347
        }
      },
      "source": [
        "activity_all = no_k(pipe_all_activity, 'xgbclassifier')\n",
        "activity_all.head(10)"
      ],
      "execution_count": 53,
      "outputs": [
        {
          "output_type": "execute_result",
          "data": {
            "text/html": [
              "<div>\n",
              "<style scoped>\n",
              "    .dataframe tbody tr th:only-of-type {\n",
              "        vertical-align: middle;\n",
              "    }\n",
              "\n",
              "    .dataframe tbody tr th {\n",
              "        vertical-align: top;\n",
              "    }\n",
              "\n",
              "    .dataframe thead th {\n",
              "        text-align: right;\n",
              "    }\n",
              "</style>\n",
              "<table border=\"1\" class=\"dataframe\">\n",
              "  <thead>\n",
              "    <tr style=\"text-align: right;\">\n",
              "      <th></th>\n",
              "      <th>features</th>\n",
              "      <th>importance</th>\n",
              "    </tr>\n",
              "  </thead>\n",
              "  <tbody>\n",
              "    <tr>\n",
              "      <th>62</th>\n",
              "      <td>ACEHVSEX_1.0</td>\n",
              "      <td>0.084915</td>\n",
              "    </tr>\n",
              "    <tr>\n",
              "      <th>11</th>\n",
              "      <td>_STATE_47.0</td>\n",
              "      <td>0.051749</td>\n",
              "    </tr>\n",
              "    <tr>\n",
              "      <th>27</th>\n",
              "      <td>EMPLOY_1.0</td>\n",
              "      <td>0.026642</td>\n",
              "    </tr>\n",
              "    <tr>\n",
              "      <th>23</th>\n",
              "      <td>MARITAL_3.0</td>\n",
              "      <td>0.022939</td>\n",
              "    </tr>\n",
              "    <tr>\n",
              "      <th>30</th>\n",
              "      <td>EMPLOY_4.0</td>\n",
              "      <td>0.021858</td>\n",
              "    </tr>\n",
              "    <tr>\n",
              "      <th>13</th>\n",
              "      <td>_STATE_50.0</td>\n",
              "      <td>0.021680</td>\n",
              "    </tr>\n",
              "    <tr>\n",
              "      <th>40</th>\n",
              "      <td>ACEDRINK_2.0</td>\n",
              "      <td>0.019759</td>\n",
              "    </tr>\n",
              "    <tr>\n",
              "      <th>14</th>\n",
              "      <td>_STATE_53.0</td>\n",
              "      <td>0.016804</td>\n",
              "    </tr>\n",
              "    <tr>\n",
              "      <th>31</th>\n",
              "      <td>EMPLOY_5.0</td>\n",
              "      <td>0.016325</td>\n",
              "    </tr>\n",
              "    <tr>\n",
              "      <th>28</th>\n",
              "      <td>EMPLOY_2.0</td>\n",
              "      <td>0.016278</td>\n",
              "    </tr>\n",
              "  </tbody>\n",
              "</table>\n",
              "</div>"
            ],
            "text/plain": [
              "        features  importance\n",
              "62  ACEHVSEX_1.0    0.084915\n",
              "11   _STATE_47.0    0.051749\n",
              "27    EMPLOY_1.0    0.026642\n",
              "23   MARITAL_3.0    0.022939\n",
              "30    EMPLOY_4.0    0.021858\n",
              "13   _STATE_50.0    0.021680\n",
              "40  ACEDRINK_2.0    0.019759\n",
              "14   _STATE_53.0    0.016804\n",
              "31    EMPLOY_5.0    0.016325\n",
              "28    EMPLOY_2.0    0.016278"
            ]
          },
          "metadata": {
            "tags": []
          },
          "execution_count": 53
        }
      ]
    },
    {
      "cell_type": "code",
      "metadata": {
        "id": "QAgRKc7e7JTd",
        "outputId": "94de7232-a084-4c9c-c691-2d3d80a39017",
        "colab": {
          "base_uri": "https://localhost:8080/",
          "height": 347
        }
      },
      "source": [
        "activity_all.tail(10)"
      ],
      "execution_count": 54,
      "outputs": [
        {
          "output_type": "execute_result",
          "data": {
            "text/html": [
              "<div>\n",
              "<style scoped>\n",
              "    .dataframe tbody tr th:only-of-type {\n",
              "        vertical-align: middle;\n",
              "    }\n",
              "\n",
              "    .dataframe tbody tr th {\n",
              "        vertical-align: top;\n",
              "    }\n",
              "\n",
              "    .dataframe thead th {\n",
              "        text-align: right;\n",
              "    }\n",
              "</style>\n",
              "<table border=\"1\" class=\"dataframe\">\n",
              "  <thead>\n",
              "    <tr style=\"text-align: right;\">\n",
              "      <th></th>\n",
              "      <th>features</th>\n",
              "      <th>importance</th>\n",
              "    </tr>\n",
              "  </thead>\n",
              "  <tbody>\n",
              "    <tr>\n",
              "      <th>73</th>\n",
              "      <td>_IMPAGE_22.0</td>\n",
              "      <td>0.000730</td>\n",
              "    </tr>\n",
              "    <tr>\n",
              "      <th>71</th>\n",
              "      <td>_IMPAGE_20.0</td>\n",
              "      <td>0.000677</td>\n",
              "    </tr>\n",
              "    <tr>\n",
              "      <th>147</th>\n",
              "      <td>_IMPAGE_98.0</td>\n",
              "      <td>0.000639</td>\n",
              "    </tr>\n",
              "    <tr>\n",
              "      <th>74</th>\n",
              "      <td>_IMPAGE_23.0</td>\n",
              "      <td>0.000478</td>\n",
              "    </tr>\n",
              "    <tr>\n",
              "      <th>153</th>\n",
              "      <td>_PRACE_6.0</td>\n",
              "      <td>0.000474</td>\n",
              "    </tr>\n",
              "    <tr>\n",
              "      <th>43</th>\n",
              "      <td>ACEPRISN_1.0</td>\n",
              "      <td>0.000190</td>\n",
              "    </tr>\n",
              "    <tr>\n",
              "      <th>146</th>\n",
              "      <td>_IMPAGE_97.0</td>\n",
              "      <td>0.000000</td>\n",
              "    </tr>\n",
              "    <tr>\n",
              "      <th>76</th>\n",
              "      <td>_IMPAGE_25.0</td>\n",
              "      <td>0.000000</td>\n",
              "    </tr>\n",
              "    <tr>\n",
              "      <th>145</th>\n",
              "      <td>_IMPAGE_96.0</td>\n",
              "      <td>0.000000</td>\n",
              "    </tr>\n",
              "    <tr>\n",
              "      <th>143</th>\n",
              "      <td>_IMPAGE_94.0</td>\n",
              "      <td>0.000000</td>\n",
              "    </tr>\n",
              "  </tbody>\n",
              "</table>\n",
              "</div>"
            ],
            "text/plain": [
              "         features  importance\n",
              "73   _IMPAGE_22.0    0.000730\n",
              "71   _IMPAGE_20.0    0.000677\n",
              "147  _IMPAGE_98.0    0.000639\n",
              "74   _IMPAGE_23.0    0.000478\n",
              "153    _PRACE_6.0    0.000474\n",
              "43   ACEPRISN_1.0    0.000190\n",
              "146  _IMPAGE_97.0    0.000000\n",
              "76   _IMPAGE_25.0    0.000000\n",
              "145  _IMPAGE_96.0    0.000000\n",
              "143  _IMPAGE_94.0    0.000000"
            ]
          },
          "metadata": {
            "tags": []
          },
          "execution_count": 54
        }
      ]
    },
    {
      "cell_type": "code",
      "metadata": {
        "id": "qmRG5kVK7JbA",
        "outputId": "71eddf2f-718d-4509-f868-9247ee7a1ffa",
        "colab": {
          "base_uri": "https://localhost:8080/",
          "height": 566
        }
      },
      "source": [
        "top_bottom(activity_all, color = 'darkorange')\n",
        "plt.title('Top 10 and Last 10 Features that are important to determining Activity Limitations for XGBoost');\n",
        "\n",
        "plt.savefig('activity_all_ungrouped.jpg')"
      ],
      "execution_count": 55,
      "outputs": [
        {
          "output_type": "display_data",
          "data": {
            "image/png": "[encoded data removed]",
            "text/plain": [
              "<Figure size 864x648 with 1 Axes>"
            ]
          },
          "metadata": {
            "tags": [],
            "needs_background": "light"
          }
        }
      ]
    },
    {
      "cell_type": "code",
      "metadata": {
        "id": "Lq855LRo7Jj-",
        "outputId": "997d0bc4-1b49-4952-f562-aba7fd7a104a",
        "colab": {
          "base_uri": "https://localhost:8080/",
          "height": 347
        }
      },
      "source": [
        "smoker_all = no_k(pipe_all_smoker, 'randomforestclassifier')\n",
        "smoker_all.head(10)"
      ],
      "execution_count": 56,
      "outputs": [
        {
          "output_type": "execute_result",
          "data": {
            "text/html": [
              "<div>\n",
              "<style scoped>\n",
              "    .dataframe tbody tr th:only-of-type {\n",
              "        vertical-align: middle;\n",
              "    }\n",
              "\n",
              "    .dataframe tbody tr th {\n",
              "        vertical-align: top;\n",
              "    }\n",
              "\n",
              "    .dataframe thead th {\n",
              "        text-align: right;\n",
              "    }\n",
              "</style>\n",
              "<table border=\"1\" class=\"dataframe\">\n",
              "  <thead>\n",
              "    <tr style=\"text-align: right;\">\n",
              "      <th></th>\n",
              "      <th>features</th>\n",
              "      <th>importance</th>\n",
              "    </tr>\n",
              "  </thead>\n",
              "  <tbody>\n",
              "    <tr>\n",
              "      <th>0</th>\n",
              "      <td>PHYSHLTH</td>\n",
              "      <td>0.025168</td>\n",
              "    </tr>\n",
              "    <tr>\n",
              "      <th>36</th>\n",
              "      <td>SEX_2.0</td>\n",
              "      <td>0.024493</td>\n",
              "    </tr>\n",
              "    <tr>\n",
              "      <th>1</th>\n",
              "      <td>MENTHLTH</td>\n",
              "      <td>0.023297</td>\n",
              "    </tr>\n",
              "    <tr>\n",
              "      <th>27</th>\n",
              "      <td>EMPLOY_1.0</td>\n",
              "      <td>0.020927</td>\n",
              "    </tr>\n",
              "    <tr>\n",
              "      <th>2</th>\n",
              "      <td>CHILDREN</td>\n",
              "      <td>0.019789</td>\n",
              "    </tr>\n",
              "    <tr>\n",
              "      <th>157</th>\n",
              "      <td>_EDUCAG_4.0</td>\n",
              "      <td>0.019748</td>\n",
              "    </tr>\n",
              "    <tr>\n",
              "      <th>11</th>\n",
              "      <td>_STATE_47.0</td>\n",
              "      <td>0.018181</td>\n",
              "    </tr>\n",
              "    <tr>\n",
              "      <th>33</th>\n",
              "      <td>RENTHOM1_1.0</td>\n",
              "      <td>0.017815</td>\n",
              "    </tr>\n",
              "    <tr>\n",
              "      <th>21</th>\n",
              "      <td>MARITAL_1.0</td>\n",
              "      <td>0.016908</td>\n",
              "    </tr>\n",
              "    <tr>\n",
              "      <th>162</th>\n",
              "      <td>_INCOMG_5.0</td>\n",
              "      <td>0.016637</td>\n",
              "    </tr>\n",
              "  </tbody>\n",
              "</table>\n",
              "</div>"
            ],
            "text/plain": [
              "         features  importance\n",
              "0        PHYSHLTH    0.025168\n",
              "36        SEX_2.0    0.024493\n",
              "1        MENTHLTH    0.023297\n",
              "27     EMPLOY_1.0    0.020927\n",
              "2        CHILDREN    0.019789\n",
              "157   _EDUCAG_4.0    0.019748\n",
              "11    _STATE_47.0    0.018181\n",
              "33   RENTHOM1_1.0    0.017815\n",
              "21    MARITAL_1.0    0.016908\n",
              "162   _INCOMG_5.0    0.016637"
            ]
          },
          "metadata": {
            "tags": []
          },
          "execution_count": 56
        }
      ]
    },
    {
      "cell_type": "code",
      "metadata": {
        "id": "RpbJosbf7Jos",
        "outputId": "b4b4c5f0-fcd8-4178-c7cd-cafbdde22c7f",
        "colab": {
          "base_uri": "https://localhost:8080/",
          "height": 347
        }
      },
      "source": [
        "smoker_all.tail(10)"
      ],
      "execution_count": 57,
      "outputs": [
        {
          "output_type": "execute_result",
          "data": {
            "text/html": [
              "<div>\n",
              "<style scoped>\n",
              "    .dataframe tbody tr th:only-of-type {\n",
              "        vertical-align: middle;\n",
              "    }\n",
              "\n",
              "    .dataframe tbody tr th {\n",
              "        vertical-align: top;\n",
              "    }\n",
              "\n",
              "    .dataframe thead th {\n",
              "        text-align: right;\n",
              "    }\n",
              "</style>\n",
              "<table border=\"1\" class=\"dataframe\">\n",
              "  <thead>\n",
              "    <tr style=\"text-align: right;\">\n",
              "      <th></th>\n",
              "      <th>features</th>\n",
              "      <th>importance</th>\n",
              "    </tr>\n",
              "  </thead>\n",
              "  <tbody>\n",
              "    <tr>\n",
              "      <th>70</th>\n",
              "      <td>_IMPAGE_19.0</td>\n",
              "      <td>0.000749</td>\n",
              "    </tr>\n",
              "    <tr>\n",
              "      <th>18</th>\n",
              "      <td>DISPCODE_1200.0</td>\n",
              "      <td>0.000733</td>\n",
              "    </tr>\n",
              "    <tr>\n",
              "      <th>69</th>\n",
              "      <td>_IMPAGE_18.0</td>\n",
              "      <td>0.000646</td>\n",
              "    </tr>\n",
              "    <tr>\n",
              "      <th>142</th>\n",
              "      <td>_IMPAGE_93.0</td>\n",
              "      <td>0.000378</td>\n",
              "    </tr>\n",
              "    <tr>\n",
              "      <th>140</th>\n",
              "      <td>_IMPAGE_91.0</td>\n",
              "      <td>0.000306</td>\n",
              "    </tr>\n",
              "    <tr>\n",
              "      <th>145</th>\n",
              "      <td>_IMPAGE_96.0</td>\n",
              "      <td>0.000192</td>\n",
              "    </tr>\n",
              "    <tr>\n",
              "      <th>143</th>\n",
              "      <td>_IMPAGE_94.0</td>\n",
              "      <td>0.000178</td>\n",
              "    </tr>\n",
              "    <tr>\n",
              "      <th>144</th>\n",
              "      <td>_IMPAGE_95.0</td>\n",
              "      <td>0.000053</td>\n",
              "    </tr>\n",
              "    <tr>\n",
              "      <th>146</th>\n",
              "      <td>_IMPAGE_97.0</td>\n",
              "      <td>0.000011</td>\n",
              "    </tr>\n",
              "    <tr>\n",
              "      <th>147</th>\n",
              "      <td>_IMPAGE_98.0</td>\n",
              "      <td>0.000005</td>\n",
              "    </tr>\n",
              "  </tbody>\n",
              "</table>\n",
              "</div>"
            ],
            "text/plain": [
              "            features  importance\n",
              "70      _IMPAGE_19.0    0.000749\n",
              "18   DISPCODE_1200.0    0.000733\n",
              "69      _IMPAGE_18.0    0.000646\n",
              "142     _IMPAGE_93.0    0.000378\n",
              "140     _IMPAGE_91.0    0.000306\n",
              "145     _IMPAGE_96.0    0.000192\n",
              "143     _IMPAGE_94.0    0.000178\n",
              "144     _IMPAGE_95.0    0.000053\n",
              "146     _IMPAGE_97.0    0.000011\n",
              "147     _IMPAGE_98.0    0.000005"
            ]
          },
          "metadata": {
            "tags": []
          },
          "execution_count": 57
        }
      ]
    },
    {
      "cell_type": "code",
      "metadata": {
        "id": "IwXbkjr57Jud",
        "outputId": "2c1df7d9-1314-42d1-b7e0-700ce208e96b",
        "colab": {
          "base_uri": "https://localhost:8080/",
          "height": 566
        }
      },
      "source": [
        "top_bottom(smoker_all, color='deeppink')\n",
        "plt.title('Top 10 and Last 10 Features that are important to determining Smoker Status');\n",
        "\n",
        "plt.savefig('smoker_all_ungrouped.jpg')"
      ],
      "execution_count": 58,
      "outputs": [
        {
          "output_type": "display_data",
          "data": {
            "image/png": "[encoded data removed]",
            "text/plain": [
              "<Figure size 864x648 with 1 Axes>"
            ]
          },
          "metadata": {
            "tags": [],
            "needs_background": "light"
          }
        }
      ]
    },
    {
      "cell_type": "code",
      "metadata": {
        "id": "1t859vNCikYQ"
      },
      "source": [
        "# getting features selected by 'selectkbest' for health\n",
        "features_health_all = pipe_all_health.named_steps['selectkbest'].get_support(indices=True) "
      ],
      "execution_count": 59,
      "outputs": []
    },
    {
      "cell_type": "code",
      "metadata": {
        "id": "naiLfIBjbKJP"
      },
      "source": [
        "# getting column names for features selected by 'selectkbest' for health\n",
        "X_cols_health_all = X_all.columns.values[features_health_all]"
      ],
      "execution_count": 60,
      "outputs": []
    },
    {
      "cell_type": "code",
      "metadata": {
        "id": "OumKSt_4cpzh"
      },
      "source": [
        "# getting each feature's importance for health\n",
        "coefs_health_all = pipe_all_health.named_steps['extratreesclassifier'].feature_importances_"
      ],
      "execution_count": 61,
      "outputs": []
    },
    {
      "cell_type": "code",
      "metadata": {
        "id": "9nkWh3qDkRD3",
        "outputId": "b760069c-5d98-46fa-a483-0b2c0f7b9933",
        "colab": {
          "base_uri": "https://localhost:8080/",
          "height": 347
        }
      },
      "source": [
        "# feature importances for self-reported health\n",
        "health_all = pd.DataFrame({'features': X_cols_health_all, 'importance':coefs_health_all})\n",
        "health_all = health_all.sort_values('importance', ascending = False)\n",
        "health_all.head(10)"
      ],
      "execution_count": 62,
      "outputs": [
        {
          "output_type": "execute_result",
          "data": {
            "text/html": [
              "<div>\n",
              "<style scoped>\n",
              "    .dataframe tbody tr th:only-of-type {\n",
              "        vertical-align: middle;\n",
              "    }\n",
              "\n",
              "    .dataframe tbody tr th {\n",
              "        vertical-align: top;\n",
              "    }\n",
              "\n",
              "    .dataframe thead th {\n",
              "        text-align: right;\n",
              "    }\n",
              "</style>\n",
              "<table border=\"1\" class=\"dataframe\">\n",
              "  <thead>\n",
              "    <tr style=\"text-align: right;\">\n",
              "      <th></th>\n",
              "      <th>features</th>\n",
              "      <th>importance</th>\n",
              "    </tr>\n",
              "  </thead>\n",
              "  <tbody>\n",
              "    <tr>\n",
              "      <th>0</th>\n",
              "      <td>PHYSHLTH</td>\n",
              "      <td>0.078513</td>\n",
              "    </tr>\n",
              "    <tr>\n",
              "      <th>26</th>\n",
              "      <td>EMPLOY_1.0</td>\n",
              "      <td>0.037962</td>\n",
              "    </tr>\n",
              "    <tr>\n",
              "      <th>148</th>\n",
              "      <td>_INCOMG_5.0</td>\n",
              "      <td>0.031658</td>\n",
              "    </tr>\n",
              "    <tr>\n",
              "      <th>1</th>\n",
              "      <td>MENTHLTH</td>\n",
              "      <td>0.024787</td>\n",
              "    </tr>\n",
              "    <tr>\n",
              "      <th>35</th>\n",
              "      <td>SEX_2.0</td>\n",
              "      <td>0.021857</td>\n",
              "    </tr>\n",
              "    <tr>\n",
              "      <th>150</th>\n",
              "      <td>_TOTINDA_2.0</td>\n",
              "      <td>0.021707</td>\n",
              "    </tr>\n",
              "    <tr>\n",
              "      <th>144</th>\n",
              "      <td>_EDUCAG_4.0</td>\n",
              "      <td>0.021397</td>\n",
              "    </tr>\n",
              "    <tr>\n",
              "      <th>149</th>\n",
              "      <td>_TOTINDA_1.0</td>\n",
              "      <td>0.021248</td>\n",
              "    </tr>\n",
              "    <tr>\n",
              "      <th>32</th>\n",
              "      <td>RENTHOM1_1.0</td>\n",
              "      <td>0.019908</td>\n",
              "    </tr>\n",
              "    <tr>\n",
              "      <th>62</th>\n",
              "      <td>MSCODE_1.0</td>\n",
              "      <td>0.019497</td>\n",
              "    </tr>\n",
              "  </tbody>\n",
              "</table>\n",
              "</div>"
            ],
            "text/plain": [
              "         features  importance\n",
              "0        PHYSHLTH    0.078513\n",
              "26     EMPLOY_1.0    0.037962\n",
              "148   _INCOMG_5.0    0.031658\n",
              "1        MENTHLTH    0.024787\n",
              "35        SEX_2.0    0.021857\n",
              "150  _TOTINDA_2.0    0.021707\n",
              "144   _EDUCAG_4.0    0.021397\n",
              "149  _TOTINDA_1.0    0.021248\n",
              "32   RENTHOM1_1.0    0.019908\n",
              "62     MSCODE_1.0    0.019497"
            ]
          },
          "metadata": {
            "tags": []
          },
          "execution_count": 62
        }
      ]
    },
    {
      "cell_type": "code",
      "metadata": {
        "id": "IxyD04QliV79",
        "outputId": "388d1a3c-24c5-4295-caab-bd1504176819",
        "colab": {
          "base_uri": "https://localhost:8080/",
          "height": 347
        }
      },
      "source": [
        "health_all.tail(10)"
      ],
      "execution_count": 63,
      "outputs": [
        {
          "output_type": "execute_result",
          "data": {
            "text/html": [
              "<div>\n",
              "<style scoped>\n",
              "    .dataframe tbody tr th:only-of-type {\n",
              "        vertical-align: middle;\n",
              "    }\n",
              "\n",
              "    .dataframe tbody tr th {\n",
              "        vertical-align: top;\n",
              "    }\n",
              "\n",
              "    .dataframe thead th {\n",
              "        text-align: right;\n",
              "    }\n",
              "</style>\n",
              "<table border=\"1\" class=\"dataframe\">\n",
              "  <thead>\n",
              "    <tr style=\"text-align: right;\">\n",
              "      <th></th>\n",
              "      <th>features</th>\n",
              "      <th>importance</th>\n",
              "    </tr>\n",
              "  </thead>\n",
              "  <tbody>\n",
              "    <tr>\n",
              "      <th>72</th>\n",
              "      <td>_IMPAGE_24.0</td>\n",
              "      <td>0.000592</td>\n",
              "    </tr>\n",
              "    <tr>\n",
              "      <th>67</th>\n",
              "      <td>_IMPAGE_19.0</td>\n",
              "      <td>0.000489</td>\n",
              "    </tr>\n",
              "    <tr>\n",
              "      <th>79</th>\n",
              "      <td>_IMPAGE_31.0</td>\n",
              "      <td>0.000488</td>\n",
              "    </tr>\n",
              "    <tr>\n",
              "      <th>78</th>\n",
              "      <td>_IMPAGE_30.0</td>\n",
              "      <td>0.000442</td>\n",
              "    </tr>\n",
              "    <tr>\n",
              "      <th>69</th>\n",
              "      <td>_IMPAGE_21.0</td>\n",
              "      <td>0.000389</td>\n",
              "    </tr>\n",
              "    <tr>\n",
              "      <th>66</th>\n",
              "      <td>_IMPAGE_18.0</td>\n",
              "      <td>0.000358</td>\n",
              "    </tr>\n",
              "    <tr>\n",
              "      <th>68</th>\n",
              "      <td>_IMPAGE_20.0</td>\n",
              "      <td>0.000320</td>\n",
              "    </tr>\n",
              "    <tr>\n",
              "      <th>70</th>\n",
              "      <td>_IMPAGE_22.0</td>\n",
              "      <td>0.000283</td>\n",
              "    </tr>\n",
              "    <tr>\n",
              "      <th>131</th>\n",
              "      <td>_IMPAGE_92.0</td>\n",
              "      <td>0.000281</td>\n",
              "    </tr>\n",
              "    <tr>\n",
              "      <th>133</th>\n",
              "      <td>_IMPAGE_94.0</td>\n",
              "      <td>0.000171</td>\n",
              "    </tr>\n",
              "  </tbody>\n",
              "</table>\n",
              "</div>"
            ],
            "text/plain": [
              "         features  importance\n",
              "72   _IMPAGE_24.0    0.000592\n",
              "67   _IMPAGE_19.0    0.000489\n",
              "79   _IMPAGE_31.0    0.000488\n",
              "78   _IMPAGE_30.0    0.000442\n",
              "69   _IMPAGE_21.0    0.000389\n",
              "66   _IMPAGE_18.0    0.000358\n",
              "68   _IMPAGE_20.0    0.000320\n",
              "70   _IMPAGE_22.0    0.000283\n",
              "131  _IMPAGE_92.0    0.000281\n",
              "133  _IMPAGE_94.0    0.000171"
            ]
          },
          "metadata": {
            "tags": []
          },
          "execution_count": 63
        }
      ]
    },
    {
      "cell_type": "markdown",
      "metadata": {
        "id": "bi8bV1LJAuSF"
      },
      "source": [
        "**Looks like a few ages don't have a big influence on perceived health**"
      ]
    },
    {
      "cell_type": "code",
      "metadata": {
        "id": "WodiIPdAwgBT",
        "outputId": "cafc5154-258e-4864-ca5a-7c5a05c0f582",
        "colab": {
          "base_uri": "https://localhost:8080/",
          "height": 566
        }
      },
      "source": [
        "top_bottom(health_all, color = 'darkgreen')\n",
        "plt.title('Top 10 and Last 10 Features that are important to determining Self-Reported Health');\n",
        "\n",
        "plt.savefig('health_all_ungrouped.jpg')"
      ],
      "execution_count": 64,
      "outputs": [
        {
          "output_type": "display_data",
          "data": {
            "image/png": "[encoded data removed]",
            "text/plain": [
              "<Figure size 864x648 with 1 Axes>"
            ]
          },
          "metadata": {
            "tags": [],
            "needs_background": "light"
          }
        }
      ]
    },
    {
      "cell_type": "code",
      "metadata": {
        "id": "mInp9o4BOEC-"
      },
      "source": [
        ""
      ],
      "execution_count": null,
      "outputs": []
    }
  ]
}