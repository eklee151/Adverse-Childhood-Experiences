{
 "cells": [
  {
   "cell_type": "code",
   "execution_count": 17,
   "metadata": {},
   "outputs": [],
   "source": [
    "import pandas as pd\n",
    "import numpy as np\n",
    "import seaborn as sns\n",
    "import matplotlib.pyplot as plt\n",
    "\n",
    "from sklearn.model_selection import train_test_split, GridSearchCV\n",
    "from sklearn.pipeline import make_pipeline\n",
    "from sklearn.linear_model import LogisticRegression\n",
    "from sklearn.metrics import confusion_matrix, plot_confusion_matrix, precision_score\n",
    "from sklearn.tree import DecisionTreeClassifier\n",
    "#from sklearn.preprocessing import PolynomialFeatures\n",
    "from sklearn.ensemble import AdaBoostRegressor, GradientBoostingRegressor"
   ]
  },
  {
   "cell_type": "code",
   "execution_count": 2,
   "metadata": {},
   "outputs": [],
   "source": [
    "# just checking to see how my pickle file reads into the notebook\n",
    "brfss_2009 = pd.read_pickle('./Pickled_Data/brfss_2009.pkl')\n",
    "brfss_2010 = pd.read_pickle('./Pickled_Data/brfss_2010.pkl')\n",
    "brfss_2011 = pd.read_pickle('./Pickled_Data/brfss_2011.pkl')\n",
    "brfss_2012 = pd.read_pickle('./Pickled_Data/brfss_2012.pkl')"
   ]
  },
  {
   "cell_type": "code",
   "execution_count": 3,
   "metadata": {},
   "outputs": [],
   "source": [
    "# creating a dataframe with data from all years\n",
    "brfss_total = pd.concat([brfss_2009, brfss_2010, brfss_2011, brfss_2012], ignore_index=True)"
   ]
  },
  {
   "cell_type": "code",
   "execution_count": 4,
   "metadata": {
    "collapsed": true,
    "jupyter": {
     "outputs_hidden": true
    }
   },
   "outputs": [
    {
     "data": {
      "text/plain": [
       "_STATE            0\n",
       "DISPCODE          0\n",
       "GENHLTH          20\n",
       "PHYSHLTH          9\n",
       "MENTHLTH          5\n",
       "POORHLTH     892257\n",
       "SMOKE100       6844\n",
       "SMOKDAY2    1014179\n",
       "STOPSMK2    1564529\n",
       "USENOW3       13155\n",
       "AGE               2\n",
       "HISPANC2          1\n",
       "MRACE             0\n",
       "ORACE2      1828502\n",
       "MARITAL         868\n",
       "CHILDREN       1383\n",
       "EDUCA          1293\n",
       "EMPLOY         1625\n",
       "INCOME2        2618\n",
       "RENTHOM1     821587\n",
       "SEX               0\n",
       "EXERANY2      20737\n",
       "QLACTLM2      35533\n",
       "AVEDRNK2     983529\n",
       "DRNK3GE5     984572\n",
       "QLREST2      933492\n",
       "SLEPTIME    1732597\n",
       "SCNTMONY    1711675\n",
       "SCNTMEAL    1702903\n",
       "ACEDEPRS    1747963\n",
       "ACEDRINK    1748039\n",
       "ACEDRUGS    1748057\n",
       "ACEPRISN    1748066\n",
       "ACEDIVRC    1748078\n",
       "ACEPUNCH    1748102\n",
       "ACEHURT     1748129\n",
       "ACESWEAR    1748166\n",
       "ACETOUCH    1748189\n",
       "ACETTHEM    1748229\n",
       "ACEHVSEX    1748276\n",
       "MSCODE       197222\n",
       "_IMPAGE           0\n",
       "_RFHLTH           0\n",
       "_SMOKER3          0\n",
       "_RFSMOK3          0\n",
       "_PRACE          751\n",
       "_EDUCAG           0\n",
       "_INCOMG           0\n",
       "_TOTINDA          0\n",
       "dtype: int64"
      ]
     },
     "execution_count": 4,
     "metadata": {},
     "output_type": "execute_result"
    }
   ],
   "source": [
    "#checking nulls\n",
    "brfss_total.isna().sum()"
   ]
  },
  {
   "cell_type": "code",
   "execution_count": 5,
   "metadata": {},
   "outputs": [],
   "source": [
    "# since I'm interested specifically in ACE then any row with null values for those questions will be dropped\n",
    "brfss_total.dropna(subset=['ACEDEPRS', 'ACEDRINK', 'ACEDRUGS', 'ACEPRISN', 'ACEDIVRC', 'ACEPUNCH', 'ACEHURT', 'ACESWEAR', \n",
    "                       'ACETOUCH', 'ACETTHEM', 'ACEHVSEX'], inplace=True)"
   ]
  },
  {
   "cell_type": "code",
   "execution_count": 6,
   "metadata": {},
   "outputs": [
    {
     "data": {
      "text/html": [
       "<div>\n",
       "<style scoped>\n",
       "    .dataframe tbody tr th:only-of-type {\n",
       "        vertical-align: middle;\n",
       "    }\n",
       "\n",
       "    .dataframe tbody tr th {\n",
       "        vertical-align: top;\n",
       "    }\n",
       "\n",
       "    .dataframe thead th {\n",
       "        text-align: right;\n",
       "    }\n",
       "</style>\n",
       "<table border=\"1\" class=\"dataframe\">\n",
       "  <thead>\n",
       "    <tr style=\"text-align: right;\">\n",
       "      <th></th>\n",
       "      <th>_STATE</th>\n",
       "      <th>DISPCODE</th>\n",
       "      <th>GENHLTH</th>\n",
       "      <th>PHYSHLTH</th>\n",
       "      <th>MENTHLTH</th>\n",
       "      <th>POORHLTH</th>\n",
       "      <th>SMOKE100</th>\n",
       "      <th>SMOKDAY2</th>\n",
       "      <th>STOPSMK2</th>\n",
       "      <th>USENOW3</th>\n",
       "      <th>...</th>\n",
       "      <th>ACEHVSEX</th>\n",
       "      <th>MSCODE</th>\n",
       "      <th>_IMPAGE</th>\n",
       "      <th>_RFHLTH</th>\n",
       "      <th>_SMOKER3</th>\n",
       "      <th>_RFSMOK3</th>\n",
       "      <th>_PRACE</th>\n",
       "      <th>_EDUCAG</th>\n",
       "      <th>_INCOMG</th>\n",
       "      <th>_TOTINDA</th>\n",
       "    </tr>\n",
       "  </thead>\n",
       "  <tbody>\n",
       "    <tr>\n",
       "      <th>14697</th>\n",
       "      <td>5.0</td>\n",
       "      <td>110.0</td>\n",
       "      <td>2.0</td>\n",
       "      <td>88.0</td>\n",
       "      <td>88.0</td>\n",
       "      <td>NaN</td>\n",
       "      <td>2.0</td>\n",
       "      <td>NaN</td>\n",
       "      <td>NaN</td>\n",
       "      <td>3.0</td>\n",
       "      <td>...</td>\n",
       "      <td>1.0</td>\n",
       "      <td>5.0</td>\n",
       "      <td>53.0</td>\n",
       "      <td>1.0</td>\n",
       "      <td>4.0</td>\n",
       "      <td>1.0</td>\n",
       "      <td>1.0</td>\n",
       "      <td>3.0</td>\n",
       "      <td>5.0</td>\n",
       "      <td>1.0</td>\n",
       "    </tr>\n",
       "    <tr>\n",
       "      <th>14699</th>\n",
       "      <td>5.0</td>\n",
       "      <td>110.0</td>\n",
       "      <td>4.0</td>\n",
       "      <td>15.0</td>\n",
       "      <td>77.0</td>\n",
       "      <td>88.0</td>\n",
       "      <td>1.0</td>\n",
       "      <td>3.0</td>\n",
       "      <td>NaN</td>\n",
       "      <td>3.0</td>\n",
       "      <td>...</td>\n",
       "      <td>1.0</td>\n",
       "      <td>5.0</td>\n",
       "      <td>64.0</td>\n",
       "      <td>2.0</td>\n",
       "      <td>3.0</td>\n",
       "      <td>1.0</td>\n",
       "      <td>1.0</td>\n",
       "      <td>2.0</td>\n",
       "      <td>2.0</td>\n",
       "      <td>1.0</td>\n",
       "    </tr>\n",
       "    <tr>\n",
       "      <th>14700</th>\n",
       "      <td>5.0</td>\n",
       "      <td>110.0</td>\n",
       "      <td>2.0</td>\n",
       "      <td>6.0</td>\n",
       "      <td>88.0</td>\n",
       "      <td>6.0</td>\n",
       "      <td>2.0</td>\n",
       "      <td>NaN</td>\n",
       "      <td>NaN</td>\n",
       "      <td>3.0</td>\n",
       "      <td>...</td>\n",
       "      <td>1.0</td>\n",
       "      <td>5.0</td>\n",
       "      <td>58.0</td>\n",
       "      <td>1.0</td>\n",
       "      <td>4.0</td>\n",
       "      <td>1.0</td>\n",
       "      <td>1.0</td>\n",
       "      <td>3.0</td>\n",
       "      <td>2.0</td>\n",
       "      <td>1.0</td>\n",
       "    </tr>\n",
       "    <tr>\n",
       "      <th>14701</th>\n",
       "      <td>5.0</td>\n",
       "      <td>110.0</td>\n",
       "      <td>5.0</td>\n",
       "      <td>30.0</td>\n",
       "      <td>88.0</td>\n",
       "      <td>88.0</td>\n",
       "      <td>2.0</td>\n",
       "      <td>NaN</td>\n",
       "      <td>NaN</td>\n",
       "      <td>3.0</td>\n",
       "      <td>...</td>\n",
       "      <td>1.0</td>\n",
       "      <td>5.0</td>\n",
       "      <td>76.0</td>\n",
       "      <td>2.0</td>\n",
       "      <td>4.0</td>\n",
       "      <td>1.0</td>\n",
       "      <td>1.0</td>\n",
       "      <td>1.0</td>\n",
       "      <td>9.0</td>\n",
       "      <td>2.0</td>\n",
       "    </tr>\n",
       "    <tr>\n",
       "      <th>14704</th>\n",
       "      <td>5.0</td>\n",
       "      <td>110.0</td>\n",
       "      <td>4.0</td>\n",
       "      <td>13.0</td>\n",
       "      <td>88.0</td>\n",
       "      <td>88.0</td>\n",
       "      <td>1.0</td>\n",
       "      <td>3.0</td>\n",
       "      <td>NaN</td>\n",
       "      <td>3.0</td>\n",
       "      <td>...</td>\n",
       "      <td>9.0</td>\n",
       "      <td>5.0</td>\n",
       "      <td>82.0</td>\n",
       "      <td>2.0</td>\n",
       "      <td>3.0</td>\n",
       "      <td>1.0</td>\n",
       "      <td>1.0</td>\n",
       "      <td>2.0</td>\n",
       "      <td>9.0</td>\n",
       "      <td>2.0</td>\n",
       "    </tr>\n",
       "  </tbody>\n",
       "</table>\n",
       "<p>5 rows × 49 columns</p>\n",
       "</div>"
      ],
      "text/plain": [
       "       _STATE  DISPCODE  GENHLTH  PHYSHLTH  MENTHLTH  POORHLTH  SMOKE100  \\\n",
       "14697     5.0     110.0      2.0      88.0      88.0       NaN       2.0   \n",
       "14699     5.0     110.0      4.0      15.0      77.0      88.0       1.0   \n",
       "14700     5.0     110.0      2.0       6.0      88.0       6.0       2.0   \n",
       "14701     5.0     110.0      5.0      30.0      88.0      88.0       2.0   \n",
       "14704     5.0     110.0      4.0      13.0      88.0      88.0       1.0   \n",
       "\n",
       "       SMOKDAY2  STOPSMK2  USENOW3  ...  ACEHVSEX  MSCODE _IMPAGE  _RFHLTH  \\\n",
       "14697       NaN       NaN      3.0  ...       1.0     5.0    53.0      1.0   \n",
       "14699       3.0       NaN      3.0  ...       1.0     5.0    64.0      2.0   \n",
       "14700       NaN       NaN      3.0  ...       1.0     5.0    58.0      1.0   \n",
       "14701       NaN       NaN      3.0  ...       1.0     5.0    76.0      2.0   \n",
       "14704       3.0       NaN      3.0  ...       9.0     5.0    82.0      2.0   \n",
       "\n",
       "       _SMOKER3  _RFSMOK3  _PRACE  _EDUCAG  _INCOMG  _TOTINDA  \n",
       "14697       4.0       1.0     1.0      3.0      5.0       1.0  \n",
       "14699       3.0       1.0     1.0      2.0      2.0       1.0  \n",
       "14700       4.0       1.0     1.0      3.0      2.0       1.0  \n",
       "14701       4.0       1.0     1.0      1.0      9.0       2.0  \n",
       "14704       3.0       1.0     1.0      2.0      9.0       2.0  \n",
       "\n",
       "[5 rows x 49 columns]"
      ]
     },
     "execution_count": 6,
     "metadata": {},
     "output_type": "execute_result"
    }
   ],
   "source": [
    "brfss_total.head()"
   ]
  },
  {
   "cell_type": "code",
   "execution_count": 7,
   "metadata": {},
   "outputs": [
    {
     "name": "stdout",
     "output_type": "stream",
     "text": [
      "<class 'pandas.core.frame.DataFrame'>\n",
      "Int64Index: 117555 entries, 14697 to 1851207\n",
      "Data columns (total 49 columns):\n",
      " #   Column    Non-Null Count   Dtype  \n",
      "---  ------    --------------   -----  \n",
      " 0   _STATE    117555 non-null  float64\n",
      " 1   DISPCODE  117555 non-null  float64\n",
      " 2   GENHLTH   117555 non-null  float64\n",
      " 3   PHYSHLTH  117555 non-null  float64\n",
      " 4   MENTHLTH  117555 non-null  float64\n",
      " 5   POORHLTH  60291 non-null   float64\n",
      " 6   SMOKE100  117555 non-null  float64\n",
      " 7   SMOKDAY2  55545 non-null   float64\n",
      " 8   STOPSMK2  19259 non-null   float64\n",
      " 9   USENOW3   117555 non-null  float64\n",
      " 10  AGE       117555 non-null  float64\n",
      " 11  HISPANC2  117555 non-null  float64\n",
      " 12  MRACE     117555 non-null  object \n",
      " 13  ORACE2    3612 non-null    float64\n",
      " 14  MARITAL   117555 non-null  float64\n",
      " 15  CHILDREN  117534 non-null  float64\n",
      " 16  EDUCA     117555 non-null  float64\n",
      " 17  EMPLOY    117555 non-null  float64\n",
      " 18  INCOME2   117492 non-null  float64\n",
      " 19  RENTHOM1  89554 non-null   float64\n",
      " 20  SEX       117555 non-null  float64\n",
      " 21  EXERANY2  117555 non-null  float64\n",
      " 22  QLACTLM2  117555 non-null  float64\n",
      " 23  AVEDRNK2  61883 non-null   float64\n",
      " 24  DRNK3GE5  61883 non-null   float64\n",
      " 25  QLREST2   50347 non-null   float64\n",
      " 26  SLEPTIME  35855 non-null   float64\n",
      " 27  SCNTMONY  24637 non-null   float64\n",
      " 28  SCNTMEAL  26346 non-null   float64\n",
      " 29  ACEDEPRS  117555 non-null  float64\n",
      " 30  ACEDRINK  117555 non-null  float64\n",
      " 31  ACEDRUGS  117555 non-null  float64\n",
      " 32  ACEPRISN  117555 non-null  float64\n",
      " 33  ACEDIVRC  117555 non-null  float64\n",
      " 34  ACEPUNCH  117555 non-null  float64\n",
      " 35  ACEHURT   117555 non-null  float64\n",
      " 36  ACESWEAR  117555 non-null  float64\n",
      " 37  ACETOUCH  117555 non-null  float64\n",
      " 38  ACETTHEM  117555 non-null  float64\n",
      " 39  ACEHVSEX  117555 non-null  float64\n",
      " 40  MSCODE    103177 non-null  float64\n",
      " 41  _IMPAGE   117555 non-null  float64\n",
      " 42  _RFHLTH   117555 non-null  float64\n",
      " 43  _SMOKER3  117555 non-null  float64\n",
      " 44  _RFSMOK3  117555 non-null  float64\n",
      " 45  _PRACE    117555 non-null  float64\n",
      " 46  _EDUCAG   117555 non-null  float64\n",
      " 47  _INCOMG   117555 non-null  float64\n",
      " 48  _TOTINDA  117555 non-null  float64\n",
      "dtypes: float64(48), object(1)\n",
      "memory usage: 44.8+ MB\n"
     ]
    }
   ],
   "source": [
    "brfss_total.info()"
   ]
  },
  {
   "cell_type": "code",
   "execution_count": 8,
   "metadata": {},
   "outputs": [],
   "source": [
    "# will drop columns that are used to calculate other variables that I won't be dropping such as 'AGE', 'GENHLTH', 'SMOKE100', 'SMOKDAY2',\n",
    "# '_RFSMOK3', 'MRACE', 'ORACE2', 'EDUCA', 'INCOME2', 'EXERANY2' and any 50% or more null values\n",
    "brfss_total.drop(columns = ['AGE', 'GENHLTH', 'SMOKE100', 'SMOKDAY2','_RFSMOK3', 'MRACE', 'ORACE2', 'EDUCA', 'INCOME2', 'EXERANY2', \n",
    "                            'SCNTMEAL', 'SCNTMONY', 'SLEPTIME', 'ORACE2', 'POORHLTH', 'QLREST2', 'AVEDRNK2', 'DRNK3GE5', 'STOPSMK2'],\n",
    "                            inplace=True)"
   ]
  },
  {
   "cell_type": "code",
   "execution_count": 9,
   "metadata": {},
   "outputs": [
    {
     "name": "stdout",
     "output_type": "stream",
     "text": [
      "<class 'pandas.core.frame.DataFrame'>\n",
      "Int64Index: 117555 entries, 14697 to 1851207\n",
      "Data columns (total 31 columns):\n",
      " #   Column    Non-Null Count   Dtype  \n",
      "---  ------    --------------   -----  \n",
      " 0   _STATE    117555 non-null  float64\n",
      " 1   DISPCODE  117555 non-null  float64\n",
      " 2   PHYSHLTH  117555 non-null  float64\n",
      " 3   MENTHLTH  117555 non-null  float64\n",
      " 4   USENOW3   117555 non-null  float64\n",
      " 5   HISPANC2  117555 non-null  float64\n",
      " 6   MARITAL   117555 non-null  float64\n",
      " 7   CHILDREN  117534 non-null  float64\n",
      " 8   EMPLOY    117555 non-null  float64\n",
      " 9   RENTHOM1  89554 non-null   float64\n",
      " 10  SEX       117555 non-null  float64\n",
      " 11  QLACTLM2  117555 non-null  float64\n",
      " 12  ACEDEPRS  117555 non-null  float64\n",
      " 13  ACEDRINK  117555 non-null  float64\n",
      " 14  ACEDRUGS  117555 non-null  float64\n",
      " 15  ACEPRISN  117555 non-null  float64\n",
      " 16  ACEDIVRC  117555 non-null  float64\n",
      " 17  ACEPUNCH  117555 non-null  float64\n",
      " 18  ACEHURT   117555 non-null  float64\n",
      " 19  ACESWEAR  117555 non-null  float64\n",
      " 20  ACETOUCH  117555 non-null  float64\n",
      " 21  ACETTHEM  117555 non-null  float64\n",
      " 22  ACEHVSEX  117555 non-null  float64\n",
      " 23  MSCODE    103177 non-null  float64\n",
      " 24  _IMPAGE   117555 non-null  float64\n",
      " 25  _RFHLTH   117555 non-null  float64\n",
      " 26  _SMOKER3  117555 non-null  float64\n",
      " 27  _PRACE    117555 non-null  float64\n",
      " 28  _EDUCAG   117555 non-null  float64\n",
      " 29  _INCOMG   117555 non-null  float64\n",
      " 30  _TOTINDA  117555 non-null  float64\n",
      "dtypes: float64(31)\n",
      "memory usage: 28.7 MB\n"
     ]
    }
   ],
   "source": [
    "brfss_total.info()"
   ]
  },
  {
   "cell_type": "code",
   "execution_count": 10,
   "metadata": {},
   "outputs": [],
   "source": [
    "# replacing all don't knows, refused answers or none with zeros\n",
    "brfss_total = brfss_total.replace({77:0, 88:0, 99:0, 7:0, 8:0, 9:0})"
   ]
  },
  {
   "cell_type": "code",
   "execution_count": 11,
   "metadata": {},
   "outputs": [],
   "source": [
    "# will replace nulls with 0\n",
    "brfss_total['RENTHOM1'].fillna(0, inplace = True)"
   ]
  },
  {
   "cell_type": "code",
   "execution_count": 12,
   "metadata": {},
   "outputs": [],
   "source": [
    "brfss_total['MSCODE'].fillna(0, inplace = True)"
   ]
  },
  {
   "cell_type": "code",
   "execution_count": 13,
   "metadata": {},
   "outputs": [],
   "source": [
    "brfss_total['CHILDREN'].fillna(0, inplace = True)"
   ]
  },
  {
   "cell_type": "code",
   "execution_count": 14,
   "metadata": {},
   "outputs": [
    {
     "name": "stdout",
     "output_type": "stream",
     "text": [
      "<class 'pandas.core.frame.DataFrame'>\n",
      "Int64Index: 117555 entries, 14697 to 1851207\n",
      "Data columns (total 31 columns):\n",
      " #   Column    Non-Null Count   Dtype  \n",
      "---  ------    --------------   -----  \n",
      " 0   _STATE    117555 non-null  float64\n",
      " 1   DISPCODE  117555 non-null  float64\n",
      " 2   PHYSHLTH  117555 non-null  float64\n",
      " 3   MENTHLTH  117555 non-null  float64\n",
      " 4   USENOW3   117555 non-null  float64\n",
      " 5   HISPANC2  117555 non-null  float64\n",
      " 6   MARITAL   117555 non-null  float64\n",
      " 7   CHILDREN  117555 non-null  float64\n",
      " 8   EMPLOY    117555 non-null  float64\n",
      " 9   RENTHOM1  117555 non-null  float64\n",
      " 10  SEX       117555 non-null  float64\n",
      " 11  QLACTLM2  117555 non-null  float64\n",
      " 12  ACEDEPRS  117555 non-null  float64\n",
      " 13  ACEDRINK  117555 non-null  float64\n",
      " 14  ACEDRUGS  117555 non-null  float64\n",
      " 15  ACEPRISN  117555 non-null  float64\n",
      " 16  ACEDIVRC  117555 non-null  float64\n",
      " 17  ACEPUNCH  117555 non-null  float64\n",
      " 18  ACEHURT   117555 non-null  float64\n",
      " 19  ACESWEAR  117555 non-null  float64\n",
      " 20  ACETOUCH  117555 non-null  float64\n",
      " 21  ACETTHEM  117555 non-null  float64\n",
      " 22  ACEHVSEX  117555 non-null  float64\n",
      " 23  MSCODE    117555 non-null  float64\n",
      " 24  _IMPAGE   117555 non-null  float64\n",
      " 25  _RFHLTH   117555 non-null  float64\n",
      " 26  _SMOKER3  117555 non-null  float64\n",
      " 27  _PRACE    117555 non-null  float64\n",
      " 28  _EDUCAG   117555 non-null  float64\n",
      " 29  _INCOMG   117555 non-null  float64\n",
      " 30  _TOTINDA  117555 non-null  float64\n",
      "dtypes: float64(31)\n",
      "memory usage: 28.7 MB\n"
     ]
    }
   ],
   "source": [
    "brfss_total.info()"
   ]
  },
  {
   "cell_type": "code",
   "execution_count": 15,
   "metadata": {},
   "outputs": [],
   "source": [
    "# saving brfss_total as a pickle file\n",
    "brfss_total.to_pickle('./Pickled_Data/brfss_total.pkl')"
   ]
  },
  {
   "cell_type": "markdown",
   "metadata": {},
   "source": [
    "**Variables I will try to predict with my models:**\n",
    "- USENOW3: Do you currently use chewing tobacco, snuff, or snus every day, some days, or not at all?\n",
    "    - classification\n",
    "- QLACTLM2: Are you limited in any way in any activities because of physical, mental, or emotional problems?\n",
    "    - classification\n",
    "- _RFHLTH: Adults with good or better health vs. fair or poor health\n",
    "    - classification\n",
    "    - based off of GENHLTH\n",
    "- _SMOKER3: Four-level smoker status: Everyday smoker, Someday smoker, Former smoker, Non-smoker\n",
    "    - classification\n",
    "    - based off of SMOKE100 & SMOKEDAY"
   ]
  },
  {
   "cell_type": "code",
   "execution_count": 34,
   "metadata": {},
   "outputs": [],
   "source": [
    "X = brfss_total[['ACEDEPRS', 'ACEDRINK', 'ACEDRUGS', 'ACEPRISN', 'ACEDIVRC', 'ACEPUNCH', 'ACEHURT', 'ACESWEAR', \n",
    "                       'ACETOUCH', 'ACETTHEM', 'ACEHVSEX']]"
   ]
  },
  {
   "cell_type": "code",
   "execution_count": 35,
   "metadata": {},
   "outputs": [],
   "source": [
    "y_tobacco = brfss_total['USENOW3']\n",
    "y_activity = brfss_total['QLACTLM2']\n",
    "y_health = brfss_total['_RFHLTH']\n",
    "y_smoker = brfss_total['_SMOKER3']"
   ]
  },
  {
   "cell_type": "code",
   "execution_count": 36,
   "metadata": {},
   "outputs": [
    {
     "data": {
      "text/plain": [
       "3.0    0.966560\n",
       "1.0    0.017872\n",
       "2.0    0.012990\n",
       "0.0    0.002578\n",
       "Name: USENOW3, dtype: float64"
      ]
     },
     "execution_count": 36,
     "metadata": {},
     "output_type": "execute_result"
    }
   ],
   "source": [
    "# Baselines for tobacco product using\n",
    "y_tobacco.value_counts(normalize=True)"
   ]
  },
  {
   "cell_type": "code",
   "execution_count": 37,
   "metadata": {},
   "outputs": [
    {
     "data": {
      "text/plain": [
       "2.0    0.724520\n",
       "1.0    0.268997\n",
       "0.0    0.006482\n",
       "Name: QLACTLM2, dtype: float64"
      ]
     },
     "execution_count": 37,
     "metadata": {},
     "output_type": "execute_result"
    }
   ],
   "source": [
    "# baseline for activity levels being hindered\n",
    "y_activity.value_counts(normalize=True)"
   ]
  },
  {
   "cell_type": "code",
   "execution_count": 38,
   "metadata": {},
   "outputs": [
    {
     "data": {
      "text/plain": [
       "1.0    0.814742\n",
       "2.0    0.181991\n",
       "0.0    0.003267\n",
       "Name: _RFHLTH, dtype: float64"
      ]
     },
     "execution_count": 38,
     "metadata": {},
     "output_type": "execute_result"
    }
   ],
   "source": [
    "# baseline for health status\n",
    "y_health.value_counts(normalize=True)"
   ]
  },
  {
   "cell_type": "code",
   "execution_count": 39,
   "metadata": {},
   "outputs": [
    {
     "data": {
      "text/plain": [
       "4.0    0.521569\n",
       "3.0    0.308324\n",
       "1.0    0.119604\n",
       "2.0    0.044226\n",
       "0.0    0.006278\n",
       "Name: _SMOKER3, dtype: float64"
      ]
     },
     "execution_count": 39,
     "metadata": {},
     "output_type": "execute_result"
    }
   ],
   "source": [
    "# baseline for smoker category\n",
    "y_smoker.value_counts(normalize=True)"
   ]
  },
  {
   "cell_type": "code",
   "execution_count": 60,
   "metadata": {},
   "outputs": [],
   "source": [
    "X_train, X_test, y_train_tobacco, y_test_tobacco = train_test_split(X, y_tobacco, stratify=y_tobacco)\n",
    "X_train2, X_test2, y_train_activity, y_test_activity = train_test_split(X, y_activity, stratify=y_activity)\n",
    "X_train3, X_test3, y_train_health, y_test_health = train_test_split(X, y_health, stratify=y_health)\n",
    "X_train4, X_test4, y_train_smoker, y_test_smoker = train_test_split(X, y_smoker, stratify=y_smoker)"
   ]
  },
  {
   "cell_type": "code",
   "execution_count": 61,
   "metadata": {},
   "outputs": [
    {
     "name": "stderr",
     "output_type": "stream",
     "text": [
      "C:\\Users\\eboni\\anaconda3\\lib\\site-packages\\sklearn\\linear_model\\_logistic.py:762: ConvergenceWarning: lbfgs failed to converge (status=1):\n",
      "STOP: TOTAL NO. of ITERATIONS REACHED LIMIT.\n",
      "\n",
      "Increase the number of iterations (max_iter) or scale the data as shown in:\n",
      "    https://scikit-learn.org/stable/modules/preprocessing.html\n",
      "Please also refer to the documentation for alternative solver options:\n",
      "    https://scikit-learn.org/stable/modules/linear_model.html#logistic-regression\n",
      "  n_iter_i = _check_optimize_result(\n"
     ]
    },
    {
     "data": {
      "text/plain": [
       "LogisticRegression()"
      ]
     },
     "execution_count": 61,
     "metadata": {},
     "output_type": "execute_result"
    }
   ],
   "source": [
    "lr = LogisticRegression()\n",
    "lr.fit(X_train, y_train_tobacco)"
   ]
  },
  {
   "cell_type": "code",
   "execution_count": 62,
   "metadata": {},
   "outputs": [
    {
     "name": "stderr",
     "output_type": "stream",
     "text": [
      "C:\\Users\\eboni\\anaconda3\\lib\\site-packages\\sklearn\\linear_model\\_logistic.py:762: ConvergenceWarning: lbfgs failed to converge (status=1):\n",
      "STOP: TOTAL NO. of ITERATIONS REACHED LIMIT.\n",
      "\n",
      "Increase the number of iterations (max_iter) or scale the data as shown in:\n",
      "    https://scikit-learn.org/stable/modules/preprocessing.html\n",
      "Please also refer to the documentation for alternative solver options:\n",
      "    https://scikit-learn.org/stable/modules/linear_model.html#logistic-regression\n",
      "  n_iter_i = _check_optimize_result(\n"
     ]
    },
    {
     "data": {
      "text/plain": [
       "LogisticRegression()"
      ]
     },
     "execution_count": 62,
     "metadata": {},
     "output_type": "execute_result"
    }
   ],
   "source": [
    "lr2 = LogisticRegression()\n",
    "lr2.fit(X_train2, y_train_activity)"
   ]
  },
  {
   "cell_type": "code",
   "execution_count": 63,
   "metadata": {},
   "outputs": [
    {
     "name": "stderr",
     "output_type": "stream",
     "text": [
      "C:\\Users\\eboni\\anaconda3\\lib\\site-packages\\sklearn\\linear_model\\_logistic.py:762: ConvergenceWarning: lbfgs failed to converge (status=1):\n",
      "STOP: TOTAL NO. of ITERATIONS REACHED LIMIT.\n",
      "\n",
      "Increase the number of iterations (max_iter) or scale the data as shown in:\n",
      "    https://scikit-learn.org/stable/modules/preprocessing.html\n",
      "Please also refer to the documentation for alternative solver options:\n",
      "    https://scikit-learn.org/stable/modules/linear_model.html#logistic-regression\n",
      "  n_iter_i = _check_optimize_result(\n"
     ]
    },
    {
     "data": {
      "text/plain": [
       "LogisticRegression()"
      ]
     },
     "execution_count": 63,
     "metadata": {},
     "output_type": "execute_result"
    }
   ],
   "source": [
    "lr3 = LogisticRegression()\n",
    "lr3.fit(X_train3, y_train_health)"
   ]
  },
  {
   "cell_type": "code",
   "execution_count": 64,
   "metadata": {},
   "outputs": [
    {
     "name": "stderr",
     "output_type": "stream",
     "text": [
      "C:\\Users\\eboni\\anaconda3\\lib\\site-packages\\sklearn\\linear_model\\_logistic.py:762: ConvergenceWarning: lbfgs failed to converge (status=1):\n",
      "STOP: TOTAL NO. of ITERATIONS REACHED LIMIT.\n",
      "\n",
      "Increase the number of iterations (max_iter) or scale the data as shown in:\n",
      "    https://scikit-learn.org/stable/modules/preprocessing.html\n",
      "Please also refer to the documentation for alternative solver options:\n",
      "    https://scikit-learn.org/stable/modules/linear_model.html#logistic-regression\n",
      "  n_iter_i = _check_optimize_result(\n"
     ]
    },
    {
     "data": {
      "text/plain": [
       "LogisticRegression()"
      ]
     },
     "execution_count": 64,
     "metadata": {},
     "output_type": "execute_result"
    }
   ],
   "source": [
    "lr4 = LogisticRegression()\n",
    "lr4.fit(X_train4, y_train_smoker)"
   ]
  },
  {
   "cell_type": "code",
   "execution_count": 68,
   "metadata": {},
   "outputs": [
    {
     "name": "stdout",
     "output_type": "stream",
     "text": [
      " training accuracy for tobacco: 0.9665630742009391\n",
      " training accuracy for activity: 0.7274913231858086\n",
      " training accuracy for health: 0.8147925504162602\n",
      " training accuracy for smoker: 0.5226731393054012\n"
     ]
    }
   ],
   "source": [
    "print(f' training accuracy for tobacco: {lr.score(X_train, y_train_tobacco)}')\n",
    "print(f' training accuracy for activity: {lr2.score(X_train2, y_train_activity)}')\n",
    "print(f' training accuracy for health: {lr3.score(X_train3, y_train_health)}')\n",
    "print(f' training accuracy for smoker: {lr4.score(X_train4, y_train_smoker)}')"
   ]
  },
  {
   "cell_type": "code",
   "execution_count": 71,
   "metadata": {},
   "outputs": [
    {
     "name": "stdout",
     "output_type": "stream",
     "text": [
      " testing accuracy for tobacco: 0.9665521113341726\n",
      " testing accuracy for activity: 0.7264282554697336\n",
      " testing accuracy for health: 0.8147265983871517\n",
      " testing accuracy for smoker: 0.5236653169553234\n"
     ]
    }
   ],
   "source": [
    "print(f' testing accuracy for tobacco: {lr.score(X_test, y_test_tobacco)}')\n",
    "print(f' testing accuracy for activity: {lr2.score(X_test2, y_test_activity)}')\n",
    "print(f' testing accuracy for health: {lr3.score(X_test3, y_test_health)}')\n",
    "print(f' testing accuracy for smoker: {lr4.score(X_test4, y_test_smoker)}')"
   ]
  },
  {
   "cell_type": "code",
   "execution_count": 70,
   "metadata": {},
   "outputs": [],
   "source": [
    "tobacco_preds = lr.predict(X_test)\n",
    "activity_preds = lr2.predict(X_test2)\n",
    "health_preds = lr3.predict(X_test3)\n",
    "smoker_preds = lr4.predict(X_test4)"
   ]
  },
  {
   "cell_type": "code",
   "execution_count": 78,
   "metadata": {},
   "outputs": [],
   "source": [
    "tobacco_prec = precision_score(y_test_tobacco, tobacco_preds, average='micro')\n",
    "activity_prec = precision_score(y_test_activity, activity_preds, average='micro')\n",
    "health_prec = precision_score(y_test_health, health_preds, average='micro')\n",
    "smoker_prec = precision_score(y_test_smoker, smoker_preds, average='micro')"
   ]
  },
  {
   "cell_type": "code",
   "execution_count": 79,
   "metadata": {},
   "outputs": [
    {
     "name": "stdout",
     "output_type": "stream",
     "text": [
      "testing precision for tobacco: 0.9665521113341726\n",
      "testing precision for activity: 0.7264282554697336\n",
      "testing precision for health: 0.8147265983871517\n",
      "testing precision for smoker: 0.5236653169553234\n"
     ]
    }
   ],
   "source": [
    "print(f'testing precision for tobacco: {tobacco_prec}')\n",
    "print(f'testing precision for activity: {activity_prec}')\n",
    "print(f'testing precision for health: {health_prec}')\n",
    "print(f'testing precision for smoker: {smoker_prec}')"
   ]
  },
  {
   "cell_type": "markdown",
   "metadata": {},
   "source": [
    "**Looks like the models aren't doing any better than baseline with just using ACE questions as predictors and a simple Logistic Regression. Will look into adding features and different modeling techniques. Should be able to increase accuracy and precision scores for activity, health, and smokers (more room for improvement). Can try with tobacco products scores.**"
   ]
  },
  {
   "cell_type": "code",
   "execution_count": 49,
   "metadata": {},
   "outputs": [
    {
     "data": {
      "image/png": "[encoded data removed]",
      "text/plain": [
       "<Figure size 720x720 with 2 Axes>"
      ]
     },
     "metadata": {
      "needs_background": "light"
     },
     "output_type": "display_data"
    }
   ],
   "source": [
    "plt.figure(figsize=(10, 10))\n",
    "sns.heatmap(X.corr(), annot=True);"
   ]
  },
  {
   "cell_type": "markdown",
   "metadata": {},
   "source": [
    "**Doesn't look like anything is too highly correlated in the ACE, except the questions on the topic of Sexual Abuse and there were slight correlations between substance abuse and mental illness.**"
   ]
  },
  {
   "cell_type": "code",
   "execution_count": 80,
   "metadata": {},
   "outputs": [],
   "source": [
    "X2 = brfss_total.drop(columns=['USENOW3', 'QLACTLM2', '_RFHLTH', '_SMOKER3'])"
   ]
  },
  {
   "cell_type": "code",
   "execution_count": 81,
   "metadata": {},
   "outputs": [],
   "source": [
    "X2_train, X2_test, y2_train_tobacco, y2_test_tobacco = train_test_split(X2, y_tobacco, stratify=y_tobacco)\n",
    "X2_train2, X2_test2, y2_train_activity, y2_test_activity = train_test_split(X2, y_activity, stratify=y_activity)\n",
    "X2_train3, X2_test3, y2_train_health, y2_test_health = train_test_split(X2, y_health, stratify=y_health)\n",
    "X2_train4, X2_test4, y2_train_smoker, y2_test_smoker = train_test_split(X2, y_smoker, stratify=y_smoker)"
   ]
  },
  {
   "cell_type": "code",
   "execution_count": 82,
   "metadata": {},
   "outputs": [
    {
     "name": "stderr",
     "output_type": "stream",
     "text": [
      "C:\\Users\\eboni\\anaconda3\\lib\\site-packages\\sklearn\\linear_model\\_logistic.py:762: ConvergenceWarning: lbfgs failed to converge (status=1):\n",
      "STOP: TOTAL NO. of ITERATIONS REACHED LIMIT.\n",
      "\n",
      "Increase the number of iterations (max_iter) or scale the data as shown in:\n",
      "    https://scikit-learn.org/stable/modules/preprocessing.html\n",
      "Please also refer to the documentation for alternative solver options:\n",
      "    https://scikit-learn.org/stable/modules/linear_model.html#logistic-regression\n",
      "  n_iter_i = _check_optimize_result(\n"
     ]
    },
    {
     "data": {
      "text/plain": [
       "LogisticRegression()"
      ]
     },
     "execution_count": 82,
     "metadata": {},
     "output_type": "execute_result"
    }
   ],
   "source": [
    "lr5 = LogisticRegression()\n",
    "lr5.fit(X2_train, y2_train_tobacco)"
   ]
  },
  {
   "cell_type": "code",
   "execution_count": 83,
   "metadata": {},
   "outputs": [
    {
     "name": "stderr",
     "output_type": "stream",
     "text": [
      "C:\\Users\\eboni\\anaconda3\\lib\\site-packages\\sklearn\\linear_model\\_logistic.py:762: ConvergenceWarning: lbfgs failed to converge (status=1):\n",
      "STOP: TOTAL NO. of ITERATIONS REACHED LIMIT.\n",
      "\n",
      "Increase the number of iterations (max_iter) or scale the data as shown in:\n",
      "    https://scikit-learn.org/stable/modules/preprocessing.html\n",
      "Please also refer to the documentation for alternative solver options:\n",
      "    https://scikit-learn.org/stable/modules/linear_model.html#logistic-regression\n",
      "  n_iter_i = _check_optimize_result(\n"
     ]
    },
    {
     "data": {
      "text/plain": [
       "LogisticRegression()"
      ]
     },
     "execution_count": 83,
     "metadata": {},
     "output_type": "execute_result"
    }
   ],
   "source": [
    "lr6 = LogisticRegression()\n",
    "lr6.fit(X2_train2, y2_train_activity)"
   ]
  },
  {
   "cell_type": "code",
   "execution_count": 84,
   "metadata": {},
   "outputs": [
    {
     "name": "stderr",
     "output_type": "stream",
     "text": [
      "C:\\Users\\eboni\\anaconda3\\lib\\site-packages\\sklearn\\linear_model\\_logistic.py:762: ConvergenceWarning: lbfgs failed to converge (status=1):\n",
      "STOP: TOTAL NO. of ITERATIONS REACHED LIMIT.\n",
      "\n",
      "Increase the number of iterations (max_iter) or scale the data as shown in:\n",
      "    https://scikit-learn.org/stable/modules/preprocessing.html\n",
      "Please also refer to the documentation for alternative solver options:\n",
      "    https://scikit-learn.org/stable/modules/linear_model.html#logistic-regression\n",
      "  n_iter_i = _check_optimize_result(\n"
     ]
    },
    {
     "data": {
      "text/plain": [
       "LogisticRegression()"
      ]
     },
     "execution_count": 84,
     "metadata": {},
     "output_type": "execute_result"
    }
   ],
   "source": [
    "lr7 = LogisticRegression()\n",
    "lr7.fit(X2_train3, y2_train_health)"
   ]
  },
  {
   "cell_type": "code",
   "execution_count": 85,
   "metadata": {},
   "outputs": [
    {
     "name": "stderr",
     "output_type": "stream",
     "text": [
      "C:\\Users\\eboni\\anaconda3\\lib\\site-packages\\sklearn\\linear_model\\_logistic.py:762: ConvergenceWarning: lbfgs failed to converge (status=1):\n",
      "STOP: TOTAL NO. of ITERATIONS REACHED LIMIT.\n",
      "\n",
      "Increase the number of iterations (max_iter) or scale the data as shown in:\n",
      "    https://scikit-learn.org/stable/modules/preprocessing.html\n",
      "Please also refer to the documentation for alternative solver options:\n",
      "    https://scikit-learn.org/stable/modules/linear_model.html#logistic-regression\n",
      "  n_iter_i = _check_optimize_result(\n"
     ]
    },
    {
     "data": {
      "text/plain": [
       "LogisticRegression()"
      ]
     },
     "execution_count": 85,
     "metadata": {},
     "output_type": "execute_result"
    }
   ],
   "source": [
    "lr8 = LogisticRegression()\n",
    "lr8.fit(X2_train4, y2_train_smoker)"
   ]
  },
  {
   "cell_type": "code",
   "execution_count": 86,
   "metadata": {},
   "outputs": [
    {
     "name": "stdout",
     "output_type": "stream",
     "text": [
      " training accuracy for tobacco: 0.9665630742009391\n",
      " training accuracy for activity: 0.7876392260054896\n",
      " training accuracy for health: 0.8630197581834267\n",
      " training accuracy for smoker: 0.5198035523898101\n"
     ]
    }
   ],
   "source": [
    "print(f' training accuracy for tobacco: {lr5.score(X2_train, y2_train_tobacco)}')\n",
    "print(f' training accuracy for activity: {lr6.score(X2_train2, y2_train_activity)}')\n",
    "print(f' training accuracy for health: {lr7.score(X2_train3, y2_train_health)}')\n",
    "print(f' training accuracy for smoker: {lr8.score(X2_train4, y2_train_smoker)}')"
   ]
  },
  {
   "cell_type": "code",
   "execution_count": 87,
   "metadata": {},
   "outputs": [
    {
     "name": "stdout",
     "output_type": "stream",
     "text": [
      " testing accuracy for tobacco: 0.9665521113341726\n",
      " testing accuracy for activity: 0.7846132906869917\n",
      " testing accuracy for health: 0.8620572322977985\n",
      " testing accuracy for smoker: 0.5206029466807309\n"
     ]
    }
   ],
   "source": [
    "print(f' testing accuracy for tobacco: {lr5.score(X2_test, y2_test_tobacco)}')\n",
    "print(f' testing accuracy for activity: {lr6.score(X2_test2, y2_test_activity)}')\n",
    "print(f' testing accuracy for health: {lr7.score(X2_test3, y2_test_health)}')\n",
    "print(f' testing accuracy for smoker: {lr8.score(X2_test4, y2_test_smoker)}')"
   ]
  },
  {
   "cell_type": "code",
   "execution_count": 88,
   "metadata": {},
   "outputs": [],
   "source": [
    "tobacco2_preds = lr5.predict(X2_test)\n",
    "activity2_preds = lr6.predict(X2_test2)\n",
    "health2_preds = lr7.predict(X2_test3)\n",
    "smoker2_preds = lr8.predict(X2_test4)"
   ]
  },
  {
   "cell_type": "code",
   "execution_count": 90,
   "metadata": {},
   "outputs": [],
   "source": [
    "tobacco2_prec = precision_score(y2_test_tobacco, tobacco2_preds, average='micro')\n",
    "activity2_prec = precision_score(y2_test_activity, activity2_preds, average='micro')\n",
    "health2_prec = precision_score(y2_test_health, health2_preds, average='micro')\n",
    "smoker2_prec = precision_score(y2_test_smoker, smoker2_preds, average='micro')"
   ]
  },
  {
   "cell_type": "code",
   "execution_count": 92,
   "metadata": {},
   "outputs": [
    {
     "name": "stdout",
     "output_type": "stream",
     "text": [
      "Precision for tobacco: 0.9665521113341726\n",
      "Precision for activity: 0.7846132906869917\n",
      "Precision for health: 0.8620572322977985\n",
      "Precision for smoker: 0.5206029466807309\n"
     ]
    }
   ],
   "source": [
    "print(f'Precision for tobacco: {tobacco2_prec}')\n",
    "print(f'Precision for activity: {activity2_prec}')\n",
    "print(f'Precision for health: {health2_prec}')\n",
    "print(f'Precision for smoker: {smoker2_prec}')"
   ]
  },
  {
   "cell_type": "markdown",
   "metadata": {},
   "source": [
    "**Accuracy for activity and health increased when using all predictors, tobacco and smoker did not. Feature selection will probably be important and also using different modeling methods. Precision scores are on par with accuracy scores, as accuracy goes up, precision goes up at the same rate.**"
   ]
  },
  {
   "cell_type": "code",
   "execution_count": null,
   "metadata": {},
   "outputs": [],
   "source": []
  }
 ],
 "metadata": {
  "kernelspec": {
   "display_name": "Python 3",
   "language": "python",
   "name": "python3"
  },
  "language_info": {
   "codemirror_mode": {
    "name": "ipython",
    "version": 3
   },
   "file_extension": ".py",
   "mimetype": "text/x-python",
   "name": "python",
   "nbconvert_exporter": "python",
   "pygments_lexer": "ipython3",
   "version": "3.8.3"
  }
 },
 "nbformat": 4,
 "nbformat_minor": 4
}
