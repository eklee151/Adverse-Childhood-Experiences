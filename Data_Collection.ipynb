{
 "cells": [
  {
   "cell_type": "code",
   "execution_count": 1,
   "metadata": {},
   "outputs": [],
   "source": [
    "# from sodapy import Socrata\n",
    "# import pyreadstat\n",
    "import pandas as pd\n",
    "import numpy as np\n",
    "import seaborn as sns\n",
    "import matplotlib.pyplot as plt"
   ]
  },
  {
   "cell_type": "code",
   "execution_count": 36,
   "metadata": {},
   "outputs": [
    {
     "data": {
      "text/plain": [
       "class\n",
       "Alcohol Consumption             316.608696\n",
       "Cholesterol Awareness           211.269841\n",
       "Chronic Health Indicators       285.335000\n",
       "Days of Poor Health             273.012658\n",
       "Demographics                    177.752174\n",
       "Fruits and Vegetables           366.177778\n",
       "HIV-AIDS                        288.954545\n",
       "Health Care Access/Coverage     231.408805\n",
       "Health Status                   174.481481\n",
       "Hypertension Awareness          295.652174\n",
       "Immunization                    123.340206\n",
       "Overweight and Obesity (BMI)    172.686275\n",
       "Physical Activity               312.771429\n",
       "Tobacco Use                     170.491379\n",
       "Name: sample_size, dtype: float64"
      ]
     },
     "execution_count": 36,
     "metadata": {},
     "output_type": "execute_result"
    }
   ],
   "source": [
    "results_df2.groupby(by = 'class')['sample_size'].mean()"
   ]
  },
  {
   "cell_type": "code",
   "execution_count": 2,
   "metadata": {},
   "outputs": [],
   "source": [
    "# reading in 2011 BRFSS\n",
    "df_11 = pd.read_sas('./SAS_Data/LLCP2011.XPT', format='xport')"
   ]
  },
  {
   "cell_type": "code",
   "execution_count": 3,
   "metadata": {},
   "outputs": [
    {
     "data": {
      "text/html": [
       "<div>\n",
       "<style scoped>\n",
       "    .dataframe tbody tr th:only-of-type {\n",
       "        vertical-align: middle;\n",
       "    }\n",
       "\n",
       "    .dataframe tbody tr th {\n",
       "        vertical-align: top;\n",
       "    }\n",
       "\n",
       "    .dataframe thead th {\n",
       "        text-align: right;\n",
       "    }\n",
       "</style>\n",
       "<table border=\"1\" class=\"dataframe\">\n",
       "  <thead>\n",
       "    <tr style=\"text-align: right;\">\n",
       "      <th></th>\n",
       "      <th>_STATE</th>\n",
       "      <th>_GEOSTR</th>\n",
       "      <th>_DENSTR2</th>\n",
       "      <th>PRECALL</th>\n",
       "      <th>REPNUM</th>\n",
       "      <th>REPDEPTH</th>\n",
       "      <th>FMONTH</th>\n",
       "      <th>IDATE</th>\n",
       "      <th>IMONTH</th>\n",
       "      <th>IDAY</th>\n",
       "      <th>...</th>\n",
       "      <th>DRNKANY5</th>\n",
       "      <th>DROCDY3_</th>\n",
       "      <th>_RFBING5</th>\n",
       "      <th>_DRNKDY4</th>\n",
       "      <th>_DRNKMO4</th>\n",
       "      <th>_RFDRHV4</th>\n",
       "      <th>_RFDRMN4</th>\n",
       "      <th>_RFDRWM4</th>\n",
       "      <th>_AIDTST3</th>\n",
       "      <th>HAVHPAD</th>\n",
       "    </tr>\n",
       "  </thead>\n",
       "  <tbody>\n",
       "    <tr>\n",
       "      <th>0</th>\n",
       "      <td>1.0</td>\n",
       "      <td>1.0</td>\n",
       "      <td>1.0</td>\n",
       "      <td>1.0</td>\n",
       "      <td>10001.0</td>\n",
       "      <td>27.0</td>\n",
       "      <td>1.0</td>\n",
       "      <td>b'01202011'</td>\n",
       "      <td>b'01'</td>\n",
       "      <td>b'20'</td>\n",
       "      <td>...</td>\n",
       "      <td>1.0</td>\n",
       "      <td>4.300000e+01</td>\n",
       "      <td>1.0</td>\n",
       "      <td>8.600000e+01</td>\n",
       "      <td>2.600000e+01</td>\n",
       "      <td>1.0</td>\n",
       "      <td>NaN</td>\n",
       "      <td>1.0</td>\n",
       "      <td>2.0</td>\n",
       "      <td>NaN</td>\n",
       "    </tr>\n",
       "    <tr>\n",
       "      <th>1</th>\n",
       "      <td>1.0</td>\n",
       "      <td>1.0</td>\n",
       "      <td>1.0</td>\n",
       "      <td>1.0</td>\n",
       "      <td>10008.0</td>\n",
       "      <td>13.0</td>\n",
       "      <td>1.0</td>\n",
       "      <td>b'01142011'</td>\n",
       "      <td>b'01'</td>\n",
       "      <td>b'14'</td>\n",
       "      <td>...</td>\n",
       "      <td>9.0</td>\n",
       "      <td>9.000000e+02</td>\n",
       "      <td>9.0</td>\n",
       "      <td>9.900000e+03</td>\n",
       "      <td>9.999000e+03</td>\n",
       "      <td>9.0</td>\n",
       "      <td>9.0</td>\n",
       "      <td>NaN</td>\n",
       "      <td>NaN</td>\n",
       "      <td>NaN</td>\n",
       "    </tr>\n",
       "    <tr>\n",
       "      <th>2</th>\n",
       "      <td>1.0</td>\n",
       "      <td>5.0</td>\n",
       "      <td>1.0</td>\n",
       "      <td>1.0</td>\n",
       "      <td>10058.0</td>\n",
       "      <td>4.0</td>\n",
       "      <td>1.0</td>\n",
       "      <td>b'01062011'</td>\n",
       "      <td>b'01'</td>\n",
       "      <td>b'06'</td>\n",
       "      <td>...</td>\n",
       "      <td>1.0</td>\n",
       "      <td>1.400000e+01</td>\n",
       "      <td>1.0</td>\n",
       "      <td>1.400000e+01</td>\n",
       "      <td>4.000000e+00</td>\n",
       "      <td>1.0</td>\n",
       "      <td>NaN</td>\n",
       "      <td>1.0</td>\n",
       "      <td>2.0</td>\n",
       "      <td>NaN</td>\n",
       "    </tr>\n",
       "    <tr>\n",
       "      <th>3</th>\n",
       "      <td>1.0</td>\n",
       "      <td>7.0</td>\n",
       "      <td>1.0</td>\n",
       "      <td>1.0</td>\n",
       "      <td>10079.0</td>\n",
       "      <td>7.0</td>\n",
       "      <td>1.0</td>\n",
       "      <td>b'02012011'</td>\n",
       "      <td>b'02'</td>\n",
       "      <td>b'01'</td>\n",
       "      <td>...</td>\n",
       "      <td>9.0</td>\n",
       "      <td>9.000000e+02</td>\n",
       "      <td>9.0</td>\n",
       "      <td>9.900000e+03</td>\n",
       "      <td>9.999000e+03</td>\n",
       "      <td>9.0</td>\n",
       "      <td>NaN</td>\n",
       "      <td>9.0</td>\n",
       "      <td>NaN</td>\n",
       "      <td>NaN</td>\n",
       "    </tr>\n",
       "    <tr>\n",
       "      <th>4</th>\n",
       "      <td>1.0</td>\n",
       "      <td>7.0</td>\n",
       "      <td>1.0</td>\n",
       "      <td>1.0</td>\n",
       "      <td>10081.0</td>\n",
       "      <td>28.0</td>\n",
       "      <td>1.0</td>\n",
       "      <td>b'02012011'</td>\n",
       "      <td>b'02'</td>\n",
       "      <td>b'01'</td>\n",
       "      <td>...</td>\n",
       "      <td>2.0</td>\n",
       "      <td>5.397605e-79</td>\n",
       "      <td>1.0</td>\n",
       "      <td>5.397605e-79</td>\n",
       "      <td>5.397605e-79</td>\n",
       "      <td>1.0</td>\n",
       "      <td>NaN</td>\n",
       "      <td>1.0</td>\n",
       "      <td>1.0</td>\n",
       "      <td>NaN</td>\n",
       "    </tr>\n",
       "  </tbody>\n",
       "</table>\n",
       "<p>5 rows × 454 columns</p>\n",
       "</div>"
      ],
      "text/plain": [
       "   _STATE  _GEOSTR  _DENSTR2  PRECALL   REPNUM  REPDEPTH  FMONTH        IDATE  \\\n",
       "0     1.0      1.0       1.0      1.0  10001.0      27.0     1.0  b'01202011'   \n",
       "1     1.0      1.0       1.0      1.0  10008.0      13.0     1.0  b'01142011'   \n",
       "2     1.0      5.0       1.0      1.0  10058.0       4.0     1.0  b'01062011'   \n",
       "3     1.0      7.0       1.0      1.0  10079.0       7.0     1.0  b'02012011'   \n",
       "4     1.0      7.0       1.0      1.0  10081.0      28.0     1.0  b'02012011'   \n",
       "\n",
       "  IMONTH   IDAY  ... DRNKANY5      DROCDY3_  _RFBING5      _DRNKDY4  \\\n",
       "0  b'01'  b'20'  ...      1.0  4.300000e+01       1.0  8.600000e+01   \n",
       "1  b'01'  b'14'  ...      9.0  9.000000e+02       9.0  9.900000e+03   \n",
       "2  b'01'  b'06'  ...      1.0  1.400000e+01       1.0  1.400000e+01   \n",
       "3  b'02'  b'01'  ...      9.0  9.000000e+02       9.0  9.900000e+03   \n",
       "4  b'02'  b'01'  ...      2.0  5.397605e-79       1.0  5.397605e-79   \n",
       "\n",
       "       _DRNKMO4  _RFDRHV4  _RFDRMN4  _RFDRWM4  _AIDTST3  HAVHPAD  \n",
       "0  2.600000e+01       1.0       NaN       1.0       2.0      NaN  \n",
       "1  9.999000e+03       9.0       9.0       NaN       NaN      NaN  \n",
       "2  4.000000e+00       1.0       NaN       1.0       2.0      NaN  \n",
       "3  9.999000e+03       9.0       NaN       9.0       NaN      NaN  \n",
       "4  5.397605e-79       1.0       NaN       1.0       1.0      NaN  \n",
       "\n",
       "[5 rows x 454 columns]"
      ]
     },
     "execution_count": 3,
     "metadata": {},
     "output_type": "execute_result"
    }
   ],
   "source": [
    "# checking out the data\n",
    "df_11.head()"
   ]
  },
  {
   "cell_type": "code",
   "execution_count": 4,
   "metadata": {},
   "outputs": [
    {
     "data": {
      "text/html": [
       "<div>\n",
       "<style scoped>\n",
       "    .dataframe tbody tr th:only-of-type {\n",
       "        vertical-align: middle;\n",
       "    }\n",
       "\n",
       "    .dataframe tbody tr th {\n",
       "        vertical-align: top;\n",
       "    }\n",
       "\n",
       "    .dataframe thead th {\n",
       "        text-align: right;\n",
       "    }\n",
       "</style>\n",
       "<table border=\"1\" class=\"dataframe\">\n",
       "  <thead>\n",
       "    <tr style=\"text-align: right;\">\n",
       "      <th></th>\n",
       "      <th>_STATE</th>\n",
       "      <th>_GEOSTR</th>\n",
       "      <th>_DENSTR2</th>\n",
       "      <th>PRECALL</th>\n",
       "      <th>REPNUM</th>\n",
       "      <th>REPDEPTH</th>\n",
       "      <th>FMONTH</th>\n",
       "      <th>IDATE</th>\n",
       "      <th>IMONTH</th>\n",
       "      <th>IDAY</th>\n",
       "      <th>...</th>\n",
       "      <th>DRNKANY5</th>\n",
       "      <th>DROCDY3_</th>\n",
       "      <th>_RFBING5</th>\n",
       "      <th>_DRNKDY4</th>\n",
       "      <th>_DRNKMO4</th>\n",
       "      <th>_RFDRHV4</th>\n",
       "      <th>_RFDRMN4</th>\n",
       "      <th>_RFDRWM4</th>\n",
       "      <th>_AIDTST3</th>\n",
       "      <th>HAVHPAD</th>\n",
       "    </tr>\n",
       "  </thead>\n",
       "  <tbody>\n",
       "    <tr>\n",
       "      <th>506462</th>\n",
       "      <td>72.0</td>\n",
       "      <td>99.0</td>\n",
       "      <td>9.0</td>\n",
       "      <td>1.0</td>\n",
       "      <td>80022.0</td>\n",
       "      <td>15.0</td>\n",
       "      <td>8.0</td>\n",
       "      <td>b'09152011'</td>\n",
       "      <td>b'09'</td>\n",
       "      <td>b'15'</td>\n",
       "      <td>...</td>\n",
       "      <td>2.0</td>\n",
       "      <td>5.397605e-79</td>\n",
       "      <td>1.0</td>\n",
       "      <td>5.397605e-79</td>\n",
       "      <td>5.397605e-79</td>\n",
       "      <td>1.0</td>\n",
       "      <td>NaN</td>\n",
       "      <td>1.0</td>\n",
       "      <td>1.0</td>\n",
       "      <td>NaN</td>\n",
       "    </tr>\n",
       "    <tr>\n",
       "      <th>506463</th>\n",
       "      <td>72.0</td>\n",
       "      <td>99.0</td>\n",
       "      <td>9.0</td>\n",
       "      <td>1.0</td>\n",
       "      <td>80040.0</td>\n",
       "      <td>1.0</td>\n",
       "      <td>8.0</td>\n",
       "      <td>b'09142011'</td>\n",
       "      <td>b'09'</td>\n",
       "      <td>b'14'</td>\n",
       "      <td>...</td>\n",
       "      <td>1.0</td>\n",
       "      <td>7.000000e+00</td>\n",
       "      <td>2.0</td>\n",
       "      <td>2.700000e+01</td>\n",
       "      <td>8.000000e+00</td>\n",
       "      <td>1.0</td>\n",
       "      <td>NaN</td>\n",
       "      <td>1.0</td>\n",
       "      <td>1.0</td>\n",
       "      <td>NaN</td>\n",
       "    </tr>\n",
       "    <tr>\n",
       "      <th>506464</th>\n",
       "      <td>72.0</td>\n",
       "      <td>99.0</td>\n",
       "      <td>9.0</td>\n",
       "      <td>1.0</td>\n",
       "      <td>80046.0</td>\n",
       "      <td>30.0</td>\n",
       "      <td>8.0</td>\n",
       "      <td>b'09112011'</td>\n",
       "      <td>b'09'</td>\n",
       "      <td>b'11'</td>\n",
       "      <td>...</td>\n",
       "      <td>2.0</td>\n",
       "      <td>5.397605e-79</td>\n",
       "      <td>1.0</td>\n",
       "      <td>5.397605e-79</td>\n",
       "      <td>5.397605e-79</td>\n",
       "      <td>1.0</td>\n",
       "      <td>NaN</td>\n",
       "      <td>1.0</td>\n",
       "      <td>1.0</td>\n",
       "      <td>NaN</td>\n",
       "    </tr>\n",
       "    <tr>\n",
       "      <th>506465</th>\n",
       "      <td>72.0</td>\n",
       "      <td>99.0</td>\n",
       "      <td>9.0</td>\n",
       "      <td>1.0</td>\n",
       "      <td>80055.0</td>\n",
       "      <td>4.0</td>\n",
       "      <td>8.0</td>\n",
       "      <td>b'09192011'</td>\n",
       "      <td>b'09'</td>\n",
       "      <td>b'19'</td>\n",
       "      <td>...</td>\n",
       "      <td>2.0</td>\n",
       "      <td>5.397605e-79</td>\n",
       "      <td>1.0</td>\n",
       "      <td>5.397605e-79</td>\n",
       "      <td>5.397605e-79</td>\n",
       "      <td>1.0</td>\n",
       "      <td>NaN</td>\n",
       "      <td>1.0</td>\n",
       "      <td>2.0</td>\n",
       "      <td>NaN</td>\n",
       "    </tr>\n",
       "    <tr>\n",
       "      <th>506466</th>\n",
       "      <td>72.0</td>\n",
       "      <td>99.0</td>\n",
       "      <td>9.0</td>\n",
       "      <td>1.0</td>\n",
       "      <td>80061.0</td>\n",
       "      <td>7.0</td>\n",
       "      <td>8.0</td>\n",
       "      <td>b'09172011'</td>\n",
       "      <td>b'09'</td>\n",
       "      <td>b'17'</td>\n",
       "      <td>...</td>\n",
       "      <td>2.0</td>\n",
       "      <td>5.397605e-79</td>\n",
       "      <td>1.0</td>\n",
       "      <td>5.397605e-79</td>\n",
       "      <td>5.397605e-79</td>\n",
       "      <td>1.0</td>\n",
       "      <td>1.0</td>\n",
       "      <td>NaN</td>\n",
       "      <td>1.0</td>\n",
       "      <td>NaN</td>\n",
       "    </tr>\n",
       "  </tbody>\n",
       "</table>\n",
       "<p>5 rows × 454 columns</p>\n",
       "</div>"
      ],
      "text/plain": [
       "        _STATE  _GEOSTR  _DENSTR2  PRECALL   REPNUM  REPDEPTH  FMONTH  \\\n",
       "506462    72.0     99.0       9.0      1.0  80022.0      15.0     8.0   \n",
       "506463    72.0     99.0       9.0      1.0  80040.0       1.0     8.0   \n",
       "506464    72.0     99.0       9.0      1.0  80046.0      30.0     8.0   \n",
       "506465    72.0     99.0       9.0      1.0  80055.0       4.0     8.0   \n",
       "506466    72.0     99.0       9.0      1.0  80061.0       7.0     8.0   \n",
       "\n",
       "              IDATE IMONTH   IDAY  ... DRNKANY5      DROCDY3_  _RFBING5  \\\n",
       "506462  b'09152011'  b'09'  b'15'  ...      2.0  5.397605e-79       1.0   \n",
       "506463  b'09142011'  b'09'  b'14'  ...      1.0  7.000000e+00       2.0   \n",
       "506464  b'09112011'  b'09'  b'11'  ...      2.0  5.397605e-79       1.0   \n",
       "506465  b'09192011'  b'09'  b'19'  ...      2.0  5.397605e-79       1.0   \n",
       "506466  b'09172011'  b'09'  b'17'  ...      2.0  5.397605e-79       1.0   \n",
       "\n",
       "            _DRNKDY4      _DRNKMO4  _RFDRHV4  _RFDRMN4  _RFDRWM4  _AIDTST3  \\\n",
       "506462  5.397605e-79  5.397605e-79       1.0       NaN       1.0       1.0   \n",
       "506463  2.700000e+01  8.000000e+00       1.0       NaN       1.0       1.0   \n",
       "506464  5.397605e-79  5.397605e-79       1.0       NaN       1.0       1.0   \n",
       "506465  5.397605e-79  5.397605e-79       1.0       NaN       1.0       2.0   \n",
       "506466  5.397605e-79  5.397605e-79       1.0       1.0       NaN       1.0   \n",
       "\n",
       "        HAVHPAD  \n",
       "506462      NaN  \n",
       "506463      NaN  \n",
       "506464      NaN  \n",
       "506465      NaN  \n",
       "506466      NaN  \n",
       "\n",
       "[5 rows x 454 columns]"
      ]
     },
     "execution_count": 4,
     "metadata": {},
     "output_type": "execute_result"
    }
   ],
   "source": [
    "df_11.tail()"
   ]
  },
  {
   "cell_type": "code",
   "execution_count": 5,
   "metadata": {},
   "outputs": [
    {
     "data": {
      "text/plain": [
       "(506467, 454)"
      ]
     },
     "execution_count": 5,
     "metadata": {},
     "output_type": "execute_result"
    }
   ],
   "source": [
    "df_11.shape"
   ]
  },
  {
   "cell_type": "markdown",
   "metadata": {},
   "source": [
    "Going to get rid of most of the columns, only keeping demographic information, ACE questions, and questions about mental and some health behaviors"
   ]
  },
  {
   "cell_type": "code",
   "execution_count": 7,
   "metadata": {},
   "outputs": [],
   "source": [
    "brfss_2011_small = df_11[['_STATE', 'DISPCODE', 'GENHLTH', 'PHYSHLTH', 'MENTHLTH', 'POORHLTH', 'SMOKE100', \n",
    "                       'SMOKDAY2', 'STOPSMK2', 'USENOW3', 'AGE', 'HISPANC2', 'MRACE', 'ORACE2', 'MARITAL',\n",
    "                       'CHILDREN', 'EDUCA', 'EMPLOY', 'INCOME2', 'RENTHOM1', 'SEX', 'EXERANY2', 'QLACTLM2',\n",
    "                        'AVEDRNK2', 'DRNK3GE5', 'QLREST2', 'SLEPTIME', 'SCNTMONY', 'SCNTMEAL', \n",
    "                       'ACEDEPRS', 'ACEDRINK', 'ACEDRUGS', 'ACEPRISN', 'ACEDIVRC', 'ACEPUNCH', 'ACEHURT', 'ACESWEAR', \n",
    "                       'ACETOUCH', 'ACETTHEM', 'ACEHVSEX', 'MSCODE', '_IMPAGE', '_RFHLTH', '_SMOKER3', \n",
    "                       '_RFSMOK3', '_PRACE', '_EDUCAG', '_INCOMG', '_TOTINDA']]"
   ]
  },
  {
   "cell_type": "code",
   "execution_count": 6,
   "metadata": {
    "collapsed": true,
    "jupyter": {
     "outputs_hidden": true
    }
   },
   "outputs": [
    {
     "name": "stdout",
     "output_type": "stream",
     "text": [
      "<class 'pandas.core.frame.DataFrame'>\n",
      "RangeIndex: 506467 entries, 0 to 506466\n",
      "Data columns (total 49 columns):\n",
      " #   Column    Non-Null Count   Dtype  \n",
      "---  ------    --------------   -----  \n",
      " 0   _STATE    506467 non-null  float64\n",
      " 1   DISPCODE  506467 non-null  float64\n",
      " 2   GENHLTH   506464 non-null  float64\n",
      " 3   PHYSHLTH  506466 non-null  float64\n",
      " 4   MENTHLTH  506467 non-null  float64\n",
      " 5   POORHLTH  264457 non-null  float64\n",
      " 6   SMOKE100  506467 non-null  float64\n",
      " 7   SMOKDAY2  232860 non-null  float64\n",
      " 8   STOPSMK2  84750 non-null   float64\n",
      " 9   USENOW3   506464 non-null  float64\n",
      " 10  AGE       506466 non-null  float64\n",
      " 11  HISPANC2  506467 non-null  float64\n",
      " 12  MRACE     506467 non-null  object \n",
      " 13  ORACE2    10080 non-null   float64\n",
      " 14  MARITAL   506249 non-null  float64\n",
      " 15  CHILDREN  505877 non-null  float64\n",
      " 16  EDUCA     506118 non-null  float64\n",
      " 17  EMPLOY    506024 non-null  float64\n",
      " 18  INCOME2   505468 non-null  float64\n",
      " 19  RENTHOM1  504218 non-null  float64\n",
      " 20  SEX       506467 non-null  float64\n",
      " 21  EXERANY2  485742 non-null  float64\n",
      " 22  QLACTLM2  481918 non-null  float64\n",
      " 23  AVEDRNK2  242385 non-null  float64\n",
      " 24  DRNK3GE5  242218 non-null  float64\n",
      " 25  QLREST2   23137 non-null   float64\n",
      " 26  SLEPTIME  23130 non-null   float64\n",
      " 27  SCNTMONY  38749 non-null   float64\n",
      " 28  SCNTMEAL  40519 non-null   float64\n",
      " 29  ACEDEPRS  48526 non-null   float64\n",
      " 30  ACEDRINK  48505 non-null   float64\n",
      " 31  ACEDRUGS  48500 non-null   float64\n",
      " 32  ACEPRISN  48496 non-null   float64\n",
      " 33  ACEDIVRC  48492 non-null   float64\n",
      " 34  ACEPUNCH  48484 non-null   float64\n",
      " 35  ACEHURT   48478 non-null   float64\n",
      " 36  ACESWEAR  48469 non-null   float64\n",
      " 37  ACETOUCH  48461 non-null   float64\n",
      " 38  ACETTHEM  48450 non-null   float64\n",
      " 39  ACEHVSEX  48437 non-null   float64\n",
      " 40  MSCODE    429099 non-null  float64\n",
      " 41  _IMPAGE   506467 non-null  float64\n",
      " 42  _RFHLTH   506467 non-null  float64\n",
      " 43  _SMOKER3  506467 non-null  float64\n",
      " 44  _RFSMOK3  506467 non-null  float64\n",
      " 45  _PRACE    506259 non-null  float64\n",
      " 46  _EDUCAG   506467 non-null  float64\n",
      " 47  _INCOMG   506467 non-null  float64\n",
      " 48  _TOTINDA  506467 non-null  float64\n",
      "dtypes: float64(48), object(1)\n",
      "memory usage: 189.3+ MB\n"
     ]
    }
   ],
   "source": [
    "brfss_2011_small.info()"
   ]
  },
  {
   "cell_type": "code",
   "execution_count": 7,
   "metadata": {},
   "outputs": [
    {
     "data": {
      "text/plain": [
       "(506467, 49)"
      ]
     },
     "execution_count": 7,
     "metadata": {},
     "output_type": "execute_result"
    }
   ],
   "source": [
    "# now down to only 69 columns\n",
    "brfss_2011_small.shape"
   ]
  },
  {
   "cell_type": "code",
   "execution_count": 8,
   "metadata": {},
   "outputs": [],
   "source": [
    "# turning my 2011 data into a pickle file\n",
    "pd.to_pickle(brfss_2011_small, './Pickled_Data/brfss_2011.pkl')"
   ]
  },
  {
   "cell_type": "code",
   "execution_count": 9,
   "metadata": {},
   "outputs": [],
   "source": [
    "# just checking to see how my pickle file reads into the notebook\n",
    "df_11 = pd.read_pickle('./Pickled_Data/brfss_2011.pkl')"
   ]
  },
  {
   "cell_type": "code",
   "execution_count": 62,
   "metadata": {},
   "outputs": [
    {
     "data": {
      "text/plain": [
       "_STATE  ACEDEPRS\n",
       "27.0    1.0          2195\n",
       "        2.0         11480\n",
       "        7.0           105\n",
       "        9.0           183\n",
       "30.0    1.0          1524\n",
       "        2.0          7706\n",
       "        7.0            62\n",
       "        9.0            36\n",
       "50.0    1.0          1090\n",
       "        2.0          5629\n",
       "        7.0            42\n",
       "        9.0            25\n",
       "53.0    1.0          2531\n",
       "        2.0         11318\n",
       "        7.0           101\n",
       "        9.0            16\n",
       "55.0    1.0           577\n",
       "        2.0          3865\n",
       "        7.0            16\n",
       "        9.0            25\n",
       "dtype: int64"
      ]
     },
     "execution_count": 62,
     "metadata": {},
     "output_type": "execute_result"
    }
   ],
   "source": [
    "# looks like only 5 states used the ACE in 2011 so will condense data set to only include these 5 states\n",
    "brfss_2011_small.groupby(['_STATE', 'ACEDEPRS']).size()"
   ]
  },
  {
   "cell_type": "code",
   "execution_count": 63,
   "metadata": {
    "collapsed": true,
    "jupyter": {
     "outputs_hidden": true
    }
   },
   "outputs": [
    {
     "data": {
      "text/plain": [
       "_STATE  ACEDRINK\n",
       "27.0    1.0          3220\n",
       "        2.0         10491\n",
       "        7.0            59\n",
       "        9.0           184\n",
       "30.0    1.0          2580\n",
       "        2.0          6683\n",
       "        7.0            26\n",
       "        9.0            37\n",
       "50.0    1.0          1613\n",
       "        2.0          5124\n",
       "        7.0            23\n",
       "        9.0            24\n",
       "53.0    1.0          3601\n",
       "        2.0         10288\n",
       "        7.0            50\n",
       "        9.0            24\n",
       "55.0    1.0           969\n",
       "        2.0          3484\n",
       "        7.0             8\n",
       "        9.0            17\n",
       "dtype: int64"
      ]
     },
     "execution_count": 63,
     "metadata": {},
     "output_type": "execute_result"
    }
   ],
   "source": [
    "brfss_2011_small.groupby(['_STATE', 'ACEDRINK']).size()"
   ]
  },
  {
   "cell_type": "code",
   "execution_count": 64,
   "metadata": {
    "collapsed": true,
    "jupyter": {
     "outputs_hidden": true
    }
   },
   "outputs": [
    {
     "data": {
      "text/plain": [
       "_STATE  ACEDRUGS\n",
       "27.0    1.0          1091\n",
       "        2.0         12625\n",
       "        7.0            55\n",
       "        9.0           181\n",
       "30.0    1.0           764\n",
       "        2.0          8512\n",
       "        7.0            28\n",
       "        9.0            22\n",
       "50.0    1.0           455\n",
       "        2.0          6284\n",
       "        7.0            30\n",
       "        9.0            15\n",
       "53.0    1.0          1178\n",
       "        2.0         12708\n",
       "        7.0            65\n",
       "        9.0            10\n",
       "55.0    1.0           284\n",
       "        2.0          4173\n",
       "        7.0            11\n",
       "        9.0             9\n",
       "dtype: int64"
      ]
     },
     "execution_count": 64,
     "metadata": {},
     "output_type": "execute_result"
    }
   ],
   "source": [
    "brfss_2011_small.groupby(['_STATE', 'ACEDRUGS']).size()"
   ]
  },
  {
   "cell_type": "code",
   "execution_count": 65,
   "metadata": {
    "collapsed": true,
    "jupyter": {
     "outputs_hidden": true
    }
   },
   "outputs": [
    {
     "data": {
      "text/plain": [
       "_STATE  ACEPRISN\n",
       "27.0    1.0           641\n",
       "        2.0         13106\n",
       "        7.0            29\n",
       "        9.0           174\n",
       "30.0    1.0           482\n",
       "        2.0          8800\n",
       "        7.0            21\n",
       "        9.0            23\n",
       "50.0    1.0           227\n",
       "        2.0          6536\n",
       "        7.0            10\n",
       "        9.0            10\n",
       "53.0    1.0           659\n",
       "        2.0         13268\n",
       "        7.0            20\n",
       "        9.0            14\n",
       "55.0    1.0           220\n",
       "        2.0          4243\n",
       "        7.0             4\n",
       "        9.0             9\n",
       "dtype: int64"
      ]
     },
     "execution_count": 65,
     "metadata": {},
     "output_type": "execute_result"
    }
   ],
   "source": [
    "brfss_2011_small.groupby(['_STATE', 'ACEPRISN']).size()"
   ]
  },
  {
   "cell_type": "code",
   "execution_count": 66,
   "metadata": {
    "collapsed": true,
    "jupyter": {
     "outputs_hidden": true
    }
   },
   "outputs": [
    {
     "data": {
      "text/plain": [
       "_STATE  ACEDIVRC\n",
       "27.0    1.0          2390\n",
       "        2.0         11224\n",
       "        7.0            37\n",
       "        8.0           118\n",
       "        9.0           179\n",
       "30.0    1.0          2035\n",
       "        2.0          7214\n",
       "        7.0            31\n",
       "        8.0            22\n",
       "        9.0            24\n",
       "50.0    1.0          1268\n",
       "        2.0          5458\n",
       "        7.0            17\n",
       "        8.0            20\n",
       "        9.0            19\n",
       "53.0    1.0          3218\n",
       "        2.0         10603\n",
       "        7.0            70\n",
       "        8.0            49\n",
       "        9.0            20\n",
       "55.0    1.0           834\n",
       "        2.0          3585\n",
       "        7.0            22\n",
       "        8.0            19\n",
       "        9.0            16\n",
       "dtype: int64"
      ]
     },
     "execution_count": 66,
     "metadata": {},
     "output_type": "execute_result"
    }
   ],
   "source": [
    "brfss_2011_small.groupby(['_STATE', 'ACEDIVRC']).size()"
   ]
  },
  {
   "cell_type": "code",
   "execution_count": 67,
   "metadata": {
    "collapsed": true,
    "jupyter": {
     "outputs_hidden": true
    }
   },
   "outputs": [
    {
     "data": {
      "text/plain": [
       "_STATE  ACEPUNCH\n",
       "27.0    1.0         11722\n",
       "        2.0           527\n",
       "        3.0          1320\n",
       "        7.0           154\n",
       "        9.0           220\n",
       "30.0    1.0          7679\n",
       "        2.0           277\n",
       "        3.0          1187\n",
       "        7.0           102\n",
       "        9.0            78\n",
       "50.0    1.0          5780\n",
       "        2.0           238\n",
       "        3.0           676\n",
       "        7.0            44\n",
       "        9.0            44\n",
       "53.0    1.0         11460\n",
       "        2.0           659\n",
       "        3.0          1677\n",
       "        7.0           118\n",
       "        9.0            46\n",
       "55.0    1.0          3700\n",
       "        2.0           194\n",
       "        3.0           507\n",
       "        7.0            38\n",
       "        9.0            37\n",
       "dtype: int64"
      ]
     },
     "execution_count": 67,
     "metadata": {},
     "output_type": "execute_result"
    }
   ],
   "source": [
    "brfss_2011_small.groupby(['_STATE', 'ACEPUNCH']).size()"
   ]
  },
  {
   "cell_type": "code",
   "execution_count": 68,
   "metadata": {
    "collapsed": true,
    "jupyter": {
     "outputs_hidden": true
    }
   },
   "outputs": [
    {
     "data": {
      "text/plain": [
       "_STATE  ACEHURT\n",
       "27.0    1.0        11626\n",
       "        2.0          601\n",
       "        3.0         1429\n",
       "        7.0           58\n",
       "        9.0          227\n",
       "30.0    1.0         7712\n",
       "        2.0          364\n",
       "        3.0         1155\n",
       "        7.0           36\n",
       "        9.0           55\n",
       "50.0    1.0         5750\n",
       "        2.0          238\n",
       "        3.0          708\n",
       "        7.0           27\n",
       "        9.0           58\n",
       "53.0    1.0        11372\n",
       "        2.0          594\n",
       "        3.0         1891\n",
       "        7.0           44\n",
       "        9.0           58\n",
       "55.0    1.0         3739\n",
       "        2.0          194\n",
       "        3.0          501\n",
       "        7.0            7\n",
       "        9.0           34\n",
       "dtype: int64"
      ]
     },
     "execution_count": 68,
     "metadata": {},
     "output_type": "execute_result"
    }
   ],
   "source": [
    "brfss_2011_small.groupby(['_STATE', 'ACEHURT']).size()"
   ]
  },
  {
   "cell_type": "code",
   "execution_count": 69,
   "metadata": {
    "collapsed": true,
    "jupyter": {
     "outputs_hidden": true
    }
   },
   "outputs": [
    {
     "data": {
      "text/plain": [
       "_STATE  ACESWEAR\n",
       "27.0    1.0         9028\n",
       "        2.0          908\n",
       "        3.0         3584\n",
       "        7.0          177\n",
       "        9.0          241\n",
       "30.0    1.0         5958\n",
       "        2.0          569\n",
       "        3.0         2655\n",
       "        7.0           79\n",
       "        9.0           61\n",
       "50.0    1.0         4599\n",
       "        2.0          357\n",
       "        3.0         1693\n",
       "        7.0           68\n",
       "        9.0           64\n",
       "53.0    1.0         8763\n",
       "        2.0          842\n",
       "        3.0         4144\n",
       "        7.0          137\n",
       "        9.0           68\n",
       "55.0    1.0         2896\n",
       "        2.0          400\n",
       "        3.0         1121\n",
       "        7.0           24\n",
       "        9.0           33\n",
       "dtype: int64"
      ]
     },
     "execution_count": 69,
     "metadata": {},
     "output_type": "execute_result"
    }
   ],
   "source": [
    "brfss_2011_small.groupby(['_STATE', 'ACESWEAR']).size()"
   ]
  },
  {
   "cell_type": "code",
   "execution_count": 70,
   "metadata": {
    "collapsed": true,
    "jupyter": {
     "outputs_hidden": true
    }
   },
   "outputs": [
    {
     "data": {
      "text/plain": [
       "_STATE  ACETOUCH\n",
       "27.0    1.0         12374\n",
       "        2.0           480\n",
       "        3.0           749\n",
       "        7.0            50\n",
       "        9.0           284\n",
       "30.0    1.0          8194\n",
       "        2.0           351\n",
       "        3.0           659\n",
       "        7.0            27\n",
       "        9.0            88\n",
       "50.0    1.0          5979\n",
       "        2.0           225\n",
       "        3.0           467\n",
       "        7.0            22\n",
       "        9.0            88\n",
       "53.0    1.0         11874\n",
       "        2.0           691\n",
       "        3.0          1215\n",
       "        7.0            40\n",
       "        9.0           131\n",
       "55.0    1.0          4020\n",
       "        2.0           153\n",
       "        3.0           252\n",
       "        7.0             7\n",
       "        9.0            41\n",
       "dtype: int64"
      ]
     },
     "execution_count": 70,
     "metadata": {},
     "output_type": "execute_result"
    }
   ],
   "source": [
    "brfss_2011_small.groupby(['_STATE', 'ACETOUCH']).size()"
   ]
  },
  {
   "cell_type": "code",
   "execution_count": 71,
   "metadata": {
    "collapsed": true,
    "jupyter": {
     "outputs_hidden": true
    }
   },
   "outputs": [
    {
     "data": {
      "text/plain": [
       "_STATE  ACETTHEM\n",
       "27.0    1.0         12745\n",
       "        2.0           362\n",
       "        3.0           501\n",
       "        7.0            61\n",
       "        9.0           264\n",
       "30.0    1.0          8501\n",
       "        2.0           241\n",
       "        3.0           460\n",
       "        7.0            29\n",
       "        9.0            87\n",
       "50.0    1.0          6199\n",
       "        2.0           159\n",
       "        3.0           321\n",
       "        7.0            25\n",
       "        9.0            77\n",
       "53.0    1.0         12450\n",
       "        2.0           494\n",
       "        3.0           836\n",
       "        7.0            44\n",
       "        9.0           125\n",
       "55.0    1.0          4160\n",
       "        2.0           110\n",
       "        3.0           158\n",
       "        7.0             4\n",
       "        9.0            37\n",
       "dtype: int64"
      ]
     },
     "execution_count": 71,
     "metadata": {},
     "output_type": "execute_result"
    }
   ],
   "source": [
    "brfss_2011_small.groupby(['_STATE', 'ACETTHEM']).size()"
   ]
  },
  {
   "cell_type": "code",
   "execution_count": 72,
   "metadata": {
    "collapsed": true,
    "jupyter": {
     "outputs_hidden": true
    }
   },
   "outputs": [
    {
     "data": {
      "text/plain": [
       "_STATE  ACEHVSEX\n",
       "27.0    1.0         13168\n",
       "        2.0           176\n",
       "        3.0           277\n",
       "        7.0            48\n",
       "        9.0           260\n",
       "30.0    1.0          8785\n",
       "        2.0           149\n",
       "        3.0           281\n",
       "        7.0            20\n",
       "        9.0            79\n",
       "50.0    1.0          6415\n",
       "        2.0            81\n",
       "        3.0           186\n",
       "        7.0            17\n",
       "        9.0            80\n",
       "53.0    1.0         13089\n",
       "        2.0           204\n",
       "        3.0           471\n",
       "        7.0            48\n",
       "        9.0           135\n",
       "55.0    1.0          4260\n",
       "        2.0            70\n",
       "        3.0            99\n",
       "        7.0             4\n",
       "        9.0            35\n",
       "dtype: int64"
      ]
     },
     "execution_count": 72,
     "metadata": {},
     "output_type": "execute_result"
    }
   ],
   "source": [
    "brfss_2011_small.groupby(['_STATE', 'ACEHVSEX']).size()"
   ]
  },
  {
   "cell_type": "code",
   "execution_count": 10,
   "metadata": {},
   "outputs": [],
   "source": [
    "# reading in 2012 BRFSS\n",
    "df_12 = pd.read_sas('./SAS_Data/LLCP2012.XPT', format='xport')"
   ]
  },
  {
   "cell_type": "code",
   "execution_count": 78,
   "metadata": {},
   "outputs": [
    {
     "data": {
      "text/plain": [
       "(475687, 359)"
      ]
     },
     "execution_count": 78,
     "metadata": {},
     "output_type": "execute_result"
    }
   ],
   "source": [
    "df_12.shape"
   ]
  },
  {
   "cell_type": "code",
   "execution_count": 11,
   "metadata": {},
   "outputs": [],
   "source": [
    "# looks like they got rid of the anxiety and depression module for 2012\n",
    "brfss_2012_small = df_12[['_STATE', 'DISPCODE', 'GENHLTH', 'PHYSHLTH', 'MENTHLTH', 'POORHLTH', 'SMOKE100', \n",
    "                       'SMOKDAY2', 'STOPSMK2', 'USENOW3', 'AGE', 'HISPANC2', 'MRACE', 'ORACE2', 'MARITAL',\n",
    "                       'CHILDREN', 'EDUCA', 'EMPLOY', 'INCOME2', 'RENTHOM1', 'SEX', 'EXERANY2', 'QLACTLM2',\n",
    "                        'AVEDRNK2', 'DRNK3GE5', 'QLREST2', 'SLEPTIME', 'SCNTMONY', 'SCNTMEAL', \n",
    "                       'ACEDEPRS', 'ACEDRINK', 'ACEDRUGS', 'ACEPRISN', 'ACEDIVRC', 'ACEPUNCH', 'ACEHURT', 'ACESWEAR', \n",
    "                       'ACETOUCH', 'ACETTHEM', 'ACEHVSEX', 'MSCODE', '_IMPAGE', '_RFHLTH', '_SMOKER3', \n",
    "                       '_RFSMOK3', '_PRACE', '_EDUCAG', '_INCOMG', '_TOTINDA']]"
   ]
  },
  {
   "cell_type": "code",
   "execution_count": 106,
   "metadata": {},
   "outputs": [
    {
     "data": {
      "text/plain": [
       "(475687, 49)"
      ]
     },
     "execution_count": 106,
     "metadata": {},
     "output_type": "execute_result"
    }
   ],
   "source": [
    "brfss_2012_small.shape"
   ]
  },
  {
   "cell_type": "code",
   "execution_count": 107,
   "metadata": {
    "collapsed": true,
    "jupyter": {
     "outputs_hidden": true
    }
   },
   "outputs": [
    {
     "name": "stdout",
     "output_type": "stream",
     "text": [
      "<class 'pandas.core.frame.DataFrame'>\n",
      "RangeIndex: 475687 entries, 0 to 475686\n",
      "Data columns (total 49 columns):\n",
      " #   Column    Non-Null Count   Dtype  \n",
      "---  ------    --------------   -----  \n",
      " 0   _STATE    475687 non-null  float64\n",
      " 1   DISPCODE  475687 non-null  float64\n",
      " 2   GENHLTH   475683 non-null  float64\n",
      " 3   PHYSHLTH  475686 non-null  float64\n",
      " 4   MENTHLTH  475687 non-null  float64\n",
      " 5   POORHLTH  248860 non-null  float64\n",
      " 6   SMOKE100  468844 non-null  float64\n",
      " 7   SMOKDAY2  211815 non-null  float64\n",
      " 8   STOPSMK2  76062 non-null   float64\n",
      " 9   USENOW3   468379 non-null  float64\n",
      " 10  AGE       475687 non-null  float64\n",
      " 11  HISPANC2  475687 non-null  float64\n",
      " 12  MRACE     475687 non-null  object \n",
      " 13  ORACE2    10235 non-null   float64\n",
      " 14  MARITAL   475389 non-null  float64\n",
      " 15  CHILDREN  475312 non-null  float64\n",
      " 16  EDUCA     475242 non-null  float64\n",
      " 17  EMPLOY    475136 non-null  float64\n",
      " 18  INCOME2   474937 non-null  float64\n",
      " 19  RENTHOM1  473414 non-null  float64\n",
      " 20  SEX       475687 non-null  float64\n",
      " 21  EXERANY2  475678 non-null  float64\n",
      " 22  QLACTLM2  470108 non-null  float64\n",
      " 23  AVEDRNK2  230594 non-null  float64\n",
      " 24  DRNK3GE5  230237 non-null  float64\n",
      " 25  QLREST2   25533 non-null   float64\n",
      " 26  SLEPTIME  25518 non-null   float64\n",
      " 27  SCNTMONY  52185 non-null   float64\n",
      " 28  SCNTMEAL  55823 non-null   float64\n",
      " 29  ACEDEPRS  32823 non-null   float64\n",
      " 30  ACEDRINK  32794 non-null   float64\n",
      " 31  ACEDRUGS  32786 non-null   float64\n",
      " 32  ACEPRISN  32784 non-null   float64\n",
      " 33  ACEDIVRC  32783 non-null   float64\n",
      " 34  ACEPUNCH  32774 non-null   float64\n",
      " 35  ACEHURT   32765 non-null   float64\n",
      " 36  ACESWEAR  32749 non-null   float64\n",
      " 37  ACETOUCH  32744 non-null   float64\n",
      " 38  ACETTHEM  32724 non-null   float64\n",
      " 39  ACEHVSEX  32701 non-null   float64\n",
      " 40  MSCODE    371923 non-null  float64\n",
      " 41  _IMPAGE   475687 non-null  float64\n",
      " 42  _RFHLTH   475687 non-null  float64\n",
      " 43  _SMOKER3  475687 non-null  float64\n",
      " 44  _RFSMOK3  475687 non-null  float64\n",
      " 45  _PRACE    475469 non-null  float64\n",
      " 46  _EDUCAG   475687 non-null  float64\n",
      " 47  _INCOMG   475687 non-null  float64\n",
      " 48  _TOTINDA  475687 non-null  float64\n",
      "dtypes: float64(48), object(1)\n",
      "memory usage: 177.8+ MB\n"
     ]
    }
   ],
   "source": [
    "brfss_2012_small.info()"
   ]
  },
  {
   "cell_type": "code",
   "execution_count": 12,
   "metadata": {},
   "outputs": [],
   "source": [
    "# turning my 2012 data into a pickle file\n",
    "pd.to_pickle(brfss_2012_small, './Pickled_Data/brfss_2012.pkl')"
   ]
  },
  {
   "cell_type": "code",
   "execution_count": 13,
   "metadata": {},
   "outputs": [],
   "source": [
    "# reading in 2010 BRFSS\n",
    "df_10 = pd.read_sas('./SAS_Data/CDBRFS10.XPT', format='xport')"
   ]
  },
  {
   "cell_type": "code",
   "execution_count": 88,
   "metadata": {},
   "outputs": [
    {
     "data": {
      "text/plain": [
       "(451075, 397)"
      ]
     },
     "execution_count": 88,
     "metadata": {},
     "output_type": "execute_result"
    }
   ],
   "source": [
    "df_10.shape"
   ]
  },
  {
   "cell_type": "code",
   "execution_count": 14,
   "metadata": {},
   "outputs": [],
   "source": [
    "# looks like they got rid of the anxiety and depression module for 2012\n",
    "brfss_2010_small = df_10[['_STATE', 'DISPCODE', 'GENHLTH', 'PHYSHLTH', 'MENTHLTH', 'POORHLTH', 'SMOKE100', \n",
    "                       'SMOKDAY2', 'STOPSMK2', 'USENOW3', 'AGE', 'HISPANC2', 'MRACE', 'ORACE2', 'MARITAL',\n",
    "                       'CHILDREN', 'EDUCA', 'EMPLOY', 'INCOME2', 'RENTHOM1', 'SEX', 'EXERANY2', 'QLACTLM2',\n",
    "                        'AVEDRNK2', 'DRNK3GE5', 'QLREST2', 'SLEPTIME', 'SCNTMONY', 'SCNTMEAL', \n",
    "                       'ACEDEPRS', 'ACEDRINK', 'ACEDRUGS', 'ACEPRISN', 'ACEDIVRC', 'ACEPUNCH', 'ACEHURT', 'ACESWEAR', \n",
    "                       'ACETOUCH', 'ACETTHEM', 'ACEHVSEX', 'MSCODE', '_IMPAGE', '_RFHLTH', '_SMOKER3', \n",
    "                       '_RFSMOK3', '_PRACE', '_EDUCAG', '_INCOMG', '_TOTINDA']]"
   ]
  },
  {
   "cell_type": "code",
   "execution_count": 92,
   "metadata": {},
   "outputs": [
    {
     "data": {
      "text/plain": [
       "(451075, 49)"
      ]
     },
     "execution_count": 92,
     "metadata": {},
     "output_type": "execute_result"
    }
   ],
   "source": [
    "brfss_2010_small.shape"
   ]
  },
  {
   "cell_type": "code",
   "execution_count": 93,
   "metadata": {
    "collapsed": true,
    "jupyter": {
     "outputs_hidden": true
    }
   },
   "outputs": [
    {
     "name": "stdout",
     "output_type": "stream",
     "text": [
      "<class 'pandas.core.frame.DataFrame'>\n",
      "RangeIndex: 451075 entries, 0 to 451074\n",
      "Data columns (total 49 columns):\n",
      " #   Column    Non-Null Count   Dtype  \n",
      "---  ------    --------------   -----  \n",
      " 0   _STATE    451075 non-null  float64\n",
      " 1   DISPCODE  451075 non-null  float64\n",
      " 2   GENHLTH   451068 non-null  float64\n",
      " 3   PHYSHLTH  451069 non-null  float64\n",
      " 4   MENTHLTH  451071 non-null  float64\n",
      " 5   POORHLTH  235366 non-null  float64\n",
      " 6   SMOKE100  451074 non-null  float64\n",
      " 7   SMOKDAY2  207503 non-null  float64\n",
      " 8   STOPSMK2  70722 non-null   float64\n",
      " 9   USENOW3   451073 non-null  float64\n",
      " 10  AGE       451074 non-null  float64\n",
      " 11  HISPANC2  451074 non-null  float64\n",
      " 12  MRACE     451075 non-null  object \n",
      " 13  ORACE2    8833 non-null    float64\n",
      " 14  MARITAL   450875 non-null  float64\n",
      " 15  CHILDREN  450839 non-null  float64\n",
      " 16  EDUCA     450792 non-null  float64\n",
      " 17  EMPLOY    450724 non-null  float64\n",
      " 18  INCOME2   450600 non-null  float64\n",
      " 19  RENTHOM1  20103 non-null   float64\n",
      " 20  SEX       451075 non-null  float64\n",
      " 21  EXERANY2  451073 non-null  float64\n",
      " 22  QLACTLM2  451071 non-null  float64\n",
      " 23  AVEDRNK2  208825 non-null  float64\n",
      " 24  DRNK3GE5  208527 non-null  float64\n",
      " 25  QLREST2   451072 non-null  float64\n",
      " 26  SLEPTIME  47262 non-null   float64\n",
      " 27  SCNTMONY  19238 non-null   float64\n",
      " 28  SCNTMEAL  20097 non-null   float64\n",
      " 29  ACEDEPRS  24405 non-null   float64\n",
      " 30  ACEDRINK  24381 non-null   float64\n",
      " 31  ACEDRUGS  24376 non-null   float64\n",
      " 32  ACEPRISN  24374 non-null   float64\n",
      " 33  ACEDIVRC  24368 non-null   float64\n",
      " 34  ACEPUNCH  24362 non-null   float64\n",
      " 35  ACEHURT   24353 non-null   float64\n",
      " 36  ACESWEAR  24343 non-null   float64\n",
      " 37  ACETOUCH  24335 non-null   float64\n",
      " 38  ACETTHEM  24330 non-null   float64\n",
      " 39  ACEHVSEX  24322 non-null   float64\n",
      " 40  MSCODE    444927 non-null  float64\n",
      " 41  _IMPAGE   451075 non-null  float64\n",
      " 42  _RFHLTH   451075 non-null  float64\n",
      " 43  _SMOKER3  451075 non-null  float64\n",
      " 44  _RFSMOK3  451075 non-null  float64\n",
      " 45  _PRACE    450895 non-null  float64\n",
      " 46  _EDUCAG   451075 non-null  float64\n",
      " 47  _INCOMG   451075 non-null  float64\n",
      " 48  _TOTINDA  451075 non-null  float64\n",
      "dtypes: float64(48), object(1)\n",
      "memory usage: 168.6+ MB\n"
     ]
    }
   ],
   "source": [
    "brfss_2010_small.info()"
   ]
  },
  {
   "cell_type": "code",
   "execution_count": 16,
   "metadata": {},
   "outputs": [],
   "source": [
    "# turning my 2010 data into a pickle file\n",
    "pd.to_pickle(brfss_2010_small, './Pickled_Data/brfss_2010.pkl')"
   ]
  },
  {
   "cell_type": "code",
   "execution_count": 17,
   "metadata": {},
   "outputs": [],
   "source": [
    "# reading in 2009 BRFSS\n",
    "df_09 = pd.read_sas('./SAS_Data/CDBRFS09.XPT', format='xport')"
   ]
  },
  {
   "cell_type": "code",
   "execution_count": 96,
   "metadata": {},
   "outputs": [
    {
     "data": {
      "text/plain": [
       "(432607, 405)"
      ]
     },
     "execution_count": 96,
     "metadata": {},
     "output_type": "execute_result"
    }
   ],
   "source": [
    "df_09.shape"
   ]
  },
  {
   "cell_type": "code",
   "execution_count": 18,
   "metadata": {},
   "outputs": [],
   "source": [
    "# looks like they got rid of the anxiety and depression module for 2012\n",
    "brfss_2009_small = df_09[['_STATE', 'DISPCODE', 'GENHLTH', 'PHYSHLTH', 'MENTHLTH', 'POORHLTH', 'SMOKE100', \n",
    "                       'SMOKDAY2', 'STOPSMK2', 'USENOW3', 'AGE', 'HISPANC2', 'MRACE', 'ORACE2', 'MARITAL',\n",
    "                       'CHILDREN', 'EDUCA', 'EMPLOY', 'INCOME2', 'RENTHOM1', 'SEX', 'EXERANY2', 'QLACTLM2',\n",
    "                        'AVEDRNK2', 'DRNK3GE5', 'QLREST2', 'SLEPTIME', 'SCNTMONY', 'SCNTMEAL', \n",
    "                       'ACEDEPRS', 'ACEDRINK', 'ACEDRUGS', 'ACEPRISN', 'ACEDIVRC', 'ACEPUNCH', 'ACEHURT', 'ACESWEAR', \n",
    "                       'ACETOUCH', 'ACETTHEM', 'ACEHVSEX', 'MSCODE', '_IMPAGE', '_RFHLTH', '_SMOKER3', \n",
    "                       '_RFSMOK3', '_PRACE', '_EDUCAG', '_INCOMG', '_TOTINDA']]"
   ]
  },
  {
   "cell_type": "code",
   "execution_count": 98,
   "metadata": {},
   "outputs": [
    {
     "data": {
      "text/plain": [
       "(432607, 49)"
      ]
     },
     "execution_count": 98,
     "metadata": {},
     "output_type": "execute_result"
    }
   ],
   "source": [
    "brfss_2009_small.shape"
   ]
  },
  {
   "cell_type": "code",
   "execution_count": 99,
   "metadata": {
    "collapsed": true,
    "jupyter": {
     "outputs_hidden": true
    }
   },
   "outputs": [
    {
     "name": "stdout",
     "output_type": "stream",
     "text": [
      "<class 'pandas.core.frame.DataFrame'>\n",
      "RangeIndex: 432607 entries, 0 to 432606\n",
      "Data columns (total 49 columns):\n",
      " #   Column    Non-Null Count   Dtype  \n",
      "---  ------    --------------   -----  \n",
      " 0   _STATE    432607 non-null  float64\n",
      " 1   DISPCODE  432607 non-null  float64\n",
      " 2   GENHLTH   432601 non-null  float64\n",
      " 3   PHYSHLTH  432606 non-null  float64\n",
      " 4   MENTHLTH  432606 non-null  float64\n",
      " 5   POORHLTH  224896 non-null  float64\n",
      " 6   SMOKE100  432607 non-null  float64\n",
      " 7   SMOKDAY2  199479 non-null  float64\n",
      " 8   STOPSMK2  69773 non-null   float64\n",
      " 9   USENOW3   426765 non-null  float64\n",
      " 10  AGE       432607 non-null  float64\n",
      " 11  HISPANC2  432607 non-null  float64\n",
      " 12  MRACE     432607 non-null  object \n",
      " 13  ORACE2    8186 non-null    float64\n",
      " 14  MARITAL   432455 non-null  float64\n",
      " 15  CHILDREN  432425 non-null  float64\n",
      " 16  EDUCA     432391 non-null  float64\n",
      " 17  EMPLOY    432327 non-null  float64\n",
      " 18  INCOME2   432213 non-null  float64\n",
      " 19  RENTHOM1  46514 non-null   float64\n",
      " 20  SEX       432607 non-null  float64\n",
      " 21  EXERANY2  432606 non-null  float64\n",
      " 22  QLACTLM2  427206 non-null  float64\n",
      " 23  AVEDRNK2  200503 non-null  float64\n",
      " 24  DRNK3GE5  200282 non-null  float64\n",
      " 25  QLREST2   432602 non-null  float64\n",
      " 26  SLEPTIME  37329 non-null   float64\n",
      " 27  SCNTMONY  43989 non-null   float64\n",
      " 28  SCNTMEAL  46494 non-null   float64\n",
      " 29  ACEDEPRS  12119 non-null   float64\n",
      " 30  ACEDRINK  12117 non-null   float64\n",
      " 31  ACEDRUGS  12117 non-null   float64\n",
      " 32  ACEPRISN  12116 non-null   float64\n",
      " 33  ACEDIVRC  12115 non-null   float64\n",
      " 34  ACEPUNCH  12114 non-null   float64\n",
      " 35  ACEHURT   12111 non-null   float64\n",
      " 36  ACESWEAR  12109 non-null   float64\n",
      " 37  ACETOUCH  12107 non-null   float64\n",
      " 38  ACETTHEM  12103 non-null   float64\n",
      " 39  ACEHVSEX  12100 non-null   float64\n",
      " 40  MSCODE    422665 non-null  float64\n",
      " 41  _IMPAGE   432607 non-null  float64\n",
      " 42  _RFHLTH   432607 non-null  float64\n",
      " 43  _SMOKER3  432607 non-null  float64\n",
      " 44  _RFSMOK3  432607 non-null  float64\n",
      " 45  _PRACE    432462 non-null  float64\n",
      " 46  _EDUCAG   432607 non-null  float64\n",
      " 47  _INCOMG   432607 non-null  float64\n",
      " 48  _TOTINDA  432607 non-null  float64\n",
      "dtypes: float64(48), object(1)\n",
      "memory usage: 161.7+ MB\n"
     ]
    }
   ],
   "source": [
    "brfss_2009_small.info()"
   ]
  },
  {
   "cell_type": "code",
   "execution_count": 19,
   "metadata": {},
   "outputs": [],
   "source": [
    "# turning my 2009 data into a pickle file\n",
    "pd.to_pickle(brfss_2009_small, './Pickled_Data/brfss_2009.pkl')"
   ]
  },
  {
   "cell_type": "code",
   "execution_count": 104,
   "metadata": {},
   "outputs": [
    {
     "data": {
      "text/html": [
       "<div>\n",
       "<style scoped>\n",
       "    .dataframe tbody tr th:only-of-type {\n",
       "        vertical-align: middle;\n",
       "    }\n",
       "\n",
       "    .dataframe tbody tr th {\n",
       "        vertical-align: top;\n",
       "    }\n",
       "\n",
       "    .dataframe thead th {\n",
       "        text-align: right;\n",
       "    }\n",
       "</style>\n",
       "<table border=\"1\" class=\"dataframe\">\n",
       "  <thead>\n",
       "    <tr style=\"text-align: right;\">\n",
       "      <th></th>\n",
       "      <th>_STATE</th>\n",
       "      <th>DISPCODE</th>\n",
       "      <th>GENHLTH</th>\n",
       "      <th>PHYSHLTH</th>\n",
       "      <th>MENTHLTH</th>\n",
       "      <th>POORHLTH</th>\n",
       "      <th>SMOKE100</th>\n",
       "      <th>SMOKDAY2</th>\n",
       "      <th>STOPSMK2</th>\n",
       "      <th>USENOW3</th>\n",
       "      <th>...</th>\n",
       "      <th>ADTHINK</th>\n",
       "      <th>ADMOVE</th>\n",
       "      <th>MISTMNT</th>\n",
       "      <th>ADANXEV</th>\n",
       "      <th>_IMPRACE</th>\n",
       "      <th>_BMI5CAT</th>\n",
       "      <th>_RFBING5</th>\n",
       "      <th>_DRNKDY4</th>\n",
       "      <th>_DRNKMO4</th>\n",
       "      <th>_RFDRHV4</th>\n",
       "    </tr>\n",
       "  </thead>\n",
       "  <tbody>\n",
       "    <tr>\n",
       "      <th>0</th>\n",
       "      <td>1.0</td>\n",
       "      <td>120.0</td>\n",
       "      <td>3.0</td>\n",
       "      <td>88.0</td>\n",
       "      <td>88.0</td>\n",
       "      <td>NaN</td>\n",
       "      <td>1.0</td>\n",
       "      <td>3.0</td>\n",
       "      <td>NaN</td>\n",
       "      <td>3.0</td>\n",
       "      <td>...</td>\n",
       "      <td>NaN</td>\n",
       "      <td>NaN</td>\n",
       "      <td>NaN</td>\n",
       "      <td>NaN</td>\n",
       "      <td>NaN</td>\n",
       "      <td>NaN</td>\n",
       "      <td>NaN</td>\n",
       "      <td>NaN</td>\n",
       "      <td>NaN</td>\n",
       "      <td>NaN</td>\n",
       "    </tr>\n",
       "    <tr>\n",
       "      <th>1</th>\n",
       "      <td>1.0</td>\n",
       "      <td>120.0</td>\n",
       "      <td>4.0</td>\n",
       "      <td>15.0</td>\n",
       "      <td>88.0</td>\n",
       "      <td>88.0</td>\n",
       "      <td>1.0</td>\n",
       "      <td>1.0</td>\n",
       "      <td>2.0</td>\n",
       "      <td>3.0</td>\n",
       "      <td>...</td>\n",
       "      <td>NaN</td>\n",
       "      <td>NaN</td>\n",
       "      <td>NaN</td>\n",
       "      <td>NaN</td>\n",
       "      <td>NaN</td>\n",
       "      <td>NaN</td>\n",
       "      <td>NaN</td>\n",
       "      <td>NaN</td>\n",
       "      <td>NaN</td>\n",
       "      <td>NaN</td>\n",
       "    </tr>\n",
       "    <tr>\n",
       "      <th>2</th>\n",
       "      <td>1.0</td>\n",
       "      <td>120.0</td>\n",
       "      <td>5.0</td>\n",
       "      <td>7.0</td>\n",
       "      <td>88.0</td>\n",
       "      <td>77.0</td>\n",
       "      <td>1.0</td>\n",
       "      <td>1.0</td>\n",
       "      <td>1.0</td>\n",
       "      <td>3.0</td>\n",
       "      <td>...</td>\n",
       "      <td>NaN</td>\n",
       "      <td>NaN</td>\n",
       "      <td>NaN</td>\n",
       "      <td>NaN</td>\n",
       "      <td>NaN</td>\n",
       "      <td>NaN</td>\n",
       "      <td>NaN</td>\n",
       "      <td>NaN</td>\n",
       "      <td>NaN</td>\n",
       "      <td>NaN</td>\n",
       "    </tr>\n",
       "    <tr>\n",
       "      <th>3</th>\n",
       "      <td>1.0</td>\n",
       "      <td>120.0</td>\n",
       "      <td>5.0</td>\n",
       "      <td>30.0</td>\n",
       "      <td>30.0</td>\n",
       "      <td>30.0</td>\n",
       "      <td>1.0</td>\n",
       "      <td>3.0</td>\n",
       "      <td>NaN</td>\n",
       "      <td>3.0</td>\n",
       "      <td>...</td>\n",
       "      <td>NaN</td>\n",
       "      <td>NaN</td>\n",
       "      <td>NaN</td>\n",
       "      <td>NaN</td>\n",
       "      <td>NaN</td>\n",
       "      <td>NaN</td>\n",
       "      <td>NaN</td>\n",
       "      <td>NaN</td>\n",
       "      <td>NaN</td>\n",
       "      <td>NaN</td>\n",
       "    </tr>\n",
       "    <tr>\n",
       "      <th>4</th>\n",
       "      <td>1.0</td>\n",
       "      <td>120.0</td>\n",
       "      <td>2.0</td>\n",
       "      <td>4.0</td>\n",
       "      <td>15.0</td>\n",
       "      <td>88.0</td>\n",
       "      <td>2.0</td>\n",
       "      <td>NaN</td>\n",
       "      <td>NaN</td>\n",
       "      <td>3.0</td>\n",
       "      <td>...</td>\n",
       "      <td>NaN</td>\n",
       "      <td>NaN</td>\n",
       "      <td>NaN</td>\n",
       "      <td>NaN</td>\n",
       "      <td>NaN</td>\n",
       "      <td>NaN</td>\n",
       "      <td>NaN</td>\n",
       "      <td>NaN</td>\n",
       "      <td>NaN</td>\n",
       "      <td>NaN</td>\n",
       "    </tr>\n",
       "    <tr>\n",
       "      <th>...</th>\n",
       "      <td>...</td>\n",
       "      <td>...</td>\n",
       "      <td>...</td>\n",
       "      <td>...</td>\n",
       "      <td>...</td>\n",
       "      <td>...</td>\n",
       "      <td>...</td>\n",
       "      <td>...</td>\n",
       "      <td>...</td>\n",
       "      <td>...</td>\n",
       "      <td>...</td>\n",
       "      <td>...</td>\n",
       "      <td>...</td>\n",
       "      <td>...</td>\n",
       "      <td>...</td>\n",
       "      <td>...</td>\n",
       "      <td>...</td>\n",
       "      <td>...</td>\n",
       "      <td>...</td>\n",
       "      <td>...</td>\n",
       "      <td>...</td>\n",
       "    </tr>\n",
       "    <tr>\n",
       "      <th>1390144</th>\n",
       "      <td>72.0</td>\n",
       "      <td>110.0</td>\n",
       "      <td>2.0</td>\n",
       "      <td>30.0</td>\n",
       "      <td>15.0</td>\n",
       "      <td>88.0</td>\n",
       "      <td>1.0</td>\n",
       "      <td>3.0</td>\n",
       "      <td>NaN</td>\n",
       "      <td>3.0</td>\n",
       "      <td>...</td>\n",
       "      <td>NaN</td>\n",
       "      <td>NaN</td>\n",
       "      <td>NaN</td>\n",
       "      <td>NaN</td>\n",
       "      <td>5.0</td>\n",
       "      <td>2.0</td>\n",
       "      <td>1.0</td>\n",
       "      <td>5.397605e-79</td>\n",
       "      <td>5.397605e-79</td>\n",
       "      <td>1.0</td>\n",
       "    </tr>\n",
       "    <tr>\n",
       "      <th>1390145</th>\n",
       "      <td>72.0</td>\n",
       "      <td>110.0</td>\n",
       "      <td>4.0</td>\n",
       "      <td>30.0</td>\n",
       "      <td>25.0</td>\n",
       "      <td>88.0</td>\n",
       "      <td>2.0</td>\n",
       "      <td>NaN</td>\n",
       "      <td>NaN</td>\n",
       "      <td>3.0</td>\n",
       "      <td>...</td>\n",
       "      <td>NaN</td>\n",
       "      <td>NaN</td>\n",
       "      <td>NaN</td>\n",
       "      <td>NaN</td>\n",
       "      <td>5.0</td>\n",
       "      <td>4.0</td>\n",
       "      <td>2.0</td>\n",
       "      <td>2.700000e+01</td>\n",
       "      <td>8.000000e+00</td>\n",
       "      <td>1.0</td>\n",
       "    </tr>\n",
       "    <tr>\n",
       "      <th>1390146</th>\n",
       "      <td>72.0</td>\n",
       "      <td>110.0</td>\n",
       "      <td>4.0</td>\n",
       "      <td>88.0</td>\n",
       "      <td>88.0</td>\n",
       "      <td>NaN</td>\n",
       "      <td>2.0</td>\n",
       "      <td>NaN</td>\n",
       "      <td>NaN</td>\n",
       "      <td>3.0</td>\n",
       "      <td>...</td>\n",
       "      <td>NaN</td>\n",
       "      <td>NaN</td>\n",
       "      <td>NaN</td>\n",
       "      <td>NaN</td>\n",
       "      <td>5.0</td>\n",
       "      <td>2.0</td>\n",
       "      <td>1.0</td>\n",
       "      <td>5.397605e-79</td>\n",
       "      <td>5.397605e-79</td>\n",
       "      <td>1.0</td>\n",
       "    </tr>\n",
       "    <tr>\n",
       "      <th>1390147</th>\n",
       "      <td>72.0</td>\n",
       "      <td>110.0</td>\n",
       "      <td>2.0</td>\n",
       "      <td>88.0</td>\n",
       "      <td>88.0</td>\n",
       "      <td>NaN</td>\n",
       "      <td>2.0</td>\n",
       "      <td>NaN</td>\n",
       "      <td>NaN</td>\n",
       "      <td>3.0</td>\n",
       "      <td>...</td>\n",
       "      <td>NaN</td>\n",
       "      <td>NaN</td>\n",
       "      <td>NaN</td>\n",
       "      <td>NaN</td>\n",
       "      <td>5.0</td>\n",
       "      <td>2.0</td>\n",
       "      <td>1.0</td>\n",
       "      <td>5.397605e-79</td>\n",
       "      <td>5.397605e-79</td>\n",
       "      <td>1.0</td>\n",
       "    </tr>\n",
       "    <tr>\n",
       "      <th>1390148</th>\n",
       "      <td>72.0</td>\n",
       "      <td>110.0</td>\n",
       "      <td>3.0</td>\n",
       "      <td>1.0</td>\n",
       "      <td>2.0</td>\n",
       "      <td>88.0</td>\n",
       "      <td>1.0</td>\n",
       "      <td>3.0</td>\n",
       "      <td>NaN</td>\n",
       "      <td>3.0</td>\n",
       "      <td>...</td>\n",
       "      <td>NaN</td>\n",
       "      <td>NaN</td>\n",
       "      <td>NaN</td>\n",
       "      <td>NaN</td>\n",
       "      <td>5.0</td>\n",
       "      <td>1.0</td>\n",
       "      <td>1.0</td>\n",
       "      <td>5.397605e-79</td>\n",
       "      <td>5.397605e-79</td>\n",
       "      <td>1.0</td>\n",
       "    </tr>\n",
       "  </tbody>\n",
       "</table>\n",
       "<p>1390149 rows × 69 columns</p>\n",
       "</div>"
      ],
      "text/plain": [
       "         _STATE  DISPCODE  GENHLTH  PHYSHLTH  MENTHLTH  POORHLTH  SMOKE100  \\\n",
       "0           1.0     120.0      3.0      88.0      88.0       NaN       1.0   \n",
       "1           1.0     120.0      4.0      15.0      88.0      88.0       1.0   \n",
       "2           1.0     120.0      5.0       7.0      88.0      77.0       1.0   \n",
       "3           1.0     120.0      5.0      30.0      30.0      30.0       1.0   \n",
       "4           1.0     120.0      2.0       4.0      15.0      88.0       2.0   \n",
       "...         ...       ...      ...       ...       ...       ...       ...   \n",
       "1390144    72.0     110.0      2.0      30.0      15.0      88.0       1.0   \n",
       "1390145    72.0     110.0      4.0      30.0      25.0      88.0       2.0   \n",
       "1390146    72.0     110.0      4.0      88.0      88.0       NaN       2.0   \n",
       "1390147    72.0     110.0      2.0      88.0      88.0       NaN       2.0   \n",
       "1390148    72.0     110.0      3.0       1.0       2.0      88.0       1.0   \n",
       "\n",
       "         SMOKDAY2  STOPSMK2  USENOW3  ...  ADTHINK  ADMOVE MISTMNT  ADANXEV  \\\n",
       "0             3.0       NaN      3.0  ...      NaN     NaN     NaN      NaN   \n",
       "1             1.0       2.0      3.0  ...      NaN     NaN     NaN      NaN   \n",
       "2             1.0       1.0      3.0  ...      NaN     NaN     NaN      NaN   \n",
       "3             3.0       NaN      3.0  ...      NaN     NaN     NaN      NaN   \n",
       "4             NaN       NaN      3.0  ...      NaN     NaN     NaN      NaN   \n",
       "...           ...       ...      ...  ...      ...     ...     ...      ...   \n",
       "1390144       3.0       NaN      3.0  ...      NaN     NaN     NaN      NaN   \n",
       "1390145       NaN       NaN      3.0  ...      NaN     NaN     NaN      NaN   \n",
       "1390146       NaN       NaN      3.0  ...      NaN     NaN     NaN      NaN   \n",
       "1390147       NaN       NaN      3.0  ...      NaN     NaN     NaN      NaN   \n",
       "1390148       3.0       NaN      3.0  ...      NaN     NaN     NaN      NaN   \n",
       "\n",
       "         _IMPRACE  _BMI5CAT  _RFBING5      _DRNKDY4      _DRNKMO4  _RFDRHV4  \n",
       "0             NaN       NaN       NaN           NaN           NaN       NaN  \n",
       "1             NaN       NaN       NaN           NaN           NaN       NaN  \n",
       "2             NaN       NaN       NaN           NaN           NaN       NaN  \n",
       "3             NaN       NaN       NaN           NaN           NaN       NaN  \n",
       "4             NaN       NaN       NaN           NaN           NaN       NaN  \n",
       "...           ...       ...       ...           ...           ...       ...  \n",
       "1390144       5.0       2.0       1.0  5.397605e-79  5.397605e-79       1.0  \n",
       "1390145       5.0       4.0       2.0  2.700000e+01  8.000000e+00       1.0  \n",
       "1390146       5.0       2.0       1.0  5.397605e-79  5.397605e-79       1.0  \n",
       "1390147       5.0       2.0       1.0  5.397605e-79  5.397605e-79       1.0  \n",
       "1390148       5.0       1.0       1.0  5.397605e-79  5.397605e-79       1.0  \n",
       "\n",
       "[1390149 rows x 69 columns]"
      ]
     },
     "execution_count": 104,
     "metadata": {},
     "output_type": "execute_result"
    }
   ],
   "source": [
    "pd.concat([brfss_2009_small, brfss_2010_small, brfss_2011_small], ignore_index=True)"
   ]
  },
  {
   "cell_type": "code",
   "execution_count": null,
   "metadata": {},
   "outputs": [],
   "source": []
  }
 ],
 "metadata": {
  "kernelspec": {
   "display_name": "Python 3",
   "language": "python",
   "name": "python3"
  },
  "language_info": {
   "codemirror_mode": {
    "name": "ipython",
    "version": 3
   },
   "file_extension": ".py",
   "mimetype": "text/x-python",
   "name": "python",
   "nbconvert_exporter": "python",
   "pygments_lexer": "ipython3",
   "version": "3.8.3"
  }
 },
 "nbformat": 4,
 "nbformat_minor": 4
}
