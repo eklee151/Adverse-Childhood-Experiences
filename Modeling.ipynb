{
 "cells": [
  {
   "cell_type": "code",
   "execution_count": 1,
   "metadata": {},
   "outputs": [],
   "source": [
    "import pandas as pd\n",
    "import numpy as np\n",
    "import seaborn as sns\n",
    "import matplotlib.pyplot as plt"
   ]
  },
  {
   "cell_type": "code",
   "execution_count": 3,
   "metadata": {},
   "outputs": [],
   "source": [
    "# just checking to see how my pickle file reads into the notebook\n",
    "brfss_2009 = pd.read_pickle('./Pickled_Data/brfss_2009.pkl')\n",
    "brfss_2010 = pd.read_pickle('./Pickled_Data/brfss_2010.pkl')\n",
    "brfss_2011 = pd.read_pickle('./Pickled_Data/brfss_2011.pkl')\n",
    "brfss_2012 = pd.read_pickle('./Pickled_Data/brfss_2012.pkl')"
   ]
  },
  {
   "cell_type": "code",
   "execution_count": 4,
   "metadata": {},
   "outputs": [],
   "source": [
    "# since I'm interested specifically in ACE then any row with null values for those questions will be dropped\n",
    "brfss_2009.dropna(subset=['ACEDEPRS', 'ACEDRINK', 'ACEDRUGS', 'ACEPRISN', 'ACEDIVRC', 'ACEPUNCH', 'ACEHURT', 'ACESWEAR', \n",
    "                       'ACETOUCH', 'ACETTHEM', 'ACEHVSEX'], inplace=True)"
   ]
  },
  {
   "cell_type": "code",
   "execution_count": 5,
   "metadata": {},
   "outputs": [
    {
     "data": {
      "text/html": [
       "<div>\n",
       "<style scoped>\n",
       "    .dataframe tbody tr th:only-of-type {\n",
       "        vertical-align: middle;\n",
       "    }\n",
       "\n",
       "    .dataframe tbody tr th {\n",
       "        vertical-align: top;\n",
       "    }\n",
       "\n",
       "    .dataframe thead th {\n",
       "        text-align: right;\n",
       "    }\n",
       "</style>\n",
       "<table border=\"1\" class=\"dataframe\">\n",
       "  <thead>\n",
       "    <tr style=\"text-align: right;\">\n",
       "      <th></th>\n",
       "      <th>_STATE</th>\n",
       "      <th>DISPCODE</th>\n",
       "      <th>GENHLTH</th>\n",
       "      <th>PHYSHLTH</th>\n",
       "      <th>MENTHLTH</th>\n",
       "      <th>POORHLTH</th>\n",
       "      <th>SMOKE100</th>\n",
       "      <th>SMOKDAY2</th>\n",
       "      <th>STOPSMK2</th>\n",
       "      <th>USENOW3</th>\n",
       "      <th>...</th>\n",
       "      <th>ACEHVSEX</th>\n",
       "      <th>MSCODE</th>\n",
       "      <th>_IMPAGE</th>\n",
       "      <th>_RFHLTH</th>\n",
       "      <th>_SMOKER3</th>\n",
       "      <th>_RFSMOK3</th>\n",
       "      <th>_PRACE</th>\n",
       "      <th>_EDUCAG</th>\n",
       "      <th>_INCOMG</th>\n",
       "      <th>_TOTINDA</th>\n",
       "    </tr>\n",
       "  </thead>\n",
       "  <tbody>\n",
       "    <tr>\n",
       "      <th>14697</th>\n",
       "      <td>5.0</td>\n",
       "      <td>110.0</td>\n",
       "      <td>2.0</td>\n",
       "      <td>88.0</td>\n",
       "      <td>88.0</td>\n",
       "      <td>NaN</td>\n",
       "      <td>2.0</td>\n",
       "      <td>NaN</td>\n",
       "      <td>NaN</td>\n",
       "      <td>3.0</td>\n",
       "      <td>...</td>\n",
       "      <td>1.0</td>\n",
       "      <td>5.0</td>\n",
       "      <td>53.0</td>\n",
       "      <td>1.0</td>\n",
       "      <td>4.0</td>\n",
       "      <td>1.0</td>\n",
       "      <td>1.0</td>\n",
       "      <td>3.0</td>\n",
       "      <td>5.0</td>\n",
       "      <td>1.0</td>\n",
       "    </tr>\n",
       "    <tr>\n",
       "      <th>14699</th>\n",
       "      <td>5.0</td>\n",
       "      <td>110.0</td>\n",
       "      <td>4.0</td>\n",
       "      <td>15.0</td>\n",
       "      <td>77.0</td>\n",
       "      <td>88.0</td>\n",
       "      <td>1.0</td>\n",
       "      <td>3.0</td>\n",
       "      <td>NaN</td>\n",
       "      <td>3.0</td>\n",
       "      <td>...</td>\n",
       "      <td>1.0</td>\n",
       "      <td>5.0</td>\n",
       "      <td>64.0</td>\n",
       "      <td>2.0</td>\n",
       "      <td>3.0</td>\n",
       "      <td>1.0</td>\n",
       "      <td>1.0</td>\n",
       "      <td>2.0</td>\n",
       "      <td>2.0</td>\n",
       "      <td>1.0</td>\n",
       "    </tr>\n",
       "    <tr>\n",
       "      <th>14700</th>\n",
       "      <td>5.0</td>\n",
       "      <td>110.0</td>\n",
       "      <td>2.0</td>\n",
       "      <td>6.0</td>\n",
       "      <td>88.0</td>\n",
       "      <td>6.0</td>\n",
       "      <td>2.0</td>\n",
       "      <td>NaN</td>\n",
       "      <td>NaN</td>\n",
       "      <td>3.0</td>\n",
       "      <td>...</td>\n",
       "      <td>1.0</td>\n",
       "      <td>5.0</td>\n",
       "      <td>58.0</td>\n",
       "      <td>1.0</td>\n",
       "      <td>4.0</td>\n",
       "      <td>1.0</td>\n",
       "      <td>1.0</td>\n",
       "      <td>3.0</td>\n",
       "      <td>2.0</td>\n",
       "      <td>1.0</td>\n",
       "    </tr>\n",
       "    <tr>\n",
       "      <th>14701</th>\n",
       "      <td>5.0</td>\n",
       "      <td>110.0</td>\n",
       "      <td>5.0</td>\n",
       "      <td>30.0</td>\n",
       "      <td>88.0</td>\n",
       "      <td>88.0</td>\n",
       "      <td>2.0</td>\n",
       "      <td>NaN</td>\n",
       "      <td>NaN</td>\n",
       "      <td>3.0</td>\n",
       "      <td>...</td>\n",
       "      <td>1.0</td>\n",
       "      <td>5.0</td>\n",
       "      <td>76.0</td>\n",
       "      <td>2.0</td>\n",
       "      <td>4.0</td>\n",
       "      <td>1.0</td>\n",
       "      <td>1.0</td>\n",
       "      <td>1.0</td>\n",
       "      <td>9.0</td>\n",
       "      <td>2.0</td>\n",
       "    </tr>\n",
       "    <tr>\n",
       "      <th>14704</th>\n",
       "      <td>5.0</td>\n",
       "      <td>110.0</td>\n",
       "      <td>4.0</td>\n",
       "      <td>13.0</td>\n",
       "      <td>88.0</td>\n",
       "      <td>88.0</td>\n",
       "      <td>1.0</td>\n",
       "      <td>3.0</td>\n",
       "      <td>NaN</td>\n",
       "      <td>3.0</td>\n",
       "      <td>...</td>\n",
       "      <td>9.0</td>\n",
       "      <td>5.0</td>\n",
       "      <td>82.0</td>\n",
       "      <td>2.0</td>\n",
       "      <td>3.0</td>\n",
       "      <td>1.0</td>\n",
       "      <td>1.0</td>\n",
       "      <td>2.0</td>\n",
       "      <td>9.0</td>\n",
       "      <td>2.0</td>\n",
       "    </tr>\n",
       "  </tbody>\n",
       "</table>\n",
       "<p>5 rows × 49 columns</p>\n",
       "</div>"
      ],
      "text/plain": [
       "       _STATE  DISPCODE  GENHLTH  PHYSHLTH  MENTHLTH  POORHLTH  SMOKE100  \\\n",
       "14697     5.0     110.0      2.0      88.0      88.0       NaN       2.0   \n",
       "14699     5.0     110.0      4.0      15.0      77.0      88.0       1.0   \n",
       "14700     5.0     110.0      2.0       6.0      88.0       6.0       2.0   \n",
       "14701     5.0     110.0      5.0      30.0      88.0      88.0       2.0   \n",
       "14704     5.0     110.0      4.0      13.0      88.0      88.0       1.0   \n",
       "\n",
       "       SMOKDAY2  STOPSMK2  USENOW3  ...  ACEHVSEX  MSCODE _IMPAGE  _RFHLTH  \\\n",
       "14697       NaN       NaN      3.0  ...       1.0     5.0    53.0      1.0   \n",
       "14699       3.0       NaN      3.0  ...       1.0     5.0    64.0      2.0   \n",
       "14700       NaN       NaN      3.0  ...       1.0     5.0    58.0      1.0   \n",
       "14701       NaN       NaN      3.0  ...       1.0     5.0    76.0      2.0   \n",
       "14704       3.0       NaN      3.0  ...       9.0     5.0    82.0      2.0   \n",
       "\n",
       "       _SMOKER3  _RFSMOK3  _PRACE  _EDUCAG  _INCOMG  _TOTINDA  \n",
       "14697       4.0       1.0     1.0      3.0      5.0       1.0  \n",
       "14699       3.0       1.0     1.0      2.0      2.0       1.0  \n",
       "14700       4.0       1.0     1.0      3.0      2.0       1.0  \n",
       "14701       4.0       1.0     1.0      1.0      9.0       2.0  \n",
       "14704       3.0       1.0     1.0      2.0      9.0       2.0  \n",
       "\n",
       "[5 rows x 49 columns]"
      ]
     },
     "execution_count": 5,
     "metadata": {},
     "output_type": "execute_result"
    }
   ],
   "source": [
    "brfss_2009.head()"
   ]
  },
  {
   "cell_type": "code",
   "execution_count": 6,
   "metadata": {},
   "outputs": [
    {
     "name": "stdout",
     "output_type": "stream",
     "text": [
      "<class 'pandas.core.frame.DataFrame'>\n",
      "Int64Index: 12098 entries, 14697 to 151439\n",
      "Data columns (total 49 columns):\n",
      " #   Column    Non-Null Count  Dtype  \n",
      "---  ------    --------------  -----  \n",
      " 0   _STATE    12098 non-null  float64\n",
      " 1   DISPCODE  12098 non-null  float64\n",
      " 2   GENHLTH   12098 non-null  float64\n",
      " 3   PHYSHLTH  12098 non-null  float64\n",
      " 4   MENTHLTH  12098 non-null  float64\n",
      " 5   POORHLTH  6312 non-null   float64\n",
      " 6   SMOKE100  12098 non-null  float64\n",
      " 7   SMOKDAY2  5778 non-null   float64\n",
      " 8   STOPSMK2  2274 non-null   float64\n",
      " 9   USENOW3   12098 non-null  float64\n",
      " 10  AGE       12098 non-null  float64\n",
      " 11  HISPANC2  12098 non-null  float64\n",
      " 12  MRACE     12098 non-null  object \n",
      " 13  ORACE2    148 non-null    float64\n",
      " 14  MARITAL   12098 non-null  float64\n",
      " 15  CHILDREN  12098 non-null  float64\n",
      " 16  EDUCA     12098 non-null  float64\n",
      " 17  EMPLOY    12098 non-null  float64\n",
      " 18  INCOME2   12098 non-null  float64\n",
      " 19  RENTHOM1  8417 non-null   float64\n",
      " 20  SEX       12098 non-null  float64\n",
      " 21  EXERANY2  12098 non-null  float64\n",
      " 22  QLACTLM2  12098 non-null  float64\n",
      " 23  AVEDRNK2  4695 non-null   float64\n",
      " 24  DRNK3GE5  4695 non-null   float64\n",
      " 25  QLREST2   12098 non-null  float64\n",
      " 26  SLEPTIME  8417 non-null   float64\n",
      " 27  SCNTMONY  8017 non-null   float64\n",
      " 28  SCNTMEAL  8417 non-null   float64\n",
      " 29  ACEDEPRS  12098 non-null  float64\n",
      " 30  ACEDRINK  12098 non-null  float64\n",
      " 31  ACEDRUGS  12098 non-null  float64\n",
      " 32  ACEPRISN  12098 non-null  float64\n",
      " 33  ACEDIVRC  12098 non-null  float64\n",
      " 34  ACEPUNCH  12098 non-null  float64\n",
      " 35  ACEHURT   12098 non-null  float64\n",
      " 36  ACESWEAR  12098 non-null  float64\n",
      " 37  ACETOUCH  12098 non-null  float64\n",
      " 38  ACETTHEM  12098 non-null  float64\n",
      " 39  ACEHVSEX  12098 non-null  float64\n",
      " 40  MSCODE    12098 non-null  float64\n",
      " 41  _IMPAGE   12098 non-null  float64\n",
      " 42  _RFHLTH   12098 non-null  float64\n",
      " 43  _SMOKER3  12098 non-null  float64\n",
      " 44  _RFSMOK3  12098 non-null  float64\n",
      " 45  _PRACE    12098 non-null  float64\n",
      " 46  _EDUCAG   12098 non-null  float64\n",
      " 47  _INCOMG   12098 non-null  float64\n",
      " 48  _TOTINDA  12098 non-null  float64\n",
      "dtypes: float64(48), object(1)\n",
      "memory usage: 4.6+ MB\n"
     ]
    }
   ],
   "source": [
    "# will drop columns that are used to calculate other variables that I won't be dropping such as 'AGE', 'GENHLTH', 'SMOKE100', 'SMOKDAY2',\n",
    "# '_RFSMOK3', 'MRACE', 'ORACE2', 'EDUCA', 'INCOME2', 'EXERANY2'\n",
    "# will only keep those who completed the interview? DISPCODE of 110, drop code of 120\n",
    "brfss_2009.info()"
   ]
  },
  {
   "cell_type": "code",
   "execution_count": 7,
   "metadata": {},
   "outputs": [],
   "source": [
    "brfss_2009.drop(columns = ['AGE', 'GENHLTH', 'SMOKE100', 'SMOKDAY2','_RFSMOK3', 'MRACE', 'ORACE2', 'EDUCA', 'INCOME2', 'EXERANY2'], inplace=True)"
   ]
  },
  {
   "cell_type": "code",
   "execution_count": 8,
   "metadata": {},
   "outputs": [
    {
     "name": "stdout",
     "output_type": "stream",
     "text": [
      "<class 'pandas.core.frame.DataFrame'>\n",
      "Int64Index: 12098 entries, 14697 to 151439\n",
      "Data columns (total 39 columns):\n",
      " #   Column    Non-Null Count  Dtype  \n",
      "---  ------    --------------  -----  \n",
      " 0   _STATE    12098 non-null  float64\n",
      " 1   DISPCODE  12098 non-null  float64\n",
      " 2   PHYSHLTH  12098 non-null  float64\n",
      " 3   MENTHLTH  12098 non-null  float64\n",
      " 4   POORHLTH  6312 non-null   float64\n",
      " 5   STOPSMK2  2274 non-null   float64\n",
      " 6   USENOW3   12098 non-null  float64\n",
      " 7   HISPANC2  12098 non-null  float64\n",
      " 8   MARITAL   12098 non-null  float64\n",
      " 9   CHILDREN  12098 non-null  float64\n",
      " 10  EMPLOY    12098 non-null  float64\n",
      " 11  RENTHOM1  8417 non-null   float64\n",
      " 12  SEX       12098 non-null  float64\n",
      " 13  QLACTLM2  12098 non-null  float64\n",
      " 14  AVEDRNK2  4695 non-null   float64\n",
      " 15  DRNK3GE5  4695 non-null   float64\n",
      " 16  QLREST2   12098 non-null  float64\n",
      " 17  SLEPTIME  8417 non-null   float64\n",
      " 18  SCNTMONY  8017 non-null   float64\n",
      " 19  SCNTMEAL  8417 non-null   float64\n",
      " 20  ACEDEPRS  12098 non-null  float64\n",
      " 21  ACEDRINK  12098 non-null  float64\n",
      " 22  ACEDRUGS  12098 non-null  float64\n",
      " 23  ACEPRISN  12098 non-null  float64\n",
      " 24  ACEDIVRC  12098 non-null  float64\n",
      " 25  ACEPUNCH  12098 non-null  float64\n",
      " 26  ACEHURT   12098 non-null  float64\n",
      " 27  ACESWEAR  12098 non-null  float64\n",
      " 28  ACETOUCH  12098 non-null  float64\n",
      " 29  ACETTHEM  12098 non-null  float64\n",
      " 30  ACEHVSEX  12098 non-null  float64\n",
      " 31  MSCODE    12098 non-null  float64\n",
      " 32  _IMPAGE   12098 non-null  float64\n",
      " 33  _RFHLTH   12098 non-null  float64\n",
      " 34  _SMOKER3  12098 non-null  float64\n",
      " 35  _PRACE    12098 non-null  float64\n",
      " 36  _EDUCAG   12098 non-null  float64\n",
      " 37  _INCOMG   12098 non-null  float64\n",
      " 38  _TOTINDA  12098 non-null  float64\n",
      "dtypes: float64(39)\n",
      "memory usage: 3.7 MB\n"
     ]
    }
   ],
   "source": [
    "brfss_2009.info()"
   ]
  },
  {
   "cell_type": "code",
   "execution_count": 9,
   "metadata": {},
   "outputs": [
    {
     "data": {
      "text/plain": [
       "_STATE         0\n",
       "DISPCODE       0\n",
       "PHYSHLTH       0\n",
       "MENTHLTH       0\n",
       "POORHLTH    5786\n",
       "STOPSMK2    9824\n",
       "USENOW3        0\n",
       "HISPANC2       0\n",
       "MARITAL        0\n",
       "CHILDREN       0\n",
       "EMPLOY         0\n",
       "RENTHOM1    3681\n",
       "SEX            0\n",
       "QLACTLM2       0\n",
       "AVEDRNK2    7403\n",
       "DRNK3GE5    7403\n",
       "QLREST2        0\n",
       "SLEPTIME    3681\n",
       "SCNTMONY    4081\n",
       "SCNTMEAL    3681\n",
       "ACEDEPRS       0\n",
       "ACEDRINK       0\n",
       "ACEDRUGS       0\n",
       "ACEPRISN       0\n",
       "ACEDIVRC       0\n",
       "ACEPUNCH       0\n",
       "ACEHURT        0\n",
       "ACESWEAR       0\n",
       "ACETOUCH       0\n",
       "ACETTHEM       0\n",
       "ACEHVSEX       0\n",
       "MSCODE         0\n",
       "_IMPAGE        0\n",
       "_RFHLTH        0\n",
       "_SMOKER3       0\n",
       "_PRACE         0\n",
       "_EDUCAG        0\n",
       "_INCOMG        0\n",
       "_TOTINDA       0\n",
       "dtype: int64"
      ]
     },
     "execution_count": 9,
     "metadata": {},
     "output_type": "execute_result"
    }
   ],
   "source": [
    "# out of 12,098 entries, only 8 columns have null values\n",
    "brfss_2009.isna().sum()"
   ]
  },
  {
   "cell_type": "code",
   "execution_count": 10,
   "metadata": {},
   "outputs": [],
   "source": [
    "# replacing all don't knows, refused answers or none with zeros\n",
    "brfss_2009 = brfss_2009.replace({77:0, 88:0, 99:0, 7:0, 8:0, 9:0})"
   ]
  },
  {
   "cell_type": "code",
   "execution_count": 11,
   "metadata": {},
   "outputs": [],
   "source": [
    "# will replace 77, 88, 99 and nulls with 0\n",
    "#brfss_2009['POORHLTH'] = brfss_2009['POORHLTH'].map({77:0, 88:0, 99:0})\n",
    "brfss_2009['POORHLTH'].fillna(0, inplace=True)"
   ]
  },
  {
   "cell_type": "code",
   "execution_count": 12,
   "metadata": {},
   "outputs": [],
   "source": [
    "# will get rid of 'STOPSMK2' alltogether since 3/4 of values are missing\n",
    "brfss_2009.drop(columns='STOPSMK2', inplace=True)"
   ]
  },
  {
   "cell_type": "code",
   "execution_count": 13,
   "metadata": {},
   "outputs": [],
   "source": [
    "# will replace nulls with 0\n",
    "brfss_2009['RENTHOM1'].fillna(0, inplace = True)"
   ]
  },
  {
   "cell_type": "code",
   "execution_count": 14,
   "metadata": {},
   "outputs": [],
   "source": [
    "# maybe look into keeping 'DROCDY2_' and *'_RFBING4'*, '_DRNKDY3'\n",
    "# will replace 77, 99 and nulls with mean\n",
    "#brfss_2009['AVEDRNK2'] = brfss_2009['AVEDRNK2'].map({77:0, 99:0})\n",
    "ad2_mean = np.mean(brfss_2009['AVEDRNK2'])\n",
    "brfss_2009['AVEDRNK2'] = brfss_2009['AVEDRNK2'].replace({0:ad2_mean})\n",
    "brfss_2009['AVEDRNK2'].fillna(ad2_mean, inplace=True)"
   ]
  },
  {
   "cell_type": "code",
   "execution_count": 15,
   "metadata": {},
   "outputs": [],
   "source": [
    "# will replace 77, 99, and nulls with mean\n",
    "#brfss_2009['DRNK3GE5'] = brfss_2009['DRNK3GE5'].map({77:0, 99:0})\n",
    "dge_mean = np.mean(brfss_2009['DRNK3GE5'])\n",
    "brfss_2009['DRNK3GE5'] = brfss_2009['DRNK3GE5'].replace({0:dge_mean})\n",
    "brfss_2009['DRNK3GE5'].fillna(dge_mean, inplace=True)"
   ]
  },
  {
   "cell_type": "code",
   "execution_count": 16,
   "metadata": {},
   "outputs": [],
   "source": [
    "# will replace 77, 99 and blanks with mean\n",
    "#brfss_2009['SLEPTIME'] = brfss_2009['SLEPTIME'].map({77:0, 99:0})\n",
    "sleep_mean = np.mean(brfss_2009['SLEPTIME'])\n",
    "brfss_2009['SLEPTIME'].replace({0:sleep_mean})\n",
    "brfss_2009['SLEPTIME'].fillna(sleep_mean, inplace=True)"
   ]
  },
  {
   "cell_type": "code",
   "execution_count": 17,
   "metadata": {},
   "outputs": [],
   "source": [
    "# will replace 7, 8, 9 and nulls with 0\n",
    "#brfss_2009['SCNTMONY'] = brfss_2009['SCNTMONY'].map({7:0, 8:0, 9:0})\n",
    "brfss_2009['SCNTMONY'].fillna(0, inplace=True)"
   ]
  },
  {
   "cell_type": "code",
   "execution_count": 18,
   "metadata": {},
   "outputs": [],
   "source": [
    "# will replace 7, 8, 9 and nulls with 0\n",
    "#brfss_2009['SCNTMEAL'] = brfss_2009['SCNTMEAL'].map({7:0, 8:0, 9:0})\n",
    "brfss_2009['SCNTMEAL'].fillna(0, inplace=True)"
   ]
  },
  {
   "cell_type": "code",
   "execution_count": 19,
   "metadata": {},
   "outputs": [
    {
     "data": {
      "text/html": [
       "<div>\n",
       "<style scoped>\n",
       "    .dataframe tbody tr th:only-of-type {\n",
       "        vertical-align: middle;\n",
       "    }\n",
       "\n",
       "    .dataframe tbody tr th {\n",
       "        vertical-align: top;\n",
       "    }\n",
       "\n",
       "    .dataframe thead th {\n",
       "        text-align: right;\n",
       "    }\n",
       "</style>\n",
       "<table border=\"1\" class=\"dataframe\">\n",
       "  <thead>\n",
       "    <tr style=\"text-align: right;\">\n",
       "      <th></th>\n",
       "      <th>_STATE</th>\n",
       "      <th>DISPCODE</th>\n",
       "      <th>PHYSHLTH</th>\n",
       "      <th>MENTHLTH</th>\n",
       "      <th>POORHLTH</th>\n",
       "      <th>USENOW3</th>\n",
       "      <th>HISPANC2</th>\n",
       "      <th>MARITAL</th>\n",
       "      <th>CHILDREN</th>\n",
       "      <th>EMPLOY</th>\n",
       "      <th>...</th>\n",
       "      <th>ACETTHEM</th>\n",
       "      <th>ACEHVSEX</th>\n",
       "      <th>MSCODE</th>\n",
       "      <th>_IMPAGE</th>\n",
       "      <th>_RFHLTH</th>\n",
       "      <th>_SMOKER3</th>\n",
       "      <th>_PRACE</th>\n",
       "      <th>_EDUCAG</th>\n",
       "      <th>_INCOMG</th>\n",
       "      <th>_TOTINDA</th>\n",
       "    </tr>\n",
       "  </thead>\n",
       "  <tbody>\n",
       "    <tr>\n",
       "      <th>14697</th>\n",
       "      <td>5.0</td>\n",
       "      <td>110.0</td>\n",
       "      <td>0.0</td>\n",
       "      <td>0.0</td>\n",
       "      <td>0.0</td>\n",
       "      <td>3.0</td>\n",
       "      <td>2.0</td>\n",
       "      <td>1.0</td>\n",
       "      <td>1.0</td>\n",
       "      <td>2.0</td>\n",
       "      <td>...</td>\n",
       "      <td>1.0</td>\n",
       "      <td>1.0</td>\n",
       "      <td>5.0</td>\n",
       "      <td>53.0</td>\n",
       "      <td>1.0</td>\n",
       "      <td>4.0</td>\n",
       "      <td>1.0</td>\n",
       "      <td>3.0</td>\n",
       "      <td>5.0</td>\n",
       "      <td>1.0</td>\n",
       "    </tr>\n",
       "    <tr>\n",
       "      <th>14699</th>\n",
       "      <td>5.0</td>\n",
       "      <td>110.0</td>\n",
       "      <td>15.0</td>\n",
       "      <td>0.0</td>\n",
       "      <td>0.0</td>\n",
       "      <td>3.0</td>\n",
       "      <td>2.0</td>\n",
       "      <td>2.0</td>\n",
       "      <td>0.0</td>\n",
       "      <td>0.0</td>\n",
       "      <td>...</td>\n",
       "      <td>1.0</td>\n",
       "      <td>1.0</td>\n",
       "      <td>5.0</td>\n",
       "      <td>64.0</td>\n",
       "      <td>2.0</td>\n",
       "      <td>3.0</td>\n",
       "      <td>1.0</td>\n",
       "      <td>2.0</td>\n",
       "      <td>2.0</td>\n",
       "      <td>1.0</td>\n",
       "    </tr>\n",
       "    <tr>\n",
       "      <th>14700</th>\n",
       "      <td>5.0</td>\n",
       "      <td>110.0</td>\n",
       "      <td>6.0</td>\n",
       "      <td>0.0</td>\n",
       "      <td>6.0</td>\n",
       "      <td>3.0</td>\n",
       "      <td>2.0</td>\n",
       "      <td>1.0</td>\n",
       "      <td>0.0</td>\n",
       "      <td>0.0</td>\n",
       "      <td>...</td>\n",
       "      <td>1.0</td>\n",
       "      <td>1.0</td>\n",
       "      <td>5.0</td>\n",
       "      <td>58.0</td>\n",
       "      <td>1.0</td>\n",
       "      <td>4.0</td>\n",
       "      <td>1.0</td>\n",
       "      <td>3.0</td>\n",
       "      <td>2.0</td>\n",
       "      <td>1.0</td>\n",
       "    </tr>\n",
       "    <tr>\n",
       "      <th>14701</th>\n",
       "      <td>5.0</td>\n",
       "      <td>110.0</td>\n",
       "      <td>30.0</td>\n",
       "      <td>0.0</td>\n",
       "      <td>0.0</td>\n",
       "      <td>3.0</td>\n",
       "      <td>2.0</td>\n",
       "      <td>1.0</td>\n",
       "      <td>0.0</td>\n",
       "      <td>0.0</td>\n",
       "      <td>...</td>\n",
       "      <td>1.0</td>\n",
       "      <td>1.0</td>\n",
       "      <td>5.0</td>\n",
       "      <td>76.0</td>\n",
       "      <td>2.0</td>\n",
       "      <td>4.0</td>\n",
       "      <td>1.0</td>\n",
       "      <td>1.0</td>\n",
       "      <td>0.0</td>\n",
       "      <td>2.0</td>\n",
       "    </tr>\n",
       "    <tr>\n",
       "      <th>14704</th>\n",
       "      <td>5.0</td>\n",
       "      <td>110.0</td>\n",
       "      <td>13.0</td>\n",
       "      <td>0.0</td>\n",
       "      <td>0.0</td>\n",
       "      <td>3.0</td>\n",
       "      <td>2.0</td>\n",
       "      <td>3.0</td>\n",
       "      <td>0.0</td>\n",
       "      <td>0.0</td>\n",
       "      <td>...</td>\n",
       "      <td>1.0</td>\n",
       "      <td>0.0</td>\n",
       "      <td>5.0</td>\n",
       "      <td>82.0</td>\n",
       "      <td>2.0</td>\n",
       "      <td>3.0</td>\n",
       "      <td>1.0</td>\n",
       "      <td>2.0</td>\n",
       "      <td>0.0</td>\n",
       "      <td>2.0</td>\n",
       "    </tr>\n",
       "  </tbody>\n",
       "</table>\n",
       "<p>5 rows × 38 columns</p>\n",
       "</div>"
      ],
      "text/plain": [
       "       _STATE  DISPCODE  PHYSHLTH  MENTHLTH  POORHLTH  USENOW3  HISPANC2  \\\n",
       "14697     5.0     110.0       0.0       0.0       0.0      3.0       2.0   \n",
       "14699     5.0     110.0      15.0       0.0       0.0      3.0       2.0   \n",
       "14700     5.0     110.0       6.0       0.0       6.0      3.0       2.0   \n",
       "14701     5.0     110.0      30.0       0.0       0.0      3.0       2.0   \n",
       "14704     5.0     110.0      13.0       0.0       0.0      3.0       2.0   \n",
       "\n",
       "       MARITAL  CHILDREN  EMPLOY  ...  ACETTHEM  ACEHVSEX  MSCODE  _IMPAGE  \\\n",
       "14697      1.0       1.0     2.0  ...       1.0       1.0     5.0     53.0   \n",
       "14699      2.0       0.0     0.0  ...       1.0       1.0     5.0     64.0   \n",
       "14700      1.0       0.0     0.0  ...       1.0       1.0     5.0     58.0   \n",
       "14701      1.0       0.0     0.0  ...       1.0       1.0     5.0     76.0   \n",
       "14704      3.0       0.0     0.0  ...       1.0       0.0     5.0     82.0   \n",
       "\n",
       "       _RFHLTH  _SMOKER3  _PRACE  _EDUCAG  _INCOMG  _TOTINDA  \n",
       "14697      1.0       4.0     1.0      3.0      5.0       1.0  \n",
       "14699      2.0       3.0     1.0      2.0      2.0       1.0  \n",
       "14700      1.0       4.0     1.0      3.0      2.0       1.0  \n",
       "14701      2.0       4.0     1.0      1.0      0.0       2.0  \n",
       "14704      2.0       3.0     1.0      2.0      0.0       2.0  \n",
       "\n",
       "[5 rows x 38 columns]"
      ]
     },
     "execution_count": 19,
     "metadata": {},
     "output_type": "execute_result"
    }
   ],
   "source": [
    "brfss_2009.head()"
   ]
  },
  {
   "cell_type": "code",
   "execution_count": 20,
   "metadata": {},
   "outputs": [
    {
     "name": "stdout",
     "output_type": "stream",
     "text": [
      "<class 'pandas.core.frame.DataFrame'>\n",
      "Int64Index: 12098 entries, 14697 to 151439\n",
      "Data columns (total 38 columns):\n",
      " #   Column    Non-Null Count  Dtype  \n",
      "---  ------    --------------  -----  \n",
      " 0   _STATE    12098 non-null  float64\n",
      " 1   DISPCODE  12098 non-null  float64\n",
      " 2   PHYSHLTH  12098 non-null  float64\n",
      " 3   MENTHLTH  12098 non-null  float64\n",
      " 4   POORHLTH  12098 non-null  float64\n",
      " 5   USENOW3   12098 non-null  float64\n",
      " 6   HISPANC2  12098 non-null  float64\n",
      " 7   MARITAL   12098 non-null  float64\n",
      " 8   CHILDREN  12098 non-null  float64\n",
      " 9   EMPLOY    12098 non-null  float64\n",
      " 10  RENTHOM1  12098 non-null  float64\n",
      " 11  SEX       12098 non-null  float64\n",
      " 12  QLACTLM2  12098 non-null  float64\n",
      " 13  AVEDRNK2  12098 non-null  float64\n",
      " 14  DRNK3GE5  12098 non-null  float64\n",
      " 15  QLREST2   12098 non-null  float64\n",
      " 16  SLEPTIME  12098 non-null  float64\n",
      " 17  SCNTMONY  12098 non-null  float64\n",
      " 18  SCNTMEAL  12098 non-null  float64\n",
      " 19  ACEDEPRS  12098 non-null  float64\n",
      " 20  ACEDRINK  12098 non-null  float64\n",
      " 21  ACEDRUGS  12098 non-null  float64\n",
      " 22  ACEPRISN  12098 non-null  float64\n",
      " 23  ACEDIVRC  12098 non-null  float64\n",
      " 24  ACEPUNCH  12098 non-null  float64\n",
      " 25  ACEHURT   12098 non-null  float64\n",
      " 26  ACESWEAR  12098 non-null  float64\n",
      " 27  ACETOUCH  12098 non-null  float64\n",
      " 28  ACETTHEM  12098 non-null  float64\n",
      " 29  ACEHVSEX  12098 non-null  float64\n",
      " 30  MSCODE    12098 non-null  float64\n",
      " 31  _IMPAGE   12098 non-null  float64\n",
      " 32  _RFHLTH   12098 non-null  float64\n",
      " 33  _SMOKER3  12098 non-null  float64\n",
      " 34  _PRACE    12098 non-null  float64\n",
      " 35  _EDUCAG   12098 non-null  float64\n",
      " 36  _INCOMG   12098 non-null  float64\n",
      " 37  _TOTINDA  12098 non-null  float64\n",
      "dtypes: float64(38)\n",
      "memory usage: 3.6 MB\n"
     ]
    }
   ],
   "source": [
    "brfss_2009.info()"
   ]
  },
  {
   "cell_type": "code",
   "execution_count": 21,
   "metadata": {},
   "outputs": [],
   "source": [
    "from sklearn.model_selection import train_test_split, GridSearchCV\n",
    "from sklearn.pipeline import make_pipeline\n",
    "from sklearn.linear_model import LogisticRegression, Ridge, Lasso, ElasticNet, LinearRegression\n",
    "from sklearn.naive_bayes import MultinomialNB\n",
    "from sklearn.metrics import confusion_matrix, plot_confusion_matrix\n",
    "from sklearn.tree import DecisionTreeClassifier\n",
    "from sklearn.preprocessing import PolynomialFeatures"
   ]
  },
  {
   "cell_type": "markdown",
   "metadata": {},
   "source": [
    "**Possible variables I can try to predict:**\n",
    "- MENTHLTH: for how many days during the past 30 days was your mental health not good?\n",
    "    - regression\n",
    "- POORHLTH:  for about how many days did poor physical or mental health keep you from doing your usual activities, such as self-care, work, or recreation?\n",
    "    - regression\n",
    "- USENOW3: Do you currently use chewing tobacco, snuff, or snus every day, some days, or not at all?\n",
    "    - classification\n",
    "- QLACTLM2: Are you limited in any way in any activities because of physical, mental, or emotional problems?\n",
    "    - classification\n",
    "- AVEDRINK2: During the past 30 days, on the days when you drank, about how many drinks did you drink on the average?\n",
    "    - regression\n",
    "- DRNK3GE5 (Binge Drinking): Considering all types of alcoholic beverages, how many times during the past 30 days did you have 5 or more drinks for men or 4 or more drinks for women on an occasion?\n",
    "    - regression\n",
    "- _RFHLTH: Adults with good or better health vs. fair or poor health\n",
    "    - classification\n",
    "    - based off of GENHLTH\n",
    "- _SMOKER3: Four-level smoker status: Everyday smoker, Someday smoker, Former smoker, Non-smoker\n",
    "    - classification\n",
    "    - based off of SMOKE100 & SMOKEDAY"
   ]
  },
  {
   "cell_type": "code",
   "execution_count": 22,
   "metadata": {},
   "outputs": [],
   "source": [
    "from sklearn.metrics import mean_squared_error as mse"
   ]
  },
  {
   "cell_type": "code",
   "execution_count": 23,
   "metadata": {},
   "outputs": [],
   "source": [
    "X = brfss_2009[['ACEDEPRS', 'ACEDRINK', 'ACEDRUGS', 'ACEPRISN', 'ACEDIVRC', 'ACEPUNCH', 'ACEHURT', 'ACESWEAR', \n",
    "                       'ACETOUCH', 'ACETTHEM', 'ACEHVSEX']]\n",
    "\n",
    "y_class = brfss_2009['_SMOKER3']\n",
    "y_reg = brfss_2009['AVEDRNK2']"
   ]
  },
  {
   "cell_type": "code",
   "execution_count": 24,
   "metadata": {},
   "outputs": [
    {
     "name": "stderr",
     "output_type": "stream",
     "text": [
      "C:\\Users\\eboni\\anaconda3\\lib\\site-packages\\sklearn\\linear_model\\_logistic.py:762: ConvergenceWarning: lbfgs failed to converge (status=1):\n",
      "STOP: TOTAL NO. of ITERATIONS REACHED LIMIT.\n",
      "\n",
      "Increase the number of iterations (max_iter) or scale the data as shown in:\n",
      "    https://scikit-learn.org/stable/modules/preprocessing.html\n",
      "Please also refer to the documentation for alternative solver options:\n",
      "    https://scikit-learn.org/stable/modules/linear_model.html#logistic-regression\n",
      "  n_iter_i = _check_optimize_result(\n"
     ]
    }
   ],
   "source": [
    "X_train, X_test, y_train_class, y_test_class = train_test_split(X, y_class)\n",
    "X_train, X_test, y_train_reg, y_test_reg = train_test_split(X, y_reg)\n",
    "\n",
    "log_r = LogisticRegression()\n",
    "lr = LinearRegression()\n",
    "\n",
    "log_r.fit(X_train, y_train_class)\n",
    "lr.fit(X_train, y_train_reg)\n",
    "\n",
    "smoker3_test = log_r.score(X_test, y_test_class)\n",
    "\n",
    "smoker3_train = log_r.score(X_train, y_train_class)\n",
    "\n",
    "avedrink2_test = lr.score(X_test, y_test_reg)\n",
    "\n",
    "avedrink2_train = lr.score(X_train, y_train_reg)\n",
    "\n",
    "class_preds = log_r.predict(X_test)\n",
    "\n",
    "reg_preds = lr.predict(X_test)\n",
    "\n",
    "reg_rmse = mse(y_test_reg, reg_preds, squared = False)\n",
    "\n",
    "rmse_scores = [dict(drinks_avg = reg_rmse)]"
   ]
  },
  {
   "cell_type": "code",
   "execution_count": 25,
   "metadata": {},
   "outputs": [
    {
     "data": {
      "text/plain": [
       "[{'drinks_avg': 1.062458264273578}]"
      ]
     },
     "execution_count": 25,
     "metadata": {},
     "output_type": "execute_result"
    }
   ],
   "source": [
    "rmse_scores "
   ]
  },
  {
   "cell_type": "code",
   "execution_count": 26,
   "metadata": {},
   "outputs": [
    {
     "name": "stderr",
     "output_type": "stream",
     "text": [
      "C:\\Users\\eboni\\anaconda3\\lib\\site-packages\\sklearn\\linear_model\\_logistic.py:762: ConvergenceWarning: lbfgs failed to converge (status=1):\n",
      "STOP: TOTAL NO. of ITERATIONS REACHED LIMIT.\n",
      "\n",
      "Increase the number of iterations (max_iter) or scale the data as shown in:\n",
      "    https://scikit-learn.org/stable/modules/preprocessing.html\n",
      "Please also refer to the documentation for alternative solver options:\n",
      "    https://scikit-learn.org/stable/modules/linear_model.html#logistic-regression\n",
      "  n_iter_i = _check_optimize_result(\n"
     ]
    }
   ],
   "source": [
    "y_reg2 = brfss_2009['MENTHLTH']\n",
    "y_class2 = brfss_2009['USENOW3']\n",
    "\n",
    "X_train2, X_test2, y_train_class2, y_test_class2 = train_test_split(X, y_class2)\n",
    "X_train2, X_test2, y_train_reg2, y_test_reg2 = train_test_split(X, y_reg2)\n",
    "\n",
    "log_r2 = LogisticRegression()\n",
    "lr2 = LinearRegression()\n",
    "\n",
    "log_r2.fit(X_train2, y_train_class2)\n",
    "lr2.fit(X_train2, y_train_reg2)\n",
    "\n",
    "class_preds2 = log_r2.predict(X_test2)\n",
    "reg_preds2 = lr2.predict(X_test2)\n",
    "\n",
    "reg_rmse2 = mse(y_test_reg2, reg_preds2, squared = False)\n",
    "\n",
    "rmse_scores.append(dict(mental_health = reg_rmse2))\n",
    "\n",
    "tobacco_products_test = log_r2.score(X_test2, y_test_class2)\n",
    "\n",
    "tobacco_products_train = log_r2.score(X_train2, y_train_class2)\n",
    "\n",
    "mental_health_test = lr2.score(X_test2, y_test_reg2)\n",
    "\n",
    "mental_health_train = lr2.score(X_train2, y_train_reg2)"
   ]
  },
  {
   "cell_type": "code",
   "execution_count": 27,
   "metadata": {},
   "outputs": [],
   "source": [
    "accuracy_scores = [{'smoker3 test score': smoker3_test, 'smoker3 train score': smoker3_train, 'tobacco products test score': tobacco_products_test, 'tobacco products train score': tobacco_products_train}]\n",
    "r_scores = [{'avedrink2 test score': avedrink2_test, 'avedrink2 train score': avedrink2_train, 'mental health test score': mental_health_test, 'mental health train score': mental_health_train}]"
   ]
  },
  {
   "cell_type": "code",
   "execution_count": 28,
   "metadata": {},
   "outputs": [
    {
     "name": "stderr",
     "output_type": "stream",
     "text": [
      "C:\\Users\\eboni\\anaconda3\\lib\\site-packages\\sklearn\\linear_model\\_logistic.py:762: ConvergenceWarning: lbfgs failed to converge (status=1):\n",
      "STOP: TOTAL NO. of ITERATIONS REACHED LIMIT.\n",
      "\n",
      "Increase the number of iterations (max_iter) or scale the data as shown in:\n",
      "    https://scikit-learn.org/stable/modules/preprocessing.html\n",
      "Please also refer to the documentation for alternative solver options:\n",
      "    https://scikit-learn.org/stable/modules/linear_model.html#logistic-regression\n",
      "  n_iter_i = _check_optimize_result(\n"
     ]
    }
   ],
   "source": [
    "y_reg3 = brfss_2009['DRNK3GE5']\n",
    "y_class3 = brfss_2009['_RFHLTH']\n",
    "\n",
    "X_train3, X_test3, y_train_class3, y_test_class3 = train_test_split(X, y_class3)\n",
    "X_train3, X_test3, y_train_reg3, y_test_reg3 = train_test_split(X, y_reg3)\n",
    "\n",
    "log_r3 = LogisticRegression()\n",
    "lr3 = LinearRegression()\n",
    "\n",
    "log_r3.fit(X_train3, y_train_class3)\n",
    "lr3.fit(X_train3, y_train_reg3)\n",
    "\n",
    "class_preds3 = log_r3.predict(X_test3)\n",
    "reg_preds3 = lr3.predict(X_test3)\n",
    "\n",
    "reg_rmse3 = mse(y_test_reg3, reg_preds3, squared = False)\n",
    "\n",
    "rmse_scores.append(dict(binge_drinking = reg_rmse3))\n",
    "\n",
    "binge_drinking_test = log_r3.score(X_test3, y_test_class3)\n",
    "\n",
    "binge_drinking_train = log_r3.score(X_train3, y_train_class3)\n",
    "\n",
    "overall_health_test = lr3.score(X_test3, y_test_reg3)\n",
    "\n",
    "overall_health_train = lr3.score(X_train3, y_train_reg3)\n",
    "\n",
    "r_scores.append({'binge drinking test score': overall_health_test, 'binge drinking train score': overall_health_train})\n",
    "accuracy_scores.append({'overall health test score': binge_drinking_test, 'overall health train score': binge_drinking_train})"
   ]
  },
  {
   "cell_type": "code",
   "execution_count": 29,
   "metadata": {},
   "outputs": [
    {
     "name": "stderr",
     "output_type": "stream",
     "text": [
      "C:\\Users\\eboni\\anaconda3\\lib\\site-packages\\sklearn\\linear_model\\_logistic.py:762: ConvergenceWarning: lbfgs failed to converge (status=1):\n",
      "STOP: TOTAL NO. of ITERATIONS REACHED LIMIT.\n",
      "\n",
      "Increase the number of iterations (max_iter) or scale the data as shown in:\n",
      "    https://scikit-learn.org/stable/modules/preprocessing.html\n",
      "Please also refer to the documentation for alternative solver options:\n",
      "    https://scikit-learn.org/stable/modules/linear_model.html#logistic-regression\n",
      "  n_iter_i = _check_optimize_result(\n"
     ]
    }
   ],
   "source": [
    "y_reg4 = brfss_2009['POORHLTH']\n",
    "y_class4 = brfss_2009['QLACTLM2']\n",
    "\n",
    "X_train4, X_test4, y_train_class4, y_test_class4 = train_test_split(X, y_class4)\n",
    "X_train4, X_test4, y_train_reg4, y_test_reg4 = train_test_split(X, y_reg4)\n",
    "\n",
    "log_r4 = LogisticRegression()\n",
    "lr4 = LinearRegression()\n",
    "\n",
    "log_r4.fit(X_train4, y_train_class4)\n",
    "lr4.fit(X_train4, y_train_reg4)\n",
    "\n",
    "class_preds4 = log_r4.predict(X_test4)\n",
    "reg_preds4 = lr4.predict(X_test4)\n",
    "\n",
    "reg_rmse4 = mse(y_test_reg4, reg_preds4, squared = False)\n",
    "\n",
    "rmse_scores.append(dict(binge_drinking = reg_rmse4))\n",
    "\n",
    "limited_activity_test = log_r4.score(X_test4, y_test_class4)\n",
    "\n",
    "limited_activity_train = log_r4.score(X_train4, y_train_class4)\n",
    "\n",
    "poor_health_test = lr4.score(X_test4, y_test_reg4)\n",
    "\n",
    "poor_health_train = lr4.score(X_train4, y_train_reg4)\n",
    "\n",
    "r_scores.append({'poor health test score': overall_health_test, 'poor health train score': overall_health_train})\n",
    "accuracy_scores.append({'limited activity test score': binge_drinking_test, 'limited activity train score': binge_drinking_train})"
   ]
  },
  {
   "cell_type": "code",
   "execution_count": 30,
   "metadata": {},
   "outputs": [
    {
     "data": {
      "text/plain": [
       "[{'drinks_avg': 1.062458264273578},\n",
       " {'mental_health': 8.188045718656412},\n",
       " {'binge_drinking': 2.2880043167333075},\n",
       " {'binge_drinking': 7.86302401695184}]"
      ]
     },
     "execution_count": 30,
     "metadata": {},
     "output_type": "execute_result"
    }
   ],
   "source": [
    "rmse_scores"
   ]
  },
  {
   "cell_type": "code",
   "execution_count": 31,
   "metadata": {},
   "outputs": [
    {
     "data": {
      "text/plain": [
       "[{'avedrink2 test score': 0.0004614681576203816,\n",
       "  'avedrink2 train score': 0.0025167253648297194,\n",
       "  'mental health test score': 0.04802007082669346,\n",
       "  'mental health train score': 0.042139282940726774},\n",
       " {'binge drinking test score': -0.0023354005640945363,\n",
       "  'binge drinking train score': 0.004157745297649007},\n",
       " {'poor health test score': -0.0023354005640945363,\n",
       "  'poor health train score': 0.004157745297649007}]"
      ]
     },
     "execution_count": 31,
     "metadata": {},
     "output_type": "execute_result"
    }
   ],
   "source": [
    "r_scores"
   ]
  },
  {
   "cell_type": "code",
   "execution_count": 32,
   "metadata": {},
   "outputs": [
    {
     "data": {
      "text/plain": [
       "[{'smoker3 test score': 0.52,\n",
       "  'smoker3 train score': 0.5191226716631765,\n",
       "  'tobacco products test score': 0.9652892561983472,\n",
       "  'tobacco products train score': 0.9627466108233219},\n",
       " {'overall health test score': 0.7424793388429752,\n",
       "  'overall health train score': 0.7319519453323047},\n",
       " {'limited activity test score': 0.7424793388429752,\n",
       "  'limited activity train score': 0.7319519453323047}]"
      ]
     },
     "execution_count": 32,
     "metadata": {},
     "output_type": "execute_result"
    }
   ],
   "source": [
    "accuracy_scores"
   ]
  },
  {
   "cell_type": "code",
   "execution_count": null,
   "metadata": {},
   "outputs": [],
   "source": []
  }
 ],
 "metadata": {
  "kernelspec": {
   "display_name": "Python 3",
   "language": "python",
   "name": "python3"
  },
  "language_info": {
   "codemirror_mode": {
    "name": "ipython",
    "version": 3
   },
   "file_extension": ".py",
   "mimetype": "text/x-python",
   "name": "python",
   "nbconvert_exporter": "python",
   "pygments_lexer": "ipython3",
   "version": "3.8.3"
  }
 },
 "nbformat": 4,
 "nbformat_minor": 4
}
