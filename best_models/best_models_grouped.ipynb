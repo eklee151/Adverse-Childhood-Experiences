{
  "nbformat": 4,
  "nbformat_minor": 0,
  "metadata": {
    "colab": {
      "name": "best_models_grouped.ipynb",
      "provenance": [],
      "collapsed_sections": [],
      "machine_shape": "hm"
    },
    "kernelspec": {
      "display_name": "Python 3",
      "language": "python",
      "name": "python3"
    },
    "language_info": {
      "codemirror_mode": {
        "name": "ipython",
        "version": 3
      },
      "file_extension": ".py",
      "mimetype": "text/x-python",
      "name": "python",
      "nbconvert_exporter": "python",
      "pygments_lexer": "ipython3",
      "version": "3.8.3"
    }
  },
  "cells": [
    {
      "cell_type": "code",
      "metadata": {
        "id": "oP7odWthG8Jh",
        "outputId": "e4532a0d-4154-466f-d154-8663898fa9ec",
        "colab": {
          "base_uri": "https://localhost:8080/"
        }
      },
      "source": [
        "from psutil import virtual_memory\n",
        "ram_gb = virtual_memory().total / 1e9\n",
        "print('Your runtime has {:.1f} gigabytes of available RAM\\n'.format(ram_gb))\n",
        "\n",
        "if ram_gb < 20:\n",
        "  print('To enable a high-RAM runtime, select the Runtime > \"Change runtime type\"')\n",
        "  print('menu, and then select High-RAM in the Runtime shape dropdown. Then, ')\n",
        "  print('re-execute this cell.')\n",
        "else:\n",
        "  print('You are using a high-RAM runtime!')"
      ],
      "execution_count": 1,
      "outputs": [
        {
          "output_type": "stream",
          "text": [
            "Your runtime has 27.4 gigabytes of available RAM\n",
            "\n",
            "You are using a high-RAM runtime!\n"
          ],
          "name": "stdout"
        }
      ]
    },
    {
      "cell_type": "code",
      "metadata": {
        "id": "58dN7HsfBJba"
      },
      "source": [
        "import pandas as pd\n",
        "import numpy as np\n",
        "import seaborn as sns\n",
        "import matplotlib.pyplot as plt\n",
        "\n",
        "from sklearn.model_selection import train_test_split, GridSearchCV\n",
        "from sklearn.preprocessing import StandardScaler\n",
        "from sklearn.feature_selection import SelectKBest, f_classif\n",
        "from sklearn.pipeline import make_pipeline\n",
        "from sklearn.linear_model import LogisticRegression\n",
        "from sklearn.metrics import confusion_matrix, plot_confusion_matrix, precision_score\n",
        "#from sklearn.preprocessing import PolynomialFeatures\n",
        "from sklearn.ensemble import RandomForestClassifier, ExtraTreesClassifier, AdaBoostClassifier, GradientBoostingClassifier\n",
        "\n",
        "from imblearn.over_sampling import SMOTE\n",
        "\n",
        "import xgboost as xgb\n",
        "\n",
        "import warnings\n",
        "warnings.filterwarnings('ignore')"
      ],
      "execution_count": 3,
      "outputs": []
    },
    {
      "cell_type": "code",
      "metadata": {
        "id": "uI-u7U3xBJbk"
      },
      "source": [
        "# reading in full data set\n",
        "brfss_total = pd.read_csv(\"./brfss_total.csv\")"
      ],
      "execution_count": 5,
      "outputs": []
    },
    {
      "cell_type": "code",
      "metadata": {
        "id": "XPTL7V4PBJbo",
        "outputId": "77030a83-30ce-45cd-d895-ce772f81e30a",
        "colab": {
          "base_uri": "https://localhost:8080/",
          "height": 234
        }
      },
      "source": [
        "brfss_total.head()"
      ],
      "execution_count": 6,
      "outputs": [
        {
          "output_type": "execute_result",
          "data": {
            "text/html": [
              "<div>\n",
              "<style scoped>\n",
              "    .dataframe tbody tr th:only-of-type {\n",
              "        vertical-align: middle;\n",
              "    }\n",
              "\n",
              "    .dataframe tbody tr th {\n",
              "        vertical-align: top;\n",
              "    }\n",
              "\n",
              "    .dataframe thead th {\n",
              "        text-align: right;\n",
              "    }\n",
              "</style>\n",
              "<table border=\"1\" class=\"dataframe\">\n",
              "  <thead>\n",
              "    <tr style=\"text-align: right;\">\n",
              "      <th></th>\n",
              "      <th>Unnamed: 0</th>\n",
              "      <th>_STATE</th>\n",
              "      <th>DISPCODE</th>\n",
              "      <th>PHYSHLTH</th>\n",
              "      <th>MENTHLTH</th>\n",
              "      <th>USENOW3</th>\n",
              "      <th>HISPANC2</th>\n",
              "      <th>MARITAL</th>\n",
              "      <th>CHILDREN</th>\n",
              "      <th>EMPLOY</th>\n",
              "      <th>RENTHOM1</th>\n",
              "      <th>SEX</th>\n",
              "      <th>QLACTLM2</th>\n",
              "      <th>ACEDEPRS</th>\n",
              "      <th>ACEDRINK</th>\n",
              "      <th>ACEDRUGS</th>\n",
              "      <th>ACEPRISN</th>\n",
              "      <th>ACEDIVRC</th>\n",
              "      <th>ACEPUNCH</th>\n",
              "      <th>ACEHURT</th>\n",
              "      <th>ACESWEAR</th>\n",
              "      <th>ACETOUCH</th>\n",
              "      <th>ACETTHEM</th>\n",
              "      <th>ACEHVSEX</th>\n",
              "      <th>MSCODE</th>\n",
              "      <th>_IMPAGE</th>\n",
              "      <th>_RFHLTH</th>\n",
              "      <th>_SMOKER3</th>\n",
              "      <th>_PRACE</th>\n",
              "      <th>_EDUCAG</th>\n",
              "      <th>_INCOMG</th>\n",
              "      <th>_TOTINDA</th>\n",
              "    </tr>\n",
              "  </thead>\n",
              "  <tbody>\n",
              "    <tr>\n",
              "      <th>0</th>\n",
              "      <td>0</td>\n",
              "      <td>5.0</td>\n",
              "      <td>110.0</td>\n",
              "      <td>0.0</td>\n",
              "      <td>0.0</td>\n",
              "      <td>3.0</td>\n",
              "      <td>2.0</td>\n",
              "      <td>1.0</td>\n",
              "      <td>1.0</td>\n",
              "      <td>2.0</td>\n",
              "      <td>0.0</td>\n",
              "      <td>2.0</td>\n",
              "      <td>2.0</td>\n",
              "      <td>2.0</td>\n",
              "      <td>2.0</td>\n",
              "      <td>2.0</td>\n",
              "      <td>2.0</td>\n",
              "      <td>2.0</td>\n",
              "      <td>1.0</td>\n",
              "      <td>1.0</td>\n",
              "      <td>1.0</td>\n",
              "      <td>1.0</td>\n",
              "      <td>1.0</td>\n",
              "      <td>1.0</td>\n",
              "      <td>5.0</td>\n",
              "      <td>53.0</td>\n",
              "      <td>1.0</td>\n",
              "      <td>4.0</td>\n",
              "      <td>1.0</td>\n",
              "      <td>3.0</td>\n",
              "      <td>5.0</td>\n",
              "      <td>1.0</td>\n",
              "    </tr>\n",
              "    <tr>\n",
              "      <th>1</th>\n",
              "      <td>1</td>\n",
              "      <td>5.0</td>\n",
              "      <td>110.0</td>\n",
              "      <td>15.0</td>\n",
              "      <td>0.0</td>\n",
              "      <td>3.0</td>\n",
              "      <td>2.0</td>\n",
              "      <td>2.0</td>\n",
              "      <td>0.0</td>\n",
              "      <td>0.0</td>\n",
              "      <td>0.0</td>\n",
              "      <td>1.0</td>\n",
              "      <td>2.0</td>\n",
              "      <td>2.0</td>\n",
              "      <td>1.0</td>\n",
              "      <td>2.0</td>\n",
              "      <td>2.0</td>\n",
              "      <td>2.0</td>\n",
              "      <td>1.0</td>\n",
              "      <td>1.0</td>\n",
              "      <td>3.0</td>\n",
              "      <td>1.0</td>\n",
              "      <td>1.0</td>\n",
              "      <td>1.0</td>\n",
              "      <td>5.0</td>\n",
              "      <td>64.0</td>\n",
              "      <td>2.0</td>\n",
              "      <td>3.0</td>\n",
              "      <td>1.0</td>\n",
              "      <td>2.0</td>\n",
              "      <td>2.0</td>\n",
              "      <td>1.0</td>\n",
              "    </tr>\n",
              "    <tr>\n",
              "      <th>2</th>\n",
              "      <td>2</td>\n",
              "      <td>5.0</td>\n",
              "      <td>110.0</td>\n",
              "      <td>6.0</td>\n",
              "      <td>0.0</td>\n",
              "      <td>3.0</td>\n",
              "      <td>2.0</td>\n",
              "      <td>1.0</td>\n",
              "      <td>0.0</td>\n",
              "      <td>0.0</td>\n",
              "      <td>0.0</td>\n",
              "      <td>1.0</td>\n",
              "      <td>1.0</td>\n",
              "      <td>2.0</td>\n",
              "      <td>2.0</td>\n",
              "      <td>2.0</td>\n",
              "      <td>2.0</td>\n",
              "      <td>2.0</td>\n",
              "      <td>1.0</td>\n",
              "      <td>1.0</td>\n",
              "      <td>1.0</td>\n",
              "      <td>1.0</td>\n",
              "      <td>1.0</td>\n",
              "      <td>1.0</td>\n",
              "      <td>5.0</td>\n",
              "      <td>58.0</td>\n",
              "      <td>1.0</td>\n",
              "      <td>4.0</td>\n",
              "      <td>1.0</td>\n",
              "      <td>3.0</td>\n",
              "      <td>2.0</td>\n",
              "      <td>1.0</td>\n",
              "    </tr>\n",
              "    <tr>\n",
              "      <th>3</th>\n",
              "      <td>3</td>\n",
              "      <td>5.0</td>\n",
              "      <td>110.0</td>\n",
              "      <td>30.0</td>\n",
              "      <td>0.0</td>\n",
              "      <td>3.0</td>\n",
              "      <td>2.0</td>\n",
              "      <td>1.0</td>\n",
              "      <td>0.0</td>\n",
              "      <td>0.0</td>\n",
              "      <td>0.0</td>\n",
              "      <td>2.0</td>\n",
              "      <td>1.0</td>\n",
              "      <td>2.0</td>\n",
              "      <td>2.0</td>\n",
              "      <td>2.0</td>\n",
              "      <td>2.0</td>\n",
              "      <td>2.0</td>\n",
              "      <td>1.0</td>\n",
              "      <td>1.0</td>\n",
              "      <td>1.0</td>\n",
              "      <td>1.0</td>\n",
              "      <td>1.0</td>\n",
              "      <td>1.0</td>\n",
              "      <td>5.0</td>\n",
              "      <td>76.0</td>\n",
              "      <td>2.0</td>\n",
              "      <td>4.0</td>\n",
              "      <td>1.0</td>\n",
              "      <td>1.0</td>\n",
              "      <td>0.0</td>\n",
              "      <td>2.0</td>\n",
              "    </tr>\n",
              "    <tr>\n",
              "      <th>4</th>\n",
              "      <td>4</td>\n",
              "      <td>5.0</td>\n",
              "      <td>110.0</td>\n",
              "      <td>13.0</td>\n",
              "      <td>0.0</td>\n",
              "      <td>3.0</td>\n",
              "      <td>2.0</td>\n",
              "      <td>3.0</td>\n",
              "      <td>0.0</td>\n",
              "      <td>0.0</td>\n",
              "      <td>0.0</td>\n",
              "      <td>2.0</td>\n",
              "      <td>2.0</td>\n",
              "      <td>2.0</td>\n",
              "      <td>2.0</td>\n",
              "      <td>2.0</td>\n",
              "      <td>2.0</td>\n",
              "      <td>2.0</td>\n",
              "      <td>1.0</td>\n",
              "      <td>1.0</td>\n",
              "      <td>1.0</td>\n",
              "      <td>1.0</td>\n",
              "      <td>1.0</td>\n",
              "      <td>0.0</td>\n",
              "      <td>5.0</td>\n",
              "      <td>82.0</td>\n",
              "      <td>2.0</td>\n",
              "      <td>3.0</td>\n",
              "      <td>1.0</td>\n",
              "      <td>2.0</td>\n",
              "      <td>0.0</td>\n",
              "      <td>2.0</td>\n",
              "    </tr>\n",
              "  </tbody>\n",
              "</table>\n",
              "</div>"
            ],
            "text/plain": [
              "   Unnamed: 0  _STATE  DISPCODE  PHYSHLTH  ...  _PRACE  _EDUCAG  _INCOMG  _TOTINDA\n",
              "0           0     5.0     110.0       0.0  ...     1.0      3.0      5.0       1.0\n",
              "1           1     5.0     110.0      15.0  ...     1.0      2.0      2.0       1.0\n",
              "2           2     5.0     110.0       6.0  ...     1.0      3.0      2.0       1.0\n",
              "3           3     5.0     110.0      30.0  ...     1.0      1.0      0.0       2.0\n",
              "4           4     5.0     110.0      13.0  ...     1.0      2.0      0.0       2.0\n",
              "\n",
              "[5 rows x 32 columns]"
            ]
          },
          "metadata": {
            "tags": []
          },
          "execution_count": 6
        }
      ]
    },
    {
      "cell_type": "code",
      "metadata": {
        "id": "dEtvuHYkBJbv",
        "outputId": "a8d92869-d723-4de7-9651-46dee60b60b9",
        "colab": {
          "base_uri": "https://localhost:8080/"
        }
      },
      "source": [
        "# just making sure no nulls are present\n",
        "brfss_total.info()"
      ],
      "execution_count": 7,
      "outputs": [
        {
          "output_type": "stream",
          "text": [
            "<class 'pandas.core.frame.DataFrame'>\n",
            "RangeIndex: 117555 entries, 0 to 117554\n",
            "Data columns (total 32 columns):\n",
            " #   Column      Non-Null Count   Dtype  \n",
            "---  ------      --------------   -----  \n",
            " 0   Unnamed: 0  117555 non-null  int64  \n",
            " 1   _STATE      117555 non-null  float64\n",
            " 2   DISPCODE    117555 non-null  float64\n",
            " 3   PHYSHLTH    117555 non-null  float64\n",
            " 4   MENTHLTH    117555 non-null  float64\n",
            " 5   USENOW3     117555 non-null  float64\n",
            " 6   HISPANC2    117555 non-null  float64\n",
            " 7   MARITAL     117555 non-null  float64\n",
            " 8   CHILDREN    117555 non-null  float64\n",
            " 9   EMPLOY      117555 non-null  float64\n",
            " 10  RENTHOM1    117555 non-null  float64\n",
            " 11  SEX         117555 non-null  float64\n",
            " 12  QLACTLM2    117555 non-null  float64\n",
            " 13  ACEDEPRS    117555 non-null  float64\n",
            " 14  ACEDRINK    117555 non-null  float64\n",
            " 15  ACEDRUGS    117555 non-null  float64\n",
            " 16  ACEPRISN    117555 non-null  float64\n",
            " 17  ACEDIVRC    117555 non-null  float64\n",
            " 18  ACEPUNCH    117555 non-null  float64\n",
            " 19  ACEHURT     117555 non-null  float64\n",
            " 20  ACESWEAR    117555 non-null  float64\n",
            " 21  ACETOUCH    117555 non-null  float64\n",
            " 22  ACETTHEM    117555 non-null  float64\n",
            " 23  ACEHVSEX    117555 non-null  float64\n",
            " 24  MSCODE      117555 non-null  float64\n",
            " 25  _IMPAGE     117555 non-null  float64\n",
            " 26  _RFHLTH     117555 non-null  float64\n",
            " 27  _SMOKER3    117555 non-null  float64\n",
            " 28  _PRACE      117555 non-null  float64\n",
            " 29  _EDUCAG     117555 non-null  float64\n",
            " 30  _INCOMG     117555 non-null  float64\n",
            " 31  _TOTINDA    117555 non-null  float64\n",
            "dtypes: float64(31), int64(1)\n",
            "memory usage: 28.7 MB\n"
          ],
          "name": "stdout"
        }
      ]
    },
    {
      "cell_type": "code",
      "metadata": {
        "id": "uWE4xHuFBJb0"
      },
      "source": [
        "brfss_total.drop(columns=['Unnamed: 0'], inplace=True)"
      ],
      "execution_count": 8,
      "outputs": []
    },
    {
      "cell_type": "markdown",
      "metadata": {
        "id": "0W8Rs1v3BJb5"
      },
      "source": [
        "**Variables I will try to predict with my models:**\n",
        "- USENOW3: Do you currently use chewing tobacco, snuff, or snus every day, some days, or not at all?\n",
        "    - classification\n",
        "    - 0 = Don't know, Not sure or Refused, 1 = every day, 2 = some days, 3 = not at all\n",
        "- QLACTLM2: Are you limited in any way in any activities because of physical, mental, or emotional problems?\n",
        "    - classification\n",
        "    - 0 = Don't know, Not sure or Refused, 1 = yes, 2 = no\n",
        "- _RFHLTH: Adults with good or better health vs. fair or poor health\n",
        "    - classification\n",
        "    - based off of GENHLTH\n",
        "    - 0 = Don't know, Not sure or Refused, 1 = Good or Better Health, 2 = Fair or Poor Health\n",
        "- _SMOKER3: Four-level smoker status: Everyday smoker, Someday smoker, Former smoker, Non-smoker\n",
        "    - classification\n",
        "    - based off of SMOKE100 & SMOKEDAY\n",
        "    - 0 = Don't know, Not sure or Refused, 1 = Current smoker (now smokes every day), 2 = Current smoker (now smokes some days), 3 = Former smoker, 4 = Never smoked\n",
        " \n",
        " \n",
        "**Will use get dummies to dummify ordinal/nominal features**\n",
        "\n",
        "**Will use SMOTE to compensensate for imbalanced classes**\n",
        "\n",
        "**Will aggregate all ACEs into two groups: Abuse and Household Challenges**"
      ]
    },
    {
      "cell_type": "code",
      "metadata": {
        "id": "PLL2XteABJb6"
      },
      "source": [
        "np.random.seed(151)"
      ],
      "execution_count": 9,
      "outputs": []
    },
    {
      "cell_type": "code",
      "metadata": {
        "id": "ujkwc55EBJb_"
      },
      "source": [
        "# creating X variable with all features\n",
        "X_all = brfss_total.drop(columns=['USENOW3', 'QLACTLM2', '_RFHLTH', '_SMOKER3'])"
      ],
      "execution_count": 10,
      "outputs": []
    },
    {
      "cell_type": "code",
      "metadata": {
        "id": "kBST9-j8BJcC"
      },
      "source": [
        "# creating the 4 y's\n",
        "y_tobacco = brfss_total['USENOW3']\n",
        "y_activity = brfss_total['QLACTLM2']\n",
        "y_health = brfss_total['_RFHLTH']\n",
        "y_smoker = brfss_total['_SMOKER3']"
      ],
      "execution_count": 11,
      "outputs": []
    },
    {
      "cell_type": "code",
      "metadata": {
        "id": "pxaLdYlaBJcH",
        "outputId": "40b35cb9-e2ef-45ea-e21d-a3c625557ea9",
        "colab": {
          "base_uri": "https://localhost:8080/"
        }
      },
      "source": [
        "#original baseline for tobacco\n",
        "y_tobacco.value_counts(normalize=True)"
      ],
      "execution_count": 12,
      "outputs": [
        {
          "output_type": "execute_result",
          "data": {
            "text/plain": [
              "3.0    0.966560\n",
              "1.0    0.017872\n",
              "2.0    0.012990\n",
              "0.0    0.002578\n",
              "Name: USENOW3, dtype: float64"
            ]
          },
          "metadata": {
            "tags": []
          },
          "execution_count": 12
        }
      ]
    },
    {
      "cell_type": "code",
      "metadata": {
        "id": "7jhgGYJVBJcK",
        "outputId": "1db91bba-8871-481b-e44d-708230a4cabb",
        "colab": {
          "base_uri": "https://localhost:8080/"
        }
      },
      "source": [
        "#original baseline for activity\n",
        "y_activity.value_counts(normalize=True)"
      ],
      "execution_count": 13,
      "outputs": [
        {
          "output_type": "execute_result",
          "data": {
            "text/plain": [
              "2.0    0.724520\n",
              "1.0    0.268997\n",
              "0.0    0.006482\n",
              "Name: QLACTLM2, dtype: float64"
            ]
          },
          "metadata": {
            "tags": []
          },
          "execution_count": 13
        }
      ]
    },
    {
      "cell_type": "code",
      "metadata": {
        "id": "rz03nD_OBJcO",
        "outputId": "12a00a72-6a98-4c3f-ef9a-ff023eda98c9",
        "colab": {
          "base_uri": "https://localhost:8080/"
        }
      },
      "source": [
        "#original baseline for health\n",
        "y_health.value_counts(normalize=True)"
      ],
      "execution_count": 14,
      "outputs": [
        {
          "output_type": "execute_result",
          "data": {
            "text/plain": [
              "1.0    0.814742\n",
              "2.0    0.181991\n",
              "0.0    0.003267\n",
              "Name: _RFHLTH, dtype: float64"
            ]
          },
          "metadata": {
            "tags": []
          },
          "execution_count": 14
        }
      ]
    },
    {
      "cell_type": "code",
      "metadata": {
        "id": "6fkW-YfuBJcT",
        "outputId": "f680d7bc-26c0-45a6-e58a-422969935255",
        "colab": {
          "base_uri": "https://localhost:8080/"
        }
      },
      "source": [
        "#original baseline for smoker\n",
        "y_smoker.value_counts(normalize=True)"
      ],
      "execution_count": 15,
      "outputs": [
        {
          "output_type": "execute_result",
          "data": {
            "text/plain": [
              "4.0    0.521569\n",
              "3.0    0.308324\n",
              "1.0    0.119604\n",
              "2.0    0.044226\n",
              "0.0    0.006278\n",
              "Name: _SMOKER3, dtype: float64"
            ]
          },
          "metadata": {
            "tags": []
          },
          "execution_count": 15
        }
      ]
    },
    {
      "cell_type": "code",
      "metadata": {
        "id": "R9dvezEZBJcW"
      },
      "source": [
        "# splitting X up so I can do some engineering on the nominal data and ACE columns\n",
        "X_num = X_all[['PHYSHLTH', 'MENTHLTH', 'CHILDREN']]\n",
        "X_cat = X_all[['_STATE', 'DISPCODE', 'HISPANC2', 'MARITAL', 'EMPLOY', 'RENTHOM1', 'SEX', 'MSCODE', \n",
        "               '_IMPAGE', '_PRACE', '_EDUCAG', '_INCOMG','_TOTINDA']]\n",
        "ace = X_all[['ACEDEPRS', 'ACEDRINK', 'ACEDRUGS', 'ACEPRISN', 'ACEDIVRC', 'ACEPUNCH', 'ACEHURT', 'ACESWEAR', \n",
        "                       'ACETOUCH', 'ACETTHEM', 'ACEHVSEX']]"
      ],
      "execution_count": 16,
      "outputs": []
    },
    {
      "cell_type": "code",
      "metadata": {
        "id": "c8hJJ9zEBJca"
      },
      "source": [
        "# updating ACE columns to be a count depending on the question\n",
        "# first 6 questions are yes or no, so yes will be be counted as 1 and no will be counted as 0\n",
        "# last 5 are questions of frequency, never = 0, once = 1, more than once will equal 2 (since not given an exact number)\n",
        "ace['ACEDEPRS'] = ace['ACEDEPRS'].map({1:1, 2:0, 0:0})\n",
        "ace['ACEDRINK'] = ace['ACEDRINK'].map({1:1, 2:0, 0:0})\n",
        "ace['ACEDRUGS'] = ace['ACEDRUGS'].map({1:1, 2:0, 0:0})\n",
        "ace['ACEPRISN'] = ace['ACEPRISN'].map({1:1, 2:0, 0:0})\n",
        "ace['ACEDIVRC'] = ace['ACEDIVRC'].map({1:1, 2:0, 0:0})\n",
        "ace['ACEPUNCH'] = ace['ACEPUNCH'].map({1:0, 2:1, 3:2})\n",
        "ace['ACEHURT'] = ace['ACEHURT'].map({1:0, 2:1, 3:2, 0:0})\n",
        "ace['ACESWEAR'] = ace['ACESWEAR'].map({1:0, 2:1, 3:2, 0:0})\n",
        "ace['ACETOUCH'] = ace['ACETOUCH'].map({1:0, 2:1, 3:2, 0:0})\n",
        "ace['ACETTHEM'] = ace['ACETTHEM'].map({1:0, 2:1, 3:2, 0:0})\n",
        "ace['ACEHVSEX'] = ace['ACEHVSEX'].map({1:0, 2:1, 3:2, 0:0})"
      ],
      "execution_count": 17,
      "outputs": []
    },
    {
      "cell_type": "code",
      "metadata": {
        "id": "c8uwY229BJcf"
      },
      "source": [
        "X_num['ACE_Count'] = ace.sum(axis = 1)"
      ],
      "execution_count": 18,
      "outputs": []
    },
    {
      "cell_type": "code",
      "metadata": {
        "id": "c76WQIICBJci"
      },
      "source": [
        "X_cat = X_cat.astype(str)"
      ],
      "execution_count": 19,
      "outputs": []
    },
    {
      "cell_type": "code",
      "metadata": {
        "id": "b_vTQmrlBJcm",
        "outputId": "58c58e6e-6deb-4b86-822d-b264659cc7a7",
        "colab": {
          "base_uri": "https://localhost:8080/",
          "height": 246
        }
      },
      "source": [
        "# dummifying nominal variables for X_all\n",
        "X_dummies = pd.get_dummies(X_cat, drop_first=True)\n",
        "X_dummies.head()"
      ],
      "execution_count": 20,
      "outputs": [
        {
          "output_type": "execute_result",
          "data": {
            "text/html": [
              "<div>\n",
              "<style scoped>\n",
              "    .dataframe tbody tr th:only-of-type {\n",
              "        vertical-align: middle;\n",
              "    }\n",
              "\n",
              "    .dataframe tbody tr th {\n",
              "        vertical-align: top;\n",
              "    }\n",
              "\n",
              "    .dataframe thead th {\n",
              "        text-align: right;\n",
              "    }\n",
              "</style>\n",
              "<table border=\"1\" class=\"dataframe\">\n",
              "  <thead>\n",
              "    <tr style=\"text-align: right;\">\n",
              "      <th></th>\n",
              "      <th>_STATE_15.0</th>\n",
              "      <th>_STATE_19.0</th>\n",
              "      <th>_STATE_22.0</th>\n",
              "      <th>_STATE_27.0</th>\n",
              "      <th>_STATE_30.0</th>\n",
              "      <th>_STATE_32.0</th>\n",
              "      <th>_STATE_37.0</th>\n",
              "      <th>_STATE_40.0</th>\n",
              "      <th>_STATE_47.0</th>\n",
              "      <th>_STATE_5.0</th>\n",
              "      <th>_STATE_50.0</th>\n",
              "      <th>_STATE_53.0</th>\n",
              "      <th>_STATE_55.0</th>\n",
              "      <th>DISPCODE_1100.0</th>\n",
              "      <th>DISPCODE_120.0</th>\n",
              "      <th>DISPCODE_1200.0</th>\n",
              "      <th>HISPANC2_1.0</th>\n",
              "      <th>HISPANC2_2.0</th>\n",
              "      <th>MARITAL_1.0</th>\n",
              "      <th>MARITAL_2.0</th>\n",
              "      <th>MARITAL_3.0</th>\n",
              "      <th>MARITAL_4.0</th>\n",
              "      <th>MARITAL_5.0</th>\n",
              "      <th>MARITAL_6.0</th>\n",
              "      <th>EMPLOY_1.0</th>\n",
              "      <th>EMPLOY_2.0</th>\n",
              "      <th>EMPLOY_3.0</th>\n",
              "      <th>EMPLOY_4.0</th>\n",
              "      <th>EMPLOY_5.0</th>\n",
              "      <th>EMPLOY_6.0</th>\n",
              "      <th>RENTHOM1_1.0</th>\n",
              "      <th>RENTHOM1_2.0</th>\n",
              "      <th>RENTHOM1_3.0</th>\n",
              "      <th>SEX_2.0</th>\n",
              "      <th>MSCODE_1.0</th>\n",
              "      <th>MSCODE_2.0</th>\n",
              "      <th>MSCODE_3.0</th>\n",
              "      <th>MSCODE_5.0</th>\n",
              "      <th>_IMPAGE_18.0</th>\n",
              "      <th>_IMPAGE_19.0</th>\n",
              "      <th>...</th>\n",
              "      <th>_IMPAGE_74.0</th>\n",
              "      <th>_IMPAGE_75.0</th>\n",
              "      <th>_IMPAGE_76.0</th>\n",
              "      <th>_IMPAGE_78.0</th>\n",
              "      <th>_IMPAGE_79.0</th>\n",
              "      <th>_IMPAGE_80.0</th>\n",
              "      <th>_IMPAGE_81.0</th>\n",
              "      <th>_IMPAGE_82.0</th>\n",
              "      <th>_IMPAGE_83.0</th>\n",
              "      <th>_IMPAGE_84.0</th>\n",
              "      <th>_IMPAGE_85.0</th>\n",
              "      <th>_IMPAGE_86.0</th>\n",
              "      <th>_IMPAGE_87.0</th>\n",
              "      <th>_IMPAGE_89.0</th>\n",
              "      <th>_IMPAGE_90.0</th>\n",
              "      <th>_IMPAGE_91.0</th>\n",
              "      <th>_IMPAGE_92.0</th>\n",
              "      <th>_IMPAGE_93.0</th>\n",
              "      <th>_IMPAGE_94.0</th>\n",
              "      <th>_IMPAGE_95.0</th>\n",
              "      <th>_IMPAGE_96.0</th>\n",
              "      <th>_IMPAGE_97.0</th>\n",
              "      <th>_IMPAGE_98.0</th>\n",
              "      <th>_PRACE_1.0</th>\n",
              "      <th>_PRACE_2.0</th>\n",
              "      <th>_PRACE_3.0</th>\n",
              "      <th>_PRACE_4.0</th>\n",
              "      <th>_PRACE_5.0</th>\n",
              "      <th>_PRACE_6.0</th>\n",
              "      <th>_EDUCAG_1.0</th>\n",
              "      <th>_EDUCAG_2.0</th>\n",
              "      <th>_EDUCAG_3.0</th>\n",
              "      <th>_EDUCAG_4.0</th>\n",
              "      <th>_INCOMG_1.0</th>\n",
              "      <th>_INCOMG_2.0</th>\n",
              "      <th>_INCOMG_3.0</th>\n",
              "      <th>_INCOMG_4.0</th>\n",
              "      <th>_INCOMG_5.0</th>\n",
              "      <th>_TOTINDA_1.0</th>\n",
              "      <th>_TOTINDA_2.0</th>\n",
              "    </tr>\n",
              "  </thead>\n",
              "  <tbody>\n",
              "    <tr>\n",
              "      <th>0</th>\n",
              "      <td>0</td>\n",
              "      <td>0</td>\n",
              "      <td>0</td>\n",
              "      <td>0</td>\n",
              "      <td>0</td>\n",
              "      <td>0</td>\n",
              "      <td>0</td>\n",
              "      <td>0</td>\n",
              "      <td>0</td>\n",
              "      <td>1</td>\n",
              "      <td>0</td>\n",
              "      <td>0</td>\n",
              "      <td>0</td>\n",
              "      <td>0</td>\n",
              "      <td>0</td>\n",
              "      <td>0</td>\n",
              "      <td>0</td>\n",
              "      <td>1</td>\n",
              "      <td>1</td>\n",
              "      <td>0</td>\n",
              "      <td>0</td>\n",
              "      <td>0</td>\n",
              "      <td>0</td>\n",
              "      <td>0</td>\n",
              "      <td>0</td>\n",
              "      <td>1</td>\n",
              "      <td>0</td>\n",
              "      <td>0</td>\n",
              "      <td>0</td>\n",
              "      <td>0</td>\n",
              "      <td>0</td>\n",
              "      <td>0</td>\n",
              "      <td>0</td>\n",
              "      <td>1</td>\n",
              "      <td>0</td>\n",
              "      <td>0</td>\n",
              "      <td>0</td>\n",
              "      <td>1</td>\n",
              "      <td>0</td>\n",
              "      <td>0</td>\n",
              "      <td>...</td>\n",
              "      <td>0</td>\n",
              "      <td>0</td>\n",
              "      <td>0</td>\n",
              "      <td>0</td>\n",
              "      <td>0</td>\n",
              "      <td>0</td>\n",
              "      <td>0</td>\n",
              "      <td>0</td>\n",
              "      <td>0</td>\n",
              "      <td>0</td>\n",
              "      <td>0</td>\n",
              "      <td>0</td>\n",
              "      <td>0</td>\n",
              "      <td>0</td>\n",
              "      <td>0</td>\n",
              "      <td>0</td>\n",
              "      <td>0</td>\n",
              "      <td>0</td>\n",
              "      <td>0</td>\n",
              "      <td>0</td>\n",
              "      <td>0</td>\n",
              "      <td>0</td>\n",
              "      <td>0</td>\n",
              "      <td>1</td>\n",
              "      <td>0</td>\n",
              "      <td>0</td>\n",
              "      <td>0</td>\n",
              "      <td>0</td>\n",
              "      <td>0</td>\n",
              "      <td>0</td>\n",
              "      <td>0</td>\n",
              "      <td>1</td>\n",
              "      <td>0</td>\n",
              "      <td>0</td>\n",
              "      <td>0</td>\n",
              "      <td>0</td>\n",
              "      <td>0</td>\n",
              "      <td>1</td>\n",
              "      <td>1</td>\n",
              "      <td>0</td>\n",
              "    </tr>\n",
              "    <tr>\n",
              "      <th>1</th>\n",
              "      <td>0</td>\n",
              "      <td>0</td>\n",
              "      <td>0</td>\n",
              "      <td>0</td>\n",
              "      <td>0</td>\n",
              "      <td>0</td>\n",
              "      <td>0</td>\n",
              "      <td>0</td>\n",
              "      <td>0</td>\n",
              "      <td>1</td>\n",
              "      <td>0</td>\n",
              "      <td>0</td>\n",
              "      <td>0</td>\n",
              "      <td>0</td>\n",
              "      <td>0</td>\n",
              "      <td>0</td>\n",
              "      <td>0</td>\n",
              "      <td>1</td>\n",
              "      <td>0</td>\n",
              "      <td>1</td>\n",
              "      <td>0</td>\n",
              "      <td>0</td>\n",
              "      <td>0</td>\n",
              "      <td>0</td>\n",
              "      <td>0</td>\n",
              "      <td>0</td>\n",
              "      <td>0</td>\n",
              "      <td>0</td>\n",
              "      <td>0</td>\n",
              "      <td>0</td>\n",
              "      <td>0</td>\n",
              "      <td>0</td>\n",
              "      <td>0</td>\n",
              "      <td>0</td>\n",
              "      <td>0</td>\n",
              "      <td>0</td>\n",
              "      <td>0</td>\n",
              "      <td>1</td>\n",
              "      <td>0</td>\n",
              "      <td>0</td>\n",
              "      <td>...</td>\n",
              "      <td>0</td>\n",
              "      <td>0</td>\n",
              "      <td>0</td>\n",
              "      <td>0</td>\n",
              "      <td>0</td>\n",
              "      <td>0</td>\n",
              "      <td>0</td>\n",
              "      <td>0</td>\n",
              "      <td>0</td>\n",
              "      <td>0</td>\n",
              "      <td>0</td>\n",
              "      <td>0</td>\n",
              "      <td>0</td>\n",
              "      <td>0</td>\n",
              "      <td>0</td>\n",
              "      <td>0</td>\n",
              "      <td>0</td>\n",
              "      <td>0</td>\n",
              "      <td>0</td>\n",
              "      <td>0</td>\n",
              "      <td>0</td>\n",
              "      <td>0</td>\n",
              "      <td>0</td>\n",
              "      <td>1</td>\n",
              "      <td>0</td>\n",
              "      <td>0</td>\n",
              "      <td>0</td>\n",
              "      <td>0</td>\n",
              "      <td>0</td>\n",
              "      <td>0</td>\n",
              "      <td>1</td>\n",
              "      <td>0</td>\n",
              "      <td>0</td>\n",
              "      <td>0</td>\n",
              "      <td>1</td>\n",
              "      <td>0</td>\n",
              "      <td>0</td>\n",
              "      <td>0</td>\n",
              "      <td>1</td>\n",
              "      <td>0</td>\n",
              "    </tr>\n",
              "    <tr>\n",
              "      <th>2</th>\n",
              "      <td>0</td>\n",
              "      <td>0</td>\n",
              "      <td>0</td>\n",
              "      <td>0</td>\n",
              "      <td>0</td>\n",
              "      <td>0</td>\n",
              "      <td>0</td>\n",
              "      <td>0</td>\n",
              "      <td>0</td>\n",
              "      <td>1</td>\n",
              "      <td>0</td>\n",
              "      <td>0</td>\n",
              "      <td>0</td>\n",
              "      <td>0</td>\n",
              "      <td>0</td>\n",
              "      <td>0</td>\n",
              "      <td>0</td>\n",
              "      <td>1</td>\n",
              "      <td>1</td>\n",
              "      <td>0</td>\n",
              "      <td>0</td>\n",
              "      <td>0</td>\n",
              "      <td>0</td>\n",
              "      <td>0</td>\n",
              "      <td>0</td>\n",
              "      <td>0</td>\n",
              "      <td>0</td>\n",
              "      <td>0</td>\n",
              "      <td>0</td>\n",
              "      <td>0</td>\n",
              "      <td>0</td>\n",
              "      <td>0</td>\n",
              "      <td>0</td>\n",
              "      <td>0</td>\n",
              "      <td>0</td>\n",
              "      <td>0</td>\n",
              "      <td>0</td>\n",
              "      <td>1</td>\n",
              "      <td>0</td>\n",
              "      <td>0</td>\n",
              "      <td>...</td>\n",
              "      <td>0</td>\n",
              "      <td>0</td>\n",
              "      <td>0</td>\n",
              "      <td>0</td>\n",
              "      <td>0</td>\n",
              "      <td>0</td>\n",
              "      <td>0</td>\n",
              "      <td>0</td>\n",
              "      <td>0</td>\n",
              "      <td>0</td>\n",
              "      <td>0</td>\n",
              "      <td>0</td>\n",
              "      <td>0</td>\n",
              "      <td>0</td>\n",
              "      <td>0</td>\n",
              "      <td>0</td>\n",
              "      <td>0</td>\n",
              "      <td>0</td>\n",
              "      <td>0</td>\n",
              "      <td>0</td>\n",
              "      <td>0</td>\n",
              "      <td>0</td>\n",
              "      <td>0</td>\n",
              "      <td>1</td>\n",
              "      <td>0</td>\n",
              "      <td>0</td>\n",
              "      <td>0</td>\n",
              "      <td>0</td>\n",
              "      <td>0</td>\n",
              "      <td>0</td>\n",
              "      <td>0</td>\n",
              "      <td>1</td>\n",
              "      <td>0</td>\n",
              "      <td>0</td>\n",
              "      <td>1</td>\n",
              "      <td>0</td>\n",
              "      <td>0</td>\n",
              "      <td>0</td>\n",
              "      <td>1</td>\n",
              "      <td>0</td>\n",
              "    </tr>\n",
              "    <tr>\n",
              "      <th>3</th>\n",
              "      <td>0</td>\n",
              "      <td>0</td>\n",
              "      <td>0</td>\n",
              "      <td>0</td>\n",
              "      <td>0</td>\n",
              "      <td>0</td>\n",
              "      <td>0</td>\n",
              "      <td>0</td>\n",
              "      <td>0</td>\n",
              "      <td>1</td>\n",
              "      <td>0</td>\n",
              "      <td>0</td>\n",
              "      <td>0</td>\n",
              "      <td>0</td>\n",
              "      <td>0</td>\n",
              "      <td>0</td>\n",
              "      <td>0</td>\n",
              "      <td>1</td>\n",
              "      <td>1</td>\n",
              "      <td>0</td>\n",
              "      <td>0</td>\n",
              "      <td>0</td>\n",
              "      <td>0</td>\n",
              "      <td>0</td>\n",
              "      <td>0</td>\n",
              "      <td>0</td>\n",
              "      <td>0</td>\n",
              "      <td>0</td>\n",
              "      <td>0</td>\n",
              "      <td>0</td>\n",
              "      <td>0</td>\n",
              "      <td>0</td>\n",
              "      <td>0</td>\n",
              "      <td>1</td>\n",
              "      <td>0</td>\n",
              "      <td>0</td>\n",
              "      <td>0</td>\n",
              "      <td>1</td>\n",
              "      <td>0</td>\n",
              "      <td>0</td>\n",
              "      <td>...</td>\n",
              "      <td>0</td>\n",
              "      <td>0</td>\n",
              "      <td>1</td>\n",
              "      <td>0</td>\n",
              "      <td>0</td>\n",
              "      <td>0</td>\n",
              "      <td>0</td>\n",
              "      <td>0</td>\n",
              "      <td>0</td>\n",
              "      <td>0</td>\n",
              "      <td>0</td>\n",
              "      <td>0</td>\n",
              "      <td>0</td>\n",
              "      <td>0</td>\n",
              "      <td>0</td>\n",
              "      <td>0</td>\n",
              "      <td>0</td>\n",
              "      <td>0</td>\n",
              "      <td>0</td>\n",
              "      <td>0</td>\n",
              "      <td>0</td>\n",
              "      <td>0</td>\n",
              "      <td>0</td>\n",
              "      <td>1</td>\n",
              "      <td>0</td>\n",
              "      <td>0</td>\n",
              "      <td>0</td>\n",
              "      <td>0</td>\n",
              "      <td>0</td>\n",
              "      <td>1</td>\n",
              "      <td>0</td>\n",
              "      <td>0</td>\n",
              "      <td>0</td>\n",
              "      <td>0</td>\n",
              "      <td>0</td>\n",
              "      <td>0</td>\n",
              "      <td>0</td>\n",
              "      <td>0</td>\n",
              "      <td>0</td>\n",
              "      <td>1</td>\n",
              "    </tr>\n",
              "    <tr>\n",
              "      <th>4</th>\n",
              "      <td>0</td>\n",
              "      <td>0</td>\n",
              "      <td>0</td>\n",
              "      <td>0</td>\n",
              "      <td>0</td>\n",
              "      <td>0</td>\n",
              "      <td>0</td>\n",
              "      <td>0</td>\n",
              "      <td>0</td>\n",
              "      <td>1</td>\n",
              "      <td>0</td>\n",
              "      <td>0</td>\n",
              "      <td>0</td>\n",
              "      <td>0</td>\n",
              "      <td>0</td>\n",
              "      <td>0</td>\n",
              "      <td>0</td>\n",
              "      <td>1</td>\n",
              "      <td>0</td>\n",
              "      <td>0</td>\n",
              "      <td>1</td>\n",
              "      <td>0</td>\n",
              "      <td>0</td>\n",
              "      <td>0</td>\n",
              "      <td>0</td>\n",
              "      <td>0</td>\n",
              "      <td>0</td>\n",
              "      <td>0</td>\n",
              "      <td>0</td>\n",
              "      <td>0</td>\n",
              "      <td>0</td>\n",
              "      <td>0</td>\n",
              "      <td>0</td>\n",
              "      <td>1</td>\n",
              "      <td>0</td>\n",
              "      <td>0</td>\n",
              "      <td>0</td>\n",
              "      <td>1</td>\n",
              "      <td>0</td>\n",
              "      <td>0</td>\n",
              "      <td>...</td>\n",
              "      <td>0</td>\n",
              "      <td>0</td>\n",
              "      <td>0</td>\n",
              "      <td>0</td>\n",
              "      <td>0</td>\n",
              "      <td>0</td>\n",
              "      <td>0</td>\n",
              "      <td>1</td>\n",
              "      <td>0</td>\n",
              "      <td>0</td>\n",
              "      <td>0</td>\n",
              "      <td>0</td>\n",
              "      <td>0</td>\n",
              "      <td>0</td>\n",
              "      <td>0</td>\n",
              "      <td>0</td>\n",
              "      <td>0</td>\n",
              "      <td>0</td>\n",
              "      <td>0</td>\n",
              "      <td>0</td>\n",
              "      <td>0</td>\n",
              "      <td>0</td>\n",
              "      <td>0</td>\n",
              "      <td>1</td>\n",
              "      <td>0</td>\n",
              "      <td>0</td>\n",
              "      <td>0</td>\n",
              "      <td>0</td>\n",
              "      <td>0</td>\n",
              "      <td>0</td>\n",
              "      <td>1</td>\n",
              "      <td>0</td>\n",
              "      <td>0</td>\n",
              "      <td>0</td>\n",
              "      <td>0</td>\n",
              "      <td>0</td>\n",
              "      <td>0</td>\n",
              "      <td>0</td>\n",
              "      <td>0</td>\n",
              "      <td>1</td>\n",
              "    </tr>\n",
              "  </tbody>\n",
              "</table>\n",
              "<p>5 rows × 134 columns</p>\n",
              "</div>"
            ],
            "text/plain": [
              "   _STATE_15.0  _STATE_19.0  ...  _TOTINDA_1.0  _TOTINDA_2.0\n",
              "0            0            0  ...             1             0\n",
              "1            0            0  ...             1             0\n",
              "2            0            0  ...             1             0\n",
              "3            0            0  ...             0             1\n",
              "4            0            0  ...             0             1\n",
              "\n",
              "[5 rows x 134 columns]"
            ]
          },
          "metadata": {
            "tags": []
          },
          "execution_count": 20
        }
      ]
    },
    {
      "cell_type": "code",
      "metadata": {
        "id": "TsjTBEAFBJcp",
        "outputId": "3954ca56-dc67-43f2-c3c9-6fe4697152a3",
        "colab": {
          "base_uri": "https://localhost:8080/",
          "height": 197
        }
      },
      "source": [
        "X_num.head()"
      ],
      "execution_count": 21,
      "outputs": [
        {
          "output_type": "execute_result",
          "data": {
            "text/html": [
              "<div>\n",
              "<style scoped>\n",
              "    .dataframe tbody tr th:only-of-type {\n",
              "        vertical-align: middle;\n",
              "    }\n",
              "\n",
              "    .dataframe tbody tr th {\n",
              "        vertical-align: top;\n",
              "    }\n",
              "\n",
              "    .dataframe thead th {\n",
              "        text-align: right;\n",
              "    }\n",
              "</style>\n",
              "<table border=\"1\" class=\"dataframe\">\n",
              "  <thead>\n",
              "    <tr style=\"text-align: right;\">\n",
              "      <th></th>\n",
              "      <th>PHYSHLTH</th>\n",
              "      <th>MENTHLTH</th>\n",
              "      <th>CHILDREN</th>\n",
              "      <th>ACE_Count</th>\n",
              "    </tr>\n",
              "  </thead>\n",
              "  <tbody>\n",
              "    <tr>\n",
              "      <th>0</th>\n",
              "      <td>0.0</td>\n",
              "      <td>0.0</td>\n",
              "      <td>1.0</td>\n",
              "      <td>0.0</td>\n",
              "    </tr>\n",
              "    <tr>\n",
              "      <th>1</th>\n",
              "      <td>15.0</td>\n",
              "      <td>0.0</td>\n",
              "      <td>0.0</td>\n",
              "      <td>3.0</td>\n",
              "    </tr>\n",
              "    <tr>\n",
              "      <th>2</th>\n",
              "      <td>6.0</td>\n",
              "      <td>0.0</td>\n",
              "      <td>0.0</td>\n",
              "      <td>0.0</td>\n",
              "    </tr>\n",
              "    <tr>\n",
              "      <th>3</th>\n",
              "      <td>30.0</td>\n",
              "      <td>0.0</td>\n",
              "      <td>0.0</td>\n",
              "      <td>0.0</td>\n",
              "    </tr>\n",
              "    <tr>\n",
              "      <th>4</th>\n",
              "      <td>13.0</td>\n",
              "      <td>0.0</td>\n",
              "      <td>0.0</td>\n",
              "      <td>0.0</td>\n",
              "    </tr>\n",
              "  </tbody>\n",
              "</table>\n",
              "</div>"
            ],
            "text/plain": [
              "   PHYSHLTH  MENTHLTH  CHILDREN  ACE_Count\n",
              "0       0.0       0.0       1.0        0.0\n",
              "1      15.0       0.0       0.0        3.0\n",
              "2       6.0       0.0       0.0        0.0\n",
              "3      30.0       0.0       0.0        0.0\n",
              "4      13.0       0.0       0.0        0.0"
            ]
          },
          "metadata": {
            "tags": []
          },
          "execution_count": 21
        }
      ]
    },
    {
      "cell_type": "code",
      "metadata": {
        "id": "N7VjOHHPBJct"
      },
      "source": [
        "# merging numerical and nominal data into one data frame\n",
        "X_all = X_num.merge(X_dummies, left_index=True, right_index=True)"
      ],
      "execution_count": 22,
      "outputs": []
    },
    {
      "cell_type": "code",
      "metadata": {
        "id": "R6X7qLS8BJcx",
        "outputId": "82078354-241d-46b8-9b90-7762cb930dab",
        "colab": {
          "base_uri": "https://localhost:8080/"
        }
      },
      "source": [
        "X_all.shape"
      ],
      "execution_count": 23,
      "outputs": [
        {
          "output_type": "execute_result",
          "data": {
            "text/plain": [
              "(117555, 138)"
            ]
          },
          "metadata": {
            "tags": []
          },
          "execution_count": 23
        }
      ]
    },
    {
      "cell_type": "code",
      "metadata": {
        "id": "vpLK6Ix-hldW",
        "outputId": "6646e831-ebb5-4ddd-b50d-d3fc83bbdef7",
        "colab": {
          "base_uri": "https://localhost:8080/"
        }
      },
      "source": [
        "type(X_all)"
      ],
      "execution_count": 80,
      "outputs": [
        {
          "output_type": "execute_result",
          "data": {
            "text/plain": [
              "pandas.core.frame.DataFrame"
            ]
          },
          "metadata": {
            "tags": []
          },
          "execution_count": 80
        }
      ]
    },
    {
      "cell_type": "code",
      "metadata": {
        "id": "6D70beubBJc0"
      },
      "source": [
        "# to compensate for unbalanced classes in my y's will use SMOTE\n",
        "\n",
        "sm = SMOTE(random_state=151)\n",
        "X_all1, y_tobacco = sm.fit_resample(X_all, y_tobacco)\n",
        "\n",
        "sm2 = SMOTE(random_state=151)\n",
        "X_all2, y_activity = sm2.fit_resample(X_all, y_activity)\n",
        "\n",
        "sm3 = SMOTE(random_state=151)\n",
        "X_all3, y_health = sm3.fit_resample(X_all, y_health)\n",
        "\n",
        "sm4 = SMOTE(random_state=151)\n",
        "X_all4, y_smoker = sm4.fit_resample(X_all, y_smoker)"
      ],
      "execution_count": 24,
      "outputs": []
    },
    {
      "cell_type": "code",
      "metadata": {
        "id": "NYisqTHTBJdG",
        "outputId": "75a13464-2f30-4bfe-b550-eb21c31ea6bc",
        "colab": {
          "base_uri": "https://localhost:8080/"
        }
      },
      "source": [
        "# looks like with SMOTE resampling, data set has increased about 4x\n",
        "X_all1.shape"
      ],
      "execution_count": 25,
      "outputs": [
        {
          "output_type": "execute_result",
          "data": {
            "text/plain": [
              "(454496, 138)"
            ]
          },
          "metadata": {
            "tags": []
          },
          "execution_count": 25
        }
      ]
    },
    {
      "cell_type": "code",
      "metadata": {
        "id": "tp0eNhTuhXBa",
        "outputId": "fb226763-5892-404d-9c7e-077e3dc10077",
        "colab": {
          "base_uri": "https://localhost:8080/"
        }
      },
      "source": [
        "type(X_all1)"
      ],
      "execution_count": 79,
      "outputs": [
        {
          "output_type": "execute_result",
          "data": {
            "text/plain": [
              "numpy.ndarray"
            ]
          },
          "metadata": {
            "tags": []
          },
          "execution_count": 79
        }
      ]
    },
    {
      "cell_type": "code",
      "metadata": {
        "id": "v03zswnMBJdK"
      },
      "source": [
        "# creating training and testing sets for all y's (stratified on y, but since the classes are equal probably didn't have to)\n",
        "X_train_all, X_test_all, y_train_tobacco, y_test_tobacco = train_test_split(X_all1, y_tobacco, random_state = 151, stratify=y_tobacco)\n",
        "X_train_all2, X_test_all2, y_train_activity, y_test_activity = train_test_split(X_all2, y_activity, random_state = 151, stratify=y_activity)\n",
        "X_train_all3, X_test_all3, y_train_health, y_test_health = train_test_split(X_all3, y_health, random_state = 151, stratify=y_health)\n",
        "X_train_all4, X_test_all4, y_train_smoker, y_test_smoker = train_test_split(X_all4, y_smoker, random_state = 151, stratify=y_smoker)"
      ],
      "execution_count": 26,
      "outputs": []
    },
    {
      "cell_type": "code",
      "metadata": {
        "id": "7TrnO2g5hOsr",
        "outputId": "453eb762-7588-41a1-9851-eaa519fd6043",
        "colab": {
          "base_uri": "https://localhost:8080/"
        }
      },
      "source": [
        "X_train_all.shape"
      ],
      "execution_count": 78,
      "outputs": [
        {
          "output_type": "execute_result",
          "data": {
            "text/plain": [
              "(340872, 138)"
            ]
          },
          "metadata": {
            "tags": []
          },
          "execution_count": 78
        }
      ]
    },
    {
      "cell_type": "code",
      "metadata": {
        "id": "3JPv2iTUBJdO",
        "outputId": "854c4400-006e-4664-d0bf-0d0a1f0a2863",
        "colab": {
          "base_uri": "https://localhost:8080/"
        }
      },
      "source": [
        "pipe_all_tobacco = make_pipeline(StandardScaler(), RandomForestClassifier(max_depth=None, min_samples_leaf=1, min_samples_split=5, n_estimators=300))\n",
        "pipe_all_tobacco.fit(X_train_all, y_train_tobacco)"
      ],
      "execution_count": 27,
      "outputs": [
        {
          "output_type": "execute_result",
          "data": {
            "text/plain": [
              "Pipeline(memory=None,\n",
              "         steps=[('standardscaler',\n",
              "                 StandardScaler(copy=True, with_mean=True, with_std=True)),\n",
              "                ('randomforestclassifier',\n",
              "                 RandomForestClassifier(bootstrap=True, ccp_alpha=0.0,\n",
              "                                        class_weight=None, criterion='gini',\n",
              "                                        max_depth=None, max_features='auto',\n",
              "                                        max_leaf_nodes=None, max_samples=None,\n",
              "                                        min_impurity_decrease=0.0,\n",
              "                                        min_impurity_split=None,\n",
              "                                        min_samples_leaf=1, min_samples_split=5,\n",
              "                                        min_weight_fraction_leaf=0.0,\n",
              "                                        n_estimators=300, n_jobs=None,\n",
              "                                        oob_score=False, random_state=None,\n",
              "                                        verbose=0, warm_start=False))],\n",
              "         verbose=False)"
            ]
          },
          "metadata": {
            "tags": []
          },
          "execution_count": 27
        }
      ]
    },
    {
      "cell_type": "code",
      "metadata": {
        "id": "ZWq7LdkUBJdS",
        "outputId": "546cebc0-c23c-4460-9743-18badbba1b00",
        "colab": {
          "base_uri": "https://localhost:8080/"
        }
      },
      "source": [
        "pipe_all_activity = make_pipeline(SelectKBest(f_classif, k=136), StandardScaler(), ExtraTreesClassifier(max_depth=None, n_estimators=500))\n",
        "pipe_all_activity.fit(X_train_all2, y_train_activity)"
      ],
      "execution_count": 28,
      "outputs": [
        {
          "output_type": "execute_result",
          "data": {
            "text/plain": [
              "Pipeline(memory=None,\n",
              "         steps=[('selectkbest',\n",
              "                 SelectKBest(k=136,\n",
              "                             score_func=<function f_classif at 0x7f9ead131e18>)),\n",
              "                ('standardscaler',\n",
              "                 StandardScaler(copy=True, with_mean=True, with_std=True)),\n",
              "                ('extratreesclassifier',\n",
              "                 ExtraTreesClassifier(bootstrap=False, ccp_alpha=0.0,\n",
              "                                      class_weight=None, criterion='gini',\n",
              "                                      max_depth=None, max_features='auto',\n",
              "                                      max_leaf_nodes=None, max_samples=None,\n",
              "                                      min_impurity_decrease=0.0,\n",
              "                                      min_impurity_split=None,\n",
              "                                      min_samples_leaf=1, min_samples_split=2,\n",
              "                                      min_weight_fraction_leaf=0.0,\n",
              "                                      n_estimators=500, n_jobs=None,\n",
              "                                      oob_score=False, random_state=None,\n",
              "                                      verbose=0, warm_start=False))],\n",
              "         verbose=False)"
            ]
          },
          "metadata": {
            "tags": []
          },
          "execution_count": 28
        }
      ]
    },
    {
      "cell_type": "code",
      "metadata": {
        "id": "ak6wl0GUBJdU",
        "outputId": "e5472807-ab04-4b16-8922-7dc156bc14df",
        "colab": {
          "base_uri": "https://localhost:8080/"
        }
      },
      "source": [
        "pipe_all_health = make_pipeline(SelectKBest(f_classif, k=106), StandardScaler(), RandomForestClassifier(max_depth=None, n_estimators=100))\n",
        "pipe_all_health.fit(X_train_all3, y_train_health)"
      ],
      "execution_count": 29,
      "outputs": [
        {
          "output_type": "execute_result",
          "data": {
            "text/plain": [
              "Pipeline(memory=None,\n",
              "         steps=[('selectkbest',\n",
              "                 SelectKBest(k=106,\n",
              "                             score_func=<function f_classif at 0x7f9ead131e18>)),\n",
              "                ('standardscaler',\n",
              "                 StandardScaler(copy=True, with_mean=True, with_std=True)),\n",
              "                ('randomforestclassifier',\n",
              "                 RandomForestClassifier(bootstrap=True, ccp_alpha=0.0,\n",
              "                                        class_weight=None, criterion='gini',\n",
              "                                        max_depth=None, max_features='auto',\n",
              "                                        max_leaf_nodes=None, max_samples=None,\n",
              "                                        min_impurity_decrease=0.0,\n",
              "                                        min_impurity_split=None,\n",
              "                                        min_samples_leaf=1, min_samples_split=2,\n",
              "                                        min_weight_fraction_leaf=0.0,\n",
              "                                        n_estimators=100, n_jobs=None,\n",
              "                                        oob_score=False, random_state=None,\n",
              "                                        verbose=0, warm_start=False))],\n",
              "         verbose=False)"
            ]
          },
          "metadata": {
            "tags": []
          },
          "execution_count": 29
        }
      ]
    },
    {
      "cell_type": "code",
      "metadata": {
        "id": "PNaN1vcLBJdY",
        "outputId": "479fe944-90eb-44e4-fcf5-9eed8ae0ec48",
        "colab": {
          "base_uri": "https://localhost:8080/"
        }
      },
      "source": [
        "pipe_all_smoker = make_pipeline(SelectKBest(f_classif, k=106), StandardScaler(), RandomForestClassifier(max_depth=None, n_estimators=500))\n",
        "pipe_all_smoker.fit(X_train_all4, y_train_smoker)"
      ],
      "execution_count": 30,
      "outputs": [
        {
          "output_type": "execute_result",
          "data": {
            "text/plain": [
              "Pipeline(memory=None,\n",
              "         steps=[('selectkbest',\n",
              "                 SelectKBest(k=106,\n",
              "                             score_func=<function f_classif at 0x7f9ead131e18>)),\n",
              "                ('standardscaler',\n",
              "                 StandardScaler(copy=True, with_mean=True, with_std=True)),\n",
              "                ('randomforestclassifier',\n",
              "                 RandomForestClassifier(bootstrap=True, ccp_alpha=0.0,\n",
              "                                        class_weight=None, criterion='gini',\n",
              "                                        max_depth=None, max_features='auto',\n",
              "                                        max_leaf_nodes=None, max_samples=None,\n",
              "                                        min_impurity_decrease=0.0,\n",
              "                                        min_impurity_split=None,\n",
              "                                        min_samples_leaf=1, min_samples_split=2,\n",
              "                                        min_weight_fraction_leaf=0.0,\n",
              "                                        n_estimators=500, n_jobs=None,\n",
              "                                        oob_score=False, random_state=None,\n",
              "                                        verbose=0, warm_start=False))],\n",
              "         verbose=False)"
            ]
          },
          "metadata": {
            "tags": []
          },
          "execution_count": 30
        }
      ]
    },
    {
      "cell_type": "code",
      "metadata": {
        "id": "oM9JFWLoUMn5",
        "outputId": "6ed99166-2137-4cdf-b151-d67994f7adac",
        "colab": {
          "base_uri": "https://localhost:8080/"
        }
      },
      "source": [
        "pipe_all_smoker_lr = make_pipeline(SelectKBest(f_classif, k=106), StandardScaler(), LogisticRegression(C=0.5))\n",
        "pipe_all_smoker_lr.fit(X_train_all4, y_train_smoker)"
      ],
      "execution_count": 65,
      "outputs": [
        {
          "output_type": "execute_result",
          "data": {
            "text/plain": [
              "Pipeline(memory=None,\n",
              "         steps=[('selectkbest',\n",
              "                 SelectKBest(k=106,\n",
              "                             score_func=<function f_classif at 0x7f9ead131e18>)),\n",
              "                ('standardscaler',\n",
              "                 StandardScaler(copy=True, with_mean=True, with_std=True)),\n",
              "                ('logisticregression',\n",
              "                 LogisticRegression(C=0.5, class_weight=None, dual=False,\n",
              "                                    fit_intercept=True, intercept_scaling=1,\n",
              "                                    l1_ratio=None, max_iter=100,\n",
              "                                    multi_class='auto', n_jobs=None,\n",
              "                                    penalty='l2', random_state=None,\n",
              "                                    solver='lbfgs', tol=0.0001, verbose=0,\n",
              "                                    warm_start=False))],\n",
              "         verbose=False)"
            ]
          },
          "metadata": {
            "tags": []
          },
          "execution_count": 65
        }
      ]
    },
    {
      "cell_type": "code",
      "metadata": {
        "id": "eJLQuO9CBJdc"
      },
      "source": [
        "tobacco_all_preds = pipe_all_tobacco.predict(X_test_all)\n",
        "activity_all_preds = pipe_all_activity.predict(X_test_all2)\n",
        "health_all_preds = pipe_all_health.predict(X_test_all3)\n",
        "smoker_all_preds = pipe_all_smoker.predict(X_test_all4)\n",
        "\n",
        "tobacco_all_prec = precision_score(y_test_tobacco, tobacco_all_preds, average='micro')\n",
        "activity_all_prec = precision_score(y_test_activity, activity_all_preds, average='micro')\n",
        "health_all_prec = precision_score(y_test_health, health_all_preds, average='micro')\n",
        "smoker_all_prec = precision_score(y_test_smoker, smoker_all_preds, average='micro')"
      ],
      "execution_count": 31,
      "outputs": []
    },
    {
      "cell_type": "code",
      "metadata": {
        "id": "lMi6KUIVUzNR",
        "outputId": "89e800f5-206b-4e84-c592-75316dfbacb2",
        "colab": {
          "base_uri": "https://localhost:8080/"
        }
      },
      "source": [
        "smoker_all_preds_lr = pipe_all_smoker_lr.predict(X_test_all4)\n",
        "smoker_all_prec_lr = precision_score(y_test_smoker, smoker_all_preds_lr, average='micro')\n",
        "print(f'training accuracy for smoker using Logistic Regression w/ACE grouped: {pipe_all_smoker_lr.score(X_train_all4, y_train_smoker)}')\n",
        "print(f'testing accuracy for smoker using Logistic Regression w/ACE grouped: {pipe_all_smoker_lr.score(X_test_all4, y_test_smoker)}')\n",
        "print(f'Precision for smoker w/ACE grouped: {smoker_all_prec_lr}')"
      ],
      "execution_count": 66,
      "outputs": [
        {
          "output_type": "stream",
          "text": [
            "training accuracy for smoker using Logistic Regression w/ACE grouped: 0.42813463637826576\n",
            "testing accuracy for smoker using Logistic Regression w/ACE grouped: 0.42523681532319096\n",
            "Precision for smoker w/ACE grouped: 0.42523681532319096\n"
          ],
          "name": "stdout"
        }
      ]
    },
    {
      "cell_type": "code",
      "metadata": {
        "id": "D8QQzjcUBJdg",
        "outputId": "2c0bb35f-1298-4783-914d-e867f9b064fb",
        "colab": {
          "base_uri": "https://localhost:8080/"
        }
      },
      "source": [
        "print(f' training accuracy for tobacco w/ACE grouped: {pipe_all_tobacco.score(X_train_all, y_train_tobacco)}')\n",
        "print(f' training accuracy for activity w/ACE grouped: {pipe_all_activity.score(X_train_all2, y_train_activity)}')\n",
        "print(f' training accuracy for health w/ACE grouped: {pipe_all_health.score(X_train_all3, y_train_health)}')\n",
        "print(f' training accuracy for smoker w/ACE grouped: {pipe_all_smoker.score(X_train_all4, y_train_smoker)}')"
      ],
      "execution_count": 37,
      "outputs": [
        {
          "output_type": "stream",
          "text": [
            " training accuracy for tobacco w/ACE grouped: 0.9965441573376517\n",
            " training accuracy for activity w/ACE grouped: 0.9990398363547178\n",
            " training accuracy for health w/ACE grouped: 0.9987981326972872\n",
            " training accuracy for smoker w/ACE grouped: 0.9935369667236422\n"
          ],
          "name": "stdout"
        }
      ]
    },
    {
      "cell_type": "code",
      "metadata": {
        "id": "C9kwHOZbBJdk",
        "outputId": "e42070b2-bc11-4fb6-90f6-0b51f154817e",
        "colab": {
          "base_uri": "https://localhost:8080/"
        }
      },
      "source": [
        "print(f' testing accuracy for tobacco w/ACE grouped: {pipe_all_tobacco.score(X_test_all, y_test_tobacco)}')\n",
        "print(f' testing accuracy for activity w/ACE grouped: {pipe_all_activity.score(X_test_all2, y_test_activity)}')\n",
        "print(f' testing accuracy for health w/ACE grouped: {pipe_all_health.score(X_test_all3, y_test_health)}')\n",
        "print(f' testing accuracy for smoker w/ACE grouped: {pipe_all_smoker.score(X_test_all4, y_test_smoker)}')"
      ],
      "execution_count": 38,
      "outputs": [
        {
          "output_type": "stream",
          "text": [
            " testing accuracy for tobacco w/ACE grouped: 0.9920967401253257\n",
            " testing accuracy for activity w/ACE grouped: 0.9155591039308693\n",
            " testing accuracy for health w/ACE grouped: 0.9453454540392299\n",
            " testing accuracy for smoker w/ACE grouped: 0.8006967459095535\n"
          ],
          "name": "stdout"
        }
      ]
    },
    {
      "cell_type": "code",
      "metadata": {
        "id": "qy1StWRNBJdn",
        "outputId": "ea322265-db92-48ad-ee04-e942a882f68e",
        "colab": {
          "base_uri": "https://localhost:8080/"
        }
      },
      "source": [
        "print(f'Precision for tobacco w/ACE grouped: {tobacco_all_prec}')\n",
        "print(f'Precision for activity w/ACE grouped: {activity_all_prec}')\n",
        "print(f'Precision for health w/ACE grouped: {health_all_prec}')\n",
        "print(f'Precision for smoker w/ACE grouped: {smoker_all_prec}')"
      ],
      "execution_count": 40,
      "outputs": [
        {
          "output_type": "stream",
          "text": [
            "Precision for tobacco w/ACE grouped: 0.9920967401253257\n",
            "Precision for activity w/ACE grouped: 0.9155591039308693\n",
            "Precision for health w/ACE grouped: 0.9453454540392299\n",
            "Precision for smoker w/ACE grouped: 0.8006967459095535\n"
          ],
          "name": "stdout"
        }
      ]
    },
    {
      "cell_type": "code",
      "metadata": {
        "id": "R0SFL8uXfOI3",
        "outputId": "67217198-b4e2-456c-fcd8-9555189247b0",
        "colab": {
          "base_uri": "https://localhost:8080/",
          "height": 406
        }
      },
      "source": [
        "# getting features importances for smokeless tobacco use\n",
        "tobacco_all = pd.DataFrame({'features': X_all.columns.values, 'importance':pipe_all_tobacco.named_steps['randomforestclassifier'].feature_importances_})\n",
        "tobacco_all.sort_values('importance', ascending = False)"
      ],
      "execution_count": 81,
      "outputs": [
        {
          "output_type": "execute_result",
          "data": {
            "text/html": [
              "<div>\n",
              "<style scoped>\n",
              "    .dataframe tbody tr th:only-of-type {\n",
              "        vertical-align: middle;\n",
              "    }\n",
              "\n",
              "    .dataframe tbody tr th {\n",
              "        vertical-align: top;\n",
              "    }\n",
              "\n",
              "    .dataframe thead th {\n",
              "        text-align: right;\n",
              "    }\n",
              "</style>\n",
              "<table border=\"1\" class=\"dataframe\">\n",
              "  <thead>\n",
              "    <tr style=\"text-align: right;\">\n",
              "      <th></th>\n",
              "      <th>features</th>\n",
              "      <th>importance</th>\n",
              "    </tr>\n",
              "  </thead>\n",
              "  <tbody>\n",
              "    <tr>\n",
              "      <th>12</th>\n",
              "      <td>_STATE_47.0</td>\n",
              "      <td>1.054854e-01</td>\n",
              "    </tr>\n",
              "    <tr>\n",
              "      <th>37</th>\n",
              "      <td>SEX_2.0</td>\n",
              "      <td>8.312096e-02</td>\n",
              "    </tr>\n",
              "    <tr>\n",
              "      <th>3</th>\n",
              "      <td>ACE_Count</td>\n",
              "      <td>5.603283e-02</td>\n",
              "    </tr>\n",
              "    <tr>\n",
              "      <th>17</th>\n",
              "      <td>DISPCODE_1100.0</td>\n",
              "      <td>4.904218e-02</td>\n",
              "    </tr>\n",
              "    <tr>\n",
              "      <th>34</th>\n",
              "      <td>RENTHOM1_1.0</td>\n",
              "      <td>3.214497e-02</td>\n",
              "    </tr>\n",
              "    <tr>\n",
              "      <th>...</th>\n",
              "      <td>...</td>\n",
              "      <td>...</td>\n",
              "    </tr>\n",
              "    <tr>\n",
              "      <th>117</th>\n",
              "      <td>_IMPAGE_95.0</td>\n",
              "      <td>4.619060e-05</td>\n",
              "    </tr>\n",
              "    <tr>\n",
              "      <th>116</th>\n",
              "      <td>_IMPAGE_94.0</td>\n",
              "      <td>2.273391e-06</td>\n",
              "    </tr>\n",
              "    <tr>\n",
              "      <th>120</th>\n",
              "      <td>_IMPAGE_98.0</td>\n",
              "      <td>1.983613e-06</td>\n",
              "    </tr>\n",
              "    <tr>\n",
              "      <th>118</th>\n",
              "      <td>_IMPAGE_96.0</td>\n",
              "      <td>1.174570e-06</td>\n",
              "    </tr>\n",
              "    <tr>\n",
              "      <th>119</th>\n",
              "      <td>_IMPAGE_97.0</td>\n",
              "      <td>8.927631e-07</td>\n",
              "    </tr>\n",
              "  </tbody>\n",
              "</table>\n",
              "<p>138 rows × 2 columns</p>\n",
              "</div>"
            ],
            "text/plain": [
              "            features    importance\n",
              "12       _STATE_47.0  1.054854e-01\n",
              "37           SEX_2.0  8.312096e-02\n",
              "3          ACE_Count  5.603283e-02\n",
              "17   DISPCODE_1100.0  4.904218e-02\n",
              "34      RENTHOM1_1.0  3.214497e-02\n",
              "..               ...           ...\n",
              "117     _IMPAGE_95.0  4.619060e-05\n",
              "116     _IMPAGE_94.0  2.273391e-06\n",
              "120     _IMPAGE_98.0  1.983613e-06\n",
              "118     _IMPAGE_96.0  1.174570e-06\n",
              "119     _IMPAGE_97.0  8.927631e-07\n",
              "\n",
              "[138 rows x 2 columns]"
            ]
          },
          "metadata": {
            "tags": []
          },
          "execution_count": 81
        }
      ]
    },
    {
      "cell_type": "code",
      "metadata": {
        "id": "1t859vNCikYQ"
      },
      "source": [
        "# getting features selected by 'selectkbest'\n",
        "features_activity_all = pipe_all_activity.named_steps['selectkbest'].get_support(indices=True) \n",
        "features_health_all = pipe_all_health.named_steps['selectkbest'].get_support(indices=True) \n",
        "features_smoker_all = pipe_all_smoker.named_steps['selectkbest'].get_support(indices=True) "
      ],
      "execution_count": 84,
      "outputs": []
    },
    {
      "cell_type": "code",
      "metadata": {
        "id": "naiLfIBjbKJP"
      },
      "source": [
        "# getting column names for features selected by 'selectkbest'\n",
        "X_cols_activity_all = X_all.columns.values[features_activity_all]\n",
        "X_cols_health_all = X_all.columns.values[features_health_all]\n",
        "X_cols_smoker_all = X_all.columns.values[features_smoker_all]"
      ],
      "execution_count": 91,
      "outputs": []
    },
    {
      "cell_type": "code",
      "metadata": {
        "id": "OumKSt_4cpzh"
      },
      "source": [
        "# getting each feature's importance\n",
        "coefs_activity_all = pipe_all_activity.named_steps['extratreesclassifier'].feature_importances_\n",
        "coefs_health_all = pipe_all_health.named_steps['randomforestclassifier'].feature_importances_\n",
        "coefs_smoker_all = pipe_all_smoker.named_steps['randomforestclassifier'].feature_importances_"
      ],
      "execution_count": 90,
      "outputs": []
    },
    {
      "cell_type": "code",
      "metadata": {
        "id": "-TsySC9GiIFc",
        "outputId": "4da62be1-1de9-4da1-f2e1-5e34938d8906",
        "colab": {
          "base_uri": "https://localhost:8080/",
          "height": 406
        }
      },
      "source": [
        "# feature importances for activity limitations\n",
        "activity_all = pd.DataFrame({'features': X_cols_activity_all, 'importance':coefs_activity_all})\n",
        "activity_all.sort_values('importance', ascending = False)"
      ],
      "execution_count": 92,
      "outputs": [
        {
          "output_type": "execute_result",
          "data": {
            "text/html": [
              "<div>\n",
              "<style scoped>\n",
              "    .dataframe tbody tr th:only-of-type {\n",
              "        vertical-align: middle;\n",
              "    }\n",
              "\n",
              "    .dataframe tbody tr th {\n",
              "        vertical-align: top;\n",
              "    }\n",
              "\n",
              "    .dataframe thead th {\n",
              "        text-align: right;\n",
              "    }\n",
              "</style>\n",
              "<table border=\"1\" class=\"dataframe\">\n",
              "  <thead>\n",
              "    <tr style=\"text-align: right;\">\n",
              "      <th></th>\n",
              "      <th>features</th>\n",
              "      <th>importance</th>\n",
              "    </tr>\n",
              "  </thead>\n",
              "  <tbody>\n",
              "    <tr>\n",
              "      <th>0</th>\n",
              "      <td>PHYSHLTH</td>\n",
              "      <td>0.064875</td>\n",
              "    </tr>\n",
              "    <tr>\n",
              "      <th>12</th>\n",
              "      <td>_STATE_47.0</td>\n",
              "      <td>0.044570</td>\n",
              "    </tr>\n",
              "    <tr>\n",
              "      <th>28</th>\n",
              "      <td>EMPLOY_1.0</td>\n",
              "      <td>0.043460</td>\n",
              "    </tr>\n",
              "    <tr>\n",
              "      <th>3</th>\n",
              "      <td>ACE_Count</td>\n",
              "      <td>0.035963</td>\n",
              "    </tr>\n",
              "    <tr>\n",
              "      <th>34</th>\n",
              "      <td>RENTHOM1_1.0</td>\n",
              "      <td>0.032924</td>\n",
              "    </tr>\n",
              "    <tr>\n",
              "      <th>...</th>\n",
              "      <td>...</td>\n",
              "      <td>...</td>\n",
              "    </tr>\n",
              "    <tr>\n",
              "      <th>19</th>\n",
              "      <td>DISPCODE_1200.0</td>\n",
              "      <td>0.000567</td>\n",
              "    </tr>\n",
              "    <tr>\n",
              "      <th>116</th>\n",
              "      <td>_IMPAGE_95.0</td>\n",
              "      <td>0.000546</td>\n",
              "    </tr>\n",
              "    <tr>\n",
              "      <th>118</th>\n",
              "      <td>_IMPAGE_98.0</td>\n",
              "      <td>0.000274</td>\n",
              "    </tr>\n",
              "    <tr>\n",
              "      <th>115</th>\n",
              "      <td>_IMPAGE_94.0</td>\n",
              "      <td>0.000169</td>\n",
              "    </tr>\n",
              "    <tr>\n",
              "      <th>117</th>\n",
              "      <td>_IMPAGE_96.0</td>\n",
              "      <td>0.000088</td>\n",
              "    </tr>\n",
              "  </tbody>\n",
              "</table>\n",
              "<p>136 rows × 2 columns</p>\n",
              "</div>"
            ],
            "text/plain": [
              "            features  importance\n",
              "0           PHYSHLTH    0.064875\n",
              "12       _STATE_47.0    0.044570\n",
              "28        EMPLOY_1.0    0.043460\n",
              "3          ACE_Count    0.035963\n",
              "34      RENTHOM1_1.0    0.032924\n",
              "..               ...         ...\n",
              "19   DISPCODE_1200.0    0.000567\n",
              "116     _IMPAGE_95.0    0.000546\n",
              "118     _IMPAGE_98.0    0.000274\n",
              "115     _IMPAGE_94.0    0.000169\n",
              "117     _IMPAGE_96.0    0.000088\n",
              "\n",
              "[136 rows x 2 columns]"
            ]
          },
          "metadata": {
            "tags": []
          },
          "execution_count": 92
        }
      ]
    },
    {
      "cell_type": "code",
      "metadata": {
        "id": "9nkWh3qDkRD3",
        "outputId": "062b5177-d4f1-44ee-c0a5-6b193535beb1",
        "colab": {
          "base_uri": "https://localhost:8080/",
          "height": 406
        }
      },
      "source": [
        "# feature importances for self-reported health\n",
        "health_all = pd.DataFrame({'features': X_cols_health_all, 'importance':coefs_health_all})\n",
        "health_all.sort_values('importance', ascending = False)"
      ],
      "execution_count": 93,
      "outputs": [
        {
          "output_type": "execute_result",
          "data": {
            "text/html": [
              "<div>\n",
              "<style scoped>\n",
              "    .dataframe tbody tr th:only-of-type {\n",
              "        vertical-align: middle;\n",
              "    }\n",
              "\n",
              "    .dataframe tbody tr th {\n",
              "        vertical-align: top;\n",
              "    }\n",
              "\n",
              "    .dataframe thead th {\n",
              "        text-align: right;\n",
              "    }\n",
              "</style>\n",
              "<table border=\"1\" class=\"dataframe\">\n",
              "  <thead>\n",
              "    <tr style=\"text-align: right;\">\n",
              "      <th></th>\n",
              "      <th>features</th>\n",
              "      <th>importance</th>\n",
              "    </tr>\n",
              "  </thead>\n",
              "  <tbody>\n",
              "    <tr>\n",
              "      <th>0</th>\n",
              "      <td>PHYSHLTH</td>\n",
              "      <td>0.097954</td>\n",
              "    </tr>\n",
              "    <tr>\n",
              "      <th>25</th>\n",
              "      <td>EMPLOY_1.0</td>\n",
              "      <td>0.047515</td>\n",
              "    </tr>\n",
              "    <tr>\n",
              "      <th>3</th>\n",
              "      <td>ACE_Count</td>\n",
              "      <td>0.041742</td>\n",
              "    </tr>\n",
              "    <tr>\n",
              "      <th>103</th>\n",
              "      <td>_INCOMG_5.0</td>\n",
              "      <td>0.038762</td>\n",
              "    </tr>\n",
              "    <tr>\n",
              "      <th>1</th>\n",
              "      <td>MENTHLTH</td>\n",
              "      <td>0.036171</td>\n",
              "    </tr>\n",
              "    <tr>\n",
              "      <th>...</th>\n",
              "      <td>...</td>\n",
              "      <td>...</td>\n",
              "    </tr>\n",
              "    <tr>\n",
              "      <th>42</th>\n",
              "      <td>_IMPAGE_24.0</td>\n",
              "      <td>0.000487</td>\n",
              "    </tr>\n",
              "    <tr>\n",
              "      <th>46</th>\n",
              "      <td>_IMPAGE_30.0</td>\n",
              "      <td>0.000465</td>\n",
              "    </tr>\n",
              "    <tr>\n",
              "      <th>38</th>\n",
              "      <td>_IMPAGE_20.0</td>\n",
              "      <td>0.000324</td>\n",
              "    </tr>\n",
              "    <tr>\n",
              "      <th>40</th>\n",
              "      <td>_IMPAGE_22.0</td>\n",
              "      <td>0.000321</td>\n",
              "    </tr>\n",
              "    <tr>\n",
              "      <th>37</th>\n",
              "      <td>_IMPAGE_18.0</td>\n",
              "      <td>0.000303</td>\n",
              "    </tr>\n",
              "  </tbody>\n",
              "</table>\n",
              "<p>106 rows × 2 columns</p>\n",
              "</div>"
            ],
            "text/plain": [
              "         features  importance\n",
              "0        PHYSHLTH    0.097954\n",
              "25     EMPLOY_1.0    0.047515\n",
              "3       ACE_Count    0.041742\n",
              "103   _INCOMG_5.0    0.038762\n",
              "1        MENTHLTH    0.036171\n",
              "..            ...         ...\n",
              "42   _IMPAGE_24.0    0.000487\n",
              "46   _IMPAGE_30.0    0.000465\n",
              "38   _IMPAGE_20.0    0.000324\n",
              "40   _IMPAGE_22.0    0.000321\n",
              "37   _IMPAGE_18.0    0.000303\n",
              "\n",
              "[106 rows x 2 columns]"
            ]
          },
          "metadata": {
            "tags": []
          },
          "execution_count": 93
        }
      ]
    },
    {
      "cell_type": "code",
      "metadata": {
        "id": "7RFDpddWkRXI",
        "outputId": "919f9dab-3095-4bf5-8fe2-4cfe36b6c819",
        "colab": {
          "base_uri": "https://localhost:8080/",
          "height": 406
        }
      },
      "source": [
        "# feature importances for smoker status\n",
        "smoker_all = pd.DataFrame({'features': X_cols_smoker_all, 'importance':coefs_smoker_all})\n",
        "smoker_all.sort_values('importance', ascending = False)"
      ],
      "execution_count": 94,
      "outputs": [
        {
          "output_type": "execute_result",
          "data": {
            "text/html": [
              "<div>\n",
              "<style scoped>\n",
              "    .dataframe tbody tr th:only-of-type {\n",
              "        vertical-align: middle;\n",
              "    }\n",
              "\n",
              "    .dataframe tbody tr th {\n",
              "        vertical-align: top;\n",
              "    }\n",
              "\n",
              "    .dataframe thead th {\n",
              "        text-align: right;\n",
              "    }\n",
              "</style>\n",
              "<table border=\"1\" class=\"dataframe\">\n",
              "  <thead>\n",
              "    <tr style=\"text-align: right;\">\n",
              "      <th></th>\n",
              "      <th>features</th>\n",
              "      <th>importance</th>\n",
              "    </tr>\n",
              "  </thead>\n",
              "  <tbody>\n",
              "    <tr>\n",
              "      <th>3</th>\n",
              "      <td>ACE_Count</td>\n",
              "      <td>0.070039</td>\n",
              "    </tr>\n",
              "    <tr>\n",
              "      <th>0</th>\n",
              "      <td>PHYSHLTH</td>\n",
              "      <td>0.039284</td>\n",
              "    </tr>\n",
              "    <tr>\n",
              "      <th>1</th>\n",
              "      <td>MENTHLTH</td>\n",
              "      <td>0.036018</td>\n",
              "    </tr>\n",
              "    <tr>\n",
              "      <th>11</th>\n",
              "      <td>_STATE_47.0</td>\n",
              "      <td>0.035014</td>\n",
              "    </tr>\n",
              "    <tr>\n",
              "      <th>33</th>\n",
              "      <td>SEX_2.0</td>\n",
              "      <td>0.031330</td>\n",
              "    </tr>\n",
              "    <tr>\n",
              "      <th>...</th>\n",
              "      <td>...</td>\n",
              "      <td>...</td>\n",
              "    </tr>\n",
              "    <tr>\n",
              "      <th>85</th>\n",
              "      <td>_IMPAGE_86.0</td>\n",
              "      <td>0.001064</td>\n",
              "    </tr>\n",
              "    <tr>\n",
              "      <th>87</th>\n",
              "      <td>_IMPAGE_90.0</td>\n",
              "      <td>0.000975</td>\n",
              "    </tr>\n",
              "    <tr>\n",
              "      <th>37</th>\n",
              "      <td>_IMPAGE_18.0</td>\n",
              "      <td>0.000905</td>\n",
              "    </tr>\n",
              "    <tr>\n",
              "      <th>89</th>\n",
              "      <td>_IMPAGE_92.0</td>\n",
              "      <td>0.000902</td>\n",
              "    </tr>\n",
              "    <tr>\n",
              "      <th>88</th>\n",
              "      <td>_IMPAGE_91.0</td>\n",
              "      <td>0.000483</td>\n",
              "    </tr>\n",
              "  </tbody>\n",
              "</table>\n",
              "<p>106 rows × 2 columns</p>\n",
              "</div>"
            ],
            "text/plain": [
              "        features  importance\n",
              "3      ACE_Count    0.070039\n",
              "0       PHYSHLTH    0.039284\n",
              "1       MENTHLTH    0.036018\n",
              "11   _STATE_47.0    0.035014\n",
              "33       SEX_2.0    0.031330\n",
              "..           ...         ...\n",
              "85  _IMPAGE_86.0    0.001064\n",
              "87  _IMPAGE_90.0    0.000975\n",
              "37  _IMPAGE_18.0    0.000905\n",
              "89  _IMPAGE_92.0    0.000902\n",
              "88  _IMPAGE_91.0    0.000483\n",
              "\n",
              "[106 rows x 2 columns]"
            ]
          },
          "metadata": {
            "tags": []
          },
          "execution_count": 94
        }
      ]
    },
    {
      "cell_type": "code",
      "metadata": {
        "id": "tSruPMr-BJdp"
      },
      "source": [
        "X_ace = X_num[['ACE_Count']]"
      ],
      "execution_count": 43,
      "outputs": []
    },
    {
      "cell_type": "code",
      "metadata": {
        "id": "f2y10EZMSnso",
        "outputId": "61e7f2fd-4603-498d-db2e-8e57225842ee",
        "colab": {
          "base_uri": "https://localhost:8080/",
          "height": 197
        }
      },
      "source": [
        "X_ace.head()"
      ],
      "execution_count": 58,
      "outputs": [
        {
          "output_type": "execute_result",
          "data": {
            "text/html": [
              "<div>\n",
              "<style scoped>\n",
              "    .dataframe tbody tr th:only-of-type {\n",
              "        vertical-align: middle;\n",
              "    }\n",
              "\n",
              "    .dataframe tbody tr th {\n",
              "        vertical-align: top;\n",
              "    }\n",
              "\n",
              "    .dataframe thead th {\n",
              "        text-align: right;\n",
              "    }\n",
              "</style>\n",
              "<table border=\"1\" class=\"dataframe\">\n",
              "  <thead>\n",
              "    <tr style=\"text-align: right;\">\n",
              "      <th></th>\n",
              "      <th>ACE_Count</th>\n",
              "    </tr>\n",
              "  </thead>\n",
              "  <tbody>\n",
              "    <tr>\n",
              "      <th>0</th>\n",
              "      <td>0.0</td>\n",
              "    </tr>\n",
              "    <tr>\n",
              "      <th>1</th>\n",
              "      <td>3.0</td>\n",
              "    </tr>\n",
              "    <tr>\n",
              "      <th>2</th>\n",
              "      <td>0.0</td>\n",
              "    </tr>\n",
              "    <tr>\n",
              "      <th>3</th>\n",
              "      <td>0.0</td>\n",
              "    </tr>\n",
              "    <tr>\n",
              "      <th>4</th>\n",
              "      <td>0.0</td>\n",
              "    </tr>\n",
              "  </tbody>\n",
              "</table>\n",
              "</div>"
            ],
            "text/plain": [
              "   ACE_Count\n",
              "0        0.0\n",
              "1        3.0\n",
              "2        0.0\n",
              "3        0.0\n",
              "4        0.0"
            ]
          },
          "metadata": {
            "tags": []
          },
          "execution_count": 58
        }
      ]
    },
    {
      "cell_type": "code",
      "metadata": {
        "id": "QE0oyPqywryS",
        "outputId": "550498c0-0900-4329-add2-3af877e7ddb8",
        "colab": {
          "base_uri": "https://localhost:8080/"
        }
      },
      "source": [
        "X_ace.value_counts()"
      ],
      "execution_count": 110,
      "outputs": [
        {
          "output_type": "execute_result",
          "data": {
            "text/plain": [
              "ACE_Count\n",
              "0.0          50582\n",
              "1.0          19092\n",
              "2.0          13317\n",
              "3.0           8325\n",
              "4.0           6314\n",
              "5.0           4679\n",
              "6.0           3706\n",
              "7.0           2999\n",
              "8.0           2404\n",
              "9.0           1688\n",
              "10.0          1253\n",
              "11.0           924\n",
              "12.0           657\n",
              "13.0           526\n",
              "14.0           439\n",
              "15.0           351\n",
              "16.0           184\n",
              "17.0           115\n",
              "dtype: int64"
            ]
          },
          "metadata": {
            "tags": []
          },
          "execution_count": 110
        }
      ]
    },
    {
      "cell_type": "code",
      "metadata": {
        "id": "TMFWeIHOQjEQ"
      },
      "source": [
        "# creating the 4 y's\n",
        "y_tobacco_ace = brfss_total['USENOW3']\n",
        "y_activity_ace = brfss_total['QLACTLM2']\n",
        "y_health_ace = brfss_total['_RFHLTH']\n",
        "y_smoker_ace = brfss_total['_SMOKER3']"
      ],
      "execution_count": 45,
      "outputs": []
    },
    {
      "cell_type": "code",
      "metadata": {
        "id": "BRe8hfo7BJds"
      },
      "source": [
        "# to compensate for unbalanced classes in my y's will use SMOTE\n",
        "\n",
        "sm = SMOTE(random_state=151)\n",
        "X1, y_tobacco_ace = sm.fit_resample(X_ace, y_tobacco_ace)\n",
        "\n",
        "sm2 = SMOTE(random_state=151)\n",
        "X2, y_activity_ace = sm2.fit_resample(X_ace, y_activity_ace)\n",
        "\n",
        "sm3 = SMOTE(random_state=151)\n",
        "X3, y_health_ace = sm3.fit_resample(X_ace, y_health_ace)\n",
        "\n",
        "sm4 = SMOTE(random_state=151)\n",
        "X4, y_smoker_ace = sm4.fit_resample(X_ace, y_smoker_ace)"
      ],
      "execution_count": 46,
      "outputs": []
    },
    {
      "cell_type": "code",
      "metadata": {
        "id": "D2pjb8qSSd2i",
        "outputId": "6c62eceb-8a55-4ec2-bb81-b3501f9f0167",
        "colab": {
          "base_uri": "https://localhost:8080/"
        }
      },
      "source": [
        "X1.shape"
      ],
      "execution_count": 57,
      "outputs": [
        {
          "output_type": "execute_result",
          "data": {
            "text/plain": [
              "(454496, 1)"
            ]
          },
          "metadata": {
            "tags": []
          },
          "execution_count": 57
        }
      ]
    },
    {
      "cell_type": "code",
      "metadata": {
        "id": "3NnqEM_GBJdw"
      },
      "source": [
        "# creating training and testing sets for all y's (stratified on y, but since the classes are equal probably didn't have to)\n",
        "X_train_ace, X_test_ace, y_train_tobacco_ace, y_test_tobacco_ace = train_test_split(X1, y_tobacco_ace, random_state = 151, stratify=y_tobacco_ace)\n",
        "X_train_ace2, X_test_ace2, y_train_activity_ace, y_test_activity_ace = train_test_split(X2, y_activity_ace, random_state = 151, stratify=y_activity_ace)\n",
        "X_train_ace3, X_test_ace3, y_train_health_ace, y_test_health_ace = train_test_split(X3, y_health_ace, random_state = 151, stratify=y_health_ace)\n",
        "X_train_ace4, X_test_ace4, y_train_smoker_ace, y_test_smoker_ace = train_test_split(X4, y_smoker_ace, random_state = 151, stratify=y_smoker_ace)"
      ],
      "execution_count": 47,
      "outputs": []
    },
    {
      "cell_type": "code",
      "metadata": {
        "id": "fdhLQdCCBJd1",
        "outputId": "beb7cbfb-2ed6-4484-a763-0d1a99648cb0",
        "colab": {
          "base_uri": "https://localhost:8080/"
        }
      },
      "source": [
        "ace_tobacco = xgb.XGBClassifier(learning_rate = 0.5, max_depth = 3, n_estimators = 20)\n",
        "ace_tobacco.fit(X_train_ace, y_train_tobacco_ace)"
      ],
      "execution_count": 48,
      "outputs": [
        {
          "output_type": "execute_result",
          "data": {
            "text/plain": [
              "XGBClassifier(base_score=0.5, booster='gbtree', colsample_bylevel=1,\n",
              "              colsample_bynode=1, colsample_bytree=1, gamma=0,\n",
              "              learning_rate=0.5, max_delta_step=0, max_depth=3,\n",
              "              min_child_weight=1, missing=None, n_estimators=20, n_jobs=1,\n",
              "              nthread=None, objective='multi:softprob', random_state=0,\n",
              "              reg_alpha=0, reg_lambda=1, scale_pos_weight=1, seed=None,\n",
              "              silent=None, subsample=1, verbosity=1)"
            ]
          },
          "metadata": {
            "tags": []
          },
          "execution_count": 48
        }
      ]
    },
    {
      "cell_type": "code",
      "metadata": {
        "id": "_duciQUzBJd4",
        "outputId": "0892c088-8d7b-4128-c579-1abf3603d929",
        "colab": {
          "base_uri": "https://localhost:8080/"
        }
      },
      "source": [
        "ace_activity = RandomForestClassifier(max_depth = None, min_samples_leaf = 1, min_samples_split = 3, n_estimators = 100)\n",
        "ace_activity.fit(X_train_ace2, y_train_activity_ace)"
      ],
      "execution_count": 49,
      "outputs": [
        {
          "output_type": "execute_result",
          "data": {
            "text/plain": [
              "RandomForestClassifier(bootstrap=True, ccp_alpha=0.0, class_weight=None,\n",
              "                       criterion='gini', max_depth=None, max_features='auto',\n",
              "                       max_leaf_nodes=None, max_samples=None,\n",
              "                       min_impurity_decrease=0.0, min_impurity_split=None,\n",
              "                       min_samples_leaf=1, min_samples_split=3,\n",
              "                       min_weight_fraction_leaf=0.0, n_estimators=100,\n",
              "                       n_jobs=None, oob_score=False, random_state=None,\n",
              "                       verbose=0, warm_start=False)"
            ]
          },
          "metadata": {
            "tags": []
          },
          "execution_count": 49
        }
      ]
    },
    {
      "cell_type": "code",
      "metadata": {
        "id": "7G99AF9vBJd7",
        "outputId": "6292255f-4c12-4249-a808-046dc2e1e7a1",
        "colab": {
          "base_uri": "https://localhost:8080/"
        }
      },
      "source": [
        "ace_health = ExtraTreesClassifier(max_depth = None, min_samples_leaf = 1, min_samples_split = 5, n_estimators = 500)\n",
        "ace_health.fit(X_train_ace3, y_train_health_ace)"
      ],
      "execution_count": 50,
      "outputs": [
        {
          "output_type": "execute_result",
          "data": {
            "text/plain": [
              "ExtraTreesClassifier(bootstrap=False, ccp_alpha=0.0, class_weight=None,\n",
              "                     criterion='gini', max_depth=None, max_features='auto',\n",
              "                     max_leaf_nodes=None, max_samples=None,\n",
              "                     min_impurity_decrease=0.0, min_impurity_split=None,\n",
              "                     min_samples_leaf=1, min_samples_split=5,\n",
              "                     min_weight_fraction_leaf=0.0, n_estimators=500,\n",
              "                     n_jobs=None, oob_score=False, random_state=None, verbose=0,\n",
              "                     warm_start=False)"
            ]
          },
          "metadata": {
            "tags": []
          },
          "execution_count": 50
        }
      ]
    },
    {
      "cell_type": "code",
      "metadata": {
        "id": "F90YsCD_BJeC",
        "outputId": "d3f65521-d104-4e57-91c3-2ce975a9183e",
        "colab": {
          "base_uri": "https://localhost:8080/"
        }
      },
      "source": [
        "ace_smoker = ExtraTreesClassifier(max_depth = None, min_samples_leaf = 1, min_samples_split = 5, n_estimators = 300)\n",
        "ace_smoker.fit(X_train_ace4, y_train_smoker_ace)"
      ],
      "execution_count": 51,
      "outputs": [
        {
          "output_type": "execute_result",
          "data": {
            "text/plain": [
              "ExtraTreesClassifier(bootstrap=False, ccp_alpha=0.0, class_weight=None,\n",
              "                     criterion='gini', max_depth=None, max_features='auto',\n",
              "                     max_leaf_nodes=None, max_samples=None,\n",
              "                     min_impurity_decrease=0.0, min_impurity_split=None,\n",
              "                     min_samples_leaf=1, min_samples_split=5,\n",
              "                     min_weight_fraction_leaf=0.0, n_estimators=300,\n",
              "                     n_jobs=None, oob_score=False, random_state=None, verbose=0,\n",
              "                     warm_start=False)"
            ]
          },
          "metadata": {
            "tags": []
          },
          "execution_count": 51
        }
      ]
    },
    {
      "cell_type": "code",
      "metadata": {
        "id": "aslTYJKFBJeF"
      },
      "source": [
        "tobacco_ace_preds = ace_tobacco.predict(X_test_ace)\n",
        "activity_ace_preds = ace_activity.predict(X_test_ace2)\n",
        "health_ace_preds = ace_health.predict(X_test_ace3)\n",
        "smoker_ace_preds = ace_smoker.predict(X_test_ace4)\n",
        "\n",
        "tobacco_ace_prec = precision_score(y_test_tobacco_ace, tobacco_ace_preds, average='micro')\n",
        "activity_ace_prec = precision_score(y_test_activity_ace, activity_ace_preds, average='micro')\n",
        "health_ace_prec = precision_score(y_test_health_ace, health_ace_preds, average='micro')\n",
        "smoker_ace_prec = precision_score(y_test_smoker_ace, smoker_ace_preds, average='micro')"
      ],
      "execution_count": 52,
      "outputs": []
    },
    {
      "cell_type": "code",
      "metadata": {
        "id": "Rn2Kgr79BJeH",
        "outputId": "1fd69756-dcc7-462b-abcb-794d5043226c",
        "colab": {
          "base_uri": "https://localhost:8080/"
        }
      },
      "source": [
        "print(f' training accuracy for tobacco: {ace_tobacco.score(X_train_ace, y_train_tobacco_ace)}')\n",
        "print(f' training accuracy for activity: {ace_activity.score(X_train_ace2, y_train_activity_ace)}')\n",
        "print(f' training accuracy for health: {ace_health.score(X_train_ace3, y_train_health_ace)}')\n",
        "print(f' training accuracy for smoker: {ace_smoker.score(X_train_ace4, y_train_smoker_ace)}')"
      ],
      "execution_count": 53,
      "outputs": [
        {
          "output_type": "stream",
          "text": [
            " training accuracy for tobacco: 0.39541822150249945\n",
            " training accuracy for activity: 0.4178955717670142\n",
            " training accuracy for health: 0.37861604284030476\n",
            " training accuracy for smoker: 0.27469196209165675\n"
          ],
          "name": "stdout"
        }
      ]
    },
    {
      "cell_type": "code",
      "metadata": {
        "id": "XfMglW6iBJeK",
        "outputId": "bd2877d6-24d7-40b2-c6df-20498d21223c",
        "colab": {
          "base_uri": "https://localhost:8080/"
        }
      },
      "source": [
        "print(f' testing accuracy for tobacco: {ace_tobacco.score(X_test_ace, y_test_tobacco_ace)}')\n",
        "print(f' testing accuracy for activity: {ace_activity.score(X_test_ace2, y_test_activity_ace)}')\n",
        "print(f' testing accuracy for health: {ace_health.score(X_test_ace3, y_test_health_ace)}')\n",
        "print(f' testing accuracy for smoker: {ace_smoker.score(X_test_ace4, y_test_smoker_ace)}')"
      ],
      "execution_count": 54,
      "outputs": [
        {
          "output_type": "stream",
          "text": [
            " testing accuracy for tobacco: 0.3915105963528832\n",
            " testing accuracy for activity: 0.41995021838162777\n",
            " testing accuracy for health: 0.3822059499116005\n",
            " testing accuracy for smoker: 0.2738968189765403\n"
          ],
          "name": "stdout"
        }
      ]
    },
    {
      "cell_type": "code",
      "metadata": {
        "id": "icFrJauABJeN",
        "outputId": "4d3a4ab1-55d2-4d53-bed4-bdcf89e33c8d",
        "colab": {
          "base_uri": "https://localhost:8080/"
        }
      },
      "source": [
        "print(f'Precision for tobacco: {tobacco_ace_prec}')\n",
        "print(f'Precision for activity: {activity_ace_prec}')\n",
        "print(f'Precision for health: {health_ace_prec}')\n",
        "print(f'Precision for smoker: {smoker_ace_prec}')"
      ],
      "execution_count": 55,
      "outputs": [
        {
          "output_type": "stream",
          "text": [
            "Precision for tobacco: 0.3915105963528832\n",
            "Precision for activity: 0.41995021838162777\n",
            "Precision for health: 0.3822059499116005\n",
            "Precision for smoker: 0.2738968189765403\n"
          ],
          "name": "stdout"
        }
      ]
    },
    {
      "cell_type": "code",
      "metadata": {
        "id": "xjV0agYsCTNH",
        "outputId": "7f58b726-cfe8-4525-8cd2-74cf39b83df7",
        "colab": {
          "base_uri": "https://localhost:8080/"
        }
      },
      "source": [
        "ace_tobacco_lr = LogisticRegression(C=0.01)\n",
        "ace_tobacco_lr.fit(X_train_ace, y_train_tobacco_ace)"
      ],
      "execution_count": 121,
      "outputs": [
        {
          "output_type": "execute_result",
          "data": {
            "text/plain": [
              "LogisticRegression(C=0.01, class_weight=None, dual=False, fit_intercept=True,\n",
              "                   intercept_scaling=1, l1_ratio=None, max_iter=100,\n",
              "                   multi_class='auto', n_jobs=None, penalty='l2',\n",
              "                   random_state=None, solver='lbfgs', tol=0.0001, verbose=0,\n",
              "                   warm_start=False)"
            ]
          },
          "metadata": {
            "tags": []
          },
          "execution_count": 121
        }
      ]
    },
    {
      "cell_type": "code",
      "metadata": {
        "id": "GPt0ks0nCUJj",
        "outputId": "92262701-20a3-43e6-9326-e8e5c475a1eb",
        "colab": {
          "base_uri": "https://localhost:8080/"
        }
      },
      "source": [
        "ace_activity_lr = LogisticRegression(C=0.01)\n",
        "ace_activity_lr.fit(X_train_ace2, y_train_activity_ace)"
      ],
      "execution_count": 122,
      "outputs": [
        {
          "output_type": "execute_result",
          "data": {
            "text/plain": [
              "LogisticRegression(C=0.01, class_weight=None, dual=False, fit_intercept=True,\n",
              "                   intercept_scaling=1, l1_ratio=None, max_iter=100,\n",
              "                   multi_class='auto', n_jobs=None, penalty='l2',\n",
              "                   random_state=None, solver='lbfgs', tol=0.0001, verbose=0,\n",
              "                   warm_start=False)"
            ]
          },
          "metadata": {
            "tags": []
          },
          "execution_count": 122
        }
      ]
    },
    {
      "cell_type": "code",
      "metadata": {
        "id": "_-y5aTCXCUSz",
        "outputId": "2b42e01b-3dae-49fd-c739-097ed475151c",
        "colab": {
          "base_uri": "https://localhost:8080/"
        }
      },
      "source": [
        "ace_health_lr = LogisticRegression(C=0.01)\n",
        "ace_health_lr.fit(X_train_ace3, y_train_health_ace)"
      ],
      "execution_count": 123,
      "outputs": [
        {
          "output_type": "execute_result",
          "data": {
            "text/plain": [
              "LogisticRegression(C=0.01, class_weight=None, dual=False, fit_intercept=True,\n",
              "                   intercept_scaling=1, l1_ratio=None, max_iter=100,\n",
              "                   multi_class='auto', n_jobs=None, penalty='l2',\n",
              "                   random_state=None, solver='lbfgs', tol=0.0001, verbose=0,\n",
              "                   warm_start=False)"
            ]
          },
          "metadata": {
            "tags": []
          },
          "execution_count": 123
        }
      ]
    },
    {
      "cell_type": "code",
      "metadata": {
        "id": "PdTFoJg-CLHD",
        "outputId": "302eb886-18ef-4ddc-ebcd-cd8053be3ef9",
        "colab": {
          "base_uri": "https://localhost:8080/"
        }
      },
      "source": [
        "ace_smoker_lr = LogisticRegression(C=0.01)\n",
        "ace_smoker_lr.fit(X_train_ace4, y_train_smoker_ace)"
      ],
      "execution_count": 124,
      "outputs": [
        {
          "output_type": "execute_result",
          "data": {
            "text/plain": [
              "LogisticRegression(C=0.01, class_weight=None, dual=False, fit_intercept=True,\n",
              "                   intercept_scaling=1, l1_ratio=None, max_iter=100,\n",
              "                   multi_class='auto', n_jobs=None, penalty='l2',\n",
              "                   random_state=None, solver='lbfgs', tol=0.0001, verbose=0,\n",
              "                   warm_start=False)"
            ]
          },
          "metadata": {
            "tags": []
          },
          "execution_count": 124
        }
      ]
    },
    {
      "cell_type": "code",
      "metadata": {
        "id": "VtUJSG_qQgcu",
        "outputId": "c39ee755-018c-48ef-db10-aa902a093fca",
        "colab": {
          "base_uri": "https://localhost:8080/"
        }
      },
      "source": [
        "tobacco_ace_preds_lr = ace_tobacco_lr.predict(X_test_ace)\n",
        "activity_ace_preds_lr = ace_activity_lr.predict(X_test_ace2)\n",
        "health_ace_preds_lr = ace_health_lr.predict(X_test_ace3)\n",
        "smoker_ace_preds_lr = ace_smoker_lr.predict(X_test_ace4)\n",
        "\n",
        "tobacco_ace_prec_lr = precision_score(y_test_tobacco_ace, tobacco_ace_preds_lr, average='micro')\n",
        "activity_ace_prec_lr = precision_score(y_test_activity_ace, activity_ace_preds_lr, average='micro')\n",
        "health_ace_prec_lr = precision_score(y_test_health_ace, health_ace_preds_lr, average='micro')\n",
        "smoker_ace_prec_lr = precision_score(y_test_smoker_ace, smoker_ace_preds_lr, average='micro')\n",
        "\n",
        "print(f'Logistic Regression training accuracy for smokeless tobacco usage w/ACE grouped: {ace_smoker_lr.score(X_train_ace, y_train_tobacco_ace)}')\n",
        "print(f'Logistic Regression testing accuracy for smokeless tobacco usage w/ACE grouped: {ace_smoker_lr.score(X_test_ace, y_test_tobacco_ace)}')\n",
        "print(f'Logistic Regression precision for smokeless tobacco usage w/ACE grouped: {tobacco_ace_prec_lr}')\n",
        "\n",
        "print(f'Logistic Regression training accuracy for activity limitations w/ACE grouped: {ace_activity_lr.score(X_train_ace2, y_train_activity_ace)}')\n",
        "print(f'Logistic Regression testing accuracy for activity limitations w/ACE grouped: {ace_activity_lr.score(X_test_ace2, y_test_activity_ace)}')\n",
        "print(f'Logistic Regression precision for activity limitations w/ACE grouped: {activity_ace_prec_lr}')\n",
        "\n",
        "print(f'Logistic Regression training accuracy for self-reported health w/ACE grouped: {ace_health_lr.score(X_train_ace3, y_train_health_ace)}')\n",
        "print(f'Logistic Regression testing accuracy for self-reported health w/ACE grouped: {ace_health_lr.score(X_test_ace3, y_test_health_ace)}')\n",
        "print(f'Logistic Regression precision for self-reported health w/ACE grouped: {health_ace_prec_lr}')\n",
        "\n",
        "print(f'Logistic Regression training accuracy for smoker status w/ACE grouped: {pipe_ace_smoker_lr.score(X_train_ace4, y_train_smoker_ace)}')\n",
        "print(f'Logistic Regression testing accuracy for smoker status w/ACE grouped: {pipe_ace_smoker_lr.score(X_test_ace4, y_test_smoker_ace)}')\n",
        "print(f'Logistic Regression precision for smoker w/ACE grouped: {smoker_ace_prec_lr}')"
      ],
      "execution_count": 125,
      "outputs": [
        {
          "output_type": "stream",
          "text": [
            "Logistic Regression training accuracy for smokeless tobacco usage w/ACE grouped: 0.3366307587598864\n",
            "Logistic Regression testing accuracy for smokeless tobacco usage w/ACE grouped: 0.33696226149405056\n",
            "Logistic Regression precision for smokeless tobacco usage w/ACE grouped: 0.3732046046609871\n",
            "Logistic Regression training accuracy for activity limitations w/ACE grouped: 0.39769038897064196\n",
            "Logistic Regression testing accuracy for activity limitations w/ACE grouped: 0.4002880445842922\n",
            "Logistic Regression precision for activity limitations w/ACE grouped: 0.4002880445842922\n",
            "Logistic Regression training accuracy for self-reported health w/ACE grouped: 0.3632562715199213\n",
            "Logistic Regression testing accuracy for self-reported health w/ACE grouped: 0.3658764077791544\n",
            "Logistic Regression precision for self-reported health w/ACE grouped: 0.3658764077791544\n",
            "Logistic Regression training accuracy for smoker status w/ACE grouped: 0.2615223357384864\n",
            "Logistic Regression testing accuracy for smoker status w/ACE grouped: 0.26244095926515487\n",
            "Logistic Regression precision for smoker w/ACE grouped: 0.26244095926515487\n"
          ],
          "name": "stdout"
        }
      ]
    },
    {
      "cell_type": "code",
      "metadata": {
        "id": "5prdlgH54gvB",
        "outputId": "393dd642-1234-4a60-d9a4-54af200f1d46",
        "colab": {
          "base_uri": "https://localhost:8080/"
        }
      },
      "source": [
        "pipe_ace_smoker_lr.classes_"
      ],
      "execution_count": 116,
      "outputs": [
        {
          "output_type": "execute_result",
          "data": {
            "text/plain": [
              "array([0., 1., 2., 3., 4.])"
            ]
          },
          "metadata": {
            "tags": []
          },
          "execution_count": 116
        }
      ]
    },
    {
      "cell_type": "code",
      "metadata": {
        "id": "xJIdXnpizm-h",
        "outputId": "087bf548-6319-45e0-cfba-497c2201040f",
        "colab": {
          "base_uri": "https://localhost:8080/",
          "height": 197
        }
      },
      "source": [
        "# got information about converting odds from https://towardsdatascience.com/interpreting-coefficients-in-linear-and-logistic-regression-6ddf1295f6f1\n",
        "\n",
        "# getting the coefficient for each class\n",
        "coef_dk = pipe_ace_smoker_lr.coef_[0]\n",
        "coef_everyday = pipe_ace_smoker_lr.coef_[1]\n",
        "coef_somedays = pipe_ace_smoker_lr.coef_[2]\n",
        "coef_former = pipe_ace_smoker_lr.coef_[3]\n",
        "coef_never = pipe_ace_smoker_lr.coef_[4]\n",
        "\n",
        "# converting the log odds for each class into regular odds for interpretation\n",
        "odds_dk = np.exp(coef_dk)\n",
        "odds_everyday = np.exp(coef_everyday)\n",
        "odds_somedays = np.exp(coef_somedays)\n",
        "odds_former = np.exp(coef_former)\n",
        "odds_never = np.exp(coef_never)\n",
        "\n",
        "# putting converted odds into a dataframe\n",
        "pd.DataFrame([odds_dk, odds_everyday, odds_somedays, odds_former, odds_never], \n",
        "             index=['dk', 'everyday', 'somedays', 'former', 'never'], \n",
        "             columns=['coef'])\\\n",
        "            .sort_values(by='coef', ascending=False)"
      ],
      "execution_count": 114,
      "outputs": [
        {
          "output_type": "execute_result",
          "data": {
            "text/html": [
              "<div>\n",
              "<style scoped>\n",
              "    .dataframe tbody tr th:only-of-type {\n",
              "        vertical-align: middle;\n",
              "    }\n",
              "\n",
              "    .dataframe tbody tr th {\n",
              "        vertical-align: top;\n",
              "    }\n",
              "\n",
              "    .dataframe thead th {\n",
              "        text-align: right;\n",
              "    }\n",
              "</style>\n",
              "<table border=\"1\" class=\"dataframe\">\n",
              "  <thead>\n",
              "    <tr style=\"text-align: right;\">\n",
              "      <th></th>\n",
              "      <th>coef</th>\n",
              "    </tr>\n",
              "  </thead>\n",
              "  <tbody>\n",
              "    <tr>\n",
              "      <th>everyday</th>\n",
              "      <td>1.117562</td>\n",
              "    </tr>\n",
              "    <tr>\n",
              "      <th>somedays</th>\n",
              "      <td>1.087477</td>\n",
              "    </tr>\n",
              "    <tr>\n",
              "      <th>former</th>\n",
              "      <td>1.011841</td>\n",
              "    </tr>\n",
              "    <tr>\n",
              "      <th>never</th>\n",
              "      <td>0.946563</td>\n",
              "    </tr>\n",
              "    <tr>\n",
              "      <th>dk</th>\n",
              "      <td>0.859105</td>\n",
              "    </tr>\n",
              "  </tbody>\n",
              "</table>\n",
              "</div>"
            ],
            "text/plain": [
              "              coef\n",
              "everyday  1.117562\n",
              "somedays  1.087477\n",
              "former    1.011841\n",
              "never     0.946563\n",
              "dk        0.859105"
            ]
          },
          "metadata": {
            "tags": []
          },
          "execution_count": 114
        }
      ]
    },
    {
      "cell_type": "code",
      "metadata": {
        "id": "-34iUvP58DLe"
      },
      "source": [
        ""
      ],
      "execution_count": null,
      "outputs": []
    },
    {
      "cell_type": "markdown",
      "metadata": {
        "id": "VQ_cK2-f1mn-"
      },
      "source": [
        "Coefficient interpretation guidance came from http://www.columbia.edu/~so33/SusDev/Lecture_10.pdf\n",
        "\n",
        "> “For every one-unit increase in the number of ACEs someone experiences, the odds that a person is in the 'smokes every day' class increases by 12% when all other variables are held constant.”\n",
        "\n",
        "> “For every one-unit increase in the number of ACEs someone experiences, the odds that a person is in the 'smokes some days' class increases by 9% when all other variables are held constant.”\n",
        "\n",
        "> “For every one-unit increase in the number of ACEs someone experiences, the odds that a person is in the 'former smoker' class increases 1% when all other variables are held constant.”\n",
        "\n",
        "> “For every one-unit increase in the number of ACEs someone experiences, the odds that a person is in the 'never smoked' class decreases by 5% when all other variables are held constant.”\n",
        "\n",
        "> “For every one-unit increase in the number of ACEs someone experiences, the odds that a person is in the 'don't know' class decreases by 14% when all other variables are held constant.”\n",
        "\n"
      ]
    },
    {
      "cell_type": "code",
      "metadata": {
        "id": "UNMnSmXAihK-"
      },
      "source": [
        ""
      ],
      "execution_count": null,
      "outputs": []
    },
    {
      "cell_type": "code",
      "metadata": {
        "id": "JKxkw4FKvESA"
      },
      "source": [
        ""
      ],
      "execution_count": null,
      "outputs": []
    }
  ]
}