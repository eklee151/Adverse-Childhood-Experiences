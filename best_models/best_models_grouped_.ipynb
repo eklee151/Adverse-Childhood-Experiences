{
  "nbformat": 4,
  "nbformat_minor": 0,
  "metadata": {
    "colab": {
      "name": "best_models_grouped .ipynb",
      "provenance": [],
      "collapsed_sections": [],
      "machine_shape": "hm"
    },
    "kernelspec": {
      "display_name": "Python 3",
      "language": "python",
      "name": "python3"
    },
    "language_info": {
      "codemirror_mode": {
        "name": "ipython",
        "version": 3
      },
      "file_extension": ".py",
      "mimetype": "text/x-python",
      "name": "python",
      "nbconvert_exporter": "python",
      "pygments_lexer": "ipython3",
      "version": "3.8.3"
    }
  },
  "cells": [
    {
      "cell_type": "code",
      "metadata": {
        "id": "oP7odWthG8Jh",
        "outputId": "1a8a6dcb-47c8-47ca-e997-14a68706b823",
        "colab": {
          "base_uri": "https://localhost:8080/"
        }
      },
      "source": [
        "from psutil import virtual_memory\n",
        "ram_gb = virtual_memory().total / 1e9\n",
        "print('Your runtime has {:.1f} gigabytes of available RAM\\n'.format(ram_gb))\n",
        "\n",
        "if ram_gb < 20:\n",
        "  print('To enable a high-RAM runtime, select the Runtime > \"Change runtime type\"')\n",
        "  print('menu, and then select High-RAM in the Runtime shape dropdown. Then, ')\n",
        "  print('re-execute this cell.')\n",
        "else:\n",
        "  print('You are using a high-RAM runtime!')"
      ],
      "execution_count": 1,
      "outputs": [
        {
          "output_type": "stream",
          "text": [
            "Your runtime has 27.4 gigabytes of available RAM\n",
            "\n",
            "You are using a high-RAM runtime!\n"
          ],
          "name": "stdout"
        }
      ]
    },
    {
      "cell_type": "code",
      "metadata": {
        "id": "58dN7HsfBJba"
      },
      "source": [
        "import pandas as pd\n",
        "import numpy as np\n",
        "import seaborn as sns\n",
        "import matplotlib.pyplot as plt\n",
        "\n",
        "from sklearn.model_selection import train_test_split, GridSearchCV\n",
        "from sklearn.preprocessing import StandardScaler\n",
        "from sklearn.feature_selection import SelectKBest, f_classif\n",
        "from sklearn.pipeline import make_pipeline\n",
        "from sklearn.linear_model import LogisticRegression\n",
        "from sklearn.metrics import confusion_matrix, plot_confusion_matrix, precision_score\n",
        "from sklearn.ensemble import RandomForestClassifier, ExtraTreesClassifier, AdaBoostClassifier, GradientBoostingClassifier\n",
        "\n",
        "from imblearn.over_sampling import SMOTE\n",
        "\n",
        "import xgboost as xgb\n",
        "\n",
        "import warnings\n",
        "warnings.filterwarnings('ignore')"
      ],
      "execution_count": 4,
      "outputs": []
    },
    {
      "cell_type": "code",
      "metadata": {
        "id": "uI-u7U3xBJbk"
      },
      "source": [
        "# reading in full data set\n",
        "# brfss_total = pd.read_csv(\"../csv_data/brfss_total.csv\")\n",
        "brfss_total = pd.read_csv(\"./brfss_total.csv\")"
      ],
      "execution_count": 5,
      "outputs": []
    },
    {
      "cell_type": "code",
      "metadata": {
        "id": "XPTL7V4PBJbo",
        "outputId": "75d13e41-d6d8-405e-dcba-f65953fef516",
        "colab": {
          "base_uri": "https://localhost:8080/",
          "height": 234
        }
      },
      "source": [
        "brfss_total.head()"
      ],
      "execution_count": 6,
      "outputs": [
        {
          "output_type": "execute_result",
          "data": {
            "text/html": [
              "<div>\n",
              "<style scoped>\n",
              "    .dataframe tbody tr th:only-of-type {\n",
              "        vertical-align: middle;\n",
              "    }\n",
              "\n",
              "    .dataframe tbody tr th {\n",
              "        vertical-align: top;\n",
              "    }\n",
              "\n",
              "    .dataframe thead th {\n",
              "        text-align: right;\n",
              "    }\n",
              "</style>\n",
              "<table border=\"1\" class=\"dataframe\">\n",
              "  <thead>\n",
              "    <tr style=\"text-align: right;\">\n",
              "      <th></th>\n",
              "      <th>Unnamed: 0</th>\n",
              "      <th>_STATE</th>\n",
              "      <th>DISPCODE</th>\n",
              "      <th>PHYSHLTH</th>\n",
              "      <th>MENTHLTH</th>\n",
              "      <th>USENOW3</th>\n",
              "      <th>HISPANC2</th>\n",
              "      <th>MARITAL</th>\n",
              "      <th>CHILDREN</th>\n",
              "      <th>EMPLOY</th>\n",
              "      <th>RENTHOM1</th>\n",
              "      <th>SEX</th>\n",
              "      <th>QLACTLM2</th>\n",
              "      <th>ACEDEPRS</th>\n",
              "      <th>ACEDRINK</th>\n",
              "      <th>ACEDRUGS</th>\n",
              "      <th>ACEPRISN</th>\n",
              "      <th>ACEDIVRC</th>\n",
              "      <th>ACEPUNCH</th>\n",
              "      <th>ACEHURT</th>\n",
              "      <th>ACESWEAR</th>\n",
              "      <th>ACETOUCH</th>\n",
              "      <th>ACETTHEM</th>\n",
              "      <th>ACEHVSEX</th>\n",
              "      <th>MSCODE</th>\n",
              "      <th>_IMPAGE</th>\n",
              "      <th>_RFHLTH</th>\n",
              "      <th>_SMOKER3</th>\n",
              "      <th>_PRACE</th>\n",
              "      <th>_EDUCAG</th>\n",
              "      <th>_INCOMG</th>\n",
              "      <th>_TOTINDA</th>\n",
              "    </tr>\n",
              "  </thead>\n",
              "  <tbody>\n",
              "    <tr>\n",
              "      <th>0</th>\n",
              "      <td>0</td>\n",
              "      <td>5.0</td>\n",
              "      <td>110.0</td>\n",
              "      <td>0.0</td>\n",
              "      <td>0.0</td>\n",
              "      <td>3.0</td>\n",
              "      <td>2.0</td>\n",
              "      <td>1.0</td>\n",
              "      <td>1.0</td>\n",
              "      <td>2.0</td>\n",
              "      <td>0.0</td>\n",
              "      <td>2.0</td>\n",
              "      <td>2.0</td>\n",
              "      <td>2.0</td>\n",
              "      <td>2.0</td>\n",
              "      <td>2.0</td>\n",
              "      <td>2.0</td>\n",
              "      <td>2.0</td>\n",
              "      <td>1.0</td>\n",
              "      <td>1.0</td>\n",
              "      <td>1.0</td>\n",
              "      <td>1.0</td>\n",
              "      <td>1.0</td>\n",
              "      <td>1.0</td>\n",
              "      <td>5.0</td>\n",
              "      <td>53.0</td>\n",
              "      <td>1.0</td>\n",
              "      <td>4.0</td>\n",
              "      <td>1.0</td>\n",
              "      <td>3.0</td>\n",
              "      <td>5.0</td>\n",
              "      <td>1.0</td>\n",
              "    </tr>\n",
              "    <tr>\n",
              "      <th>1</th>\n",
              "      <td>1</td>\n",
              "      <td>5.0</td>\n",
              "      <td>110.0</td>\n",
              "      <td>15.0</td>\n",
              "      <td>0.0</td>\n",
              "      <td>3.0</td>\n",
              "      <td>2.0</td>\n",
              "      <td>2.0</td>\n",
              "      <td>0.0</td>\n",
              "      <td>0.0</td>\n",
              "      <td>0.0</td>\n",
              "      <td>1.0</td>\n",
              "      <td>2.0</td>\n",
              "      <td>2.0</td>\n",
              "      <td>1.0</td>\n",
              "      <td>2.0</td>\n",
              "      <td>2.0</td>\n",
              "      <td>2.0</td>\n",
              "      <td>1.0</td>\n",
              "      <td>1.0</td>\n",
              "      <td>3.0</td>\n",
              "      <td>1.0</td>\n",
              "      <td>1.0</td>\n",
              "      <td>1.0</td>\n",
              "      <td>5.0</td>\n",
              "      <td>64.0</td>\n",
              "      <td>2.0</td>\n",
              "      <td>3.0</td>\n",
              "      <td>1.0</td>\n",
              "      <td>2.0</td>\n",
              "      <td>2.0</td>\n",
              "      <td>1.0</td>\n",
              "    </tr>\n",
              "    <tr>\n",
              "      <th>2</th>\n",
              "      <td>2</td>\n",
              "      <td>5.0</td>\n",
              "      <td>110.0</td>\n",
              "      <td>6.0</td>\n",
              "      <td>0.0</td>\n",
              "      <td>3.0</td>\n",
              "      <td>2.0</td>\n",
              "      <td>1.0</td>\n",
              "      <td>0.0</td>\n",
              "      <td>0.0</td>\n",
              "      <td>0.0</td>\n",
              "      <td>1.0</td>\n",
              "      <td>1.0</td>\n",
              "      <td>2.0</td>\n",
              "      <td>2.0</td>\n",
              "      <td>2.0</td>\n",
              "      <td>2.0</td>\n",
              "      <td>2.0</td>\n",
              "      <td>1.0</td>\n",
              "      <td>1.0</td>\n",
              "      <td>1.0</td>\n",
              "      <td>1.0</td>\n",
              "      <td>1.0</td>\n",
              "      <td>1.0</td>\n",
              "      <td>5.0</td>\n",
              "      <td>58.0</td>\n",
              "      <td>1.0</td>\n",
              "      <td>4.0</td>\n",
              "      <td>1.0</td>\n",
              "      <td>3.0</td>\n",
              "      <td>2.0</td>\n",
              "      <td>1.0</td>\n",
              "    </tr>\n",
              "    <tr>\n",
              "      <th>3</th>\n",
              "      <td>3</td>\n",
              "      <td>5.0</td>\n",
              "      <td>110.0</td>\n",
              "      <td>30.0</td>\n",
              "      <td>0.0</td>\n",
              "      <td>3.0</td>\n",
              "      <td>2.0</td>\n",
              "      <td>1.0</td>\n",
              "      <td>0.0</td>\n",
              "      <td>0.0</td>\n",
              "      <td>0.0</td>\n",
              "      <td>2.0</td>\n",
              "      <td>1.0</td>\n",
              "      <td>2.0</td>\n",
              "      <td>2.0</td>\n",
              "      <td>2.0</td>\n",
              "      <td>2.0</td>\n",
              "      <td>2.0</td>\n",
              "      <td>1.0</td>\n",
              "      <td>1.0</td>\n",
              "      <td>1.0</td>\n",
              "      <td>1.0</td>\n",
              "      <td>1.0</td>\n",
              "      <td>1.0</td>\n",
              "      <td>5.0</td>\n",
              "      <td>76.0</td>\n",
              "      <td>2.0</td>\n",
              "      <td>4.0</td>\n",
              "      <td>1.0</td>\n",
              "      <td>1.0</td>\n",
              "      <td>0.0</td>\n",
              "      <td>2.0</td>\n",
              "    </tr>\n",
              "    <tr>\n",
              "      <th>4</th>\n",
              "      <td>4</td>\n",
              "      <td>5.0</td>\n",
              "      <td>110.0</td>\n",
              "      <td>13.0</td>\n",
              "      <td>0.0</td>\n",
              "      <td>3.0</td>\n",
              "      <td>2.0</td>\n",
              "      <td>3.0</td>\n",
              "      <td>0.0</td>\n",
              "      <td>0.0</td>\n",
              "      <td>0.0</td>\n",
              "      <td>2.0</td>\n",
              "      <td>2.0</td>\n",
              "      <td>2.0</td>\n",
              "      <td>2.0</td>\n",
              "      <td>2.0</td>\n",
              "      <td>2.0</td>\n",
              "      <td>2.0</td>\n",
              "      <td>1.0</td>\n",
              "      <td>1.0</td>\n",
              "      <td>1.0</td>\n",
              "      <td>1.0</td>\n",
              "      <td>1.0</td>\n",
              "      <td>0.0</td>\n",
              "      <td>5.0</td>\n",
              "      <td>82.0</td>\n",
              "      <td>2.0</td>\n",
              "      <td>3.0</td>\n",
              "      <td>1.0</td>\n",
              "      <td>2.0</td>\n",
              "      <td>0.0</td>\n",
              "      <td>2.0</td>\n",
              "    </tr>\n",
              "  </tbody>\n",
              "</table>\n",
              "</div>"
            ],
            "text/plain": [
              "   Unnamed: 0  _STATE  DISPCODE  PHYSHLTH  ...  _PRACE  _EDUCAG  _INCOMG  _TOTINDA\n",
              "0           0     5.0     110.0       0.0  ...     1.0      3.0      5.0       1.0\n",
              "1           1     5.0     110.0      15.0  ...     1.0      2.0      2.0       1.0\n",
              "2           2     5.0     110.0       6.0  ...     1.0      3.0      2.0       1.0\n",
              "3           3     5.0     110.0      30.0  ...     1.0      1.0      0.0       2.0\n",
              "4           4     5.0     110.0      13.0  ...     1.0      2.0      0.0       2.0\n",
              "\n",
              "[5 rows x 32 columns]"
            ]
          },
          "metadata": {
            "tags": []
          },
          "execution_count": 6
        }
      ]
    },
    {
      "cell_type": "code",
      "metadata": {
        "id": "dEtvuHYkBJbv",
        "outputId": "99381219-5f48-40d6-d31a-d01e9cefc9af",
        "colab": {
          "base_uri": "https://localhost:8080/"
        }
      },
      "source": [
        "# just making sure no nulls are present\n",
        "brfss_total.info()"
      ],
      "execution_count": 7,
      "outputs": [
        {
          "output_type": "stream",
          "text": [
            "<class 'pandas.core.frame.DataFrame'>\n",
            "RangeIndex: 117555 entries, 0 to 117554\n",
            "Data columns (total 32 columns):\n",
            " #   Column      Non-Null Count   Dtype  \n",
            "---  ------      --------------   -----  \n",
            " 0   Unnamed: 0  117555 non-null  int64  \n",
            " 1   _STATE      117555 non-null  float64\n",
            " 2   DISPCODE    117555 non-null  float64\n",
            " 3   PHYSHLTH    117555 non-null  float64\n",
            " 4   MENTHLTH    117555 non-null  float64\n",
            " 5   USENOW3     117555 non-null  float64\n",
            " 6   HISPANC2    117555 non-null  float64\n",
            " 7   MARITAL     117555 non-null  float64\n",
            " 8   CHILDREN    117555 non-null  float64\n",
            " 9   EMPLOY      117555 non-null  float64\n",
            " 10  RENTHOM1    117555 non-null  float64\n",
            " 11  SEX         117555 non-null  float64\n",
            " 12  QLACTLM2    117555 non-null  float64\n",
            " 13  ACEDEPRS    117555 non-null  float64\n",
            " 14  ACEDRINK    117555 non-null  float64\n",
            " 15  ACEDRUGS    117555 non-null  float64\n",
            " 16  ACEPRISN    117555 non-null  float64\n",
            " 17  ACEDIVRC    117555 non-null  float64\n",
            " 18  ACEPUNCH    117555 non-null  float64\n",
            " 19  ACEHURT     117555 non-null  float64\n",
            " 20  ACESWEAR    117555 non-null  float64\n",
            " 21  ACETOUCH    117555 non-null  float64\n",
            " 22  ACETTHEM    117555 non-null  float64\n",
            " 23  ACEHVSEX    117555 non-null  float64\n",
            " 24  MSCODE      117555 non-null  float64\n",
            " 25  _IMPAGE     117555 non-null  float64\n",
            " 26  _RFHLTH     117555 non-null  float64\n",
            " 27  _SMOKER3    117555 non-null  float64\n",
            " 28  _PRACE      117555 non-null  float64\n",
            " 29  _EDUCAG     117555 non-null  float64\n",
            " 30  _INCOMG     117555 non-null  float64\n",
            " 31  _TOTINDA    117555 non-null  float64\n",
            "dtypes: float64(31), int64(1)\n",
            "memory usage: 28.7 MB\n"
          ],
          "name": "stdout"
        }
      ]
    },
    {
      "cell_type": "code",
      "metadata": {
        "id": "uWE4xHuFBJb0"
      },
      "source": [
        "brfss_total.drop(columns=['Unnamed: 0'], inplace=True)"
      ],
      "execution_count": 8,
      "outputs": []
    },
    {
      "cell_type": "code",
      "metadata": {
        "id": "PLL2XteABJb6"
      },
      "source": [
        "np.random.seed(151)"
      ],
      "execution_count": 9,
      "outputs": []
    },
    {
      "cell_type": "code",
      "metadata": {
        "id": "ujkwc55EBJb_"
      },
      "source": [
        "# creating X variable with all features\n",
        "X_all = brfss_total.drop(columns=['USENOW3', 'QLACTLM2', '_RFHLTH', '_SMOKER3'])"
      ],
      "execution_count": 10,
      "outputs": []
    },
    {
      "cell_type": "code",
      "metadata": {
        "id": "kBST9-j8BJcC"
      },
      "source": [
        "# creating the 4 y's\n",
        "y_tobacco = brfss_total['USENOW3']\n",
        "y_activity = brfss_total['QLACTLM2']\n",
        "y_health = brfss_total['_RFHLTH']\n",
        "y_smoker = brfss_total['_SMOKER3']"
      ],
      "execution_count": 11,
      "outputs": []
    },
    {
      "cell_type": "code",
      "metadata": {
        "id": "pxaLdYlaBJcH",
        "outputId": "dc4e085a-d0b1-48a8-b69b-fae86e42e27a",
        "colab": {
          "base_uri": "https://localhost:8080/"
        }
      },
      "source": [
        "#original baseline for tobacco\n",
        "y_tobacco.value_counts(normalize=True)"
      ],
      "execution_count": 12,
      "outputs": [
        {
          "output_type": "execute_result",
          "data": {
            "text/plain": [
              "3.0    0.966560\n",
              "1.0    0.017872\n",
              "2.0    0.012990\n",
              "0.0    0.002578\n",
              "Name: USENOW3, dtype: float64"
            ]
          },
          "metadata": {
            "tags": []
          },
          "execution_count": 12
        }
      ]
    },
    {
      "cell_type": "code",
      "metadata": {
        "id": "7jhgGYJVBJcK",
        "outputId": "77703680-d279-41c0-9871-feb15c146310",
        "colab": {
          "base_uri": "https://localhost:8080/"
        }
      },
      "source": [
        "#original baseline for activity\n",
        "y_activity.value_counts(normalize=True)"
      ],
      "execution_count": 13,
      "outputs": [
        {
          "output_type": "execute_result",
          "data": {
            "text/plain": [
              "2.0    0.724520\n",
              "1.0    0.268997\n",
              "0.0    0.006482\n",
              "Name: QLACTLM2, dtype: float64"
            ]
          },
          "metadata": {
            "tags": []
          },
          "execution_count": 13
        }
      ]
    },
    {
      "cell_type": "code",
      "metadata": {
        "id": "rz03nD_OBJcO",
        "outputId": "cdeb9e0c-5f43-417a-8ba3-d2d31b0e9e02",
        "colab": {
          "base_uri": "https://localhost:8080/"
        }
      },
      "source": [
        "#original baseline for health\n",
        "y_health.value_counts(normalize=True)"
      ],
      "execution_count": 14,
      "outputs": [
        {
          "output_type": "execute_result",
          "data": {
            "text/plain": [
              "1.0    0.814742\n",
              "2.0    0.181991\n",
              "0.0    0.003267\n",
              "Name: _RFHLTH, dtype: float64"
            ]
          },
          "metadata": {
            "tags": []
          },
          "execution_count": 14
        }
      ]
    },
    {
      "cell_type": "code",
      "metadata": {
        "id": "6fkW-YfuBJcT",
        "outputId": "9e264866-0558-4d41-c14d-9d19a9e0a1a9",
        "colab": {
          "base_uri": "https://localhost:8080/"
        }
      },
      "source": [
        "#original baseline for smoker\n",
        "y_smoker.value_counts(normalize=True)"
      ],
      "execution_count": 15,
      "outputs": [
        {
          "output_type": "execute_result",
          "data": {
            "text/plain": [
              "4.0    0.521569\n",
              "3.0    0.308324\n",
              "1.0    0.119604\n",
              "2.0    0.044226\n",
              "0.0    0.006278\n",
              "Name: _SMOKER3, dtype: float64"
            ]
          },
          "metadata": {
            "tags": []
          },
          "execution_count": 15
        }
      ]
    },
    {
      "cell_type": "code",
      "metadata": {
        "id": "R9dvezEZBJcW"
      },
      "source": [
        "# splitting X up so I can do some engineering on the nominal data and ACE columns\n",
        "X_num = X_all[['PHYSHLTH', 'MENTHLTH', 'CHILDREN']]\n",
        "X_cat = X_all[['_STATE', 'DISPCODE', 'HISPANC2', 'MARITAL', 'EMPLOY', 'RENTHOM1', 'SEX', 'MSCODE', \n",
        "               '_IMPAGE', '_PRACE', '_EDUCAG', '_INCOMG','_TOTINDA']]\n",
        "ace = X_all[['ACEDEPRS', 'ACEDRINK', 'ACEDRUGS', 'ACEPRISN', 'ACEDIVRC', 'ACEPUNCH', 'ACEHURT', 'ACESWEAR', \n",
        "                       'ACETOUCH', 'ACETTHEM', 'ACEHVSEX']]"
      ],
      "execution_count": 16,
      "outputs": []
    },
    {
      "cell_type": "code",
      "metadata": {
        "id": "c8hJJ9zEBJca"
      },
      "source": [
        "# updating ACE columns to be a count depending on the question\n",
        "# first 5 questions are yes or no, so yes will be be counted as 1 and no will be counted as 0\n",
        "# last 6 are questions of frequency, never = 0, once = 1, more than once = 2 (since not given an exact number)\n",
        "ace['ACEDEPRS'] = ace['ACEDEPRS'].map({1:1, 2:0, 0:0})\n",
        "ace['ACEDRINK'] = ace['ACEDRINK'].map({1:1, 2:0, 0:0})\n",
        "ace['ACEDRUGS'] = ace['ACEDRUGS'].map({1:1, 2:0, 0:0})\n",
        "ace['ACEPRISN'] = ace['ACEPRISN'].map({1:1, 2:0, 0:0})\n",
        "ace['ACEDIVRC'] = ace['ACEDIVRC'].map({1:1, 2:0, 0:0})\n",
        "ace['ACEPUNCH'] = ace['ACEPUNCH'].map({1:0, 2:1, 3:2, 0:0})\n",
        "ace['ACEHURT'] = ace['ACEHURT'].map({1:0, 2:1, 3:2, 0:0})\n",
        "ace['ACESWEAR'] = ace['ACESWEAR'].map({1:0, 2:1, 3:2, 0:0})\n",
        "ace['ACETOUCH'] = ace['ACETOUCH'].map({1:0, 2:1, 3:2, 0:0})\n",
        "ace['ACETTHEM'] = ace['ACETTHEM'].map({1:0, 2:1, 3:2, 0:0})\n",
        "ace['ACEHVSEX'] = ace['ACEHVSEX'].map({1:0, 2:1, 3:2, 0:0})"
      ],
      "execution_count": 17,
      "outputs": []
    },
    {
      "cell_type": "code",
      "metadata": {
        "id": "c8uwY229BJcf"
      },
      "source": [
        "# creating a column for counting the number of ACEs an individual had\n",
        "X_num['ACE_Count'] = ace.sum(axis = 1)"
      ],
      "execution_count": 18,
      "outputs": []
    },
    {
      "cell_type": "code",
      "metadata": {
        "id": "c76WQIICBJci"
      },
      "source": [
        "# turning the nominal columns into strings so they can be dummified\n",
        "X_cat = X_cat.astype(str)"
      ],
      "execution_count": 19,
      "outputs": []
    },
    {
      "cell_type": "code",
      "metadata": {
        "id": "b_vTQmrlBJcm",
        "outputId": "44c4a3e8-08c8-4c24-bca6-0ad6fa0acac3",
        "colab": {
          "base_uri": "https://localhost:8080/",
          "height": 246
        }
      },
      "source": [
        "# dummifying nominal variables for X_all\n",
        "X_dummies = pd.get_dummies(X_cat, drop_first=True)\n",
        "X_dummies.head()"
      ],
      "execution_count": 20,
      "outputs": [
        {
          "output_type": "execute_result",
          "data": {
            "text/html": [
              "<div>\n",
              "<style scoped>\n",
              "    .dataframe tbody tr th:only-of-type {\n",
              "        vertical-align: middle;\n",
              "    }\n",
              "\n",
              "    .dataframe tbody tr th {\n",
              "        vertical-align: top;\n",
              "    }\n",
              "\n",
              "    .dataframe thead th {\n",
              "        text-align: right;\n",
              "    }\n",
              "</style>\n",
              "<table border=\"1\" class=\"dataframe\">\n",
              "  <thead>\n",
              "    <tr style=\"text-align: right;\">\n",
              "      <th></th>\n",
              "      <th>_STATE_15.0</th>\n",
              "      <th>_STATE_19.0</th>\n",
              "      <th>_STATE_22.0</th>\n",
              "      <th>_STATE_27.0</th>\n",
              "      <th>_STATE_30.0</th>\n",
              "      <th>_STATE_32.0</th>\n",
              "      <th>_STATE_37.0</th>\n",
              "      <th>_STATE_40.0</th>\n",
              "      <th>_STATE_47.0</th>\n",
              "      <th>_STATE_5.0</th>\n",
              "      <th>_STATE_50.0</th>\n",
              "      <th>_STATE_53.0</th>\n",
              "      <th>_STATE_55.0</th>\n",
              "      <th>DISPCODE_1100.0</th>\n",
              "      <th>DISPCODE_120.0</th>\n",
              "      <th>DISPCODE_1200.0</th>\n",
              "      <th>HISPANC2_1.0</th>\n",
              "      <th>HISPANC2_2.0</th>\n",
              "      <th>MARITAL_1.0</th>\n",
              "      <th>MARITAL_2.0</th>\n",
              "      <th>MARITAL_3.0</th>\n",
              "      <th>MARITAL_4.0</th>\n",
              "      <th>MARITAL_5.0</th>\n",
              "      <th>MARITAL_6.0</th>\n",
              "      <th>EMPLOY_1.0</th>\n",
              "      <th>EMPLOY_2.0</th>\n",
              "      <th>EMPLOY_3.0</th>\n",
              "      <th>EMPLOY_4.0</th>\n",
              "      <th>EMPLOY_5.0</th>\n",
              "      <th>EMPLOY_6.0</th>\n",
              "      <th>RENTHOM1_1.0</th>\n",
              "      <th>RENTHOM1_2.0</th>\n",
              "      <th>RENTHOM1_3.0</th>\n",
              "      <th>SEX_2.0</th>\n",
              "      <th>MSCODE_1.0</th>\n",
              "      <th>MSCODE_2.0</th>\n",
              "      <th>MSCODE_3.0</th>\n",
              "      <th>MSCODE_5.0</th>\n",
              "      <th>_IMPAGE_18.0</th>\n",
              "      <th>_IMPAGE_19.0</th>\n",
              "      <th>...</th>\n",
              "      <th>_IMPAGE_74.0</th>\n",
              "      <th>_IMPAGE_75.0</th>\n",
              "      <th>_IMPAGE_76.0</th>\n",
              "      <th>_IMPAGE_78.0</th>\n",
              "      <th>_IMPAGE_79.0</th>\n",
              "      <th>_IMPAGE_80.0</th>\n",
              "      <th>_IMPAGE_81.0</th>\n",
              "      <th>_IMPAGE_82.0</th>\n",
              "      <th>_IMPAGE_83.0</th>\n",
              "      <th>_IMPAGE_84.0</th>\n",
              "      <th>_IMPAGE_85.0</th>\n",
              "      <th>_IMPAGE_86.0</th>\n",
              "      <th>_IMPAGE_87.0</th>\n",
              "      <th>_IMPAGE_89.0</th>\n",
              "      <th>_IMPAGE_90.0</th>\n",
              "      <th>_IMPAGE_91.0</th>\n",
              "      <th>_IMPAGE_92.0</th>\n",
              "      <th>_IMPAGE_93.0</th>\n",
              "      <th>_IMPAGE_94.0</th>\n",
              "      <th>_IMPAGE_95.0</th>\n",
              "      <th>_IMPAGE_96.0</th>\n",
              "      <th>_IMPAGE_97.0</th>\n",
              "      <th>_IMPAGE_98.0</th>\n",
              "      <th>_PRACE_1.0</th>\n",
              "      <th>_PRACE_2.0</th>\n",
              "      <th>_PRACE_3.0</th>\n",
              "      <th>_PRACE_4.0</th>\n",
              "      <th>_PRACE_5.0</th>\n",
              "      <th>_PRACE_6.0</th>\n",
              "      <th>_EDUCAG_1.0</th>\n",
              "      <th>_EDUCAG_2.0</th>\n",
              "      <th>_EDUCAG_3.0</th>\n",
              "      <th>_EDUCAG_4.0</th>\n",
              "      <th>_INCOMG_1.0</th>\n",
              "      <th>_INCOMG_2.0</th>\n",
              "      <th>_INCOMG_3.0</th>\n",
              "      <th>_INCOMG_4.0</th>\n",
              "      <th>_INCOMG_5.0</th>\n",
              "      <th>_TOTINDA_1.0</th>\n",
              "      <th>_TOTINDA_2.0</th>\n",
              "    </tr>\n",
              "  </thead>\n",
              "  <tbody>\n",
              "    <tr>\n",
              "      <th>0</th>\n",
              "      <td>0</td>\n",
              "      <td>0</td>\n",
              "      <td>0</td>\n",
              "      <td>0</td>\n",
              "      <td>0</td>\n",
              "      <td>0</td>\n",
              "      <td>0</td>\n",
              "      <td>0</td>\n",
              "      <td>0</td>\n",
              "      <td>1</td>\n",
              "      <td>0</td>\n",
              "      <td>0</td>\n",
              "      <td>0</td>\n",
              "      <td>0</td>\n",
              "      <td>0</td>\n",
              "      <td>0</td>\n",
              "      <td>0</td>\n",
              "      <td>1</td>\n",
              "      <td>1</td>\n",
              "      <td>0</td>\n",
              "      <td>0</td>\n",
              "      <td>0</td>\n",
              "      <td>0</td>\n",
              "      <td>0</td>\n",
              "      <td>0</td>\n",
              "      <td>1</td>\n",
              "      <td>0</td>\n",
              "      <td>0</td>\n",
              "      <td>0</td>\n",
              "      <td>0</td>\n",
              "      <td>0</td>\n",
              "      <td>0</td>\n",
              "      <td>0</td>\n",
              "      <td>1</td>\n",
              "      <td>0</td>\n",
              "      <td>0</td>\n",
              "      <td>0</td>\n",
              "      <td>1</td>\n",
              "      <td>0</td>\n",
              "      <td>0</td>\n",
              "      <td>...</td>\n",
              "      <td>0</td>\n",
              "      <td>0</td>\n",
              "      <td>0</td>\n",
              "      <td>0</td>\n",
              "      <td>0</td>\n",
              "      <td>0</td>\n",
              "      <td>0</td>\n",
              "      <td>0</td>\n",
              "      <td>0</td>\n",
              "      <td>0</td>\n",
              "      <td>0</td>\n",
              "      <td>0</td>\n",
              "      <td>0</td>\n",
              "      <td>0</td>\n",
              "      <td>0</td>\n",
              "      <td>0</td>\n",
              "      <td>0</td>\n",
              "      <td>0</td>\n",
              "      <td>0</td>\n",
              "      <td>0</td>\n",
              "      <td>0</td>\n",
              "      <td>0</td>\n",
              "      <td>0</td>\n",
              "      <td>1</td>\n",
              "      <td>0</td>\n",
              "      <td>0</td>\n",
              "      <td>0</td>\n",
              "      <td>0</td>\n",
              "      <td>0</td>\n",
              "      <td>0</td>\n",
              "      <td>0</td>\n",
              "      <td>1</td>\n",
              "      <td>0</td>\n",
              "      <td>0</td>\n",
              "      <td>0</td>\n",
              "      <td>0</td>\n",
              "      <td>0</td>\n",
              "      <td>1</td>\n",
              "      <td>1</td>\n",
              "      <td>0</td>\n",
              "    </tr>\n",
              "    <tr>\n",
              "      <th>1</th>\n",
              "      <td>0</td>\n",
              "      <td>0</td>\n",
              "      <td>0</td>\n",
              "      <td>0</td>\n",
              "      <td>0</td>\n",
              "      <td>0</td>\n",
              "      <td>0</td>\n",
              "      <td>0</td>\n",
              "      <td>0</td>\n",
              "      <td>1</td>\n",
              "      <td>0</td>\n",
              "      <td>0</td>\n",
              "      <td>0</td>\n",
              "      <td>0</td>\n",
              "      <td>0</td>\n",
              "      <td>0</td>\n",
              "      <td>0</td>\n",
              "      <td>1</td>\n",
              "      <td>0</td>\n",
              "      <td>1</td>\n",
              "      <td>0</td>\n",
              "      <td>0</td>\n",
              "      <td>0</td>\n",
              "      <td>0</td>\n",
              "      <td>0</td>\n",
              "      <td>0</td>\n",
              "      <td>0</td>\n",
              "      <td>0</td>\n",
              "      <td>0</td>\n",
              "      <td>0</td>\n",
              "      <td>0</td>\n",
              "      <td>0</td>\n",
              "      <td>0</td>\n",
              "      <td>0</td>\n",
              "      <td>0</td>\n",
              "      <td>0</td>\n",
              "      <td>0</td>\n",
              "      <td>1</td>\n",
              "      <td>0</td>\n",
              "      <td>0</td>\n",
              "      <td>...</td>\n",
              "      <td>0</td>\n",
              "      <td>0</td>\n",
              "      <td>0</td>\n",
              "      <td>0</td>\n",
              "      <td>0</td>\n",
              "      <td>0</td>\n",
              "      <td>0</td>\n",
              "      <td>0</td>\n",
              "      <td>0</td>\n",
              "      <td>0</td>\n",
              "      <td>0</td>\n",
              "      <td>0</td>\n",
              "      <td>0</td>\n",
              "      <td>0</td>\n",
              "      <td>0</td>\n",
              "      <td>0</td>\n",
              "      <td>0</td>\n",
              "      <td>0</td>\n",
              "      <td>0</td>\n",
              "      <td>0</td>\n",
              "      <td>0</td>\n",
              "      <td>0</td>\n",
              "      <td>0</td>\n",
              "      <td>1</td>\n",
              "      <td>0</td>\n",
              "      <td>0</td>\n",
              "      <td>0</td>\n",
              "      <td>0</td>\n",
              "      <td>0</td>\n",
              "      <td>0</td>\n",
              "      <td>1</td>\n",
              "      <td>0</td>\n",
              "      <td>0</td>\n",
              "      <td>0</td>\n",
              "      <td>1</td>\n",
              "      <td>0</td>\n",
              "      <td>0</td>\n",
              "      <td>0</td>\n",
              "      <td>1</td>\n",
              "      <td>0</td>\n",
              "    </tr>\n",
              "    <tr>\n",
              "      <th>2</th>\n",
              "      <td>0</td>\n",
              "      <td>0</td>\n",
              "      <td>0</td>\n",
              "      <td>0</td>\n",
              "      <td>0</td>\n",
              "      <td>0</td>\n",
              "      <td>0</td>\n",
              "      <td>0</td>\n",
              "      <td>0</td>\n",
              "      <td>1</td>\n",
              "      <td>0</td>\n",
              "      <td>0</td>\n",
              "      <td>0</td>\n",
              "      <td>0</td>\n",
              "      <td>0</td>\n",
              "      <td>0</td>\n",
              "      <td>0</td>\n",
              "      <td>1</td>\n",
              "      <td>1</td>\n",
              "      <td>0</td>\n",
              "      <td>0</td>\n",
              "      <td>0</td>\n",
              "      <td>0</td>\n",
              "      <td>0</td>\n",
              "      <td>0</td>\n",
              "      <td>0</td>\n",
              "      <td>0</td>\n",
              "      <td>0</td>\n",
              "      <td>0</td>\n",
              "      <td>0</td>\n",
              "      <td>0</td>\n",
              "      <td>0</td>\n",
              "      <td>0</td>\n",
              "      <td>0</td>\n",
              "      <td>0</td>\n",
              "      <td>0</td>\n",
              "      <td>0</td>\n",
              "      <td>1</td>\n",
              "      <td>0</td>\n",
              "      <td>0</td>\n",
              "      <td>...</td>\n",
              "      <td>0</td>\n",
              "      <td>0</td>\n",
              "      <td>0</td>\n",
              "      <td>0</td>\n",
              "      <td>0</td>\n",
              "      <td>0</td>\n",
              "      <td>0</td>\n",
              "      <td>0</td>\n",
              "      <td>0</td>\n",
              "      <td>0</td>\n",
              "      <td>0</td>\n",
              "      <td>0</td>\n",
              "      <td>0</td>\n",
              "      <td>0</td>\n",
              "      <td>0</td>\n",
              "      <td>0</td>\n",
              "      <td>0</td>\n",
              "      <td>0</td>\n",
              "      <td>0</td>\n",
              "      <td>0</td>\n",
              "      <td>0</td>\n",
              "      <td>0</td>\n",
              "      <td>0</td>\n",
              "      <td>1</td>\n",
              "      <td>0</td>\n",
              "      <td>0</td>\n",
              "      <td>0</td>\n",
              "      <td>0</td>\n",
              "      <td>0</td>\n",
              "      <td>0</td>\n",
              "      <td>0</td>\n",
              "      <td>1</td>\n",
              "      <td>0</td>\n",
              "      <td>0</td>\n",
              "      <td>1</td>\n",
              "      <td>0</td>\n",
              "      <td>0</td>\n",
              "      <td>0</td>\n",
              "      <td>1</td>\n",
              "      <td>0</td>\n",
              "    </tr>\n",
              "    <tr>\n",
              "      <th>3</th>\n",
              "      <td>0</td>\n",
              "      <td>0</td>\n",
              "      <td>0</td>\n",
              "      <td>0</td>\n",
              "      <td>0</td>\n",
              "      <td>0</td>\n",
              "      <td>0</td>\n",
              "      <td>0</td>\n",
              "      <td>0</td>\n",
              "      <td>1</td>\n",
              "      <td>0</td>\n",
              "      <td>0</td>\n",
              "      <td>0</td>\n",
              "      <td>0</td>\n",
              "      <td>0</td>\n",
              "      <td>0</td>\n",
              "      <td>0</td>\n",
              "      <td>1</td>\n",
              "      <td>1</td>\n",
              "      <td>0</td>\n",
              "      <td>0</td>\n",
              "      <td>0</td>\n",
              "      <td>0</td>\n",
              "      <td>0</td>\n",
              "      <td>0</td>\n",
              "      <td>0</td>\n",
              "      <td>0</td>\n",
              "      <td>0</td>\n",
              "      <td>0</td>\n",
              "      <td>0</td>\n",
              "      <td>0</td>\n",
              "      <td>0</td>\n",
              "      <td>0</td>\n",
              "      <td>1</td>\n",
              "      <td>0</td>\n",
              "      <td>0</td>\n",
              "      <td>0</td>\n",
              "      <td>1</td>\n",
              "      <td>0</td>\n",
              "      <td>0</td>\n",
              "      <td>...</td>\n",
              "      <td>0</td>\n",
              "      <td>0</td>\n",
              "      <td>1</td>\n",
              "      <td>0</td>\n",
              "      <td>0</td>\n",
              "      <td>0</td>\n",
              "      <td>0</td>\n",
              "      <td>0</td>\n",
              "      <td>0</td>\n",
              "      <td>0</td>\n",
              "      <td>0</td>\n",
              "      <td>0</td>\n",
              "      <td>0</td>\n",
              "      <td>0</td>\n",
              "      <td>0</td>\n",
              "      <td>0</td>\n",
              "      <td>0</td>\n",
              "      <td>0</td>\n",
              "      <td>0</td>\n",
              "      <td>0</td>\n",
              "      <td>0</td>\n",
              "      <td>0</td>\n",
              "      <td>0</td>\n",
              "      <td>1</td>\n",
              "      <td>0</td>\n",
              "      <td>0</td>\n",
              "      <td>0</td>\n",
              "      <td>0</td>\n",
              "      <td>0</td>\n",
              "      <td>1</td>\n",
              "      <td>0</td>\n",
              "      <td>0</td>\n",
              "      <td>0</td>\n",
              "      <td>0</td>\n",
              "      <td>0</td>\n",
              "      <td>0</td>\n",
              "      <td>0</td>\n",
              "      <td>0</td>\n",
              "      <td>0</td>\n",
              "      <td>1</td>\n",
              "    </tr>\n",
              "    <tr>\n",
              "      <th>4</th>\n",
              "      <td>0</td>\n",
              "      <td>0</td>\n",
              "      <td>0</td>\n",
              "      <td>0</td>\n",
              "      <td>0</td>\n",
              "      <td>0</td>\n",
              "      <td>0</td>\n",
              "      <td>0</td>\n",
              "      <td>0</td>\n",
              "      <td>1</td>\n",
              "      <td>0</td>\n",
              "      <td>0</td>\n",
              "      <td>0</td>\n",
              "      <td>0</td>\n",
              "      <td>0</td>\n",
              "      <td>0</td>\n",
              "      <td>0</td>\n",
              "      <td>1</td>\n",
              "      <td>0</td>\n",
              "      <td>0</td>\n",
              "      <td>1</td>\n",
              "      <td>0</td>\n",
              "      <td>0</td>\n",
              "      <td>0</td>\n",
              "      <td>0</td>\n",
              "      <td>0</td>\n",
              "      <td>0</td>\n",
              "      <td>0</td>\n",
              "      <td>0</td>\n",
              "      <td>0</td>\n",
              "      <td>0</td>\n",
              "      <td>0</td>\n",
              "      <td>0</td>\n",
              "      <td>1</td>\n",
              "      <td>0</td>\n",
              "      <td>0</td>\n",
              "      <td>0</td>\n",
              "      <td>1</td>\n",
              "      <td>0</td>\n",
              "      <td>0</td>\n",
              "      <td>...</td>\n",
              "      <td>0</td>\n",
              "      <td>0</td>\n",
              "      <td>0</td>\n",
              "      <td>0</td>\n",
              "      <td>0</td>\n",
              "      <td>0</td>\n",
              "      <td>0</td>\n",
              "      <td>1</td>\n",
              "      <td>0</td>\n",
              "      <td>0</td>\n",
              "      <td>0</td>\n",
              "      <td>0</td>\n",
              "      <td>0</td>\n",
              "      <td>0</td>\n",
              "      <td>0</td>\n",
              "      <td>0</td>\n",
              "      <td>0</td>\n",
              "      <td>0</td>\n",
              "      <td>0</td>\n",
              "      <td>0</td>\n",
              "      <td>0</td>\n",
              "      <td>0</td>\n",
              "      <td>0</td>\n",
              "      <td>1</td>\n",
              "      <td>0</td>\n",
              "      <td>0</td>\n",
              "      <td>0</td>\n",
              "      <td>0</td>\n",
              "      <td>0</td>\n",
              "      <td>0</td>\n",
              "      <td>1</td>\n",
              "      <td>0</td>\n",
              "      <td>0</td>\n",
              "      <td>0</td>\n",
              "      <td>0</td>\n",
              "      <td>0</td>\n",
              "      <td>0</td>\n",
              "      <td>0</td>\n",
              "      <td>0</td>\n",
              "      <td>1</td>\n",
              "    </tr>\n",
              "  </tbody>\n",
              "</table>\n",
              "<p>5 rows × 134 columns</p>\n",
              "</div>"
            ],
            "text/plain": [
              "   _STATE_15.0  _STATE_19.0  ...  _TOTINDA_1.0  _TOTINDA_2.0\n",
              "0            0            0  ...             1             0\n",
              "1            0            0  ...             1             0\n",
              "2            0            0  ...             1             0\n",
              "3            0            0  ...             0             1\n",
              "4            0            0  ...             0             1\n",
              "\n",
              "[5 rows x 134 columns]"
            ]
          },
          "metadata": {
            "tags": []
          },
          "execution_count": 20
        }
      ]
    },
    {
      "cell_type": "code",
      "metadata": {
        "id": "TsjTBEAFBJcp",
        "outputId": "01ee8c6b-f439-46ac-e66a-0d2bff9c27fb",
        "colab": {
          "base_uri": "https://localhost:8080/",
          "height": 197
        }
      },
      "source": [
        "X_num.head()"
      ],
      "execution_count": 21,
      "outputs": [
        {
          "output_type": "execute_result",
          "data": {
            "text/html": [
              "<div>\n",
              "<style scoped>\n",
              "    .dataframe tbody tr th:only-of-type {\n",
              "        vertical-align: middle;\n",
              "    }\n",
              "\n",
              "    .dataframe tbody tr th {\n",
              "        vertical-align: top;\n",
              "    }\n",
              "\n",
              "    .dataframe thead th {\n",
              "        text-align: right;\n",
              "    }\n",
              "</style>\n",
              "<table border=\"1\" class=\"dataframe\">\n",
              "  <thead>\n",
              "    <tr style=\"text-align: right;\">\n",
              "      <th></th>\n",
              "      <th>PHYSHLTH</th>\n",
              "      <th>MENTHLTH</th>\n",
              "      <th>CHILDREN</th>\n",
              "      <th>ACE_Count</th>\n",
              "    </tr>\n",
              "  </thead>\n",
              "  <tbody>\n",
              "    <tr>\n",
              "      <th>0</th>\n",
              "      <td>0.0</td>\n",
              "      <td>0.0</td>\n",
              "      <td>1.0</td>\n",
              "      <td>0</td>\n",
              "    </tr>\n",
              "    <tr>\n",
              "      <th>1</th>\n",
              "      <td>15.0</td>\n",
              "      <td>0.0</td>\n",
              "      <td>0.0</td>\n",
              "      <td>3</td>\n",
              "    </tr>\n",
              "    <tr>\n",
              "      <th>2</th>\n",
              "      <td>6.0</td>\n",
              "      <td>0.0</td>\n",
              "      <td>0.0</td>\n",
              "      <td>0</td>\n",
              "    </tr>\n",
              "    <tr>\n",
              "      <th>3</th>\n",
              "      <td>30.0</td>\n",
              "      <td>0.0</td>\n",
              "      <td>0.0</td>\n",
              "      <td>0</td>\n",
              "    </tr>\n",
              "    <tr>\n",
              "      <th>4</th>\n",
              "      <td>13.0</td>\n",
              "      <td>0.0</td>\n",
              "      <td>0.0</td>\n",
              "      <td>0</td>\n",
              "    </tr>\n",
              "  </tbody>\n",
              "</table>\n",
              "</div>"
            ],
            "text/plain": [
              "   PHYSHLTH  MENTHLTH  CHILDREN  ACE_Count\n",
              "0       0.0       0.0       1.0          0\n",
              "1      15.0       0.0       0.0          3\n",
              "2       6.0       0.0       0.0          0\n",
              "3      30.0       0.0       0.0          0\n",
              "4      13.0       0.0       0.0          0"
            ]
          },
          "metadata": {
            "tags": []
          },
          "execution_count": 21
        }
      ]
    },
    {
      "cell_type": "code",
      "metadata": {
        "id": "N7VjOHHPBJct"
      },
      "source": [
        "# merging numerical and nominal data into one data frame\n",
        "X_all = X_num.merge(X_dummies, left_index=True, right_index=True)"
      ],
      "execution_count": 22,
      "outputs": []
    },
    {
      "cell_type": "code",
      "metadata": {
        "id": "R6X7qLS8BJcx",
        "outputId": "7926839b-b8c9-449b-f861-eb191966bbff",
        "colab": {
          "base_uri": "https://localhost:8080/"
        }
      },
      "source": [
        "X_all.shape"
      ],
      "execution_count": 23,
      "outputs": [
        {
          "output_type": "execute_result",
          "data": {
            "text/plain": [
              "(117555, 138)"
            ]
          },
          "metadata": {
            "tags": []
          },
          "execution_count": 23
        }
      ]
    },
    {
      "cell_type": "code",
      "metadata": {
        "id": "6D70beubBJc0"
      },
      "source": [
        "# to compensate for unbalanced classes in my y's will use SMOTE\n",
        "\n",
        "sm = SMOTE(random_state=151)\n",
        "X_all1, y_tobacco = sm.fit_resample(X_all, y_tobacco)\n",
        "\n",
        "sm2 = SMOTE(random_state=151)\n",
        "X_all2, y_activity = sm2.fit_resample(X_all, y_activity)\n",
        "\n",
        "sm3 = SMOTE(random_state=151)\n",
        "X_all3, y_health = sm3.fit_resample(X_all, y_health)\n",
        "\n",
        "sm4 = SMOTE(random_state=151)\n",
        "X_all4, y_smoker = sm4.fit_resample(X_all, y_smoker)"
      ],
      "execution_count": 24,
      "outputs": []
    },
    {
      "cell_type": "code",
      "metadata": {
        "id": "fR_dMNR0hYQR"
      },
      "source": [
        "#y_tobacco.value_counts(normalize=True)"
      ],
      "execution_count": 222,
      "outputs": []
    },
    {
      "cell_type": "code",
      "metadata": {
        "id": "bL1Wj1CIhYdc"
      },
      "source": [
        "#y_activity.value_counts(normalize=True)"
      ],
      "execution_count": 223,
      "outputs": []
    },
    {
      "cell_type": "code",
      "metadata": {
        "id": "fJkFoCrShYoA"
      },
      "source": [
        "#y_health.value_counts(normalize=True)"
      ],
      "execution_count": 224,
      "outputs": []
    },
    {
      "cell_type": "code",
      "metadata": {
        "id": "utKizj7GhYxx"
      },
      "source": [
        "#y_smoker.value_counts(normalize=True)"
      ],
      "execution_count": 225,
      "outputs": []
    },
    {
      "cell_type": "code",
      "metadata": {
        "id": "NYisqTHTBJdG",
        "outputId": "0bd7ad6f-0a3b-4935-b7e6-f4deba509882",
        "colab": {
          "base_uri": "https://localhost:8080/"
        }
      },
      "source": [
        "# looks like with SMOTE resampling, data set has increased about 4x\n",
        "X_all1.shape"
      ],
      "execution_count": 25,
      "outputs": [
        {
          "output_type": "execute_result",
          "data": {
            "text/plain": [
              "(454496, 138)"
            ]
          },
          "metadata": {
            "tags": []
          },
          "execution_count": 25
        }
      ]
    },
    {
      "cell_type": "code",
      "metadata": {
        "id": "v03zswnMBJdK"
      },
      "source": [
        "# creating training and testing sets for all y's\n",
        "X_train_all, X_test_all, y_train_tobacco, y_test_tobacco = train_test_split(X_all1, y_tobacco, random_state = 151, stratify=y_tobacco)\n",
        "X_train_all2, X_test_all2, y_train_activity, y_test_activity = train_test_split(X_all2, y_activity, random_state = 151, stratify=y_activity)\n",
        "X_train_all3, X_test_all3, y_train_health, y_test_health = train_test_split(X_all3, y_health, random_state = 151, stratify=y_health)\n",
        "X_train_all4, X_test_all4, y_train_smoker, y_test_smoker = train_test_split(X_all4, y_smoker, random_state = 151, stratify=y_smoker)"
      ],
      "execution_count": 26,
      "outputs": []
    },
    {
      "cell_type": "code",
      "metadata": {
        "id": "7TrnO2g5hOsr",
        "outputId": "5400bab1-9f5d-4669-b3f9-daa0ac184e01",
        "colab": {
          "base_uri": "https://localhost:8080/"
        }
      },
      "source": [
        "X_train_all.shape"
      ],
      "execution_count": 27,
      "outputs": [
        {
          "output_type": "execute_result",
          "data": {
            "text/plain": [
              "(340872, 138)"
            ]
          },
          "metadata": {
            "tags": []
          },
          "execution_count": 27
        }
      ]
    },
    {
      "cell_type": "code",
      "metadata": {
        "id": "eiuJAPDnhCqZ",
        "outputId": "3b2fa149-59ea-4bac-cd17-b95c10fa4fab",
        "colab": {
          "base_uri": "https://localhost:8080/"
        }
      },
      "source": [
        "y_train_tobacco.shape"
      ],
      "execution_count": 28,
      "outputs": [
        {
          "output_type": "execute_result",
          "data": {
            "text/plain": [
              "(340872,)"
            ]
          },
          "metadata": {
            "tags": []
          },
          "execution_count": 28
        }
      ]
    },
    {
      "cell_type": "code",
      "metadata": {
        "id": "3JPv2iTUBJdO",
        "outputId": "4d87bf97-34a9-4f08-caff-2d7cea466e8b",
        "colab": {
          "base_uri": "https://localhost:8080/"
        }
      },
      "source": [
        "pipe_all_tobacco = make_pipeline(StandardScaler(), RandomForestClassifier(max_depth=None, min_samples_leaf=1, min_samples_split=5, n_estimators=300))\n",
        "pipe_all_tobacco.fit(X_train_all, y_train_tobacco)"
      ],
      "execution_count": 29,
      "outputs": [
        {
          "output_type": "execute_result",
          "data": {
            "text/plain": [
              "Pipeline(memory=None,\n",
              "         steps=[('standardscaler',\n",
              "                 StandardScaler(copy=True, with_mean=True, with_std=True)),\n",
              "                ('randomforestclassifier',\n",
              "                 RandomForestClassifier(bootstrap=True, ccp_alpha=0.0,\n",
              "                                        class_weight=None, criterion='gini',\n",
              "                                        max_depth=None, max_features='auto',\n",
              "                                        max_leaf_nodes=None, max_samples=None,\n",
              "                                        min_impurity_decrease=0.0,\n",
              "                                        min_impurity_split=None,\n",
              "                                        min_samples_leaf=1, min_samples_split=5,\n",
              "                                        min_weight_fraction_leaf=0.0,\n",
              "                                        n_estimators=300, n_jobs=None,\n",
              "                                        oob_score=False, random_state=None,\n",
              "                                        verbose=0, warm_start=False))],\n",
              "         verbose=False)"
            ]
          },
          "metadata": {
            "tags": []
          },
          "execution_count": 29
        }
      ]
    },
    {
      "cell_type": "code",
      "metadata": {
        "id": "ZWq7LdkUBJdS",
        "outputId": "3ead6390-f3e0-4153-e6b9-8d57775f88fb",
        "colab": {
          "base_uri": "https://localhost:8080/"
        }
      },
      "source": [
        "pipe_all_activity = make_pipeline(SelectKBest(f_classif, k=136), StandardScaler(), ExtraTreesClassifier(max_depth=None, n_estimators=500))\n",
        "pipe_all_activity.fit(X_train_all2, y_train_activity)"
      ],
      "execution_count": 30,
      "outputs": [
        {
          "output_type": "execute_result",
          "data": {
            "text/plain": [
              "Pipeline(memory=None,\n",
              "         steps=[('selectkbest',\n",
              "                 SelectKBest(k=136,\n",
              "                             score_func=<function f_classif at 0x7fe906a76e18>)),\n",
              "                ('standardscaler',\n",
              "                 StandardScaler(copy=True, with_mean=True, with_std=True)),\n",
              "                ('extratreesclassifier',\n",
              "                 ExtraTreesClassifier(bootstrap=False, ccp_alpha=0.0,\n",
              "                                      class_weight=None, criterion='gini',\n",
              "                                      max_depth=None, max_features='auto',\n",
              "                                      max_leaf_nodes=None, max_samples=None,\n",
              "                                      min_impurity_decrease=0.0,\n",
              "                                      min_impurity_split=None,\n",
              "                                      min_samples_leaf=1, min_samples_split=2,\n",
              "                                      min_weight_fraction_leaf=0.0,\n",
              "                                      n_estimators=500, n_jobs=None,\n",
              "                                      oob_score=False, random_state=None,\n",
              "                                      verbose=0, warm_start=False))],\n",
              "         verbose=False)"
            ]
          },
          "metadata": {
            "tags": []
          },
          "execution_count": 30
        }
      ]
    },
    {
      "cell_type": "code",
      "metadata": {
        "id": "ak6wl0GUBJdU",
        "outputId": "68095526-25f2-4193-f011-fe314ca6fc79",
        "colab": {
          "base_uri": "https://localhost:8080/"
        }
      },
      "source": [
        "pipe_all_health = make_pipeline(SelectKBest(f_classif, k=106), StandardScaler(), RandomForestClassifier(max_depth=None, n_estimators=100))\n",
        "pipe_all_health.fit(X_train_all3, y_train_health)"
      ],
      "execution_count": 31,
      "outputs": [
        {
          "output_type": "execute_result",
          "data": {
            "text/plain": [
              "Pipeline(memory=None,\n",
              "         steps=[('selectkbest',\n",
              "                 SelectKBest(k=106,\n",
              "                             score_func=<function f_classif at 0x7fe906a76e18>)),\n",
              "                ('standardscaler',\n",
              "                 StandardScaler(copy=True, with_mean=True, with_std=True)),\n",
              "                ('randomforestclassifier',\n",
              "                 RandomForestClassifier(bootstrap=True, ccp_alpha=0.0,\n",
              "                                        class_weight=None, criterion='gini',\n",
              "                                        max_depth=None, max_features='auto',\n",
              "                                        max_leaf_nodes=None, max_samples=None,\n",
              "                                        min_impurity_decrease=0.0,\n",
              "                                        min_impurity_split=None,\n",
              "                                        min_samples_leaf=1, min_samples_split=2,\n",
              "                                        min_weight_fraction_leaf=0.0,\n",
              "                                        n_estimators=100, n_jobs=None,\n",
              "                                        oob_score=False, random_state=None,\n",
              "                                        verbose=0, warm_start=False))],\n",
              "         verbose=False)"
            ]
          },
          "metadata": {
            "tags": []
          },
          "execution_count": 31
        }
      ]
    },
    {
      "cell_type": "code",
      "metadata": {
        "id": "PNaN1vcLBJdY",
        "outputId": "bab1e5e4-8cf9-4e98-bdde-1d3d4fb6f26f",
        "colab": {
          "base_uri": "https://localhost:8080/"
        }
      },
      "source": [
        "pipe_all_smoker = make_pipeline(SelectKBest(f_classif, k=106), StandardScaler(), RandomForestClassifier(max_depth=None, n_estimators=500))\n",
        "pipe_all_smoker.fit(X_train_all4, y_train_smoker)"
      ],
      "execution_count": 32,
      "outputs": [
        {
          "output_type": "execute_result",
          "data": {
            "text/plain": [
              "Pipeline(memory=None,\n",
              "         steps=[('selectkbest',\n",
              "                 SelectKBest(k=106,\n",
              "                             score_func=<function f_classif at 0x7fe906a76e18>)),\n",
              "                ('standardscaler',\n",
              "                 StandardScaler(copy=True, with_mean=True, with_std=True)),\n",
              "                ('randomforestclassifier',\n",
              "                 RandomForestClassifier(bootstrap=True, ccp_alpha=0.0,\n",
              "                                        class_weight=None, criterion='gini',\n",
              "                                        max_depth=None, max_features='auto',\n",
              "                                        max_leaf_nodes=None, max_samples=None,\n",
              "                                        min_impurity_decrease=0.0,\n",
              "                                        min_impurity_split=None,\n",
              "                                        min_samples_leaf=1, min_samples_split=2,\n",
              "                                        min_weight_fraction_leaf=0.0,\n",
              "                                        n_estimators=500, n_jobs=None,\n",
              "                                        oob_score=False, random_state=None,\n",
              "                                        verbose=0, warm_start=False))],\n",
              "         verbose=False)"
            ]
          },
          "metadata": {
            "tags": []
          },
          "execution_count": 32
        }
      ]
    },
    {
      "cell_type": "code",
      "metadata": {
        "id": "eJLQuO9CBJdc"
      },
      "source": [
        "# getting predictions for each model\n",
        "tobacco_all_preds = pipe_all_tobacco.predict(X_test_all)\n",
        "activity_all_preds = pipe_all_activity.predict(X_test_all2)\n",
        "health_all_preds = pipe_all_health.predict(X_test_all3)\n",
        "smoker_all_preds = pipe_all_smoker.predict(X_test_all4)\n",
        "\n",
        "# calculating the precision score for each model\n",
        "tobacco_all_prec = precision_score(y_test_tobacco, tobacco_all_preds, average='micro')\n",
        "activity_all_prec = precision_score(y_test_activity, activity_all_preds, average='micro')\n",
        "health_all_prec = precision_score(y_test_health, health_all_preds, average='micro')\n",
        "smoker_all_prec = precision_score(y_test_smoker, smoker_all_preds, average='micro')"
      ],
      "execution_count": 33,
      "outputs": []
    },
    {
      "cell_type": "code",
      "metadata": {
        "id": "3zYSBJlL5wIf",
        "outputId": "fd32e7d3-5f58-4332-c722-7b07553de12b",
        "colab": {
          "base_uri": "https://localhost:8080/"
        }
      },
      "source": [
        "print(f' training accuracy for tobacco w/ACE grouped: {pipe_all_tobacco.score(X_train_all, y_train_tobacco)}')\n",
        "print(f' testing accuracy for tobacco w/ACE grouped: {pipe_all_tobacco.score(X_test_all, y_test_tobacco)}')\n",
        "print(f'Precision for tobacco w/ACE grouped: {tobacco_all_prec}')"
      ],
      "execution_count": 34,
      "outputs": [
        {
          "output_type": "stream",
          "text": [
            " training accuracy for tobacco w/ACE grouped: 0.9965441573376517\n",
            " testing accuracy for tobacco w/ACE grouped: 0.9920967401253257\n",
            "Precision for tobacco w/ACE grouped: 0.9920967401253257\n"
          ],
          "name": "stdout"
        }
      ]
    },
    {
      "cell_type": "code",
      "metadata": {
        "id": "EO5eIAP25wPJ",
        "outputId": "bcd20a2c-5504-4cd8-9de3-9ff81d2fe737",
        "colab": {
          "base_uri": "https://localhost:8080/"
        }
      },
      "source": [
        "print(f' training accuracy for activity w/ACE grouped: {pipe_all_activity.score(X_train_all2, y_train_activity)}')\n",
        "print(f' testing accuracy for activity w/ACE grouped: {pipe_all_activity.score(X_test_all2, y_test_activity)}')\n",
        "print(f'Precision for activity w/ACE grouped: {activity_all_prec}')"
      ],
      "execution_count": 35,
      "outputs": [
        {
          "output_type": "stream",
          "text": [
            " training accuracy for activity w/ACE grouped: 0.9990398363547178\n",
            " testing accuracy for activity w/ACE grouped: 0.9155591039308693\n",
            "Precision for activity w/ACE grouped: 0.9155591039308693\n"
          ],
          "name": "stdout"
        }
      ]
    },
    {
      "cell_type": "code",
      "metadata": {
        "id": "D8QQzjcUBJdg",
        "outputId": "33183885-f18a-442d-db56-ddf1aa7e79c2",
        "colab": {
          "base_uri": "https://localhost:8080/"
        }
      },
      "source": [
        "print(f' training accuracy for health w/ACE grouped: {pipe_all_health.score(X_train_all3, y_train_health)}')\n",
        "print(f' testing accuracy for health w/ACE grouped: {pipe_all_health.score(X_test_all3, y_test_health)}')\n",
        "print(f'Precision for health w/ACE grouped: {health_all_prec}')"
      ],
      "execution_count": 36,
      "outputs": [
        {
          "output_type": "stream",
          "text": [
            " training accuracy for health w/ACE grouped: 0.9987981326972872\n",
            " testing accuracy for health w/ACE grouped: 0.9453454540392299\n",
            "Precision for health w/ACE grouped: 0.9453454540392299\n"
          ],
          "name": "stdout"
        }
      ]
    },
    {
      "cell_type": "code",
      "metadata": {
        "id": "C9kwHOZbBJdk",
        "outputId": "0470abe7-c000-4c12-edb2-1f77369c6076",
        "colab": {
          "base_uri": "https://localhost:8080/"
        }
      },
      "source": [
        "print(f' training accuracy for smoker w/ACE grouped: {pipe_all_smoker.score(X_train_all4, y_train_smoker)}')\n",
        "print(f' testing accuracy for smoker w/ACE grouped: {pipe_all_smoker.score(X_test_all4, y_test_smoker)}')\n",
        "print(f'Precision for smoker w/ACE grouped: {smoker_all_prec}')"
      ],
      "execution_count": 37,
      "outputs": [
        {
          "output_type": "stream",
          "text": [
            " training accuracy for smoker w/ACE grouped: 0.9935369667236422\n",
            " testing accuracy for smoker w/ACE grouped: 0.8006967459095535\n",
            "Precision for smoker w/ACE grouped: 0.8006967459095535\n"
          ],
          "name": "stdout"
        }
      ]
    },
    {
      "cell_type": "code",
      "metadata": {
        "id": "R0SFL8uXfOI3",
        "outputId": "99331f25-0317-4415-be5a-9cfea6d6ae34",
        "colab": {
          "base_uri": "https://localhost:8080/",
          "height": 347
        }
      },
      "source": [
        "# getting features importances for smokeless tobacco use\n",
        "tobacco_all = pd.DataFrame({'features': X_all.columns.values, 'importance':pipe_all_tobacco.named_steps['randomforestclassifier'].feature_importances_})\n",
        "tobacco_all = tobacco_all.sort_values('importance', ascending = False)\n",
        "\n",
        "# looking at top 10\n",
        "tobacco_all.head(10)"
      ],
      "execution_count": 38,
      "outputs": [
        {
          "output_type": "execute_result",
          "data": {
            "text/html": [
              "<div>\n",
              "<style scoped>\n",
              "    .dataframe tbody tr th:only-of-type {\n",
              "        vertical-align: middle;\n",
              "    }\n",
              "\n",
              "    .dataframe tbody tr th {\n",
              "        vertical-align: top;\n",
              "    }\n",
              "\n",
              "    .dataframe thead th {\n",
              "        text-align: right;\n",
              "    }\n",
              "</style>\n",
              "<table border=\"1\" class=\"dataframe\">\n",
              "  <thead>\n",
              "    <tr style=\"text-align: right;\">\n",
              "      <th></th>\n",
              "      <th>features</th>\n",
              "      <th>importance</th>\n",
              "    </tr>\n",
              "  </thead>\n",
              "  <tbody>\n",
              "    <tr>\n",
              "      <th>12</th>\n",
              "      <td>_STATE_47.0</td>\n",
              "      <td>0.105485</td>\n",
              "    </tr>\n",
              "    <tr>\n",
              "      <th>37</th>\n",
              "      <td>SEX_2.0</td>\n",
              "      <td>0.083121</td>\n",
              "    </tr>\n",
              "    <tr>\n",
              "      <th>3</th>\n",
              "      <td>ACE_Count</td>\n",
              "      <td>0.056033</td>\n",
              "    </tr>\n",
              "    <tr>\n",
              "      <th>17</th>\n",
              "      <td>DISPCODE_1100.0</td>\n",
              "      <td>0.049042</td>\n",
              "    </tr>\n",
              "    <tr>\n",
              "      <th>34</th>\n",
              "      <td>RENTHOM1_1.0</td>\n",
              "      <td>0.032145</td>\n",
              "    </tr>\n",
              "    <tr>\n",
              "      <th>28</th>\n",
              "      <td>EMPLOY_1.0</td>\n",
              "      <td>0.026223</td>\n",
              "    </tr>\n",
              "    <tr>\n",
              "      <th>38</th>\n",
              "      <td>MSCODE_1.0</td>\n",
              "      <td>0.022191</td>\n",
              "    </tr>\n",
              "    <tr>\n",
              "      <th>2</th>\n",
              "      <td>CHILDREN</td>\n",
              "      <td>0.020242</td>\n",
              "    </tr>\n",
              "    <tr>\n",
              "      <th>135</th>\n",
              "      <td>_INCOMG_5.0</td>\n",
              "      <td>0.019619</td>\n",
              "    </tr>\n",
              "    <tr>\n",
              "      <th>130</th>\n",
              "      <td>_EDUCAG_4.0</td>\n",
              "      <td>0.019582</td>\n",
              "    </tr>\n",
              "  </tbody>\n",
              "</table>\n",
              "</div>"
            ],
            "text/plain": [
              "            features  importance\n",
              "12       _STATE_47.0    0.105485\n",
              "37           SEX_2.0    0.083121\n",
              "3          ACE_Count    0.056033\n",
              "17   DISPCODE_1100.0    0.049042\n",
              "34      RENTHOM1_1.0    0.032145\n",
              "28        EMPLOY_1.0    0.026223\n",
              "38        MSCODE_1.0    0.022191\n",
              "2           CHILDREN    0.020242\n",
              "135      _INCOMG_5.0    0.019619\n",
              "130      _EDUCAG_4.0    0.019582"
            ]
          },
          "metadata": {
            "tags": []
          },
          "execution_count": 38
        }
      ]
    },
    {
      "cell_type": "markdown",
      "metadata": {
        "id": "17-_5_0f8Afy"
      },
      "source": [
        "\n",
        "*   State 47 = Tennessee\n",
        "*   Sex 2 = Female\n",
        "*   ACE_Count = # of **ACEs**\n",
        "*   DISPCODE 1100 = completed interview\n",
        "*   RENTHOM1 1 = Own home\n",
        "*   EMPLOY 1 = employed for wages\n",
        "*   MSCODE 1 = in the city center of a metropolitan statistical area (MSA)\n",
        "*   Children = # of children in household\n",
        "*   INCOMG 5 = income category of $50,000 or more\n",
        "*   EDUCAG 4 = graduated from college or technical school\n",
        "\n",
        "\n",
        "\n",
        "\n",
        "\n",
        "\n",
        "\n",
        "\n",
        "\n",
        "\n"
      ]
    },
    {
      "cell_type": "code",
      "metadata": {
        "id": "WnB7WpZqiCD2",
        "outputId": "c75ae75a-cc4f-4491-cd74-396c8ee9775f",
        "colab": {
          "base_uri": "https://localhost:8080/",
          "height": 347
        }
      },
      "source": [
        "# looking at last 10\n",
        "tobacco_all.tail(10)"
      ],
      "execution_count": 39,
      "outputs": [
        {
          "output_type": "execute_result",
          "data": {
            "text/html": [
              "<div>\n",
              "<style scoped>\n",
              "    .dataframe tbody tr th:only-of-type {\n",
              "        vertical-align: middle;\n",
              "    }\n",
              "\n",
              "    .dataframe tbody tr th {\n",
              "        vertical-align: top;\n",
              "    }\n",
              "\n",
              "    .dataframe thead th {\n",
              "        text-align: right;\n",
              "    }\n",
              "</style>\n",
              "<table border=\"1\" class=\"dataframe\">\n",
              "  <thead>\n",
              "    <tr style=\"text-align: right;\">\n",
              "      <th></th>\n",
              "      <th>features</th>\n",
              "      <th>importance</th>\n",
              "    </tr>\n",
              "  </thead>\n",
              "  <tbody>\n",
              "    <tr>\n",
              "      <th>107</th>\n",
              "      <td>_IMPAGE_84.0</td>\n",
              "      <td>4.134442e-04</td>\n",
              "    </tr>\n",
              "    <tr>\n",
              "      <th>111</th>\n",
              "      <td>_IMPAGE_89.0</td>\n",
              "      <td>3.427955e-04</td>\n",
              "    </tr>\n",
              "    <tr>\n",
              "      <th>109</th>\n",
              "      <td>_IMPAGE_86.0</td>\n",
              "      <td>2.584162e-04</td>\n",
              "    </tr>\n",
              "    <tr>\n",
              "      <th>114</th>\n",
              "      <td>_IMPAGE_92.0</td>\n",
              "      <td>1.442131e-04</td>\n",
              "    </tr>\n",
              "    <tr>\n",
              "      <th>115</th>\n",
              "      <td>_IMPAGE_93.0</td>\n",
              "      <td>1.324313e-04</td>\n",
              "    </tr>\n",
              "    <tr>\n",
              "      <th>117</th>\n",
              "      <td>_IMPAGE_95.0</td>\n",
              "      <td>4.619060e-05</td>\n",
              "    </tr>\n",
              "    <tr>\n",
              "      <th>116</th>\n",
              "      <td>_IMPAGE_94.0</td>\n",
              "      <td>2.273391e-06</td>\n",
              "    </tr>\n",
              "    <tr>\n",
              "      <th>120</th>\n",
              "      <td>_IMPAGE_98.0</td>\n",
              "      <td>1.983613e-06</td>\n",
              "    </tr>\n",
              "    <tr>\n",
              "      <th>118</th>\n",
              "      <td>_IMPAGE_96.0</td>\n",
              "      <td>1.174570e-06</td>\n",
              "    </tr>\n",
              "    <tr>\n",
              "      <th>119</th>\n",
              "      <td>_IMPAGE_97.0</td>\n",
              "      <td>8.927631e-07</td>\n",
              "    </tr>\n",
              "  </tbody>\n",
              "</table>\n",
              "</div>"
            ],
            "text/plain": [
              "         features    importance\n",
              "107  _IMPAGE_84.0  4.134442e-04\n",
              "111  _IMPAGE_89.0  3.427955e-04\n",
              "109  _IMPAGE_86.0  2.584162e-04\n",
              "114  _IMPAGE_92.0  1.442131e-04\n",
              "115  _IMPAGE_93.0  1.324313e-04\n",
              "117  _IMPAGE_95.0  4.619060e-05\n",
              "116  _IMPAGE_94.0  2.273391e-06\n",
              "120  _IMPAGE_98.0  1.983613e-06\n",
              "118  _IMPAGE_96.0  1.174570e-06\n",
              "119  _IMPAGE_97.0  8.927631e-07"
            ]
          },
          "metadata": {
            "tags": []
          },
          "execution_count": 39
        }
      ]
    },
    {
      "cell_type": "markdown",
      "metadata": {
        "id": "1xTApz4P93J4"
      },
      "source": [
        "**Looks like being an senior citizen has the least amount of influence on smokeless tobacco usage**"
      ]
    },
    {
      "cell_type": "code",
      "metadata": {
        "id": "vNt-KTML6vtZ",
        "outputId": "1ef130c9-e2a6-4070-e443-92f06744a288",
        "colab": {
          "base_uri": "https://localhost:8080/"
        }
      },
      "source": [
        "tobacco_all['importance'].sum()"
      ],
      "execution_count": 40,
      "outputs": [
        {
          "output_type": "execute_result",
          "data": {
            "text/plain": [
              "0.9999999999999999"
            ]
          },
          "metadata": {
            "tags": []
          },
          "execution_count": 40
        }
      ]
    },
    {
      "cell_type": "code",
      "metadata": {
        "id": "fSAip80f4Wzl",
        "outputId": "9d5bea06-853a-4cc4-b8ab-f678d2e71b94",
        "colab": {
          "base_uri": "https://localhost:8080/",
          "height": 457
        }
      },
      "source": [
        "def top_bottom(df, color):\n",
        "  ''' Function to graph Top 10 and Last 10 Features based on importance'''\n",
        "  top_bottom = pd.merge(df.head(10), df.tail(10), how='outer')\n",
        "  top_bottom.plot(kind='barh', figsize=(9, 7), color=color)\n",
        "  plt.yticks(ticks=top_bottom.index, labels=top_bottom.features)\n",
        "  plt.xlabel('Importance')\n",
        "  plt.ylabel('Feature')\n",
        "  plt.legend();\n",
        "  return\n",
        "\n",
        "top_bottom(tobacco_all, color = 'gold')\n",
        "plt.title('Top 10 and Last 10 Features that are important to determining Smokeless Tobacco Usage');\n",
        "\n",
        "plt.savefig('tobacco.jpg')"
      ],
      "execution_count": 90,
      "outputs": [
        {
          "output_type": "display_data",
          "data": {
            "image/png": "[encoded data removed]",
            "text/plain": [
              "<Figure size 648x504 with 1 Axes>"
            ]
          },
          "metadata": {
            "tags": [],
            "needs_background": "light"
          }
        }
      ]
    },
    {
      "cell_type": "code",
      "metadata": {
        "id": "1t859vNCikYQ"
      },
      "source": [
        "# getting features selected by 'selectkbest' for other three y's\n",
        "features_activity_all = pipe_all_activity.named_steps['selectkbest'].get_support(indices=True) \n",
        "features_health_all = pipe_all_health.named_steps['selectkbest'].get_support(indices=True) \n",
        "features_smoker_all = pipe_all_smoker.named_steps['selectkbest'].get_support(indices=True) "
      ],
      "execution_count": 42,
      "outputs": []
    },
    {
      "cell_type": "code",
      "metadata": {
        "id": "naiLfIBjbKJP"
      },
      "source": [
        "# getting column names for features selected by 'selectkbest' for other three y's\n",
        "X_cols_activity_all = X_all.columns.values[features_activity_all]\n",
        "X_cols_health_all = X_all.columns.values[features_health_all]\n",
        "X_cols_smoker_all = X_all.columns.values[features_smoker_all]"
      ],
      "execution_count": 43,
      "outputs": []
    },
    {
      "cell_type": "code",
      "metadata": {
        "id": "OumKSt_4cpzh"
      },
      "source": [
        "# getting each feature's importance for other three y's\n",
        "coefs_activity_all = pipe_all_activity.named_steps['extratreesclassifier'].feature_importances_\n",
        "coefs_health_all = pipe_all_health.named_steps['randomforestclassifier'].feature_importances_\n",
        "coefs_smoker_all = pipe_all_smoker.named_steps['randomforestclassifier'].feature_importances_"
      ],
      "execution_count": 44,
      "outputs": []
    },
    {
      "cell_type": "code",
      "metadata": {
        "id": "-TsySC9GiIFc",
        "outputId": "5f0cbb0b-d204-4198-83f9-d6c294281c82",
        "colab": {
          "base_uri": "https://localhost:8080/",
          "height": 347
        }
      },
      "source": [
        "# feature importances for activity limitations\n",
        "activity_all = pd.DataFrame({'features': X_cols_activity_all, 'importance':coefs_activity_all})\n",
        "activity_all = activity_all.sort_values('importance', ascending = False)\n",
        "activity_all.head(10)"
      ],
      "execution_count": 45,
      "outputs": [
        {
          "output_type": "execute_result",
          "data": {
            "text/html": [
              "<div>\n",
              "<style scoped>\n",
              "    .dataframe tbody tr th:only-of-type {\n",
              "        vertical-align: middle;\n",
              "    }\n",
              "\n",
              "    .dataframe tbody tr th {\n",
              "        vertical-align: top;\n",
              "    }\n",
              "\n",
              "    .dataframe thead th {\n",
              "        text-align: right;\n",
              "    }\n",
              "</style>\n",
              "<table border=\"1\" class=\"dataframe\">\n",
              "  <thead>\n",
              "    <tr style=\"text-align: right;\">\n",
              "      <th></th>\n",
              "      <th>features</th>\n",
              "      <th>importance</th>\n",
              "    </tr>\n",
              "  </thead>\n",
              "  <tbody>\n",
              "    <tr>\n",
              "      <th>0</th>\n",
              "      <td>PHYSHLTH</td>\n",
              "      <td>0.064875</td>\n",
              "    </tr>\n",
              "    <tr>\n",
              "      <th>12</th>\n",
              "      <td>_STATE_47.0</td>\n",
              "      <td>0.044570</td>\n",
              "    </tr>\n",
              "    <tr>\n",
              "      <th>28</th>\n",
              "      <td>EMPLOY_1.0</td>\n",
              "      <td>0.043460</td>\n",
              "    </tr>\n",
              "    <tr>\n",
              "      <th>3</th>\n",
              "      <td>ACE_Count</td>\n",
              "      <td>0.035963</td>\n",
              "    </tr>\n",
              "    <tr>\n",
              "      <th>34</th>\n",
              "      <td>RENTHOM1_1.0</td>\n",
              "      <td>0.032924</td>\n",
              "    </tr>\n",
              "    <tr>\n",
              "      <th>133</th>\n",
              "      <td>_INCOMG_5.0</td>\n",
              "      <td>0.029446</td>\n",
              "    </tr>\n",
              "    <tr>\n",
              "      <th>1</th>\n",
              "      <td>MENTHLTH</td>\n",
              "      <td>0.027759</td>\n",
              "    </tr>\n",
              "    <tr>\n",
              "      <th>37</th>\n",
              "      <td>SEX_2.0</td>\n",
              "      <td>0.024443</td>\n",
              "    </tr>\n",
              "    <tr>\n",
              "      <th>17</th>\n",
              "      <td>DISPCODE_1100.0</td>\n",
              "      <td>0.022504</td>\n",
              "    </tr>\n",
              "    <tr>\n",
              "      <th>22</th>\n",
              "      <td>MARITAL_1.0</td>\n",
              "      <td>0.020054</td>\n",
              "    </tr>\n",
              "  </tbody>\n",
              "</table>\n",
              "</div>"
            ],
            "text/plain": [
              "            features  importance\n",
              "0           PHYSHLTH    0.064875\n",
              "12       _STATE_47.0    0.044570\n",
              "28        EMPLOY_1.0    0.043460\n",
              "3          ACE_Count    0.035963\n",
              "34      RENTHOM1_1.0    0.032924\n",
              "133      _INCOMG_5.0    0.029446\n",
              "1           MENTHLTH    0.027759\n",
              "37           SEX_2.0    0.024443\n",
              "17   DISPCODE_1100.0    0.022504\n",
              "22       MARITAL_1.0    0.020054"
            ]
          },
          "metadata": {
            "tags": []
          },
          "execution_count": 45
        }
      ]
    },
    {
      "cell_type": "markdown",
      "metadata": {
        "id": "y_FV7kcI-boI"
      },
      "source": [
        "\n",
        "*   PHYSHLTH = # of days physical health not good (over a 30 day period)\n",
        "*   State 47 = Tennessee\n",
        "*   EMPLOY 1 = employed for wages\n",
        "*   ACE_Count = # of ACEs\n",
        "*   RENTHOM1 1 = Own home\n",
        "*   INCOMG 5 = income category of $50,000 or more\n",
        "*   MENTHLTH = # of days mental health not good (over a 30 day period)\n",
        "*   Sex 2 = Female\n",
        "*   MARITAL 1 = married"
      ]
    },
    {
      "cell_type": "code",
      "metadata": {
        "id": "kINgC_UsiMFi",
        "outputId": "f8fba680-95b2-47fc-eaad-a1df2b61e1a1",
        "colab": {
          "base_uri": "https://localhost:8080/",
          "height": 347
        }
      },
      "source": [
        "activity_all.tail(10)"
      ],
      "execution_count": 46,
      "outputs": [
        {
          "output_type": "execute_result",
          "data": {
            "text/html": [
              "<div>\n",
              "<style scoped>\n",
              "    .dataframe tbody tr th:only-of-type {\n",
              "        vertical-align: middle;\n",
              "    }\n",
              "\n",
              "    .dataframe tbody tr th {\n",
              "        vertical-align: top;\n",
              "    }\n",
              "\n",
              "    .dataframe thead th {\n",
              "        text-align: right;\n",
              "    }\n",
              "</style>\n",
              "<table border=\"1\" class=\"dataframe\">\n",
              "  <thead>\n",
              "    <tr style=\"text-align: right;\">\n",
              "      <th></th>\n",
              "      <th>features</th>\n",
              "      <th>importance</th>\n",
              "    </tr>\n",
              "  </thead>\n",
              "  <tbody>\n",
              "    <tr>\n",
              "      <th>47</th>\n",
              "      <td>_IMPAGE_23.0</td>\n",
              "      <td>0.000704</td>\n",
              "    </tr>\n",
              "    <tr>\n",
              "      <th>49</th>\n",
              "      <td>_IMPAGE_25.0</td>\n",
              "      <td>0.000692</td>\n",
              "    </tr>\n",
              "    <tr>\n",
              "      <th>42</th>\n",
              "      <td>_IMPAGE_18.0</td>\n",
              "      <td>0.000667</td>\n",
              "    </tr>\n",
              "    <tr>\n",
              "      <th>44</th>\n",
              "      <td>_IMPAGE_20.0</td>\n",
              "      <td>0.000644</td>\n",
              "    </tr>\n",
              "    <tr>\n",
              "      <th>43</th>\n",
              "      <td>_IMPAGE_19.0</td>\n",
              "      <td>0.000639</td>\n",
              "    </tr>\n",
              "    <tr>\n",
              "      <th>19</th>\n",
              "      <td>DISPCODE_1200.0</td>\n",
              "      <td>0.000567</td>\n",
              "    </tr>\n",
              "    <tr>\n",
              "      <th>116</th>\n",
              "      <td>_IMPAGE_95.0</td>\n",
              "      <td>0.000546</td>\n",
              "    </tr>\n",
              "    <tr>\n",
              "      <th>118</th>\n",
              "      <td>_IMPAGE_98.0</td>\n",
              "      <td>0.000274</td>\n",
              "    </tr>\n",
              "    <tr>\n",
              "      <th>115</th>\n",
              "      <td>_IMPAGE_94.0</td>\n",
              "      <td>0.000169</td>\n",
              "    </tr>\n",
              "    <tr>\n",
              "      <th>117</th>\n",
              "      <td>_IMPAGE_96.0</td>\n",
              "      <td>0.000088</td>\n",
              "    </tr>\n",
              "  </tbody>\n",
              "</table>\n",
              "</div>"
            ],
            "text/plain": [
              "            features  importance\n",
              "47      _IMPAGE_23.0    0.000704\n",
              "49      _IMPAGE_25.0    0.000692\n",
              "42      _IMPAGE_18.0    0.000667\n",
              "44      _IMPAGE_20.0    0.000644\n",
              "43      _IMPAGE_19.0    0.000639\n",
              "19   DISPCODE_1200.0    0.000567\n",
              "116     _IMPAGE_95.0    0.000546\n",
              "118     _IMPAGE_98.0    0.000274\n",
              "115     _IMPAGE_94.0    0.000169\n",
              "117     _IMPAGE_96.0    0.000088"
            ]
          },
          "metadata": {
            "tags": []
          },
          "execution_count": 46
        }
      ]
    },
    {
      "cell_type": "markdown",
      "metadata": {
        "id": "j-jOedxd_W_h"
      },
      "source": [
        "**Looks like being very young or very old doesn't have much affect on activity limitations, nor does not finishing the survey in its entirety**"
      ]
    },
    {
      "cell_type": "code",
      "metadata": {
        "id": "6-fY0Mam5-Qk",
        "outputId": "20b9d967-7eb5-4374-8bf6-e0057975cd49",
        "colab": {
          "base_uri": "https://localhost:8080/",
          "height": 457
        }
      },
      "source": [
        "top_bottom(activity_all, color='darkturquoise')\n",
        "plt.title('Top 10 and Last 10 Features that are important to determining Activity Limitations');\n",
        "\n",
        "plt.savefig('activity.jpg')"
      ],
      "execution_count": 91,
      "outputs": [
        {
          "output_type": "display_data",
          "data": {
            "image/png": "[encoded data removed]",
            "text/plain": [
              "<Figure size 648x504 with 1 Axes>"
            ]
          },
          "metadata": {
            "tags": [],
            "needs_background": "light"
          }
        }
      ]
    },
    {
      "cell_type": "code",
      "metadata": {
        "id": "9nkWh3qDkRD3",
        "outputId": "4ee7ea6b-4284-43e9-f1d4-e76e1941004c",
        "colab": {
          "base_uri": "https://localhost:8080/",
          "height": 347
        }
      },
      "source": [
        "# feature importances for self-reported health\n",
        "health_all = pd.DataFrame({'features': X_cols_health_all, 'importance':coefs_health_all})\n",
        "health_all = health_all.sort_values('importance', ascending = False)\n",
        "health_all.head(10)"
      ],
      "execution_count": 48,
      "outputs": [
        {
          "output_type": "execute_result",
          "data": {
            "text/html": [
              "<div>\n",
              "<style scoped>\n",
              "    .dataframe tbody tr th:only-of-type {\n",
              "        vertical-align: middle;\n",
              "    }\n",
              "\n",
              "    .dataframe tbody tr th {\n",
              "        vertical-align: top;\n",
              "    }\n",
              "\n",
              "    .dataframe thead th {\n",
              "        text-align: right;\n",
              "    }\n",
              "</style>\n",
              "<table border=\"1\" class=\"dataframe\">\n",
              "  <thead>\n",
              "    <tr style=\"text-align: right;\">\n",
              "      <th></th>\n",
              "      <th>features</th>\n",
              "      <th>importance</th>\n",
              "    </tr>\n",
              "  </thead>\n",
              "  <tbody>\n",
              "    <tr>\n",
              "      <th>0</th>\n",
              "      <td>PHYSHLTH</td>\n",
              "      <td>0.097954</td>\n",
              "    </tr>\n",
              "    <tr>\n",
              "      <th>25</th>\n",
              "      <td>EMPLOY_1.0</td>\n",
              "      <td>0.047515</td>\n",
              "    </tr>\n",
              "    <tr>\n",
              "      <th>3</th>\n",
              "      <td>ACE_Count</td>\n",
              "      <td>0.041742</td>\n",
              "    </tr>\n",
              "    <tr>\n",
              "      <th>103</th>\n",
              "      <td>_INCOMG_5.0</td>\n",
              "      <td>0.038762</td>\n",
              "    </tr>\n",
              "    <tr>\n",
              "      <th>1</th>\n",
              "      <td>MENTHLTH</td>\n",
              "      <td>0.036171</td>\n",
              "    </tr>\n",
              "    <tr>\n",
              "      <th>99</th>\n",
              "      <td>_EDUCAG_4.0</td>\n",
              "      <td>0.029424</td>\n",
              "    </tr>\n",
              "    <tr>\n",
              "      <th>33</th>\n",
              "      <td>SEX_2.0</td>\n",
              "      <td>0.028227</td>\n",
              "    </tr>\n",
              "    <tr>\n",
              "      <th>30</th>\n",
              "      <td>RENTHOM1_1.0</td>\n",
              "      <td>0.027995</td>\n",
              "    </tr>\n",
              "    <tr>\n",
              "      <th>105</th>\n",
              "      <td>_TOTINDA_2.0</td>\n",
              "      <td>0.027984</td>\n",
              "    </tr>\n",
              "    <tr>\n",
              "      <th>104</th>\n",
              "      <td>_TOTINDA_1.0</td>\n",
              "      <td>0.025009</td>\n",
              "    </tr>\n",
              "  </tbody>\n",
              "</table>\n",
              "</div>"
            ],
            "text/plain": [
              "         features  importance\n",
              "0        PHYSHLTH    0.097954\n",
              "25     EMPLOY_1.0    0.047515\n",
              "3       ACE_Count    0.041742\n",
              "103   _INCOMG_5.0    0.038762\n",
              "1        MENTHLTH    0.036171\n",
              "99    _EDUCAG_4.0    0.029424\n",
              "33        SEX_2.0    0.028227\n",
              "30   RENTHOM1_1.0    0.027995\n",
              "105  _TOTINDA_2.0    0.027984\n",
              "104  _TOTINDA_1.0    0.025009"
            ]
          },
          "metadata": {
            "tags": []
          },
          "execution_count": 48
        }
      ]
    },
    {
      "cell_type": "markdown",
      "metadata": {
        "id": "XW0WODH7_vVB"
      },
      "source": [
        "*   PHYSHLTH = # of days physical health not good (over a 30 day period)\n",
        "*   EMPLOY 1 = employed for wages\n",
        "*   ACE_Count = # of ACEs\n",
        "*   INCOMG 5 = income category of $50,000 or more\n",
        "*   EDUCAG 4 = graduated from college or technical school\n",
        "*   MENTHLTH = # of days mental health not good (over a 30 day period)\n",
        "*   Sex 2 = Female\n",
        "*   RENTHOM1 1 = Own home\n",
        "*   TOTINDA 2 = No physical activity or exercise in last 30 days \n",
        "*   TOTINDA 1 = had physical activity or exercise in last 30 days"
      ]
    },
    {
      "cell_type": "code",
      "metadata": {
        "id": "IxyD04QliV79",
        "outputId": "d3275425-85cc-43a0-cab0-20ff5b165164",
        "colab": {
          "base_uri": "https://localhost:8080/",
          "height": 347
        }
      },
      "source": [
        "health_all.tail(10)"
      ],
      "execution_count": 49,
      "outputs": [
        {
          "output_type": "execute_result",
          "data": {
            "text/html": [
              "<div>\n",
              "<style scoped>\n",
              "    .dataframe tbody tr th:only-of-type {\n",
              "        vertical-align: middle;\n",
              "    }\n",
              "\n",
              "    .dataframe tbody tr th {\n",
              "        vertical-align: top;\n",
              "    }\n",
              "\n",
              "    .dataframe thead th {\n",
              "        text-align: right;\n",
              "    }\n",
              "</style>\n",
              "<table border=\"1\" class=\"dataframe\">\n",
              "  <thead>\n",
              "    <tr style=\"text-align: right;\">\n",
              "      <th></th>\n",
              "      <th>features</th>\n",
              "      <th>importance</th>\n",
              "    </tr>\n",
              "  </thead>\n",
              "  <tbody>\n",
              "    <tr>\n",
              "      <th>93</th>\n",
              "      <td>_PRACE_4.0</td>\n",
              "      <td>0.000676</td>\n",
              "    </tr>\n",
              "    <tr>\n",
              "      <th>43</th>\n",
              "      <td>_IMPAGE_27.0</td>\n",
              "      <td>0.000651</td>\n",
              "    </tr>\n",
              "    <tr>\n",
              "      <th>86</th>\n",
              "      <td>_IMPAGE_90.0</td>\n",
              "      <td>0.000595</td>\n",
              "    </tr>\n",
              "    <tr>\n",
              "      <th>47</th>\n",
              "      <td>_IMPAGE_31.0</td>\n",
              "      <td>0.000566</td>\n",
              "    </tr>\n",
              "    <tr>\n",
              "      <th>39</th>\n",
              "      <td>_IMPAGE_21.0</td>\n",
              "      <td>0.000528</td>\n",
              "    </tr>\n",
              "    <tr>\n",
              "      <th>42</th>\n",
              "      <td>_IMPAGE_24.0</td>\n",
              "      <td>0.000487</td>\n",
              "    </tr>\n",
              "    <tr>\n",
              "      <th>46</th>\n",
              "      <td>_IMPAGE_30.0</td>\n",
              "      <td>0.000465</td>\n",
              "    </tr>\n",
              "    <tr>\n",
              "      <th>38</th>\n",
              "      <td>_IMPAGE_20.0</td>\n",
              "      <td>0.000324</td>\n",
              "    </tr>\n",
              "    <tr>\n",
              "      <th>40</th>\n",
              "      <td>_IMPAGE_22.0</td>\n",
              "      <td>0.000321</td>\n",
              "    </tr>\n",
              "    <tr>\n",
              "      <th>37</th>\n",
              "      <td>_IMPAGE_18.0</td>\n",
              "      <td>0.000303</td>\n",
              "    </tr>\n",
              "  </tbody>\n",
              "</table>\n",
              "</div>"
            ],
            "text/plain": [
              "        features  importance\n",
              "93    _PRACE_4.0    0.000676\n",
              "43  _IMPAGE_27.0    0.000651\n",
              "86  _IMPAGE_90.0    0.000595\n",
              "47  _IMPAGE_31.0    0.000566\n",
              "39  _IMPAGE_21.0    0.000528\n",
              "42  _IMPAGE_24.0    0.000487\n",
              "46  _IMPAGE_30.0    0.000465\n",
              "38  _IMPAGE_20.0    0.000324\n",
              "40  _IMPAGE_22.0    0.000321\n",
              "37  _IMPAGE_18.0    0.000303"
            ]
          },
          "metadata": {
            "tags": []
          },
          "execution_count": 49
        }
      ]
    },
    {
      "cell_type": "markdown",
      "metadata": {
        "id": "bi8bV1LJAuSF"
      },
      "source": [
        "**Looks like a few ages don't have a big influence on perceived health, nor does being Native Hawaiian or other Pacific Islander**"
      ]
    },
    {
      "cell_type": "code",
      "metadata": {
        "id": "WodiIPdAwgBT",
        "outputId": "f6998907-1c51-41c0-cdde-e5cbf4c472ea",
        "colab": {
          "base_uri": "https://localhost:8080/",
          "height": 457
        }
      },
      "source": [
        "top_bottom(health_all, color = 'mediumseagreen')\n",
        "plt.title('Top 10 and Last 10 Features that are important to determining Self-Reported Health');\n",
        "\n",
        "plt.savefig('health.jpg')"
      ],
      "execution_count": 92,
      "outputs": [
        {
          "output_type": "display_data",
          "data": {
            "image/png": "[encoded data removed]",
            "text/plain": [
              "<Figure size 648x504 with 1 Axes>"
            ]
          },
          "metadata": {
            "tags": [],
            "needs_background": "light"
          }
        }
      ]
    },
    {
      "cell_type": "code",
      "metadata": {
        "id": "7RFDpddWkRXI",
        "outputId": "1e77e188-9a74-4818-9861-9593a8e63eda",
        "colab": {
          "base_uri": "https://localhost:8080/",
          "height": 347
        }
      },
      "source": [
        "# feature importances for smoker status\n",
        "smoker_all = pd.DataFrame({'features': X_cols_smoker_all, 'importance':coefs_smoker_all})\n",
        "smoker_all = smoker_all.sort_values('importance', ascending = False)\n",
        "smoker_all.head(10)"
      ],
      "execution_count": 51,
      "outputs": [
        {
          "output_type": "execute_result",
          "data": {
            "text/html": [
              "<div>\n",
              "<style scoped>\n",
              "    .dataframe tbody tr th:only-of-type {\n",
              "        vertical-align: middle;\n",
              "    }\n",
              "\n",
              "    .dataframe tbody tr th {\n",
              "        vertical-align: top;\n",
              "    }\n",
              "\n",
              "    .dataframe thead th {\n",
              "        text-align: right;\n",
              "    }\n",
              "</style>\n",
              "<table border=\"1\" class=\"dataframe\">\n",
              "  <thead>\n",
              "    <tr style=\"text-align: right;\">\n",
              "      <th></th>\n",
              "      <th>features</th>\n",
              "      <th>importance</th>\n",
              "    </tr>\n",
              "  </thead>\n",
              "  <tbody>\n",
              "    <tr>\n",
              "      <th>3</th>\n",
              "      <td>ACE_Count</td>\n",
              "      <td>0.070039</td>\n",
              "    </tr>\n",
              "    <tr>\n",
              "      <th>0</th>\n",
              "      <td>PHYSHLTH</td>\n",
              "      <td>0.039284</td>\n",
              "    </tr>\n",
              "    <tr>\n",
              "      <th>1</th>\n",
              "      <td>MENTHLTH</td>\n",
              "      <td>0.036018</td>\n",
              "    </tr>\n",
              "    <tr>\n",
              "      <th>11</th>\n",
              "      <td>_STATE_47.0</td>\n",
              "      <td>0.035014</td>\n",
              "    </tr>\n",
              "    <tr>\n",
              "      <th>33</th>\n",
              "      <td>SEX_2.0</td>\n",
              "      <td>0.031330</td>\n",
              "    </tr>\n",
              "    <tr>\n",
              "      <th>2</th>\n",
              "      <td>CHILDREN</td>\n",
              "      <td>0.028582</td>\n",
              "    </tr>\n",
              "    <tr>\n",
              "      <th>24</th>\n",
              "      <td>EMPLOY_1.0</td>\n",
              "      <td>0.027787</td>\n",
              "    </tr>\n",
              "    <tr>\n",
              "      <th>30</th>\n",
              "      <td>RENTHOM1_1.0</td>\n",
              "      <td>0.026616</td>\n",
              "    </tr>\n",
              "    <tr>\n",
              "      <th>36</th>\n",
              "      <td>MSCODE_5.0</td>\n",
              "      <td>0.023771</td>\n",
              "    </tr>\n",
              "    <tr>\n",
              "      <th>15</th>\n",
              "      <td>DISPCODE_1100.0</td>\n",
              "      <td>0.023718</td>\n",
              "    </tr>\n",
              "  </tbody>\n",
              "</table>\n",
              "</div>"
            ],
            "text/plain": [
              "           features  importance\n",
              "3         ACE_Count    0.070039\n",
              "0          PHYSHLTH    0.039284\n",
              "1          MENTHLTH    0.036018\n",
              "11      _STATE_47.0    0.035014\n",
              "33          SEX_2.0    0.031330\n",
              "2          CHILDREN    0.028582\n",
              "24       EMPLOY_1.0    0.027787\n",
              "30     RENTHOM1_1.0    0.026616\n",
              "36       MSCODE_5.0    0.023771\n",
              "15  DISPCODE_1100.0    0.023718"
            ]
          },
          "metadata": {
            "tags": []
          },
          "execution_count": 51
        }
      ]
    },
    {
      "cell_type": "markdown",
      "metadata": {
        "id": "dTd-meElBogf"
      },
      "source": [
        "*   ACE_Count = # of ACEs\n",
        "*   PHYSHLTH = # of days physical health not good (over a 30 day period)\n",
        "*   MENTHLTH = # of days mental health not good (over a 30 day period)\n",
        "*   State 47 = Tennessee\n",
        "*   Sex 2 = Female\n",
        "*   Children = # of children in household\n",
        "*   EMPLOY 1 = employed for wages\n",
        "*   RENTHOM1 1 = Own home\n",
        "*   MSCODE 5 = not in a metropolitan statistical area (MSA)\n",
        "*   DISPCODE 1100 = completed interview"
      ]
    },
    {
      "cell_type": "code",
      "metadata": {
        "id": "4OJK5s8jidg9",
        "outputId": "12179769-6564-459a-b3d0-0856d44c0125",
        "colab": {
          "base_uri": "https://localhost:8080/",
          "height": 347
        }
      },
      "source": [
        "smoker_all.tail(10)"
      ],
      "execution_count": 52,
      "outputs": [
        {
          "output_type": "execute_result",
          "data": {
            "text/html": [
              "<div>\n",
              "<style scoped>\n",
              "    .dataframe tbody tr th:only-of-type {\n",
              "        vertical-align: middle;\n",
              "    }\n",
              "\n",
              "    .dataframe tbody tr th {\n",
              "        vertical-align: top;\n",
              "    }\n",
              "\n",
              "    .dataframe thead th {\n",
              "        text-align: right;\n",
              "    }\n",
              "</style>\n",
              "<table border=\"1\" class=\"dataframe\">\n",
              "  <thead>\n",
              "    <tr style=\"text-align: right;\">\n",
              "      <th></th>\n",
              "      <th>features</th>\n",
              "      <th>importance</th>\n",
              "    </tr>\n",
              "  </thead>\n",
              "  <tbody>\n",
              "    <tr>\n",
              "      <th>44</th>\n",
              "      <td>_IMPAGE_25.0</td>\n",
              "      <td>0.001402</td>\n",
              "    </tr>\n",
              "    <tr>\n",
              "      <th>86</th>\n",
              "      <td>_IMPAGE_87.0</td>\n",
              "      <td>0.001280</td>\n",
              "    </tr>\n",
              "    <tr>\n",
              "      <th>39</th>\n",
              "      <td>_IMPAGE_20.0</td>\n",
              "      <td>0.001140</td>\n",
              "    </tr>\n",
              "    <tr>\n",
              "      <th>40</th>\n",
              "      <td>_IMPAGE_21.0</td>\n",
              "      <td>0.001119</td>\n",
              "    </tr>\n",
              "    <tr>\n",
              "      <th>38</th>\n",
              "      <td>_IMPAGE_19.0</td>\n",
              "      <td>0.001086</td>\n",
              "    </tr>\n",
              "    <tr>\n",
              "      <th>85</th>\n",
              "      <td>_IMPAGE_86.0</td>\n",
              "      <td>0.001064</td>\n",
              "    </tr>\n",
              "    <tr>\n",
              "      <th>87</th>\n",
              "      <td>_IMPAGE_90.0</td>\n",
              "      <td>0.000975</td>\n",
              "    </tr>\n",
              "    <tr>\n",
              "      <th>37</th>\n",
              "      <td>_IMPAGE_18.0</td>\n",
              "      <td>0.000905</td>\n",
              "    </tr>\n",
              "    <tr>\n",
              "      <th>89</th>\n",
              "      <td>_IMPAGE_92.0</td>\n",
              "      <td>0.000902</td>\n",
              "    </tr>\n",
              "    <tr>\n",
              "      <th>88</th>\n",
              "      <td>_IMPAGE_91.0</td>\n",
              "      <td>0.000483</td>\n",
              "    </tr>\n",
              "  </tbody>\n",
              "</table>\n",
              "</div>"
            ],
            "text/plain": [
              "        features  importance\n",
              "44  _IMPAGE_25.0    0.001402\n",
              "86  _IMPAGE_87.0    0.001280\n",
              "39  _IMPAGE_20.0    0.001140\n",
              "40  _IMPAGE_21.0    0.001119\n",
              "38  _IMPAGE_19.0    0.001086\n",
              "85  _IMPAGE_86.0    0.001064\n",
              "87  _IMPAGE_90.0    0.000975\n",
              "37  _IMPAGE_18.0    0.000905\n",
              "89  _IMPAGE_92.0    0.000902\n",
              "88  _IMPAGE_91.0    0.000483"
            ]
          },
          "metadata": {
            "tags": []
          },
          "execution_count": 52
        }
      ]
    },
    {
      "cell_type": "markdown",
      "metadata": {
        "id": "6xEoKUf8CUFW"
      },
      "source": [
        "**Looks like a few ages don't have a big influence on smoker status**"
      ]
    },
    {
      "cell_type": "code",
      "metadata": {
        "id": "teEai3j6wi-Q",
        "outputId": "17eb52ab-eda4-4e67-9888-09897b8b77b7",
        "colab": {
          "base_uri": "https://localhost:8080/",
          "height": 457
        }
      },
      "source": [
        "top_bottom(smoker_all, color='darkmagenta')\n",
        "plt.title('Top 10 and Last 10 Features that are important to determining Smoker Status');\n",
        "\n",
        "plt.savefig('smoker.jpg')"
      ],
      "execution_count": 93,
      "outputs": [
        {
          "output_type": "display_data",
          "data": {
            "image/png": "[encoded data removed]",
            "text/plain": [
              "<Figure size 648x504 with 1 Axes>"
            ]
          },
          "metadata": {
            "tags": [],
            "needs_background": "light"
          }
        }
      ]
    },
    {
      "cell_type": "code",
      "metadata": {
        "id": "tSruPMr-BJdp"
      },
      "source": [
        "X_ace = X_num[['ACE_Count']]"
      ],
      "execution_count": 54,
      "outputs": []
    },
    {
      "cell_type": "code",
      "metadata": {
        "id": "f2y10EZMSnso",
        "outputId": "1a00e850-4127-4c6e-9c63-92593629bd31",
        "colab": {
          "base_uri": "https://localhost:8080/",
          "height": 197
        }
      },
      "source": [
        "X_ace.head()"
      ],
      "execution_count": 55,
      "outputs": [
        {
          "output_type": "execute_result",
          "data": {
            "text/html": [
              "<div>\n",
              "<style scoped>\n",
              "    .dataframe tbody tr th:only-of-type {\n",
              "        vertical-align: middle;\n",
              "    }\n",
              "\n",
              "    .dataframe tbody tr th {\n",
              "        vertical-align: top;\n",
              "    }\n",
              "\n",
              "    .dataframe thead th {\n",
              "        text-align: right;\n",
              "    }\n",
              "</style>\n",
              "<table border=\"1\" class=\"dataframe\">\n",
              "  <thead>\n",
              "    <tr style=\"text-align: right;\">\n",
              "      <th></th>\n",
              "      <th>ACE_Count</th>\n",
              "    </tr>\n",
              "  </thead>\n",
              "  <tbody>\n",
              "    <tr>\n",
              "      <th>0</th>\n",
              "      <td>0</td>\n",
              "    </tr>\n",
              "    <tr>\n",
              "      <th>1</th>\n",
              "      <td>3</td>\n",
              "    </tr>\n",
              "    <tr>\n",
              "      <th>2</th>\n",
              "      <td>0</td>\n",
              "    </tr>\n",
              "    <tr>\n",
              "      <th>3</th>\n",
              "      <td>0</td>\n",
              "    </tr>\n",
              "    <tr>\n",
              "      <th>4</th>\n",
              "      <td>0</td>\n",
              "    </tr>\n",
              "  </tbody>\n",
              "</table>\n",
              "</div>"
            ],
            "text/plain": [
              "   ACE_Count\n",
              "0          0\n",
              "1          3\n",
              "2          0\n",
              "3          0\n",
              "4          0"
            ]
          },
          "metadata": {
            "tags": []
          },
          "execution_count": 55
        }
      ]
    },
    {
      "cell_type": "code",
      "metadata": {
        "id": "QE0oyPqywryS",
        "outputId": "9696efbf-637b-4b73-a2b1-6b3d659f6e55",
        "colab": {
          "base_uri": "https://localhost:8080/"
        }
      },
      "source": [
        "# put in EDA notebook and create visualization(s)\n",
        "X_ace.value_counts(normalize=True)"
      ],
      "execution_count": 56,
      "outputs": [
        {
          "output_type": "execute_result",
          "data": {
            "text/plain": [
              "ACE_Count\n",
              "0            0.430284\n",
              "1            0.162409\n",
              "2            0.113283\n",
              "3            0.070818\n",
              "4            0.053711\n",
              "5            0.039803\n",
              "6            0.031526\n",
              "7            0.025511\n",
              "8            0.020450\n",
              "9            0.014359\n",
              "10           0.010659\n",
              "11           0.007860\n",
              "12           0.005589\n",
              "13           0.004475\n",
              "14           0.003734\n",
              "15           0.002986\n",
              "16           0.001565\n",
              "17           0.000978\n",
              "dtype: float64"
            ]
          },
          "metadata": {
            "tags": []
          },
          "execution_count": 56
        }
      ]
    },
    {
      "cell_type": "code",
      "metadata": {
        "id": "TMFWeIHOQjEQ"
      },
      "source": [
        "# creating the 4 y's for ACE count only\n",
        "y_tobacco_ace = brfss_total['USENOW3']\n",
        "y_activity_ace = brfss_total['QLACTLM2']\n",
        "y_health_ace = brfss_total['_RFHLTH']\n",
        "y_smoker_ace = brfss_total['_SMOKER3']"
      ],
      "execution_count": 57,
      "outputs": []
    },
    {
      "cell_type": "code",
      "metadata": {
        "id": "BRe8hfo7BJds"
      },
      "source": [
        "# to compensate for unbalanced classes in my y's will use SMOTE\n",
        "\n",
        "sm = SMOTE(random_state=151)\n",
        "X1, y_tobacco_ace = sm.fit_resample(X_ace, y_tobacco_ace)\n",
        "\n",
        "sm2 = SMOTE(random_state=151)\n",
        "X2, y_activity_ace = sm2.fit_resample(X_ace, y_activity_ace)\n",
        "\n",
        "sm3 = SMOTE(random_state=151)\n",
        "X3, y_health_ace = sm3.fit_resample(X_ace, y_health_ace)\n",
        "\n",
        "sm4 = SMOTE(random_state=151)\n",
        "X4, y_smoker_ace = sm4.fit_resample(X_ace, y_smoker_ace)"
      ],
      "execution_count": 58,
      "outputs": []
    },
    {
      "cell_type": "code",
      "metadata": {
        "id": "D2pjb8qSSd2i",
        "outputId": "412b4953-7575-4ac5-df17-973bd5c76c24",
        "colab": {
          "base_uri": "https://localhost:8080/"
        }
      },
      "source": [
        "X1.shape"
      ],
      "execution_count": 59,
      "outputs": [
        {
          "output_type": "execute_result",
          "data": {
            "text/plain": [
              "(454496, 1)"
            ]
          },
          "metadata": {
            "tags": []
          },
          "execution_count": 59
        }
      ]
    },
    {
      "cell_type": "code",
      "metadata": {
        "id": "3NnqEM_GBJdw"
      },
      "source": [
        "# creating training and testing sets for all ACE count y's \n",
        "X_train_ace, X_test_ace, y_train_tobacco_ace, y_test_tobacco_ace = train_test_split(X1, y_tobacco_ace, random_state = 151, stratify=y_tobacco_ace)\n",
        "X_train_ace2, X_test_ace2, y_train_activity_ace, y_test_activity_ace = train_test_split(X2, y_activity_ace, random_state = 151, stratify=y_activity_ace)\n",
        "X_train_ace3, X_test_ace3, y_train_health_ace, y_test_health_ace = train_test_split(X3, y_health_ace, random_state = 151, stratify=y_health_ace)\n",
        "X_train_ace4, X_test_ace4, y_train_smoker_ace, y_test_smoker_ace = train_test_split(X4, y_smoker_ace, random_state = 151, stratify=y_smoker_ace)"
      ],
      "execution_count": 60,
      "outputs": []
    },
    {
      "cell_type": "code",
      "metadata": {
        "id": "fdhLQdCCBJd1",
        "outputId": "ee2dbd36-0564-4da2-af33-fc96a2d1145b",
        "colab": {
          "base_uri": "https://localhost:8080/"
        }
      },
      "source": [
        "ace_tobacco = xgb.XGBClassifier(learning_rate = 0.5, max_depth = 3, n_estimators = 20)\n",
        "ace_tobacco.fit(X_train_ace, y_train_tobacco_ace)"
      ],
      "execution_count": 61,
      "outputs": [
        {
          "output_type": "execute_result",
          "data": {
            "text/plain": [
              "XGBClassifier(base_score=0.5, booster='gbtree', colsample_bylevel=1,\n",
              "              colsample_bynode=1, colsample_bytree=1, gamma=0,\n",
              "              learning_rate=0.5, max_delta_step=0, max_depth=3,\n",
              "              min_child_weight=1, missing=None, n_estimators=20, n_jobs=1,\n",
              "              nthread=None, objective='multi:softprob', random_state=0,\n",
              "              reg_alpha=0, reg_lambda=1, scale_pos_weight=1, seed=None,\n",
              "              silent=None, subsample=1, verbosity=1)"
            ]
          },
          "metadata": {
            "tags": []
          },
          "execution_count": 61
        }
      ]
    },
    {
      "cell_type": "code",
      "metadata": {
        "id": "_duciQUzBJd4",
        "outputId": "27246605-b679-472d-805c-c61cdd1e9bef",
        "colab": {
          "base_uri": "https://localhost:8080/"
        }
      },
      "source": [
        "ace_activity = RandomForestClassifier(max_depth = None, min_samples_leaf = 1, min_samples_split = 3, n_estimators = 100)\n",
        "ace_activity.fit(X_train_ace2, y_train_activity_ace)"
      ],
      "execution_count": 62,
      "outputs": [
        {
          "output_type": "execute_result",
          "data": {
            "text/plain": [
              "RandomForestClassifier(bootstrap=True, ccp_alpha=0.0, class_weight=None,\n",
              "                       criterion='gini', max_depth=None, max_features='auto',\n",
              "                       max_leaf_nodes=None, max_samples=None,\n",
              "                       min_impurity_decrease=0.0, min_impurity_split=None,\n",
              "                       min_samples_leaf=1, min_samples_split=3,\n",
              "                       min_weight_fraction_leaf=0.0, n_estimators=100,\n",
              "                       n_jobs=None, oob_score=False, random_state=None,\n",
              "                       verbose=0, warm_start=False)"
            ]
          },
          "metadata": {
            "tags": []
          },
          "execution_count": 62
        }
      ]
    },
    {
      "cell_type": "code",
      "metadata": {
        "id": "7G99AF9vBJd7",
        "outputId": "6e52bb35-3bf4-46a1-ff7d-8b287fbdf5d4",
        "colab": {
          "base_uri": "https://localhost:8080/"
        }
      },
      "source": [
        "ace_health = ExtraTreesClassifier(max_depth = None, min_samples_leaf = 1, min_samples_split = 5, n_estimators = 500)\n",
        "ace_health.fit(X_train_ace3, y_train_health_ace)"
      ],
      "execution_count": 63,
      "outputs": [
        {
          "output_type": "execute_result",
          "data": {
            "text/plain": [
              "ExtraTreesClassifier(bootstrap=False, ccp_alpha=0.0, class_weight=None,\n",
              "                     criterion='gini', max_depth=None, max_features='auto',\n",
              "                     max_leaf_nodes=None, max_samples=None,\n",
              "                     min_impurity_decrease=0.0, min_impurity_split=None,\n",
              "                     min_samples_leaf=1, min_samples_split=5,\n",
              "                     min_weight_fraction_leaf=0.0, n_estimators=500,\n",
              "                     n_jobs=None, oob_score=False, random_state=None, verbose=0,\n",
              "                     warm_start=False)"
            ]
          },
          "metadata": {
            "tags": []
          },
          "execution_count": 63
        }
      ]
    },
    {
      "cell_type": "code",
      "metadata": {
        "id": "F90YsCD_BJeC",
        "outputId": "329979ec-5043-4adc-ff0f-6cf0eba1f04c",
        "colab": {
          "base_uri": "https://localhost:8080/"
        }
      },
      "source": [
        "ace_smoker = ExtraTreesClassifier(max_depth = None, min_samples_leaf = 1, min_samples_split = 5, n_estimators = 300)\n",
        "ace_smoker.fit(X_train_ace4, y_train_smoker_ace)"
      ],
      "execution_count": 64,
      "outputs": [
        {
          "output_type": "execute_result",
          "data": {
            "text/plain": [
              "ExtraTreesClassifier(bootstrap=False, ccp_alpha=0.0, class_weight=None,\n",
              "                     criterion='gini', max_depth=None, max_features='auto',\n",
              "                     max_leaf_nodes=None, max_samples=None,\n",
              "                     min_impurity_decrease=0.0, min_impurity_split=None,\n",
              "                     min_samples_leaf=1, min_samples_split=5,\n",
              "                     min_weight_fraction_leaf=0.0, n_estimators=300,\n",
              "                     n_jobs=None, oob_score=False, random_state=None, verbose=0,\n",
              "                     warm_start=False)"
            ]
          },
          "metadata": {
            "tags": []
          },
          "execution_count": 64
        }
      ]
    },
    {
      "cell_type": "code",
      "metadata": {
        "id": "aslTYJKFBJeF"
      },
      "source": [
        "tobacco_ace_preds = ace_tobacco.predict(X_test_ace)\n",
        "activity_ace_preds = ace_activity.predict(X_test_ace2)\n",
        "health_ace_preds = ace_health.predict(X_test_ace3)\n",
        "smoker_ace_preds = ace_smoker.predict(X_test_ace4)\n",
        "\n",
        "tobacco_ace_prec = precision_score(y_test_tobacco_ace, tobacco_ace_preds, average='micro')\n",
        "activity_ace_prec = precision_score(y_test_activity_ace, activity_ace_preds, average='micro')\n",
        "health_ace_prec = precision_score(y_test_health_ace, health_ace_preds, average='micro')\n",
        "smoker_ace_prec = precision_score(y_test_smoker_ace, smoker_ace_preds, average='micro')"
      ],
      "execution_count": 65,
      "outputs": []
    },
    {
      "cell_type": "code",
      "metadata": {
        "id": "kOu1ukpsV-Js",
        "outputId": "fbb7063e-eb22-40f1-9ecf-5dd171745c7c",
        "colab": {
          "base_uri": "https://localhost:8080/"
        }
      },
      "source": [
        "print(f' training accuracy for tobacco: {ace_tobacco.score(X_train_ace, y_train_tobacco_ace)}')\n",
        "print(f' testing accuracy for tobacco: {ace_tobacco.score(X_test_ace, y_test_tobacco_ace)}')\n",
        "print(f'Precision for tobacco: {tobacco_ace_prec}')"
      ],
      "execution_count": 67,
      "outputs": [
        {
          "output_type": "stream",
          "text": [
            " training accuracy for tobacco: 0.38935729540707364\n",
            " testing accuracy for tobacco: 0.3859131873547842\n",
            "Precision for tobacco: 0.3859131873547842\n"
          ],
          "name": "stdout"
        }
      ]
    },
    {
      "cell_type": "code",
      "metadata": {
        "id": "YgozWBnfV-Sh",
        "outputId": "c8af6da9-9175-42d0-8133-c208adde0cfb",
        "colab": {
          "base_uri": "https://localhost:8080/"
        }
      },
      "source": [
        "print(f' training accuracy for activity: {ace_activity.score(X_train_ace2, y_train_activity_ace)}')\n",
        "print(f' testing accuracy for activity: {ace_activity.score(X_test_ace2, y_test_activity_ace)}')\n",
        "print(f'Precision for activity: {activity_ace_prec}')"
      ],
      "execution_count": 68,
      "outputs": [
        {
          "output_type": "stream",
          "text": [
            " training accuracy for activity: 0.4146498011835061\n",
            " testing accuracy for activity: 0.417148045523568\n",
            "Precision for activity: 0.417148045523568\n"
          ],
          "name": "stdout"
        }
      ]
    },
    {
      "cell_type": "code",
      "metadata": {
        "id": "qKzpIP2AV-dU",
        "outputId": "4e19ae6d-d903-4c45-fe4c-70b7f29f35f1",
        "colab": {
          "base_uri": "https://localhost:8080/"
        }
      },
      "source": [
        "print(f' training accuracy for health: {ace_health.score(X_train_ace3, y_train_health_ace)}')\n",
        "print(f' testing accuracy for health: {ace_health.score(X_test_ace3, y_test_health_ace)}')\n",
        "print(f'Precision for health: {health_ace_prec}')"
      ],
      "execution_count": 69,
      "outputs": [
        {
          "output_type": "stream",
          "text": [
            " training accuracy for health: 0.3728155249700693\n",
            " testing accuracy for health: 0.3759692620383389\n",
            "Precision for health: 0.3759692620383389\n"
          ],
          "name": "stdout"
        }
      ]
    },
    {
      "cell_type": "code",
      "metadata": {
        "id": "NJw8QAGdWQ2f",
        "outputId": "c2cf18fc-732e-421c-ee3c-bafa856fd08a",
        "colab": {
          "base_uri": "https://localhost:8080/"
        }
      },
      "source": [
        "print(f' training accuracy for smoker: {ace_smoker.score(X_train_ace4, y_train_smoker_ace)}')\n",
        "print(f' testing accuracy for smoker: {ace_smoker.score(X_test_ace4, y_test_smoker_ace)}')\n",
        "print(f'Precision for smoker: {smoker_ace_prec}')"
      ],
      "execution_count": 70,
      "outputs": [
        {
          "output_type": "stream",
          "text": [
            " training accuracy for smoker: 0.2730131391813781\n",
            " testing accuracy for smoker: 0.27195271522141906\n",
            "Precision for smoker: 0.27195271522141906\n"
          ],
          "name": "stdout"
        }
      ]
    },
    {
      "cell_type": "markdown",
      "metadata": {
        "id": "vLgK_OI2i-Ao"
      },
      "source": [
        "\n",
        "\n",
        "---\n",
        "\n",
        "\n",
        "\n",
        "\n",
        "**Since we're only looking at one feature, the amount of ACEs someone had, to predict the y's, I believe logistic regression to be the best course of action when modeling. It is simple and easy to understand, something that is an asset when talking about such a sensitive topic. Also, the accuracy and precision for each y is comprable to those for the ensemble models above, differing the most for smokeless tobacco usage.**\n",
        "\n",
        "---\n",
        "\n"
      ]
    },
    {
      "cell_type": "code",
      "metadata": {
        "id": "xjV0agYsCTNH",
        "outputId": "da6512f5-057d-4ebe-a4de-2a9a90d98f4c",
        "colab": {
          "base_uri": "https://localhost:8080/"
        }
      },
      "source": [
        "ace_tobacco_lr = LogisticRegression(C=0.01)\n",
        "ace_tobacco_lr.fit(X_train_ace, y_train_tobacco_ace)"
      ],
      "execution_count": 71,
      "outputs": [
        {
          "output_type": "execute_result",
          "data": {
            "text/plain": [
              "LogisticRegression(C=0.01, class_weight=None, dual=False, fit_intercept=True,\n",
              "                   intercept_scaling=1, l1_ratio=None, max_iter=100,\n",
              "                   multi_class='auto', n_jobs=None, penalty='l2',\n",
              "                   random_state=None, solver='lbfgs', tol=0.0001, verbose=0,\n",
              "                   warm_start=False)"
            ]
          },
          "metadata": {
            "tags": []
          },
          "execution_count": 71
        }
      ]
    },
    {
      "cell_type": "code",
      "metadata": {
        "id": "GPt0ks0nCUJj",
        "outputId": "75c631e7-45d0-4ccf-9f96-67a5602828c7",
        "colab": {
          "base_uri": "https://localhost:8080/"
        }
      },
      "source": [
        "ace_activity_lr = LogisticRegression(C=0.01)\n",
        "ace_activity_lr.fit(X_train_ace2, y_train_activity_ace)"
      ],
      "execution_count": 72,
      "outputs": [
        {
          "output_type": "execute_result",
          "data": {
            "text/plain": [
              "LogisticRegression(C=0.01, class_weight=None, dual=False, fit_intercept=True,\n",
              "                   intercept_scaling=1, l1_ratio=None, max_iter=100,\n",
              "                   multi_class='auto', n_jobs=None, penalty='l2',\n",
              "                   random_state=None, solver='lbfgs', tol=0.0001, verbose=0,\n",
              "                   warm_start=False)"
            ]
          },
          "metadata": {
            "tags": []
          },
          "execution_count": 72
        }
      ]
    },
    {
      "cell_type": "code",
      "metadata": {
        "id": "_-y5aTCXCUSz",
        "outputId": "073f7687-6f83-42f7-fbd9-40985f3ada38",
        "colab": {
          "base_uri": "https://localhost:8080/"
        }
      },
      "source": [
        "ace_health_lr = LogisticRegression(C=0.01)\n",
        "ace_health_lr.fit(X_train_ace3, y_train_health_ace)"
      ],
      "execution_count": 73,
      "outputs": [
        {
          "output_type": "execute_result",
          "data": {
            "text/plain": [
              "LogisticRegression(C=0.01, class_weight=None, dual=False, fit_intercept=True,\n",
              "                   intercept_scaling=1, l1_ratio=None, max_iter=100,\n",
              "                   multi_class='auto', n_jobs=None, penalty='l2',\n",
              "                   random_state=None, solver='lbfgs', tol=0.0001, verbose=0,\n",
              "                   warm_start=False)"
            ]
          },
          "metadata": {
            "tags": []
          },
          "execution_count": 73
        }
      ]
    },
    {
      "cell_type": "code",
      "metadata": {
        "id": "PdTFoJg-CLHD",
        "outputId": "eff8638b-333a-428b-a467-bbce10ad784f",
        "colab": {
          "base_uri": "https://localhost:8080/"
        }
      },
      "source": [
        "ace_smoker_lr = LogisticRegression(C=0.01)\n",
        "ace_smoker_lr.fit(X_train_ace4, y_train_smoker_ace)"
      ],
      "execution_count": 74,
      "outputs": [
        {
          "output_type": "execute_result",
          "data": {
            "text/plain": [
              "LogisticRegression(C=0.01, class_weight=None, dual=False, fit_intercept=True,\n",
              "                   intercept_scaling=1, l1_ratio=None, max_iter=100,\n",
              "                   multi_class='auto', n_jobs=None, penalty='l2',\n",
              "                   random_state=None, solver='lbfgs', tol=0.0001, verbose=0,\n",
              "                   warm_start=False)"
            ]
          },
          "metadata": {
            "tags": []
          },
          "execution_count": 74
        }
      ]
    },
    {
      "cell_type": "code",
      "metadata": {
        "id": "VtUJSG_qQgcu"
      },
      "source": [
        "tobacco_ace_preds_lr = ace_tobacco_lr.predict(X_test_ace)\n",
        "activity_ace_preds_lr = ace_activity_lr.predict(X_test_ace2)\n",
        "health_ace_preds_lr = ace_health_lr.predict(X_test_ace3)\n",
        "smoker_ace_preds_lr = ace_smoker_lr.predict(X_test_ace4)\n",
        "\n",
        "tobacco_ace_prec_lr = precision_score(y_test_tobacco_ace, tobacco_ace_preds_lr, average='micro')\n",
        "activity_ace_prec_lr = precision_score(y_test_activity_ace, activity_ace_preds_lr, average='micro')\n",
        "health_ace_prec_lr = precision_score(y_test_health_ace, health_ace_preds_lr, average='micro')\n",
        "smoker_ace_prec_lr = precision_score(y_test_smoker_ace, smoker_ace_preds_lr, average='micro')"
      ],
      "execution_count": 76,
      "outputs": []
    },
    {
      "cell_type": "code",
      "metadata": {
        "id": "Rz0ZVXbMWpdK",
        "outputId": "60e19f5b-6f6d-4f0e-a565-318e3a6507e0",
        "colab": {
          "base_uri": "https://localhost:8080/"
        }
      },
      "source": [
        "print(f'Logistic Regression training accuracy for smokeless tobacco usage w/ACE grouped: {ace_tobacco_lr.score(X_train_ace, y_train_tobacco_ace)}')\n",
        "print(f'Logistic Regression testing accuracy for smokeless tobacco usage w/ACE grouped: {ace_tobacco_lr.score(X_test_ace, y_test_tobacco_ace)}')\n",
        "print(f'Logistic Regression precision for smokeless tobacco usage w/ACE grouped: {tobacco_ace_prec_lr}')"
      ],
      "execution_count": 77,
      "outputs": [
        {
          "output_type": "stream",
          "text": [
            "Logistic Regression training accuracy for smokeless tobacco usage w/ACE grouped: 0.37374146307118217\n",
            "Logistic Regression testing accuracy for smokeless tobacco usage w/ACE grouped: 0.3732046046609871\n",
            "Logistic Regression precision for smokeless tobacco usage w/ACE grouped: 0.3732046046609871\n"
          ],
          "name": "stdout"
        }
      ]
    },
    {
      "cell_type": "code",
      "metadata": {
        "id": "dHtBrtulWpoN",
        "outputId": "68a34e31-b30a-4533-d305-aecb6efbeef2",
        "colab": {
          "base_uri": "https://localhost:8080/"
        }
      },
      "source": [
        "print(f'Logistic Regression training accuracy for activity limitations w/ACE grouped: {ace_activity_lr.score(X_train_ace2, y_train_activity_ace)}')\n",
        "print(f'Logistic Regression testing accuracy for activity limitations w/ACE grouped: {ace_activity_lr.score(X_test_ace2, y_test_activity_ace)}')\n",
        "print(f'Logistic Regression precision for activity limitations w/ACE grouped: {activity_ace_prec_lr}')"
      ],
      "execution_count": 78,
      "outputs": [
        {
          "output_type": "stream",
          "text": [
            "Logistic Regression training accuracy for activity limitations w/ACE grouped: 0.39769038897064196\n",
            "Logistic Regression testing accuracy for activity limitations w/ACE grouped: 0.4002880445842922\n",
            "Logistic Regression precision for activity limitations w/ACE grouped: 0.4002880445842922\n"
          ],
          "name": "stdout"
        }
      ]
    },
    {
      "cell_type": "code",
      "metadata": {
        "id": "fPiR377-Wp7l",
        "outputId": "99cd3e0f-4bfb-4895-fec0-60999db44d45",
        "colab": {
          "base_uri": "https://localhost:8080/"
        }
      },
      "source": [
        "print(f'Logistic Regression training accuracy for self-reported health w/ACE grouped: {ace_health_lr.score(X_train_ace3, y_train_health_ace)}')\n",
        "print(f'Logistic Regression testing accuracy for self-reported health w/ACE grouped: {ace_health_lr.score(X_test_ace3, y_test_health_ace)}')\n",
        "print(f'Logistic Regression precision for self-reported health w/ACE grouped: {health_ace_prec_lr}')"
      ],
      "execution_count": 79,
      "outputs": [
        {
          "output_type": "stream",
          "text": [
            "Logistic Regression training accuracy for self-reported health w/ACE grouped: 0.3632562715199213\n",
            "Logistic Regression testing accuracy for self-reported health w/ACE grouped: 0.3658764077791544\n",
            "Logistic Regression precision for self-reported health w/ACE grouped: 0.3658764077791544\n"
          ],
          "name": "stdout"
        }
      ]
    },
    {
      "cell_type": "code",
      "metadata": {
        "id": "U02JWMf9Wq_1",
        "outputId": "59cd2090-e3c8-4259-a4d2-a71d9a695e72",
        "colab": {
          "base_uri": "https://localhost:8080/"
        }
      },
      "source": [
        "print(f'Logistic Regression training accuracy for smoker status w/ACE grouped: {ace_smoker_lr.score(X_train_ace4, y_train_smoker_ace)}')\n",
        "print(f'Logistic Regression testing accuracy for smoker status w/ACE grouped: {ace_smoker_lr.score(X_test_ace4, y_test_smoker_ace)}')\n",
        "print(f'Logistic Regression precision for smoker w/ACE grouped: {smoker_ace_prec_lr}')"
      ],
      "execution_count": 80,
      "outputs": [
        {
          "output_type": "stream",
          "text": [
            "Logistic Regression training accuracy for smoker status w/ACE grouped: 0.2615223357384864\n",
            "Logistic Regression testing accuracy for smoker status w/ACE grouped: 0.26244095926515487\n",
            "Logistic Regression precision for smoker w/ACE grouped: 0.26244095926515487\n"
          ],
          "name": "stdout"
        }
      ]
    },
    {
      "cell_type": "code",
      "metadata": {
        "id": "rD6Oi47UkaJz",
        "outputId": "81583dce-c2b0-4478-8752-deb649380934",
        "colab": {
          "base_uri": "https://localhost:8080/",
          "height": 167
        }
      },
      "source": [
        "# getting the coefficient for each tobacco class\n",
        "coef_dk_tobacco = ace_tobacco_lr.coef_[0]\n",
        "coef_everyday_tobacco = ace_tobacco_lr.coef_[1]\n",
        "coef_somedays_tobacco = ace_tobacco_lr.coef_[2]\n",
        "coef_notatall = ace_tobacco_lr.coef_[3]\n",
        "\n",
        "# converting the log odds for each tobacco class into regular odds for interpretation\n",
        "odds_dk_tobacco = np.exp(coef_dk_tobacco)\n",
        "odds_everyday_tobacco = np.exp(coef_everyday_tobacco)\n",
        "odds_somedays_tobacco = np.exp(coef_somedays_tobacco)\n",
        "odds_notatall = np.exp(coef_notatall)\n",
        "\n",
        "# putting converted odds into a dataframe\n",
        "tobacco_coefs = pd.DataFrame([odds_dk_tobacco, odds_everyday_tobacco, odds_somedays_tobacco, odds_notatall], \n",
        "             index=['do not know', 'every day', 'some days', 'not at all'], \n",
        "             columns=['coef'])\\\n",
        "            .sort_values(by='coef', ascending=False)\n",
        "tobacco_coefs"
      ],
      "execution_count": 81,
      "outputs": [
        {
          "output_type": "execute_result",
          "data": {
            "text/html": [
              "<div>\n",
              "<style scoped>\n",
              "    .dataframe tbody tr th:only-of-type {\n",
              "        vertical-align: middle;\n",
              "    }\n",
              "\n",
              "    .dataframe tbody tr th {\n",
              "        vertical-align: top;\n",
              "    }\n",
              "\n",
              "    .dataframe thead th {\n",
              "        text-align: right;\n",
              "    }\n",
              "</style>\n",
              "<table border=\"1\" class=\"dataframe\">\n",
              "  <thead>\n",
              "    <tr style=\"text-align: right;\">\n",
              "      <th></th>\n",
              "      <th>coef</th>\n",
              "    </tr>\n",
              "  </thead>\n",
              "  <tbody>\n",
              "    <tr>\n",
              "      <th>some days</th>\n",
              "      <td>1.239700</td>\n",
              "    </tr>\n",
              "    <tr>\n",
              "      <th>every day</th>\n",
              "      <td>1.211356</td>\n",
              "    </tr>\n",
              "    <tr>\n",
              "      <th>not at all</th>\n",
              "      <td>1.192229</td>\n",
              "    </tr>\n",
              "    <tr>\n",
              "      <th>do not know</th>\n",
              "      <td>0.558537</td>\n",
              "    </tr>\n",
              "  </tbody>\n",
              "</table>\n",
              "</div>"
            ],
            "text/plain": [
              "                 coef\n",
              "some days    1.239700\n",
              "every day    1.211356\n",
              "not at all   1.192229\n",
              "do not know  0.558537"
            ]
          },
          "metadata": {
            "tags": []
          },
          "execution_count": 81
        }
      ]
    },
    {
      "cell_type": "code",
      "metadata": {
        "id": "h_Z4Ig78kaR-",
        "outputId": "f46b6a0d-ab0a-474c-edbe-cac4ea7ef874",
        "colab": {
          "base_uri": "https://localhost:8080/",
          "height": 137
        }
      },
      "source": [
        "# getting the coefficient for each smoker class\n",
        "coef_dk_activity = ace_activity_lr.coef_[0]\n",
        "coef_yes_activity = ace_activity_lr.coef_[1]\n",
        "coef_no_activity = ace_activity_lr.coef_[2]\n",
        "\n",
        "# converting the log odds for each smoker class into regular odds for interpretation\n",
        "odds_dk_activity = np.exp(coef_dk_activity)\n",
        "odds_yes_activity = np.exp(coef_yes_activity)\n",
        "odds_no_activity = np.exp(coef_no_activity)\n",
        "\n",
        "# putting converted odds into a dataframe\n",
        "activity_coefs = pd.DataFrame([odds_dk_activity, odds_yes_activity, odds_no_activity], \n",
        "             index=['do not know', 'yes', 'no'], \n",
        "             columns=['coef'])\\\n",
        "            .sort_values(by='coef', ascending=False)\n",
        "activity_coefs"
      ],
      "execution_count": 82,
      "outputs": [
        {
          "output_type": "execute_result",
          "data": {
            "text/html": [
              "<div>\n",
              "<style scoped>\n",
              "    .dataframe tbody tr th:only-of-type {\n",
              "        vertical-align: middle;\n",
              "    }\n",
              "\n",
              "    .dataframe tbody tr th {\n",
              "        vertical-align: top;\n",
              "    }\n",
              "\n",
              "    .dataframe thead th {\n",
              "        text-align: right;\n",
              "    }\n",
              "</style>\n",
              "<table border=\"1\" class=\"dataframe\">\n",
              "  <thead>\n",
              "    <tr style=\"text-align: right;\">\n",
              "      <th></th>\n",
              "      <th>coef</th>\n",
              "    </tr>\n",
              "  </thead>\n",
              "  <tbody>\n",
              "    <tr>\n",
              "      <th>yes</th>\n",
              "      <td>1.079552</td>\n",
              "    </tr>\n",
              "    <tr>\n",
              "      <th>no</th>\n",
              "      <td>0.977599</td>\n",
              "    </tr>\n",
              "    <tr>\n",
              "      <th>do not know</th>\n",
              "      <td>0.947536</td>\n",
              "    </tr>\n",
              "  </tbody>\n",
              "</table>\n",
              "</div>"
            ],
            "text/plain": [
              "                 coef\n",
              "yes          1.079552\n",
              "no           0.977599\n",
              "do not know  0.947536"
            ]
          },
          "metadata": {
            "tags": []
          },
          "execution_count": 82
        }
      ]
    },
    {
      "cell_type": "code",
      "metadata": {
        "id": "7EnRzg1ikabC",
        "outputId": "729663d2-ba71-4576-ec9b-2671cef18899",
        "colab": {
          "base_uri": "https://localhost:8080/",
          "height": 137
        }
      },
      "source": [
        "# getting the coefficient for each smoker class\n",
        "coef_dk_health = ace_health_lr.coef_[0]\n",
        "coef_good_better_health = ace_health_lr.coef_[1]\n",
        "coef_fair_poor_health = ace_health_lr.coef_[2]\n",
        "\n",
        "# converting the log odds for each smoker class into regular odds for interpretation\n",
        "odds_dk_health = np.exp(coef_dk_health)\n",
        "odds_good_better_health = np.exp(coef_good_better_health)\n",
        "odds_fair_poor_health = np.exp(coef_fair_poor_health)\n",
        "\n",
        "# putting converted odds into a dataframe\n",
        "health_coefs = pd.DataFrame([odds_dk_health, odds_good_better_health, odds_fair_poor_health], \n",
        "             index=['do not know', 'Good or Better', 'Fair or Poor'], \n",
        "             columns=['coef'])\\\n",
        "            .sort_values(by='coef', ascending=False)\n",
        "health_coefs"
      ],
      "execution_count": 83,
      "outputs": [
        {
          "output_type": "execute_result",
          "data": {
            "text/html": [
              "<div>\n",
              "<style scoped>\n",
              "    .dataframe tbody tr th:only-of-type {\n",
              "        vertical-align: middle;\n",
              "    }\n",
              "\n",
              "    .dataframe tbody tr th {\n",
              "        vertical-align: top;\n",
              "    }\n",
              "\n",
              "    .dataframe thead th {\n",
              "        text-align: right;\n",
              "    }\n",
              "</style>\n",
              "<table border=\"1\" class=\"dataframe\">\n",
              "  <thead>\n",
              "    <tr style=\"text-align: right;\">\n",
              "      <th></th>\n",
              "      <th>coef</th>\n",
              "    </tr>\n",
              "  </thead>\n",
              "  <tbody>\n",
              "    <tr>\n",
              "      <th>Fair or Poor</th>\n",
              "      <td>1.053366</td>\n",
              "    </tr>\n",
              "    <tr>\n",
              "      <th>do not know</th>\n",
              "      <td>0.975238</td>\n",
              "    </tr>\n",
              "    <tr>\n",
              "      <th>Good or Better</th>\n",
              "      <td>0.973443</td>\n",
              "    </tr>\n",
              "  </tbody>\n",
              "</table>\n",
              "</div>"
            ],
            "text/plain": [
              "                    coef\n",
              "Fair or Poor    1.053366\n",
              "do not know     0.975238\n",
              "Good or Better  0.973443"
            ]
          },
          "metadata": {
            "tags": []
          },
          "execution_count": 83
        }
      ]
    },
    {
      "cell_type": "code",
      "metadata": {
        "id": "xJIdXnpizm-h",
        "outputId": "a01f0ddd-212b-4b5a-a20c-3252712a8626",
        "colab": {
          "base_uri": "https://localhost:8080/",
          "height": 197
        }
      },
      "source": [
        "# got information about converting odds from https://towardsdatascience.com/interpreting-coefficients-in-linear-and-logistic-regression-6ddf1295f6f1\n",
        "\n",
        "# getting the coefficient for each smoker class\n",
        "coef_dk = ace_smoker_lr.coef_[0]\n",
        "coef_everyday = ace_smoker_lr.coef_[1]\n",
        "coef_somedays = ace_smoker_lr.coef_[2]\n",
        "coef_former = ace_smoker_lr.coef_[3]\n",
        "coef_never = ace_smoker_lr.coef_[4]\n",
        "\n",
        "# converting the log odds for each smoker class into regular odds for interpretation\n",
        "odds_dk = np.exp(coef_dk)\n",
        "odds_everyday = np.exp(coef_everyday)\n",
        "odds_somedays = np.exp(coef_somedays)\n",
        "odds_former = np.exp(coef_former)\n",
        "odds_never = np.exp(coef_never)\n",
        "\n",
        "# putting converted odds into a dataframe\n",
        "smoker_coefs = pd.DataFrame([odds_dk, odds_everyday, odds_somedays, odds_former, odds_never], \n",
        "             index=['do not know', 'every day', 'some days', 'former', 'never'], \n",
        "             columns=['coef'])\\\n",
        "            .sort_values(by='coef', ascending=False)\n",
        "smoker_coefs"
      ],
      "execution_count": 84,
      "outputs": [
        {
          "output_type": "execute_result",
          "data": {
            "text/html": [
              "<div>\n",
              "<style scoped>\n",
              "    .dataframe tbody tr th:only-of-type {\n",
              "        vertical-align: middle;\n",
              "    }\n",
              "\n",
              "    .dataframe tbody tr th {\n",
              "        vertical-align: top;\n",
              "    }\n",
              "\n",
              "    .dataframe thead th {\n",
              "        text-align: right;\n",
              "    }\n",
              "</style>\n",
              "<table border=\"1\" class=\"dataframe\">\n",
              "  <thead>\n",
              "    <tr style=\"text-align: right;\">\n",
              "      <th></th>\n",
              "      <th>coef</th>\n",
              "    </tr>\n",
              "  </thead>\n",
              "  <tbody>\n",
              "    <tr>\n",
              "      <th>every day</th>\n",
              "      <td>1.117938</td>\n",
              "    </tr>\n",
              "    <tr>\n",
              "      <th>some days</th>\n",
              "      <td>1.087797</td>\n",
              "    </tr>\n",
              "    <tr>\n",
              "      <th>former</th>\n",
              "      <td>1.012040</td>\n",
              "    </tr>\n",
              "    <tr>\n",
              "      <th>never</th>\n",
              "      <td>0.946684</td>\n",
              "    </tr>\n",
              "    <tr>\n",
              "      <th>do not know</th>\n",
              "      <td>0.858285</td>\n",
              "    </tr>\n",
              "  </tbody>\n",
              "</table>\n",
              "</div>"
            ],
            "text/plain": [
              "                 coef\n",
              "every day    1.117938\n",
              "some days    1.087797\n",
              "former       1.012040\n",
              "never        0.946684\n",
              "do not know  0.858285"
            ]
          },
          "metadata": {
            "tags": []
          },
          "execution_count": 84
        }
      ]
    },
    {
      "cell_type": "code",
      "metadata": {
        "id": "QmZ2foIynFMJ"
      },
      "source": [
        "def coef_interpret(data):\n",
        "\n",
        "  '''Function to interpret multiclass logistic regression coefficients. \n",
        "  Coefficient interpretation guidance came from http://www.columbia.edu/~so33/SusDev/Lecture_10.pdf\n",
        "\n",
        "  data: a dataframe that only includes y classes, as an index, on only coefficients for each class\n",
        "\n",
        "  '''\n",
        "  for response, row in zip(data.index, data['coef']):\n",
        "    if row > 1:\n",
        "      print(f'For every one-unit increase in the number of ACEs someone has, the odds that a person is in the {response} class INCREASES by {(row - 1)*100}% when all other variables are held constant.')\n",
        "    else:\n",
        "      print(f'For every one-unit increase in the number of ACEs someone has, the odds that a person is in the {response} class DECREASES by {(1-row)*100}% when all other variables are held constant.')\n",
        "  return"
      ],
      "execution_count": 85,
      "outputs": []
    },
    {
      "cell_type": "code",
      "metadata": {
        "id": "tMBJOiWpJ9Sc",
        "outputId": "f1102b8a-d980-4e28-8d6b-b550c32c0512",
        "colab": {
          "base_uri": "https://localhost:8080/"
        }
      },
      "source": [
        "print(f'Do you currently use chewing tobacco, snuff, or snus every day, some days, or not at all?')\n",
        "coef_interpret(tobacco_coefs)"
      ],
      "execution_count": 86,
      "outputs": [
        {
          "output_type": "stream",
          "text": [
            "Do you currently use chewing tobacco, snuff, or snus every day, some days, or not at all?\n",
            "For every one-unit increase in the number of ACEs someone has, the odds that a person is in the some days class INCREASES by 23.96998826360548% when all other variables are held constant.\n",
            "For every one-unit increase in the number of ACEs someone has, the odds that a person is in the every day class INCREASES by 21.13557934535446% when all other variables are held constant.\n",
            "For every one-unit increase in the number of ACEs someone has, the odds that a person is in the not at all class INCREASES by 19.222936781581957% when all other variables are held constant.\n",
            "For every one-unit increase in the number of ACEs someone has, the odds that a person is in the do not know class DECREASES by 44.14630569630712% when all other variables are held constant.\n"
          ],
          "name": "stdout"
        }
      ]
    },
    {
      "cell_type": "code",
      "metadata": {
        "id": "rn7nKGX2IBos",
        "outputId": "344e91f6-5700-439a-cc28-32eab6f4927b",
        "colab": {
          "base_uri": "https://localhost:8080/"
        }
      },
      "source": [
        "print(f'Are you limited in any way in any activities because of physical, mental, or emotional problems?')\n",
        "coef_interpret(activity_coefs)"
      ],
      "execution_count": 87,
      "outputs": [
        {
          "output_type": "stream",
          "text": [
            "Are you limited in any way in any activities because of physical, mental, or emotional problems?\n",
            "For every one-unit increase in the number of ACEs someone has, the odds that a person is in the yes class INCREASES by 7.95519333174215% when all other variables are held constant.\n",
            "For every one-unit increase in the number of ACEs someone has, the odds that a person is in the no class DECREASES by 2.2401451724557764% when all other variables are held constant.\n",
            "For every one-unit increase in the number of ACEs someone has, the odds that a person is in the do not know class DECREASES by 5.246357826538361% when all other variables are held constant.\n"
          ],
          "name": "stdout"
        }
      ]
    },
    {
      "cell_type": "code",
      "metadata": {
        "id": "UTVoKNEvICEg",
        "outputId": "749b20ec-ee5f-4744-c9cf-457342675584",
        "colab": {
          "base_uri": "https://localhost:8080/"
        }
      },
      "source": [
        "print(f'Adults with good or better health vs. fair or poor health')\n",
        "coef_interpret(health_coefs)"
      ],
      "execution_count": 88,
      "outputs": [
        {
          "output_type": "stream",
          "text": [
            "Adults with good or better health vs. fair or poor health\n",
            "For every one-unit increase in the number of ACEs someone has, the odds that a person is in the Fair or Poor class INCREASES by 5.336561180571686% when all other variables are held constant.\n",
            "For every one-unit increase in the number of ACEs someone has, the odds that a person is in the do not know class DECREASES by 2.4762373158712214% when all other variables are held constant.\n",
            "For every one-unit increase in the number of ACEs someone has, the odds that a person is in the Good or Better class DECREASES by 2.655725040518031% when all other variables are held constant.\n"
          ],
          "name": "stdout"
        }
      ]
    },
    {
      "cell_type": "code",
      "metadata": {
        "id": "qmn93yQGICL6",
        "outputId": "4d0f326e-11f4-4058-b004-590323ac631c",
        "colab": {
          "base_uri": "https://localhost:8080/"
        }
      },
      "source": [
        "print(f'Four-level smoker status: Every day smokers, Some days smokers, Former smokers, Non-smokers')\n",
        "coef_interpret(smoker_coefs)"
      ],
      "execution_count": 89,
      "outputs": [
        {
          "output_type": "stream",
          "text": [
            "Four-level smoker status: Every day smokers, Some days smokers, Former smokers, Non-smokers\n",
            "For every one-unit increase in the number of ACEs someone has, the odds that a person is in the every day class INCREASES by 11.793819939463312% when all other variables are held constant.\n",
            "For every one-unit increase in the number of ACEs someone has, the odds that a person is in the some days class INCREASES by 8.779749711025286% when all other variables are held constant.\n",
            "For every one-unit increase in the number of ACEs someone has, the odds that a person is in the former class INCREASES by 1.203966667524825% when all other variables are held constant.\n",
            "For every one-unit increase in the number of ACEs someone has, the odds that a person is in the never class DECREASES by 5.331606902778551% when all other variables are held constant.\n",
            "For every one-unit increase in the number of ACEs someone has, the odds that a person is in the do not know class DECREASES by 14.171483039763288% when all other variables are held constant.\n"
          ],
          "name": "stdout"
        }
      ]
    },
    {
      "cell_type": "code",
      "metadata": {
        "id": "1bfiP0-aX0aQ"
      },
      "source": [
        ""
      ],
      "execution_count": null,
      "outputs": []
    }
  ]
}