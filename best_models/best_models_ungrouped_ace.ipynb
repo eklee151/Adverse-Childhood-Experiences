{
  "nbformat": 4,
  "nbformat_minor": 0,
  "metadata": {
    "colab": {
      "name": "best_models_ungrouped_ace.ipynb",
      "provenance": [],
      "collapsed_sections": [],
      "machine_shape": "hm"
    },
    "kernelspec": {
      "display_name": "Python 3",
      "language": "python",
      "name": "python3"
    },
    "language_info": {
      "codemirror_mode": {
        "name": "ipython",
        "version": 3
      },
      "file_extension": ".py",
      "mimetype": "text/x-python",
      "name": "python",
      "nbconvert_exporter": "python",
      "pygments_lexer": "ipython3",
      "version": "3.8.3"
    }
  },
  "cells": [
    {
      "cell_type": "code",
      "metadata": {
        "id": "oP7odWthG8Jh",
        "outputId": "95852000-480f-4527-d2e8-70a46ce6b0fe",
        "colab": {
          "base_uri": "https://localhost:8080/"
        }
      },
      "source": [
        "from psutil import virtual_memory\n",
        "ram_gb = virtual_memory().total / 1e9\n",
        "print('Your runtime has {:.1f} gigabytes of available RAM\\n'.format(ram_gb))\n",
        "\n",
        "if ram_gb < 20:\n",
        "  print('To enable a high-RAM runtime, select the Runtime > \"Change runtime type\"')\n",
        "  print('menu, and then select High-RAM in the Runtime shape dropdown. Then, ')\n",
        "  print('re-execute this cell.')\n",
        "else:\n",
        "  print('You are using a high-RAM runtime!')"
      ],
      "execution_count": 1,
      "outputs": [
        {
          "output_type": "stream",
          "text": [
            "Your runtime has 27.4 gigabytes of available RAM\n",
            "\n",
            "You are using a high-RAM runtime!\n"
          ],
          "name": "stdout"
        }
      ]
    },
    {
      "cell_type": "code",
      "metadata": {
        "id": "58dN7HsfBJba"
      },
      "source": [
        "import pandas as pd\n",
        "import numpy as np\n",
        "import seaborn as sns\n",
        "import matplotlib.pyplot as plt\n",
        "\n",
        "from sklearn.model_selection import train_test_split\n",
        "from sklearn.feature_selection import SelectKBest, f_classif\n",
        "from sklearn.pipeline import make_pipeline\n",
        "from sklearn.linear_model import LogisticRegression\n",
        "from sklearn.metrics import confusion_matrix, plot_confusion_matrix, precision_score\n",
        "from sklearn.ensemble import RandomForestClassifier, ExtraTreesClassifier, AdaBoostClassifier, GradientBoostingClassifier\n",
        "\n",
        "from imblearn.over_sampling import SMOTE\n",
        "\n",
        "import xgboost as xgb\n",
        "\n",
        "import warnings\n",
        "warnings.filterwarnings('ignore')"
      ],
      "execution_count": 3,
      "outputs": []
    },
    {
      "cell_type": "code",
      "metadata": {
        "id": "uI-u7U3xBJbk"
      },
      "source": [
        "# reading in full data set\n",
        "# brfss_total = pd.read_csv(\"../csv_data/brfss_total.csv\")\n",
        "brfss_total = pd.read_csv(\"./brfss_total.csv\")"
      ],
      "execution_count": 4,
      "outputs": []
    },
    {
      "cell_type": "code",
      "metadata": {
        "id": "XPTL7V4PBJbo",
        "outputId": "95d12fe3-88db-422a-edbd-e1d1ffdb7a8f",
        "colab": {
          "base_uri": "https://localhost:8080/",
          "height": 234
        }
      },
      "source": [
        "brfss_total.head()"
      ],
      "execution_count": 5,
      "outputs": [
        {
          "output_type": "execute_result",
          "data": {
            "text/html": [
              "<div>\n",
              "<style scoped>\n",
              "    .dataframe tbody tr th:only-of-type {\n",
              "        vertical-align: middle;\n",
              "    }\n",
              "\n",
              "    .dataframe tbody tr th {\n",
              "        vertical-align: top;\n",
              "    }\n",
              "\n",
              "    .dataframe thead th {\n",
              "        text-align: right;\n",
              "    }\n",
              "</style>\n",
              "<table border=\"1\" class=\"dataframe\">\n",
              "  <thead>\n",
              "    <tr style=\"text-align: right;\">\n",
              "      <th></th>\n",
              "      <th>Unnamed: 0</th>\n",
              "      <th>_STATE</th>\n",
              "      <th>DISPCODE</th>\n",
              "      <th>PHYSHLTH</th>\n",
              "      <th>MENTHLTH</th>\n",
              "      <th>USENOW3</th>\n",
              "      <th>HISPANC2</th>\n",
              "      <th>MARITAL</th>\n",
              "      <th>CHILDREN</th>\n",
              "      <th>EMPLOY</th>\n",
              "      <th>RENTHOM1</th>\n",
              "      <th>SEX</th>\n",
              "      <th>QLACTLM2</th>\n",
              "      <th>ACEDEPRS</th>\n",
              "      <th>ACEDRINK</th>\n",
              "      <th>ACEDRUGS</th>\n",
              "      <th>ACEPRISN</th>\n",
              "      <th>ACEDIVRC</th>\n",
              "      <th>ACEPUNCH</th>\n",
              "      <th>ACEHURT</th>\n",
              "      <th>ACESWEAR</th>\n",
              "      <th>ACETOUCH</th>\n",
              "      <th>ACETTHEM</th>\n",
              "      <th>ACEHVSEX</th>\n",
              "      <th>MSCODE</th>\n",
              "      <th>_IMPAGE</th>\n",
              "      <th>_RFHLTH</th>\n",
              "      <th>_SMOKER3</th>\n",
              "      <th>_PRACE</th>\n",
              "      <th>_EDUCAG</th>\n",
              "      <th>_INCOMG</th>\n",
              "      <th>_TOTINDA</th>\n",
              "    </tr>\n",
              "  </thead>\n",
              "  <tbody>\n",
              "    <tr>\n",
              "      <th>0</th>\n",
              "      <td>0</td>\n",
              "      <td>5.0</td>\n",
              "      <td>110.0</td>\n",
              "      <td>0.0</td>\n",
              "      <td>0.0</td>\n",
              "      <td>3.0</td>\n",
              "      <td>2.0</td>\n",
              "      <td>1.0</td>\n",
              "      <td>1.0</td>\n",
              "      <td>2.0</td>\n",
              "      <td>0.0</td>\n",
              "      <td>2.0</td>\n",
              "      <td>2.0</td>\n",
              "      <td>2.0</td>\n",
              "      <td>2.0</td>\n",
              "      <td>2.0</td>\n",
              "      <td>2.0</td>\n",
              "      <td>2.0</td>\n",
              "      <td>1.0</td>\n",
              "      <td>1.0</td>\n",
              "      <td>1.0</td>\n",
              "      <td>1.0</td>\n",
              "      <td>1.0</td>\n",
              "      <td>1.0</td>\n",
              "      <td>5.0</td>\n",
              "      <td>53.0</td>\n",
              "      <td>1.0</td>\n",
              "      <td>4.0</td>\n",
              "      <td>1.0</td>\n",
              "      <td>3.0</td>\n",
              "      <td>5.0</td>\n",
              "      <td>1.0</td>\n",
              "    </tr>\n",
              "    <tr>\n",
              "      <th>1</th>\n",
              "      <td>1</td>\n",
              "      <td>5.0</td>\n",
              "      <td>110.0</td>\n",
              "      <td>15.0</td>\n",
              "      <td>0.0</td>\n",
              "      <td>3.0</td>\n",
              "      <td>2.0</td>\n",
              "      <td>2.0</td>\n",
              "      <td>0.0</td>\n",
              "      <td>0.0</td>\n",
              "      <td>0.0</td>\n",
              "      <td>1.0</td>\n",
              "      <td>2.0</td>\n",
              "      <td>2.0</td>\n",
              "      <td>1.0</td>\n",
              "      <td>2.0</td>\n",
              "      <td>2.0</td>\n",
              "      <td>2.0</td>\n",
              "      <td>1.0</td>\n",
              "      <td>1.0</td>\n",
              "      <td>3.0</td>\n",
              "      <td>1.0</td>\n",
              "      <td>1.0</td>\n",
              "      <td>1.0</td>\n",
              "      <td>5.0</td>\n",
              "      <td>64.0</td>\n",
              "      <td>2.0</td>\n",
              "      <td>3.0</td>\n",
              "      <td>1.0</td>\n",
              "      <td>2.0</td>\n",
              "      <td>2.0</td>\n",
              "      <td>1.0</td>\n",
              "    </tr>\n",
              "    <tr>\n",
              "      <th>2</th>\n",
              "      <td>2</td>\n",
              "      <td>5.0</td>\n",
              "      <td>110.0</td>\n",
              "      <td>6.0</td>\n",
              "      <td>0.0</td>\n",
              "      <td>3.0</td>\n",
              "      <td>2.0</td>\n",
              "      <td>1.0</td>\n",
              "      <td>0.0</td>\n",
              "      <td>0.0</td>\n",
              "      <td>0.0</td>\n",
              "      <td>1.0</td>\n",
              "      <td>1.0</td>\n",
              "      <td>2.0</td>\n",
              "      <td>2.0</td>\n",
              "      <td>2.0</td>\n",
              "      <td>2.0</td>\n",
              "      <td>2.0</td>\n",
              "      <td>1.0</td>\n",
              "      <td>1.0</td>\n",
              "      <td>1.0</td>\n",
              "      <td>1.0</td>\n",
              "      <td>1.0</td>\n",
              "      <td>1.0</td>\n",
              "      <td>5.0</td>\n",
              "      <td>58.0</td>\n",
              "      <td>1.0</td>\n",
              "      <td>4.0</td>\n",
              "      <td>1.0</td>\n",
              "      <td>3.0</td>\n",
              "      <td>2.0</td>\n",
              "      <td>1.0</td>\n",
              "    </tr>\n",
              "    <tr>\n",
              "      <th>3</th>\n",
              "      <td>3</td>\n",
              "      <td>5.0</td>\n",
              "      <td>110.0</td>\n",
              "      <td>30.0</td>\n",
              "      <td>0.0</td>\n",
              "      <td>3.0</td>\n",
              "      <td>2.0</td>\n",
              "      <td>1.0</td>\n",
              "      <td>0.0</td>\n",
              "      <td>0.0</td>\n",
              "      <td>0.0</td>\n",
              "      <td>2.0</td>\n",
              "      <td>1.0</td>\n",
              "      <td>2.0</td>\n",
              "      <td>2.0</td>\n",
              "      <td>2.0</td>\n",
              "      <td>2.0</td>\n",
              "      <td>2.0</td>\n",
              "      <td>1.0</td>\n",
              "      <td>1.0</td>\n",
              "      <td>1.0</td>\n",
              "      <td>1.0</td>\n",
              "      <td>1.0</td>\n",
              "      <td>1.0</td>\n",
              "      <td>5.0</td>\n",
              "      <td>76.0</td>\n",
              "      <td>2.0</td>\n",
              "      <td>4.0</td>\n",
              "      <td>1.0</td>\n",
              "      <td>1.0</td>\n",
              "      <td>0.0</td>\n",
              "      <td>2.0</td>\n",
              "    </tr>\n",
              "    <tr>\n",
              "      <th>4</th>\n",
              "      <td>4</td>\n",
              "      <td>5.0</td>\n",
              "      <td>110.0</td>\n",
              "      <td>13.0</td>\n",
              "      <td>0.0</td>\n",
              "      <td>3.0</td>\n",
              "      <td>2.0</td>\n",
              "      <td>3.0</td>\n",
              "      <td>0.0</td>\n",
              "      <td>0.0</td>\n",
              "      <td>0.0</td>\n",
              "      <td>2.0</td>\n",
              "      <td>2.0</td>\n",
              "      <td>2.0</td>\n",
              "      <td>2.0</td>\n",
              "      <td>2.0</td>\n",
              "      <td>2.0</td>\n",
              "      <td>2.0</td>\n",
              "      <td>1.0</td>\n",
              "      <td>1.0</td>\n",
              "      <td>1.0</td>\n",
              "      <td>1.0</td>\n",
              "      <td>1.0</td>\n",
              "      <td>0.0</td>\n",
              "      <td>5.0</td>\n",
              "      <td>82.0</td>\n",
              "      <td>2.0</td>\n",
              "      <td>3.0</td>\n",
              "      <td>1.0</td>\n",
              "      <td>2.0</td>\n",
              "      <td>0.0</td>\n",
              "      <td>2.0</td>\n",
              "    </tr>\n",
              "  </tbody>\n",
              "</table>\n",
              "</div>"
            ],
            "text/plain": [
              "   Unnamed: 0  _STATE  DISPCODE  PHYSHLTH  ...  _PRACE  _EDUCAG  _INCOMG  _TOTINDA\n",
              "0           0     5.0     110.0       0.0  ...     1.0      3.0      5.0       1.0\n",
              "1           1     5.0     110.0      15.0  ...     1.0      2.0      2.0       1.0\n",
              "2           2     5.0     110.0       6.0  ...     1.0      3.0      2.0       1.0\n",
              "3           3     5.0     110.0      30.0  ...     1.0      1.0      0.0       2.0\n",
              "4           4     5.0     110.0      13.0  ...     1.0      2.0      0.0       2.0\n",
              "\n",
              "[5 rows x 32 columns]"
            ]
          },
          "metadata": {
            "tags": []
          },
          "execution_count": 5
        }
      ]
    },
    {
      "cell_type": "code",
      "metadata": {
        "id": "dEtvuHYkBJbv",
        "outputId": "dc486334-d847-4e3a-b47e-b29f76be67cc",
        "colab": {
          "base_uri": "https://localhost:8080/"
        }
      },
      "source": [
        "# just making sure no nulls are present\n",
        "brfss_total.info()"
      ],
      "execution_count": 6,
      "outputs": [
        {
          "output_type": "stream",
          "text": [
            "<class 'pandas.core.frame.DataFrame'>\n",
            "RangeIndex: 117555 entries, 0 to 117554\n",
            "Data columns (total 32 columns):\n",
            " #   Column      Non-Null Count   Dtype  \n",
            "---  ------      --------------   -----  \n",
            " 0   Unnamed: 0  117555 non-null  int64  \n",
            " 1   _STATE      117555 non-null  float64\n",
            " 2   DISPCODE    117555 non-null  float64\n",
            " 3   PHYSHLTH    117555 non-null  float64\n",
            " 4   MENTHLTH    117555 non-null  float64\n",
            " 5   USENOW3     117555 non-null  float64\n",
            " 6   HISPANC2    117555 non-null  float64\n",
            " 7   MARITAL     117555 non-null  float64\n",
            " 8   CHILDREN    117555 non-null  float64\n",
            " 9   EMPLOY      117555 non-null  float64\n",
            " 10  RENTHOM1    117555 non-null  float64\n",
            " 11  SEX         117555 non-null  float64\n",
            " 12  QLACTLM2    117555 non-null  float64\n",
            " 13  ACEDEPRS    117555 non-null  float64\n",
            " 14  ACEDRINK    117555 non-null  float64\n",
            " 15  ACEDRUGS    117555 non-null  float64\n",
            " 16  ACEPRISN    117555 non-null  float64\n",
            " 17  ACEDIVRC    117555 non-null  float64\n",
            " 18  ACEPUNCH    117555 non-null  float64\n",
            " 19  ACEHURT     117555 non-null  float64\n",
            " 20  ACESWEAR    117555 non-null  float64\n",
            " 21  ACETOUCH    117555 non-null  float64\n",
            " 22  ACETTHEM    117555 non-null  float64\n",
            " 23  ACEHVSEX    117555 non-null  float64\n",
            " 24  MSCODE      117555 non-null  float64\n",
            " 25  _IMPAGE     117555 non-null  float64\n",
            " 26  _RFHLTH     117555 non-null  float64\n",
            " 27  _SMOKER3    117555 non-null  float64\n",
            " 28  _PRACE      117555 non-null  float64\n",
            " 29  _EDUCAG     117555 non-null  float64\n",
            " 30  _INCOMG     117555 non-null  float64\n",
            " 31  _TOTINDA    117555 non-null  float64\n",
            "dtypes: float64(31), int64(1)\n",
            "memory usage: 28.7 MB\n"
          ],
          "name": "stdout"
        }
      ]
    },
    {
      "cell_type": "code",
      "metadata": {
        "id": "uWE4xHuFBJb0"
      },
      "source": [
        "brfss_total.drop(columns=['Unnamed: 0'], inplace=True)"
      ],
      "execution_count": 7,
      "outputs": []
    },
    {
      "cell_type": "code",
      "metadata": {
        "id": "PLL2XteABJb6"
      },
      "source": [
        "np.random.seed(151)"
      ],
      "execution_count": 8,
      "outputs": []
    },
    {
      "cell_type": "code",
      "metadata": {
        "id": "ujkwc55EBJb_"
      },
      "source": [
        "# creating X variable with all features\n",
        "X_ace = brfss_total[['ACEDEPRS', 'ACEDRINK', 'ACEDRUGS', 'ACEPRISN', 'ACEDIVRC', 'ACEPUNCH', 'ACEHURT', 'ACESWEAR', \n",
        "                       'ACETOUCH', 'ACETTHEM', 'ACEHVSEX']]"
      ],
      "execution_count": 9,
      "outputs": []
    },
    {
      "cell_type": "code",
      "metadata": {
        "id": "kBST9-j8BJcC"
      },
      "source": [
        "# creating the 4 y's\n",
        "y_tobacco = brfss_total['USENOW3']\n",
        "y_activity = brfss_total['QLACTLM2']\n",
        "y_health = brfss_total['_RFHLTH']\n",
        "y_smoker = brfss_total['_SMOKER3']"
      ],
      "execution_count": 10,
      "outputs": []
    },
    {
      "cell_type": "code",
      "metadata": {
        "id": "pxaLdYlaBJcH",
        "outputId": "b13bb1ec-413a-4aaf-8105-3f0920aa34c3",
        "colab": {
          "base_uri": "https://localhost:8080/"
        }
      },
      "source": [
        "#original baseline for tobacco\n",
        "y_tobacco.value_counts(normalize=True)"
      ],
      "execution_count": 11,
      "outputs": [
        {
          "output_type": "execute_result",
          "data": {
            "text/plain": [
              "3.0    0.966560\n",
              "1.0    0.017872\n",
              "2.0    0.012990\n",
              "0.0    0.002578\n",
              "Name: USENOW3, dtype: float64"
            ]
          },
          "metadata": {
            "tags": []
          },
          "execution_count": 11
        }
      ]
    },
    {
      "cell_type": "code",
      "metadata": {
        "id": "7jhgGYJVBJcK",
        "outputId": "ee931ba3-bb2d-494a-911a-cbe9ec53e37c",
        "colab": {
          "base_uri": "https://localhost:8080/"
        }
      },
      "source": [
        "#original baseline for activity\n",
        "y_activity.value_counts(normalize=True)"
      ],
      "execution_count": 12,
      "outputs": [
        {
          "output_type": "execute_result",
          "data": {
            "text/plain": [
              "2.0    0.724520\n",
              "1.0    0.268997\n",
              "0.0    0.006482\n",
              "Name: QLACTLM2, dtype: float64"
            ]
          },
          "metadata": {
            "tags": []
          },
          "execution_count": 12
        }
      ]
    },
    {
      "cell_type": "code",
      "metadata": {
        "id": "rz03nD_OBJcO",
        "outputId": "585eab3b-b040-4445-c9dd-307e66db36ee",
        "colab": {
          "base_uri": "https://localhost:8080/"
        }
      },
      "source": [
        "#original baseline for health\n",
        "y_health.value_counts(normalize=True)"
      ],
      "execution_count": 13,
      "outputs": [
        {
          "output_type": "execute_result",
          "data": {
            "text/plain": [
              "1.0    0.814742\n",
              "2.0    0.181991\n",
              "0.0    0.003267\n",
              "Name: _RFHLTH, dtype: float64"
            ]
          },
          "metadata": {
            "tags": []
          },
          "execution_count": 13
        }
      ]
    },
    {
      "cell_type": "code",
      "metadata": {
        "id": "6fkW-YfuBJcT",
        "outputId": "fb267100-6173-4cb1-83ea-c74715e04047",
        "colab": {
          "base_uri": "https://localhost:8080/"
        }
      },
      "source": [
        "#original baseline for smoker\n",
        "y_smoker.value_counts(normalize=True)"
      ],
      "execution_count": 14,
      "outputs": [
        {
          "output_type": "execute_result",
          "data": {
            "text/plain": [
              "4.0    0.521569\n",
              "3.0    0.308324\n",
              "1.0    0.119604\n",
              "2.0    0.044226\n",
              "0.0    0.006278\n",
              "Name: _SMOKER3, dtype: float64"
            ]
          },
          "metadata": {
            "tags": []
          },
          "execution_count": 14
        }
      ]
    },
    {
      "cell_type": "code",
      "metadata": {
        "id": "c76WQIICBJci"
      },
      "source": [
        "# turning the nominal columns into strings so they can be dummified\n",
        "X_ace = X_ace.astype(str)"
      ],
      "execution_count": 15,
      "outputs": []
    },
    {
      "cell_type": "code",
      "metadata": {
        "id": "b_vTQmrlBJcm",
        "outputId": "c9d5eaa4-c544-4fb4-d75c-3b2d375a726d",
        "colab": {
          "base_uri": "https://localhost:8080/",
          "height": 217
        }
      },
      "source": [
        "# dummifying nominal variables for X_all\n",
        "X_ace = pd.get_dummies(X_ace, drop_first=True)\n",
        "X_ace.head()"
      ],
      "execution_count": 16,
      "outputs": [
        {
          "output_type": "execute_result",
          "data": {
            "text/html": [
              "<div>\n",
              "<style scoped>\n",
              "    .dataframe tbody tr th:only-of-type {\n",
              "        vertical-align: middle;\n",
              "    }\n",
              "\n",
              "    .dataframe tbody tr th {\n",
              "        vertical-align: top;\n",
              "    }\n",
              "\n",
              "    .dataframe thead th {\n",
              "        text-align: right;\n",
              "    }\n",
              "</style>\n",
              "<table border=\"1\" class=\"dataframe\">\n",
              "  <thead>\n",
              "    <tr style=\"text-align: right;\">\n",
              "      <th></th>\n",
              "      <th>ACEDEPRS_1.0</th>\n",
              "      <th>ACEDEPRS_2.0</th>\n",
              "      <th>ACEDRINK_1.0</th>\n",
              "      <th>ACEDRINK_2.0</th>\n",
              "      <th>ACEDRUGS_1.0</th>\n",
              "      <th>ACEDRUGS_2.0</th>\n",
              "      <th>ACEPRISN_1.0</th>\n",
              "      <th>ACEPRISN_2.0</th>\n",
              "      <th>ACEDIVRC_1.0</th>\n",
              "      <th>ACEDIVRC_2.0</th>\n",
              "      <th>ACEPUNCH_1.0</th>\n",
              "      <th>ACEPUNCH_2.0</th>\n",
              "      <th>ACEPUNCH_3.0</th>\n",
              "      <th>ACEHURT_1.0</th>\n",
              "      <th>ACEHURT_2.0</th>\n",
              "      <th>ACEHURT_3.0</th>\n",
              "      <th>ACESWEAR_1.0</th>\n",
              "      <th>ACESWEAR_2.0</th>\n",
              "      <th>ACESWEAR_3.0</th>\n",
              "      <th>ACETOUCH_1.0</th>\n",
              "      <th>ACETOUCH_2.0</th>\n",
              "      <th>ACETOUCH_3.0</th>\n",
              "      <th>ACETTHEM_1.0</th>\n",
              "      <th>ACETTHEM_2.0</th>\n",
              "      <th>ACETTHEM_3.0</th>\n",
              "      <th>ACEHVSEX_1.0</th>\n",
              "      <th>ACEHVSEX_2.0</th>\n",
              "      <th>ACEHVSEX_3.0</th>\n",
              "    </tr>\n",
              "  </thead>\n",
              "  <tbody>\n",
              "    <tr>\n",
              "      <th>0</th>\n",
              "      <td>0</td>\n",
              "      <td>1</td>\n",
              "      <td>0</td>\n",
              "      <td>1</td>\n",
              "      <td>0</td>\n",
              "      <td>1</td>\n",
              "      <td>0</td>\n",
              "      <td>1</td>\n",
              "      <td>0</td>\n",
              "      <td>1</td>\n",
              "      <td>1</td>\n",
              "      <td>0</td>\n",
              "      <td>0</td>\n",
              "      <td>1</td>\n",
              "      <td>0</td>\n",
              "      <td>0</td>\n",
              "      <td>1</td>\n",
              "      <td>0</td>\n",
              "      <td>0</td>\n",
              "      <td>1</td>\n",
              "      <td>0</td>\n",
              "      <td>0</td>\n",
              "      <td>1</td>\n",
              "      <td>0</td>\n",
              "      <td>0</td>\n",
              "      <td>1</td>\n",
              "      <td>0</td>\n",
              "      <td>0</td>\n",
              "    </tr>\n",
              "    <tr>\n",
              "      <th>1</th>\n",
              "      <td>0</td>\n",
              "      <td>1</td>\n",
              "      <td>1</td>\n",
              "      <td>0</td>\n",
              "      <td>0</td>\n",
              "      <td>1</td>\n",
              "      <td>0</td>\n",
              "      <td>1</td>\n",
              "      <td>0</td>\n",
              "      <td>1</td>\n",
              "      <td>1</td>\n",
              "      <td>0</td>\n",
              "      <td>0</td>\n",
              "      <td>1</td>\n",
              "      <td>0</td>\n",
              "      <td>0</td>\n",
              "      <td>0</td>\n",
              "      <td>0</td>\n",
              "      <td>1</td>\n",
              "      <td>1</td>\n",
              "      <td>0</td>\n",
              "      <td>0</td>\n",
              "      <td>1</td>\n",
              "      <td>0</td>\n",
              "      <td>0</td>\n",
              "      <td>1</td>\n",
              "      <td>0</td>\n",
              "      <td>0</td>\n",
              "    </tr>\n",
              "    <tr>\n",
              "      <th>2</th>\n",
              "      <td>0</td>\n",
              "      <td>1</td>\n",
              "      <td>0</td>\n",
              "      <td>1</td>\n",
              "      <td>0</td>\n",
              "      <td>1</td>\n",
              "      <td>0</td>\n",
              "      <td>1</td>\n",
              "      <td>0</td>\n",
              "      <td>1</td>\n",
              "      <td>1</td>\n",
              "      <td>0</td>\n",
              "      <td>0</td>\n",
              "      <td>1</td>\n",
              "      <td>0</td>\n",
              "      <td>0</td>\n",
              "      <td>1</td>\n",
              "      <td>0</td>\n",
              "      <td>0</td>\n",
              "      <td>1</td>\n",
              "      <td>0</td>\n",
              "      <td>0</td>\n",
              "      <td>1</td>\n",
              "      <td>0</td>\n",
              "      <td>0</td>\n",
              "      <td>1</td>\n",
              "      <td>0</td>\n",
              "      <td>0</td>\n",
              "    </tr>\n",
              "    <tr>\n",
              "      <th>3</th>\n",
              "      <td>0</td>\n",
              "      <td>1</td>\n",
              "      <td>0</td>\n",
              "      <td>1</td>\n",
              "      <td>0</td>\n",
              "      <td>1</td>\n",
              "      <td>0</td>\n",
              "      <td>1</td>\n",
              "      <td>0</td>\n",
              "      <td>1</td>\n",
              "      <td>1</td>\n",
              "      <td>0</td>\n",
              "      <td>0</td>\n",
              "      <td>1</td>\n",
              "      <td>0</td>\n",
              "      <td>0</td>\n",
              "      <td>1</td>\n",
              "      <td>0</td>\n",
              "      <td>0</td>\n",
              "      <td>1</td>\n",
              "      <td>0</td>\n",
              "      <td>0</td>\n",
              "      <td>1</td>\n",
              "      <td>0</td>\n",
              "      <td>0</td>\n",
              "      <td>1</td>\n",
              "      <td>0</td>\n",
              "      <td>0</td>\n",
              "    </tr>\n",
              "    <tr>\n",
              "      <th>4</th>\n",
              "      <td>0</td>\n",
              "      <td>1</td>\n",
              "      <td>0</td>\n",
              "      <td>1</td>\n",
              "      <td>0</td>\n",
              "      <td>1</td>\n",
              "      <td>0</td>\n",
              "      <td>1</td>\n",
              "      <td>0</td>\n",
              "      <td>1</td>\n",
              "      <td>1</td>\n",
              "      <td>0</td>\n",
              "      <td>0</td>\n",
              "      <td>1</td>\n",
              "      <td>0</td>\n",
              "      <td>0</td>\n",
              "      <td>1</td>\n",
              "      <td>0</td>\n",
              "      <td>0</td>\n",
              "      <td>1</td>\n",
              "      <td>0</td>\n",
              "      <td>0</td>\n",
              "      <td>1</td>\n",
              "      <td>0</td>\n",
              "      <td>0</td>\n",
              "      <td>0</td>\n",
              "      <td>0</td>\n",
              "      <td>0</td>\n",
              "    </tr>\n",
              "  </tbody>\n",
              "</table>\n",
              "</div>"
            ],
            "text/plain": [
              "   ACEDEPRS_1.0  ACEDEPRS_2.0  ...  ACEHVSEX_2.0  ACEHVSEX_3.0\n",
              "0             0             1  ...             0             0\n",
              "1             0             1  ...             0             0\n",
              "2             0             1  ...             0             0\n",
              "3             0             1  ...             0             0\n",
              "4             0             1  ...             0             0\n",
              "\n",
              "[5 rows x 28 columns]"
            ]
          },
          "metadata": {
            "tags": []
          },
          "execution_count": 16
        }
      ]
    },
    {
      "cell_type": "code",
      "metadata": {
        "id": "R6X7qLS8BJcx",
        "outputId": "48512bea-793e-4159-8e81-b3bb15fe897a",
        "colab": {
          "base_uri": "https://localhost:8080/"
        }
      },
      "source": [
        "X_ace.shape"
      ],
      "execution_count": 17,
      "outputs": [
        {
          "output_type": "execute_result",
          "data": {
            "text/plain": [
              "(117555, 28)"
            ]
          },
          "metadata": {
            "tags": []
          },
          "execution_count": 17
        }
      ]
    },
    {
      "cell_type": "code",
      "metadata": {
        "id": "6D70beubBJc0"
      },
      "source": [
        "# to compensate for unbalanced classes in my y's will use SMOTE\n",
        "\n",
        "sm = SMOTE(random_state=151)\n",
        "X_ace1, y_tobacco = sm.fit_resample(X_ace, y_tobacco)\n",
        "\n",
        "sm2 = SMOTE(random_state=151)\n",
        "X_ace2, y_activity = sm2.fit_resample(X_ace, y_activity)\n",
        "\n",
        "sm3 = SMOTE(random_state=151)\n",
        "X_ace3, y_health = sm3.fit_resample(X_ace, y_health)\n",
        "\n",
        "sm4 = SMOTE(random_state=151)\n",
        "X_ace4, y_smoker = sm4.fit_resample(X_ace, y_smoker)"
      ],
      "execution_count": 18,
      "outputs": []
    },
    {
      "cell_type": "code",
      "metadata": {
        "id": "fR_dMNR0hYQR"
      },
      "source": [
        "#y_tobacco.value_counts(normalize=True)"
      ],
      "execution_count": 20,
      "outputs": []
    },
    {
      "cell_type": "code",
      "metadata": {
        "id": "bL1Wj1CIhYdc"
      },
      "source": [
        "#y_activity.value_counts(normalize=True)"
      ],
      "execution_count": 21,
      "outputs": []
    },
    {
      "cell_type": "code",
      "metadata": {
        "id": "fJkFoCrShYoA"
      },
      "source": [
        "#y_health.value_counts(normalize=True)"
      ],
      "execution_count": 22,
      "outputs": []
    },
    {
      "cell_type": "code",
      "metadata": {
        "id": "utKizj7GhYxx"
      },
      "source": [
        "#y_smoker.value_counts(normalize=True)"
      ],
      "execution_count": 23,
      "outputs": []
    },
    {
      "cell_type": "code",
      "metadata": {
        "id": "NYisqTHTBJdG",
        "outputId": "bc760f45-0b0a-4ff5-eccf-31cd1a9cf4b8",
        "colab": {
          "base_uri": "https://localhost:8080/"
        }
      },
      "source": [
        "# looks like with SMOTE resampling, data set has increased about 4x\n",
        "X_ace1.shape"
      ],
      "execution_count": 24,
      "outputs": [
        {
          "output_type": "execute_result",
          "data": {
            "text/plain": [
              "(454496, 28)"
            ]
          },
          "metadata": {
            "tags": []
          },
          "execution_count": 24
        }
      ]
    },
    {
      "cell_type": "code",
      "metadata": {
        "id": "v03zswnMBJdK"
      },
      "source": [
        "# creating training and testing sets for all y's\n",
        "X_train_ace, X_test_ace, y_train_tobacco, y_test_tobacco = train_test_split(X_ace1, y_tobacco, random_state = 151, stratify=y_tobacco)\n",
        "X_train_ace2, X_test_ace2, y_train_activity, y_test_activity = train_test_split(X_ace2, y_activity, random_state = 151, stratify=y_activity)\n",
        "X_train_ace3, X_test_ace3, y_train_health, y_test_health = train_test_split(X_ace3, y_health, random_state = 151, stratify=y_health)\n",
        "X_train_ace4, X_test_ace4, y_train_smoker, y_test_smoker = train_test_split(X_ace4, y_smoker, random_state = 151, stratify=y_smoker)"
      ],
      "execution_count": 25,
      "outputs": []
    },
    {
      "cell_type": "code",
      "metadata": {
        "id": "7TrnO2g5hOsr",
        "outputId": "0552d283-dd6d-47a3-df31-383ac7a29bd6",
        "colab": {
          "base_uri": "https://localhost:8080/"
        }
      },
      "source": [
        "X_train_ace.shape"
      ],
      "execution_count": 26,
      "outputs": [
        {
          "output_type": "execute_result",
          "data": {
            "text/plain": [
              "(340872, 28)"
            ]
          },
          "metadata": {
            "tags": []
          },
          "execution_count": 26
        }
      ]
    },
    {
      "cell_type": "code",
      "metadata": {
        "id": "eiuJAPDnhCqZ",
        "outputId": "3099c419-9333-4dee-d18a-920142959cb5",
        "colab": {
          "base_uri": "https://localhost:8080/"
        }
      },
      "source": [
        "y_train_tobacco.shape"
      ],
      "execution_count": 27,
      "outputs": [
        {
          "output_type": "execute_result",
          "data": {
            "text/plain": [
              "(340872,)"
            ]
          },
          "metadata": {
            "tags": []
          },
          "execution_count": 27
        }
      ]
    },
    {
      "cell_type": "code",
      "metadata": {
        "id": "3JPv2iTUBJdO",
        "outputId": "62e45cfa-f381-4896-93a5-90b134a68e60",
        "colab": {
          "base_uri": "https://localhost:8080/"
        }
      },
      "source": [
        "ace_tobacco_rfc = RandomForestClassifier(max_depth=None, min_samples_leaf=1, min_samples_split=5, n_estimators=300)\n",
        "ace_tobacco_rfc.fit(X_train_ace, y_train_tobacco)"
      ],
      "execution_count": 29,
      "outputs": [
        {
          "output_type": "execute_result",
          "data": {
            "text/plain": [
              "RandomForestClassifier(bootstrap=True, ccp_alpha=0.0, class_weight=None,\n",
              "                       criterion='gini', max_depth=None, max_features='auto',\n",
              "                       max_leaf_nodes=None, max_samples=None,\n",
              "                       min_impurity_decrease=0.0, min_impurity_split=None,\n",
              "                       min_samples_leaf=1, min_samples_split=5,\n",
              "                       min_weight_fraction_leaf=0.0, n_estimators=300,\n",
              "                       n_jobs=None, oob_score=False, random_state=None,\n",
              "                       verbose=0, warm_start=False)"
            ]
          },
          "metadata": {
            "tags": []
          },
          "execution_count": 29
        }
      ]
    },
    {
      "cell_type": "code",
      "metadata": {
        "id": "ZWq7LdkUBJdS",
        "outputId": "0ca1b68e-6ee6-406f-9d54-cc39e55c207b",
        "colab": {
          "base_uri": "https://localhost:8080/"
        }
      },
      "source": [
        "pipe_ace_activity = make_pipeline(SelectKBest(f_classif, k=25), ExtraTreesClassifier(max_depth=None, n_estimators=100))\n",
        "pipe_ace_activity.fit(X_train_ace2, y_train_activity)"
      ],
      "execution_count": 30,
      "outputs": [
        {
          "output_type": "execute_result",
          "data": {
            "text/plain": [
              "Pipeline(memory=None,\n",
              "         steps=[('selectkbest',\n",
              "                 SelectKBest(k=25,\n",
              "                             score_func=<function f_classif at 0x7efff9d7c1e0>)),\n",
              "                ('extratreesclassifier',\n",
              "                 ExtraTreesClassifier(bootstrap=False, ccp_alpha=0.0,\n",
              "                                      class_weight=None, criterion='gini',\n",
              "                                      max_depth=None, max_features='auto',\n",
              "                                      max_leaf_nodes=None, max_samples=None,\n",
              "                                      min_impurity_decrease=0.0,\n",
              "                                      min_impurity_split=None,\n",
              "                                      min_samples_leaf=1, min_samples_split=2,\n",
              "                                      min_weight_fraction_leaf=0.0,\n",
              "                                      n_estimators=100, n_jobs=None,\n",
              "                                      oob_score=False, random_state=None,\n",
              "                                      verbose=0, warm_start=False))],\n",
              "         verbose=False)"
            ]
          },
          "metadata": {
            "tags": []
          },
          "execution_count": 30
        }
      ]
    },
    {
      "cell_type": "code",
      "metadata": {
        "id": "ak6wl0GUBJdU",
        "outputId": "5e2ed720-0763-4cd8-fc32-456704565a57",
        "colab": {
          "base_uri": "https://localhost:8080/"
        }
      },
      "source": [
        "ace_health_etc = ExtraTreesClassifier(max_depth=None, min_samples_leaf = 1, min_samples_split = 3,  n_estimators=10)\n",
        "ace_health_etc.fit(X_train_ace3, y_train_health)"
      ],
      "execution_count": 31,
      "outputs": [
        {
          "output_type": "execute_result",
          "data": {
            "text/plain": [
              "ExtraTreesClassifier(bootstrap=False, ccp_alpha=0.0, class_weight=None,\n",
              "                     criterion='gini', max_depth=None, max_features='auto',\n",
              "                     max_leaf_nodes=None, max_samples=None,\n",
              "                     min_impurity_decrease=0.0, min_impurity_split=None,\n",
              "                     min_samples_leaf=1, min_samples_split=3,\n",
              "                     min_weight_fraction_leaf=0.0, n_estimators=10, n_jobs=None,\n",
              "                     oob_score=False, random_state=None, verbose=0,\n",
              "                     warm_start=False)"
            ]
          },
          "metadata": {
            "tags": []
          },
          "execution_count": 31
        }
      ]
    },
    {
      "cell_type": "code",
      "metadata": {
        "id": "PNaN1vcLBJdY",
        "outputId": "6f2d2059-bac8-433d-80df-253c198ec30e",
        "colab": {
          "base_uri": "https://localhost:8080/"
        }
      },
      "source": [
        "pipe_ace_smoker = make_pipeline(SelectKBest(f_classif, k=25), RandomForestClassifier(max_depth=None, n_estimators=500))\n",
        "pipe_ace_smoker.fit(X_train_ace4, y_train_smoker)"
      ],
      "execution_count": 32,
      "outputs": [
        {
          "output_type": "execute_result",
          "data": {
            "text/plain": [
              "Pipeline(memory=None,\n",
              "         steps=[('selectkbest',\n",
              "                 SelectKBest(k=25,\n",
              "                             score_func=<function f_classif at 0x7efff9d7c1e0>)),\n",
              "                ('randomforestclassifier',\n",
              "                 RandomForestClassifier(bootstrap=True, ccp_alpha=0.0,\n",
              "                                        class_weight=None, criterion='gini',\n",
              "                                        max_depth=None, max_features='auto',\n",
              "                                        max_leaf_nodes=None, max_samples=None,\n",
              "                                        min_impurity_decrease=0.0,\n",
              "                                        min_impurity_split=None,\n",
              "                                        min_samples_leaf=1, min_samples_split=2,\n",
              "                                        min_weight_fraction_leaf=0.0,\n",
              "                                        n_estimators=500, n_jobs=None,\n",
              "                                        oob_score=False, random_state=None,\n",
              "                                        verbose=0, warm_start=False))],\n",
              "         verbose=False)"
            ]
          },
          "metadata": {
            "tags": []
          },
          "execution_count": 32
        }
      ]
    },
    {
      "cell_type": "code",
      "metadata": {
        "id": "eJLQuO9CBJdc"
      },
      "source": [
        "# getting predictions for each model\n",
        "tobacco_ace_preds = ace_tobacco_rfc.predict(X_test_ace)\n",
        "activity_ace_preds = pipe_ace_activity.predict(X_test_ace2)\n",
        "health_ace_preds = ace_health_etc.predict(X_test_ace3)\n",
        "smoker_ace_preds = pipe_ace_smoker.predict(X_test_ace4)\n",
        "\n",
        "# calculating the precision score for each model\n",
        "tobacco_ace_prec = precision_score(y_test_tobacco, tobacco_ace_preds, average='micro')\n",
        "activity_ace_prec = precision_score(y_test_activity, activity_ace_preds, average='micro')\n",
        "health_ace_prec = precision_score(y_test_health, health_ace_preds, average='micro')\n",
        "smoker_ace_prec = precision_score(y_test_smoker, smoker_ace_preds, average='micro')"
      ],
      "execution_count": 33,
      "outputs": []
    },
    {
      "cell_type": "code",
      "metadata": {
        "id": "3zYSBJlL5wIf",
        "outputId": "a82d8b8f-1734-4526-b837-86845ef58cf9",
        "colab": {
          "base_uri": "https://localhost:8080/"
        }
      },
      "source": [
        "print(f'training accuracy for tobacco: {ace_tobacco_rfc.score(X_train_ace, y_train_tobacco)}')\n",
        "print(f'testing accuracy for tobacco: {ace_tobacco_rfc.score(X_test_ace, y_test_tobacco)}')\n",
        "print(f'Precision for tobacco: {tobacco_ace_prec}')"
      ],
      "execution_count": 34,
      "outputs": [
        {
          "output_type": "stream",
          "text": [
            "training accuracy for tobacco: 0.6324045389471707\n",
            "testing accuracy for tobacco: 0.6177656128986834\n",
            "Precision for tobacco: 0.6177656128986834\n"
          ],
          "name": "stdout"
        }
      ]
    },
    {
      "cell_type": "code",
      "metadata": {
        "id": "EO5eIAP25wPJ",
        "outputId": "408c2260-364f-41ac-ac2f-2541e5a2c066",
        "colab": {
          "base_uri": "https://localhost:8080/"
        }
      },
      "source": [
        "print(f'training accuracy for activity: {pipe_ace_activity.score(X_train_ace2, y_train_activity)}')\n",
        "print(f'testing accuracy for activity: {pipe_ace_activity.score(X_test_ace2, y_test_activity)}')\n",
        "print(f'Precision for activity: {activity_ace_prec}')"
      ],
      "execution_count": 35,
      "outputs": [
        {
          "output_type": "stream",
          "text": [
            "training accuracy for activity: 0.6014225033136082\n",
            "testing accuracy for activity: 0.5873135146135663\n",
            "Precision for activity: 0.5873135146135663\n"
          ],
          "name": "stdout"
        }
      ]
    },
    {
      "cell_type": "code",
      "metadata": {
        "id": "D8QQzjcUBJdg",
        "outputId": "e6e9f0dc-e102-4e5b-a1ce-1a41e6bd8a0f",
        "colab": {
          "base_uri": "https://localhost:8080/"
        }
      },
      "source": [
        "print(f'training accuracy for health: {ace_health_etc.score(X_train_ace3, y_train_health)}')\n",
        "print(f'testing accuracy for health: {ace_health_etc.score(X_test_ace3, y_test_health)}')\n",
        "print(f'Precision for health: {health_ace_prec}')"
      ],
      "execution_count": 36,
      "outputs": [
        {
          "output_type": "stream",
          "text": [
            "training accuracy for health: 0.5592395289051406\n",
            "testing accuracy for health: 0.5453203959183105\n",
            "Precision for health: 0.5453203959183105\n"
          ],
          "name": "stdout"
        }
      ]
    },
    {
      "cell_type": "code",
      "metadata": {
        "id": "C9kwHOZbBJdk",
        "outputId": "6382ab0a-3420-415f-f76b-9608672ba91c",
        "colab": {
          "base_uri": "https://localhost:8080/"
        }
      },
      "source": [
        "print(f'training accuracy for smoker: {pipe_ace_smoker.score(X_train_ace4, y_train_smoker)}')\n",
        "print(f'testing accuracy for smoker: {pipe_ace_smoker.score(X_test_ace4, y_test_smoker)}')\n",
        "print(f'Precision for smoker: {smoker_ace_prec}')"
      ],
      "execution_count": 37,
      "outputs": [
        {
          "output_type": "stream",
          "text": [
            "training accuracy for smoker: 0.4531734537214633\n",
            "testing accuracy for smoker: 0.4133242869444952\n",
            "Precision for smoker: 0.4133242869444952\n"
          ],
          "name": "stdout"
        }
      ]
    },
    {
      "cell_type": "code",
      "metadata": {
        "id": "R0SFL8uXfOI3",
        "outputId": "696a2574-e6f8-4df0-8a75-e7a315db2678",
        "colab": {
          "base_uri": "https://localhost:8080/",
          "height": 197
        }
      },
      "source": [
        "# getting features importances for smokeless tobacco use\n",
        "tobacco_ace_df = pd.DataFrame({'features': X_ace.columns.values, 'importance': ace_tobacco_rfc.feature_importances_})\n",
        "tobacco_ace_df = tobacco_ace_df.sort_values('importance', ascending = False)\n",
        "\n",
        "tobacco_ace_df.head()"
      ],
      "execution_count": 38,
      "outputs": [
        {
          "output_type": "execute_result",
          "data": {
            "text/html": [
              "<div>\n",
              "<style scoped>\n",
              "    .dataframe tbody tr th:only-of-type {\n",
              "        vertical-align: middle;\n",
              "    }\n",
              "\n",
              "    .dataframe tbody tr th {\n",
              "        vertical-align: top;\n",
              "    }\n",
              "\n",
              "    .dataframe thead th {\n",
              "        text-align: right;\n",
              "    }\n",
              "</style>\n",
              "<table border=\"1\" class=\"dataframe\">\n",
              "  <thead>\n",
              "    <tr style=\"text-align: right;\">\n",
              "      <th></th>\n",
              "      <th>features</th>\n",
              "      <th>importance</th>\n",
              "    </tr>\n",
              "  </thead>\n",
              "  <tbody>\n",
              "    <tr>\n",
              "      <th>25</th>\n",
              "      <td>ACEHVSEX_1.0</td>\n",
              "      <td>0.117301</td>\n",
              "    </tr>\n",
              "    <tr>\n",
              "      <th>7</th>\n",
              "      <td>ACEPRISN_2.0</td>\n",
              "      <td>0.102720</td>\n",
              "    </tr>\n",
              "    <tr>\n",
              "      <th>22</th>\n",
              "      <td>ACETTHEM_1.0</td>\n",
              "      <td>0.097941</td>\n",
              "    </tr>\n",
              "    <tr>\n",
              "      <th>19</th>\n",
              "      <td>ACETOUCH_1.0</td>\n",
              "      <td>0.074312</td>\n",
              "    </tr>\n",
              "    <tr>\n",
              "      <th>5</th>\n",
              "      <td>ACEDRUGS_2.0</td>\n",
              "      <td>0.069027</td>\n",
              "    </tr>\n",
              "  </tbody>\n",
              "</table>\n",
              "</div>"
            ],
            "text/plain": [
              "        features  importance\n",
              "25  ACEHVSEX_1.0    0.117301\n",
              "7   ACEPRISN_2.0    0.102720\n",
              "22  ACETTHEM_1.0    0.097941\n",
              "19  ACETOUCH_1.0    0.074312\n",
              "5   ACEDRUGS_2.0    0.069027"
            ]
          },
          "metadata": {
            "tags": []
          },
          "execution_count": 38
        }
      ]
    },
    {
      "cell_type": "markdown",
      "metadata": {
        "id": "17-_5_0f8Afy"
      },
      "source": [
        "\n",
        "*   ACEHVSEX = 1 = Never\n",
        "*   ACEPRISN = 2 = No\n",
        "*   ACETTHEM = 1 = Never\n",
        "*   ACETOUCH = 1 = Never\n",
        "*   ACEDRUGS = 2 = No\n",
        "\n",
        "\n",
        "\n",
        "\n",
        "\n",
        "\n",
        "\n",
        "\n",
        "\n",
        "\n"
      ]
    },
    {
      "cell_type": "code",
      "metadata": {
        "id": "Cbc5MQPii2mX",
        "outputId": "7a1db581-e37e-48b4-85b8-7bd16e697647",
        "colab": {
          "base_uri": "https://localhost:8080/",
          "height": 197
        }
      },
      "source": [
        "tobacco_ace_df.tail()"
      ],
      "execution_count": 39,
      "outputs": [
        {
          "output_type": "execute_result",
          "data": {
            "text/html": [
              "<div>\n",
              "<style scoped>\n",
              "    .dataframe tbody tr th:only-of-type {\n",
              "        vertical-align: middle;\n",
              "    }\n",
              "\n",
              "    .dataframe tbody tr th {\n",
              "        vertical-align: top;\n",
              "    }\n",
              "\n",
              "    .dataframe thead th {\n",
              "        text-align: right;\n",
              "    }\n",
              "</style>\n",
              "<table border=\"1\" class=\"dataframe\">\n",
              "  <thead>\n",
              "    <tr style=\"text-align: right;\">\n",
              "      <th></th>\n",
              "      <th>features</th>\n",
              "      <th>importance</th>\n",
              "    </tr>\n",
              "  </thead>\n",
              "  <tbody>\n",
              "    <tr>\n",
              "      <th>24</th>\n",
              "      <td>ACETTHEM_3.0</td>\n",
              "      <td>0.007549</td>\n",
              "    </tr>\n",
              "    <tr>\n",
              "      <th>27</th>\n",
              "      <td>ACEHVSEX_3.0</td>\n",
              "      <td>0.005196</td>\n",
              "    </tr>\n",
              "    <tr>\n",
              "      <th>20</th>\n",
              "      <td>ACETOUCH_2.0</td>\n",
              "      <td>0.004747</td>\n",
              "    </tr>\n",
              "    <tr>\n",
              "      <th>23</th>\n",
              "      <td>ACETTHEM_2.0</td>\n",
              "      <td>0.003580</td>\n",
              "    </tr>\n",
              "    <tr>\n",
              "      <th>26</th>\n",
              "      <td>ACEHVSEX_2.0</td>\n",
              "      <td>0.003204</td>\n",
              "    </tr>\n",
              "  </tbody>\n",
              "</table>\n",
              "</div>"
            ],
            "text/plain": [
              "        features  importance\n",
              "24  ACETTHEM_3.0    0.007549\n",
              "27  ACEHVSEX_3.0    0.005196\n",
              "20  ACETOUCH_2.0    0.004747\n",
              "23  ACETTHEM_2.0    0.003580\n",
              "26  ACEHVSEX_2.0    0.003204"
            ]
          },
          "metadata": {
            "tags": []
          },
          "execution_count": 39
        }
      ]
    },
    {
      "cell_type": "markdown",
      "metadata": {
        "id": "rshXQqDlvImi"
      },
      "source": [
        "\n",
        "*   ACETTHEM = 3 = More than once\n",
        "*   ACEHVSEX = 3 = More than once\n",
        "*   ACETOUCH = 2 = More than once\n",
        "*   ACETTHEM = 2 = Once\n",
        "*   ACEHVSEX = 2 = Once"
      ]
    },
    {
      "cell_type": "code",
      "metadata": {
        "id": "fSAip80f4Wzl",
        "outputId": "46f01b53-d540-465b-a762-3d18eac131f6",
        "colab": {
          "base_uri": "https://localhost:8080/",
          "height": 457
        }
      },
      "source": [
        "def top_bottom(df, color):\n",
        "  ''' Function to graph Top 5 and Last 5 Features based on importance'''\n",
        "  top_bottom = pd.merge(df.head(), df.tail(), how='outer')\n",
        "  top_bottom.plot(kind='barh', figsize=(9, 7), color=color)\n",
        "  plt.yticks(ticks=top_bottom.index, labels=top_bottom.features)\n",
        "  plt.xlabel('Importance')\n",
        "  plt.ylabel('Feature')\n",
        "  plt.legend();\n",
        "  return\n",
        "\n",
        "top_bottom(tobacco_ace_df, color = 'orangered')\n",
        "plt.title('Top 5 and Last 5 Features that are important to determining Smokeless Tobacco Usage');\n",
        "\n",
        "plt.savefig('tobacco_ace_ungrouped.jpg')"
      ],
      "execution_count": 41,
      "outputs": [
        {
          "output_type": "display_data",
          "data": {
            "image/png": "[encoded data removed]",
            "text/plain": [
              "<Figure size 648x504 with 1 Axes>"
            ]
          },
          "metadata": {
            "tags": [],
            "needs_background": "light"
          }
        }
      ]
    },
    {
      "cell_type": "code",
      "metadata": {
        "id": "j-uQQ6o4h7Ok",
        "outputId": "5df9fcb1-068d-485e-ac10-0b4624d3a070",
        "colab": {
          "base_uri": "https://localhost:8080/",
          "height": 197
        }
      },
      "source": [
        "# getting features importances for self-reported health\n",
        "health_ace_df = pd.DataFrame({'features': X_ace.columns.values, 'importance': ace_health_etc.feature_importances_})\n",
        "health_ace_df = health_ace_df.sort_values('importance', ascending = False)\n",
        "\n",
        "health_ace_df.head()"
      ],
      "execution_count": 42,
      "outputs": [
        {
          "output_type": "execute_result",
          "data": {
            "text/html": [
              "<div>\n",
              "<style scoped>\n",
              "    .dataframe tbody tr th:only-of-type {\n",
              "        vertical-align: middle;\n",
              "    }\n",
              "\n",
              "    .dataframe tbody tr th {\n",
              "        vertical-align: top;\n",
              "    }\n",
              "\n",
              "    .dataframe thead th {\n",
              "        text-align: right;\n",
              "    }\n",
              "</style>\n",
              "<table border=\"1\" class=\"dataframe\">\n",
              "  <thead>\n",
              "    <tr style=\"text-align: right;\">\n",
              "      <th></th>\n",
              "      <th>features</th>\n",
              "      <th>importance</th>\n",
              "    </tr>\n",
              "  </thead>\n",
              "  <tbody>\n",
              "    <tr>\n",
              "      <th>10</th>\n",
              "      <td>ACEPUNCH_1.0</td>\n",
              "      <td>0.083535</td>\n",
              "    </tr>\n",
              "    <tr>\n",
              "      <th>19</th>\n",
              "      <td>ACETOUCH_1.0</td>\n",
              "      <td>0.068936</td>\n",
              "    </tr>\n",
              "    <tr>\n",
              "      <th>9</th>\n",
              "      <td>ACEDIVRC_2.0</td>\n",
              "      <td>0.067345</td>\n",
              "    </tr>\n",
              "    <tr>\n",
              "      <th>13</th>\n",
              "      <td>ACEHURT_1.0</td>\n",
              "      <td>0.062755</td>\n",
              "    </tr>\n",
              "    <tr>\n",
              "      <th>16</th>\n",
              "      <td>ACESWEAR_1.0</td>\n",
              "      <td>0.062616</td>\n",
              "    </tr>\n",
              "  </tbody>\n",
              "</table>\n",
              "</div>"
            ],
            "text/plain": [
              "        features  importance\n",
              "10  ACEPUNCH_1.0    0.083535\n",
              "19  ACETOUCH_1.0    0.068936\n",
              "9   ACEDIVRC_2.0    0.067345\n",
              "13   ACEHURT_1.0    0.062755\n",
              "16  ACESWEAR_1.0    0.062616"
            ]
          },
          "metadata": {
            "tags": []
          },
          "execution_count": 42
        }
      ]
    },
    {
      "cell_type": "markdown",
      "metadata": {
        "id": "OiChXZyavvRj"
      },
      "source": [
        "*   ACEPUNCH = 1 = Never\n",
        "*   ACETOUCH = 1 = Never\n",
        "*   ACEDIVRC = 2 = No\n",
        "*   ACEHURT = 1 = Never\n",
        "*   ACESWEAR = 1 = Never"
      ]
    },
    {
      "cell_type": "code",
      "metadata": {
        "id": "WnB7WpZqiCD2",
        "outputId": "2c66746f-444b-4a66-ae5a-679b4ce5609e",
        "colab": {
          "base_uri": "https://localhost:8080/",
          "height": 197
        }
      },
      "source": [
        "# looking at last 10\n",
        "health_ace_df.tail()"
      ],
      "execution_count": 43,
      "outputs": [
        {
          "output_type": "execute_result",
          "data": {
            "text/html": [
              "<div>\n",
              "<style scoped>\n",
              "    .dataframe tbody tr th:only-of-type {\n",
              "        vertical-align: middle;\n",
              "    }\n",
              "\n",
              "    .dataframe tbody tr th {\n",
              "        vertical-align: top;\n",
              "    }\n",
              "\n",
              "    .dataframe thead th {\n",
              "        text-align: right;\n",
              "    }\n",
              "</style>\n",
              "<table border=\"1\" class=\"dataframe\">\n",
              "  <thead>\n",
              "    <tr style=\"text-align: right;\">\n",
              "      <th></th>\n",
              "      <th>features</th>\n",
              "      <th>importance</th>\n",
              "    </tr>\n",
              "  </thead>\n",
              "  <tbody>\n",
              "    <tr>\n",
              "      <th>11</th>\n",
              "      <td>ACEPUNCH_2.0</td>\n",
              "      <td>0.013718</td>\n",
              "    </tr>\n",
              "    <tr>\n",
              "      <th>24</th>\n",
              "      <td>ACETTHEM_3.0</td>\n",
              "      <td>0.012401</td>\n",
              "    </tr>\n",
              "    <tr>\n",
              "      <th>27</th>\n",
              "      <td>ACEHVSEX_3.0</td>\n",
              "      <td>0.011179</td>\n",
              "    </tr>\n",
              "    <tr>\n",
              "      <th>23</th>\n",
              "      <td>ACETTHEM_2.0</td>\n",
              "      <td>0.010953</td>\n",
              "    </tr>\n",
              "    <tr>\n",
              "      <th>26</th>\n",
              "      <td>ACEHVSEX_2.0</td>\n",
              "      <td>0.008361</td>\n",
              "    </tr>\n",
              "  </tbody>\n",
              "</table>\n",
              "</div>"
            ],
            "text/plain": [
              "        features  importance\n",
              "11  ACEPUNCH_2.0    0.013718\n",
              "24  ACETTHEM_3.0    0.012401\n",
              "27  ACEHVSEX_3.0    0.011179\n",
              "23  ACETTHEM_2.0    0.010953\n",
              "26  ACEHVSEX_2.0    0.008361"
            ]
          },
          "metadata": {
            "tags": []
          },
          "execution_count": 43
        }
      ]
    },
    {
      "cell_type": "markdown",
      "metadata": {
        "id": "4_jMVmCawNSB"
      },
      "source": [
        "*   ACEPUNCH = 2 = Once\n",
        "*   ACETTHEM = 3 = More than once\n",
        "*   ACEHVSEX = 3 = More than once\n",
        "*   ACETTHEM = 2 = Once\n",
        "*   ACEHVSEX = 2 = Once"
      ]
    },
    {
      "cell_type": "code",
      "metadata": {
        "id": "6-fY0Mam5-Qk",
        "outputId": "19d7b4a9-0669-4225-9e87-8f5cf5d37991",
        "colab": {
          "base_uri": "https://localhost:8080/",
          "height": 457
        }
      },
      "source": [
        "top_bottom(health_ace_df, color='teal')\n",
        "plt.title('Top 5 and Last 5 Features that are important to determining Self-Reported Health');\n",
        "\n",
        "plt.savefig('health_ace_ungrouped.jpg')"
      ],
      "execution_count": 57,
      "outputs": [
        {
          "output_type": "display_data",
          "data": {
            "image/png": "[encoded data removed]",
            "text/plain": [
              "<Figure size 648x504 with 1 Axes>"
            ]
          },
          "metadata": {
            "tags": [],
            "needs_background": "light"
          }
        }
      ]
    },
    {
      "cell_type": "code",
      "metadata": {
        "id": "1t859vNCikYQ"
      },
      "source": [
        "# getting features selected by 'selectkbest' for other two y's\n",
        "features_activity_ace = pipe_ace_activity.named_steps['selectkbest'].get_support(indices=True) \n",
        "features_smoker_ace = pipe_ace_smoker.named_steps['selectkbest'].get_support(indices=True) "
      ],
      "execution_count": 46,
      "outputs": []
    },
    {
      "cell_type": "code",
      "metadata": {
        "id": "naiLfIBjbKJP"
      },
      "source": [
        "# getting column names for features selected by 'selectkbest' for other two y's\n",
        "X_cols_activity_ace = X_ace.columns.values[features_activity_ace]\n",
        "X_cols_smoker_ace = X_ace.columns.values[features_smoker_ace]"
      ],
      "execution_count": 47,
      "outputs": []
    },
    {
      "cell_type": "code",
      "metadata": {
        "id": "OumKSt_4cpzh"
      },
      "source": [
        "# getting each feature's importance for other two y's\n",
        "coefs_activity_ace = pipe_ace_activity.named_steps['extratreesclassifier'].feature_importances_\n",
        "coefs_smoker_ace = pipe_ace_smoker.named_steps['randomforestclassifier'].feature_importances_"
      ],
      "execution_count": 53,
      "outputs": []
    },
    {
      "cell_type": "code",
      "metadata": {
        "id": "9nkWh3qDkRD3",
        "outputId": "d59eb410-2007-4249-f9ac-23e867439927",
        "colab": {
          "base_uri": "https://localhost:8080/",
          "height": 197
        }
      },
      "source": [
        "# feature importances for self-reported health\n",
        "activity_ace = pd.DataFrame({'features': X_cols_activity_ace, 'importance': coefs_activity_ace})\n",
        "activity_ace = activity_ace.sort_values('importance', ascending = False)\n",
        "activity_ace.head()"
      ],
      "execution_count": 49,
      "outputs": [
        {
          "output_type": "execute_result",
          "data": {
            "text/html": [
              "<div>\n",
              "<style scoped>\n",
              "    .dataframe tbody tr th:only-of-type {\n",
              "        vertical-align: middle;\n",
              "    }\n",
              "\n",
              "    .dataframe tbody tr th {\n",
              "        vertical-align: top;\n",
              "    }\n",
              "\n",
              "    .dataframe thead th {\n",
              "        text-align: right;\n",
              "    }\n",
              "</style>\n",
              "<table border=\"1\" class=\"dataframe\">\n",
              "  <thead>\n",
              "    <tr style=\"text-align: right;\">\n",
              "      <th></th>\n",
              "      <th>features</th>\n",
              "      <th>importance</th>\n",
              "    </tr>\n",
              "  </thead>\n",
              "  <tbody>\n",
              "    <tr>\n",
              "      <th>9</th>\n",
              "      <td>ACEPUNCH_1.0</td>\n",
              "      <td>0.079468</td>\n",
              "    </tr>\n",
              "    <tr>\n",
              "      <th>12</th>\n",
              "      <td>ACEHURT_1.0</td>\n",
              "      <td>0.078321</td>\n",
              "    </tr>\n",
              "    <tr>\n",
              "      <th>18</th>\n",
              "      <td>ACETOUCH_1.0</td>\n",
              "      <td>0.072899</td>\n",
              "    </tr>\n",
              "    <tr>\n",
              "      <th>6</th>\n",
              "      <td>ACEPRISN_2.0</td>\n",
              "      <td>0.069199</td>\n",
              "    </tr>\n",
              "    <tr>\n",
              "      <th>5</th>\n",
              "      <td>ACEDRUGS_2.0</td>\n",
              "      <td>0.061508</td>\n",
              "    </tr>\n",
              "  </tbody>\n",
              "</table>\n",
              "</div>"
            ],
            "text/plain": [
              "        features  importance\n",
              "9   ACEPUNCH_1.0    0.079468\n",
              "12   ACEHURT_1.0    0.078321\n",
              "18  ACETOUCH_1.0    0.072899\n",
              "6   ACEPRISN_2.0    0.069199\n",
              "5   ACEDRUGS_2.0    0.061508"
            ]
          },
          "metadata": {
            "tags": []
          },
          "execution_count": 49
        }
      ]
    },
    {
      "cell_type": "markdown",
      "metadata": {
        "id": "XW0WODH7_vVB"
      },
      "source": [
        "*   ACEPUNCH = 1 = Never\n",
        "*   ACEHURT = 1 = Never\n",
        "*   ACETOUCH = 1 = Never\n",
        "*   ACEPRISN = 2 = No\n",
        "*   ACEDRUGS = 2 = No"
      ]
    },
    {
      "cell_type": "code",
      "metadata": {
        "id": "IxyD04QliV79",
        "outputId": "0d1c2e74-569b-4122-82c3-5e10354939db",
        "colab": {
          "base_uri": "https://localhost:8080/",
          "height": 197
        }
      },
      "source": [
        "activity_ace.tail()"
      ],
      "execution_count": 50,
      "outputs": [
        {
          "output_type": "execute_result",
          "data": {
            "text/html": [
              "<div>\n",
              "<style scoped>\n",
              "    .dataframe tbody tr th:only-of-type {\n",
              "        vertical-align: middle;\n",
              "    }\n",
              "\n",
              "    .dataframe tbody tr th {\n",
              "        vertical-align: top;\n",
              "    }\n",
              "\n",
              "    .dataframe thead th {\n",
              "        text-align: right;\n",
              "    }\n",
              "</style>\n",
              "<table border=\"1\" class=\"dataframe\">\n",
              "  <thead>\n",
              "    <tr style=\"text-align: right;\">\n",
              "      <th></th>\n",
              "      <th>features</th>\n",
              "      <th>importance</th>\n",
              "    </tr>\n",
              "  </thead>\n",
              "  <tbody>\n",
              "    <tr>\n",
              "      <th>13</th>\n",
              "      <td>ACEHURT_2.0</td>\n",
              "      <td>0.014490</td>\n",
              "    </tr>\n",
              "    <tr>\n",
              "      <th>21</th>\n",
              "      <td>ACETTHEM_2.0</td>\n",
              "      <td>0.013146</td>\n",
              "    </tr>\n",
              "    <tr>\n",
              "      <th>16</th>\n",
              "      <td>ACESWEAR_2.0</td>\n",
              "      <td>0.012938</td>\n",
              "    </tr>\n",
              "    <tr>\n",
              "      <th>22</th>\n",
              "      <td>ACETTHEM_3.0</td>\n",
              "      <td>0.012750</td>\n",
              "    </tr>\n",
              "    <tr>\n",
              "      <th>24</th>\n",
              "      <td>ACEHVSEX_3.0</td>\n",
              "      <td>0.012089</td>\n",
              "    </tr>\n",
              "  </tbody>\n",
              "</table>\n",
              "</div>"
            ],
            "text/plain": [
              "        features  importance\n",
              "13   ACEHURT_2.0    0.014490\n",
              "21  ACETTHEM_2.0    0.013146\n",
              "16  ACESWEAR_2.0    0.012938\n",
              "22  ACETTHEM_3.0    0.012750\n",
              "24  ACEHVSEX_3.0    0.012089"
            ]
          },
          "metadata": {
            "tags": []
          },
          "execution_count": 50
        }
      ]
    },
    {
      "cell_type": "markdown",
      "metadata": {
        "id": "bi8bV1LJAuSF"
      },
      "source": [
        "*   ACEHURT = 2 = Once\n",
        "*   ACETTHEM = 2 = Once\n",
        "*   ACESWEAR = 2 = Once\n",
        "*   ACETTHEM = 3 = More than once\n",
        "*   ACEHVSEX = 3 = More than once\n",
        "\n"
      ]
    },
    {
      "cell_type": "code",
      "metadata": {
        "id": "WodiIPdAwgBT",
        "outputId": "24985896-5291-4c86-a89a-bb26ff30e932",
        "colab": {
          "base_uri": "https://localhost:8080/",
          "height": 457
        }
      },
      "source": [
        "top_bottom(activity_ace, color = 'lime')\n",
        "plt.title('Top 5 and Last 5 Features that are important to determining Activity Limitations');\n",
        "\n",
        "plt.savefig('activity_ace_ungrouped.jpg')"
      ],
      "execution_count": 51,
      "outputs": [
        {
          "output_type": "display_data",
          "data": {
            "image/png": "[encoded data removed]",
            "text/plain": [
              "<Figure size 648x504 with 1 Axes>"
            ]
          },
          "metadata": {
            "tags": [],
            "needs_background": "light"
          }
        }
      ]
    },
    {
      "cell_type": "code",
      "metadata": {
        "id": "7RFDpddWkRXI",
        "outputId": "f9ff4ebd-df14-4b17-d48b-c00c410a0c60",
        "colab": {
          "base_uri": "https://localhost:8080/",
          "height": 197
        }
      },
      "source": [
        "# feature importances for smoker status\n",
        "smoker_ace = pd.DataFrame({'features': X_cols_smoker_ace, 'importance':coefs_smoker_ace})\n",
        "smoker_ace = smoker_ace.sort_values('importance', ascending = False)\n",
        "smoker_ace.head()"
      ],
      "execution_count": 54,
      "outputs": [
        {
          "output_type": "execute_result",
          "data": {
            "text/html": [
              "<div>\n",
              "<style scoped>\n",
              "    .dataframe tbody tr th:only-of-type {\n",
              "        vertical-align: middle;\n",
              "    }\n",
              "\n",
              "    .dataframe tbody tr th {\n",
              "        vertical-align: top;\n",
              "    }\n",
              "\n",
              "    .dataframe thead th {\n",
              "        text-align: right;\n",
              "    }\n",
              "</style>\n",
              "<table border=\"1\" class=\"dataframe\">\n",
              "  <thead>\n",
              "    <tr style=\"text-align: right;\">\n",
              "      <th></th>\n",
              "      <th>features</th>\n",
              "      <th>importance</th>\n",
              "    </tr>\n",
              "  </thead>\n",
              "  <tbody>\n",
              "    <tr>\n",
              "      <th>23</th>\n",
              "      <td>ACEHVSEX_1.0</td>\n",
              "      <td>0.073410</td>\n",
              "    </tr>\n",
              "    <tr>\n",
              "      <th>7</th>\n",
              "      <td>ACEPRISN_2.0</td>\n",
              "      <td>0.070969</td>\n",
              "    </tr>\n",
              "    <tr>\n",
              "      <th>19</th>\n",
              "      <td>ACETOUCH_1.0</td>\n",
              "      <td>0.068351</td>\n",
              "    </tr>\n",
              "    <tr>\n",
              "      <th>21</th>\n",
              "      <td>ACETTHEM_1.0</td>\n",
              "      <td>0.062602</td>\n",
              "    </tr>\n",
              "    <tr>\n",
              "      <th>10</th>\n",
              "      <td>ACEPUNCH_1.0</td>\n",
              "      <td>0.061759</td>\n",
              "    </tr>\n",
              "  </tbody>\n",
              "</table>\n",
              "</div>"
            ],
            "text/plain": [
              "        features  importance\n",
              "23  ACEHVSEX_1.0    0.073410\n",
              "7   ACEPRISN_2.0    0.070969\n",
              "19  ACETOUCH_1.0    0.068351\n",
              "21  ACETTHEM_1.0    0.062602\n",
              "10  ACEPUNCH_1.0    0.061759"
            ]
          },
          "metadata": {
            "tags": []
          },
          "execution_count": 54
        }
      ]
    },
    {
      "cell_type": "markdown",
      "metadata": {
        "id": "dTd-meElBogf"
      },
      "source": [
        "*   ACEHVSEX = 1 = Never\n",
        "*   ACEPRISN = 2 = No\n",
        "*   ACETOUCH = 1 = Never\n",
        "*   ACETTHEM = 1 = Never\n",
        "*   ACEPUNCH = 1 = Never"
      ]
    },
    {
      "cell_type": "code",
      "metadata": {
        "id": "4OJK5s8jidg9",
        "outputId": "2dea3597-adb6-4bcd-adff-67e1f26f8df6",
        "colab": {
          "base_uri": "https://localhost:8080/",
          "height": 197
        }
      },
      "source": [
        "smoker_ace.tail()"
      ],
      "execution_count": 55,
      "outputs": [
        {
          "output_type": "execute_result",
          "data": {
            "text/html": [
              "<div>\n",
              "<style scoped>\n",
              "    .dataframe tbody tr th:only-of-type {\n",
              "        vertical-align: middle;\n",
              "    }\n",
              "\n",
              "    .dataframe tbody tr th {\n",
              "        vertical-align: top;\n",
              "    }\n",
              "\n",
              "    .dataframe thead th {\n",
              "        text-align: right;\n",
              "    }\n",
              "</style>\n",
              "<table border=\"1\" class=\"dataframe\">\n",
              "  <thead>\n",
              "    <tr style=\"text-align: right;\">\n",
              "      <th></th>\n",
              "      <th>features</th>\n",
              "      <th>importance</th>\n",
              "    </tr>\n",
              "  </thead>\n",
              "  <tbody>\n",
              "    <tr>\n",
              "      <th>22</th>\n",
              "      <td>ACETTHEM_3.0</td>\n",
              "      <td>0.021651</td>\n",
              "    </tr>\n",
              "    <tr>\n",
              "      <th>11</th>\n",
              "      <td>ACEPUNCH_2.0</td>\n",
              "      <td>0.018771</td>\n",
              "    </tr>\n",
              "    <tr>\n",
              "      <th>17</th>\n",
              "      <td>ACESWEAR_2.0</td>\n",
              "      <td>0.018029</td>\n",
              "    </tr>\n",
              "    <tr>\n",
              "      <th>14</th>\n",
              "      <td>ACEHURT_2.0</td>\n",
              "      <td>0.017944</td>\n",
              "    </tr>\n",
              "    <tr>\n",
              "      <th>24</th>\n",
              "      <td>ACEHVSEX_3.0</td>\n",
              "      <td>0.014772</td>\n",
              "    </tr>\n",
              "  </tbody>\n",
              "</table>\n",
              "</div>"
            ],
            "text/plain": [
              "        features  importance\n",
              "22  ACETTHEM_3.0    0.021651\n",
              "11  ACEPUNCH_2.0    0.018771\n",
              "17  ACESWEAR_2.0    0.018029\n",
              "14   ACEHURT_2.0    0.017944\n",
              "24  ACEHVSEX_3.0    0.014772"
            ]
          },
          "metadata": {
            "tags": []
          },
          "execution_count": 55
        }
      ]
    },
    {
      "cell_type": "markdown",
      "metadata": {
        "id": "6xEoKUf8CUFW"
      },
      "source": [
        "*   ACETTHEM = 3 = More than once\n",
        "*   ACEPUNCH = 2 = Once\n",
        "*   ACEPRISN = 2 = No\n",
        "*   ACETOUCH = 2 = Once\n",
        "*   ACEHVSEX = 3 = More than once\n",
        "\n",
        "\n"
      ]
    },
    {
      "cell_type": "code",
      "metadata": {
        "id": "teEai3j6wi-Q",
        "outputId": "2e54f56a-5cb7-40be-acc0-fef5b5cdc61d",
        "colab": {
          "base_uri": "https://localhost:8080/",
          "height": 457
        }
      },
      "source": [
        "top_bottom(smoker_ace, color='indigo')\n",
        "plt.title('Top 5 and Last 5 Features that are important to determining Smoker Status');\n",
        "\n",
        "plt.savefig('smoker_ace_ungrouped.jpg')"
      ],
      "execution_count": 56,
      "outputs": [
        {
          "output_type": "display_data",
          "data": {
            "image/png": "[encoded data removed]",
            "text/plain": [
              "<Figure size 648x504 with 1 Axes>"
            ]
          },
          "metadata": {
            "tags": [],
            "needs_background": "light"
          }
        }
      ]
    },
    {
      "cell_type": "code",
      "metadata": {
        "id": "1bfiP0-aX0aQ"
      },
      "source": [
        ""
      ],
      "execution_count": null,
      "outputs": []
    }
  ]
}