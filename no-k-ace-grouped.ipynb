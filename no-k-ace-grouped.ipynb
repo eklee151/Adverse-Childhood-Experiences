{
 "cells": [
  {
   "cell_type": "code",
   "execution_count": 3,
   "metadata": {},
   "outputs": [],
   "source": [
    "#!pip install imblearn"
   ]
  },
  {
   "cell_type": "code",
   "execution_count": 4,
   "metadata": {},
   "outputs": [],
   "source": [
    "#!pip install xgboost"
   ]
  },
  {
   "cell_type": "code",
   "execution_count": 5,
   "metadata": {},
   "outputs": [],
   "source": [
    "import pandas as pd\n",
    "import numpy as np\n",
    "import seaborn as sns\n",
    "import matplotlib.pyplot as plt\n",
    "\n",
    "from sklearn.model_selection import train_test_split, GridSearchCV\n",
    "from sklearn.preprocessing import StandardScaler\n",
    "from sklearn.feature_selection import SelectKBest, f_classif\n",
    "from sklearn.pipeline import make_pipeline\n",
    "from sklearn.linear_model import LogisticRegression\n",
    "from sklearn.metrics import confusion_matrix, plot_confusion_matrix, precision_score\n",
    "#from sklearn.preprocessing import PolynomialFeatures\n",
    "from sklearn.ensemble import RandomForestClassifier, ExtraTreesClassifier, AdaBoostClassifier, GradientBoostingClassifier\n",
    "\n",
    "from imblearn.over_sampling import SMOTE\n",
    "\n",
    "import xgboost as xgb\n",
    "\n",
    "import warnings\n",
    "warnings.filterwarnings('ignore')"
   ]
  },
  {
   "cell_type": "code",
   "execution_count": 6,
   "metadata": {},
   "outputs": [],
   "source": [
    "# reading in full data set\n",
    "brfss_total = pd.read_csv(\"./brfss_total.csv\")"
   ]
  },
  {
   "cell_type": "code",
   "execution_count": 7,
   "metadata": {},
   "outputs": [
    {
     "data": {
      "text/html": [
       "<div>\n",
       "<style scoped>\n",
       "    .dataframe tbody tr th:only-of-type {\n",
       "        vertical-align: middle;\n",
       "    }\n",
       "\n",
       "    .dataframe tbody tr th {\n",
       "        vertical-align: top;\n",
       "    }\n",
       "\n",
       "    .dataframe thead th {\n",
       "        text-align: right;\n",
       "    }\n",
       "</style>\n",
       "<table border=\"1\" class=\"dataframe\">\n",
       "  <thead>\n",
       "    <tr style=\"text-align: right;\">\n",
       "      <th></th>\n",
       "      <th>Unnamed: 0</th>\n",
       "      <th>index</th>\n",
       "      <th>_STATE</th>\n",
       "      <th>DISPCODE</th>\n",
       "      <th>PHYSHLTH</th>\n",
       "      <th>MENTHLTH</th>\n",
       "      <th>USENOW3</th>\n",
       "      <th>HISPANC2</th>\n",
       "      <th>MARITAL</th>\n",
       "      <th>CHILDREN</th>\n",
       "      <th>...</th>\n",
       "      <th>ACETTHEM</th>\n",
       "      <th>ACEHVSEX</th>\n",
       "      <th>MSCODE</th>\n",
       "      <th>_IMPAGE</th>\n",
       "      <th>_RFHLTH</th>\n",
       "      <th>_SMOKER3</th>\n",
       "      <th>_PRACE</th>\n",
       "      <th>_EDUCAG</th>\n",
       "      <th>_INCOMG</th>\n",
       "      <th>_TOTINDA</th>\n",
       "    </tr>\n",
       "  </thead>\n",
       "  <tbody>\n",
       "    <tr>\n",
       "      <th>0</th>\n",
       "      <td>0</td>\n",
       "      <td>14697</td>\n",
       "      <td>5.0</td>\n",
       "      <td>110.0</td>\n",
       "      <td>0.0</td>\n",
       "      <td>0.0</td>\n",
       "      <td>3.0</td>\n",
       "      <td>2.0</td>\n",
       "      <td>1.0</td>\n",
       "      <td>1.0</td>\n",
       "      <td>...</td>\n",
       "      <td>1.0</td>\n",
       "      <td>1.0</td>\n",
       "      <td>5.0</td>\n",
       "      <td>53.0</td>\n",
       "      <td>1.0</td>\n",
       "      <td>4.0</td>\n",
       "      <td>1.0</td>\n",
       "      <td>3.0</td>\n",
       "      <td>5.0</td>\n",
       "      <td>1.0</td>\n",
       "    </tr>\n",
       "    <tr>\n",
       "      <th>1</th>\n",
       "      <td>1</td>\n",
       "      <td>14699</td>\n",
       "      <td>5.0</td>\n",
       "      <td>110.0</td>\n",
       "      <td>15.0</td>\n",
       "      <td>0.0</td>\n",
       "      <td>3.0</td>\n",
       "      <td>2.0</td>\n",
       "      <td>2.0</td>\n",
       "      <td>0.0</td>\n",
       "      <td>...</td>\n",
       "      <td>1.0</td>\n",
       "      <td>1.0</td>\n",
       "      <td>5.0</td>\n",
       "      <td>64.0</td>\n",
       "      <td>2.0</td>\n",
       "      <td>3.0</td>\n",
       "      <td>1.0</td>\n",
       "      <td>2.0</td>\n",
       "      <td>2.0</td>\n",
       "      <td>1.0</td>\n",
       "    </tr>\n",
       "    <tr>\n",
       "      <th>2</th>\n",
       "      <td>2</td>\n",
       "      <td>14700</td>\n",
       "      <td>5.0</td>\n",
       "      <td>110.0</td>\n",
       "      <td>6.0</td>\n",
       "      <td>0.0</td>\n",
       "      <td>3.0</td>\n",
       "      <td>2.0</td>\n",
       "      <td>1.0</td>\n",
       "      <td>0.0</td>\n",
       "      <td>...</td>\n",
       "      <td>1.0</td>\n",
       "      <td>1.0</td>\n",
       "      <td>5.0</td>\n",
       "      <td>58.0</td>\n",
       "      <td>1.0</td>\n",
       "      <td>4.0</td>\n",
       "      <td>1.0</td>\n",
       "      <td>3.0</td>\n",
       "      <td>2.0</td>\n",
       "      <td>1.0</td>\n",
       "    </tr>\n",
       "    <tr>\n",
       "      <th>3</th>\n",
       "      <td>3</td>\n",
       "      <td>14701</td>\n",
       "      <td>5.0</td>\n",
       "      <td>110.0</td>\n",
       "      <td>30.0</td>\n",
       "      <td>0.0</td>\n",
       "      <td>3.0</td>\n",
       "      <td>2.0</td>\n",
       "      <td>1.0</td>\n",
       "      <td>0.0</td>\n",
       "      <td>...</td>\n",
       "      <td>1.0</td>\n",
       "      <td>1.0</td>\n",
       "      <td>5.0</td>\n",
       "      <td>76.0</td>\n",
       "      <td>2.0</td>\n",
       "      <td>4.0</td>\n",
       "      <td>1.0</td>\n",
       "      <td>1.0</td>\n",
       "      <td>0.0</td>\n",
       "      <td>2.0</td>\n",
       "    </tr>\n",
       "    <tr>\n",
       "      <th>4</th>\n",
       "      <td>4</td>\n",
       "      <td>14704</td>\n",
       "      <td>5.0</td>\n",
       "      <td>110.0</td>\n",
       "      <td>13.0</td>\n",
       "      <td>0.0</td>\n",
       "      <td>3.0</td>\n",
       "      <td>2.0</td>\n",
       "      <td>3.0</td>\n",
       "      <td>0.0</td>\n",
       "      <td>...</td>\n",
       "      <td>1.0</td>\n",
       "      <td>0.0</td>\n",
       "      <td>5.0</td>\n",
       "      <td>82.0</td>\n",
       "      <td>2.0</td>\n",
       "      <td>3.0</td>\n",
       "      <td>1.0</td>\n",
       "      <td>2.0</td>\n",
       "      <td>0.0</td>\n",
       "      <td>2.0</td>\n",
       "    </tr>\n",
       "  </tbody>\n",
       "</table>\n",
       "<p>5 rows × 33 columns</p>\n",
       "</div>"
      ],
      "text/plain": [
       "   Unnamed: 0  index  _STATE  DISPCODE  PHYSHLTH  MENTHLTH  USENOW3  HISPANC2  \\\n",
       "0           0  14697     5.0     110.0       0.0       0.0      3.0       2.0   \n",
       "1           1  14699     5.0     110.0      15.0       0.0      3.0       2.0   \n",
       "2           2  14700     5.0     110.0       6.0       0.0      3.0       2.0   \n",
       "3           3  14701     5.0     110.0      30.0       0.0      3.0       2.0   \n",
       "4           4  14704     5.0     110.0      13.0       0.0      3.0       2.0   \n",
       "\n",
       "   MARITAL  CHILDREN  ...  ACETTHEM  ACEHVSEX  MSCODE  _IMPAGE  _RFHLTH  \\\n",
       "0      1.0       1.0  ...       1.0       1.0     5.0     53.0      1.0   \n",
       "1      2.0       0.0  ...       1.0       1.0     5.0     64.0      2.0   \n",
       "2      1.0       0.0  ...       1.0       1.0     5.0     58.0      1.0   \n",
       "3      1.0       0.0  ...       1.0       1.0     5.0     76.0      2.0   \n",
       "4      3.0       0.0  ...       1.0       0.0     5.0     82.0      2.0   \n",
       "\n",
       "   _SMOKER3  _PRACE  _EDUCAG  _INCOMG  _TOTINDA  \n",
       "0       4.0     1.0      3.0      5.0       1.0  \n",
       "1       3.0     1.0      2.0      2.0       1.0  \n",
       "2       4.0     1.0      3.0      2.0       1.0  \n",
       "3       4.0     1.0      1.0      0.0       2.0  \n",
       "4       3.0     1.0      2.0      0.0       2.0  \n",
       "\n",
       "[5 rows x 33 columns]"
      ]
     },
     "execution_count": 7,
     "metadata": {},
     "output_type": "execute_result"
    }
   ],
   "source": [
    "brfss_total.head()"
   ]
  },
  {
   "cell_type": "code",
   "execution_count": 8,
   "metadata": {},
   "outputs": [
    {
     "data": {
      "text/plain": [
       "Unnamed: 0    0\n",
       "index         0\n",
       "_STATE        0\n",
       "DISPCODE      0\n",
       "PHYSHLTH      0\n",
       "MENTHLTH      0\n",
       "USENOW3       0\n",
       "HISPANC2      0\n",
       "MARITAL       0\n",
       "CHILDREN      0\n",
       "EMPLOY        0\n",
       "RENTHOM1      0\n",
       "SEX           0\n",
       "QLACTLM2      0\n",
       "ACEDEPRS      0\n",
       "ACEDRINK      0\n",
       "ACEDRUGS      0\n",
       "ACEPRISN      0\n",
       "ACEDIVRC      0\n",
       "ACEPUNCH      0\n",
       "ACEHURT       0\n",
       "ACESWEAR      0\n",
       "ACETOUCH      0\n",
       "ACETTHEM      0\n",
       "ACEHVSEX      0\n",
       "MSCODE        0\n",
       "_IMPAGE       0\n",
       "_RFHLTH       0\n",
       "_SMOKER3      0\n",
       "_PRACE        0\n",
       "_EDUCAG       0\n",
       "_INCOMG       0\n",
       "_TOTINDA      0\n",
       "dtype: int64"
      ]
     },
     "execution_count": 8,
     "metadata": {},
     "output_type": "execute_result"
    }
   ],
   "source": [
    "# just making sure no nulls are present\n",
    "brfss_total.isna().sum()"
   ]
  },
  {
   "cell_type": "code",
   "execution_count": 9,
   "metadata": {},
   "outputs": [],
   "source": [
    "brfss_total.drop(columns=['Unnamed: 0', 'index'], inplace=True)"
   ]
  },
  {
   "cell_type": "markdown",
   "metadata": {},
   "source": [
    "**Variables I will try to predict with my models:**\n",
    "- USENOW3: Do you currently use chewing tobacco, snuff, or snus every day, some days, or not at all?\n",
    "    - classification\n",
    "    - 0 = Don't know, Not sure or Refused, 1 = every day, 2 = some days, 3 = not at all\n",
    "- QLACTLM2: Are you limited in any way in any activities because of physical, mental, or emotional problems?\n",
    "    - classification\n",
    "    - 0 = Don't know, Not sure or Refused, 1 = yes, 2 = no\n",
    "- _RFHLTH: Adults with good or better health vs. fair or poor health\n",
    "    - classification\n",
    "    - based off of GENHLTH\n",
    "    - 0 = Don't know, Not sure or Refused, 1 = Good or Better Health, 2 = Fair or Poor Health\n",
    "- _SMOKER3: Four-level smoker status: Everyday smoker, Someday smoker, Former smoker, Non-smoker\n",
    "    - classification\n",
    "    - based off of SMOKE100 & SMOKEDAY\n",
    "    - 0 = Don't know, Not sure or Refused, 1 = Current smoker (now smokes every day), 2 = Current smoker (now smokes some days), 3 = Former smoker, 4 = Never smoked"
   ]
  },
  {
   "cell_type": "markdown",
   "metadata": {},
   "source": [
    "**Will make first three y's binary**\n",
    "- turning y's binary made it so that I couldn't stratify in train_test_split...so will not binarize my y's for now\n",
    "\n",
    "**Will OneHotEncode/ dummify ordinal/nominal features**\n",
    "\n",
    "**Will only use a sample of the data set for models so they can run faster**\n",
    "\n",
    "**Will use SMOTE to compensensate for imbalanced classes**\n",
    "\n",
    "**Will aggregate all ACEs into two groups: Abuse and Household Challenges**"
   ]
  },
  {
   "cell_type": "code",
   "execution_count": 10,
   "metadata": {},
   "outputs": [
    {
     "data": {
      "text/html": [
       "<div>\n",
       "<style scoped>\n",
       "    .dataframe tbody tr th:only-of-type {\n",
       "        vertical-align: middle;\n",
       "    }\n",
       "\n",
       "    .dataframe tbody tr th {\n",
       "        vertical-align: top;\n",
       "    }\n",
       "\n",
       "    .dataframe thead th {\n",
       "        text-align: right;\n",
       "    }\n",
       "</style>\n",
       "<table border=\"1\" class=\"dataframe\">\n",
       "  <thead>\n",
       "    <tr style=\"text-align: right;\">\n",
       "      <th></th>\n",
       "      <th>ACEDEPRS</th>\n",
       "      <th>ACEDRINK</th>\n",
       "      <th>ACEDRUGS</th>\n",
       "      <th>ACEPRISN</th>\n",
       "      <th>ACEDIVRC</th>\n",
       "      <th>ACEPUNCH</th>\n",
       "      <th>ACEHURT</th>\n",
       "      <th>ACESWEAR</th>\n",
       "      <th>ACETOUCH</th>\n",
       "      <th>ACETTHEM</th>\n",
       "      <th>ACEHVSEX</th>\n",
       "    </tr>\n",
       "  </thead>\n",
       "  <tbody>\n",
       "    <tr>\n",
       "      <th>0</th>\n",
       "      <td>2.0</td>\n",
       "      <td>2.0</td>\n",
       "      <td>2.0</td>\n",
       "      <td>2.0</td>\n",
       "      <td>2.0</td>\n",
       "      <td>1.0</td>\n",
       "      <td>1.0</td>\n",
       "      <td>1.0</td>\n",
       "      <td>1.0</td>\n",
       "      <td>1.0</td>\n",
       "      <td>1.0</td>\n",
       "    </tr>\n",
       "    <tr>\n",
       "      <th>1</th>\n",
       "      <td>2.0</td>\n",
       "      <td>1.0</td>\n",
       "      <td>2.0</td>\n",
       "      <td>2.0</td>\n",
       "      <td>2.0</td>\n",
       "      <td>1.0</td>\n",
       "      <td>1.0</td>\n",
       "      <td>3.0</td>\n",
       "      <td>1.0</td>\n",
       "      <td>1.0</td>\n",
       "      <td>1.0</td>\n",
       "    </tr>\n",
       "    <tr>\n",
       "      <th>2</th>\n",
       "      <td>2.0</td>\n",
       "      <td>2.0</td>\n",
       "      <td>2.0</td>\n",
       "      <td>2.0</td>\n",
       "      <td>2.0</td>\n",
       "      <td>1.0</td>\n",
       "      <td>1.0</td>\n",
       "      <td>1.0</td>\n",
       "      <td>1.0</td>\n",
       "      <td>1.0</td>\n",
       "      <td>1.0</td>\n",
       "    </tr>\n",
       "    <tr>\n",
       "      <th>3</th>\n",
       "      <td>2.0</td>\n",
       "      <td>2.0</td>\n",
       "      <td>2.0</td>\n",
       "      <td>2.0</td>\n",
       "      <td>2.0</td>\n",
       "      <td>1.0</td>\n",
       "      <td>1.0</td>\n",
       "      <td>1.0</td>\n",
       "      <td>1.0</td>\n",
       "      <td>1.0</td>\n",
       "      <td>1.0</td>\n",
       "    </tr>\n",
       "    <tr>\n",
       "      <th>4</th>\n",
       "      <td>2.0</td>\n",
       "      <td>2.0</td>\n",
       "      <td>2.0</td>\n",
       "      <td>2.0</td>\n",
       "      <td>2.0</td>\n",
       "      <td>1.0</td>\n",
       "      <td>1.0</td>\n",
       "      <td>1.0</td>\n",
       "      <td>1.0</td>\n",
       "      <td>1.0</td>\n",
       "      <td>0.0</td>\n",
       "    </tr>\n",
       "  </tbody>\n",
       "</table>\n",
       "</div>"
      ],
      "text/plain": [
       "   ACEDEPRS  ACEDRINK  ACEDRUGS  ACEPRISN  ACEDIVRC  ACEPUNCH  ACEHURT  \\\n",
       "0       2.0       2.0       2.0       2.0       2.0       1.0      1.0   \n",
       "1       2.0       1.0       2.0       2.0       2.0       1.0      1.0   \n",
       "2       2.0       2.0       2.0       2.0       2.0       1.0      1.0   \n",
       "3       2.0       2.0       2.0       2.0       2.0       1.0      1.0   \n",
       "4       2.0       2.0       2.0       2.0       2.0       1.0      1.0   \n",
       "\n",
       "   ACESWEAR  ACETOUCH  ACETTHEM  ACEHVSEX  \n",
       "0       1.0       1.0       1.0       1.0  \n",
       "1       3.0       1.0       1.0       1.0  \n",
       "2       1.0       1.0       1.0       1.0  \n",
       "3       1.0       1.0       1.0       1.0  \n",
       "4       1.0       1.0       1.0       0.0  "
      ]
     },
     "execution_count": 10,
     "metadata": {},
     "output_type": "execute_result"
    }
   ],
   "source": [
    "ace = brfss_total[['ACEDEPRS', 'ACEDRINK', 'ACEDRUGS', 'ACEPRISN', 'ACEDIVRC', 'ACEPUNCH', 'ACEHURT', 'ACESWEAR', \n",
    "                       'ACETOUCH', 'ACETTHEM', 'ACEHVSEX']]\n",
    "ace.head()"
   ]
  },
  {
   "cell_type": "code",
   "execution_count": 11,
   "metadata": {},
   "outputs": [],
   "source": [
    "# updating ace columns to be a count depending on the question\n",
    "# first 6 questions are yes or no, so yes will be be counted as 1 and no will be counted as 0\n",
    "# last 5 are questions of frequency, never = 0, once = 1, more than once will equal 2 (since not given an exact number)\n",
    "ace['ACEDEPRS'] = ace['ACEDEPRS'].map({1:1, 2:0, 0:0})\n",
    "ace['ACEDRINK'] = ace['ACEDRINK'].map({1:1, 2:0, 0:0})\n",
    "ace['ACEDRUGS'] = ace['ACEDRUGS'].map({1:1, 2:0, 0:0})\n",
    "ace['ACEPRISN'] = ace['ACEPRISN'].map({1:1, 2:0, 0:0})\n",
    "ace['ACEDIVRC'] = ace['ACEDIVRC'].map({1:1, 2:0, 0:0})\n",
    "ace['ACEPUNCH'] = ace['ACEPUNCH'].map({1:0, 2:1, 3:2})\n",
    "ace['ACEHURT'] = ace['ACEHURT'].map({1:0, 2:1, 3:2, 0:0})\n",
    "ace['ACESWEAR'] = ace['ACESWEAR'].map({1:0, 2:1, 3:2, 0:0})\n",
    "ace['ACETOUCH'] = ace['ACETOUCH'].map({1:0, 2:1, 3:2, 0:0})\n",
    "ace['ACETTHEM'] = ace['ACETTHEM'].map({1:0, 2:1, 3:2, 0:0})\n",
    "ace['ACEHVSEX'] = ace['ACEHVSEX'].map({1:0, 2:1, 3:2, 0:0})"
   ]
  },
  {
   "cell_type": "code",
   "execution_count": 12,
   "metadata": {},
   "outputs": [
    {
     "data": {
      "text/html": [
       "<div>\n",
       "<style scoped>\n",
       "    .dataframe tbody tr th:only-of-type {\n",
       "        vertical-align: middle;\n",
       "    }\n",
       "\n",
       "    .dataframe tbody tr th {\n",
       "        vertical-align: top;\n",
       "    }\n",
       "\n",
       "    .dataframe thead th {\n",
       "        text-align: right;\n",
       "    }\n",
       "</style>\n",
       "<table border=\"1\" class=\"dataframe\">\n",
       "  <thead>\n",
       "    <tr style=\"text-align: right;\">\n",
       "      <th></th>\n",
       "      <th>ACEDEPRS</th>\n",
       "      <th>ACEDRINK</th>\n",
       "      <th>ACEDRUGS</th>\n",
       "      <th>ACEPRISN</th>\n",
       "      <th>ACEDIVRC</th>\n",
       "      <th>ACEPUNCH</th>\n",
       "      <th>ACEHURT</th>\n",
       "      <th>ACESWEAR</th>\n",
       "      <th>ACETOUCH</th>\n",
       "      <th>ACETTHEM</th>\n",
       "      <th>ACEHVSEX</th>\n",
       "      <th>count</th>\n",
       "    </tr>\n",
       "  </thead>\n",
       "  <tbody>\n",
       "    <tr>\n",
       "      <th>0</th>\n",
       "      <td>0</td>\n",
       "      <td>0</td>\n",
       "      <td>0</td>\n",
       "      <td>0</td>\n",
       "      <td>0</td>\n",
       "      <td>0.0</td>\n",
       "      <td>0</td>\n",
       "      <td>0</td>\n",
       "      <td>0</td>\n",
       "      <td>0</td>\n",
       "      <td>0</td>\n",
       "      <td>0.0</td>\n",
       "    </tr>\n",
       "    <tr>\n",
       "      <th>1</th>\n",
       "      <td>0</td>\n",
       "      <td>1</td>\n",
       "      <td>0</td>\n",
       "      <td>0</td>\n",
       "      <td>0</td>\n",
       "      <td>0.0</td>\n",
       "      <td>0</td>\n",
       "      <td>2</td>\n",
       "      <td>0</td>\n",
       "      <td>0</td>\n",
       "      <td>0</td>\n",
       "      <td>3.0</td>\n",
       "    </tr>\n",
       "    <tr>\n",
       "      <th>2</th>\n",
       "      <td>0</td>\n",
       "      <td>0</td>\n",
       "      <td>0</td>\n",
       "      <td>0</td>\n",
       "      <td>0</td>\n",
       "      <td>0.0</td>\n",
       "      <td>0</td>\n",
       "      <td>0</td>\n",
       "      <td>0</td>\n",
       "      <td>0</td>\n",
       "      <td>0</td>\n",
       "      <td>0.0</td>\n",
       "    </tr>\n",
       "    <tr>\n",
       "      <th>3</th>\n",
       "      <td>0</td>\n",
       "      <td>0</td>\n",
       "      <td>0</td>\n",
       "      <td>0</td>\n",
       "      <td>0</td>\n",
       "      <td>0.0</td>\n",
       "      <td>0</td>\n",
       "      <td>0</td>\n",
       "      <td>0</td>\n",
       "      <td>0</td>\n",
       "      <td>0</td>\n",
       "      <td>0.0</td>\n",
       "    </tr>\n",
       "    <tr>\n",
       "      <th>4</th>\n",
       "      <td>0</td>\n",
       "      <td>0</td>\n",
       "      <td>0</td>\n",
       "      <td>0</td>\n",
       "      <td>0</td>\n",
       "      <td>0.0</td>\n",
       "      <td>0</td>\n",
       "      <td>0</td>\n",
       "      <td>0</td>\n",
       "      <td>0</td>\n",
       "      <td>0</td>\n",
       "      <td>0.0</td>\n",
       "    </tr>\n",
       "  </tbody>\n",
       "</table>\n",
       "</div>"
      ],
      "text/plain": [
       "   ACEDEPRS  ACEDRINK  ACEDRUGS  ACEPRISN  ACEDIVRC  ACEPUNCH  ACEHURT  \\\n",
       "0         0         0         0         0         0       0.0        0   \n",
       "1         0         1         0         0         0       0.0        0   \n",
       "2         0         0         0         0         0       0.0        0   \n",
       "3         0         0         0         0         0       0.0        0   \n",
       "4         0         0         0         0         0       0.0        0   \n",
       "\n",
       "   ACESWEAR  ACETOUCH  ACETTHEM  ACEHVSEX  count  \n",
       "0         0         0         0         0    0.0  \n",
       "1         2         0         0         0    3.0  \n",
       "2         0         0         0         0    0.0  \n",
       "3         0         0         0         0    0.0  \n",
       "4         0         0         0         0    0.0  "
      ]
     },
     "execution_count": 12,
     "metadata": {},
     "output_type": "execute_result"
    }
   ],
   "source": [
    "ace['count'] = ace.sum(axis = 1)\n",
    "ace.head()"
   ]
  },
  {
   "cell_type": "code",
   "execution_count": 13,
   "metadata": {},
   "outputs": [],
   "source": [
    "brfss_total['ACE_Count'] = ace['count']"
   ]
  },
  {
   "cell_type": "code",
   "execution_count": 14,
   "metadata": {},
   "outputs": [],
   "source": [
    "brfss_total.drop(columns=['ACEDEPRS', 'ACEDRINK', 'ACEDRUGS', 'ACEPRISN', 'ACEDIVRC', 'ACEPUNCH', 'ACEHURT', 'ACESWEAR', \n",
    "                       'ACETOUCH', 'ACETTHEM', 'ACEHVSEX'], inplace=True)"
   ]
  },
  {
   "cell_type": "code",
   "execution_count": 15,
   "metadata": {},
   "outputs": [
    {
     "data": {
      "text/html": [
       "<div>\n",
       "<style scoped>\n",
       "    .dataframe tbody tr th:only-of-type {\n",
       "        vertical-align: middle;\n",
       "    }\n",
       "\n",
       "    .dataframe tbody tr th {\n",
       "        vertical-align: top;\n",
       "    }\n",
       "\n",
       "    .dataframe thead th {\n",
       "        text-align: right;\n",
       "    }\n",
       "</style>\n",
       "<table border=\"1\" class=\"dataframe\">\n",
       "  <thead>\n",
       "    <tr style=\"text-align: right;\">\n",
       "      <th></th>\n",
       "      <th>_STATE</th>\n",
       "      <th>DISPCODE</th>\n",
       "      <th>PHYSHLTH</th>\n",
       "      <th>MENTHLTH</th>\n",
       "      <th>USENOW3</th>\n",
       "      <th>HISPANC2</th>\n",
       "      <th>MARITAL</th>\n",
       "      <th>CHILDREN</th>\n",
       "      <th>EMPLOY</th>\n",
       "      <th>RENTHOM1</th>\n",
       "      <th>...</th>\n",
       "      <th>QLACTLM2</th>\n",
       "      <th>MSCODE</th>\n",
       "      <th>_IMPAGE</th>\n",
       "      <th>_RFHLTH</th>\n",
       "      <th>_SMOKER3</th>\n",
       "      <th>_PRACE</th>\n",
       "      <th>_EDUCAG</th>\n",
       "      <th>_INCOMG</th>\n",
       "      <th>_TOTINDA</th>\n",
       "      <th>ACE_Count</th>\n",
       "    </tr>\n",
       "  </thead>\n",
       "  <tbody>\n",
       "    <tr>\n",
       "      <th>0</th>\n",
       "      <td>5.0</td>\n",
       "      <td>110.0</td>\n",
       "      <td>0.0</td>\n",
       "      <td>0.0</td>\n",
       "      <td>3.0</td>\n",
       "      <td>2.0</td>\n",
       "      <td>1.0</td>\n",
       "      <td>1.0</td>\n",
       "      <td>2.0</td>\n",
       "      <td>0.0</td>\n",
       "      <td>...</td>\n",
       "      <td>2.0</td>\n",
       "      <td>5.0</td>\n",
       "      <td>53.0</td>\n",
       "      <td>1.0</td>\n",
       "      <td>4.0</td>\n",
       "      <td>1.0</td>\n",
       "      <td>3.0</td>\n",
       "      <td>5.0</td>\n",
       "      <td>1.0</td>\n",
       "      <td>0.0</td>\n",
       "    </tr>\n",
       "    <tr>\n",
       "      <th>1</th>\n",
       "      <td>5.0</td>\n",
       "      <td>110.0</td>\n",
       "      <td>15.0</td>\n",
       "      <td>0.0</td>\n",
       "      <td>3.0</td>\n",
       "      <td>2.0</td>\n",
       "      <td>2.0</td>\n",
       "      <td>0.0</td>\n",
       "      <td>0.0</td>\n",
       "      <td>0.0</td>\n",
       "      <td>...</td>\n",
       "      <td>2.0</td>\n",
       "      <td>5.0</td>\n",
       "      <td>64.0</td>\n",
       "      <td>2.0</td>\n",
       "      <td>3.0</td>\n",
       "      <td>1.0</td>\n",
       "      <td>2.0</td>\n",
       "      <td>2.0</td>\n",
       "      <td>1.0</td>\n",
       "      <td>3.0</td>\n",
       "    </tr>\n",
       "    <tr>\n",
       "      <th>2</th>\n",
       "      <td>5.0</td>\n",
       "      <td>110.0</td>\n",
       "      <td>6.0</td>\n",
       "      <td>0.0</td>\n",
       "      <td>3.0</td>\n",
       "      <td>2.0</td>\n",
       "      <td>1.0</td>\n",
       "      <td>0.0</td>\n",
       "      <td>0.0</td>\n",
       "      <td>0.0</td>\n",
       "      <td>...</td>\n",
       "      <td>1.0</td>\n",
       "      <td>5.0</td>\n",
       "      <td>58.0</td>\n",
       "      <td>1.0</td>\n",
       "      <td>4.0</td>\n",
       "      <td>1.0</td>\n",
       "      <td>3.0</td>\n",
       "      <td>2.0</td>\n",
       "      <td>1.0</td>\n",
       "      <td>0.0</td>\n",
       "    </tr>\n",
       "    <tr>\n",
       "      <th>3</th>\n",
       "      <td>5.0</td>\n",
       "      <td>110.0</td>\n",
       "      <td>30.0</td>\n",
       "      <td>0.0</td>\n",
       "      <td>3.0</td>\n",
       "      <td>2.0</td>\n",
       "      <td>1.0</td>\n",
       "      <td>0.0</td>\n",
       "      <td>0.0</td>\n",
       "      <td>0.0</td>\n",
       "      <td>...</td>\n",
       "      <td>1.0</td>\n",
       "      <td>5.0</td>\n",
       "      <td>76.0</td>\n",
       "      <td>2.0</td>\n",
       "      <td>4.0</td>\n",
       "      <td>1.0</td>\n",
       "      <td>1.0</td>\n",
       "      <td>0.0</td>\n",
       "      <td>2.0</td>\n",
       "      <td>0.0</td>\n",
       "    </tr>\n",
       "    <tr>\n",
       "      <th>4</th>\n",
       "      <td>5.0</td>\n",
       "      <td>110.0</td>\n",
       "      <td>13.0</td>\n",
       "      <td>0.0</td>\n",
       "      <td>3.0</td>\n",
       "      <td>2.0</td>\n",
       "      <td>3.0</td>\n",
       "      <td>0.0</td>\n",
       "      <td>0.0</td>\n",
       "      <td>0.0</td>\n",
       "      <td>...</td>\n",
       "      <td>2.0</td>\n",
       "      <td>5.0</td>\n",
       "      <td>82.0</td>\n",
       "      <td>2.0</td>\n",
       "      <td>3.0</td>\n",
       "      <td>1.0</td>\n",
       "      <td>2.0</td>\n",
       "      <td>0.0</td>\n",
       "      <td>2.0</td>\n",
       "      <td>0.0</td>\n",
       "    </tr>\n",
       "  </tbody>\n",
       "</table>\n",
       "<p>5 rows × 21 columns</p>\n",
       "</div>"
      ],
      "text/plain": [
       "   _STATE  DISPCODE  PHYSHLTH  MENTHLTH  USENOW3  HISPANC2  MARITAL  CHILDREN  \\\n",
       "0     5.0     110.0       0.0       0.0      3.0       2.0      1.0       1.0   \n",
       "1     5.0     110.0      15.0       0.0      3.0       2.0      2.0       0.0   \n",
       "2     5.0     110.0       6.0       0.0      3.0       2.0      1.0       0.0   \n",
       "3     5.0     110.0      30.0       0.0      3.0       2.0      1.0       0.0   \n",
       "4     5.0     110.0      13.0       0.0      3.0       2.0      3.0       0.0   \n",
       "\n",
       "   EMPLOY  RENTHOM1  ...  QLACTLM2  MSCODE  _IMPAGE  _RFHLTH  _SMOKER3  \\\n",
       "0     2.0       0.0  ...       2.0     5.0     53.0      1.0       4.0   \n",
       "1     0.0       0.0  ...       2.0     5.0     64.0      2.0       3.0   \n",
       "2     0.0       0.0  ...       1.0     5.0     58.0      1.0       4.0   \n",
       "3     0.0       0.0  ...       1.0     5.0     76.0      2.0       4.0   \n",
       "4     0.0       0.0  ...       2.0     5.0     82.0      2.0       3.0   \n",
       "\n",
       "   _PRACE  _EDUCAG  _INCOMG  _TOTINDA  ACE_Count  \n",
       "0     1.0      3.0      5.0       1.0        0.0  \n",
       "1     1.0      2.0      2.0       1.0        3.0  \n",
       "2     1.0      3.0      2.0       1.0        0.0  \n",
       "3     1.0      1.0      0.0       2.0        0.0  \n",
       "4     1.0      2.0      0.0       2.0        0.0  \n",
       "\n",
       "[5 rows x 21 columns]"
      ]
     },
     "execution_count": 15,
     "metadata": {},
     "output_type": "execute_result"
    }
   ],
   "source": [
    "brfss_total.head()"
   ]
  },
  {
   "cell_type": "code",
   "execution_count": 16,
   "metadata": {},
   "outputs": [
    {
     "data": {
      "text/plain": [
       "(5878, 21)"
      ]
     },
     "execution_count": 16,
     "metadata": {},
     "output_type": "execute_result"
    }
   ],
   "source": [
    "# taking a small sample so that my models will run a little faster\n",
    "brfss_total_sample = brfss_total.sample(frac=0.05, axis=0)\n",
    "\n",
    "brfss_total_sample.shape"
   ]
  },
  {
   "cell_type": "code",
   "execution_count": 17,
   "metadata": {},
   "outputs": [],
   "source": [
    "X = brfss_total_sample[['ACE_Count']]"
   ]
  },
  {
   "cell_type": "code",
   "execution_count": 18,
   "metadata": {},
   "outputs": [],
   "source": [
    "# creating the 4 y's\n",
    "y_tobacco = brfss_total_sample['USENOW3']\n",
    "y_activity = brfss_total_sample['QLACTLM2']\n",
    "y_health = brfss_total_sample['_RFHLTH']\n",
    "y_smoker = brfss_total_sample['_SMOKER3']"
   ]
  },
  {
   "cell_type": "code",
   "execution_count": 19,
   "metadata": {},
   "outputs": [
    {
     "data": {
      "text/plain": [
       "3.0    0.962913\n",
       "1.0    0.018203\n",
       "2.0    0.015481\n",
       "0.0    0.003403\n",
       "Name: USENOW3, dtype: float64"
      ]
     },
     "execution_count": 19,
     "metadata": {},
     "output_type": "execute_result"
    }
   ],
   "source": [
    "#original baseline for tobacco\n",
    "y_tobacco.value_counts(normalize=True)"
   ]
  },
  {
   "cell_type": "code",
   "execution_count": 20,
   "metadata": {},
   "outputs": [
    {
     "data": {
      "text/plain": [
       "2.0    0.716570\n",
       "1.0    0.276114\n",
       "0.0    0.007315\n",
       "Name: QLACTLM2, dtype: float64"
      ]
     },
     "execution_count": 20,
     "metadata": {},
     "output_type": "execute_result"
    }
   ],
   "source": [
    "#original baseline for activity\n",
    "y_activity.value_counts(normalize=True)"
   ]
  },
  {
   "cell_type": "code",
   "execution_count": 21,
   "metadata": {},
   "outputs": [
    {
     "data": {
      "text/plain": [
       "1.0    0.808438\n",
       "2.0    0.188329\n",
       "0.0    0.003232\n",
       "Name: _RFHLTH, dtype: float64"
      ]
     },
     "execution_count": 21,
     "metadata": {},
     "output_type": "execute_result"
    }
   ],
   "source": [
    "#original baseline for health\n",
    "y_health.value_counts(normalize=True)"
   ]
  },
  {
   "cell_type": "code",
   "execution_count": 22,
   "metadata": {},
   "outputs": [
    {
     "data": {
      "text/plain": [
       "4.0    0.530793\n",
       "3.0    0.302314\n",
       "1.0    0.119939\n",
       "2.0    0.041000\n",
       "0.0    0.005954\n",
       "Name: _SMOKER3, dtype: float64"
      ]
     },
     "execution_count": 22,
     "metadata": {},
     "output_type": "execute_result"
    }
   ],
   "source": [
    "#original baseline for smoker\n",
    "y_smoker.value_counts(normalize=True)"
   ]
  },
  {
   "cell_type": "code",
   "execution_count": 23,
   "metadata": {},
   "outputs": [],
   "source": [
    "# to compensate for unbalanced classes in my y's will use SMOTE\n",
    "\n",
    "sm = SMOTE(random_state=151)\n",
    "X1, y_tobacco = sm.fit_resample(X, y_tobacco)\n",
    "\n",
    "sm2 = SMOTE(random_state=151)\n",
    "X2, y_activity = sm2.fit_resample(X, y_activity)\n",
    "\n",
    "sm3 = SMOTE(random_state=151)\n",
    "X3, y_health = sm3.fit_resample(X, y_health)\n",
    "\n",
    "sm4 = SMOTE(random_state=151)\n",
    "X4, y_smoker = sm4.fit_resample(X, y_smoker)"
   ]
  },
  {
   "cell_type": "code",
   "execution_count": 24,
   "metadata": {},
   "outputs": [
    {
     "data": {
      "text/plain": [
       "2.0    0.25\n",
       "0.0    0.25\n",
       "1.0    0.25\n",
       "3.0    0.25\n",
       "Name: USENOW3, dtype: float64"
      ]
     },
     "execution_count": 24,
     "metadata": {},
     "output_type": "execute_result"
    }
   ],
   "source": [
    "# new baseline for tobacco\n",
    "y_tobacco.value_counts(normalize=True)"
   ]
  },
  {
   "cell_type": "code",
   "execution_count": 25,
   "metadata": {},
   "outputs": [
    {
     "data": {
      "text/plain": [
       "(22640,)"
      ]
     },
     "execution_count": 25,
     "metadata": {},
     "output_type": "execute_result"
    }
   ],
   "source": [
    "# looks like SMOTE has increased the size of my y's more than 4x, so will probably take some time for models to run\n",
    "y_tobacco.shape"
   ]
  },
  {
   "cell_type": "code",
   "execution_count": 26,
   "metadata": {},
   "outputs": [
    {
     "data": {
      "text/plain": [
       "0.0    0.333333\n",
       "1.0    0.333333\n",
       "2.0    0.333333\n",
       "Name: QLACTLM2, dtype: float64"
      ]
     },
     "execution_count": 26,
     "metadata": {},
     "output_type": "execute_result"
    }
   ],
   "source": [
    "# new baseline for activity\n",
    "y_activity.value_counts(normalize=True)"
   ]
  },
  {
   "cell_type": "code",
   "execution_count": 27,
   "metadata": {},
   "outputs": [
    {
     "data": {
      "text/plain": [
       "0.0    0.333333\n",
       "2.0    0.333333\n",
       "1.0    0.333333\n",
       "Name: _RFHLTH, dtype: float64"
      ]
     },
     "execution_count": 27,
     "metadata": {},
     "output_type": "execute_result"
    }
   ],
   "source": [
    "# new baseline for health\n",
    "y_health.value_counts(normalize=True)"
   ]
  },
  {
   "cell_type": "code",
   "execution_count": 28,
   "metadata": {},
   "outputs": [
    {
     "data": {
      "text/plain": [
       "0.0    0.2\n",
       "2.0    0.2\n",
       "1.0    0.2\n",
       "3.0    0.2\n",
       "4.0    0.2\n",
       "Name: _SMOKER3, dtype: float64"
      ]
     },
     "execution_count": 28,
     "metadata": {},
     "output_type": "execute_result"
    }
   ],
   "source": [
    "# new baseline for smoker\n",
    "y_smoker.value_counts(normalize=True)"
   ]
  },
  {
   "cell_type": "code",
   "execution_count": 29,
   "metadata": {},
   "outputs": [
    {
     "data": {
      "text/plain": [
       "(22640, 1)"
      ]
     },
     "execution_count": 29,
     "metadata": {},
     "output_type": "execute_result"
    }
   ],
   "source": [
    "X1.shape"
   ]
  },
  {
   "cell_type": "code",
   "execution_count": 30,
   "metadata": {},
   "outputs": [],
   "source": [
    "# creating training and testing sets for all y's (stratified on y, but since the classes are equal probably didn't have to)\n",
    "X_train_ace, X_test_ace, y_train_tobacco, y_test_tobacco = train_test_split(X1, y_tobacco, random_state = 151, stratify=y_tobacco)\n",
    "X_train_ace2, X_test_ace2, y_train_activity, y_test_activity = train_test_split(X2, y_activity, random_state = 151, stratify=y_activity)\n",
    "X_train_ace3, X_test_ace3, y_train_health, y_test_health = train_test_split(X3, y_health, random_state = 151, stratify=y_health)\n",
    "X_train_ace4, X_test_ace4, y_train_smoker, y_test_smoker = train_test_split(X4, y_smoker, random_state = 151, stratify=y_smoker)"
   ]
  },
  {
   "cell_type": "markdown",
   "metadata": {},
   "source": [
    "### Gridsearch with just ACE count as predictor (Logistic Regression)"
   ]
  },
  {
   "cell_type": "code",
   "execution_count": 32,
   "metadata": {},
   "outputs": [
    {
     "data": {
      "text/plain": [
       "GridSearchCV(cv=3, estimator=LogisticRegression(max_iter=10000),\n",
       "             param_grid={'C': [0.01, 0.5, 1]})"
      ]
     },
     "execution_count": 32,
     "metadata": {},
     "output_type": "execute_result"
    }
   ],
   "source": [
    "params_ace_log = {'C': [0.01, 0.5, 1]}\n",
    "\n",
    "gs_ace_log = GridSearchCV(LogisticRegression(max_iter=10_000), params_ace_log, cv=3)\n",
    "\n",
    "gs_ace_log.fit(X_train_ace, y_train_tobacco)"
   ]
  },
  {
   "cell_type": "code",
   "execution_count": 33,
   "metadata": {},
   "outputs": [
    {
     "data": {
      "text/plain": [
       "GridSearchCV(cv=3, estimator=LogisticRegression(max_iter=10000),\n",
       "             param_grid={'C': [0.01, 0.5, 1]})"
      ]
     },
     "execution_count": 33,
     "metadata": {},
     "output_type": "execute_result"
    }
   ],
   "source": [
    "gs2_ace_log = GridSearchCV(LogisticRegression(max_iter=10_000), params_ace_log, cv=3)\n",
    "\n",
    "gs2_ace_log.fit(X_train_ace2, y_train_activity)"
   ]
  },
  {
   "cell_type": "code",
   "execution_count": 34,
   "metadata": {},
   "outputs": [
    {
     "data": {
      "text/plain": [
       "GridSearchCV(cv=3, estimator=LogisticRegression(max_iter=10000),\n",
       "             param_grid={'C': [0.01, 0.5, 1]})"
      ]
     },
     "execution_count": 34,
     "metadata": {},
     "output_type": "execute_result"
    }
   ],
   "source": [
    "gs3_ace_log = GridSearchCV(LogisticRegression(max_iter=10_000), params_ace_log, cv=3)\n",
    "\n",
    "gs3_ace_log.fit(X_train_ace3, y_train_health)"
   ]
  },
  {
   "cell_type": "code",
   "execution_count": 35,
   "metadata": {},
   "outputs": [
    {
     "data": {
      "text/plain": [
       "GridSearchCV(cv=3, estimator=LogisticRegression(max_iter=10000),\n",
       "             param_grid={'C': [0.01, 0.5, 1]})"
      ]
     },
     "execution_count": 35,
     "metadata": {},
     "output_type": "execute_result"
    }
   ],
   "source": [
    "gs4_ace_log = GridSearchCV(LogisticRegression(max_iter=10_000), params_ace_log, cv=3)\n",
    "\n",
    "gs4_ace_log.fit(X_train_ace4, y_train_smoker)"
   ]
  },
  {
   "cell_type": "code",
   "execution_count": 36,
   "metadata": {},
   "outputs": [],
   "source": [
    "tobacco_ace_log_preds = gs_ace_log.predict(X_test_ace)\n",
    "activity_ace_log_preds = gs2_ace_log.predict(X_test_ace2)\n",
    "health_ace_log_preds = gs3_ace_log.predict(X_test_ace3)\n",
    "smoker_ace_log_preds = gs4_ace_log.predict(X_test_ace4)\n",
    "\n",
    "tobacco_ace_log_prec = precision_score(y_test_tobacco, tobacco_ace_log_preds, average='micro')\n",
    "activity_ace_log_prec = precision_score(y_test_activity, activity_ace_log_preds, average='micro')\n",
    "health_ace_log_prec = precision_score(y_test_health, health_ace_log_preds, average='micro')\n",
    "smoker_ace_log_prec = precision_score(y_test_smoker, smoker_ace_log_preds, average='micro')"
   ]
  },
  {
   "cell_type": "code",
   "execution_count": 37,
   "metadata": {},
   "outputs": [
    {
     "name": "stdout",
     "output_type": "stream",
     "text": [
      " training accuracy for tobacco: 0.38645465253239103\n",
      " training accuracy for activity: 0.4021314762055503\n",
      " training accuracy for health: 0.42386831275720166\n",
      " training accuracy for smoker: 0.27957264957264955\n"
     ]
    }
   ],
   "source": [
    "print(f' training accuracy for tobacco: {gs_ace_log.score(X_train_ace, y_train_tobacco)}')\n",
    "print(f' training accuracy for activity: {gs2_ace_log.score(X_train_ace2, y_train_activity)}')\n",
    "print(f' training accuracy for health: {gs3_ace_log.score(X_train_ace3, y_train_health)}')\n",
    "print(f' training accuracy for smoker: {gs4_ace_log.score(X_train_ace4, y_train_smoker)}')"
   ]
  },
  {
   "cell_type": "code",
   "execution_count": 38,
   "metadata": {},
   "outputs": [
    {
     "name": "stdout",
     "output_type": "stream",
     "text": [
      " testing accuracy for tobacco: 0.38303886925795055\n",
      " testing accuracy for activity: 0.39632795188350745\n",
      " testing accuracy for health: 0.43125701459034793\n",
      " testing accuracy for smoker: 0.2794871794871795\n"
     ]
    }
   ],
   "source": [
    "print(f' testing accuracy for tobacco: {gs_ace_log.score(X_test_ace, y_test_tobacco)}')\n",
    "print(f' testing accuracy for activity: {gs2_ace_log.score(X_test_ace2, y_test_activity)}')\n",
    "print(f' testing accuracy for health: {gs3_ace_log.score(X_test_ace3, y_test_health)}')\n",
    "print(f' testing accuracy for smoker: {gs4_ace_log.score(X_test_ace4, y_test_smoker)}')"
   ]
  },
  {
   "cell_type": "code",
   "execution_count": 39,
   "metadata": {},
   "outputs": [
    {
     "name": "stdout",
     "output_type": "stream",
     "text": [
      "Precision for tobacco: 0.38303886925795055\n",
      "Precision for activity: 0.39632795188350745\n",
      "Precision for health: 0.43125701459034793\n",
      "Precision for smoker: 0.2794871794871795\n"
     ]
    }
   ],
   "source": [
    "print(f'Precision for tobacco: {tobacco_ace_log_prec}')\n",
    "print(f'Precision for activity: {activity_ace_log_prec}')\n",
    "print(f'Precision for health: {health_ace_log_prec}')\n",
    "print(f'Precision for smoker: {smoker_ace_log_prec}')"
   ]
  },
  {
   "cell_type": "code",
   "execution_count": 40,
   "metadata": {},
   "outputs": [
    {
     "name": "stdout",
     "output_type": "stream",
     "text": [
      "{'C': 0.01}\n",
      "{'C': 0.01}\n",
      "{'C': 0.01}\n",
      "{'C': 0.01}\n"
     ]
    }
   ],
   "source": [
    "print(gs_ace_log.best_params_)\n",
    "print(gs2_ace_log.best_params_)\n",
    "print(gs3_ace_log.best_params_)\n",
    "print(gs4_ace_log.best_params_)"
   ]
  },
  {
   "cell_type": "markdown",
   "metadata": {},
   "source": [
    "**Observations**"
   ]
  },
  {
   "cell_type": "markdown",
   "metadata": {},
   "source": [
    "### Gridsearch with just ACE count as predictor (Random Forest Classifier)"
   ]
  },
  {
   "cell_type": "code",
   "execution_count": 41,
   "metadata": {},
   "outputs": [
    {
     "data": {
      "text/plain": [
       "GridSearchCV(cv=3, estimator=RandomForestClassifier(),\n",
       "             param_grid={'max_depth': [None, 3, 5],\n",
       "                         'min_samples_leaf': [1, 3, 5],\n",
       "                         'min_samples_split': [1, 3, 5],\n",
       "                         'n_estimators': [100, 300, 500]})"
      ]
     },
     "execution_count": 41,
     "metadata": {},
     "output_type": "execute_result"
    }
   ],
   "source": [
    "params_ace_rfc = {'n_estimators': [100, 300, 500],\n",
    "                  'max_depth': [None, 3, 5], \n",
    "                  'min_samples_split': [1, 3, 5],\n",
    "                  'min_samples_leaf': [1, 3, 5]}\n",
    "\n",
    "gs_ace_rfc = GridSearchCV(RandomForestClassifier(), params_ace_rfc, cv=3)\n",
    "\n",
    "gs_ace_rfc.fit(X_train_ace, y_train_tobacco)"
   ]
  },
  {
   "cell_type": "code",
   "execution_count": 42,
   "metadata": {},
   "outputs": [
    {
     "data": {
      "text/plain": [
       "GridSearchCV(cv=3, estimator=RandomForestClassifier(),\n",
       "             param_grid={'max_depth': [None, 3, 5],\n",
       "                         'min_samples_leaf': [1, 3, 5],\n",
       "                         'min_samples_split': [1, 3, 5],\n",
       "                         'n_estimators': [100, 300, 500]})"
      ]
     },
     "execution_count": 42,
     "metadata": {},
     "output_type": "execute_result"
    }
   ],
   "source": [
    "gs2_ace_rfc = GridSearchCV(RandomForestClassifier(), params_ace_rfc, cv=3)\n",
    "\n",
    "gs2_ace_rfc.fit(X_train_ace2, y_train_activity)"
   ]
  },
  {
   "cell_type": "code",
   "execution_count": 43,
   "metadata": {},
   "outputs": [
    {
     "data": {
      "text/plain": [
       "GridSearchCV(cv=3, estimator=RandomForestClassifier(),\n",
       "             param_grid={'max_depth': [None, 3, 5],\n",
       "                         'min_samples_leaf': [1, 3, 5],\n",
       "                         'min_samples_split': [1, 3, 5],\n",
       "                         'n_estimators': [100, 300, 500]})"
      ]
     },
     "execution_count": 43,
     "metadata": {},
     "output_type": "execute_result"
    }
   ],
   "source": [
    "gs3_ace_rfc = GridSearchCV(RandomForestClassifier(), params_ace_rfc, cv=3)\n",
    "\n",
    "gs3_ace_rfc.fit(X_train_ace3, y_train_health)"
   ]
  },
  {
   "cell_type": "code",
   "execution_count": 44,
   "metadata": {},
   "outputs": [
    {
     "data": {
      "text/plain": [
       "GridSearchCV(cv=3, estimator=RandomForestClassifier(),\n",
       "             param_grid={'max_depth': [None, 3, 5],\n",
       "                         'min_samples_leaf': [1, 3, 5],\n",
       "                         'min_samples_split': [1, 3, 5],\n",
       "                         'n_estimators': [100, 300, 500]})"
      ]
     },
     "execution_count": 44,
     "metadata": {},
     "output_type": "execute_result"
    }
   ],
   "source": [
    "gs4_ace_rfc = GridSearchCV(RandomForestClassifier(), params_ace_rfc, cv=3)\n",
    "\n",
    "gs4_ace_rfc.fit(X_train_ace4, y_train_smoker)"
   ]
  },
  {
   "cell_type": "code",
   "execution_count": 45,
   "metadata": {},
   "outputs": [],
   "source": [
    "tobacco_ace_rfc_preds = gs_ace_rfc.predict(X_test_ace)\n",
    "activity_ace_rfc_preds = gs2_ace_rfc.predict(X_test_ace2)\n",
    "health_ace_rfc_preds = gs3_ace_rfc.predict(X_test_ace3)\n",
    "smoker_ace_rfc_preds = gs4_ace_rfc.predict(X_test_ace4)\n",
    "\n",
    "tobacco_ace_rfc_prec = precision_score(y_test_tobacco, tobacco_ace_rfc_preds, average='micro')\n",
    "activity_ace_rfc_prec = precision_score(y_test_activity, activity_ace_rfc_preds, average='micro')\n",
    "health_ace_rfc_prec = precision_score(y_test_health, health_ace_rfc_preds, average='micro')\n",
    "smoker_ace_rfc_prec = precision_score(y_test_smoker, smoker_ace_rfc_preds, average='micro')"
   ]
  },
  {
   "cell_type": "code",
   "execution_count": 46,
   "metadata": {},
   "outputs": [
    {
     "name": "stdout",
     "output_type": "stream",
     "text": [
      " training accuracy for tobacco: 0.4658421672555948\n",
      " training accuracy for activity: 0.5264324153213042\n",
      " training accuracy for health: 0.5390011223344556\n",
      " training accuracy for smoker: 0.34205128205128205\n"
     ]
    }
   ],
   "source": [
    "print(f' training accuracy for tobacco: {gs_ace_rfc.score(X_train_ace, y_train_tobacco)}')\n",
    "print(f' training accuracy for activity: {gs2_ace_rfc.score(X_train_ace2, y_train_activity)}')\n",
    "print(f' training accuracy for health: {gs3_ace_rfc.score(X_train_ace3, y_train_health)}')\n",
    "print(f' training accuracy for smoker: {gs4_ace_rfc.score(X_train_ace4, y_train_smoker)}')"
   ]
  },
  {
   "cell_type": "code",
   "execution_count": 47,
   "metadata": {},
   "outputs": [
    {
     "name": "stdout",
     "output_type": "stream",
     "text": [
      " testing accuracy for tobacco: 0.45918727915194346\n",
      " testing accuracy for activity: 0.5343463121240899\n",
      " testing accuracy for health: 0.5420875420875421\n",
      " testing accuracy for smoker: 0.32666666666666666\n"
     ]
    }
   ],
   "source": [
    "print(f' testing accuracy for tobacco: {gs_ace_rfc.score(X_test_ace, y_test_tobacco)}')\n",
    "print(f' testing accuracy for activity: {gs2_ace_rfc.score(X_test_ace2, y_test_activity)}')\n",
    "print(f' testing accuracy for health: {gs3_ace_rfc.score(X_test_ace3, y_test_health)}')\n",
    "print(f' testing accuracy for smoker: {gs4_ace_rfc.score(X_test_ace4, y_test_smoker)}')"
   ]
  },
  {
   "cell_type": "code",
   "execution_count": 48,
   "metadata": {},
   "outputs": [
    {
     "name": "stdout",
     "output_type": "stream",
     "text": [
      "Precision for tobacco: 0.45918727915194346\n",
      "Precision for activity: 0.5343463121240899\n",
      "Precision for health: 0.5420875420875421\n",
      "Precision for smoker: 0.32666666666666666\n"
     ]
    }
   ],
   "source": [
    "print(f'Precision for tobacco: {tobacco_ace_rfc_prec}')\n",
    "print(f'Precision for activity: {activity_ace_rfc_prec}')\n",
    "print(f'Precision for health: {health_ace_rfc_prec}')\n",
    "print(f'Precision for smoker: {smoker_ace_rfc_prec}')"
   ]
  },
  {
   "cell_type": "code",
   "execution_count": 49,
   "metadata": {},
   "outputs": [
    {
     "name": "stdout",
     "output_type": "stream",
     "text": [
      "{'max_depth': None, 'min_samples_leaf': 5, 'min_samples_split': 3, 'n_estimators': 500}\n",
      "{'max_depth': None, 'min_samples_leaf': 1, 'min_samples_split': 3, 'n_estimators': 100}\n",
      "{'max_depth': None, 'min_samples_leaf': 1, 'min_samples_split': 3, 'n_estimators': 100}\n",
      "{'max_depth': None, 'min_samples_leaf': 1, 'min_samples_split': 3, 'n_estimators': 500}\n"
     ]
    }
   ],
   "source": [
    "print(gs_ace_rfc.best_params_)\n",
    "print(gs2_ace_rfc.best_params_)\n",
    "print(gs3_ace_rfc.best_params_)\n",
    "print(gs4_ace_rfc.best_params_)"
   ]
  },
  {
   "cell_type": "markdown",
   "metadata": {},
   "source": [
    "### Gridsearch with just ACE count as predictor (Extra Trees Classifier)"
   ]
  },
  {
   "cell_type": "code",
   "execution_count": 50,
   "metadata": {},
   "outputs": [
    {
     "data": {
      "text/plain": [
       "GridSearchCV(cv=3, estimator=ExtraTreesClassifier(),\n",
       "             param_grid={'max_depth': [None, 3, 5],\n",
       "                         'min_samples_leaf': [1, 3, 5],\n",
       "                         'min_samples_split': [1, 3, 5],\n",
       "                         'n_estimators': [100, 300, 500]})"
      ]
     },
     "execution_count": 50,
     "metadata": {},
     "output_type": "execute_result"
    }
   ],
   "source": [
    "params_ace_etc = {'n_estimators': [100, 300, 500],\n",
    "                  'max_depth': [None, 3, 5],\n",
    "                 'min_samples_split': [1, 3, 5],\n",
    "                 'min_samples_leaf': [1, 3, 5]}\n",
    "\n",
    "gs_ace_etc = GridSearchCV(ExtraTreesClassifier(), params_ace_etc, cv=3)\n",
    "\n",
    "gs_ace_etc.fit(X_train_ace, y_train_tobacco)"
   ]
  },
  {
   "cell_type": "code",
   "execution_count": 51,
   "metadata": {},
   "outputs": [
    {
     "data": {
      "text/plain": [
       "GridSearchCV(cv=3, estimator=ExtraTreesClassifier(),\n",
       "             param_grid={'max_depth': [None, 3, 5],\n",
       "                         'min_samples_leaf': [1, 3, 5],\n",
       "                         'min_samples_split': [1, 3, 5],\n",
       "                         'n_estimators': [100, 300, 500]})"
      ]
     },
     "execution_count": 51,
     "metadata": {},
     "output_type": "execute_result"
    }
   ],
   "source": [
    "gs2_ace_etc = GridSearchCV(ExtraTreesClassifier(), params_ace_etc, cv=3)\n",
    "\n",
    "gs2_ace_etc.fit(X_train_ace2, y_train_activity)"
   ]
  },
  {
   "cell_type": "code",
   "execution_count": 52,
   "metadata": {},
   "outputs": [
    {
     "data": {
      "text/plain": [
       "GridSearchCV(cv=3, estimator=ExtraTreesClassifier(),\n",
       "             param_grid={'max_depth': [None, 3, 5],\n",
       "                         'min_samples_leaf': [1, 3, 5],\n",
       "                         'min_samples_split': [1, 3, 5],\n",
       "                         'n_estimators': [100, 300, 500]})"
      ]
     },
     "execution_count": 52,
     "metadata": {},
     "output_type": "execute_result"
    }
   ],
   "source": [
    "gs3_ace_etc = GridSearchCV(ExtraTreesClassifier(), params_ace_etc, cv=3)\n",
    "\n",
    "gs3_ace_etc.fit(X_train_ace3, y_train_health)"
   ]
  },
  {
   "cell_type": "code",
   "execution_count": 53,
   "metadata": {},
   "outputs": [
    {
     "data": {
      "text/plain": [
       "GridSearchCV(cv=3, estimator=ExtraTreesClassifier(),\n",
       "             param_grid={'max_depth': [None, 3, 5],\n",
       "                         'min_samples_leaf': [1, 3, 5],\n",
       "                         'min_samples_split': [1, 3, 5],\n",
       "                         'n_estimators': [100, 300, 500]})"
      ]
     },
     "execution_count": 53,
     "metadata": {},
     "output_type": "execute_result"
    }
   ],
   "source": [
    "gs4_ace_etc = GridSearchCV(ExtraTreesClassifier(), params_ace_etc, cv=3)\n",
    "\n",
    "gs4_ace_etc.fit(X_train_ace4, y_train_smoker)"
   ]
  },
  {
   "cell_type": "code",
   "execution_count": 54,
   "metadata": {},
   "outputs": [],
   "source": [
    "tobacco_ace_etc_preds = gs_ace_etc.predict(X_test_ace)\n",
    "activity_ace_etc_preds = gs2_ace_etc.predict(X_test_ace2)\n",
    "health_ace_etc_preds = gs3_ace_etc.predict(X_test_ace3)\n",
    "smoker_ace_etc_preds = gs4_ace_etc.predict(X_test_ace4)\n",
    "\n",
    "tobacco_ace_etc_prec = precision_score(y_test_tobacco, tobacco_ace_etc_preds, average='micro')\n",
    "activity_ace_etc_prec = precision_score(y_test_activity, activity_ace_etc_preds, average='micro')\n",
    "health_ace_etc_prec = precision_score(y_test_health, health_ace_etc_preds, average='micro')\n",
    "smoker_ace_etc_prec = precision_score(y_test_smoker, smoker_ace_etc_preds, average='micro')"
   ]
  },
  {
   "cell_type": "code",
   "execution_count": 55,
   "metadata": {},
   "outputs": [
    {
     "name": "stdout",
     "output_type": "stream",
     "text": [
      " training accuracy for tobacco: 0.470906949352179\n",
      " training accuracy for activity: 0.5264324153213042\n",
      " training accuracy for health: 0.5390011223344556\n",
      " training accuracy for smoker: 0.34196581196581194\n"
     ]
    }
   ],
   "source": [
    "print(f' training accuracy for tobacco: {gs_ace_etc.score(X_train_ace, y_train_tobacco)}')\n",
    "print(f' training accuracy for activity: {gs2_ace_etc.score(X_train_ace2, y_train_activity)}')\n",
    "print(f' training accuracy for health: {gs3_ace_etc.score(X_train_ace3, y_train_health)}')\n",
    "print(f' training accuracy for smoker: {gs4_ace_etc.score(X_train_ace4, y_train_smoker)}')"
   ]
  },
  {
   "cell_type": "code",
   "execution_count": 56,
   "metadata": {},
   "outputs": [
    {
     "name": "stdout",
     "output_type": "stream",
     "text": [
      " testing accuracy for tobacco: 0.4586572438162544\n",
      " testing accuracy for activity: 0.5343463121240899\n",
      " testing accuracy for health: 0.5432098765432098\n",
      " testing accuracy for smoker: 0.32794871794871794\n"
     ]
    }
   ],
   "source": [
    "print(f' testing accuracy for tobacco: {gs_ace_etc.score(X_test_ace, y_test_tobacco)}')\n",
    "print(f' testing accuracy for activity: {gs2_ace_etc.score(X_test_ace2, y_test_activity)}')\n",
    "print(f' testing accuracy for health: {gs3_ace_etc.score(X_test_ace3, y_test_health)}')\n",
    "print(f' testing accuracy for smoker: {gs4_ace_etc.score(X_test_ace4, y_test_smoker)}')"
   ]
  },
  {
   "cell_type": "code",
   "execution_count": 57,
   "metadata": {},
   "outputs": [
    {
     "name": "stdout",
     "output_type": "stream",
     "text": [
      "Precision for tobacco: 0.4586572438162544\n",
      "Precision for activity: 0.5343463121240899\n",
      "Precision for health: 0.5432098765432098\n",
      "Precision for smoker: 0.32794871794871794\n"
     ]
    }
   ],
   "source": [
    "print(f'Precision for tobacco: {tobacco_ace_etc_prec}')\n",
    "print(f'Precision for activity: {activity_ace_etc_prec}')\n",
    "print(f'Precision for health: {health_ace_etc_prec}')\n",
    "print(f'Precision for smoker: {smoker_ace_etc_prec}')"
   ]
  },
  {
   "cell_type": "code",
   "execution_count": 58,
   "metadata": {},
   "outputs": [
    {
     "name": "stdout",
     "output_type": "stream",
     "text": [
      "{'max_depth': None, 'min_samples_leaf': 1, 'min_samples_split': 5, 'n_estimators': 300}\n",
      "{'max_depth': None, 'min_samples_leaf': 1, 'min_samples_split': 3, 'n_estimators': 100}\n",
      "{'max_depth': None, 'min_samples_leaf': 1, 'min_samples_split': 5, 'n_estimators': 500}\n",
      "{'max_depth': None, 'min_samples_leaf': 1, 'min_samples_split': 5, 'n_estimators': 300}\n"
     ]
    }
   ],
   "source": [
    "print(gs_ace_etc.best_params_)\n",
    "print(gs2_ace_etc.best_params_)\n",
    "print(gs3_ace_etc.best_params_)\n",
    "print(gs4_ace_etc.best_params_)"
   ]
  },
  {
   "cell_type": "markdown",
   "metadata": {},
   "source": [
    "### Gridsearch with just ACE count as predictor (Gradient Boost Classifier)\n",
    "- won't be running this model, it takes too long (even using the Cloud it takes hours for one model to run)"
   ]
  },
  {
   "cell_type": "markdown",
   "metadata": {},
   "source": [
    "pipe_ace_gbc = make_pipeline(StandardScaler(), GradientBoostingClassifier())\n",
    "\n",
    "params_ace_gbc = {'gradientboostingclassifier__loss': ['deviance', 'exponential'],\n",
    "                  'gradientboostingclassifier__learning_rate': [0.01, 0.1, 0.5],\n",
    "                  'gradientboostingclassifier__n_estimators': [100, 500],\n",
    "                  'gradientboostingclassifier__max_depth': [3, 5]}\n",
    "\n",
    "gs_ace_gbc = GridSearchCV(pipe_ace_gbc, params_ace_gbc, cv=3)\n",
    "\n",
    "gs_ace_gbc.fit(X_train_ace, y_train_tobacco)"
   ]
  },
  {
   "cell_type": "markdown",
   "metadata": {},
   "source": [
    "pipe2_ace_gbc = make_pipeline(StandardScaler(), GradientBoostingClassifier())\n",
    "\n",
    "gs2_ace_gbc = GridSearchCV(pipe2_ace_gbc, params_ace_gbc, cv=3)\n",
    "\n",
    "gs2_ace_gbc.fit(X_train_ace2, y_train_activity)"
   ]
  },
  {
   "cell_type": "markdown",
   "metadata": {},
   "source": [
    "pipe3_ace_gbc = make_pipeline(StandardScaler(), GradientBoostingClassifier())\n",
    "\n",
    "gs3_ace_gbc = GridSearchCV(pipe3_ace_gbc, params_ace_gbc, cv=3)\n",
    "\n",
    "gs3_ace_gbc.fit(X_train_ace3, y_train_health)"
   ]
  },
  {
   "cell_type": "markdown",
   "metadata": {},
   "source": [
    "pipe4_ace_gbc = make_pipeline(StandardScaler(), GradientBoostingClassifier())\n",
    "\n",
    "gs4_ace_gbc = GridSearchCV(pipe4_ace_gbc, params_ace_gbc, cv=3)\n",
    "\n",
    "gs4_ace_gbc.fit(X_train_ace4, y_train_smoker)"
   ]
  },
  {
   "cell_type": "markdown",
   "metadata": {},
   "source": [
    "tobacco_ace_gbc_preds = gs_ace_gbc.predict(X_test_ace)\n",
    "activity_ace_gbc_preds = gs2_ace_gbc.predict(X_test_ace2)\n",
    "health_ace_gbc_preds = gs3_ace_gbc.predict(X_test_ace3)\n",
    "smoker_ace_gbc_preds = gs4_ace_gbc.predict(X_test_ace4)\n",
    "\n",
    "tobacco_ace_gbc_prec = precision_score(y_test_tobacco, tobacco_ace_gbc_preds, average='micro')\n",
    "activity_ace_gbc_prec = precision_score(y_test_activity, activity_ace_gbc_preds, average='micro')\n",
    "health_ace_gbc_prec = precision_score(y_test_health, health_ace_gbc_preds, average='micro')\n",
    "smoker_ace_gbc_prec = precision_score(y_test_smoker, smoker_ace_gbc_preds, average='micro')"
   ]
  },
  {
   "cell_type": "markdown",
   "metadata": {},
   "source": [
    "print(f' training accuracy for tobacco: {gs_ace_gbc.score(X_train_ace, y_train_tobacco)}')\n",
    "print(f' training accuracy for activity: {gs2_ace_gbc.score(X_train_ace2, y_train_activity)}')\n",
    "print(f' training accuracy for health: {gs3_ace_gbc.score(X_train_ace3, y_train_health)}')\n",
    "print(f' training accuracy for smoker: {gs4_ace_gbc.score(X_train_ace4, y_train_smoker)}')"
   ]
  },
  {
   "cell_type": "markdown",
   "metadata": {},
   "source": [
    "print(f' testing accuracy for tobacco: {gs_ace_gbc.score(X_test_ace, y_test_tobacco)}')\n",
    "print(f' testing accuracy for activity: {gs2_ace_gbc.score(X_test_ace2, y_test_activity)}')\n",
    "print(f' testing accuracy for health: {gs3_ace_gbc.score(X_test_ace3, y_test_health)}')\n",
    "print(f' testing accuracy for smoker: {gs4_ace_gbc.score(X_test_ace4, y_test_smoker)}')"
   ]
  },
  {
   "cell_type": "markdown",
   "metadata": {},
   "source": [
    "print(f'Precision for tobacco: {tobacco_ace_gbc_prec}')\n",
    "print(f'Precision for activity: {activity_ace_gbc_prec}')\n",
    "print(f'Precision for health: {health_ace_gbc_prec}')\n",
    "print(f'Precision for smoker: {smoker_ace_gbc_prec}')"
   ]
  },
  {
   "cell_type": "markdown",
   "metadata": {},
   "source": [
    "print(gs_ace_gbc.best_params_)\n",
    "print(gs2_ace_gbc.best_params_)\n",
    "print(gs3_ace_gbc.best_params_)\n",
    "print(gs4_ace_gbc.best_params_)"
   ]
  },
  {
   "cell_type": "markdown",
   "metadata": {},
   "source": [
    "### Gridsearch with just ACE count as predictor (Ada Boost Classifier)"
   ]
  },
  {
   "cell_type": "code",
   "execution_count": 59,
   "metadata": {},
   "outputs": [
    {
     "data": {
      "text/plain": [
       "GridSearchCV(cv=3, estimator=AdaBoostClassifier(),\n",
       "             param_grid={'learning_rate': [0.5, 1.0],\n",
       "                         'n_estimators': [10, 15, 20, 25]})"
      ]
     },
     "execution_count": 59,
     "metadata": {},
     "output_type": "execute_result"
    }
   ],
   "source": [
    "params_ace_abc = {'learning_rate': [0.5, 1.0],\n",
    "                  'n_estimators': [10, 15, 20, 25], }\n",
    "\n",
    "gs_ace_abc = GridSearchCV(AdaBoostClassifier(), params_ace_abc, cv=3)\n",
    "\n",
    "gs_ace_abc.fit(X_train_ace, y_train_tobacco)"
   ]
  },
  {
   "cell_type": "code",
   "execution_count": 60,
   "metadata": {},
   "outputs": [
    {
     "data": {
      "text/plain": [
       "GridSearchCV(cv=3, estimator=AdaBoostClassifier(),\n",
       "             param_grid={'learning_rate': [0.5, 1.0],\n",
       "                         'n_estimators': [10, 15, 20, 25]})"
      ]
     },
     "execution_count": 60,
     "metadata": {},
     "output_type": "execute_result"
    }
   ],
   "source": [
    "gs2_ace_abc = GridSearchCV(AdaBoostClassifier(), params_ace_abc, cv=3)\n",
    "\n",
    "gs2_ace_abc.fit(X_train_ace2, y_train_activity)"
   ]
  },
  {
   "cell_type": "code",
   "execution_count": 61,
   "metadata": {},
   "outputs": [
    {
     "data": {
      "text/plain": [
       "GridSearchCV(cv=3, estimator=AdaBoostClassifier(),\n",
       "             param_grid={'learning_rate': [0.5, 1.0],\n",
       "                         'n_estimators': [10, 15, 20, 25]})"
      ]
     },
     "execution_count": 61,
     "metadata": {},
     "output_type": "execute_result"
    }
   ],
   "source": [
    "gs3_ace_abc = GridSearchCV(AdaBoostClassifier(), params_ace_abc, cv=3)\n",
    "\n",
    "gs3_ace_abc.fit(X_train_ace3, y_train_health)"
   ]
  },
  {
   "cell_type": "code",
   "execution_count": 62,
   "metadata": {},
   "outputs": [
    {
     "data": {
      "text/plain": [
       "GridSearchCV(cv=3, estimator=AdaBoostClassifier(),\n",
       "             param_grid={'learning_rate': [0.5, 1.0],\n",
       "                         'n_estimators': [10, 15, 20, 25]})"
      ]
     },
     "execution_count": 62,
     "metadata": {},
     "output_type": "execute_result"
    }
   ],
   "source": [
    "gs4_ace_abc = GridSearchCV(AdaBoostClassifier(), params_ace_abc, cv=3)\n",
    "\n",
    "gs4_ace_abc.fit(X_train_ace4, y_train_smoker)"
   ]
  },
  {
   "cell_type": "code",
   "execution_count": 63,
   "metadata": {},
   "outputs": [],
   "source": [
    "tobacco_ace_abc_preds = gs_ace_abc.predict(X_test_ace)\n",
    "activity_ace_abc_preds = gs2_ace_abc.predict(X_test_ace2)\n",
    "health_ace_abc_preds = gs3_ace_abc.predict(X_test_ace3)\n",
    "smoker_ace_abc_preds = gs4_ace_abc.predict(X_test_ace4)\n",
    "\n",
    "tobacco_ace_abc_prec = precision_score(y_test_tobacco, tobacco_ace_abc_preds, average='micro')\n",
    "activity_ace_abc_prec = precision_score(y_test_activity, activity_ace_abc_preds, average='micro')\n",
    "health_ace_abc_prec = precision_score(y_test_health, health_ace_abc_preds, average='micro')\n",
    "smoker_ace_abc_prec = precision_score(y_test_smoker, smoker_ace_abc_preds, average='micro')"
   ]
  },
  {
   "cell_type": "code",
   "execution_count": 64,
   "metadata": {},
   "outputs": [
    {
     "name": "stdout",
     "output_type": "stream",
     "text": [
      " training accuracy for tobacco: 0.40683156654888103\n",
      " training accuracy for activity: 0.5061728395061729\n",
      " training accuracy for health: 0.4990647212869435\n",
      " training accuracy for smoker: 0.321965811965812\n"
     ]
    }
   ],
   "source": [
    "print(f' training accuracy for tobacco: {gs_ace_abc.score(X_train_ace, y_train_tobacco)}')\n",
    "print(f' training accuracy for activity: {gs2_ace_abc.score(X_train_ace2, y_train_activity)}')\n",
    "print(f' training accuracy for health: {gs3_ace_abc.score(X_train_ace3, y_train_health)}')\n",
    "print(f' training accuracy for smoker: {gs4_ace_abc.score(X_train_ace4, y_train_smoker)}')"
   ]
  },
  {
   "cell_type": "code",
   "execution_count": 65,
   "metadata": {},
   "outputs": [
    {
     "name": "stdout",
     "output_type": "stream",
     "text": [
      " testing accuracy for tobacco: 0.4070671378091873\n",
      " testing accuracy for activity: 0.51218740107629\n",
      " testing accuracy for health: 0.5061728395061729\n",
      " testing accuracy for smoker: 0.3128205128205128\n"
     ]
    }
   ],
   "source": [
    "print(f' testing accuracy for tobacco: {gs_ace_abc.score(X_test_ace, y_test_tobacco)}')\n",
    "print(f' testing accuracy for activity: {gs2_ace_abc.score(X_test_ace2, y_test_activity)}')\n",
    "print(f' testing accuracy for health: {gs3_ace_abc.score(X_test_ace3, y_test_health)}')\n",
    "print(f' testing accuracy for smoker: {gs4_ace_abc.score(X_test_ace4, y_test_smoker)}')"
   ]
  },
  {
   "cell_type": "code",
   "execution_count": 66,
   "metadata": {},
   "outputs": [
    {
     "name": "stdout",
     "output_type": "stream",
     "text": [
      "Precision for tobacco: 0.4070671378091873\n",
      "Precision for activity: 0.51218740107629\n",
      "Precision for health: 0.5061728395061729\n",
      "Precision for smoker: 0.3128205128205128\n"
     ]
    }
   ],
   "source": [
    "print(f'Precision for tobacco: {tobacco_ace_abc_prec}')\n",
    "print(f'Precision for activity: {activity_ace_abc_prec}')\n",
    "print(f'Precision for health: {health_ace_abc_prec}')\n",
    "print(f'Precision for smoker: {smoker_ace_abc_prec}')"
   ]
  },
  {
   "cell_type": "code",
   "execution_count": 67,
   "metadata": {},
   "outputs": [
    {
     "name": "stdout",
     "output_type": "stream",
     "text": [
      "{'learning_rate': 0.5, 'n_estimators': 25}\n",
      "{'learning_rate': 1.0, 'n_estimators': 25}\n",
      "{'learning_rate': 1.0, 'n_estimators': 20}\n",
      "{'learning_rate': 1.0, 'n_estimators': 10}\n"
     ]
    }
   ],
   "source": [
    "print(gs_ace_abc.best_params_)\n",
    "print(gs2_ace_abc.best_params_)\n",
    "print(gs3_ace_abc.best_params_)\n",
    "print(gs4_ace_abc.best_params_)"
   ]
  },
  {
   "cell_type": "markdown",
   "metadata": {},
   "source": [
    "### Gridsearch with just ACE count as predictor (XG Boost Classifier)"
   ]
  },
  {
   "cell_type": "code",
   "execution_count": 68,
   "metadata": {},
   "outputs": [
    {
     "data": {
      "text/plain": [
       "GridSearchCV(cv=3,\n",
       "             estimator=XGBClassifier(base_score=None, booster=None,\n",
       "                                     colsample_bylevel=None,\n",
       "                                     colsample_bynode=None,\n",
       "                                     colsample_bytree=None, gamma=None,\n",
       "                                     gpu_id=None, importance_type='gain',\n",
       "                                     interaction_constraints=None,\n",
       "                                     learning_rate=None, max_delta_step=None,\n",
       "                                     max_depth=None, min_child_weight=None,\n",
       "                                     missing=nan, monotone_constraints=None,\n",
       "                                     n_estimators=100, n_jobs=None,\n",
       "                                     num_parallel_tree=None, random_state=None,\n",
       "                                     reg_alpha=None, reg_lambda=None,\n",
       "                                     scale_pos_weight=None, subsample=None,\n",
       "                                     tree_method=None, validate_parameters=None,\n",
       "                                     verbosity=None),\n",
       "             param_grid={'learning_rate': [0.5, 1.0], 'max_depth': [3, 5],\n",
       "                         'n_estimators': [10, 15, 20, 25]})"
      ]
     },
     "execution_count": 68,
     "metadata": {},
     "output_type": "execute_result"
    }
   ],
   "source": [
    "params_ace_xgb = {'learning_rate': [0.5, 1.0],\n",
    "                  'n_estimators': [10, 15, 20, 25],\n",
    "                 'max_depth': [3, 5]}\n",
    "\n",
    "gs_ace_xgb = GridSearchCV(xgb.XGBClassifier(), params_ace_xgb, cv=3)\n",
    "\n",
    "gs_ace_xgb.fit(X_train_ace, y_train_tobacco)"
   ]
  },
  {
   "cell_type": "code",
   "execution_count": 69,
   "metadata": {},
   "outputs": [
    {
     "data": {
      "text/plain": [
       "GridSearchCV(cv=3,\n",
       "             estimator=XGBClassifier(base_score=None, booster=None,\n",
       "                                     colsample_bylevel=None,\n",
       "                                     colsample_bynode=None,\n",
       "                                     colsample_bytree=None, gamma=None,\n",
       "                                     gpu_id=None, importance_type='gain',\n",
       "                                     interaction_constraints=None,\n",
       "                                     learning_rate=None, max_delta_step=None,\n",
       "                                     max_depth=None, min_child_weight=None,\n",
       "                                     missing=nan, monotone_constraints=None,\n",
       "                                     n_estimators=100, n_jobs=None,\n",
       "                                     num_parallel_tree=None, random_state=None,\n",
       "                                     reg_alpha=None, reg_lambda=None,\n",
       "                                     scale_pos_weight=None, subsample=None,\n",
       "                                     tree_method=None, validate_parameters=None,\n",
       "                                     verbosity=None),\n",
       "             param_grid={'learning_rate': [0.5, 1.0], 'max_depth': [3, 5],\n",
       "                         'n_estimators': [10, 15, 20, 25]})"
      ]
     },
     "execution_count": 69,
     "metadata": {},
     "output_type": "execute_result"
    }
   ],
   "source": [
    "gs2_ace_xgb = GridSearchCV(xgb.XGBClassifier(), params_ace_xgb, cv=3)\n",
    "\n",
    "gs2_ace_xgb.fit(X_train_ace2, y_train_activity)"
   ]
  },
  {
   "cell_type": "code",
   "execution_count": 70,
   "metadata": {},
   "outputs": [
    {
     "data": {
      "text/plain": [
       "GridSearchCV(cv=3,\n",
       "             estimator=XGBClassifier(base_score=None, booster=None,\n",
       "                                     colsample_bylevel=None,\n",
       "                                     colsample_bynode=None,\n",
       "                                     colsample_bytree=None, gamma=None,\n",
       "                                     gpu_id=None, importance_type='gain',\n",
       "                                     interaction_constraints=None,\n",
       "                                     learning_rate=None, max_delta_step=None,\n",
       "                                     max_depth=None, min_child_weight=None,\n",
       "                                     missing=nan, monotone_constraints=None,\n",
       "                                     n_estimators=100, n_jobs=None,\n",
       "                                     num_parallel_tree=None, random_state=None,\n",
       "                                     reg_alpha=None, reg_lambda=None,\n",
       "                                     scale_pos_weight=None, subsample=None,\n",
       "                                     tree_method=None, validate_parameters=None,\n",
       "                                     verbosity=None),\n",
       "             param_grid={'learning_rate': [0.5, 1.0], 'max_depth': [3, 5],\n",
       "                         'n_estimators': [10, 15, 20, 25]})"
      ]
     },
     "execution_count": 70,
     "metadata": {},
     "output_type": "execute_result"
    }
   ],
   "source": [
    "gs3_ace_xgb = GridSearchCV(xgb.XGBClassifier(), params_ace_xgb, cv=3)\n",
    "\n",
    "gs3_ace_xgb.fit(X_train_ace3, y_train_health)"
   ]
  },
  {
   "cell_type": "code",
   "execution_count": 71,
   "metadata": {},
   "outputs": [
    {
     "data": {
      "text/plain": [
       "GridSearchCV(cv=3,\n",
       "             estimator=XGBClassifier(base_score=None, booster=None,\n",
       "                                     colsample_bylevel=None,\n",
       "                                     colsample_bynode=None,\n",
       "                                     colsample_bytree=None, gamma=None,\n",
       "                                     gpu_id=None, importance_type='gain',\n",
       "                                     interaction_constraints=None,\n",
       "                                     learning_rate=None, max_delta_step=None,\n",
       "                                     max_depth=None, min_child_weight=None,\n",
       "                                     missing=nan, monotone_constraints=None,\n",
       "                                     n_estimators=100, n_jobs=None,\n",
       "                                     num_parallel_tree=None, random_state=None,\n",
       "                                     reg_alpha=None, reg_lambda=None,\n",
       "                                     scale_pos_weight=None, subsample=None,\n",
       "                                     tree_method=None, validate_parameters=None,\n",
       "                                     verbosity=None),\n",
       "             param_grid={'learning_rate': [0.5, 1.0], 'max_depth': [3, 5],\n",
       "                         'n_estimators': [10, 15, 20, 25]})"
      ]
     },
     "execution_count": 71,
     "metadata": {},
     "output_type": "execute_result"
    }
   ],
   "source": [
    "gs4_ace_xgb = GridSearchCV(xgb.XGBClassifier(), params_ace_xgb, cv=3)\n",
    "\n",
    "gs4_ace_xgb.fit(X_train_ace4, y_train_smoker)"
   ]
  },
  {
   "cell_type": "code",
   "execution_count": 72,
   "metadata": {},
   "outputs": [],
   "source": [
    "tobacco_ace_xgb_preds = gs_ace_xgb.predict(X_test_ace)\n",
    "activity_ace_xgb_preds = gs2_ace_xgb.predict(X_test_ace2)\n",
    "health_ace_xgb_preds = gs3_ace_xgb.predict(X_test_ace3)\n",
    "smoker_ace_xgb_preds = gs4_ace_xgb.predict(X_test_ace4)\n",
    "\n",
    "tobacco_ace_xgb_prec = precision_score(y_test_tobacco, tobacco_ace_xgb_preds, average='micro')\n",
    "activity_ace_xgb_prec = precision_score(y_test_activity, activity_ace_xgb_preds, average='micro')\n",
    "health_ace_xgb_prec = precision_score(y_test_health, health_ace_xgb_preds, average='micro')\n",
    "smoker_ace_xgb_prec = precision_score(y_test_smoker, smoker_ace_xgb_preds, average='micro')"
   ]
  },
  {
   "cell_type": "code",
   "execution_count": 73,
   "metadata": {},
   "outputs": [
    {
     "name": "stdout",
     "output_type": "stream",
     "text": [
      " training accuracy for tobacco: 0.4640164899882214\n",
      " training accuracy for activity: 0.5264324153213042\n",
      " training accuracy for health: 0.5390011223344556\n",
      " training accuracy for smoker: 0.34196581196581194\n"
     ]
    }
   ],
   "source": [
    "print(f' training accuracy for tobacco: {gs_ace_xgb.score(X_train_ace, y_train_tobacco)}')\n",
    "print(f' training accuracy for activity: {gs2_ace_xgb.score(X_train_ace2, y_train_activity)}')\n",
    "print(f' training accuracy for health: {gs3_ace_xgb.score(X_train_ace3, y_train_health)}')\n",
    "print(f' training accuracy for smoker: {gs4_ace_xgb.score(X_train_ace4, y_train_smoker)}')"
   ]
  },
  {
   "cell_type": "code",
   "execution_count": 74,
   "metadata": {},
   "outputs": [
    {
     "name": "stdout",
     "output_type": "stream",
     "text": [
      " testing accuracy for tobacco: 0.45971731448763253\n",
      " testing accuracy for activity: 0.5343463121240899\n",
      " testing accuracy for health: 0.5420875420875421\n",
      " testing accuracy for smoker: 0.32743589743589746\n"
     ]
    }
   ],
   "source": [
    "print(f' testing accuracy for tobacco: {gs_ace_xgb.score(X_test_ace, y_test_tobacco)}')\n",
    "print(f' testing accuracy for activity: {gs2_ace_xgb.score(X_test_ace2, y_test_activity)}')\n",
    "print(f' testing accuracy for health: {gs3_ace_xgb.score(X_test_ace3, y_test_health)}')\n",
    "print(f' testing accuracy for smoker: {gs4_ace_xgb.score(X_test_ace4, y_test_smoker)}')"
   ]
  },
  {
   "cell_type": "code",
   "execution_count": 75,
   "metadata": {},
   "outputs": [
    {
     "name": "stdout",
     "output_type": "stream",
     "text": [
      "Precision for tobacco: 0.45971731448763253\n",
      "Precision for activity: 0.5343463121240899\n",
      "Precision for health: 0.5420875420875421\n",
      "Precision for smoker: 0.32743589743589746\n"
     ]
    }
   ],
   "source": [
    "print(f'Precision for tobacco: {tobacco_ace_xgb_prec}')\n",
    "print(f'Precision for activity: {activity_ace_xgb_prec}')\n",
    "print(f'Precision for health: {health_ace_xgb_prec}')\n",
    "print(f'Precision for smoker: {smoker_ace_xgb_prec}')"
   ]
  },
  {
   "cell_type": "code",
   "execution_count": 76,
   "metadata": {},
   "outputs": [
    {
     "name": "stdout",
     "output_type": "stream",
     "text": [
      "{'learning_rate': 0.5, 'max_depth': 3, 'n_estimators': 20}\n",
      "{'learning_rate': 0.5, 'max_depth': 5, 'n_estimators': 15}\n",
      "{'learning_rate': 0.5, 'max_depth': 3, 'n_estimators': 25}\n",
      "{'learning_rate': 0.5, 'max_depth': 5, 'n_estimators': 25}\n"
     ]
    }
   ],
   "source": [
    "print(gs_ace_xgb.best_params_)\n",
    "print(gs2_ace_xgb.best_params_)\n",
    "print(gs3_ace_xgb.best_params_)\n",
    "print(gs4_ace_xgb.best_params_)"
   ]
  },
  {
   "cell_type": "code",
   "execution_count": null,
   "metadata": {},
   "outputs": [],
   "source": []
  },
  {
   "cell_type": "code",
   "execution_count": null,
   "metadata": {},
   "outputs": [],
   "source": []
  }
 ],
 "metadata": {
  "environment": {
   "name": "tf2-2-3-gpu.2-3.m58",
   "type": "gcloud",
   "uri": "gcr.io/deeplearning-platform-release/tf2-2-3-gpu.2-3:m58"
  },
  "kernelspec": {
   "display_name": "Python 3",
   "language": "python",
   "name": "python3"
  },
  "language_info": {
   "codemirror_mode": {
    "name": "ipython",
    "version": 3
   },
   "file_extension": ".py",
   "mimetype": "text/x-python",
   "name": "python",
   "nbconvert_exporter": "python",
   "pygments_lexer": "ipython3",
   "version": "3.7.8"
  }
 },
 "nbformat": 4,
 "nbformat_minor": 4
}
