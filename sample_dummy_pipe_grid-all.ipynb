{
 "cells": [
  {
   "cell_type": "code",
   "execution_count": 91,
   "metadata": {
    "collapsed": true,
    "jupyter": {
     "outputs_hidden": true
    }
   },
   "outputs": [
    {
     "name": "stdout",
     "output_type": "stream",
     "text": [
      "Collecting imblearn\n",
      "  Downloading imblearn-0.0-py2.py3-none-any.whl (1.9 kB)\n",
      "Collecting imbalanced-learn\n",
      "  Downloading imbalanced_learn-0.7.0-py3-none-any.whl (167 kB)\n",
      "Requirement already satisfied: joblib>=0.11 in c:\\users\\eboni\\anaconda3\\lib\\site-packages (from imbalanced-learn->imblearn) (0.16.0)\n",
      "Requirement already satisfied: scikit-learn>=0.23 in c:\\users\\eboni\\anaconda3\\lib\\site-packages (from imbalanced-learn->imblearn) (0.23.1)\n",
      "Requirement already satisfied: numpy>=1.13.3 in c:\\users\\eboni\\anaconda3\\lib\\site-packages (from imbalanced-learn->imblearn) (1.18.5)\n",
      "Requirement already satisfied: scipy>=0.19.1 in c:\\users\\eboni\\anaconda3\\lib\\site-packages (from imbalanced-learn->imblearn) (1.5.0)\n",
      "Requirement already satisfied: threadpoolctl>=2.0.0 in c:\\users\\eboni\\anaconda3\\lib\\site-packages (from scikit-learn>=0.23->imbalanced-learn->imblearn) (2.1.0)\n",
      "Installing collected packages: imbalanced-learn, imblearn\n",
      "Successfully installed imbalanced-learn-0.7.0 imblearn-0.0\n"
     ]
    }
   ],
   "source": [
    "#!pip install imblearn"
   ]
  },
  {
   "cell_type": "code",
   "execution_count": 1,
   "metadata": {
    "collapsed": true,
    "jupyter": {
     "outputs_hidden": true
    }
   },
   "outputs": [
    {
     "name": "stdout",
     "output_type": "stream",
     "text": [
      "Collecting xgboost\n",
      "  Downloading xgboost-1.2.1-py3-none-win_amd64.whl (86.5 MB)\n",
      "Requirement already satisfied: scipy in c:\\users\\eboni\\anaconda3\\lib\\site-packages (from xgboost) (1.5.0)\n",
      "Requirement already satisfied: numpy in c:\\users\\eboni\\anaconda3\\lib\\site-packages (from xgboost) (1.18.5)\n",
      "Installing collected packages: xgboost\n",
      "Successfully installed xgboost-1.2.1\n"
     ]
    }
   ],
   "source": [
    "#!pip install xgboost"
   ]
  },
  {
   "cell_type": "code",
   "execution_count": 1,
   "metadata": {},
   "outputs": [],
   "source": [
    "import pandas as pd\n",
    "import numpy as np\n",
    "import seaborn as sns\n",
    "import matplotlib.pyplot as plt\n",
    "\n",
    "from sklearn.model_selection import train_test_split, GridSearchCV\n",
    "from sklearn.preprocessing import StandardScaler\n",
    "from sklearn.feature_selection import SelectKBest, f_classif\n",
    "from sklearn.pipeline import make_pipeline\n",
    "from sklearn.linear_model import LogisticRegression\n",
    "from sklearn.metrics import confusion_matrix, plot_confusion_matrix, precision_score\n",
    "#from sklearn.preprocessing import PolynomialFeatures\n",
    "from sklearn.ensemble import RandomForestClassifier, ExtraTreesClassifier, AdaBoostClassifier, GradientBoostingClassifier\n",
    "\n",
    "from imblearn.over_sampling import SMOTE\n",
    "\n",
    "import xgboost as xgb"
   ]
  },
  {
   "cell_type": "code",
   "execution_count": 2,
   "metadata": {},
   "outputs": [],
   "source": [
    "# reading in full data set\n",
    "brfss_total = pd.read_pickle('./Pickled_Data/brfss_total.pkl')"
   ]
  },
  {
   "cell_type": "code",
   "execution_count": 3,
   "metadata": {},
   "outputs": [
    {
     "data": {
      "text/html": [
       "<div>\n",
       "<style scoped>\n",
       "    .dataframe tbody tr th:only-of-type {\n",
       "        vertical-align: middle;\n",
       "    }\n",
       "\n",
       "    .dataframe tbody tr th {\n",
       "        vertical-align: top;\n",
       "    }\n",
       "\n",
       "    .dataframe thead th {\n",
       "        text-align: right;\n",
       "    }\n",
       "</style>\n",
       "<table border=\"1\" class=\"dataframe\">\n",
       "  <thead>\n",
       "    <tr style=\"text-align: right;\">\n",
       "      <th></th>\n",
       "      <th>_STATE</th>\n",
       "      <th>DISPCODE</th>\n",
       "      <th>PHYSHLTH</th>\n",
       "      <th>MENTHLTH</th>\n",
       "      <th>USENOW3</th>\n",
       "      <th>HISPANC2</th>\n",
       "      <th>MARITAL</th>\n",
       "      <th>CHILDREN</th>\n",
       "      <th>EMPLOY</th>\n",
       "      <th>RENTHOM1</th>\n",
       "      <th>...</th>\n",
       "      <th>ACETTHEM</th>\n",
       "      <th>ACEHVSEX</th>\n",
       "      <th>MSCODE</th>\n",
       "      <th>_IMPAGE</th>\n",
       "      <th>_RFHLTH</th>\n",
       "      <th>_SMOKER3</th>\n",
       "      <th>_PRACE</th>\n",
       "      <th>_EDUCAG</th>\n",
       "      <th>_INCOMG</th>\n",
       "      <th>_TOTINDA</th>\n",
       "    </tr>\n",
       "  </thead>\n",
       "  <tbody>\n",
       "    <tr>\n",
       "      <th>14697</th>\n",
       "      <td>5.0</td>\n",
       "      <td>110.0</td>\n",
       "      <td>0.0</td>\n",
       "      <td>0.0</td>\n",
       "      <td>3.0</td>\n",
       "      <td>2.0</td>\n",
       "      <td>1.0</td>\n",
       "      <td>1.0</td>\n",
       "      <td>2.0</td>\n",
       "      <td>0.0</td>\n",
       "      <td>...</td>\n",
       "      <td>1.0</td>\n",
       "      <td>1.0</td>\n",
       "      <td>5.0</td>\n",
       "      <td>53.0</td>\n",
       "      <td>1.0</td>\n",
       "      <td>4.0</td>\n",
       "      <td>1.0</td>\n",
       "      <td>3.0</td>\n",
       "      <td>5.0</td>\n",
       "      <td>1.0</td>\n",
       "    </tr>\n",
       "    <tr>\n",
       "      <th>14699</th>\n",
       "      <td>5.0</td>\n",
       "      <td>110.0</td>\n",
       "      <td>15.0</td>\n",
       "      <td>0.0</td>\n",
       "      <td>3.0</td>\n",
       "      <td>2.0</td>\n",
       "      <td>2.0</td>\n",
       "      <td>0.0</td>\n",
       "      <td>0.0</td>\n",
       "      <td>0.0</td>\n",
       "      <td>...</td>\n",
       "      <td>1.0</td>\n",
       "      <td>1.0</td>\n",
       "      <td>5.0</td>\n",
       "      <td>64.0</td>\n",
       "      <td>2.0</td>\n",
       "      <td>3.0</td>\n",
       "      <td>1.0</td>\n",
       "      <td>2.0</td>\n",
       "      <td>2.0</td>\n",
       "      <td>1.0</td>\n",
       "    </tr>\n",
       "    <tr>\n",
       "      <th>14700</th>\n",
       "      <td>5.0</td>\n",
       "      <td>110.0</td>\n",
       "      <td>6.0</td>\n",
       "      <td>0.0</td>\n",
       "      <td>3.0</td>\n",
       "      <td>2.0</td>\n",
       "      <td>1.0</td>\n",
       "      <td>0.0</td>\n",
       "      <td>0.0</td>\n",
       "      <td>0.0</td>\n",
       "      <td>...</td>\n",
       "      <td>1.0</td>\n",
       "      <td>1.0</td>\n",
       "      <td>5.0</td>\n",
       "      <td>58.0</td>\n",
       "      <td>1.0</td>\n",
       "      <td>4.0</td>\n",
       "      <td>1.0</td>\n",
       "      <td>3.0</td>\n",
       "      <td>2.0</td>\n",
       "      <td>1.0</td>\n",
       "    </tr>\n",
       "    <tr>\n",
       "      <th>14701</th>\n",
       "      <td>5.0</td>\n",
       "      <td>110.0</td>\n",
       "      <td>30.0</td>\n",
       "      <td>0.0</td>\n",
       "      <td>3.0</td>\n",
       "      <td>2.0</td>\n",
       "      <td>1.0</td>\n",
       "      <td>0.0</td>\n",
       "      <td>0.0</td>\n",
       "      <td>0.0</td>\n",
       "      <td>...</td>\n",
       "      <td>1.0</td>\n",
       "      <td>1.0</td>\n",
       "      <td>5.0</td>\n",
       "      <td>76.0</td>\n",
       "      <td>2.0</td>\n",
       "      <td>4.0</td>\n",
       "      <td>1.0</td>\n",
       "      <td>1.0</td>\n",
       "      <td>0.0</td>\n",
       "      <td>2.0</td>\n",
       "    </tr>\n",
       "    <tr>\n",
       "      <th>14704</th>\n",
       "      <td>5.0</td>\n",
       "      <td>110.0</td>\n",
       "      <td>13.0</td>\n",
       "      <td>0.0</td>\n",
       "      <td>3.0</td>\n",
       "      <td>2.0</td>\n",
       "      <td>3.0</td>\n",
       "      <td>0.0</td>\n",
       "      <td>0.0</td>\n",
       "      <td>0.0</td>\n",
       "      <td>...</td>\n",
       "      <td>1.0</td>\n",
       "      <td>0.0</td>\n",
       "      <td>5.0</td>\n",
       "      <td>82.0</td>\n",
       "      <td>2.0</td>\n",
       "      <td>3.0</td>\n",
       "      <td>1.0</td>\n",
       "      <td>2.0</td>\n",
       "      <td>0.0</td>\n",
       "      <td>2.0</td>\n",
       "    </tr>\n",
       "  </tbody>\n",
       "</table>\n",
       "<p>5 rows × 31 columns</p>\n",
       "</div>"
      ],
      "text/plain": [
       "       _STATE  DISPCODE  PHYSHLTH  MENTHLTH  USENOW3  HISPANC2  MARITAL  \\\n",
       "14697     5.0     110.0       0.0       0.0      3.0       2.0      1.0   \n",
       "14699     5.0     110.0      15.0       0.0      3.0       2.0      2.0   \n",
       "14700     5.0     110.0       6.0       0.0      3.0       2.0      1.0   \n",
       "14701     5.0     110.0      30.0       0.0      3.0       2.0      1.0   \n",
       "14704     5.0     110.0      13.0       0.0      3.0       2.0      3.0   \n",
       "\n",
       "       CHILDREN  EMPLOY  RENTHOM1  ...  ACETTHEM  ACEHVSEX  MSCODE  _IMPAGE  \\\n",
       "14697       1.0     2.0       0.0  ...       1.0       1.0     5.0     53.0   \n",
       "14699       0.0     0.0       0.0  ...       1.0       1.0     5.0     64.0   \n",
       "14700       0.0     0.0       0.0  ...       1.0       1.0     5.0     58.0   \n",
       "14701       0.0     0.0       0.0  ...       1.0       1.0     5.0     76.0   \n",
       "14704       0.0     0.0       0.0  ...       1.0       0.0     5.0     82.0   \n",
       "\n",
       "       _RFHLTH  _SMOKER3  _PRACE  _EDUCAG  _INCOMG  _TOTINDA  \n",
       "14697      1.0       4.0     1.0      3.0      5.0       1.0  \n",
       "14699      2.0       3.0     1.0      2.0      2.0       1.0  \n",
       "14700      1.0       4.0     1.0      3.0      2.0       1.0  \n",
       "14701      2.0       4.0     1.0      1.0      0.0       2.0  \n",
       "14704      2.0       3.0     1.0      2.0      0.0       2.0  \n",
       "\n",
       "[5 rows x 31 columns]"
      ]
     },
     "execution_count": 3,
     "metadata": {},
     "output_type": "execute_result"
    }
   ],
   "source": [
    "brfss_total.head()"
   ]
  },
  {
   "cell_type": "code",
   "execution_count": 4,
   "metadata": {},
   "outputs": [
    {
     "data": {
      "text/plain": [
       "_STATE      0\n",
       "DISPCODE    0\n",
       "PHYSHLTH    0\n",
       "MENTHLTH    0\n",
       "USENOW3     0\n",
       "HISPANC2    0\n",
       "MARITAL     0\n",
       "CHILDREN    0\n",
       "EMPLOY      0\n",
       "RENTHOM1    0\n",
       "SEX         0\n",
       "QLACTLM2    0\n",
       "ACEDEPRS    0\n",
       "ACEDRINK    0\n",
       "ACEDRUGS    0\n",
       "ACEPRISN    0\n",
       "ACEDIVRC    0\n",
       "ACEPUNCH    0\n",
       "ACEHURT     0\n",
       "ACESWEAR    0\n",
       "ACETOUCH    0\n",
       "ACETTHEM    0\n",
       "ACEHVSEX    0\n",
       "MSCODE      0\n",
       "_IMPAGE     0\n",
       "_RFHLTH     0\n",
       "_SMOKER3    0\n",
       "_PRACE      0\n",
       "_EDUCAG     0\n",
       "_INCOMG     0\n",
       "_TOTINDA    0\n",
       "dtype: int64"
      ]
     },
     "execution_count": 4,
     "metadata": {},
     "output_type": "execute_result"
    }
   ],
   "source": [
    "# just making sure no nulls are present\n",
    "brfss_total.isna().sum()"
   ]
  },
  {
   "cell_type": "code",
   "execution_count": 5,
   "metadata": {},
   "outputs": [
    {
     "data": {
      "text/html": [
       "<div>\n",
       "<style scoped>\n",
       "    .dataframe tbody tr th:only-of-type {\n",
       "        vertical-align: middle;\n",
       "    }\n",
       "\n",
       "    .dataframe tbody tr th {\n",
       "        vertical-align: top;\n",
       "    }\n",
       "\n",
       "    .dataframe thead th {\n",
       "        text-align: right;\n",
       "    }\n",
       "</style>\n",
       "<table border=\"1\" class=\"dataframe\">\n",
       "  <thead>\n",
       "    <tr style=\"text-align: right;\">\n",
       "      <th></th>\n",
       "      <th>_STATE</th>\n",
       "      <th>DISPCODE</th>\n",
       "      <th>PHYSHLTH</th>\n",
       "      <th>MENTHLTH</th>\n",
       "      <th>USENOW3</th>\n",
       "      <th>HISPANC2</th>\n",
       "      <th>MARITAL</th>\n",
       "      <th>CHILDREN</th>\n",
       "      <th>EMPLOY</th>\n",
       "      <th>RENTHOM1</th>\n",
       "      <th>...</th>\n",
       "      <th>ACETTHEM</th>\n",
       "      <th>ACEHVSEX</th>\n",
       "      <th>MSCODE</th>\n",
       "      <th>_IMPAGE</th>\n",
       "      <th>_RFHLTH</th>\n",
       "      <th>_SMOKER3</th>\n",
       "      <th>_PRACE</th>\n",
       "      <th>_EDUCAG</th>\n",
       "      <th>_INCOMG</th>\n",
       "      <th>_TOTINDA</th>\n",
       "    </tr>\n",
       "  </thead>\n",
       "  <tbody>\n",
       "    <tr>\n",
       "      <th>0</th>\n",
       "      <td>5.0</td>\n",
       "      <td>110.0</td>\n",
       "      <td>0.0</td>\n",
       "      <td>0.0</td>\n",
       "      <td>3.0</td>\n",
       "      <td>2.0</td>\n",
       "      <td>1.0</td>\n",
       "      <td>1.0</td>\n",
       "      <td>2.0</td>\n",
       "      <td>0.0</td>\n",
       "      <td>...</td>\n",
       "      <td>1.0</td>\n",
       "      <td>1.0</td>\n",
       "      <td>5.0</td>\n",
       "      <td>53.0</td>\n",
       "      <td>1.0</td>\n",
       "      <td>4.0</td>\n",
       "      <td>1.0</td>\n",
       "      <td>3.0</td>\n",
       "      <td>5.0</td>\n",
       "      <td>1.0</td>\n",
       "    </tr>\n",
       "    <tr>\n",
       "      <th>1</th>\n",
       "      <td>5.0</td>\n",
       "      <td>110.0</td>\n",
       "      <td>15.0</td>\n",
       "      <td>0.0</td>\n",
       "      <td>3.0</td>\n",
       "      <td>2.0</td>\n",
       "      <td>2.0</td>\n",
       "      <td>0.0</td>\n",
       "      <td>0.0</td>\n",
       "      <td>0.0</td>\n",
       "      <td>...</td>\n",
       "      <td>1.0</td>\n",
       "      <td>1.0</td>\n",
       "      <td>5.0</td>\n",
       "      <td>64.0</td>\n",
       "      <td>2.0</td>\n",
       "      <td>3.0</td>\n",
       "      <td>1.0</td>\n",
       "      <td>2.0</td>\n",
       "      <td>2.0</td>\n",
       "      <td>1.0</td>\n",
       "    </tr>\n",
       "    <tr>\n",
       "      <th>2</th>\n",
       "      <td>5.0</td>\n",
       "      <td>110.0</td>\n",
       "      <td>6.0</td>\n",
       "      <td>0.0</td>\n",
       "      <td>3.0</td>\n",
       "      <td>2.0</td>\n",
       "      <td>1.0</td>\n",
       "      <td>0.0</td>\n",
       "      <td>0.0</td>\n",
       "      <td>0.0</td>\n",
       "      <td>...</td>\n",
       "      <td>1.0</td>\n",
       "      <td>1.0</td>\n",
       "      <td>5.0</td>\n",
       "      <td>58.0</td>\n",
       "      <td>1.0</td>\n",
       "      <td>4.0</td>\n",
       "      <td>1.0</td>\n",
       "      <td>3.0</td>\n",
       "      <td>2.0</td>\n",
       "      <td>1.0</td>\n",
       "    </tr>\n",
       "    <tr>\n",
       "      <th>3</th>\n",
       "      <td>5.0</td>\n",
       "      <td>110.0</td>\n",
       "      <td>30.0</td>\n",
       "      <td>0.0</td>\n",
       "      <td>3.0</td>\n",
       "      <td>2.0</td>\n",
       "      <td>1.0</td>\n",
       "      <td>0.0</td>\n",
       "      <td>0.0</td>\n",
       "      <td>0.0</td>\n",
       "      <td>...</td>\n",
       "      <td>1.0</td>\n",
       "      <td>1.0</td>\n",
       "      <td>5.0</td>\n",
       "      <td>76.0</td>\n",
       "      <td>2.0</td>\n",
       "      <td>4.0</td>\n",
       "      <td>1.0</td>\n",
       "      <td>1.0</td>\n",
       "      <td>0.0</td>\n",
       "      <td>2.0</td>\n",
       "    </tr>\n",
       "    <tr>\n",
       "      <th>4</th>\n",
       "      <td>5.0</td>\n",
       "      <td>110.0</td>\n",
       "      <td>13.0</td>\n",
       "      <td>0.0</td>\n",
       "      <td>3.0</td>\n",
       "      <td>2.0</td>\n",
       "      <td>3.0</td>\n",
       "      <td>0.0</td>\n",
       "      <td>0.0</td>\n",
       "      <td>0.0</td>\n",
       "      <td>...</td>\n",
       "      <td>1.0</td>\n",
       "      <td>0.0</td>\n",
       "      <td>5.0</td>\n",
       "      <td>82.0</td>\n",
       "      <td>2.0</td>\n",
       "      <td>3.0</td>\n",
       "      <td>1.0</td>\n",
       "      <td>2.0</td>\n",
       "      <td>0.0</td>\n",
       "      <td>2.0</td>\n",
       "    </tr>\n",
       "    <tr>\n",
       "      <th>...</th>\n",
       "      <td>...</td>\n",
       "      <td>...</td>\n",
       "      <td>...</td>\n",
       "      <td>...</td>\n",
       "      <td>...</td>\n",
       "      <td>...</td>\n",
       "      <td>...</td>\n",
       "      <td>...</td>\n",
       "      <td>...</td>\n",
       "      <td>...</td>\n",
       "      <td>...</td>\n",
       "      <td>...</td>\n",
       "      <td>...</td>\n",
       "      <td>...</td>\n",
       "      <td>...</td>\n",
       "      <td>...</td>\n",
       "      <td>...</td>\n",
       "      <td>...</td>\n",
       "      <td>...</td>\n",
       "      <td>...</td>\n",
       "      <td>...</td>\n",
       "    </tr>\n",
       "    <tr>\n",
       "      <th>117550</th>\n",
       "      <td>55.0</td>\n",
       "      <td>1100.0</td>\n",
       "      <td>10.0</td>\n",
       "      <td>20.0</td>\n",
       "      <td>3.0</td>\n",
       "      <td>2.0</td>\n",
       "      <td>5.0</td>\n",
       "      <td>0.0</td>\n",
       "      <td>1.0</td>\n",
       "      <td>1.0</td>\n",
       "      <td>...</td>\n",
       "      <td>1.0</td>\n",
       "      <td>1.0</td>\n",
       "      <td>0.0</td>\n",
       "      <td>21.0</td>\n",
       "      <td>1.0</td>\n",
       "      <td>1.0</td>\n",
       "      <td>1.0</td>\n",
       "      <td>2.0</td>\n",
       "      <td>2.0</td>\n",
       "      <td>2.0</td>\n",
       "    </tr>\n",
       "    <tr>\n",
       "      <th>117551</th>\n",
       "      <td>55.0</td>\n",
       "      <td>1100.0</td>\n",
       "      <td>0.0</td>\n",
       "      <td>0.0</td>\n",
       "      <td>3.0</td>\n",
       "      <td>1.0</td>\n",
       "      <td>1.0</td>\n",
       "      <td>0.0</td>\n",
       "      <td>1.0</td>\n",
       "      <td>2.0</td>\n",
       "      <td>...</td>\n",
       "      <td>1.0</td>\n",
       "      <td>1.0</td>\n",
       "      <td>0.0</td>\n",
       "      <td>30.0</td>\n",
       "      <td>1.0</td>\n",
       "      <td>2.0</td>\n",
       "      <td>1.0</td>\n",
       "      <td>2.0</td>\n",
       "      <td>3.0</td>\n",
       "      <td>2.0</td>\n",
       "    </tr>\n",
       "    <tr>\n",
       "      <th>117552</th>\n",
       "      <td>55.0</td>\n",
       "      <td>1100.0</td>\n",
       "      <td>0.0</td>\n",
       "      <td>0.0</td>\n",
       "      <td>1.0</td>\n",
       "      <td>2.0</td>\n",
       "      <td>2.0</td>\n",
       "      <td>0.0</td>\n",
       "      <td>1.0</td>\n",
       "      <td>2.0</td>\n",
       "      <td>...</td>\n",
       "      <td>1.0</td>\n",
       "      <td>1.0</td>\n",
       "      <td>0.0</td>\n",
       "      <td>62.0</td>\n",
       "      <td>1.0</td>\n",
       "      <td>3.0</td>\n",
       "      <td>1.0</td>\n",
       "      <td>4.0</td>\n",
       "      <td>5.0</td>\n",
       "      <td>1.0</td>\n",
       "    </tr>\n",
       "    <tr>\n",
       "      <th>117553</th>\n",
       "      <td>55.0</td>\n",
       "      <td>1100.0</td>\n",
       "      <td>15.0</td>\n",
       "      <td>30.0</td>\n",
       "      <td>3.0</td>\n",
       "      <td>2.0</td>\n",
       "      <td>2.0</td>\n",
       "      <td>1.0</td>\n",
       "      <td>0.0</td>\n",
       "      <td>2.0</td>\n",
       "      <td>...</td>\n",
       "      <td>1.0</td>\n",
       "      <td>1.0</td>\n",
       "      <td>0.0</td>\n",
       "      <td>39.0</td>\n",
       "      <td>2.0</td>\n",
       "      <td>1.0</td>\n",
       "      <td>1.0</td>\n",
       "      <td>1.0</td>\n",
       "      <td>1.0</td>\n",
       "      <td>2.0</td>\n",
       "    </tr>\n",
       "    <tr>\n",
       "      <th>117554</th>\n",
       "      <td>55.0</td>\n",
       "      <td>1100.0</td>\n",
       "      <td>2.0</td>\n",
       "      <td>0.0</td>\n",
       "      <td>3.0</td>\n",
       "      <td>2.0</td>\n",
       "      <td>1.0</td>\n",
       "      <td>1.0</td>\n",
       "      <td>1.0</td>\n",
       "      <td>1.0</td>\n",
       "      <td>...</td>\n",
       "      <td>1.0</td>\n",
       "      <td>1.0</td>\n",
       "      <td>0.0</td>\n",
       "      <td>25.0</td>\n",
       "      <td>1.0</td>\n",
       "      <td>4.0</td>\n",
       "      <td>1.0</td>\n",
       "      <td>4.0</td>\n",
       "      <td>5.0</td>\n",
       "      <td>1.0</td>\n",
       "    </tr>\n",
       "  </tbody>\n",
       "</table>\n",
       "<p>117555 rows × 31 columns</p>\n",
       "</div>"
      ],
      "text/plain": [
       "        _STATE  DISPCODE  PHYSHLTH  MENTHLTH  USENOW3  HISPANC2  MARITAL  \\\n",
       "0          5.0     110.0       0.0       0.0      3.0       2.0      1.0   \n",
       "1          5.0     110.0      15.0       0.0      3.0       2.0      2.0   \n",
       "2          5.0     110.0       6.0       0.0      3.0       2.0      1.0   \n",
       "3          5.0     110.0      30.0       0.0      3.0       2.0      1.0   \n",
       "4          5.0     110.0      13.0       0.0      3.0       2.0      3.0   \n",
       "...        ...       ...       ...       ...      ...       ...      ...   \n",
       "117550    55.0    1100.0      10.0      20.0      3.0       2.0      5.0   \n",
       "117551    55.0    1100.0       0.0       0.0      3.0       1.0      1.0   \n",
       "117552    55.0    1100.0       0.0       0.0      1.0       2.0      2.0   \n",
       "117553    55.0    1100.0      15.0      30.0      3.0       2.0      2.0   \n",
       "117554    55.0    1100.0       2.0       0.0      3.0       2.0      1.0   \n",
       "\n",
       "        CHILDREN  EMPLOY  RENTHOM1  ...  ACETTHEM  ACEHVSEX  MSCODE  _IMPAGE  \\\n",
       "0            1.0     2.0       0.0  ...       1.0       1.0     5.0     53.0   \n",
       "1            0.0     0.0       0.0  ...       1.0       1.0     5.0     64.0   \n",
       "2            0.0     0.0       0.0  ...       1.0       1.0     5.0     58.0   \n",
       "3            0.0     0.0       0.0  ...       1.0       1.0     5.0     76.0   \n",
       "4            0.0     0.0       0.0  ...       1.0       0.0     5.0     82.0   \n",
       "...          ...     ...       ...  ...       ...       ...     ...      ...   \n",
       "117550       0.0     1.0       1.0  ...       1.0       1.0     0.0     21.0   \n",
       "117551       0.0     1.0       2.0  ...       1.0       1.0     0.0     30.0   \n",
       "117552       0.0     1.0       2.0  ...       1.0       1.0     0.0     62.0   \n",
       "117553       1.0     0.0       2.0  ...       1.0       1.0     0.0     39.0   \n",
       "117554       1.0     1.0       1.0  ...       1.0       1.0     0.0     25.0   \n",
       "\n",
       "        _RFHLTH  _SMOKER3  _PRACE  _EDUCAG  _INCOMG  _TOTINDA  \n",
       "0           1.0       4.0     1.0      3.0      5.0       1.0  \n",
       "1           2.0       3.0     1.0      2.0      2.0       1.0  \n",
       "2           1.0       4.0     1.0      3.0      2.0       1.0  \n",
       "3           2.0       4.0     1.0      1.0      0.0       2.0  \n",
       "4           2.0       3.0     1.0      2.0      0.0       2.0  \n",
       "...         ...       ...     ...      ...      ...       ...  \n",
       "117550      1.0       1.0     1.0      2.0      2.0       2.0  \n",
       "117551      1.0       2.0     1.0      2.0      3.0       2.0  \n",
       "117552      1.0       3.0     1.0      4.0      5.0       1.0  \n",
       "117553      2.0       1.0     1.0      1.0      1.0       2.0  \n",
       "117554      1.0       4.0     1.0      4.0      5.0       1.0  \n",
       "\n",
       "[117555 rows x 31 columns]"
      ]
     },
     "execution_count": 5,
     "metadata": {},
     "output_type": "execute_result"
    }
   ],
   "source": [
    "# resetting the index so it starts at 0\n",
    "brfss_total = brfss_total.reset_index()\n",
    "brfss_total.drop(columns='index')"
   ]
  },
  {
   "cell_type": "markdown",
   "metadata": {},
   "source": [
    "**Variables I will try to predict with my models:**\n",
    "- USENOW3: Do you currently use chewing tobacco, snuff, or snus every day, some days, or not at all?\n",
    "    - classification\n",
    "    - 0 = Don't know, Not sure or Refused, 1 = every day, 2 = some days, 3 = not at all\n",
    "- QLACTLM2: Are you limited in any way in any activities because of physical, mental, or emotional problems?\n",
    "    - classification\n",
    "    - 0 = Don't know, Not sure or Refused, 1 = yes, 2 = no\n",
    "- _RFHLTH: Adults with good or better health vs. fair or poor health\n",
    "    - classification\n",
    "    - based off of GENHLTH\n",
    "    - 0 = Don't know, Not sure or Refused, 1 = Good or Better Health, 2 = Fair or Poor Health\n",
    "- _SMOKER3: Four-level smoker status: Everyday smoker, Someday smoker, Former smoker, Non-smoker\n",
    "    - classification\n",
    "    - based off of SMOKE100 & SMOKEDAY\n",
    "    - 0 = Don't know, Not sure or Refused, 1 = Current smoker (now smokes every day), 2 = Current smoker (now smokes some days), 3 = Former smoker, 4 = Never smoked"
   ]
  },
  {
   "cell_type": "markdown",
   "metadata": {},
   "source": [
    "**Will make first three y's binary**\n",
    "- turning y's binary made it so that I couldn't stratify in train_test_split...so will not binarize my y's for now\n",
    "\n",
    "**Will OneHotEncode/ dummify ordinal/nominal features**\n",
    "\n",
    "**Will only use a sample of the data set for models so they can run faster**\n",
    "\n",
    "**Will use SMOTE to compensensate for imbalanced classes**\n",
    "\n",
    "**Will aggregate all ACEs into two groups: Abuse and Household Challenges**"
   ]
  },
  {
   "cell_type": "code",
   "execution_count": 6,
   "metadata": {},
   "outputs": [
    {
     "data": {
      "text/plain": [
       "(5878, 32)"
      ]
     },
     "execution_count": 6,
     "metadata": {},
     "output_type": "execute_result"
    }
   ],
   "source": [
    "# taking a small sample so that my models will run a little faster\n",
    "brfss_total_sample = brfss_total.sample(frac=0.05, axis=0)\n",
    "\n",
    "brfss_total_sample.shape"
   ]
  },
  {
   "cell_type": "code",
   "execution_count": 24,
   "metadata": {},
   "outputs": [],
   "source": [
    "# creating X variable with all features\n",
    "X_all = brfss_total_sample.drop(columns=['USENOW3', 'QLACTLM2', '_RFHLTH', '_SMOKER3'])"
   ]
  },
  {
   "cell_type": "code",
   "execution_count": 8,
   "metadata": {},
   "outputs": [],
   "source": [
    "# creating the 4 y's\n",
    "y_tobacco = brfss_total_sample['USENOW3']\n",
    "y_activity = brfss_total_sample['QLACTLM2']\n",
    "y_health = brfss_total_sample['_RFHLTH']\n",
    "y_smoker = brfss_total_sample['_SMOKER3']"
   ]
  },
  {
   "cell_type": "code",
   "execution_count": 9,
   "metadata": {},
   "outputs": [
    {
     "data": {
      "text/plain": [
       "3.0    0.968357\n",
       "2.0    0.014801\n",
       "1.0    0.014291\n",
       "0.0    0.002552\n",
       "Name: USENOW3, dtype: float64"
      ]
     },
     "execution_count": 9,
     "metadata": {},
     "output_type": "execute_result"
    }
   ],
   "source": [
    "#original baseline for tobacco\n",
    "y_tobacco.value_counts(normalize=True)"
   ]
  },
  {
   "cell_type": "code",
   "execution_count": 10,
   "metadata": {},
   "outputs": [
    {
     "data": {
      "text/plain": [
       "2.0    0.725587\n",
       "1.0    0.267438\n",
       "0.0    0.006975\n",
       "Name: QLACTLM2, dtype: float64"
      ]
     },
     "execution_count": 10,
     "metadata": {},
     "output_type": "execute_result"
    }
   ],
   "source": [
    "#original baseline for activity\n",
    "y_activity.value_counts(normalize=True)"
   ]
  },
  {
   "cell_type": "code",
   "execution_count": 11,
   "metadata": {},
   "outputs": [
    {
     "data": {
      "text/plain": [
       "1.0    0.813882\n",
       "2.0    0.181354\n",
       "0.0    0.004764\n",
       "Name: _RFHLTH, dtype: float64"
      ]
     },
     "execution_count": 11,
     "metadata": {},
     "output_type": "execute_result"
    }
   ],
   "source": [
    "#original baseline for health\n",
    "y_health.value_counts(normalize=True)"
   ]
  },
  {
   "cell_type": "code",
   "execution_count": 12,
   "metadata": {},
   "outputs": [
    {
     "data": {
      "text/plain": [
       "4.0    0.520075\n",
       "3.0    0.306397\n",
       "1.0    0.119599\n",
       "2.0    0.048146\n",
       "0.0    0.005784\n",
       "Name: _SMOKER3, dtype: float64"
      ]
     },
     "execution_count": 12,
     "metadata": {},
     "output_type": "execute_result"
    }
   ],
   "source": [
    "#original baseline for smoker\n",
    "y_smoker.value_counts(normalize=True)"
   ]
  },
  {
   "cell_type": "code",
   "execution_count": 25,
   "metadata": {},
   "outputs": [],
   "source": [
    "X_num = X_all[['PHYSHLTH', 'MENTHLTH', 'CHILDREN']]\n",
    "X_cat = X_all[['_STATE', 'DISPCODE', 'PHYSHLTH', 'MENTHLTH', 'HISPANC2', 'MARITAL' , 'CHILDREN',\n",
    "               'EMPLOY', 'RENTHOM1', 'SEX', 'ACEDEPRS', 'ACEDRINK', 'ACEDRUGS', 'ACEPRISN',\n",
    "               'ACEDIVRC', 'ACEPUNCH', 'ACEHURT', 'ACESWEAR', 'ACETOUCH', 'ACETTHEM', 'ACEHVSEX', \n",
    "               'MSCODE', '_IMPAGE', '_PRACE', '_EDUCAG', '_INCOMG','_TOTINDA']]"
   ]
  },
  {
   "cell_type": "code",
   "execution_count": 26,
   "metadata": {},
   "outputs": [
    {
     "data": {
      "text/html": [
       "<div>\n",
       "<style scoped>\n",
       "    .dataframe tbody tr th:only-of-type {\n",
       "        vertical-align: middle;\n",
       "    }\n",
       "\n",
       "    .dataframe tbody tr th {\n",
       "        vertical-align: top;\n",
       "    }\n",
       "\n",
       "    .dataframe thead th {\n",
       "        text-align: right;\n",
       "    }\n",
       "</style>\n",
       "<table border=\"1\" class=\"dataframe\">\n",
       "  <thead>\n",
       "    <tr style=\"text-align: right;\">\n",
       "      <th></th>\n",
       "      <th>PHYSHLTH</th>\n",
       "      <th>MENTHLTH</th>\n",
       "      <th>CHILDREN</th>\n",
       "    </tr>\n",
       "  </thead>\n",
       "  <tbody>\n",
       "    <tr>\n",
       "      <th>55751</th>\n",
       "      <td>30.0</td>\n",
       "      <td>0.0</td>\n",
       "      <td>0.0</td>\n",
       "    </tr>\n",
       "    <tr>\n",
       "      <th>79433</th>\n",
       "      <td>0.0</td>\n",
       "      <td>0.0</td>\n",
       "      <td>2.0</td>\n",
       "    </tr>\n",
       "    <tr>\n",
       "      <th>102899</th>\n",
       "      <td>1.0</td>\n",
       "      <td>3.0</td>\n",
       "      <td>0.0</td>\n",
       "    </tr>\n",
       "    <tr>\n",
       "      <th>79996</th>\n",
       "      <td>0.0</td>\n",
       "      <td>0.0</td>\n",
       "      <td>0.0</td>\n",
       "    </tr>\n",
       "    <tr>\n",
       "      <th>53082</th>\n",
       "      <td>1.0</td>\n",
       "      <td>30.0</td>\n",
       "      <td>0.0</td>\n",
       "    </tr>\n",
       "    <tr>\n",
       "      <th>...</th>\n",
       "      <td>...</td>\n",
       "      <td>...</td>\n",
       "      <td>...</td>\n",
       "    </tr>\n",
       "    <tr>\n",
       "      <th>49090</th>\n",
       "      <td>0.0</td>\n",
       "      <td>0.0</td>\n",
       "      <td>3.0</td>\n",
       "    </tr>\n",
       "    <tr>\n",
       "      <th>5615</th>\n",
       "      <td>0.0</td>\n",
       "      <td>14.0</td>\n",
       "      <td>1.0</td>\n",
       "    </tr>\n",
       "    <tr>\n",
       "      <th>103816</th>\n",
       "      <td>0.0</td>\n",
       "      <td>15.0</td>\n",
       "      <td>0.0</td>\n",
       "    </tr>\n",
       "    <tr>\n",
       "      <th>89740</th>\n",
       "      <td>0.0</td>\n",
       "      <td>0.0</td>\n",
       "      <td>0.0</td>\n",
       "    </tr>\n",
       "    <tr>\n",
       "      <th>51564</th>\n",
       "      <td>0.0</td>\n",
       "      <td>0.0</td>\n",
       "      <td>0.0</td>\n",
       "    </tr>\n",
       "  </tbody>\n",
       "</table>\n",
       "<p>5878 rows × 3 columns</p>\n",
       "</div>"
      ],
      "text/plain": [
       "        PHYSHLTH  MENTHLTH  CHILDREN\n",
       "55751       30.0       0.0       0.0\n",
       "79433        0.0       0.0       2.0\n",
       "102899       1.0       3.0       0.0\n",
       "79996        0.0       0.0       0.0\n",
       "53082        1.0      30.0       0.0\n",
       "...          ...       ...       ...\n",
       "49090        0.0       0.0       3.0\n",
       "5615         0.0      14.0       1.0\n",
       "103816       0.0      15.0       0.0\n",
       "89740        0.0       0.0       0.0\n",
       "51564        0.0       0.0       0.0\n",
       "\n",
       "[5878 rows x 3 columns]"
      ]
     },
     "execution_count": 26,
     "metadata": {},
     "output_type": "execute_result"
    }
   ],
   "source": [
    "X_num"
   ]
  },
  {
   "cell_type": "code",
   "execution_count": 29,
   "metadata": {},
   "outputs": [],
   "source": [
    "X_cat = X_cat.astype(str)"
   ]
  },
  {
   "cell_type": "code",
   "execution_count": 30,
   "metadata": {},
   "outputs": [
    {
     "data": {
      "text/html": [
       "<div>\n",
       "<style scoped>\n",
       "    .dataframe tbody tr th:only-of-type {\n",
       "        vertical-align: middle;\n",
       "    }\n",
       "\n",
       "    .dataframe tbody tr th {\n",
       "        vertical-align: top;\n",
       "    }\n",
       "\n",
       "    .dataframe thead th {\n",
       "        text-align: right;\n",
       "    }\n",
       "</style>\n",
       "<table border=\"1\" class=\"dataframe\">\n",
       "  <thead>\n",
       "    <tr style=\"text-align: right;\">\n",
       "      <th></th>\n",
       "      <th>_STATE_15.0</th>\n",
       "      <th>_STATE_19.0</th>\n",
       "      <th>_STATE_22.0</th>\n",
       "      <th>_STATE_27.0</th>\n",
       "      <th>_STATE_30.0</th>\n",
       "      <th>_STATE_32.0</th>\n",
       "      <th>_STATE_37.0</th>\n",
       "      <th>_STATE_40.0</th>\n",
       "      <th>_STATE_47.0</th>\n",
       "      <th>_STATE_5.0</th>\n",
       "      <th>...</th>\n",
       "      <th>_EDUCAG_2.0</th>\n",
       "      <th>_EDUCAG_3.0</th>\n",
       "      <th>_EDUCAG_4.0</th>\n",
       "      <th>_INCOMG_1.0</th>\n",
       "      <th>_INCOMG_2.0</th>\n",
       "      <th>_INCOMG_3.0</th>\n",
       "      <th>_INCOMG_4.0</th>\n",
       "      <th>_INCOMG_5.0</th>\n",
       "      <th>_TOTINDA_1.0</th>\n",
       "      <th>_TOTINDA_2.0</th>\n",
       "    </tr>\n",
       "  </thead>\n",
       "  <tbody>\n",
       "    <tr>\n",
       "      <th>55751</th>\n",
       "      <td>0</td>\n",
       "      <td>0</td>\n",
       "      <td>0</td>\n",
       "      <td>0</td>\n",
       "      <td>1</td>\n",
       "      <td>0</td>\n",
       "      <td>0</td>\n",
       "      <td>0</td>\n",
       "      <td>0</td>\n",
       "      <td>0</td>\n",
       "      <td>...</td>\n",
       "      <td>1</td>\n",
       "      <td>0</td>\n",
       "      <td>0</td>\n",
       "      <td>0</td>\n",
       "      <td>0</td>\n",
       "      <td>1</td>\n",
       "      <td>0</td>\n",
       "      <td>0</td>\n",
       "      <td>1</td>\n",
       "      <td>0</td>\n",
       "    </tr>\n",
       "    <tr>\n",
       "      <th>79433</th>\n",
       "      <td>0</td>\n",
       "      <td>0</td>\n",
       "      <td>0</td>\n",
       "      <td>0</td>\n",
       "      <td>0</td>\n",
       "      <td>0</td>\n",
       "      <td>0</td>\n",
       "      <td>0</td>\n",
       "      <td>0</td>\n",
       "      <td>0</td>\n",
       "      <td>...</td>\n",
       "      <td>0</td>\n",
       "      <td>0</td>\n",
       "      <td>0</td>\n",
       "      <td>0</td>\n",
       "      <td>0</td>\n",
       "      <td>0</td>\n",
       "      <td>1</td>\n",
       "      <td>0</td>\n",
       "      <td>1</td>\n",
       "      <td>0</td>\n",
       "    </tr>\n",
       "    <tr>\n",
       "      <th>102899</th>\n",
       "      <td>0</td>\n",
       "      <td>0</td>\n",
       "      <td>0</td>\n",
       "      <td>0</td>\n",
       "      <td>0</td>\n",
       "      <td>0</td>\n",
       "      <td>0</td>\n",
       "      <td>1</td>\n",
       "      <td>0</td>\n",
       "      <td>0</td>\n",
       "      <td>...</td>\n",
       "      <td>0</td>\n",
       "      <td>1</td>\n",
       "      <td>0</td>\n",
       "      <td>0</td>\n",
       "      <td>0</td>\n",
       "      <td>0</td>\n",
       "      <td>0</td>\n",
       "      <td>1</td>\n",
       "      <td>1</td>\n",
       "      <td>0</td>\n",
       "    </tr>\n",
       "    <tr>\n",
       "      <th>79996</th>\n",
       "      <td>0</td>\n",
       "      <td>0</td>\n",
       "      <td>0</td>\n",
       "      <td>0</td>\n",
       "      <td>0</td>\n",
       "      <td>0</td>\n",
       "      <td>0</td>\n",
       "      <td>0</td>\n",
       "      <td>0</td>\n",
       "      <td>0</td>\n",
       "      <td>...</td>\n",
       "      <td>0</td>\n",
       "      <td>0</td>\n",
       "      <td>1</td>\n",
       "      <td>0</td>\n",
       "      <td>0</td>\n",
       "      <td>0</td>\n",
       "      <td>1</td>\n",
       "      <td>0</td>\n",
       "      <td>1</td>\n",
       "      <td>0</td>\n",
       "    </tr>\n",
       "    <tr>\n",
       "      <th>53082</th>\n",
       "      <td>0</td>\n",
       "      <td>0</td>\n",
       "      <td>0</td>\n",
       "      <td>0</td>\n",
       "      <td>1</td>\n",
       "      <td>0</td>\n",
       "      <td>0</td>\n",
       "      <td>0</td>\n",
       "      <td>0</td>\n",
       "      <td>0</td>\n",
       "      <td>...</td>\n",
       "      <td>0</td>\n",
       "      <td>1</td>\n",
       "      <td>0</td>\n",
       "      <td>0</td>\n",
       "      <td>0</td>\n",
       "      <td>1</td>\n",
       "      <td>0</td>\n",
       "      <td>0</td>\n",
       "      <td>0</td>\n",
       "      <td>1</td>\n",
       "    </tr>\n",
       "  </tbody>\n",
       "</table>\n",
       "<p>5 rows × 214 columns</p>\n",
       "</div>"
      ],
      "text/plain": [
       "        _STATE_15.0  _STATE_19.0  _STATE_22.0  _STATE_27.0  _STATE_30.0  \\\n",
       "55751             0            0            0            0            1   \n",
       "79433             0            0            0            0            0   \n",
       "102899            0            0            0            0            0   \n",
       "79996             0            0            0            0            0   \n",
       "53082             0            0            0            0            1   \n",
       "\n",
       "        _STATE_32.0  _STATE_37.0  _STATE_40.0  _STATE_47.0  _STATE_5.0  ...  \\\n",
       "55751             0            0            0            0           0  ...   \n",
       "79433             0            0            0            0           0  ...   \n",
       "102899            0            0            1            0           0  ...   \n",
       "79996             0            0            0            0           0  ...   \n",
       "53082             0            0            0            0           0  ...   \n",
       "\n",
       "        _EDUCAG_2.0  _EDUCAG_3.0  _EDUCAG_4.0  _INCOMG_1.0  _INCOMG_2.0  \\\n",
       "55751             1            0            0            0            0   \n",
       "79433             0            0            0            0            0   \n",
       "102899            0            1            0            0            0   \n",
       "79996             0            0            1            0            0   \n",
       "53082             0            1            0            0            0   \n",
       "\n",
       "        _INCOMG_3.0  _INCOMG_4.0  _INCOMG_5.0  _TOTINDA_1.0  _TOTINDA_2.0  \n",
       "55751             1            0            0             1             0  \n",
       "79433             0            1            0             1             0  \n",
       "102899            0            0            1             1             0  \n",
       "79996             0            1            0             1             0  \n",
       "53082             1            0            0             0             1  \n",
       "\n",
       "[5 rows x 214 columns]"
      ]
     },
     "execution_count": 30,
     "metadata": {},
     "output_type": "execute_result"
    }
   ],
   "source": [
    "# dummifying nominal variables for X_all\n",
    "X_dummies = pd.get_dummies(X_cat, drop_first=True)\n",
    "X_dummies.head()"
   ]
  },
  {
   "cell_type": "code",
   "execution_count": 35,
   "metadata": {},
   "outputs": [],
   "source": [
    "X_all = X_num.merge(X_dummies, left_index=True, right_index=True)"
   ]
  },
  {
   "cell_type": "code",
   "execution_count": 36,
   "metadata": {},
   "outputs": [
    {
     "data": {
      "text/plain": [
       "(5878, 217)"
      ]
     },
     "execution_count": 36,
     "metadata": {},
     "output_type": "execute_result"
    }
   ],
   "source": [
    "X_all.shape"
   ]
  },
  {
   "cell_type": "code",
   "execution_count": 37,
   "metadata": {},
   "outputs": [],
   "source": [
    "# to compensate for unbalanced classes in my y's will use SMOTE\n",
    "\n",
    "sm = SMOTE(random_state=151)\n",
    "X_all1, y_tobacco = sm.fit_resample(X_all, y_tobacco)\n",
    "\n",
    "sm2 = SMOTE(random_state=151)\n",
    "X_all2, y_activity = sm2.fit_resample(X_all, y_activity)\n",
    "\n",
    "sm3 = SMOTE(random_state=151)\n",
    "X_all3, y_health = sm3.fit_resample(X_all, y_health)\n",
    "\n",
    "sm4 = SMOTE(random_state=151)\n",
    "X_all4, y_smoker = sm4.fit_resample(X_all, y_smoker)"
   ]
  },
  {
   "cell_type": "code",
   "execution_count": 38,
   "metadata": {},
   "outputs": [
    {
     "data": {
      "text/plain": [
       "0.0    0.25\n",
       "1.0    0.25\n",
       "2.0    0.25\n",
       "3.0    0.25\n",
       "Name: USENOW3, dtype: float64"
      ]
     },
     "execution_count": 38,
     "metadata": {},
     "output_type": "execute_result"
    }
   ],
   "source": [
    "# new baseline for tobacco\n",
    "y_tobacco.value_counts(normalize=True)"
   ]
  },
  {
   "cell_type": "code",
   "execution_count": 39,
   "metadata": {},
   "outputs": [
    {
     "data": {
      "text/plain": [
       "(22768,)"
      ]
     },
     "execution_count": 39,
     "metadata": {},
     "output_type": "execute_result"
    }
   ],
   "source": [
    "# looks like SMOTE has increased the size of my y's more than 4x, so will probably take some time for models to run\n",
    "y_tobacco.shape"
   ]
  },
  {
   "cell_type": "code",
   "execution_count": 40,
   "metadata": {},
   "outputs": [
    {
     "data": {
      "text/plain": [
       "0.0    0.333333\n",
       "2.0    0.333333\n",
       "1.0    0.333333\n",
       "Name: QLACTLM2, dtype: float64"
      ]
     },
     "execution_count": 40,
     "metadata": {},
     "output_type": "execute_result"
    }
   ],
   "source": [
    "# new baseline for activity\n",
    "y_activity.value_counts(normalize=True)"
   ]
  },
  {
   "cell_type": "code",
   "execution_count": 41,
   "metadata": {},
   "outputs": [
    {
     "data": {
      "text/plain": [
       "0.0    0.333333\n",
       "1.0    0.333333\n",
       "2.0    0.333333\n",
       "Name: _RFHLTH, dtype: float64"
      ]
     },
     "execution_count": 41,
     "metadata": {},
     "output_type": "execute_result"
    }
   ],
   "source": [
    "# new baseline for health\n",
    "y_health.value_counts(normalize=True)"
   ]
  },
  {
   "cell_type": "code",
   "execution_count": 42,
   "metadata": {},
   "outputs": [
    {
     "data": {
      "text/plain": [
       "0.0    0.2\n",
       "1.0    0.2\n",
       "2.0    0.2\n",
       "4.0    0.2\n",
       "3.0    0.2\n",
       "Name: _SMOKER3, dtype: float64"
      ]
     },
     "execution_count": 42,
     "metadata": {},
     "output_type": "execute_result"
    }
   ],
   "source": [
    "# new baseline for smoker\n",
    "y_smoker.value_counts(normalize=True)"
   ]
  },
  {
   "cell_type": "code",
   "execution_count": 43,
   "metadata": {},
   "outputs": [
    {
     "data": {
      "text/plain": [
       "(22768, 217)"
      ]
     },
     "execution_count": 43,
     "metadata": {},
     "output_type": "execute_result"
    }
   ],
   "source": [
    "X_all1.shape"
   ]
  },
  {
   "cell_type": "code",
   "execution_count": 44,
   "metadata": {},
   "outputs": [],
   "source": [
    "# creating training and testing sets for all y's (stratified on y, but since the classes are equal probably didn't have to)\n",
    "X_train_all, X_test_all, y_train_tobacco, y_test_tobacco = train_test_split(X_all1, y_tobacco, random_state = 151, stratify=y_tobacco)\n",
    "X_train_all2, X_test_all2, y_train_activity, y_test_activity = train_test_split(X_all2, y_activity, random_state = 151, stratify=y_activity)\n",
    "X_train_all3, X_test_all3, y_train_health, y_test_health = train_test_split(X_all3, y_health, random_state = 151, stratify=y_health)\n",
    "X_train_all4, X_test_all4, y_train_smoker, y_test_smoker = train_test_split(X_all4, y_smoker, random_state = 151, stratify=y_smoker)"
   ]
  },
  {
   "cell_type": "markdown",
   "metadata": {},
   "source": [
    "### Pipeline and Gridsearch with just all features predictors (Logistic Regression)"
   ]
  },
  {
   "cell_type": "code",
   "execution_count": 45,
   "metadata": {},
   "outputs": [
    {
     "name": "stderr",
     "output_type": "stream",
     "text": [
      "C:\\Users\\eboni\\anaconda3\\lib\\site-packages\\sklearn\\feature_selection\\_univariate_selection.py:114: UserWarning: Features [23 51] are constant.\n",
      "  warnings.warn(\"Features %s are constant.\" % constant_features_idx,\n",
      "C:\\Users\\eboni\\anaconda3\\lib\\site-packages\\sklearn\\feature_selection\\_univariate_selection.py:116: RuntimeWarning: invalid value encountered in true_divide\n",
      "  f = msb / msw\n"
     ]
    },
    {
     "data": {
      "text/plain": [
       "GridSearchCV(cv=3,\n",
       "             estimator=Pipeline(steps=[('selectkbest', SelectKBest()),\n",
       "                                       ('standardscaler', StandardScaler()),\n",
       "                                       ('logisticregression',\n",
       "                                        LogisticRegression(max_iter=10000))]),\n",
       "             n_jobs=-1,\n",
       "             param_grid={'logisticregression__C': [0.01, 0.5, 1],\n",
       "                         'selectkbest__k': range(1, 217, 20)})"
      ]
     },
     "execution_count": 45,
     "metadata": {},
     "output_type": "execute_result"
    }
   ],
   "source": [
    "pipe_all_log = make_pipeline(SelectKBest(f_classif), StandardScaler(), LogisticRegression(max_iter=10_000))\n",
    "\n",
    "params_all_log = {'selectkbest__k': range(1, 217, 20),\n",
    "         'logisticregression__C': [0.01, 0.5, 1]}\n",
    "\n",
    "gs_all_log = GridSearchCV(pipe_all_log, params_all_log, n_jobs=-1, cv=3)\n",
    "\n",
    "gs_all_log.fit(X_train_all, y_train_tobacco)"
   ]
  },
  {
   "cell_type": "code",
   "execution_count": 46,
   "metadata": {},
   "outputs": [
    {
     "name": "stderr",
     "output_type": "stream",
     "text": [
      "C:\\Users\\eboni\\anaconda3\\lib\\site-packages\\sklearn\\feature_selection\\_univariate_selection.py:114: UserWarning: Features [23 56] are constant.\n",
      "  warnings.warn(\"Features %s are constant.\" % constant_features_idx,\n",
      "C:\\Users\\eboni\\anaconda3\\lib\\site-packages\\sklearn\\feature_selection\\_univariate_selection.py:116: RuntimeWarning: invalid value encountered in true_divide\n",
      "  f = msb / msw\n"
     ]
    },
    {
     "data": {
      "text/plain": [
       "GridSearchCV(cv=3,\n",
       "             estimator=Pipeline(steps=[('selectkbest', SelectKBest()),\n",
       "                                       ('standardscaler', StandardScaler()),\n",
       "                                       ('logisticregression',\n",
       "                                        LogisticRegression(max_iter=10000))]),\n",
       "             n_jobs=-1,\n",
       "             param_grid={'logisticregression__C': [0.01, 0.5, 1],\n",
       "                         'selectkbest__k': range(1, 217, 20)})"
      ]
     },
     "execution_count": 46,
     "metadata": {},
     "output_type": "execute_result"
    }
   ],
   "source": [
    "pipe2_all_log = make_pipeline(SelectKBest(f_classif), StandardScaler(), LogisticRegression(max_iter=10_000))\n",
    "\n",
    "gs2_all_log = GridSearchCV(pipe2_all_log, params_all_log, n_jobs=-1, cv=3)\n",
    "\n",
    "gs2_all_log.fit(X_train_all2, y_train_activity)"
   ]
  },
  {
   "cell_type": "code",
   "execution_count": 47,
   "metadata": {},
   "outputs": [
    {
     "name": "stderr",
     "output_type": "stream",
     "text": [
      "C:\\Users\\eboni\\anaconda3\\lib\\site-packages\\sklearn\\feature_selection\\_univariate_selection.py:114: UserWarning: Features [ 23  51 199] are constant.\n",
      "  warnings.warn(\"Features %s are constant.\" % constant_features_idx,\n",
      "C:\\Users\\eboni\\anaconda3\\lib\\site-packages\\sklearn\\feature_selection\\_univariate_selection.py:116: RuntimeWarning: invalid value encountered in true_divide\n",
      "  f = msb / msw\n"
     ]
    },
    {
     "data": {
      "text/plain": [
       "GridSearchCV(cv=3,\n",
       "             estimator=Pipeline(steps=[('selectkbest', SelectKBest()),\n",
       "                                       ('standardscaler', StandardScaler()),\n",
       "                                       ('logisticregression',\n",
       "                                        LogisticRegression(max_iter=10000))]),\n",
       "             n_jobs=-1,\n",
       "             param_grid={'logisticregression__C': [0.01, 0.5, 1],\n",
       "                         'selectkbest__k': range(1, 217, 20)})"
      ]
     },
     "execution_count": 47,
     "metadata": {},
     "output_type": "execute_result"
    }
   ],
   "source": [
    "pipe3_all_log = make_pipeline(SelectKBest(f_classif), StandardScaler(), LogisticRegression(max_iter=10_000))\n",
    "\n",
    "gs3_all_log = GridSearchCV(pipe3_all_log, params_all_log, n_jobs=-1, cv=3)\n",
    "\n",
    "gs3_all_log.fit(X_train_all3, y_train_health)"
   ]
  },
  {
   "cell_type": "code",
   "execution_count": 48,
   "metadata": {},
   "outputs": [
    {
     "name": "stderr",
     "output_type": "stream",
     "text": [
      "C:\\Users\\eboni\\anaconda3\\lib\\site-packages\\sklearn\\feature_selection\\_univariate_selection.py:114: UserWarning: Features [49] are constant.\n",
      "  warnings.warn(\"Features %s are constant.\" % constant_features_idx,\n",
      "C:\\Users\\eboni\\anaconda3\\lib\\site-packages\\sklearn\\feature_selection\\_univariate_selection.py:116: RuntimeWarning: invalid value encountered in true_divide\n",
      "  f = msb / msw\n"
     ]
    },
    {
     "data": {
      "text/plain": [
       "GridSearchCV(cv=3,\n",
       "             estimator=Pipeline(steps=[('selectkbest', SelectKBest()),\n",
       "                                       ('standardscaler', StandardScaler()),\n",
       "                                       ('logisticregression',\n",
       "                                        LogisticRegression(max_iter=10000))]),\n",
       "             n_jobs=-1,\n",
       "             param_grid={'logisticregression__C': [0.01, 0.5, 1],\n",
       "                         'selectkbest__k': range(1, 217, 20)})"
      ]
     },
     "execution_count": 48,
     "metadata": {},
     "output_type": "execute_result"
    }
   ],
   "source": [
    "pipe4_all_log = make_pipeline(SelectKBest(f_classif), StandardScaler(), LogisticRegression(max_iter=10_000))\n",
    "\n",
    "gs4_all_log = GridSearchCV(pipe4_all_log, params_all_log, n_jobs=-1, cv=3)\n",
    "\n",
    "gs4_all_log.fit(X_train_all4, y_train_smoker)"
   ]
  },
  {
   "cell_type": "code",
   "execution_count": 49,
   "metadata": {},
   "outputs": [],
   "source": [
    "tobacco_all_log_preds = gs_all_log.predict(X_test_all)\n",
    "activity_all_log_preds = gs2_all_log.predict(X_test_all2)\n",
    "health_all_log_preds = gs3_all_log.predict(X_test_all3)\n",
    "smoker_all_log_preds = gs4_all_log.predict(X_test_all4)\n",
    "\n",
    "tobacco_all_log_prec = precision_score(y_test_tobacco, tobacco_all_log_preds, average='micro')\n",
    "activity_all_log_prec = precision_score(y_test_activity, activity_all_log_preds, average='micro')\n",
    "health_all_log_prec = precision_score(y_test_health, health_all_log_preds, average='micro')\n",
    "smoker_all_log_prec = precision_score(y_test_smoker, smoker_all_log_preds, average='micro')"
   ]
  },
  {
   "cell_type": "code",
   "execution_count": 50,
   "metadata": {},
   "outputs": [
    {
     "name": "stdout",
     "output_type": "stream",
     "text": [
      " training accuracy for tobacco: 0.9206488639025533\n",
      " training accuracy for activity: 0.8851604835348061\n",
      " training accuracy for health: 0.9265143069490895\n",
      " training accuracy for smoker: 0.659077030445782\n"
     ]
    }
   ],
   "source": [
    "print(f' training accuracy for tobacco: {gs_all_log.score(X_train_all, y_train_tobacco)}')\n",
    "print(f' training accuracy for activity: {gs2_all_log.score(X_train_all2, y_train_activity)}')\n",
    "print(f' training accuracy for health: {gs3_all_log.score(X_train_all3, y_train_health)}')\n",
    "print(f' training accuracy for smoker: {gs4_all_log.score(X_train_all4, y_train_smoker)}')"
   ]
  },
  {
   "cell_type": "code",
   "execution_count": 51,
   "metadata": {},
   "outputs": [
    {
     "name": "stdout",
     "output_type": "stream",
     "text": [
      " testing accuracy for tobacco: 0.9128601546029516\n",
      " testing accuracy for activity: 0.8849640512660206\n",
      " testing accuracy for health: 0.9147157190635451\n",
      " testing accuracy for smoker: 0.6240188383045526\n"
     ]
    }
   ],
   "source": [
    "print(f' testing accuracy for tobacco: {gs_all_log.score(X_test_all, y_test_tobacco)}')\n",
    "print(f' testing accuracy for activity: {gs2_all_log.score(X_test_all2, y_test_activity)}')\n",
    "print(f' testing accuracy for health: {gs3_all_log.score(X_test_all3, y_test_health)}')\n",
    "print(f' testing accuracy for smoker: {gs4_all_log.score(X_test_all4, y_test_smoker)}')"
   ]
  },
  {
   "cell_type": "code",
   "execution_count": 52,
   "metadata": {},
   "outputs": [
    {
     "name": "stdout",
     "output_type": "stream",
     "text": [
      "Precision for tobacco: 0.9128601546029516\n",
      "Precision for activity: 0.8849640512660206\n",
      "Precision for health: 0.9147157190635451\n",
      "Precision for smoker: 0.6240188383045526\n"
     ]
    }
   ],
   "source": [
    "print(f'Precision for tobacco: {tobacco_all_log_prec}')\n",
    "print(f'Precision for activity: {activity_all_log_prec}')\n",
    "print(f'Precision for health: {health_all_log_prec}')\n",
    "print(f'Precision for smoker: {smoker_all_log_prec}')"
   ]
  },
  {
   "cell_type": "code",
   "execution_count": 53,
   "metadata": {},
   "outputs": [
    {
     "name": "stdout",
     "output_type": "stream",
     "text": [
      "{'logisticregression__C': 1, 'selectkbest__k': 181}\n",
      "{'logisticregression__C': 1, 'selectkbest__k': 201}\n",
      "{'logisticregression__C': 1, 'selectkbest__k': 201}\n",
      "{'logisticregression__C': 0.5, 'selectkbest__k': 201}\n"
     ]
    }
   ],
   "source": [
    "print(gs_all_log.best_params_)\n",
    "print(gs2_all_log.best_params_)\n",
    "print(gs3_all_log.best_params_)\n",
    "print(gs4_all_log.best_params_)"
   ]
  },
  {
   "cell_type": "markdown",
   "metadata": {},
   "source": [
    "**observations**"
   ]
  },
  {
   "cell_type": "markdown",
   "metadata": {},
   "source": [
    "### Pipeline and Gridsearch with just all features as predictors (Random Forest Classifier)"
   ]
  },
  {
   "cell_type": "code",
   "execution_count": 54,
   "metadata": {},
   "outputs": [
    {
     "name": "stderr",
     "output_type": "stream",
     "text": [
      "C:\\Users\\eboni\\anaconda3\\lib\\site-packages\\sklearn\\feature_selection\\_univariate_selection.py:114: UserWarning: Features [23 51] are constant.\n",
      "  warnings.warn(\"Features %s are constant.\" % constant_features_idx,\n",
      "C:\\Users\\eboni\\anaconda3\\lib\\site-packages\\sklearn\\feature_selection\\_univariate_selection.py:116: RuntimeWarning: invalid value encountered in true_divide\n",
      "  f = msb / msw\n"
     ]
    },
    {
     "data": {
      "text/plain": [
       "GridSearchCV(cv=3,\n",
       "             estimator=Pipeline(steps=[('selectkbest', SelectKBest()),\n",
       "                                       ('standardscaler', StandardScaler()),\n",
       "                                       ('randomforestclassifier',\n",
       "                                        RandomForestClassifier())]),\n",
       "             n_jobs=-1,\n",
       "             param_grid={'randomforestclassifier__max_depth': [None, 3, 5],\n",
       "                         'randomforestclassifier__n_estimators': [100, 300,\n",
       "                                                                  500],\n",
       "                         'selectkbest__k': range(1, 217, 20)})"
      ]
     },
     "execution_count": 54,
     "metadata": {},
     "output_type": "execute_result"
    }
   ],
   "source": [
    "pipe_all_rfc = make_pipeline(SelectKBest(f_classif), StandardScaler(), RandomForestClassifier())\n",
    "\n",
    "params_all_rfc = {'selectkbest__k': range(1, 217, 20),\n",
    "                  'randomforestclassifier__n_estimators': [100, 300, 500],\n",
    "                  'randomforestclassifier__max_depth': [None, 3, 5], }\n",
    "                 #'randomforestclassifier__min_samples_split': [1, 3, 5],\n",
    "                 #'randomforestclassifier__min_samples_leaf': [1, 3, 5]}\n",
    "\n",
    "gs_all_rfc = GridSearchCV(pipe_all_rfc, params_all_rfc, n_jobs=-1, cv=3)\n",
    "\n",
    "gs_all_rfc.fit(X_train_all, y_train_tobacco)"
   ]
  },
  {
   "cell_type": "code",
   "execution_count": 55,
   "metadata": {},
   "outputs": [
    {
     "name": "stderr",
     "output_type": "stream",
     "text": [
      "C:\\Users\\eboni\\anaconda3\\lib\\site-packages\\sklearn\\feature_selection\\_univariate_selection.py:114: UserWarning: Features [23 56] are constant.\n",
      "  warnings.warn(\"Features %s are constant.\" % constant_features_idx,\n",
      "C:\\Users\\eboni\\anaconda3\\lib\\site-packages\\sklearn\\feature_selection\\_univariate_selection.py:116: RuntimeWarning: invalid value encountered in true_divide\n",
      "  f = msb / msw\n"
     ]
    },
    {
     "data": {
      "text/plain": [
       "GridSearchCV(cv=3,\n",
       "             estimator=Pipeline(steps=[('selectkbest', SelectKBest()),\n",
       "                                       ('standardscaler', StandardScaler()),\n",
       "                                       ('randomforestclassifier',\n",
       "                                        RandomForestClassifier())]),\n",
       "             n_jobs=-1,\n",
       "             param_grid={'randomforestclassifier__max_depth': [None, 3, 5],\n",
       "                         'randomforestclassifier__n_estimators': [100, 300,\n",
       "                                                                  500],\n",
       "                         'selectkbest__k': range(1, 217, 20)})"
      ]
     },
     "execution_count": 55,
     "metadata": {},
     "output_type": "execute_result"
    }
   ],
   "source": [
    "pipe2_all_rfc = make_pipeline(SelectKBest(f_classif), StandardScaler(), RandomForestClassifier())\n",
    "\n",
    "gs2_all_rfc = GridSearchCV(pipe2_all_rfc, params_all_rfc, n_jobs=-1, cv=3)\n",
    "\n",
    "gs2_all_rfc.fit(X_train_all2, y_train_activity)"
   ]
  },
  {
   "cell_type": "code",
   "execution_count": 56,
   "metadata": {},
   "outputs": [
    {
     "name": "stderr",
     "output_type": "stream",
     "text": [
      "C:\\Users\\eboni\\anaconda3\\lib\\site-packages\\sklearn\\feature_selection\\_univariate_selection.py:114: UserWarning: Features [ 23  51 199] are constant.\n",
      "  warnings.warn(\"Features %s are constant.\" % constant_features_idx,\n",
      "C:\\Users\\eboni\\anaconda3\\lib\\site-packages\\sklearn\\feature_selection\\_univariate_selection.py:116: RuntimeWarning: invalid value encountered in true_divide\n",
      "  f = msb / msw\n"
     ]
    },
    {
     "data": {
      "text/plain": [
       "GridSearchCV(cv=3,\n",
       "             estimator=Pipeline(steps=[('selectkbest', SelectKBest()),\n",
       "                                       ('standardscaler', StandardScaler()),\n",
       "                                       ('randomforestclassifier',\n",
       "                                        RandomForestClassifier())]),\n",
       "             n_jobs=-1,\n",
       "             param_grid={'randomforestclassifier__max_depth': [None, 3, 5],\n",
       "                         'randomforestclassifier__n_estimators': [100, 300,\n",
       "                                                                  500],\n",
       "                         'selectkbest__k': range(1, 217, 20)})"
      ]
     },
     "execution_count": 56,
     "metadata": {},
     "output_type": "execute_result"
    }
   ],
   "source": [
    "pipe3_all_rfc = make_pipeline(SelectKBest(f_classif), StandardScaler(), RandomForestClassifier())\n",
    "\n",
    "gs3_all_rfc = GridSearchCV(pipe3_all_rfc, params_all_rfc, n_jobs=-1, cv=3)\n",
    "\n",
    "gs3_all_rfc.fit(X_train_all3, y_train_health)"
   ]
  },
  {
   "cell_type": "code",
   "execution_count": 57,
   "metadata": {},
   "outputs": [
    {
     "name": "stderr",
     "output_type": "stream",
     "text": [
      "C:\\Users\\eboni\\anaconda3\\lib\\site-packages\\sklearn\\feature_selection\\_univariate_selection.py:114: UserWarning: Features [49] are constant.\n",
      "  warnings.warn(\"Features %s are constant.\" % constant_features_idx,\n",
      "C:\\Users\\eboni\\anaconda3\\lib\\site-packages\\sklearn\\feature_selection\\_univariate_selection.py:116: RuntimeWarning: invalid value encountered in true_divide\n",
      "  f = msb / msw\n"
     ]
    },
    {
     "data": {
      "text/plain": [
       "GridSearchCV(cv=3,\n",
       "             estimator=Pipeline(steps=[('selectkbest', SelectKBest()),\n",
       "                                       ('standardscaler', StandardScaler()),\n",
       "                                       ('randomforestclassifier',\n",
       "                                        RandomForestClassifier())]),\n",
       "             n_jobs=-1,\n",
       "             param_grid={'randomforestclassifier__max_depth': [None, 3, 5],\n",
       "                         'randomforestclassifier__n_estimators': [100, 300,\n",
       "                                                                  500],\n",
       "                         'selectkbest__k': range(1, 217, 20)})"
      ]
     },
     "execution_count": 57,
     "metadata": {},
     "output_type": "execute_result"
    }
   ],
   "source": [
    "pipe4_all_rfc = make_pipeline(SelectKBest(f_classif), StandardScaler(), RandomForestClassifier())\n",
    "\n",
    "gs4_all_rfc = GridSearchCV(pipe4_all_rfc, params_all_rfc, n_jobs=-1, cv=3)\n",
    "\n",
    "gs4_all_rfc.fit(X_train_all4, y_train_smoker)"
   ]
  },
  {
   "cell_type": "code",
   "execution_count": 58,
   "metadata": {},
   "outputs": [],
   "source": [
    "tobacco_all_rfc_preds = gs_all_rfc.predict(X_test_all)\n",
    "activity_all_rfc_preds = gs2_all_rfc.predict(X_test_all2)\n",
    "health_all_rfc_preds = gs3_all_rfc.predict(X_test_all3)\n",
    "smoker_all_rfc_preds = gs4_all_rfc.predict(X_test_all4)\n",
    "\n",
    "tobacco_all_rfc_prec = precision_score(y_test_tobacco, tobacco_all_rfc_preds, average='micro')\n",
    "activity_all_rfc_prec = precision_score(y_test_activity, activity_all_rfc_preds, average='micro')\n",
    "health_all_rfc_prec = precision_score(y_test_health, health_all_rfc_preds, average='micro')\n",
    "smoker_all_rfc_prec = precision_score(y_test_smoker, smoker_all_rfc_preds, average='micro')"
   ]
  },
  {
   "cell_type": "code",
   "execution_count": 59,
   "metadata": {},
   "outputs": [
    {
     "name": "stdout",
     "output_type": "stream",
     "text": [
      " training accuracy for tobacco: 1.0\n",
      " training accuracy for activity: 1.0\n",
      " training accuracy for health: 0.999721293199554\n",
      " training accuracy for smoker: 0.9992148652185292\n"
     ]
    }
   ],
   "source": [
    "print(f' training accuracy for tobacco: {gs_all_rfc.score(X_train_all, y_train_tobacco)}')\n",
    "print(f' training accuracy for activity: {gs2_all_rfc.score(X_train_all2, y_train_activity)}')\n",
    "print(f' training accuracy for health: {gs3_all_rfc.score(X_train_all3, y_train_health)}')\n",
    "print(f' training accuracy for smoker: {gs4_all_rfc.score(X_train_all4, y_train_smoker)}')"
   ]
  },
  {
   "cell_type": "code",
   "execution_count": 60,
   "metadata": {},
   "outputs": [
    {
     "name": "stdout",
     "output_type": "stream",
     "text": [
      " testing accuracy for tobacco: 0.9947294448348559\n",
      " testing accuracy for activity: 0.9105970615817442\n",
      " testing accuracy for health: 0.9467670011148273\n",
      " testing accuracy for smoker: 0.8113553113553114\n"
     ]
    }
   ],
   "source": [
    "print(f' testing accuracy for tobacco: {gs_all_rfc.score(X_test_all, y_test_tobacco)}')\n",
    "print(f' testing accuracy for activity: {gs2_all_rfc.score(X_test_all2, y_test_activity)}')\n",
    "print(f' testing accuracy for health: {gs3_all_rfc.score(X_test_all3, y_test_health)}')\n",
    "print(f' testing accuracy for smoker: {gs4_all_rfc.score(X_test_all4, y_test_smoker)}')"
   ]
  },
  {
   "cell_type": "code",
   "execution_count": 61,
   "metadata": {},
   "outputs": [
    {
     "name": "stdout",
     "output_type": "stream",
     "text": [
      "Precision for tobacco: 0.9947294448348559\n",
      "Precision for activity: 0.9105970615817442\n",
      "Precision for health: 0.9467670011148273\n",
      "Precision for smoker: 0.8113553113553114\n"
     ]
    }
   ],
   "source": [
    "print(f'Precision for tobacco: {tobacco_all_rfc_prec}')\n",
    "print(f'Precision for activity: {activity_all_rfc_prec}')\n",
    "print(f'Precision for health: {health_all_rfc_prec}')\n",
    "print(f'Precision for smoker: {smoker_all_rfc_prec}')"
   ]
  },
  {
   "cell_type": "code",
   "execution_count": 42,
   "metadata": {},
   "outputs": [
    {
     "name": "stdout",
     "output_type": "stream",
     "text": [
      "{'randomforestclassifier__max_depth': None, 'randomforestclassifier__n_estimators': 500, 'selectkbest__k': 25}\n",
      "{'randomforestclassifier__max_depth': None, 'randomforestclassifier__n_estimators': 100, 'selectkbest__k': 25}\n",
      "{'randomforestclassifier__max_depth': None, 'randomforestclassifier__n_estimators': 500, 'selectkbest__k': 25}\n",
      "{'randomforestclassifier__max_depth': None, 'randomforestclassifier__n_estimators': 500, 'selectkbest__k': 25}\n"
     ]
    }
   ],
   "source": [
    "print(gs_all_rfc.best_params_)\n",
    "print(gs2_all_rfc.best_params_)\n",
    "print(gs3_all_rfc.best_params_)\n",
    "print(gs4_all_rfc.best_params_)"
   ]
  },
  {
   "cell_type": "markdown",
   "metadata": {},
   "source": [
    "### Pipeline and Gridsearch with just all features as predictors (Extra Trees Classifier)"
   ]
  },
  {
   "cell_type": "code",
   "execution_count": 62,
   "metadata": {},
   "outputs": [
    {
     "name": "stderr",
     "output_type": "stream",
     "text": [
      "C:\\Users\\eboni\\anaconda3\\lib\\site-packages\\sklearn\\feature_selection\\_univariate_selection.py:114: UserWarning: Features [23 51] are constant.\n",
      "  warnings.warn(\"Features %s are constant.\" % constant_features_idx,\n",
      "C:\\Users\\eboni\\anaconda3\\lib\\site-packages\\sklearn\\feature_selection\\_univariate_selection.py:116: RuntimeWarning: invalid value encountered in true_divide\n",
      "  f = msb / msw\n"
     ]
    },
    {
     "data": {
      "text/plain": [
       "GridSearchCV(cv=3,\n",
       "             estimator=Pipeline(steps=[('selectkbest', SelectKBest()),\n",
       "                                       ('standardscaler', StandardScaler()),\n",
       "                                       ('extratreesclassifier',\n",
       "                                        ExtraTreesClassifier())]),\n",
       "             n_jobs=-1,\n",
       "             param_grid={'extratreesclassifier__max_depth': [None, 3, 5],\n",
       "                         'extratreesclassifier__n_estimators': [100, 300, 500],\n",
       "                         'selectkbest__k': range(1, 217, 20)})"
      ]
     },
     "execution_count": 62,
     "metadata": {},
     "output_type": "execute_result"
    }
   ],
   "source": [
    "pipe_all_etc = make_pipeline(SelectKBest(f_classif), StandardScaler(), ExtraTreesClassifier())\n",
    "\n",
    "params_all_etc = {'selectkbest__k': range(1, 217, 20),\n",
    "                  'extratreesclassifier__n_estimators': [100, 300, 500],\n",
    "                  'extratreesclassifier__max_depth': [None, 3, 5], }\n",
    "                 #'extratreesclassifier__min_samples_split': [1, 3, 5],\n",
    "                 #'extratreesclassifier__min_samples_leaf': [1, 3, 5]}\n",
    "\n",
    "gs_all_etc = GridSearchCV(pipe_all_etc, params_all_etc, n_jobs=-1, cv=3)\n",
    "\n",
    "gs_all_etc.fit(X_train_all, y_train_tobacco)"
   ]
  },
  {
   "cell_type": "code",
   "execution_count": 63,
   "metadata": {},
   "outputs": [
    {
     "name": "stderr",
     "output_type": "stream",
     "text": [
      "C:\\Users\\eboni\\anaconda3\\lib\\site-packages\\sklearn\\feature_selection\\_univariate_selection.py:114: UserWarning: Features [23 56] are constant.\n",
      "  warnings.warn(\"Features %s are constant.\" % constant_features_idx,\n",
      "C:\\Users\\eboni\\anaconda3\\lib\\site-packages\\sklearn\\feature_selection\\_univariate_selection.py:116: RuntimeWarning: invalid value encountered in true_divide\n",
      "  f = msb / msw\n"
     ]
    },
    {
     "data": {
      "text/plain": [
       "GridSearchCV(cv=3,\n",
       "             estimator=Pipeline(steps=[('selectkbest', SelectKBest()),\n",
       "                                       ('standardscaler', StandardScaler()),\n",
       "                                       ('extratreesclassifier',\n",
       "                                        ExtraTreesClassifier())]),\n",
       "             n_jobs=-1,\n",
       "             param_grid={'extratreesclassifier__max_depth': [None, 3, 5],\n",
       "                         'extratreesclassifier__n_estimators': [100, 300, 500],\n",
       "                         'selectkbest__k': range(1, 217, 20)})"
      ]
     },
     "execution_count": 63,
     "metadata": {},
     "output_type": "execute_result"
    }
   ],
   "source": [
    "pipe2_all_etc = make_pipeline(SelectKBest(f_classif), StandardScaler(), ExtraTreesClassifier())\n",
    "\n",
    "gs2_all_etc = GridSearchCV(pipe2_all_etc, params_all_etc, n_jobs=-1, cv=3)\n",
    "\n",
    "gs2_all_etc.fit(X_train_all2, y_train_activity)"
   ]
  },
  {
   "cell_type": "code",
   "execution_count": 64,
   "metadata": {},
   "outputs": [
    {
     "name": "stderr",
     "output_type": "stream",
     "text": [
      "C:\\Users\\eboni\\anaconda3\\lib\\site-packages\\sklearn\\feature_selection\\_univariate_selection.py:114: UserWarning: Features [ 23  51 199] are constant.\n",
      "  warnings.warn(\"Features %s are constant.\" % constant_features_idx,\n",
      "C:\\Users\\eboni\\anaconda3\\lib\\site-packages\\sklearn\\feature_selection\\_univariate_selection.py:116: RuntimeWarning: invalid value encountered in true_divide\n",
      "  f = msb / msw\n"
     ]
    },
    {
     "data": {
      "text/plain": [
       "GridSearchCV(cv=3,\n",
       "             estimator=Pipeline(steps=[('selectkbest', SelectKBest()),\n",
       "                                       ('standardscaler', StandardScaler()),\n",
       "                                       ('extratreesclassifier',\n",
       "                                        ExtraTreesClassifier())]),\n",
       "             n_jobs=-1,\n",
       "             param_grid={'extratreesclassifier__max_depth': [None, 3, 5],\n",
       "                         'extratreesclassifier__n_estimators': [100, 300, 500],\n",
       "                         'selectkbest__k': range(1, 217, 20)})"
      ]
     },
     "execution_count": 64,
     "metadata": {},
     "output_type": "execute_result"
    }
   ],
   "source": [
    "pipe3_all_etc = make_pipeline(SelectKBest(f_classif), StandardScaler(), ExtraTreesClassifier())\n",
    "\n",
    "gs3_all_etc = GridSearchCV(pipe3_all_etc, params_all_etc, n_jobs=-1, cv=3)\n",
    "\n",
    "gs3_all_etc.fit(X_train_all3, y_train_health)"
   ]
  },
  {
   "cell_type": "code",
   "execution_count": 65,
   "metadata": {},
   "outputs": [
    {
     "name": "stderr",
     "output_type": "stream",
     "text": [
      "C:\\Users\\eboni\\anaconda3\\lib\\site-packages\\sklearn\\feature_selection\\_univariate_selection.py:114: UserWarning: Features [49] are constant.\n",
      "  warnings.warn(\"Features %s are constant.\" % constant_features_idx,\n",
      "C:\\Users\\eboni\\anaconda3\\lib\\site-packages\\sklearn\\feature_selection\\_univariate_selection.py:116: RuntimeWarning: invalid value encountered in true_divide\n",
      "  f = msb / msw\n"
     ]
    },
    {
     "data": {
      "text/plain": [
       "GridSearchCV(cv=3,\n",
       "             estimator=Pipeline(steps=[('selectkbest', SelectKBest()),\n",
       "                                       ('standardscaler', StandardScaler()),\n",
       "                                       ('extratreesclassifier',\n",
       "                                        ExtraTreesClassifier())]),\n",
       "             n_jobs=-1,\n",
       "             param_grid={'extratreesclassifier__max_depth': [None, 3, 5],\n",
       "                         'extratreesclassifier__n_estimators': [100, 300, 500],\n",
       "                         'selectkbest__k': range(1, 217, 20)})"
      ]
     },
     "execution_count": 65,
     "metadata": {},
     "output_type": "execute_result"
    }
   ],
   "source": [
    "pipe4_all_etc = make_pipeline(SelectKBest(f_classif), StandardScaler(), ExtraTreesClassifier())\n",
    "\n",
    "gs4_all_etc = GridSearchCV(pipe4_all_etc, params_all_etc, n_jobs=-1, cv=3)\n",
    "\n",
    "gs4_all_etc.fit(X_train_all4, y_train_smoker)"
   ]
  },
  {
   "cell_type": "code",
   "execution_count": 66,
   "metadata": {},
   "outputs": [],
   "source": [
    "tobacco_all_etc_preds = gs_all_etc.predict(X_test_all)\n",
    "activity_all_etc_preds = gs2_all_etc.predict(X_test_all2)\n",
    "health_all_etc_preds = gs3_all_etc.predict(X_test_all3)\n",
    "smoker_all_etc_preds = gs4_all_etc.predict(X_test_all4)\n",
    "\n",
    "tobacco_all_etc_prec = precision_score(y_test_tobacco, tobacco_all_etc_preds, average='micro')\n",
    "activity_all_etc_prec = precision_score(y_test_activity, activity_all_etc_preds, average='micro')\n",
    "health_all_etc_prec = precision_score(y_test_health, health_all_etc_preds, average='micro')\n",
    "smoker_all_etc_prec = precision_score(y_test_smoker, smoker_all_etc_preds, average='micro')"
   ]
  },
  {
   "cell_type": "code",
   "execution_count": 67,
   "metadata": {},
   "outputs": [
    {
     "name": "stdout",
     "output_type": "stream",
     "text": [
      " training accuracy for tobacco: 1.0\n",
      " training accuracy for activity: 1.0\n",
      " training accuracy for health: 1.0\n",
      " training accuracy for smoker: 0.9992148652185292\n"
     ]
    }
   ],
   "source": [
    "print(f' training accuracy for tobacco: {gs_all_etc.score(X_train_all, y_train_tobacco)}')\n",
    "print(f' training accuracy for activity: {gs2_all_etc.score(X_train_all2, y_train_activity)}')\n",
    "print(f' training accuracy for health: {gs3_all_etc.score(X_train_all3, y_train_health)}')\n",
    "print(f' training accuracy for smoker: {gs4_all_etc.score(X_train_all4, y_train_smoker)}')"
   ]
  },
  {
   "cell_type": "code",
   "execution_count": 68,
   "metadata": {},
   "outputs": [
    {
     "name": "stdout",
     "output_type": "stream",
     "text": [
      " testing accuracy for tobacco: 0.9947294448348559\n",
      " testing accuracy for activity: 0.909659268521413\n",
      " testing accuracy for health: 0.9484392419175028\n",
      " testing accuracy for smoker: 0.8108320251177394\n"
     ]
    }
   ],
   "source": [
    "print(f' testing accuracy for tobacco: {gs_all_etc.score(X_test_all, y_test_tobacco)}')\n",
    "print(f' testing accuracy for activity: {gs2_all_etc.score(X_test_all2, y_test_activity)}')\n",
    "print(f' testing accuracy for health: {gs3_all_etc.score(X_test_all3, y_test_health)}')\n",
    "print(f' testing accuracy for smoker: {gs4_all_etc.score(X_test_all4, y_test_smoker)}')"
   ]
  },
  {
   "cell_type": "code",
   "execution_count": 69,
   "metadata": {},
   "outputs": [
    {
     "name": "stdout",
     "output_type": "stream",
     "text": [
      "Precision for tobacco: 0.9947294448348559\n",
      "Precision for activity: 0.909659268521413\n",
      "Precision for health: 0.9484392419175028\n",
      "Precision for smoker: 0.8108320251177394\n"
     ]
    }
   ],
   "source": [
    "print(f'Precision for tobacco: {tobacco_all_etc_prec}')\n",
    "print(f'Precision for activity: {activity_all_etc_prec}')\n",
    "print(f'Precision for health: {health_all_etc_prec}')\n",
    "print(f'Precision for smoker: {smoker_all_etc_prec}')"
   ]
  },
  {
   "cell_type": "code",
   "execution_count": 70,
   "metadata": {},
   "outputs": [
    {
     "name": "stdout",
     "output_type": "stream",
     "text": [
      "{'extratreesclassifier__max_depth': None, 'extratreesclassifier__n_estimators': 300, 'selectkbest__k': 181}\n",
      "{'extratreesclassifier__max_depth': None, 'extratreesclassifier__n_estimators': 500, 'selectkbest__k': 201}\n",
      "{'extratreesclassifier__max_depth': None, 'extratreesclassifier__n_estimators': 500, 'selectkbest__k': 201}\n",
      "{'extratreesclassifier__max_depth': None, 'extratreesclassifier__n_estimators': 300, 'selectkbest__k': 201}\n"
     ]
    }
   ],
   "source": [
    "print(gs_all_etc.best_params_)\n",
    "print(gs2_all_etc.best_params_)\n",
    "print(gs3_all_etc.best_params_)\n",
    "print(gs4_all_etc.best_params_)"
   ]
  },
  {
   "cell_type": "markdown",
   "metadata": {},
   "source": [
    "### Pipeline and Gridsearch with just all features as predictors (Gradient Boost Classifier)"
   ]
  },
  {
   "cell_type": "code",
   "execution_count": 92,
   "metadata": {
    "collapsed": true,
    "jupyter": {
     "outputs_hidden": true
    }
   },
   "outputs": [
    {
     "ename": "KeyboardInterrupt",
     "evalue": "",
     "output_type": "error",
     "traceback": [
      "\u001b[1;31m---------------------------------------------------------------------------\u001b[0m",
      "\u001b[1;31mKeyboardInterrupt\u001b[0m                         Traceback (most recent call last)",
      "\u001b[1;32m<ipython-input-92-b2a902f2ae3d>\u001b[0m in \u001b[0;36m<module>\u001b[1;34m\u001b[0m\n\u001b[0;32m      9\u001b[0m \u001b[0mgs_all_gbc\u001b[0m \u001b[1;33m=\u001b[0m \u001b[0mGridSearchCV\u001b[0m\u001b[1;33m(\u001b[0m\u001b[0mpipe_all_gbc\u001b[0m\u001b[1;33m,\u001b[0m \u001b[0mparams_all_gbc\u001b[0m\u001b[1;33m,\u001b[0m \u001b[0mn_jobs\u001b[0m\u001b[1;33m=\u001b[0m\u001b[1;33m-\u001b[0m\u001b[1;36m1\u001b[0m\u001b[1;33m,\u001b[0m \u001b[0mcv\u001b[0m\u001b[1;33m=\u001b[0m\u001b[1;36m3\u001b[0m\u001b[1;33m)\u001b[0m\u001b[1;33m\u001b[0m\u001b[1;33m\u001b[0m\u001b[0m\n\u001b[0;32m     10\u001b[0m \u001b[1;33m\u001b[0m\u001b[0m\n\u001b[1;32m---> 11\u001b[1;33m \u001b[0mgs_all_gbc\u001b[0m\u001b[1;33m.\u001b[0m\u001b[0mfit\u001b[0m\u001b[1;33m(\u001b[0m\u001b[0mX_train_all\u001b[0m\u001b[1;33m,\u001b[0m \u001b[0my_train_tobacco\u001b[0m\u001b[1;33m)\u001b[0m\u001b[1;33m\u001b[0m\u001b[1;33m\u001b[0m\u001b[0m\n\u001b[0m",
      "\u001b[1;32m~\\anaconda3\\lib\\site-packages\\sklearn\\utils\\validation.py\u001b[0m in \u001b[0;36minner_f\u001b[1;34m(*args, **kwargs)\u001b[0m\n\u001b[0;32m     71\u001b[0m                           FutureWarning)\n\u001b[0;32m     72\u001b[0m         \u001b[0mkwargs\u001b[0m\u001b[1;33m.\u001b[0m\u001b[0mupdate\u001b[0m\u001b[1;33m(\u001b[0m\u001b[1;33m{\u001b[0m\u001b[0mk\u001b[0m\u001b[1;33m:\u001b[0m \u001b[0marg\u001b[0m \u001b[1;32mfor\u001b[0m \u001b[0mk\u001b[0m\u001b[1;33m,\u001b[0m \u001b[0marg\u001b[0m \u001b[1;32min\u001b[0m \u001b[0mzip\u001b[0m\u001b[1;33m(\u001b[0m\u001b[0msig\u001b[0m\u001b[1;33m.\u001b[0m\u001b[0mparameters\u001b[0m\u001b[1;33m,\u001b[0m \u001b[0margs\u001b[0m\u001b[1;33m)\u001b[0m\u001b[1;33m}\u001b[0m\u001b[1;33m)\u001b[0m\u001b[1;33m\u001b[0m\u001b[1;33m\u001b[0m\u001b[0m\n\u001b[1;32m---> 73\u001b[1;33m         \u001b[1;32mreturn\u001b[0m \u001b[0mf\u001b[0m\u001b[1;33m(\u001b[0m\u001b[1;33m**\u001b[0m\u001b[0mkwargs\u001b[0m\u001b[1;33m)\u001b[0m\u001b[1;33m\u001b[0m\u001b[1;33m\u001b[0m\u001b[0m\n\u001b[0m\u001b[0;32m     74\u001b[0m     \u001b[1;32mreturn\u001b[0m \u001b[0minner_f\u001b[0m\u001b[1;33m\u001b[0m\u001b[1;33m\u001b[0m\u001b[0m\n\u001b[0;32m     75\u001b[0m \u001b[1;33m\u001b[0m\u001b[0m\n",
      "\u001b[1;32m~\\anaconda3\\lib\\site-packages\\sklearn\\model_selection\\_search.py\u001b[0m in \u001b[0;36mfit\u001b[1;34m(self, X, y, groups, **fit_params)\u001b[0m\n\u001b[0;32m    734\u001b[0m                 \u001b[1;32mreturn\u001b[0m \u001b[0mresults\u001b[0m\u001b[1;33m\u001b[0m\u001b[1;33m\u001b[0m\u001b[0m\n\u001b[0;32m    735\u001b[0m \u001b[1;33m\u001b[0m\u001b[0m\n\u001b[1;32m--> 736\u001b[1;33m             \u001b[0mself\u001b[0m\u001b[1;33m.\u001b[0m\u001b[0m_run_search\u001b[0m\u001b[1;33m(\u001b[0m\u001b[0mevaluate_candidates\u001b[0m\u001b[1;33m)\u001b[0m\u001b[1;33m\u001b[0m\u001b[1;33m\u001b[0m\u001b[0m\n\u001b[0m\u001b[0;32m    737\u001b[0m \u001b[1;33m\u001b[0m\u001b[0m\n\u001b[0;32m    738\u001b[0m         \u001b[1;31m# For multi-metric evaluation, store the best_index_, best_params_ and\u001b[0m\u001b[1;33m\u001b[0m\u001b[1;33m\u001b[0m\u001b[1;33m\u001b[0m\u001b[0m\n",
      "\u001b[1;32m~\\anaconda3\\lib\\site-packages\\sklearn\\model_selection\\_search.py\u001b[0m in \u001b[0;36m_run_search\u001b[1;34m(self, evaluate_candidates)\u001b[0m\n\u001b[0;32m   1186\u001b[0m     \u001b[1;32mdef\u001b[0m \u001b[0m_run_search\u001b[0m\u001b[1;33m(\u001b[0m\u001b[0mself\u001b[0m\u001b[1;33m,\u001b[0m \u001b[0mevaluate_candidates\u001b[0m\u001b[1;33m)\u001b[0m\u001b[1;33m:\u001b[0m\u001b[1;33m\u001b[0m\u001b[1;33m\u001b[0m\u001b[0m\n\u001b[0;32m   1187\u001b[0m         \u001b[1;34m\"\"\"Search all candidates in param_grid\"\"\"\u001b[0m\u001b[1;33m\u001b[0m\u001b[1;33m\u001b[0m\u001b[0m\n\u001b[1;32m-> 1188\u001b[1;33m         \u001b[0mevaluate_candidates\u001b[0m\u001b[1;33m(\u001b[0m\u001b[0mParameterGrid\u001b[0m\u001b[1;33m(\u001b[0m\u001b[0mself\u001b[0m\u001b[1;33m.\u001b[0m\u001b[0mparam_grid\u001b[0m\u001b[1;33m)\u001b[0m\u001b[1;33m)\u001b[0m\u001b[1;33m\u001b[0m\u001b[1;33m\u001b[0m\u001b[0m\n\u001b[0m\u001b[0;32m   1189\u001b[0m \u001b[1;33m\u001b[0m\u001b[0m\n\u001b[0;32m   1190\u001b[0m \u001b[1;33m\u001b[0m\u001b[0m\n",
      "\u001b[1;32m~\\anaconda3\\lib\\site-packages\\sklearn\\model_selection\\_search.py\u001b[0m in \u001b[0;36mevaluate_candidates\u001b[1;34m(candidate_params)\u001b[0m\n\u001b[0;32m    706\u001b[0m                               n_splits, n_candidates, n_candidates * n_splits))\n\u001b[0;32m    707\u001b[0m \u001b[1;33m\u001b[0m\u001b[0m\n\u001b[1;32m--> 708\u001b[1;33m                 out = parallel(delayed(_fit_and_score)(clone(base_estimator),\n\u001b[0m\u001b[0;32m    709\u001b[0m                                                        \u001b[0mX\u001b[0m\u001b[1;33m,\u001b[0m \u001b[0my\u001b[0m\u001b[1;33m,\u001b[0m\u001b[1;33m\u001b[0m\u001b[1;33m\u001b[0m\u001b[0m\n\u001b[0;32m    710\u001b[0m                                                        \u001b[0mtrain\u001b[0m\u001b[1;33m=\u001b[0m\u001b[0mtrain\u001b[0m\u001b[1;33m,\u001b[0m \u001b[0mtest\u001b[0m\u001b[1;33m=\u001b[0m\u001b[0mtest\u001b[0m\u001b[1;33m,\u001b[0m\u001b[1;33m\u001b[0m\u001b[1;33m\u001b[0m\u001b[0m\n",
      "\u001b[1;32m~\\anaconda3\\lib\\site-packages\\joblib\\parallel.py\u001b[0m in \u001b[0;36m__call__\u001b[1;34m(self, iterable)\u001b[0m\n\u001b[0;32m   1040\u001b[0m \u001b[1;33m\u001b[0m\u001b[0m\n\u001b[0;32m   1041\u001b[0m             \u001b[1;32mwith\u001b[0m \u001b[0mself\u001b[0m\u001b[1;33m.\u001b[0m\u001b[0m_backend\u001b[0m\u001b[1;33m.\u001b[0m\u001b[0mretrieval_context\u001b[0m\u001b[1;33m(\u001b[0m\u001b[1;33m)\u001b[0m\u001b[1;33m:\u001b[0m\u001b[1;33m\u001b[0m\u001b[1;33m\u001b[0m\u001b[0m\n\u001b[1;32m-> 1042\u001b[1;33m                 \u001b[0mself\u001b[0m\u001b[1;33m.\u001b[0m\u001b[0mretrieve\u001b[0m\u001b[1;33m(\u001b[0m\u001b[1;33m)\u001b[0m\u001b[1;33m\u001b[0m\u001b[1;33m\u001b[0m\u001b[0m\n\u001b[0m\u001b[0;32m   1043\u001b[0m             \u001b[1;31m# Make sure that we get a last message telling us we are done\u001b[0m\u001b[1;33m\u001b[0m\u001b[1;33m\u001b[0m\u001b[1;33m\u001b[0m\u001b[0m\n\u001b[0;32m   1044\u001b[0m             \u001b[0melapsed_time\u001b[0m \u001b[1;33m=\u001b[0m \u001b[0mtime\u001b[0m\u001b[1;33m.\u001b[0m\u001b[0mtime\u001b[0m\u001b[1;33m(\u001b[0m\u001b[1;33m)\u001b[0m \u001b[1;33m-\u001b[0m \u001b[0mself\u001b[0m\u001b[1;33m.\u001b[0m\u001b[0m_start_time\u001b[0m\u001b[1;33m\u001b[0m\u001b[1;33m\u001b[0m\u001b[0m\n",
      "\u001b[1;32m~\\anaconda3\\lib\\site-packages\\joblib\\parallel.py\u001b[0m in \u001b[0;36mretrieve\u001b[1;34m(self)\u001b[0m\n\u001b[0;32m    919\u001b[0m             \u001b[1;32mtry\u001b[0m\u001b[1;33m:\u001b[0m\u001b[1;33m\u001b[0m\u001b[1;33m\u001b[0m\u001b[0m\n\u001b[0;32m    920\u001b[0m                 \u001b[1;32mif\u001b[0m \u001b[0mgetattr\u001b[0m\u001b[1;33m(\u001b[0m\u001b[0mself\u001b[0m\u001b[1;33m.\u001b[0m\u001b[0m_backend\u001b[0m\u001b[1;33m,\u001b[0m \u001b[1;34m'supports_timeout'\u001b[0m\u001b[1;33m,\u001b[0m \u001b[1;32mFalse\u001b[0m\u001b[1;33m)\u001b[0m\u001b[1;33m:\u001b[0m\u001b[1;33m\u001b[0m\u001b[1;33m\u001b[0m\u001b[0m\n\u001b[1;32m--> 921\u001b[1;33m                     \u001b[0mself\u001b[0m\u001b[1;33m.\u001b[0m\u001b[0m_output\u001b[0m\u001b[1;33m.\u001b[0m\u001b[0mextend\u001b[0m\u001b[1;33m(\u001b[0m\u001b[0mjob\u001b[0m\u001b[1;33m.\u001b[0m\u001b[0mget\u001b[0m\u001b[1;33m(\u001b[0m\u001b[0mtimeout\u001b[0m\u001b[1;33m=\u001b[0m\u001b[0mself\u001b[0m\u001b[1;33m.\u001b[0m\u001b[0mtimeout\u001b[0m\u001b[1;33m)\u001b[0m\u001b[1;33m)\u001b[0m\u001b[1;33m\u001b[0m\u001b[1;33m\u001b[0m\u001b[0m\n\u001b[0m\u001b[0;32m    922\u001b[0m                 \u001b[1;32melse\u001b[0m\u001b[1;33m:\u001b[0m\u001b[1;33m\u001b[0m\u001b[1;33m\u001b[0m\u001b[0m\n\u001b[0;32m    923\u001b[0m                     \u001b[0mself\u001b[0m\u001b[1;33m.\u001b[0m\u001b[0m_output\u001b[0m\u001b[1;33m.\u001b[0m\u001b[0mextend\u001b[0m\u001b[1;33m(\u001b[0m\u001b[0mjob\u001b[0m\u001b[1;33m.\u001b[0m\u001b[0mget\u001b[0m\u001b[1;33m(\u001b[0m\u001b[1;33m)\u001b[0m\u001b[1;33m)\u001b[0m\u001b[1;33m\u001b[0m\u001b[1;33m\u001b[0m\u001b[0m\n",
      "\u001b[1;32m~\\anaconda3\\lib\\site-packages\\joblib\\_parallel_backends.py\u001b[0m in \u001b[0;36mwrap_future_result\u001b[1;34m(future, timeout)\u001b[0m\n\u001b[0;32m    540\u001b[0m         AsyncResults.get from multiprocessing.\"\"\"\n\u001b[0;32m    541\u001b[0m         \u001b[1;32mtry\u001b[0m\u001b[1;33m:\u001b[0m\u001b[1;33m\u001b[0m\u001b[1;33m\u001b[0m\u001b[0m\n\u001b[1;32m--> 542\u001b[1;33m             \u001b[1;32mreturn\u001b[0m \u001b[0mfuture\u001b[0m\u001b[1;33m.\u001b[0m\u001b[0mresult\u001b[0m\u001b[1;33m(\u001b[0m\u001b[0mtimeout\u001b[0m\u001b[1;33m=\u001b[0m\u001b[0mtimeout\u001b[0m\u001b[1;33m)\u001b[0m\u001b[1;33m\u001b[0m\u001b[1;33m\u001b[0m\u001b[0m\n\u001b[0m\u001b[0;32m    543\u001b[0m         \u001b[1;32mexcept\u001b[0m \u001b[0mCfTimeoutError\u001b[0m \u001b[1;32mas\u001b[0m \u001b[0me\u001b[0m\u001b[1;33m:\u001b[0m\u001b[1;33m\u001b[0m\u001b[1;33m\u001b[0m\u001b[0m\n\u001b[0;32m    544\u001b[0m             \u001b[1;32mraise\u001b[0m \u001b[0mTimeoutError\u001b[0m \u001b[1;32mfrom\u001b[0m \u001b[0me\u001b[0m\u001b[1;33m\u001b[0m\u001b[1;33m\u001b[0m\u001b[0m\n",
      "\u001b[1;32m~\\anaconda3\\lib\\concurrent\\futures\\_base.py\u001b[0m in \u001b[0;36mresult\u001b[1;34m(self, timeout)\u001b[0m\n\u001b[0;32m    432\u001b[0m                 \u001b[1;32mreturn\u001b[0m \u001b[0mself\u001b[0m\u001b[1;33m.\u001b[0m\u001b[0m__get_result\u001b[0m\u001b[1;33m(\u001b[0m\u001b[1;33m)\u001b[0m\u001b[1;33m\u001b[0m\u001b[1;33m\u001b[0m\u001b[0m\n\u001b[0;32m    433\u001b[0m \u001b[1;33m\u001b[0m\u001b[0m\n\u001b[1;32m--> 434\u001b[1;33m             \u001b[0mself\u001b[0m\u001b[1;33m.\u001b[0m\u001b[0m_condition\u001b[0m\u001b[1;33m.\u001b[0m\u001b[0mwait\u001b[0m\u001b[1;33m(\u001b[0m\u001b[0mtimeout\u001b[0m\u001b[1;33m)\u001b[0m\u001b[1;33m\u001b[0m\u001b[1;33m\u001b[0m\u001b[0m\n\u001b[0m\u001b[0;32m    435\u001b[0m \u001b[1;33m\u001b[0m\u001b[0m\n\u001b[0;32m    436\u001b[0m             \u001b[1;32mif\u001b[0m \u001b[0mself\u001b[0m\u001b[1;33m.\u001b[0m\u001b[0m_state\u001b[0m \u001b[1;32min\u001b[0m \u001b[1;33m[\u001b[0m\u001b[0mCANCELLED\u001b[0m\u001b[1;33m,\u001b[0m \u001b[0mCANCELLED_AND_NOTIFIED\u001b[0m\u001b[1;33m]\u001b[0m\u001b[1;33m:\u001b[0m\u001b[1;33m\u001b[0m\u001b[1;33m\u001b[0m\u001b[0m\n",
      "\u001b[1;32m~\\anaconda3\\lib\\threading.py\u001b[0m in \u001b[0;36mwait\u001b[1;34m(self, timeout)\u001b[0m\n\u001b[0;32m    300\u001b[0m         \u001b[1;32mtry\u001b[0m\u001b[1;33m:\u001b[0m    \u001b[1;31m# restore state no matter what (e.g., KeyboardInterrupt)\u001b[0m\u001b[1;33m\u001b[0m\u001b[1;33m\u001b[0m\u001b[0m\n\u001b[0;32m    301\u001b[0m             \u001b[1;32mif\u001b[0m \u001b[0mtimeout\u001b[0m \u001b[1;32mis\u001b[0m \u001b[1;32mNone\u001b[0m\u001b[1;33m:\u001b[0m\u001b[1;33m\u001b[0m\u001b[1;33m\u001b[0m\u001b[0m\n\u001b[1;32m--> 302\u001b[1;33m                 \u001b[0mwaiter\u001b[0m\u001b[1;33m.\u001b[0m\u001b[0macquire\u001b[0m\u001b[1;33m(\u001b[0m\u001b[1;33m)\u001b[0m\u001b[1;33m\u001b[0m\u001b[1;33m\u001b[0m\u001b[0m\n\u001b[0m\u001b[0;32m    303\u001b[0m                 \u001b[0mgotit\u001b[0m \u001b[1;33m=\u001b[0m \u001b[1;32mTrue\u001b[0m\u001b[1;33m\u001b[0m\u001b[1;33m\u001b[0m\u001b[0m\n\u001b[0;32m    304\u001b[0m             \u001b[1;32melse\u001b[0m\u001b[1;33m:\u001b[0m\u001b[1;33m\u001b[0m\u001b[1;33m\u001b[0m\u001b[0m\n",
      "\u001b[1;31mKeyboardInterrupt\u001b[0m: "
     ]
    }
   ],
   "source": [
    "pipe_all_gbc = make_pipeline(SelectKBest(f_classif), StandardScaler(), GradientBoostingClassifier())\n",
    "\n",
    "params_all_gbc = {'selectkbest__k': range(1, 217, 20),\n",
    "                  'gradientboostingclassifier__loss': ['deviance', 'exponential'],\n",
    "                  'gradientboostingclassifier__learning_rate': [0.01, 0.1, 0.5],\n",
    "                  'gradientboostingclassifier__n_estimators': [100, 500],\n",
    "                  'gradientboostingclassifier__max_depth': [3, 5]}\n",
    "\n",
    "gs_all_gbc = GridSearchCV(pipe_all_gbc, params_all_gbc, n_jobs=-1, cv=3)\n",
    "\n",
    "gs_all_gbc.fit(X_train_all, y_train_tobacco)"
   ]
  },
  {
   "cell_type": "code",
   "execution_count": null,
   "metadata": {},
   "outputs": [],
   "source": [
    "pipe2_all_gbc = make_pipeline(SelectKBest(f_classif), StandardScaler(), GradientBoostingClassifier())\n",
    "\n",
    "gs2_all_gbc = GridSearchCV(pipe2_all_gbc, params_all_gbc, n_jobs=-1, cv=3)\n",
    "\n",
    "gs2_all_gbc.fit(X_train_all2, y_train_activity)"
   ]
  },
  {
   "cell_type": "code",
   "execution_count": null,
   "metadata": {},
   "outputs": [],
   "source": [
    "pipe3_all_gbc = make_pipeline(SelectKBest(f_classif), StandardScaler(), GradientBoostingClassifier())\n",
    "\n",
    "gs3_all_gbc = GridSearchCV(pipe3_all_gbc, params_all_gbc, n_jobs=-1, cv=3)\n",
    "\n",
    "gs3_all_gbc.fit(X_train_all3, y_train_health)"
   ]
  },
  {
   "cell_type": "code",
   "execution_count": null,
   "metadata": {},
   "outputs": [],
   "source": [
    "pipe4_all_gbc = make_pipeline(SelectKBest(f_classif), StandardScaler(), GradientBoostingClassifier())\n",
    "\n",
    "gs4_all_gbc = GridSearchCV(pipe4_all_gbc, params_all_gbc, n_jobs=-1, cv=3)\n",
    "\n",
    "gs4_all_gbc.fit(X_train_all4, y_train_smoker)"
   ]
  },
  {
   "cell_type": "code",
   "execution_count": null,
   "metadata": {},
   "outputs": [],
   "source": [
    "tobacco_all_gbc_preds = gs_all_gbc.predict(X_test_all)\n",
    "activity_all_gbc_preds = gs2_all_gbc.predict(X_test_all2)\n",
    "health_all_gbc_preds = gs3_all_gbc.predict(X_test_all3)\n",
    "smoker_all_gbc_preds = gs4_all_gbc.predict(X_test_all4)\n",
    "\n",
    "tobacco_all_gbc_prec = precision_score(y_test_tobacco, tobacco_all_gbc_preds, average='micro')\n",
    "activity_all_gbc_prec = precision_score(y_test_activity, activity_all_gbc_preds, average='micro')\n",
    "health_all_gbc_prec = precision_score(y_test_health, health_all_gbc_preds, average='micro')\n",
    "smoker_all_gbc_prec = precision_score(y_test_smoker, smoker_all_gbc_preds, average='micro')"
   ]
  },
  {
   "cell_type": "code",
   "execution_count": null,
   "metadata": {},
   "outputs": [],
   "source": [
    "print(f' training accuracy for tobacco: {gs_all_gbc.score(X_train_all, y_train_tobacco)}')\n",
    "print(f' training accuracy for activity: {gs2_all_gbc.score(X_train_all2, y_train_activity)}')\n",
    "print(f' training accuracy for health: {gs3_all_gbc.score(X_train_all3, y_train_health)}')\n",
    "print(f' training accuracy for smoker: {gs4_all_gbc.score(X_train_all4, y_train_smoker)}')"
   ]
  },
  {
   "cell_type": "code",
   "execution_count": null,
   "metadata": {},
   "outputs": [],
   "source": [
    "print(f' testing accuracy for tobacco: {gs_all_gbc.score(X_test_all, y_test_tobacco)}')\n",
    "print(f' testing accuracy for activity: {gs2_all_gbc.score(X_test_all2, y_test_activity)}')\n",
    "print(f' testing accuracy for health: {gs3_all_gbc.score(X_test_all3, y_test_health)}')\n",
    "print(f' testing accuracy for smoker: {gs4_all_gbc.score(X_test_all4, y_test_smoker)}')"
   ]
  },
  {
   "cell_type": "code",
   "execution_count": null,
   "metadata": {},
   "outputs": [],
   "source": [
    "print(f'Precision for tobacco: {tobacco_all_gbc_prec}')\n",
    "print(f'Precision for activity: {activity_all_gbc_prec}')\n",
    "print(f'Precision for health: {health_all_gbc_prec}')\n",
    "print(f'Precision for smoker: {smoker_all_gbc_prec}')"
   ]
  },
  {
   "cell_type": "code",
   "execution_count": null,
   "metadata": {},
   "outputs": [],
   "source": [
    "print(gs_all_gbc.best_params_)\n",
    "print(gs2_all_gbc.best_params_)\n",
    "print(gs3_all_gbc.best_params_)\n",
    "print(gs4_all_gbc.best_params_)"
   ]
  },
  {
   "cell_type": "markdown",
   "metadata": {},
   "source": [
    "### Pipeline and Gridsearch with just all features as predictors (Ada Boost Classifier)"
   ]
  },
  {
   "cell_type": "code",
   "execution_count": 73,
   "metadata": {},
   "outputs": [
    {
     "name": "stderr",
     "output_type": "stream",
     "text": [
      "C:\\Users\\eboni\\anaconda3\\lib\\site-packages\\sklearn\\feature_selection\\_univariate_selection.py:114: UserWarning: Features [23 51] are constant.\n",
      "  warnings.warn(\"Features %s are constant.\" % constant_features_idx,\n",
      "C:\\Users\\eboni\\anaconda3\\lib\\site-packages\\sklearn\\feature_selection\\_univariate_selection.py:116: RuntimeWarning: invalid value encountered in true_divide\n",
      "  f = msb / msw\n"
     ]
    },
    {
     "data": {
      "text/plain": [
       "GridSearchCV(cv=3,\n",
       "             estimator=Pipeline(steps=[('selectkbest', SelectKBest()),\n",
       "                                       ('standardscaler', StandardScaler()),\n",
       "                                       ('adaboostclassifier',\n",
       "                                        AdaBoostClassifier())]),\n",
       "             n_jobs=-1,\n",
       "             param_grid={'adaboostclassifier__learning_rate': [0.5, 1.0],\n",
       "                         'adaboostclassifier__n_estimators': [10, 15, 20, 25],\n",
       "                         'selectkbest__k': range(1, 217, 20)})"
      ]
     },
     "execution_count": 73,
     "metadata": {},
     "output_type": "execute_result"
    }
   ],
   "source": [
    "pipe_all_abc = make_pipeline(SelectKBest(f_classif), StandardScaler(), AdaBoostClassifier())\n",
    "\n",
    "params_all_abc = {'selectkbest__k': range(1, 217, 20),\n",
    "                  'adaboostclassifier__learning_rate': [0.5, 1.0],\n",
    "                  'adaboostclassifier__n_estimators': [10, 15, 20, 25], }\n",
    "\n",
    "gs_all_abc = GridSearchCV(pipe_all_abc, params_all_abc, n_jobs=-1, cv=3)\n",
    "\n",
    "gs_all_abc.fit(X_train_all, y_train_tobacco)"
   ]
  },
  {
   "cell_type": "code",
   "execution_count": 74,
   "metadata": {},
   "outputs": [
    {
     "name": "stderr",
     "output_type": "stream",
     "text": [
      "C:\\Users\\eboni\\anaconda3\\lib\\site-packages\\sklearn\\feature_selection\\_univariate_selection.py:114: UserWarning: Features [23 56] are constant.\n",
      "  warnings.warn(\"Features %s are constant.\" % constant_features_idx,\n",
      "C:\\Users\\eboni\\anaconda3\\lib\\site-packages\\sklearn\\feature_selection\\_univariate_selection.py:116: RuntimeWarning: invalid value encountered in true_divide\n",
      "  f = msb / msw\n"
     ]
    },
    {
     "data": {
      "text/plain": [
       "GridSearchCV(cv=3,\n",
       "             estimator=Pipeline(steps=[('selectkbest', SelectKBest()),\n",
       "                                       ('standardscaler', StandardScaler()),\n",
       "                                       ('adaboostclassifier',\n",
       "                                        AdaBoostClassifier())]),\n",
       "             n_jobs=-1,\n",
       "             param_grid={'adaboostclassifier__learning_rate': [0.5, 1.0],\n",
       "                         'adaboostclassifier__n_estimators': [10, 15, 20, 25],\n",
       "                         'selectkbest__k': range(1, 217, 20)})"
      ]
     },
     "execution_count": 74,
     "metadata": {},
     "output_type": "execute_result"
    }
   ],
   "source": [
    "pipe2_all_abc = make_pipeline(SelectKBest(f_classif), StandardScaler(), AdaBoostClassifier())\n",
    "\n",
    "gs2_all_abc = GridSearchCV(pipe2_all_abc, params_all_abc, n_jobs=-1, cv=3)\n",
    "\n",
    "gs2_all_abc.fit(X_train_all2, y_train_activity)"
   ]
  },
  {
   "cell_type": "code",
   "execution_count": 75,
   "metadata": {},
   "outputs": [
    {
     "name": "stderr",
     "output_type": "stream",
     "text": [
      "C:\\Users\\eboni\\anaconda3\\lib\\site-packages\\sklearn\\feature_selection\\_univariate_selection.py:114: UserWarning: Features [ 23  51 199] are constant.\n",
      "  warnings.warn(\"Features %s are constant.\" % constant_features_idx,\n",
      "C:\\Users\\eboni\\anaconda3\\lib\\site-packages\\sklearn\\feature_selection\\_univariate_selection.py:116: RuntimeWarning: invalid value encountered in true_divide\n",
      "  f = msb / msw\n"
     ]
    },
    {
     "data": {
      "text/plain": [
       "GridSearchCV(cv=3,\n",
       "             estimator=Pipeline(steps=[('selectkbest', SelectKBest()),\n",
       "                                       ('standardscaler', StandardScaler()),\n",
       "                                       ('adaboostclassifier',\n",
       "                                        AdaBoostClassifier())]),\n",
       "             n_jobs=-1,\n",
       "             param_grid={'adaboostclassifier__learning_rate': [0.5, 1.0],\n",
       "                         'adaboostclassifier__n_estimators': [10, 15, 20, 25],\n",
       "                         'selectkbest__k': range(1, 217, 20)})"
      ]
     },
     "execution_count": 75,
     "metadata": {},
     "output_type": "execute_result"
    }
   ],
   "source": [
    "pipe3_all_abc = make_pipeline(SelectKBest(f_classif), StandardScaler(), AdaBoostClassifier())\n",
    "\n",
    "gs3_all_abc = GridSearchCV(pipe3_all_abc, params_all_abc, n_jobs=-1, cv=3)\n",
    "\n",
    "gs3_all_abc.fit(X_train_all3, y_train_health)"
   ]
  },
  {
   "cell_type": "code",
   "execution_count": 76,
   "metadata": {},
   "outputs": [
    {
     "name": "stderr",
     "output_type": "stream",
     "text": [
      "C:\\Users\\eboni\\anaconda3\\lib\\site-packages\\sklearn\\feature_selection\\_univariate_selection.py:114: UserWarning: Features [49] are constant.\n",
      "  warnings.warn(\"Features %s are constant.\" % constant_features_idx,\n",
      "C:\\Users\\eboni\\anaconda3\\lib\\site-packages\\sklearn\\feature_selection\\_univariate_selection.py:116: RuntimeWarning: invalid value encountered in true_divide\n",
      "  f = msb / msw\n"
     ]
    },
    {
     "data": {
      "text/plain": [
       "GridSearchCV(cv=3,\n",
       "             estimator=Pipeline(steps=[('selectkbest', SelectKBest()),\n",
       "                                       ('standardscaler', StandardScaler()),\n",
       "                                       ('adaboostclassifier',\n",
       "                                        AdaBoostClassifier())]),\n",
       "             n_jobs=-1,\n",
       "             param_grid={'adaboostclassifier__learning_rate': [0.5, 1.0],\n",
       "                         'adaboostclassifier__n_estimators': [10, 15, 20, 25],\n",
       "                         'selectkbest__k': range(1, 217, 20)})"
      ]
     },
     "execution_count": 76,
     "metadata": {},
     "output_type": "execute_result"
    }
   ],
   "source": [
    "pipe4_all_abc = make_pipeline(SelectKBest(f_classif), StandardScaler(), AdaBoostClassifier())\n",
    "\n",
    "gs4_all_abc = GridSearchCV(pipe4_all_abc, params_all_abc, n_jobs=-1, cv=3)\n",
    "\n",
    "gs4_all_abc.fit(X_train_all4, y_train_smoker)"
   ]
  },
  {
   "cell_type": "code",
   "execution_count": 77,
   "metadata": {},
   "outputs": [],
   "source": [
    "tobacco_all_abc_preds = gs_all_abc.predict(X_test_all)\n",
    "activity_all_abc_preds = gs2_all_abc.predict(X_test_all2)\n",
    "health_all_abc_preds = gs3_all_abc.predict(X_test_all3)\n",
    "smoker_all_abc_preds = gs4_all_abc.predict(X_test_all4)\n",
    "\n",
    "tobacco_all_abc_prec = precision_score(y_test_tobacco, tobacco_all_abc_preds, average='micro')\n",
    "activity_all_abc_prec = precision_score(y_test_activity, activity_all_abc_preds, average='micro')\n",
    "health_all_abc_prec = precision_score(y_test_health, health_all_abc_preds, average='micro')\n",
    "smoker_all_abc_prec = precision_score(y_test_smoker, smoker_all_abc_preds, average='micro')"
   ]
  },
  {
   "cell_type": "code",
   "execution_count": 78,
   "metadata": {},
   "outputs": [
    {
     "name": "stdout",
     "output_type": "stream",
     "text": [
      " training accuracy for tobacco: 0.752225345514172\n",
      " training accuracy for activity: 0.7338474364318466\n",
      " training accuracy for health: 0.7934782608695652\n",
      " training accuracy for smoker: 0.5017883625577947\n"
     ]
    }
   ],
   "source": [
    "print(f' training accuracy for tobacco: {gs_all_abc.score(X_train_all, y_train_tobacco)}')\n",
    "print(f' training accuracy for activity: {gs2_all_abc.score(X_train_all2, y_train_activity)}')\n",
    "print(f' training accuracy for health: {gs3_all_abc.score(X_train_all3, y_train_health)}')\n",
    "print(f' training accuracy for smoker: {gs4_all_abc.score(X_train_all4, y_train_smoker)}')"
   ]
  },
  {
   "cell_type": "code",
   "execution_count": 79,
   "metadata": {},
   "outputs": [
    {
     "name": "stdout",
     "output_type": "stream",
     "text": [
      " testing accuracy for tobacco: 0.7454321855235418\n",
      " testing accuracy for activity: 0.7464832760237574\n",
      " testing accuracy for health: 0.7984949832775919\n",
      " testing accuracy for smoker: 0.501046572475144\n"
     ]
    }
   ],
   "source": [
    "print(f' testing accuracy for tobacco: {gs_all_abc.score(X_test_all, y_test_tobacco)}')\n",
    "print(f' testing accuracy for activity: {gs2_all_abc.score(X_test_all2, y_test_activity)}')\n",
    "print(f' testing accuracy for health: {gs3_all_abc.score(X_test_all3, y_test_health)}')\n",
    "print(f' testing accuracy for smoker: {gs4_all_abc.score(X_test_all4, y_test_smoker)}')"
   ]
  },
  {
   "cell_type": "code",
   "execution_count": 80,
   "metadata": {},
   "outputs": [
    {
     "name": "stdout",
     "output_type": "stream",
     "text": [
      "Precision for tobacco: 0.7454321855235418\n",
      "Precision for activity: 0.7464832760237574\n",
      "Precision for health: 0.7984949832775919\n",
      "Precision for smoker: 0.501046572475144\n"
     ]
    }
   ],
   "source": [
    "print(f'Precision for tobacco: {tobacco_all_abc_prec}')\n",
    "print(f'Precision for activity: {activity_all_abc_prec}')\n",
    "print(f'Precision for health: {health_all_abc_prec}')\n",
    "print(f'Precision for smoker: {smoker_all_abc_prec}')"
   ]
  },
  {
   "cell_type": "code",
   "execution_count": 81,
   "metadata": {},
   "outputs": [
    {
     "name": "stdout",
     "output_type": "stream",
     "text": [
      "{'adaboostclassifier__learning_rate': 1.0, 'adaboostclassifier__n_estimators': 25, 'selectkbest__k': 41}\n",
      "{'adaboostclassifier__learning_rate': 1.0, 'adaboostclassifier__n_estimators': 25, 'selectkbest__k': 101}\n",
      "{'adaboostclassifier__learning_rate': 1.0, 'adaboostclassifier__n_estimators': 25, 'selectkbest__k': 81}\n",
      "{'adaboostclassifier__learning_rate': 0.5, 'adaboostclassifier__n_estimators': 25, 'selectkbest__k': 41}\n"
     ]
    }
   ],
   "source": [
    "print(gs_all_abc.best_params_)\n",
    "print(gs2_all_abc.best_params_)\n",
    "print(gs3_all_abc.best_params_)\n",
    "print(gs4_all_abc.best_params_)"
   ]
  },
  {
   "cell_type": "markdown",
   "metadata": {},
   "source": [
    "### Pipeline and Gridsearch with just all features as predictors (XG Boost Classifier)"
   ]
  },
  {
   "cell_type": "code",
   "execution_count": 82,
   "metadata": {},
   "outputs": [
    {
     "name": "stderr",
     "output_type": "stream",
     "text": [
      "C:\\Users\\eboni\\anaconda3\\lib\\site-packages\\sklearn\\feature_selection\\_univariate_selection.py:114: UserWarning: Features [23 51] are constant.\n",
      "  warnings.warn(\"Features %s are constant.\" % constant_features_idx,\n",
      "C:\\Users\\eboni\\anaconda3\\lib\\site-packages\\sklearn\\feature_selection\\_univariate_selection.py:116: RuntimeWarning: invalid value encountered in true_divide\n",
      "  f = msb / msw\n"
     ]
    },
    {
     "data": {
      "text/plain": [
       "GridSearchCV(cv=3,\n",
       "             estimator=Pipeline(steps=[('selectkbest', SelectKBest()),\n",
       "                                       ('standardscaler', StandardScaler()),\n",
       "                                       ('xgbclassifier',\n",
       "                                        XGBClassifier(base_score=None,\n",
       "                                                      booster=None,\n",
       "                                                      colsample_bylevel=None,\n",
       "                                                      colsample_bynode=None,\n",
       "                                                      colsample_bytree=None,\n",
       "                                                      gamma=None, gpu_id=None,\n",
       "                                                      importance_type='gain',\n",
       "                                                      interaction_constraints=None,\n",
       "                                                      learning_rate=None,\n",
       "                                                      max_delta_step=None...\n",
       "                                                      n_jobs=None,\n",
       "                                                      num_parallel_tree=None,\n",
       "                                                      random_state=None,\n",
       "                                                      reg_alpha=None,\n",
       "                                                      reg_lambda=None,\n",
       "                                                      scale_pos_weight=None,\n",
       "                                                      subsample=None,\n",
       "                                                      tree_method=None,\n",
       "                                                      validate_parameters=None,\n",
       "                                                      verbosity=None))]),\n",
       "             n_jobs=-1,\n",
       "             param_grid={'selectkbest__k': range(1, 217, 20),\n",
       "                         'xgbclassifier__learning_rate': [0.5, 1.0],\n",
       "                         'xgbclassifier__max_depth': [3, 5],\n",
       "                         'xgbclassifier__n_estimators': [10, 15, 20, 25]})"
      ]
     },
     "execution_count": 82,
     "metadata": {},
     "output_type": "execute_result"
    }
   ],
   "source": [
    "pipe_all_xgb = make_pipeline(SelectKBest(f_classif), StandardScaler(), xgb.XGBClassifier())\n",
    "\n",
    "params_all_xgb = {'selectkbest__k': range(1, 217, 20),\n",
    "                  'xgbclassifier__learning_rate': [0.5, 1.0],\n",
    "                  'xgbclassifier__n_estimators': [10, 15, 20, 25],\n",
    "                 'xgbclassifier__max_depth': [3, 5]}\n",
    "\n",
    "gs_all_xgb = GridSearchCV(pipe_all_xgb, params_all_xgb, n_jobs=-1, cv=3)\n",
    "\n",
    "gs_all_xgb.fit(X_train_all, y_train_tobacco)"
   ]
  },
  {
   "cell_type": "code",
   "execution_count": 83,
   "metadata": {},
   "outputs": [
    {
     "name": "stderr",
     "output_type": "stream",
     "text": [
      "C:\\Users\\eboni\\anaconda3\\lib\\site-packages\\sklearn\\feature_selection\\_univariate_selection.py:114: UserWarning: Features [23 56] are constant.\n",
      "  warnings.warn(\"Features %s are constant.\" % constant_features_idx,\n",
      "C:\\Users\\eboni\\anaconda3\\lib\\site-packages\\sklearn\\feature_selection\\_univariate_selection.py:116: RuntimeWarning: invalid value encountered in true_divide\n",
      "  f = msb / msw\n"
     ]
    },
    {
     "data": {
      "text/plain": [
       "GridSearchCV(cv=3,\n",
       "             estimator=Pipeline(steps=[('selectkbest', SelectKBest()),\n",
       "                                       ('standardscaler', StandardScaler()),\n",
       "                                       ('xgbclassifier',\n",
       "                                        XGBClassifier(base_score=None,\n",
       "                                                      booster=None,\n",
       "                                                      colsample_bylevel=None,\n",
       "                                                      colsample_bynode=None,\n",
       "                                                      colsample_bytree=None,\n",
       "                                                      gamma=None, gpu_id=None,\n",
       "                                                      importance_type='gain',\n",
       "                                                      interaction_constraints=None,\n",
       "                                                      learning_rate=None,\n",
       "                                                      max_delta_step=None...\n",
       "                                                      n_jobs=None,\n",
       "                                                      num_parallel_tree=None,\n",
       "                                                      random_state=None,\n",
       "                                                      reg_alpha=None,\n",
       "                                                      reg_lambda=None,\n",
       "                                                      scale_pos_weight=None,\n",
       "                                                      subsample=None,\n",
       "                                                      tree_method=None,\n",
       "                                                      validate_parameters=None,\n",
       "                                                      verbosity=None))]),\n",
       "             n_jobs=-1,\n",
       "             param_grid={'selectkbest__k': range(1, 217, 20),\n",
       "                         'xgbclassifier__learning_rate': [0.5, 1.0],\n",
       "                         'xgbclassifier__max_depth': [3, 5],\n",
       "                         'xgbclassifier__n_estimators': [10, 15, 20, 25]})"
      ]
     },
     "execution_count": 83,
     "metadata": {},
     "output_type": "execute_result"
    }
   ],
   "source": [
    "pipe2_all_xgb = make_pipeline(SelectKBest(f_classif), StandardScaler(), xgb.XGBClassifier())\n",
    "\n",
    "gs2_all_xgb = GridSearchCV(pipe2_all_xgb, params_all_xgb, n_jobs=-1, cv=3)\n",
    "\n",
    "gs2_all_xgb.fit(X_train_all2, y_train_activity)"
   ]
  },
  {
   "cell_type": "code",
   "execution_count": 84,
   "metadata": {},
   "outputs": [
    {
     "name": "stderr",
     "output_type": "stream",
     "text": [
      "C:\\Users\\eboni\\anaconda3\\lib\\site-packages\\sklearn\\feature_selection\\_univariate_selection.py:114: UserWarning: Features [ 23  51 199] are constant.\n",
      "  warnings.warn(\"Features %s are constant.\" % constant_features_idx,\n",
      "C:\\Users\\eboni\\anaconda3\\lib\\site-packages\\sklearn\\feature_selection\\_univariate_selection.py:116: RuntimeWarning: invalid value encountered in true_divide\n",
      "  f = msb / msw\n"
     ]
    },
    {
     "data": {
      "text/plain": [
       "GridSearchCV(cv=3,\n",
       "             estimator=Pipeline(steps=[('selectkbest', SelectKBest()),\n",
       "                                       ('standardscaler', StandardScaler()),\n",
       "                                       ('xgbclassifier',\n",
       "                                        XGBClassifier(base_score=None,\n",
       "                                                      booster=None,\n",
       "                                                      colsample_bylevel=None,\n",
       "                                                      colsample_bynode=None,\n",
       "                                                      colsample_bytree=None,\n",
       "                                                      gamma=None, gpu_id=None,\n",
       "                                                      importance_type='gain',\n",
       "                                                      interaction_constraints=None,\n",
       "                                                      learning_rate=None,\n",
       "                                                      max_delta_step=None...\n",
       "                                                      n_jobs=None,\n",
       "                                                      num_parallel_tree=None,\n",
       "                                                      random_state=None,\n",
       "                                                      reg_alpha=None,\n",
       "                                                      reg_lambda=None,\n",
       "                                                      scale_pos_weight=None,\n",
       "                                                      subsample=None,\n",
       "                                                      tree_method=None,\n",
       "                                                      validate_parameters=None,\n",
       "                                                      verbosity=None))]),\n",
       "             n_jobs=-1,\n",
       "             param_grid={'selectkbest__k': range(1, 217, 20),\n",
       "                         'xgbclassifier__learning_rate': [0.5, 1.0],\n",
       "                         'xgbclassifier__max_depth': [3, 5],\n",
       "                         'xgbclassifier__n_estimators': [10, 15, 20, 25]})"
      ]
     },
     "execution_count": 84,
     "metadata": {},
     "output_type": "execute_result"
    }
   ],
   "source": [
    "pipe3_all_xgb = make_pipeline(SelectKBest(f_classif), StandardScaler(), xgb.XGBClassifier())\n",
    "\n",
    "gs3_all_xgb = GridSearchCV(pipe3_all_xgb, params_all_xgb, n_jobs=-1, cv=3)\n",
    "\n",
    "gs3_all_xgb.fit(X_train_all3, y_train_health)"
   ]
  },
  {
   "cell_type": "code",
   "execution_count": 85,
   "metadata": {},
   "outputs": [
    {
     "name": "stderr",
     "output_type": "stream",
     "text": [
      "C:\\Users\\eboni\\anaconda3\\lib\\site-packages\\sklearn\\feature_selection\\_univariate_selection.py:114: UserWarning: Features [49] are constant.\n",
      "  warnings.warn(\"Features %s are constant.\" % constant_features_idx,\n",
      "C:\\Users\\eboni\\anaconda3\\lib\\site-packages\\sklearn\\feature_selection\\_univariate_selection.py:116: RuntimeWarning: invalid value encountered in true_divide\n",
      "  f = msb / msw\n"
     ]
    },
    {
     "data": {
      "text/plain": [
       "GridSearchCV(cv=3,\n",
       "             estimator=Pipeline(steps=[('selectkbest', SelectKBest()),\n",
       "                                       ('standardscaler', StandardScaler()),\n",
       "                                       ('xgbclassifier',\n",
       "                                        XGBClassifier(base_score=None,\n",
       "                                                      booster=None,\n",
       "                                                      colsample_bylevel=None,\n",
       "                                                      colsample_bynode=None,\n",
       "                                                      colsample_bytree=None,\n",
       "                                                      gamma=None, gpu_id=None,\n",
       "                                                      importance_type='gain',\n",
       "                                                      interaction_constraints=None,\n",
       "                                                      learning_rate=None,\n",
       "                                                      max_delta_step=None...\n",
       "                                                      n_jobs=None,\n",
       "                                                      num_parallel_tree=None,\n",
       "                                                      random_state=None,\n",
       "                                                      reg_alpha=None,\n",
       "                                                      reg_lambda=None,\n",
       "                                                      scale_pos_weight=None,\n",
       "                                                      subsample=None,\n",
       "                                                      tree_method=None,\n",
       "                                                      validate_parameters=None,\n",
       "                                                      verbosity=None))]),\n",
       "             n_jobs=-1,\n",
       "             param_grid={'selectkbest__k': range(1, 217, 20),\n",
       "                         'xgbclassifier__learning_rate': [0.5, 1.0],\n",
       "                         'xgbclassifier__max_depth': [3, 5],\n",
       "                         'xgbclassifier__n_estimators': [10, 15, 20, 25]})"
      ]
     },
     "execution_count": 85,
     "metadata": {},
     "output_type": "execute_result"
    }
   ],
   "source": [
    "pipe4_all_xgb = make_pipeline(SelectKBest(f_classif), StandardScaler(), xgb.XGBClassifier())\n",
    "\n",
    "gs4_all_xgb = GridSearchCV(pipe4_all_xgb, params_all_xgb, n_jobs=-1, cv=3)\n",
    "\n",
    "gs4_all_xgb.fit(X_train_all4, y_train_smoker)"
   ]
  },
  {
   "cell_type": "code",
   "execution_count": 86,
   "metadata": {},
   "outputs": [],
   "source": [
    "tobacco_all_xgb_preds = gs_all_xgb.predict(X_test_all)\n",
    "activity_all_xgb_preds = gs2_all_xgb.predict(X_test_all2)\n",
    "health_all_xgb_preds = gs3_all_xgb.predict(X_test_all3)\n",
    "smoker_all_xgb_preds = gs4_all_xgb.predict(X_test_all4)\n",
    "\n",
    "tobacco_all_xgb_prec = precision_score(y_test_tobacco, tobacco_all_xgb_preds, average='micro')\n",
    "activity_all_xgb_prec = precision_score(y_test_activity, activity_all_xgb_preds, average='micro')\n",
    "health_all_xgb_prec = precision_score(y_test_health, health_all_xgb_preds, average='micro')\n",
    "smoker_all_xgb_prec = precision_score(y_test_smoker, smoker_all_xgb_preds, average='micro')"
   ]
  },
  {
   "cell_type": "code",
   "execution_count": 87,
   "metadata": {},
   "outputs": [
    {
     "name": "stdout",
     "output_type": "stream",
     "text": [
      " training accuracy for tobacco: 0.9965448582806278\n",
      " training accuracy for activity: 0.9462275948311797\n",
      " training accuracy for health: 0.9704570791527313\n",
      " training accuracy for smoker: 0.8524818982814272\n"
     ]
    }
   ],
   "source": [
    "print(f' training accuracy for tobacco: {gs_all_xgb.score(X_train_all, y_train_tobacco)}')\n",
    "print(f' training accuracy for activity: {gs2_all_xgb.score(X_train_all2, y_train_activity)}')\n",
    "print(f' training accuracy for health: {gs3_all_xgb.score(X_train_all3, y_train_health)}')\n",
    "print(f' training accuracy for smoker: {gs4_all_xgb.score(X_train_all4, y_train_smoker)}')"
   ]
  },
  {
   "cell_type": "code",
   "execution_count": 88,
   "metadata": {},
   "outputs": [
    {
     "name": "stdout",
     "output_type": "stream",
     "text": [
      " testing accuracy for tobacco: 0.988756148981026\n",
      " testing accuracy for activity: 0.8837136605189122\n",
      " testing accuracy for health: 0.9280936454849499\n",
      " testing accuracy for smoker: 0.7192569335426479\n"
     ]
    }
   ],
   "source": [
    "print(f' testing accuracy for tobacco: {gs_all_xgb.score(X_test_all, y_test_tobacco)}')\n",
    "print(f' testing accuracy for activity: {gs2_all_xgb.score(X_test_all2, y_test_activity)}')\n",
    "print(f' testing accuracy for health: {gs3_all_xgb.score(X_test_all3, y_test_health)}')\n",
    "print(f' testing accuracy for smoker: {gs4_all_xgb.score(X_test_all4, y_test_smoker)}')"
   ]
  },
  {
   "cell_type": "code",
   "execution_count": 89,
   "metadata": {},
   "outputs": [
    {
     "name": "stdout",
     "output_type": "stream",
     "text": [
      "Precision for tobacco: 0.988756148981026\n",
      "Precision for activity: 0.8837136605189122\n",
      "Precision for health: 0.9280936454849499\n",
      "Precision for smoker: 0.7192569335426479\n"
     ]
    }
   ],
   "source": [
    "print(f'Precision for tobacco: {tobacco_all_xgb_prec}')\n",
    "print(f'Precision for activity: {activity_all_xgb_prec}')\n",
    "print(f'Precision for health: {health_all_xgb_prec}')\n",
    "print(f'Precision for smoker: {smoker_all_xgb_prec}')"
   ]
  },
  {
   "cell_type": "code",
   "execution_count": 90,
   "metadata": {},
   "outputs": [
    {
     "name": "stdout",
     "output_type": "stream",
     "text": [
      "{'selectkbest__k': 121, 'xgbclassifier__learning_rate': 1.0, 'xgbclassifier__max_depth': 5, 'xgbclassifier__n_estimators': 25}\n",
      "{'selectkbest__k': 81, 'xgbclassifier__learning_rate': 1.0, 'xgbclassifier__max_depth': 5, 'xgbclassifier__n_estimators': 25}\n",
      "{'selectkbest__k': 161, 'xgbclassifier__learning_rate': 1.0, 'xgbclassifier__max_depth': 5, 'xgbclassifier__n_estimators': 25}\n",
      "{'selectkbest__k': 61, 'xgbclassifier__learning_rate': 1.0, 'xgbclassifier__max_depth': 5, 'xgbclassifier__n_estimators': 25}\n"
     ]
    }
   ],
   "source": [
    "print(gs_all_xgb.best_params_)\n",
    "print(gs2_all_xgb.best_params_)\n",
    "print(gs3_all_xgb.best_params_)\n",
    "print(gs4_all_xgb.best_params_)"
   ]
  },
  {
   "cell_type": "code",
   "execution_count": null,
   "metadata": {},
   "outputs": [],
   "source": []
  }
 ],
 "metadata": {
  "kernelspec": {
   "display_name": "Python 3",
   "language": "python",
   "name": "python3"
  },
  "language_info": {
   "codemirror_mode": {
    "name": "ipython",
    "version": 3
   },
   "file_extension": ".py",
   "mimetype": "text/x-python",
   "name": "python",
   "nbconvert_exporter": "python",
   "pygments_lexer": "ipython3",
   "version": "3.8.3"
  }
 },
 "nbformat": 4,
 "nbformat_minor": 4
}
